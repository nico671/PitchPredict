{
 "cells": [
  {
   "cell_type": "markdown",
   "metadata": {},
   "source": [
    "# feats using polar yay"
   ]
  },
  {
   "cell_type": "code",
   "execution_count": 19,
   "metadata": {},
   "outputs": [],
   "source": [
    "import polars as pl\n",
    "import yaml\n",
    "from pathlib import Path\n",
    "\n",
    "# pl.set_option(\"display\", False)"
   ]
  },
  {
   "cell_type": "code",
   "execution_count": 20,
   "metadata": {},
   "outputs": [],
   "source": [
    "input_path = Path(\"../data/cleaned/2015_2024_statcast_clean.parquet\")\n",
    "\n",
    "df = pl.read_parquet(input_path)"
   ]
  },
  {
   "cell_type": "code",
   "execution_count": 21,
   "metadata": {},
   "outputs": [
    {
     "data": {
      "text/html": [
       "<div><style>\n",
       ".dataframe > thead > tr,\n",
       ".dataframe > tbody > tr {\n",
       "  text-align: right;\n",
       "  white-space: pre-wrap;\n",
       "}\n",
       "</style>\n",
       "<small>shape: (5, 61)</small><table border=\"1\" class=\"dataframe\"><thead><tr><th>pitch_type</th><th>game_date</th><th>release_speed</th><th>release_pos_x</th><th>release_pos_z</th><th>player_name</th><th>batter</th><th>pitcher</th><th>events</th><th>zone</th><th>stand</th><th>p_throws</th><th>type</th><th>hit_location</th><th>bb_type</th><th>balls</th><th>strikes</th><th>pfx_x</th><th>pfx_z</th><th>plate_x</th><th>plate_z</th><th>on_3b</th><th>on_2b</th><th>on_1b</th><th>outs_when_up</th><th>inning</th><th>inning_topbot</th><th>hc_x</th><th>hc_y</th><th>vx0</th><th>vy0</th><th>vz0</th><th>ax</th><th>ay</th><th>az</th><th>sz_top</th><th>sz_bot</th><th>hit_distance_sc</th><th>launch_speed</th><th>launch_angle</th><th>effective_speed</th><th>release_spin_rate</th><th>release_extension</th><th>game_pk</th><th>release_pos_y</th><th>estimated_ba_using_speedangle</th><th>estimated_woba_using_speedangle</th><th>woba_value</th><th>woba_denom</th><th>babip_value</th><th>iso_value</th><th>launch_speed_angle</th><th>at_bat_number</th><th>pitch_number</th><th>bat_score</th><th>fld_score</th><th>if_fielding_alignment</th><th>of_fielding_alignment</th><th>spin_axis</th><th>bat_speed</th><th>swing_length</th></tr><tr><td>str</td><td>datetime[μs]</td><td>f64</td><td>f64</td><td>f64</td><td>str</td><td>i64</td><td>i64</td><td>str</td><td>f64</td><td>str</td><td>str</td><td>str</td><td>f64</td><td>str</td><td>i64</td><td>i64</td><td>f64</td><td>f64</td><td>f64</td><td>f64</td><td>f64</td><td>f64</td><td>f64</td><td>i64</td><td>i64</td><td>str</td><td>f64</td><td>f64</td><td>f64</td><td>f64</td><td>f64</td><td>f64</td><td>f64</td><td>f64</td><td>f64</td><td>f64</td><td>f64</td><td>f64</td><td>f64</td><td>f64</td><td>f64</td><td>f64</td><td>i64</td><td>f64</td><td>f64</td><td>f64</td><td>f64</td><td>f64</td><td>f64</td><td>f64</td><td>f64</td><td>i64</td><td>i64</td><td>i64</td><td>i64</td><td>str</td><td>str</td><td>f64</td><td>f64</td><td>f64</td></tr></thead><tbody><tr><td>&quot;ST&quot;</td><td>2024-10-20 00:00:00</td><td>78.8</td><td>4.1</td><td>5.27</td><td>&quot;Manaea, Sean&quot;</td><td>571970</td><td>640455</td><td>&quot;walk&quot;</td><td>14.0</td><td>&quot;L&quot;</td><td>&quot;L&quot;</td><td>&quot;B&quot;</td><td>null</td><td>null</td><td>3</td><td>1</td><td>-1.04</td><td>0.07</td><td>1.44</td><td>1.65</td><td>null</td><td>null</td><td>null</td><td>0</td><td>3</td><td>&quot;Bot&quot;</td><td>null</td><td>null</td><td>-3.876776</td><td>-114.790473</td><td>-1.213129</td><td>-8.519711</td><td>20.865706</td><td>-31.531093</td><td>2.99</td><td>1.5</td><td>null</td><td>null</td><td>null</td><td>79.7</td><td>2141.0</td><td>6.8</td><td>775302</td><td>53.72</td><td>null</td><td>0.689131</td><td>0.7</td><td>1.0</td><td>0.0</td><td>0.0</td><td>null</td><td>31</td><td>5</td><td>4</td><td>1</td><td>&quot;Infield shade&quot;</td><td>&quot;Standard&quot;</td><td>294.0</td><td>null</td><td>null</td></tr><tr><td>&quot;CH&quot;</td><td>2024-10-20 00:00:00</td><td>83.9</td><td>4.16</td><td>5.13</td><td>&quot;Manaea, Sean&quot;</td><td>571970</td><td>640455</td><td>null</td><td>13.0</td><td>&quot;L&quot;</td><td>&quot;L&quot;</td><td>&quot;B&quot;</td><td>null</td><td>null</td><td>2</td><td>1</td><td>1.28</td><td>-0.01</td><td>-1.13</td><td>1.32</td><td>null</td><td>null</td><td>null</td><td>0</td><td>3</td><td>&quot;Bot&quot;</td><td>null</td><td>null</td><td>-14.910726</td><td>-121.300964</td><td>-2.306161</td><td>15.532788</td><td>23.944392</td><td>-32.030777</td><td>2.99</td><td>1.4</td><td>null</td><td>null</td><td>null</td><td>84.7</td><td>1835.0</td><td>7.2</td><td>775302</td><td>53.31</td><td>null</td><td>null</td><td>null</td><td>null</td><td>null</td><td>null</td><td>null</td><td>31</td><td>4</td><td>4</td><td>1</td><td>&quot;Infield shade&quot;</td><td>&quot;Standard&quot;</td><td>106.0</td><td>null</td><td>null</td></tr><tr><td>&quot;SI&quot;</td><td>2024-10-20 00:00:00</td><td>91.9</td><td>4.03</td><td>4.97</td><td>&quot;Manaea, Sean&quot;</td><td>571970</td><td>640455</td><td>null</td><td>13.0</td><td>&quot;L&quot;</td><td>&quot;L&quot;</td><td>&quot;B&quot;</td><td>null</td><td>null</td><td>1</td><td>1</td><td>1.16</td><td>0.76</td><td>-0.93</td><td>2.17</td><td>null</td><td>null</td><td>null</td><td>0</td><td>3</td><td>&quot;Bot&quot;</td><td>null</td><td>null</td><td>-15.210428</td><td>-132.944842</td><td>-2.837582</td><td>16.955867</td><td>27.981449</td><td>-22.734943</td><td>2.99</td><td>1.53</td><td>null</td><td>null</td><td>null</td><td>92.7</td><td>2131.0</td><td>7.0</td><td>775302</td><td>53.48</td><td>null</td><td>null</td><td>null</td><td>null</td><td>null</td><td>null</td><td>null</td><td>31</td><td>3</td><td>4</td><td>1</td><td>&quot;Infield shade&quot;</td><td>&quot;Standard&quot;</td><td>113.0</td><td>null</td><td>null</td></tr><tr><td>&quot;ST&quot;</td><td>2024-10-20 00:00:00</td><td>80.2</td><td>3.84</td><td>5.31</td><td>&quot;Manaea, Sean&quot;</td><td>571970</td><td>640455</td><td>null</td><td>13.0</td><td>&quot;L&quot;</td><td>&quot;L&quot;</td><td>&quot;B&quot;</td><td>null</td><td>null</td><td>0</td><td>1</td><td>-1.34</td><td>0.15</td><td>-0.86</td><td>1.28</td><td>null</td><td>null</td><td>null</td><td>0</td><td>3</td><td>&quot;Bot&quot;</td><td>null</td><td>null</td><td>-7.987162</td><td>-116.480556</td><td>-2.438514</td><td>-10.452965</td><td>23.959752</td><td>-30.532682</td><td>2.99</td><td>1.35</td><td>null</td><td>null</td><td>null</td><td>81.3</td><td>2117.0</td><td>7.4</td><td>775302</td><td>53.14</td><td>null</td><td>null</td><td>null</td><td>null</td><td>null</td><td>null</td><td>null</td><td>31</td><td>2</td><td>4</td><td>1</td><td>&quot;Infield shade&quot;</td><td>&quot;Standard&quot;</td><td>284.0</td><td>null</td><td>null</td></tr><tr><td>&quot;ST&quot;</td><td>2024-10-20 00:00:00</td><td>78.9</td><td>3.89</td><td>5.26</td><td>&quot;Manaea, Sean&quot;</td><td>571970</td><td>640455</td><td>null</td><td>8.0</td><td>&quot;L&quot;</td><td>&quot;L&quot;</td><td>&quot;S&quot;</td><td>null</td><td>null</td><td>0</td><td>0</td><td>-1.57</td><td>0.19</td><td>-0.23</td><td>1.53</td><td>null</td><td>null</td><td>null</td><td>0</td><td>3</td><td>&quot;Bot&quot;</td><td>null</td><td>null</td><td>-6.125394</td><td>-114.782271</td><td>-1.669025</td><td>-12.671426</td><td>21.628193</td><td>-30.380521</td><td>2.99</td><td>1.48</td><td>null</td><td>null</td><td>null</td><td>79.9</td><td>2152.0</td><td>7.0</td><td>775302</td><td>53.45</td><td>null</td><td>null</td><td>null</td><td>null</td><td>null</td><td>null</td><td>null</td><td>31</td><td>1</td><td>4</td><td>1</td><td>&quot;Infield shade&quot;</td><td>&quot;Standard&quot;</td><td>283.0</td><td>null</td><td>null</td></tr></tbody></table></div>"
      ],
      "text/plain": [
       "shape: (5, 61)\n",
       "┌───────────┬───────────┬───────────┬───────────┬───┬───────────┬───────────┬───────────┬──────────┐\n",
       "│ pitch_typ ┆ game_date ┆ release_s ┆ release_p ┆ … ┆ of_fieldi ┆ spin_axis ┆ bat_speed ┆ swing_le │\n",
       "│ e         ┆ ---       ┆ peed      ┆ os_x      ┆   ┆ ng_alignm ┆ ---       ┆ ---       ┆ ngth     │\n",
       "│ ---       ┆ datetime[ ┆ ---       ┆ ---       ┆   ┆ ent       ┆ f64       ┆ f64       ┆ ---      │\n",
       "│ str       ┆ μs]       ┆ f64       ┆ f64       ┆   ┆ ---       ┆           ┆           ┆ f64      │\n",
       "│           ┆           ┆           ┆           ┆   ┆ str       ┆           ┆           ┆          │\n",
       "╞═══════════╪═══════════╪═══════════╪═══════════╪═══╪═══════════╪═══════════╪═══════════╪══════════╡\n",
       "│ ST        ┆ 2024-10-2 ┆ 78.8      ┆ 4.1       ┆ … ┆ Standard  ┆ 294.0     ┆ null      ┆ null     │\n",
       "│           ┆ 0         ┆           ┆           ┆   ┆           ┆           ┆           ┆          │\n",
       "│           ┆ 00:00:00  ┆           ┆           ┆   ┆           ┆           ┆           ┆          │\n",
       "│ CH        ┆ 2024-10-2 ┆ 83.9      ┆ 4.16      ┆ … ┆ Standard  ┆ 106.0     ┆ null      ┆ null     │\n",
       "│           ┆ 0         ┆           ┆           ┆   ┆           ┆           ┆           ┆          │\n",
       "│           ┆ 00:00:00  ┆           ┆           ┆   ┆           ┆           ┆           ┆          │\n",
       "│ SI        ┆ 2024-10-2 ┆ 91.9      ┆ 4.03      ┆ … ┆ Standard  ┆ 113.0     ┆ null      ┆ null     │\n",
       "│           ┆ 0         ┆           ┆           ┆   ┆           ┆           ┆           ┆          │\n",
       "│           ┆ 00:00:00  ┆           ┆           ┆   ┆           ┆           ┆           ┆          │\n",
       "│ ST        ┆ 2024-10-2 ┆ 80.2      ┆ 3.84      ┆ … ┆ Standard  ┆ 284.0     ┆ null      ┆ null     │\n",
       "│           ┆ 0         ┆           ┆           ┆   ┆           ┆           ┆           ┆          │\n",
       "│           ┆ 00:00:00  ┆           ┆           ┆   ┆           ┆           ┆           ┆          │\n",
       "│ ST        ┆ 2024-10-2 ┆ 78.9      ┆ 3.89      ┆ … ┆ Standard  ┆ 283.0     ┆ null      ┆ null     │\n",
       "│           ┆ 0         ┆           ┆           ┆   ┆           ┆           ┆           ┆          │\n",
       "│           ┆ 00:00:00  ┆           ┆           ┆   ┆           ┆           ┆           ┆          │\n",
       "└───────────┴───────────┴───────────┴───────────┴───┴───────────┴───────────┴───────────┴──────────┘"
      ]
     },
     "execution_count": 21,
     "metadata": {},
     "output_type": "execute_result"
    }
   ],
   "source": [
    "df = df.sort(\n",
    "    [\n",
    "        \"game_date\",\n",
    "        \"game_pk\",\n",
    "        \"at_bat_number\",\n",
    "        \"pitch_number\",\n",
    "    ],\n",
    "    descending=[False, False, False, True],\n",
    ")\n",
    "\n",
    "\n",
    "df.head()\n",
    "df.tail()\n"
   ]
  },
  {
   "cell_type": "code",
   "execution_count": null,
   "metadata": {},
   "outputs": [
    {
     "name": "stdout",
     "output_type": "stream",
     "text": [
      "0\n",
      "0\n"
     ]
    }
   ],
   "source": [
    "# print how many pitch_types are null\n",
    "\n",
    "print(len(df.filter(pl.col(\"pitch_type\").is_null())))\n",
    "\n",
    "df = df.drop_nulls(subset=[\"pitch_type\", \"pitcher\", \"batter\"])\n",
    "print(len(df.filter(pl.col(\"pitch_type\").is_null())))"
   ]
  }
 ],
 "metadata": {
  "kernelspec": {
   "display_name": "pitch_predict",
   "language": "python",
   "name": "python3"
  },
  "language_info": {
   "codemirror_mode": {
    "name": "ipython",
    "version": 3
   },
   "file_extension": ".py",
   "mimetype": "text/x-python",
   "name": "python",
   "nbconvert_exporter": "python",
   "pygments_lexer": "ipython3",
   "version": "3.12.7"
  }
 },
 "nbformat": 4,
 "nbformat_minor": 2
}
