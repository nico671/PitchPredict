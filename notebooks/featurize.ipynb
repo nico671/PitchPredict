{
 "cells": [
  {
   "cell_type": "markdown",
   "metadata": {},
   "source": [
    "# feats using polar yay"
   ]
  },
  {
   "cell_type": "code",
   "execution_count": 74,
   "metadata": {},
   "outputs": [],
   "source": [
    "import polars as pl\n",
    "import yaml\n",
    "from pathlib import Path\n",
    "\n",
    "# pl.set_option(\"display\", False)"
   ]
  },
  {
   "cell_type": "code",
   "execution_count": 75,
   "metadata": {},
   "outputs": [],
   "source": [
    "input_path = Path(\"../data/cleaned/2015_2024_statcast_clean.parquet\")\n",
    "\n",
    "df = pl.read_parquet(input_path)"
   ]
  },
  {
   "cell_type": "code",
   "execution_count": 76,
   "metadata": {},
   "outputs": [
    {
     "data": {
      "text/html": [
       "<div><style>\n",
       ".dataframe > thead > tr,\n",
       ".dataframe > tbody > tr {\n",
       "  text-align: right;\n",
       "  white-space: pre-wrap;\n",
       "}\n",
       "</style>\n",
       "<small>shape: (33_492, 62)</small><table border=\"1\" class=\"dataframe\"><thead><tr><th>pitch_type</th><th>game_date</th><th>release_speed</th><th>release_pos_x</th><th>release_pos_z</th><th>player_name</th><th>batter</th><th>pitcher</th><th>events</th><th>zone</th><th>stand</th><th>p_throws</th><th>type</th><th>hit_location</th><th>bb_type</th><th>balls</th><th>strikes</th><th>pfx_x</th><th>pfx_z</th><th>plate_x</th><th>plate_z</th><th>on_3b</th><th>on_2b</th><th>on_1b</th><th>outs_when_up</th><th>inning</th><th>inning_topbot</th><th>hc_x</th><th>hc_y</th><th>vx0</th><th>vy0</th><th>vz0</th><th>ax</th><th>ay</th><th>az</th><th>sz_top</th><th>sz_bot</th><th>hit_distance_sc</th><th>launch_speed</th><th>launch_angle</th><th>effective_speed</th><th>release_spin_rate</th><th>release_extension</th><th>game_pk</th><th>release_pos_y</th><th>estimated_ba_using_speedangle</th><th>estimated_woba_using_speedangle</th><th>woba_value</th><th>woba_denom</th><th>babip_value</th><th>iso_value</th><th>launch_speed_angle</th><th>at_bat_number</th><th>pitch_number</th><th>bat_score</th><th>fld_score</th><th>if_fielding_alignment</th><th>of_fielding_alignment</th><th>spin_axis</th><th>bat_speed</th><th>swing_length</th><th>next_pitch</th></tr><tr><td>i64</td><td>datetime[μs]</td><td>f64</td><td>f64</td><td>f64</td><td>str</td><td>i64</td><td>i64</td><td>i64</td><td>f64</td><td>i64</td><td>i64</td><td>i64</td><td>f64</td><td>i64</td><td>i64</td><td>i64</td><td>f64</td><td>f64</td><td>f64</td><td>f64</td><td>f64</td><td>f64</td><td>f64</td><td>i64</td><td>i64</td><td>i64</td><td>f64</td><td>f64</td><td>f64</td><td>f64</td><td>f64</td><td>f64</td><td>f64</td><td>f64</td><td>f64</td><td>f64</td><td>f64</td><td>f64</td><td>f64</td><td>f64</td><td>f64</td><td>f64</td><td>i64</td><td>f64</td><td>f64</td><td>f64</td><td>f64</td><td>f64</td><td>f64</td><td>f64</td><td>f64</td><td>i64</td><td>i64</td><td>i64</td><td>i64</td><td>i64</td><td>i64</td><td>f64</td><td>f64</td><td>f64</td><td>i64</td></tr></thead><tbody><tr><td>0</td><td>2024-03-16 00:00:00</td><td>86.7</td><td>1.61</td><td>6.32</td><td>&quot;Skubal, Tarik&quot;</td><td>457705</td><td>669373</td><td>0</td><td>12.0</td><td>0</td><td>0</td><td>0</td><td>8.0</td><td>0</td><td>0</td><td>2</td><td>1.35</td><td>0.6</td><td>0.93</td><td>2.69</td><td>-1.0</td><td>-1.0</td><td>-1.0</td><td>0</td><td>1</td><td>0</td><td>109.79</td><td>117.8</td><td>-4.401027</td><td>-126.047957</td><td>-3.624164</td><td>15.246944</td><td>29.139518</td><td>-25.207848</td><td>3.12</td><td>1.57</td><td>174.0</td><td>85.7</td><td>12.0</td><td>86.3</td><td>1782.0</td><td>6.4</td><td>747947</td><td>54.12</td><td>0.66</td><td>-1.0</td><td>0.9</td><td>-1.0</td><td>1.0</td><td>0.0</td><td>4.0</td><td>5</td><td>3</td><td>0</td><td>0</td><td>0</td><td>0</td><td>130.0</td><td>-1.0</td><td>-1.0</td><td>1</td></tr><tr><td>1</td><td>2024-03-16 00:00:00</td><td>97.3</td><td>1.64</td><td>6.32</td><td>&quot;Skubal, Tarik&quot;</td><td>457705</td><td>669373</td><td>-1</td><td>1.0</td><td>0</td><td>0</td><td>1</td><td>-1.0</td><td>-1</td><td>0</td><td>1</td><td>1.32</td><td>1.29</td><td>-0.64</td><td>2.65</td><td>-1.0</td><td>-1.0</td><td>-1.0</td><td>0</td><td>1</td><td>0</td><td>-1.0</td><td>-1.0</td><td>-9.141577</td><td>-141.109845</td><td>-7.176998</td><td>19.856803</td><td>35.767834</td><td>-13.4769</td><td>3.12</td><td>1.57</td><td>-1.0</td><td>-1.0</td><td>-1.0</td><td>96.7</td><td>2123.0</td><td>6.4</td><td>747947</td><td>54.13</td><td>-1.0</td><td>-1.0</td><td>-1.0</td><td>-1.0</td><td>-1.0</td><td>-1.0</td><td>-1.0</td><td>5</td><td>2</td><td>0</td><td>0</td><td>0</td><td>0</td><td>147.0</td><td>-1.0</td><td>-1.0</td><td>2</td></tr><tr><td>2</td><td>2024-03-16 00:00:00</td><td>94.7</td><td>1.62</td><td>6.33</td><td>&quot;Skubal, Tarik&quot;</td><td>457705</td><td>669373</td><td>-1</td><td>6.0</td><td>0</td><td>0</td><td>1</td><td>-1.0</td><td>-1</td><td>0</td><td>0</td><td>0.77</td><td>1.32</td><td>0.43</td><td>2.3</td><td>-1.0</td><td>-1.0</td><td>-1.0</td><td>0</td><td>1</td><td>0</td><td>-1.0</td><td>-1.0</td><td>-4.837722</td><td>-137.649177</td><td>-7.75787</td><td>10.937714</td><td>33.29673</td><td>-13.89737</td><td>3.12</td><td>1.57</td><td>-1.0</td><td>-1.0</td><td>-1.0</td><td>94.5</td><td>2038.0</td><td>6.4</td><td>747947</td><td>54.09</td><td>-1.0</td><td>-1.0</td><td>-1.0</td><td>-1.0</td><td>-1.0</td><td>-1.0</td><td>-1.0</td><td>5</td><td>1</td><td>0</td><td>0</td><td>0</td><td>0</td><td>144.0</td><td>-1.0</td><td>-1.0</td><td>3</td></tr><tr><td>3</td><td>2024-03-16 00:00:00</td><td>79.1</td><td>1.87</td><td>6.32</td><td>&quot;Skubal, Tarik&quot;</td><td>668804</td><td>669373</td><td>1</td><td>8.0</td><td>0</td><td>0</td><td>1</td><td>2.0</td><td>-1</td><td>2</td><td>2</td><td>-0.23</td><td>-0.51</td><td>0.0</td><td>1.71</td><td>-1.0</td><td>-1.0</td><td>457705.0</td><td>0</td><td>1</td><td>0</td><td>-1.0</td><td>-1.0</td><td>-3.633845</td><td>-115.162656</td><td>-2.270099</td><td>-1.257192</td><td>23.623523</td><td>-36.409136</td><td>3.3</td><td>1.67</td><td>-1.0</td><td>-1.0</td><td>-1.0</td><td>78.8</td><td>2219.0</td><td>6.3</td><td>747947</td><td>54.23</td><td>-1.0</td><td>-1.0</td><td>0.0</td><td>-1.0</td><td>0.0</td><td>0.0</td><td>-1.0</td><td>6</td><td>6</td><td>0</td><td>0</td><td>0</td><td>1</td><td>330.0</td><td>-1.0</td><td>-1.0</td><td>2</td></tr><tr><td>2</td><td>2024-03-16 00:00:00</td><td>96.3</td><td>1.78</td><td>6.42</td><td>&quot;Skubal, Tarik&quot;</td><td>668804</td><td>669373</td><td>-1</td><td>12.0</td><td>0</td><td>0</td><td>2</td><td>-1.0</td><td>-1</td><td>1</td><td>2</td><td>0.38</td><td>1.5</td><td>1.36</td><td>4.35</td><td>-1.0</td><td>-1.0</td><td>457705.0</td><td>0</td><td>1</td><td>0</td><td>-1.0</td><td>-1.0</td><td>-1.97334</td><td>-140.109247</td><td>-3.246652</td><td>5.463838</td><td>36.528482</td><td>-11.994099</td><td>3.3</td><td>1.67</td><td>-1.0</td><td>-1.0</td><td>-1.0</td><td>95.5</td><td>2182.0</td><td>6.2</td><td>747947</td><td>54.33</td><td>-1.0</td><td>-1.0</td><td>-1.0</td><td>-1.0</td><td>-1.0</td><td>-1.0</td><td>-1.0</td><td>6</td><td>5</td><td>0</td><td>0</td><td>0</td><td>1</td><td>147.0</td><td>-1.0</td><td>-1.0</td><td>2</td></tr><tr><td>&hellip;</td><td>&hellip;</td><td>&hellip;</td><td>&hellip;</td><td>&hellip;</td><td>&hellip;</td><td>&hellip;</td><td>&hellip;</td><td>&hellip;</td><td>&hellip;</td><td>&hellip;</td><td>&hellip;</td><td>&hellip;</td><td>&hellip;</td><td>&hellip;</td><td>&hellip;</td><td>&hellip;</td><td>&hellip;</td><td>&hellip;</td><td>&hellip;</td><td>&hellip;</td><td>&hellip;</td><td>&hellip;</td><td>&hellip;</td><td>&hellip;</td><td>&hellip;</td><td>&hellip;</td><td>&hellip;</td><td>&hellip;</td><td>&hellip;</td><td>&hellip;</td><td>&hellip;</td><td>&hellip;</td><td>&hellip;</td><td>&hellip;</td><td>&hellip;</td><td>&hellip;</td><td>&hellip;</td><td>&hellip;</td><td>&hellip;</td><td>&hellip;</td><td>&hellip;</td><td>&hellip;</td><td>&hellip;</td><td>&hellip;</td><td>&hellip;</td><td>&hellip;</td><td>&hellip;</td><td>&hellip;</td><td>&hellip;</td><td>&hellip;</td><td>&hellip;</td><td>&hellip;</td><td>&hellip;</td><td>&hellip;</td><td>&hellip;</td><td>&hellip;</td><td>&hellip;</td><td>&hellip;</td><td>&hellip;</td><td>&hellip;</td><td>&hellip;</td></tr><tr><td>0</td><td>2024-10-20 00:00:00</td><td>82.2</td><td>4.03</td><td>5.2</td><td>&quot;Manaea, Sean&quot;</td><td>669242</td><td>640455</td><td>-1</td><td>6.0</td><td>0</td><td>0</td><td>1</td><td>-1.0</td><td>-1</td><td>0</td><td>0</td><td>1.19</td><td>0.21</td><td>0.4</td><td>2.17</td><td>-1.0</td><td>-1.0</td><td>606192.0</td><td>0</td><td>3</td><td>0</td><td>-1.0</td><td>-1.0</td><td>-10.620207</td><td>-119.311478</td><td>-0.712593</td><td>13.38854</td><td>22.522333</td><td>-30.227132</td><td>3.27</td><td>1.5</td><td>3.0</td><td>76.0</td><td>-39.0</td><td>83.0</td><td>1823.0</td><td>6.9</td><td>775302</td><td>53.59</td><td>-1.0</td><td>-1.0</td><td>-1.0</td><td>-1.0</td><td>-1.0</td><td>-1.0</td><td>-1.0</td><td>30</td><td>1</td><td>2</td><td>1</td><td>0</td><td>0</td><td>108.0</td><td>79.3581</td><td>8.06376</td><td>7</td></tr><tr><td>7</td><td>2024-10-20 00:00:00</td><td>78.8</td><td>4.1</td><td>5.27</td><td>&quot;Manaea, Sean&quot;</td><td>571970</td><td>640455</td><td>4</td><td>14.0</td><td>1</td><td>0</td><td>2</td><td>-1.0</td><td>-1</td><td>3</td><td>1</td><td>-1.04</td><td>0.07</td><td>1.44</td><td>1.65</td><td>-1.0</td><td>-1.0</td><td>-1.0</td><td>0</td><td>3</td><td>0</td><td>-1.0</td><td>-1.0</td><td>-3.876776</td><td>-114.790473</td><td>-1.213129</td><td>-8.519711</td><td>20.865706</td><td>-31.531093</td><td>2.99</td><td>1.5</td><td>-1.0</td><td>-1.0</td><td>-1.0</td><td>79.7</td><td>2141.0</td><td>6.8</td><td>775302</td><td>53.72</td><td>-1.0</td><td>0.689131</td><td>0.7</td><td>1.0</td><td>0.0</td><td>0.0</td><td>-1.0</td><td>31</td><td>5</td><td>4</td><td>1</td><td>2</td><td>0</td><td>294.0</td><td>-1.0</td><td>-1.0</td><td>0</td></tr><tr><td>0</td><td>2024-10-20 00:00:00</td><td>83.9</td><td>4.16</td><td>5.13</td><td>&quot;Manaea, Sean&quot;</td><td>571970</td><td>640455</td><td>-1</td><td>13.0</td><td>1</td><td>0</td><td>2</td><td>-1.0</td><td>-1</td><td>2</td><td>1</td><td>1.28</td><td>-0.01</td><td>-1.13</td><td>1.32</td><td>-1.0</td><td>-1.0</td><td>-1.0</td><td>0</td><td>3</td><td>0</td><td>-1.0</td><td>-1.0</td><td>-14.910726</td><td>-121.300964</td><td>-2.306161</td><td>15.532788</td><td>23.944392</td><td>-32.030777</td><td>2.99</td><td>1.4</td><td>-1.0</td><td>-1.0</td><td>-1.0</td><td>84.7</td><td>1835.0</td><td>7.2</td><td>775302</td><td>53.31</td><td>-1.0</td><td>-1.0</td><td>-1.0</td><td>-1.0</td><td>-1.0</td><td>-1.0</td><td>-1.0</td><td>31</td><td>4</td><td>4</td><td>1</td><td>2</td><td>0</td><td>106.0</td><td>-1.0</td><td>-1.0</td><td>1</td></tr><tr><td>1</td><td>2024-10-20 00:00:00</td><td>91.9</td><td>4.03</td><td>4.97</td><td>&quot;Manaea, Sean&quot;</td><td>571970</td><td>640455</td><td>-1</td><td>13.0</td><td>1</td><td>0</td><td>2</td><td>-1.0</td><td>-1</td><td>1</td><td>1</td><td>1.16</td><td>0.76</td><td>-0.93</td><td>2.17</td><td>-1.0</td><td>-1.0</td><td>-1.0</td><td>0</td><td>3</td><td>0</td><td>-1.0</td><td>-1.0</td><td>-15.210428</td><td>-132.944842</td><td>-2.837582</td><td>16.955867</td><td>27.981449</td><td>-22.734943</td><td>2.99</td><td>1.53</td><td>-1.0</td><td>-1.0</td><td>-1.0</td><td>92.7</td><td>2131.0</td><td>7.0</td><td>775302</td><td>53.48</td><td>-1.0</td><td>-1.0</td><td>-1.0</td><td>-1.0</td><td>-1.0</td><td>-1.0</td><td>-1.0</td><td>31</td><td>3</td><td>4</td><td>1</td><td>2</td><td>0</td><td>113.0</td><td>-1.0</td><td>-1.0</td><td>7</td></tr><tr><td>7</td><td>2024-10-20 00:00:00</td><td>80.2</td><td>3.84</td><td>5.31</td><td>&quot;Manaea, Sean&quot;</td><td>571970</td><td>640455</td><td>-1</td><td>13.0</td><td>1</td><td>0</td><td>2</td><td>-1.0</td><td>-1</td><td>0</td><td>1</td><td>-1.34</td><td>0.15</td><td>-0.86</td><td>1.28</td><td>-1.0</td><td>-1.0</td><td>-1.0</td><td>0</td><td>3</td><td>0</td><td>-1.0</td><td>-1.0</td><td>-7.987162</td><td>-116.480556</td><td>-2.438514</td><td>-10.452965</td><td>23.959752</td><td>-30.532682</td><td>2.99</td><td>1.35</td><td>-1.0</td><td>-1.0</td><td>-1.0</td><td>81.3</td><td>2117.0</td><td>7.4</td><td>775302</td><td>53.14</td><td>-1.0</td><td>-1.0</td><td>-1.0</td><td>-1.0</td><td>-1.0</td><td>-1.0</td><td>-1.0</td><td>31</td><td>2</td><td>4</td><td>1</td><td>2</td><td>0</td><td>284.0</td><td>-1.0</td><td>-1.0</td><td>7</td></tr></tbody></table></div>"
      ],
      "text/plain": [
       "shape: (33_492, 62)\n",
       "┌───────────┬───────────┬───────────┬───────────┬───┬───────────┬───────────┬───────────┬──────────┐\n",
       "│ pitch_typ ┆ game_date ┆ release_s ┆ release_p ┆ … ┆ spin_axis ┆ bat_speed ┆ swing_len ┆ next_pit │\n",
       "│ e         ┆ ---       ┆ peed      ┆ os_x      ┆   ┆ ---       ┆ ---       ┆ gth       ┆ ch       │\n",
       "│ ---       ┆ datetime[ ┆ ---       ┆ ---       ┆   ┆ f64       ┆ f64       ┆ ---       ┆ ---      │\n",
       "│ i64       ┆ μs]       ┆ f64       ┆ f64       ┆   ┆           ┆           ┆ f64       ┆ i64      │\n",
       "╞═══════════╪═══════════╪═══════════╪═══════════╪═══╪═══════════╪═══════════╪═══════════╪══════════╡\n",
       "│ 0         ┆ 2024-03-1 ┆ 86.7      ┆ 1.61      ┆ … ┆ 130.0     ┆ -1.0      ┆ -1.0      ┆ 1        │\n",
       "│           ┆ 6         ┆           ┆           ┆   ┆           ┆           ┆           ┆          │\n",
       "│           ┆ 00:00:00  ┆           ┆           ┆   ┆           ┆           ┆           ┆          │\n",
       "│ 1         ┆ 2024-03-1 ┆ 97.3      ┆ 1.64      ┆ … ┆ 147.0     ┆ -1.0      ┆ -1.0      ┆ 2        │\n",
       "│           ┆ 6         ┆           ┆           ┆   ┆           ┆           ┆           ┆          │\n",
       "│           ┆ 00:00:00  ┆           ┆           ┆   ┆           ┆           ┆           ┆          │\n",
       "│ 2         ┆ 2024-03-1 ┆ 94.7      ┆ 1.62      ┆ … ┆ 144.0     ┆ -1.0      ┆ -1.0      ┆ 3        │\n",
       "│           ┆ 6         ┆           ┆           ┆   ┆           ┆           ┆           ┆          │\n",
       "│           ┆ 00:00:00  ┆           ┆           ┆   ┆           ┆           ┆           ┆          │\n",
       "│ 3         ┆ 2024-03-1 ┆ 79.1      ┆ 1.87      ┆ … ┆ 330.0     ┆ -1.0      ┆ -1.0      ┆ 2        │\n",
       "│           ┆ 6         ┆           ┆           ┆   ┆           ┆           ┆           ┆          │\n",
       "│           ┆ 00:00:00  ┆           ┆           ┆   ┆           ┆           ┆           ┆          │\n",
       "│ 2         ┆ 2024-03-1 ┆ 96.3      ┆ 1.78      ┆ … ┆ 147.0     ┆ -1.0      ┆ -1.0      ┆ 2        │\n",
       "│           ┆ 6         ┆           ┆           ┆   ┆           ┆           ┆           ┆          │\n",
       "│           ┆ 00:00:00  ┆           ┆           ┆   ┆           ┆           ┆           ┆          │\n",
       "│ …         ┆ …         ┆ …         ┆ …         ┆ … ┆ …         ┆ …         ┆ …         ┆ …        │\n",
       "│ 0         ┆ 2024-10-2 ┆ 82.2      ┆ 4.03      ┆ … ┆ 108.0     ┆ 79.3581   ┆ 8.06376   ┆ 7        │\n",
       "│           ┆ 0         ┆           ┆           ┆   ┆           ┆           ┆           ┆          │\n",
       "│           ┆ 00:00:00  ┆           ┆           ┆   ┆           ┆           ┆           ┆          │\n",
       "│ 7         ┆ 2024-10-2 ┆ 78.8      ┆ 4.1       ┆ … ┆ 294.0     ┆ -1.0      ┆ -1.0      ┆ 0        │\n",
       "│           ┆ 0         ┆           ┆           ┆   ┆           ┆           ┆           ┆          │\n",
       "│           ┆ 00:00:00  ┆           ┆           ┆   ┆           ┆           ┆           ┆          │\n",
       "│ 0         ┆ 2024-10-2 ┆ 83.9      ┆ 4.16      ┆ … ┆ 106.0     ┆ -1.0      ┆ -1.0      ┆ 1        │\n",
       "│           ┆ 0         ┆           ┆           ┆   ┆           ┆           ┆           ┆          │\n",
       "│           ┆ 00:00:00  ┆           ┆           ┆   ┆           ┆           ┆           ┆          │\n",
       "│ 1         ┆ 2024-10-2 ┆ 91.9      ┆ 4.03      ┆ … ┆ 113.0     ┆ -1.0      ┆ -1.0      ┆ 7        │\n",
       "│           ┆ 0         ┆           ┆           ┆   ┆           ┆           ┆           ┆          │\n",
       "│           ┆ 00:00:00  ┆           ┆           ┆   ┆           ┆           ┆           ┆          │\n",
       "│ 7         ┆ 2024-10-2 ┆ 80.2      ┆ 3.84      ┆ … ┆ 284.0     ┆ -1.0      ┆ -1.0      ┆ 7        │\n",
       "│           ┆ 0         ┆           ┆           ┆   ┆           ┆           ┆           ┆          │\n",
       "│           ┆ 00:00:00  ┆           ┆           ┆   ┆           ┆           ┆           ┆          │\n",
       "└───────────┴───────────┴───────────┴───────────┴───┴───────────┴───────────┴───────────┴──────────┘"
      ]
     },
     "execution_count": 76,
     "metadata": {},
     "output_type": "execute_result"
    }
   ],
   "source": [
    "df = df.sort(\n",
    "    [\n",
    "        \"game_date\",\n",
    "        \"game_pk\",\n",
    "        \"at_bat_number\",\n",
    "        \"pitch_number\",\n",
    "    ],\n",
    "    descending=[False, False, False, True],\n",
    ")\n",
    "\n",
    "\n",
    "df.head()\n",
    "\n",
    "df = df.with_columns(\n",
    "    df.select(\n",
    "        pl.col(pl.String).exclude([\"player_name\"]).cast(pl.Categorical).to_physical()\n",
    "    ),\n",
    ")\n",
    "\n",
    "df\n",
    "df = df.fill_null(-1)\n",
    "df = df.sort(\n",
    "    [\n",
    "        \"game_date\",\n",
    "        \"game_pk\",\n",
    "        \"at_bat_number\",\n",
    "        \"pitch_number\",\n",
    "    ],\n",
    "    descending=[False, False, False, True],\n",
    ")\n",
    "\n",
    "df = df.with_columns(\n",
    "    df.select(pl.col(\"pitch_type\").shift(-1).alias(\"next_pitch\")),\n",
    ").drop_nulls(\"next_pitch\")\n",
    "\n",
    "df"
   ]
  },
  {
   "cell_type": "code",
   "execution_count": 77,
   "metadata": {},
   "outputs": [
    {
     "data": {
      "text/plain": [
       "['pitch_type',\n",
       " 'game_date',\n",
       " 'release_speed',\n",
       " 'release_pos_x',\n",
       " 'release_pos_z',\n",
       " 'player_name',\n",
       " 'batter',\n",
       " 'pitcher',\n",
       " 'events',\n",
       " 'zone',\n",
       " 'stand',\n",
       " 'p_throws',\n",
       " 'type',\n",
       " 'hit_location',\n",
       " 'bb_type',\n",
       " 'balls',\n",
       " 'strikes',\n",
       " 'pfx_x',\n",
       " 'pfx_z',\n",
       " 'plate_x',\n",
       " 'plate_z',\n",
       " 'on_3b',\n",
       " 'on_2b',\n",
       " 'on_1b',\n",
       " 'outs_when_up',\n",
       " 'inning',\n",
       " 'inning_topbot',\n",
       " 'hc_x',\n",
       " 'hc_y',\n",
       " 'vx0',\n",
       " 'vy0',\n",
       " 'vz0',\n",
       " 'ax',\n",
       " 'ay',\n",
       " 'az',\n",
       " 'sz_top',\n",
       " 'sz_bot',\n",
       " 'hit_distance_sc',\n",
       " 'launch_speed',\n",
       " 'launch_angle',\n",
       " 'effective_speed',\n",
       " 'release_spin_rate',\n",
       " 'release_extension',\n",
       " 'game_pk',\n",
       " 'release_pos_y',\n",
       " 'estimated_ba_using_speedangle',\n",
       " 'estimated_woba_using_speedangle',\n",
       " 'woba_value',\n",
       " 'woba_denom',\n",
       " 'babip_value',\n",
       " 'iso_value',\n",
       " 'launch_speed_angle',\n",
       " 'at_bat_number',\n",
       " 'pitch_number',\n",
       " 'if_fielding_alignment',\n",
       " 'of_fielding_alignment',\n",
       " 'spin_axis',\n",
       " 'bat_speed',\n",
       " 'swing_length',\n",
       " 'next_pitch',\n",
       " 'run_diff']"
      ]
     },
     "execution_count": 77,
     "metadata": {},
     "output_type": "execute_result"
    }
   ],
   "source": [
    "# [ 'run_diff', 'base_state']\n",
    "\n",
    "\n",
    "df = df.with_columns(\n",
    "    (pl.col(\"fld_score\") - pl.col(\"bat_score\")).alias(\"run_diff\").cast(pl.Int32),\n",
    ")\n",
    "\n",
    "df = df.drop([\"fld_score\", \"bat_score\"])\n",
    "df.columns\n"
   ]
  },
  {
   "cell_type": "code",
   "execution_count": 78,
   "metadata": {},
   "outputs": [
    {
     "ename": "ColumnNotFoundError",
     "evalue": "on_1b\n\nResolved plan until failure:\n\n\t---> FAILED HERE RESOLVING 'select' <---\nDF []; PROJECT */0 COLUMNS; SELECTION: None",
     "output_type": "error",
     "traceback": [
      "\u001b[0;31m---------------------------------------------------------------------------\u001b[0m",
      "\u001b[0;31mColumnNotFoundError\u001b[0m                       Traceback (most recent call last)",
      "Cell \u001b[0;32mIn[78], line 2\u001b[0m\n\u001b[1;32m      1\u001b[0m df \u001b[38;5;241m=\u001b[39m df\u001b[38;5;241m.\u001b[39mwith_columns(\n\u001b[0;32m----> 2\u001b[0m     \u001b[43mpl\u001b[49m\u001b[38;5;241;43m.\u001b[39;49m\u001b[43mselect\u001b[49m\u001b[43m(\u001b[49m\u001b[43mpl\u001b[49m\u001b[38;5;241;43m.\u001b[39;49m\u001b[43mcol\u001b[49m\u001b[43m(\u001b[49m\u001b[38;5;124;43m\"\u001b[39;49m\u001b[38;5;124;43mon_1b\u001b[39;49m\u001b[38;5;124;43m\"\u001b[39;49m\u001b[43m)\u001b[49m\u001b[43m,\u001b[49m\u001b[43m \u001b[49m\u001b[43mpl\u001b[49m\u001b[38;5;241;43m.\u001b[39;49m\u001b[43mcol\u001b[49m\u001b[43m(\u001b[49m\u001b[38;5;124;43m\"\u001b[39;49m\u001b[38;5;124;43mon_2b\u001b[39;49m\u001b[38;5;124;43m\"\u001b[39;49m\u001b[43m)\u001b[49m\u001b[43m,\u001b[49m\u001b[43m \u001b[49m\u001b[43mpl\u001b[49m\u001b[38;5;241;43m.\u001b[39;49m\u001b[43mcol\u001b[49m\u001b[43m(\u001b[49m\u001b[38;5;124;43m\"\u001b[39;49m\u001b[38;5;124;43mon_3b\u001b[39;49m\u001b[38;5;124;43m\"\u001b[39;49m\u001b[43m)\u001b[49m\u001b[43m)\u001b[49m\u001b[38;5;241m.\u001b[39mmap_rows(\n\u001b[1;32m      3\u001b[0m         \u001b[38;5;28;01mlambda\u001b[39;00m s: \u001b[38;5;241m0\u001b[39m \u001b[38;5;28;01mif\u001b[39;00m s \u001b[38;5;241m==\u001b[39m \u001b[38;5;241m-\u001b[39m\u001b[38;5;241m1\u001b[39m \u001b[38;5;28;01melse\u001b[39;00m \u001b[38;5;241m1\u001b[39m\n\u001b[1;32m      4\u001b[0m     )\n\u001b[1;32m      5\u001b[0m )\n\u001b[1;32m      7\u001b[0m df\n",
      "File \u001b[0;32m~/Documents/dev/PitchPredict/pitch_predict/lib/python3.12/site-packages/polars/functions/lazy.py:1913\u001b[0m, in \u001b[0;36mselect\u001b[0;34m(*exprs, **named_exprs)\u001b[0m\n\u001b[1;32m   1877\u001b[0m \u001b[38;5;28;01mdef\u001b[39;00m \u001b[38;5;21mselect\u001b[39m(\u001b[38;5;241m*\u001b[39mexprs: IntoExpr \u001b[38;5;241m|\u001b[39m Iterable[IntoExpr], \u001b[38;5;241m*\u001b[39m\u001b[38;5;241m*\u001b[39mnamed_exprs: IntoExpr) \u001b[38;5;241m-\u001b[39m\u001b[38;5;241m>\u001b[39m DataFrame:\n\u001b[1;32m   1878\u001b[0m \u001b[38;5;250m    \u001b[39m\u001b[38;5;124;03m\"\"\"\u001b[39;00m\n\u001b[1;32m   1879\u001b[0m \u001b[38;5;124;03m    Run polars expressions without a context.\u001b[39;00m\n\u001b[1;32m   1880\u001b[0m \n\u001b[0;32m   (...)\u001b[0m\n\u001b[1;32m   1911\u001b[0m \u001b[38;5;124;03m    └─────┘\u001b[39;00m\n\u001b[1;32m   1912\u001b[0m \u001b[38;5;124;03m    \"\"\"\u001b[39;00m\n\u001b[0;32m-> 1913\u001b[0m     \u001b[38;5;28;01mreturn\u001b[39;00m \u001b[43mpl\u001b[49m\u001b[38;5;241;43m.\u001b[39;49m\u001b[43mDataFrame\u001b[49m\u001b[43m(\u001b[49m\u001b[43m)\u001b[49m\u001b[38;5;241;43m.\u001b[39;49m\u001b[43mselect\u001b[49m\u001b[43m(\u001b[49m\u001b[38;5;241;43m*\u001b[39;49m\u001b[43mexprs\u001b[49m\u001b[43m,\u001b[49m\u001b[43m \u001b[49m\u001b[38;5;241;43m*\u001b[39;49m\u001b[38;5;241;43m*\u001b[39;49m\u001b[43mnamed_exprs\u001b[49m\u001b[43m)\u001b[49m\n",
      "File \u001b[0;32m~/Documents/dev/PitchPredict/pitch_predict/lib/python3.12/site-packages/polars/dataframe/frame.py:9113\u001b[0m, in \u001b[0;36mDataFrame.select\u001b[0;34m(self, *exprs, **named_exprs)\u001b[0m\n\u001b[1;32m   9013\u001b[0m \u001b[38;5;28;01mdef\u001b[39;00m \u001b[38;5;21mselect\u001b[39m(\n\u001b[1;32m   9014\u001b[0m     \u001b[38;5;28mself\u001b[39m, \u001b[38;5;241m*\u001b[39mexprs: IntoExpr \u001b[38;5;241m|\u001b[39m Iterable[IntoExpr], \u001b[38;5;241m*\u001b[39m\u001b[38;5;241m*\u001b[39mnamed_exprs: IntoExpr\n\u001b[1;32m   9015\u001b[0m ) \u001b[38;5;241m-\u001b[39m\u001b[38;5;241m>\u001b[39m DataFrame:\n\u001b[1;32m   9016\u001b[0m \u001b[38;5;250m    \u001b[39m\u001b[38;5;124;03m\"\"\"\u001b[39;00m\n\u001b[1;32m   9017\u001b[0m \u001b[38;5;124;03m    Select columns from this DataFrame.\u001b[39;00m\n\u001b[1;32m   9018\u001b[0m \n\u001b[0;32m   (...)\u001b[0m\n\u001b[1;32m   9111\u001b[0m \u001b[38;5;124;03m    └──────────────┘\u001b[39;00m\n\u001b[1;32m   9112\u001b[0m \u001b[38;5;124;03m    \"\"\"\u001b[39;00m\n\u001b[0;32m-> 9113\u001b[0m     \u001b[38;5;28;01mreturn\u001b[39;00m \u001b[38;5;28;43mself\u001b[39;49m\u001b[38;5;241;43m.\u001b[39;49m\u001b[43mlazy\u001b[49m\u001b[43m(\u001b[49m\u001b[43m)\u001b[49m\u001b[38;5;241;43m.\u001b[39;49m\u001b[43mselect\u001b[49m\u001b[43m(\u001b[49m\u001b[38;5;241;43m*\u001b[39;49m\u001b[43mexprs\u001b[49m\u001b[43m,\u001b[49m\u001b[43m \u001b[49m\u001b[38;5;241;43m*\u001b[39;49m\u001b[38;5;241;43m*\u001b[39;49m\u001b[43mnamed_exprs\u001b[49m\u001b[43m)\u001b[49m\u001b[38;5;241;43m.\u001b[39;49m\u001b[43mcollect\u001b[49m\u001b[43m(\u001b[49m\u001b[43m_eager\u001b[49m\u001b[38;5;241;43m=\u001b[39;49m\u001b[38;5;28;43;01mTrue\u001b[39;49;00m\u001b[43m)\u001b[49m\n",
      "File \u001b[0;32m~/Documents/dev/PitchPredict/pitch_predict/lib/python3.12/site-packages/polars/lazyframe/frame.py:2029\u001b[0m, in \u001b[0;36mLazyFrame.collect\u001b[0;34m(self, type_coercion, predicate_pushdown, projection_pushdown, simplify_expression, slice_pushdown, comm_subplan_elim, comm_subexpr_elim, cluster_with_columns, collapse_joins, no_optimization, streaming, engine, background, _eager, **_kwargs)\u001b[0m\n\u001b[1;32m   2027\u001b[0m \u001b[38;5;66;03m# Only for testing purposes\u001b[39;00m\n\u001b[1;32m   2028\u001b[0m callback \u001b[38;5;241m=\u001b[39m _kwargs\u001b[38;5;241m.\u001b[39mget(\u001b[38;5;124m\"\u001b[39m\u001b[38;5;124mpost_opt_callback\u001b[39m\u001b[38;5;124m\"\u001b[39m, callback)\n\u001b[0;32m-> 2029\u001b[0m \u001b[38;5;28;01mreturn\u001b[39;00m wrap_df(\u001b[43mldf\u001b[49m\u001b[38;5;241;43m.\u001b[39;49m\u001b[43mcollect\u001b[49m\u001b[43m(\u001b[49m\u001b[43mcallback\u001b[49m\u001b[43m)\u001b[49m)\n",
      "\u001b[0;31mColumnNotFoundError\u001b[0m: on_1b\n\nResolved plan until failure:\n\n\t---> FAILED HERE RESOLVING 'select' <---\nDF []; PROJECT */0 COLUMNS; SELECTION: None"
     ]
    }
   ],
   "source": [
    "df = df.with_columns(\n",
    "    pl.select(pl.col(\"on_1b\"), pl.col(\"on_2b\"), pl.col(\"on_3b\")).map_rows(\n",
    "        lambda s: 0 if s == -1 else 1\n",
    "    )\n",
    ")\n",
    "\n",
    "df"
   ]
  }
 ],
 "metadata": {
  "kernelspec": {
   "display_name": "pitch_predict",
   "language": "python",
   "name": "python3"
  },
  "language_info": {
   "codemirror_mode": {
    "name": "ipython",
    "version": 3
   },
   "file_extension": ".py",
   "mimetype": "text/x-python",
   "name": "python",
   "nbconvert_exporter": "python",
   "pygments_lexer": "ipython3",
   "version": "3.12.7"
  }
 },
 "nbformat": 4,
 "nbformat_minor": 2
}
