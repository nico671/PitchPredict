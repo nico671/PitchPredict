{
 "cells": [
  {
   "cell_type": "markdown",
   "metadata": {},
   "source": [
    "# feats using polar yay"
   ]
  },
  {
   "cell_type": "code",
   "execution_count": 3,
   "metadata": {},
   "outputs": [],
   "source": [
    "import polars as pl\n",
    "import yaml\n",
    "from pathlib import Path\n",
    "\n",
    "# pl.set_option(\"display\", False)"
   ]
  },
  {
   "cell_type": "code",
   "execution_count": 4,
   "metadata": {},
   "outputs": [],
   "source": [
    "input_path = Path(\"../data/cleaned/2015_2024_statcast_clean.parquet\")\n",
    "\n",
    "df = pl.read_parquet(input_path)"
   ]
  },
  {
   "cell_type": "code",
   "execution_count": null,
   "metadata": {},
   "outputs": [
    {
     "data": {
      "text/html": [
       "<div><style>\n",
       ".dataframe > thead > tr,\n",
       ".dataframe > tbody > tr {\n",
       "  text-align: right;\n",
       "  white-space: pre-wrap;\n",
       "}\n",
       "</style>\n",
       "<small>shape: (20, 95)</small><table border=\"1\" class=\"dataframe\"><thead><tr><th>Unnamed: 0</th><th>pitch_type</th><th>game_date</th><th>release_speed</th><th>release_pos_x</th><th>release_pos_z</th><th>player_name</th><th>batter</th><th>pitcher</th><th>events</th><th>description</th><th>spin_dir</th><th>spin_rate_deprecated</th><th>break_angle_deprecated</th><th>break_length_deprecated</th><th>zone</th><th>des</th><th>game_type</th><th>stand</th><th>p_throws</th><th>home_team</th><th>away_team</th><th>type</th><th>hit_location</th><th>bb_type</th><th>balls</th><th>strikes</th><th>game_year</th><th>pfx_x</th><th>pfx_z</th><th>plate_x</th><th>plate_z</th><th>on_3b</th><th>on_2b</th><th>on_1b</th><th>outs_when_up</th><th>inning</th><th>&hellip;</th><th>release_extension</th><th>game_pk</th><th>pitcher.1</th><th>fielder_2.1</th><th>fielder_3</th><th>fielder_4</th><th>fielder_5</th><th>fielder_6</th><th>fielder_7</th><th>fielder_8</th><th>fielder_9</th><th>release_pos_y</th><th>estimated_ba_using_speedangle</th><th>estimated_woba_using_speedangle</th><th>woba_value</th><th>woba_denom</th><th>babip_value</th><th>iso_value</th><th>launch_speed_angle</th><th>at_bat_number</th><th>pitch_number</th><th>pitch_name</th><th>home_score</th><th>away_score</th><th>bat_score</th><th>fld_score</th><th>post_away_score</th><th>post_home_score</th><th>post_bat_score</th><th>post_fld_score</th><th>if_fielding_alignment</th><th>of_fielding_alignment</th><th>spin_axis</th><th>delta_home_win_exp</th><th>delta_run_exp</th><th>bat_speed</th><th>swing_length</th></tr><tr><td>i64</td><td>str</td><td>datetime[μs]</td><td>f64</td><td>f64</td><td>f64</td><td>str</td><td>i64</td><td>i64</td><td>str</td><td>str</td><td>f64</td><td>f64</td><td>f64</td><td>f64</td><td>f64</td><td>str</td><td>str</td><td>str</td><td>str</td><td>str</td><td>str</td><td>str</td><td>f64</td><td>str</td><td>i64</td><td>i64</td><td>i64</td><td>f64</td><td>f64</td><td>f64</td><td>f64</td><td>f64</td><td>f64</td><td>f64</td><td>i64</td><td>i64</td><td>&hellip;</td><td>f64</td><td>i64</td><td>i64</td><td>i64</td><td>i64</td><td>i64</td><td>i64</td><td>i64</td><td>i64</td><td>i64</td><td>i64</td><td>f64</td><td>f64</td><td>f64</td><td>f64</td><td>f64</td><td>f64</td><td>f64</td><td>f64</td><td>i64</td><td>i64</td><td>str</td><td>i64</td><td>i64</td><td>i64</td><td>i64</td><td>i64</td><td>i64</td><td>i64</td><td>i64</td><td>str</td><td>str</td><td>f64</td><td>f64</td><td>f64</td><td>f64</td><td>f64</td></tr></thead><tbody><tr><td>2842</td><td>null</td><td>2024-03-16 00:00:00</td><td>null</td><td>null</td><td>null</td><td>&quot;Peralta, Freddy&quot;</td><td>665750</td><td>642547</td><td>&quot;field_out&quot;</td><td>&quot;hit_into_play&quot;</td><td>null</td><td>null</td><td>null</td><td>null</td><td>null</td><td>&quot;Leody Taveras grounds out, sho…</td><td>&quot;S&quot;</td><td>&quot;L&quot;</td><td>&quot;R&quot;</td><td>&quot;MIL&quot;</td><td>&quot;TEX&quot;</td><td>&quot;X&quot;</td><td>6.0</td><td>&quot;ground_ball&quot;</td><td>1</td><td>2</td><td>2024</td><td>null</td><td>null</td><td>null</td><td>null</td><td>null</td><td>null</td><td>null</td><td>0</td><td>1</td><td>&hellip;</td><td>null</td><td>747933</td><td>642547</td><td>661388</td><td>656555</td><td>668930</td><td>687401</td><td>642715</td><td>686894</td><td>694192</td><td>686217</td><td>null</td><td>null</td><td>null</td><td>0.0</td><td>null</td><td>0.0</td><td>0.0</td><td>null</td><td>1</td><td>5</td><td>null</td><td>0</td><td>0</td><td>0</td><td>0</td><td>0</td><td>0</td><td>0</td><td>0</td><td>null</td><td>null</td><td>null</td><td>0.022</td><td>null</td><td>null</td><td>null</td></tr><tr><td>2985</td><td>null</td><td>2024-03-16 00:00:00</td><td>null</td><td>null</td><td>null</td><td>&quot;Peralta, Freddy&quot;</td><td>665750</td><td>642547</td><td>null</td><td>&quot;foul&quot;</td><td>null</td><td>null</td><td>null</td><td>null</td><td>null</td><td>&quot;Leody Taveras grounds out, sho…</td><td>&quot;S&quot;</td><td>&quot;L&quot;</td><td>&quot;R&quot;</td><td>&quot;MIL&quot;</td><td>&quot;TEX&quot;</td><td>&quot;S&quot;</td><td>null</td><td>null</td><td>1</td><td>2</td><td>2024</td><td>null</td><td>null</td><td>null</td><td>null</td><td>null</td><td>null</td><td>null</td><td>0</td><td>1</td><td>&hellip;</td><td>null</td><td>747933</td><td>642547</td><td>661388</td><td>656555</td><td>668930</td><td>687401</td><td>642715</td><td>686894</td><td>694192</td><td>686217</td><td>null</td><td>null</td><td>null</td><td>null</td><td>null</td><td>null</td><td>null</td><td>null</td><td>1</td><td>4</td><td>null</td><td>0</td><td>0</td><td>0</td><td>0</td><td>0</td><td>0</td><td>0</td><td>0</td><td>null</td><td>null</td><td>null</td><td>0.0</td><td>null</td><td>null</td><td>null</td></tr><tr><td>3239</td><td>null</td><td>2024-03-16 00:00:00</td><td>null</td><td>null</td><td>null</td><td>&quot;Peralta, Freddy&quot;</td><td>665750</td><td>642547</td><td>null</td><td>&quot;ball&quot;</td><td>null</td><td>null</td><td>null</td><td>null</td><td>null</td><td>&quot;Leody Taveras grounds out, sho…</td><td>&quot;S&quot;</td><td>&quot;L&quot;</td><td>&quot;R&quot;</td><td>&quot;MIL&quot;</td><td>&quot;TEX&quot;</td><td>&quot;B&quot;</td><td>null</td><td>null</td><td>0</td><td>2</td><td>2024</td><td>null</td><td>null</td><td>null</td><td>null</td><td>null</td><td>null</td><td>null</td><td>0</td><td>1</td><td>&hellip;</td><td>null</td><td>747933</td><td>642547</td><td>661388</td><td>656555</td><td>668930</td><td>687401</td><td>642715</td><td>686894</td><td>694192</td><td>686217</td><td>null</td><td>null</td><td>null</td><td>null</td><td>null</td><td>null</td><td>null</td><td>null</td><td>1</td><td>3</td><td>null</td><td>0</td><td>0</td><td>0</td><td>0</td><td>0</td><td>0</td><td>0</td><td>0</td><td>null</td><td>null</td><td>null</td><td>0.0</td><td>null</td><td>null</td><td>null</td></tr><tr><td>3306</td><td>null</td><td>2024-03-16 00:00:00</td><td>null</td><td>null</td><td>null</td><td>&quot;Peralta, Freddy&quot;</td><td>665750</td><td>642547</td><td>null</td><td>&quot;swinging_strike&quot;</td><td>null</td><td>null</td><td>null</td><td>null</td><td>null</td><td>&quot;Leody Taveras grounds out, sho…</td><td>&quot;S&quot;</td><td>&quot;L&quot;</td><td>&quot;R&quot;</td><td>&quot;MIL&quot;</td><td>&quot;TEX&quot;</td><td>&quot;S&quot;</td><td>null</td><td>null</td><td>0</td><td>1</td><td>2024</td><td>null</td><td>null</td><td>null</td><td>null</td><td>null</td><td>null</td><td>null</td><td>0</td><td>1</td><td>&hellip;</td><td>null</td><td>747933</td><td>642547</td><td>661388</td><td>656555</td><td>668930</td><td>687401</td><td>642715</td><td>686894</td><td>694192</td><td>686217</td><td>null</td><td>null</td><td>null</td><td>null</td><td>null</td><td>null</td><td>null</td><td>null</td><td>1</td><td>2</td><td>null</td><td>0</td><td>0</td><td>0</td><td>0</td><td>0</td><td>0</td><td>0</td><td>0</td><td>null</td><td>null</td><td>null</td><td>0.0</td><td>null</td><td>null</td><td>null</td></tr><tr><td>3677</td><td>null</td><td>2024-03-16 00:00:00</td><td>null</td><td>null</td><td>null</td><td>&quot;Peralta, Freddy&quot;</td><td>665750</td><td>642547</td><td>null</td><td>&quot;foul&quot;</td><td>null</td><td>null</td><td>null</td><td>null</td><td>null</td><td>&quot;Leody Taveras grounds out, sho…</td><td>&quot;S&quot;</td><td>&quot;L&quot;</td><td>&quot;R&quot;</td><td>&quot;MIL&quot;</td><td>&quot;TEX&quot;</td><td>&quot;S&quot;</td><td>null</td><td>null</td><td>0</td><td>0</td><td>2024</td><td>null</td><td>null</td><td>null</td><td>null</td><td>null</td><td>null</td><td>null</td><td>0</td><td>1</td><td>&hellip;</td><td>null</td><td>747933</td><td>642547</td><td>661388</td><td>656555</td><td>668930</td><td>687401</td><td>642715</td><td>686894</td><td>694192</td><td>686217</td><td>null</td><td>null</td><td>null</td><td>null</td><td>null</td><td>null</td><td>null</td><td>null</td><td>1</td><td>1</td><td>null</td><td>0</td><td>0</td><td>0</td><td>0</td><td>0</td><td>0</td><td>0</td><td>0</td><td>null</td><td>null</td><td>null</td><td>0.0</td><td>null</td><td>null</td><td>null</td></tr><tr><td>&hellip;</td><td>&hellip;</td><td>&hellip;</td><td>&hellip;</td><td>&hellip;</td><td>&hellip;</td><td>&hellip;</td><td>&hellip;</td><td>&hellip;</td><td>&hellip;</td><td>&hellip;</td><td>&hellip;</td><td>&hellip;</td><td>&hellip;</td><td>&hellip;</td><td>&hellip;</td><td>&hellip;</td><td>&hellip;</td><td>&hellip;</td><td>&hellip;</td><td>&hellip;</td><td>&hellip;</td><td>&hellip;</td><td>&hellip;</td><td>&hellip;</td><td>&hellip;</td><td>&hellip;</td><td>&hellip;</td><td>&hellip;</td><td>&hellip;</td><td>&hellip;</td><td>&hellip;</td><td>&hellip;</td><td>&hellip;</td><td>&hellip;</td><td>&hellip;</td><td>&hellip;</td><td>&hellip;</td><td>&hellip;</td><td>&hellip;</td><td>&hellip;</td><td>&hellip;</td><td>&hellip;</td><td>&hellip;</td><td>&hellip;</td><td>&hellip;</td><td>&hellip;</td><td>&hellip;</td><td>&hellip;</td><td>&hellip;</td><td>&hellip;</td><td>&hellip;</td><td>&hellip;</td><td>&hellip;</td><td>&hellip;</td><td>&hellip;</td><td>&hellip;</td><td>&hellip;</td><td>&hellip;</td><td>&hellip;</td><td>&hellip;</td><td>&hellip;</td><td>&hellip;</td><td>&hellip;</td><td>&hellip;</td><td>&hellip;</td><td>&hellip;</td><td>&hellip;</td><td>&hellip;</td><td>&hellip;</td><td>&hellip;</td><td>&hellip;</td><td>&hellip;</td><td>&hellip;</td><td>&hellip;</td></tr><tr><td>1490</td><td>null</td><td>2024-03-16 00:00:00</td><td>null</td><td>null</td><td>null</td><td>&quot;Peralta, Freddy&quot;</td><td>595284</td><td>642547</td><td>null</td><td>&quot;called_strike&quot;</td><td>null</td><td>null</td><td>null</td><td>null</td><td>null</td><td>&quot;Andrew Knapp called out on str…</td><td>&quot;S&quot;</td><td>&quot;L&quot;</td><td>&quot;R&quot;</td><td>&quot;MIL&quot;</td><td>&quot;TEX&quot;</td><td>&quot;S&quot;</td><td>null</td><td>null</td><td>2</td><td>0</td><td>2024</td><td>null</td><td>null</td><td>null</td><td>null</td><td>null</td><td>null</td><td>679822.0</td><td>2</td><td>1</td><td>&hellip;</td><td>null</td><td>747933</td><td>642547</td><td>661388</td><td>656555</td><td>668930</td><td>687401</td><td>642715</td><td>686894</td><td>694192</td><td>686217</td><td>null</td><td>null</td><td>null</td><td>null</td><td>null</td><td>null</td><td>null</td><td>null</td><td>4</td><td>3</td><td>null</td><td>0</td><td>0</td><td>0</td><td>0</td><td>0</td><td>0</td><td>0</td><td>0</td><td>null</td><td>null</td><td>null</td><td>0.0</td><td>null</td><td>null</td><td>null</td></tr><tr><td>1564</td><td>null</td><td>2024-03-16 00:00:00</td><td>null</td><td>null</td><td>null</td><td>&quot;Peralta, Freddy&quot;</td><td>595284</td><td>642547</td><td>null</td><td>&quot;ball&quot;</td><td>null</td><td>null</td><td>null</td><td>null</td><td>null</td><td>&quot;Andrew Knapp called out on str…</td><td>&quot;S&quot;</td><td>&quot;L&quot;</td><td>&quot;R&quot;</td><td>&quot;MIL&quot;</td><td>&quot;TEX&quot;</td><td>&quot;B&quot;</td><td>null</td><td>null</td><td>1</td><td>0</td><td>2024</td><td>null</td><td>null</td><td>null</td><td>null</td><td>null</td><td>null</td><td>679822.0</td><td>2</td><td>1</td><td>&hellip;</td><td>null</td><td>747933</td><td>642547</td><td>661388</td><td>656555</td><td>668930</td><td>687401</td><td>642715</td><td>686894</td><td>694192</td><td>686217</td><td>null</td><td>null</td><td>null</td><td>null</td><td>null</td><td>null</td><td>null</td><td>null</td><td>4</td><td>2</td><td>null</td><td>0</td><td>0</td><td>0</td><td>0</td><td>0</td><td>0</td><td>0</td><td>0</td><td>null</td><td>null</td><td>null</td><td>0.0</td><td>null</td><td>null</td><td>null</td></tr><tr><td>1645</td><td>null</td><td>2024-03-16 00:00:00</td><td>null</td><td>null</td><td>null</td><td>&quot;Peralta, Freddy&quot;</td><td>595284</td><td>642547</td><td>null</td><td>&quot;ball&quot;</td><td>null</td><td>null</td><td>null</td><td>null</td><td>null</td><td>&quot;Andrew Knapp called out on str…</td><td>&quot;S&quot;</td><td>&quot;L&quot;</td><td>&quot;R&quot;</td><td>&quot;MIL&quot;</td><td>&quot;TEX&quot;</td><td>&quot;B&quot;</td><td>null</td><td>null</td><td>0</td><td>0</td><td>2024</td><td>null</td><td>null</td><td>null</td><td>null</td><td>null</td><td>null</td><td>679822.0</td><td>2</td><td>1</td><td>&hellip;</td><td>null</td><td>747933</td><td>642547</td><td>661388</td><td>656555</td><td>668930</td><td>687401</td><td>642715</td><td>686894</td><td>694192</td><td>686217</td><td>null</td><td>null</td><td>null</td><td>null</td><td>null</td><td>null</td><td>null</td><td>null</td><td>4</td><td>1</td><td>null</td><td>0</td><td>0</td><td>0</td><td>0</td><td>0</td><td>0</td><td>0</td><td>0</td><td>null</td><td>null</td><td>null</td><td>0.0</td><td>null</td><td>null</td><td>null</td></tr><tr><td>984</td><td>null</td><td>2024-03-16 00:00:00</td><td>null</td><td>null</td><td>null</td><td>&quot;Peralta, Freddy&quot;</td><td>688760</td><td>642547</td><td>&quot;strikeout&quot;</td><td>&quot;swinging_strike&quot;</td><td>null</td><td>null</td><td>null</td><td>null</td><td>null</td><td>&quot;Blaine Crim strikes out swingi…</td><td>&quot;S&quot;</td><td>&quot;R&quot;</td><td>&quot;R&quot;</td><td>&quot;MIL&quot;</td><td>&quot;TEX&quot;</td><td>&quot;S&quot;</td><td>2.0</td><td>null</td><td>1</td><td>2</td><td>2024</td><td>null</td><td>null</td><td>null</td><td>null</td><td>null</td><td>null</td><td>null</td><td>0</td><td>2</td><td>&hellip;</td><td>null</td><td>747933</td><td>642547</td><td>661388</td><td>656555</td><td>668930</td><td>687401</td><td>642715</td><td>686894</td><td>694192</td><td>686217</td><td>null</td><td>null</td><td>null</td><td>0.0</td><td>null</td><td>0.0</td><td>0.0</td><td>null</td><td>9</td><td>4</td><td>null</td><td>0</td><td>0</td><td>0</td><td>0</td><td>0</td><td>0</td><td>0</td><td>0</td><td>null</td><td>null</td><td>null</td><td>0.023</td><td>null</td><td>null</td><td>null</td></tr><tr><td>1036</td><td>null</td><td>2024-03-16 00:00:00</td><td>null</td><td>null</td><td>null</td><td>&quot;Peralta, Freddy&quot;</td><td>688760</td><td>642547</td><td>null</td><td>&quot;foul&quot;</td><td>null</td><td>null</td><td>null</td><td>null</td><td>null</td><td>&quot;Blaine Crim strikes out swingi…</td><td>&quot;S&quot;</td><td>&quot;R&quot;</td><td>&quot;R&quot;</td><td>&quot;MIL&quot;</td><td>&quot;TEX&quot;</td><td>&quot;S&quot;</td><td>null</td><td>null</td><td>1</td><td>1</td><td>2024</td><td>null</td><td>null</td><td>null</td><td>null</td><td>null</td><td>null</td><td>null</td><td>0</td><td>2</td><td>&hellip;</td><td>null</td><td>747933</td><td>642547</td><td>661388</td><td>656555</td><td>668930</td><td>687401</td><td>642715</td><td>686894</td><td>694192</td><td>686217</td><td>null</td><td>null</td><td>null</td><td>null</td><td>null</td><td>null</td><td>null</td><td>null</td><td>9</td><td>3</td><td>null</td><td>0</td><td>0</td><td>0</td><td>0</td><td>0</td><td>0</td><td>0</td><td>0</td><td>null</td><td>null</td><td>null</td><td>0.0</td><td>null</td><td>null</td><td>null</td></tr></tbody></table></div>"
      ],
      "text/plain": [
       "shape: (20, 95)\n",
       "┌───────────┬───────────┬───────────┬───────────┬───┬───────────┬───────────┬───────────┬──────────┐\n",
       "│ Unnamed:  ┆ pitch_typ ┆ game_date ┆ release_s ┆ … ┆ delta_hom ┆ delta_run ┆ bat_speed ┆ swing_le │\n",
       "│ 0         ┆ e         ┆ ---       ┆ peed      ┆   ┆ e_win_exp ┆ _exp      ┆ ---       ┆ ngth     │\n",
       "│ ---       ┆ ---       ┆ datetime[ ┆ ---       ┆   ┆ ---       ┆ ---       ┆ f64       ┆ ---      │\n",
       "│ i64       ┆ str       ┆ μs]       ┆ f64       ┆   ┆ f64       ┆ f64       ┆           ┆ f64      │\n",
       "╞═══════════╪═══════════╪═══════════╪═══════════╪═══╪═══════════╪═══════════╪═══════════╪══════════╡\n",
       "│ 2842      ┆ null      ┆ 2024-03-1 ┆ null      ┆ … ┆ 0.022     ┆ null      ┆ null      ┆ null     │\n",
       "│           ┆           ┆ 6         ┆           ┆   ┆           ┆           ┆           ┆          │\n",
       "│           ┆           ┆ 00:00:00  ┆           ┆   ┆           ┆           ┆           ┆          │\n",
       "│ 2985      ┆ null      ┆ 2024-03-1 ┆ null      ┆ … ┆ 0.0       ┆ null      ┆ null      ┆ null     │\n",
       "│           ┆           ┆ 6         ┆           ┆   ┆           ┆           ┆           ┆          │\n",
       "│           ┆           ┆ 00:00:00  ┆           ┆   ┆           ┆           ┆           ┆          │\n",
       "│ 3239      ┆ null      ┆ 2024-03-1 ┆ null      ┆ … ┆ 0.0       ┆ null      ┆ null      ┆ null     │\n",
       "│           ┆           ┆ 6         ┆           ┆   ┆           ┆           ┆           ┆          │\n",
       "│           ┆           ┆ 00:00:00  ┆           ┆   ┆           ┆           ┆           ┆          │\n",
       "│ 3306      ┆ null      ┆ 2024-03-1 ┆ null      ┆ … ┆ 0.0       ┆ null      ┆ null      ┆ null     │\n",
       "│           ┆           ┆ 6         ┆           ┆   ┆           ┆           ┆           ┆          │\n",
       "│           ┆           ┆ 00:00:00  ┆           ┆   ┆           ┆           ┆           ┆          │\n",
       "│ 3677      ┆ null      ┆ 2024-03-1 ┆ null      ┆ … ┆ 0.0       ┆ null      ┆ null      ┆ null     │\n",
       "│           ┆           ┆ 6         ┆           ┆   ┆           ┆           ┆           ┆          │\n",
       "│           ┆           ┆ 00:00:00  ┆           ┆   ┆           ┆           ┆           ┆          │\n",
       "│ …         ┆ …         ┆ …         ┆ …         ┆ … ┆ …         ┆ …         ┆ …         ┆ …        │\n",
       "│ 1490      ┆ null      ┆ 2024-03-1 ┆ null      ┆ … ┆ 0.0       ┆ null      ┆ null      ┆ null     │\n",
       "│           ┆           ┆ 6         ┆           ┆   ┆           ┆           ┆           ┆          │\n",
       "│           ┆           ┆ 00:00:00  ┆           ┆   ┆           ┆           ┆           ┆          │\n",
       "│ 1564      ┆ null      ┆ 2024-03-1 ┆ null      ┆ … ┆ 0.0       ┆ null      ┆ null      ┆ null     │\n",
       "│           ┆           ┆ 6         ┆           ┆   ┆           ┆           ┆           ┆          │\n",
       "│           ┆           ┆ 00:00:00  ┆           ┆   ┆           ┆           ┆           ┆          │\n",
       "│ 1645      ┆ null      ┆ 2024-03-1 ┆ null      ┆ … ┆ 0.0       ┆ null      ┆ null      ┆ null     │\n",
       "│           ┆           ┆ 6         ┆           ┆   ┆           ┆           ┆           ┆          │\n",
       "│           ┆           ┆ 00:00:00  ┆           ┆   ┆           ┆           ┆           ┆          │\n",
       "│ 984       ┆ null      ┆ 2024-03-1 ┆ null      ┆ … ┆ 0.023     ┆ null      ┆ null      ┆ null     │\n",
       "│           ┆           ┆ 6         ┆           ┆   ┆           ┆           ┆           ┆          │\n",
       "│           ┆           ┆ 00:00:00  ┆           ┆   ┆           ┆           ┆           ┆          │\n",
       "│ 1036      ┆ null      ┆ 2024-03-1 ┆ null      ┆ … ┆ 0.0       ┆ null      ┆ null      ┆ null     │\n",
       "│           ┆           ┆ 6         ┆           ┆   ┆           ┆           ┆           ┆          │\n",
       "│           ┆           ┆ 00:00:00  ┆           ┆   ┆           ┆           ┆           ┆          │\n",
       "└───────────┴───────────┴───────────┴───────────┴───┴───────────┴───────────┴───────────┴──────────┘"
      ]
     },
     "execution_count": 5,
     "metadata": {},
     "output_type": "execute_result"
    }
   ],
   "source": [
    "df = df.sort(\n",
    "    [\n",
    "        \"game_date\",\n",
    "        \"game_pk\",\n",
    "        \"at_bat_number\",\n",
    "        \"pitch_number\",\n",
    "    ],\n",
    "    descending=[False, False, False, True],\n",
    ")\n",
    "\n",
    "\n",
    "df.head(20)\n"
   ]
  },
  {
   "cell_type": "code",
   "execution_count": 6,
   "metadata": {},
   "outputs": [
    {
     "data": {
      "text/html": [
       "<div><style>\n",
       ".dataframe > thead > tr,\n",
       ".dataframe > tbody > tr {\n",
       "  text-align: right;\n",
       "  white-space: pre-wrap;\n",
       "}\n",
       "</style>\n",
       "<small>shape: (20, 94)</small><table border=\"1\" class=\"dataframe\"><thead><tr><th>pitch_type</th><th>game_date</th><th>release_speed</th><th>release_pos_x</th><th>release_pos_z</th><th>player_name</th><th>batter</th><th>pitcher</th><th>events</th><th>description</th><th>spin_dir</th><th>spin_rate_deprecated</th><th>break_angle_deprecated</th><th>break_length_deprecated</th><th>zone</th><th>des</th><th>game_type</th><th>stand</th><th>p_throws</th><th>home_team</th><th>away_team</th><th>type</th><th>hit_location</th><th>bb_type</th><th>balls</th><th>strikes</th><th>game_year</th><th>pfx_x</th><th>pfx_z</th><th>plate_x</th><th>plate_z</th><th>on_3b</th><th>on_2b</th><th>on_1b</th><th>outs_when_up</th><th>inning</th><th>inning_topbot</th><th>&hellip;</th><th>release_extension</th><th>game_pk</th><th>pitcher.1</th><th>fielder_2.1</th><th>fielder_3</th><th>fielder_4</th><th>fielder_5</th><th>fielder_6</th><th>fielder_7</th><th>fielder_8</th><th>fielder_9</th><th>release_pos_y</th><th>estimated_ba_using_speedangle</th><th>estimated_woba_using_speedangle</th><th>woba_value</th><th>woba_denom</th><th>babip_value</th><th>iso_value</th><th>launch_speed_angle</th><th>at_bat_number</th><th>pitch_number</th><th>pitch_name</th><th>home_score</th><th>away_score</th><th>bat_score</th><th>fld_score</th><th>post_away_score</th><th>post_home_score</th><th>post_bat_score</th><th>post_fld_score</th><th>if_fielding_alignment</th><th>of_fielding_alignment</th><th>spin_axis</th><th>delta_home_win_exp</th><th>delta_run_exp</th><th>bat_speed</th><th>swing_length</th></tr><tr><td>str</td><td>datetime[μs]</td><td>f64</td><td>f64</td><td>f64</td><td>str</td><td>i64</td><td>i64</td><td>str</td><td>str</td><td>f64</td><td>f64</td><td>f64</td><td>f64</td><td>f64</td><td>str</td><td>str</td><td>str</td><td>str</td><td>str</td><td>str</td><td>str</td><td>f64</td><td>str</td><td>i64</td><td>i64</td><td>i64</td><td>f64</td><td>f64</td><td>f64</td><td>f64</td><td>f64</td><td>f64</td><td>f64</td><td>i64</td><td>i64</td><td>str</td><td>&hellip;</td><td>f64</td><td>i64</td><td>i64</td><td>i64</td><td>i64</td><td>i64</td><td>i64</td><td>i64</td><td>i64</td><td>i64</td><td>i64</td><td>f64</td><td>f64</td><td>f64</td><td>f64</td><td>f64</td><td>f64</td><td>f64</td><td>f64</td><td>i64</td><td>i64</td><td>str</td><td>i64</td><td>i64</td><td>i64</td><td>i64</td><td>i64</td><td>i64</td><td>i64</td><td>i64</td><td>str</td><td>str</td><td>f64</td><td>f64</td><td>f64</td><td>f64</td><td>f64</td></tr></thead><tbody><tr><td>null</td><td>2024-03-16 00:00:00</td><td>null</td><td>null</td><td>null</td><td>&quot;Peralta, Freddy&quot;</td><td>665750</td><td>642547</td><td>&quot;field_out&quot;</td><td>&quot;hit_into_play&quot;</td><td>null</td><td>null</td><td>null</td><td>null</td><td>null</td><td>&quot;Leody Taveras grounds out, sho…</td><td>&quot;S&quot;</td><td>&quot;L&quot;</td><td>&quot;R&quot;</td><td>&quot;MIL&quot;</td><td>&quot;TEX&quot;</td><td>&quot;X&quot;</td><td>6.0</td><td>&quot;ground_ball&quot;</td><td>1</td><td>2</td><td>2024</td><td>null</td><td>null</td><td>null</td><td>null</td><td>null</td><td>null</td><td>null</td><td>0</td><td>1</td><td>&quot;Top&quot;</td><td>&hellip;</td><td>null</td><td>747933</td><td>642547</td><td>661388</td><td>656555</td><td>668930</td><td>687401</td><td>642715</td><td>686894</td><td>694192</td><td>686217</td><td>null</td><td>null</td><td>null</td><td>0.0</td><td>null</td><td>0.0</td><td>0.0</td><td>null</td><td>1</td><td>5</td><td>null</td><td>0</td><td>0</td><td>0</td><td>0</td><td>0</td><td>0</td><td>0</td><td>0</td><td>null</td><td>null</td><td>null</td><td>0.022</td><td>null</td><td>null</td><td>null</td></tr><tr><td>null</td><td>2024-03-16 00:00:00</td><td>null</td><td>null</td><td>null</td><td>&quot;Peralta, Freddy&quot;</td><td>665750</td><td>642547</td><td>null</td><td>&quot;foul&quot;</td><td>null</td><td>null</td><td>null</td><td>null</td><td>null</td><td>&quot;Leody Taveras grounds out, sho…</td><td>&quot;S&quot;</td><td>&quot;L&quot;</td><td>&quot;R&quot;</td><td>&quot;MIL&quot;</td><td>&quot;TEX&quot;</td><td>&quot;S&quot;</td><td>null</td><td>null</td><td>1</td><td>2</td><td>2024</td><td>null</td><td>null</td><td>null</td><td>null</td><td>null</td><td>null</td><td>null</td><td>0</td><td>1</td><td>&quot;Top&quot;</td><td>&hellip;</td><td>null</td><td>747933</td><td>642547</td><td>661388</td><td>656555</td><td>668930</td><td>687401</td><td>642715</td><td>686894</td><td>694192</td><td>686217</td><td>null</td><td>null</td><td>null</td><td>null</td><td>null</td><td>null</td><td>null</td><td>null</td><td>1</td><td>4</td><td>null</td><td>0</td><td>0</td><td>0</td><td>0</td><td>0</td><td>0</td><td>0</td><td>0</td><td>null</td><td>null</td><td>null</td><td>0.0</td><td>null</td><td>null</td><td>null</td></tr><tr><td>null</td><td>2024-03-16 00:00:00</td><td>null</td><td>null</td><td>null</td><td>&quot;Peralta, Freddy&quot;</td><td>665750</td><td>642547</td><td>null</td><td>&quot;ball&quot;</td><td>null</td><td>null</td><td>null</td><td>null</td><td>null</td><td>&quot;Leody Taveras grounds out, sho…</td><td>&quot;S&quot;</td><td>&quot;L&quot;</td><td>&quot;R&quot;</td><td>&quot;MIL&quot;</td><td>&quot;TEX&quot;</td><td>&quot;B&quot;</td><td>null</td><td>null</td><td>0</td><td>2</td><td>2024</td><td>null</td><td>null</td><td>null</td><td>null</td><td>null</td><td>null</td><td>null</td><td>0</td><td>1</td><td>&quot;Top&quot;</td><td>&hellip;</td><td>null</td><td>747933</td><td>642547</td><td>661388</td><td>656555</td><td>668930</td><td>687401</td><td>642715</td><td>686894</td><td>694192</td><td>686217</td><td>null</td><td>null</td><td>null</td><td>null</td><td>null</td><td>null</td><td>null</td><td>null</td><td>1</td><td>3</td><td>null</td><td>0</td><td>0</td><td>0</td><td>0</td><td>0</td><td>0</td><td>0</td><td>0</td><td>null</td><td>null</td><td>null</td><td>0.0</td><td>null</td><td>null</td><td>null</td></tr><tr><td>null</td><td>2024-03-16 00:00:00</td><td>null</td><td>null</td><td>null</td><td>&quot;Peralta, Freddy&quot;</td><td>665750</td><td>642547</td><td>null</td><td>&quot;swinging_strike&quot;</td><td>null</td><td>null</td><td>null</td><td>null</td><td>null</td><td>&quot;Leody Taveras grounds out, sho…</td><td>&quot;S&quot;</td><td>&quot;L&quot;</td><td>&quot;R&quot;</td><td>&quot;MIL&quot;</td><td>&quot;TEX&quot;</td><td>&quot;S&quot;</td><td>null</td><td>null</td><td>0</td><td>1</td><td>2024</td><td>null</td><td>null</td><td>null</td><td>null</td><td>null</td><td>null</td><td>null</td><td>0</td><td>1</td><td>&quot;Top&quot;</td><td>&hellip;</td><td>null</td><td>747933</td><td>642547</td><td>661388</td><td>656555</td><td>668930</td><td>687401</td><td>642715</td><td>686894</td><td>694192</td><td>686217</td><td>null</td><td>null</td><td>null</td><td>null</td><td>null</td><td>null</td><td>null</td><td>null</td><td>1</td><td>2</td><td>null</td><td>0</td><td>0</td><td>0</td><td>0</td><td>0</td><td>0</td><td>0</td><td>0</td><td>null</td><td>null</td><td>null</td><td>0.0</td><td>null</td><td>null</td><td>null</td></tr><tr><td>null</td><td>2024-03-16 00:00:00</td><td>null</td><td>null</td><td>null</td><td>&quot;Peralta, Freddy&quot;</td><td>665750</td><td>642547</td><td>null</td><td>&quot;foul&quot;</td><td>null</td><td>null</td><td>null</td><td>null</td><td>null</td><td>&quot;Leody Taveras grounds out, sho…</td><td>&quot;S&quot;</td><td>&quot;L&quot;</td><td>&quot;R&quot;</td><td>&quot;MIL&quot;</td><td>&quot;TEX&quot;</td><td>&quot;S&quot;</td><td>null</td><td>null</td><td>0</td><td>0</td><td>2024</td><td>null</td><td>null</td><td>null</td><td>null</td><td>null</td><td>null</td><td>null</td><td>0</td><td>1</td><td>&quot;Top&quot;</td><td>&hellip;</td><td>null</td><td>747933</td><td>642547</td><td>661388</td><td>656555</td><td>668930</td><td>687401</td><td>642715</td><td>686894</td><td>694192</td><td>686217</td><td>null</td><td>null</td><td>null</td><td>null</td><td>null</td><td>null</td><td>null</td><td>null</td><td>1</td><td>1</td><td>null</td><td>0</td><td>0</td><td>0</td><td>0</td><td>0</td><td>0</td><td>0</td><td>0</td><td>null</td><td>null</td><td>null</td><td>0.0</td><td>null</td><td>null</td><td>null</td></tr><tr><td>&hellip;</td><td>&hellip;</td><td>&hellip;</td><td>&hellip;</td><td>&hellip;</td><td>&hellip;</td><td>&hellip;</td><td>&hellip;</td><td>&hellip;</td><td>&hellip;</td><td>&hellip;</td><td>&hellip;</td><td>&hellip;</td><td>&hellip;</td><td>&hellip;</td><td>&hellip;</td><td>&hellip;</td><td>&hellip;</td><td>&hellip;</td><td>&hellip;</td><td>&hellip;</td><td>&hellip;</td><td>&hellip;</td><td>&hellip;</td><td>&hellip;</td><td>&hellip;</td><td>&hellip;</td><td>&hellip;</td><td>&hellip;</td><td>&hellip;</td><td>&hellip;</td><td>&hellip;</td><td>&hellip;</td><td>&hellip;</td><td>&hellip;</td><td>&hellip;</td><td>&hellip;</td><td>&hellip;</td><td>&hellip;</td><td>&hellip;</td><td>&hellip;</td><td>&hellip;</td><td>&hellip;</td><td>&hellip;</td><td>&hellip;</td><td>&hellip;</td><td>&hellip;</td><td>&hellip;</td><td>&hellip;</td><td>&hellip;</td><td>&hellip;</td><td>&hellip;</td><td>&hellip;</td><td>&hellip;</td><td>&hellip;</td><td>&hellip;</td><td>&hellip;</td><td>&hellip;</td><td>&hellip;</td><td>&hellip;</td><td>&hellip;</td><td>&hellip;</td><td>&hellip;</td><td>&hellip;</td><td>&hellip;</td><td>&hellip;</td><td>&hellip;</td><td>&hellip;</td><td>&hellip;</td><td>&hellip;</td><td>&hellip;</td><td>&hellip;</td><td>&hellip;</td><td>&hellip;</td><td>&hellip;</td></tr><tr><td>null</td><td>2024-03-16 00:00:00</td><td>null</td><td>null</td><td>null</td><td>&quot;Peralta, Freddy&quot;</td><td>595284</td><td>642547</td><td>null</td><td>&quot;called_strike&quot;</td><td>null</td><td>null</td><td>null</td><td>null</td><td>null</td><td>&quot;Andrew Knapp called out on str…</td><td>&quot;S&quot;</td><td>&quot;L&quot;</td><td>&quot;R&quot;</td><td>&quot;MIL&quot;</td><td>&quot;TEX&quot;</td><td>&quot;S&quot;</td><td>null</td><td>null</td><td>2</td><td>0</td><td>2024</td><td>null</td><td>null</td><td>null</td><td>null</td><td>null</td><td>null</td><td>679822.0</td><td>2</td><td>1</td><td>&quot;Top&quot;</td><td>&hellip;</td><td>null</td><td>747933</td><td>642547</td><td>661388</td><td>656555</td><td>668930</td><td>687401</td><td>642715</td><td>686894</td><td>694192</td><td>686217</td><td>null</td><td>null</td><td>null</td><td>null</td><td>null</td><td>null</td><td>null</td><td>null</td><td>4</td><td>3</td><td>null</td><td>0</td><td>0</td><td>0</td><td>0</td><td>0</td><td>0</td><td>0</td><td>0</td><td>null</td><td>null</td><td>null</td><td>0.0</td><td>null</td><td>null</td><td>null</td></tr><tr><td>null</td><td>2024-03-16 00:00:00</td><td>null</td><td>null</td><td>null</td><td>&quot;Peralta, Freddy&quot;</td><td>595284</td><td>642547</td><td>null</td><td>&quot;ball&quot;</td><td>null</td><td>null</td><td>null</td><td>null</td><td>null</td><td>&quot;Andrew Knapp called out on str…</td><td>&quot;S&quot;</td><td>&quot;L&quot;</td><td>&quot;R&quot;</td><td>&quot;MIL&quot;</td><td>&quot;TEX&quot;</td><td>&quot;B&quot;</td><td>null</td><td>null</td><td>1</td><td>0</td><td>2024</td><td>null</td><td>null</td><td>null</td><td>null</td><td>null</td><td>null</td><td>679822.0</td><td>2</td><td>1</td><td>&quot;Top&quot;</td><td>&hellip;</td><td>null</td><td>747933</td><td>642547</td><td>661388</td><td>656555</td><td>668930</td><td>687401</td><td>642715</td><td>686894</td><td>694192</td><td>686217</td><td>null</td><td>null</td><td>null</td><td>null</td><td>null</td><td>null</td><td>null</td><td>null</td><td>4</td><td>2</td><td>null</td><td>0</td><td>0</td><td>0</td><td>0</td><td>0</td><td>0</td><td>0</td><td>0</td><td>null</td><td>null</td><td>null</td><td>0.0</td><td>null</td><td>null</td><td>null</td></tr><tr><td>null</td><td>2024-03-16 00:00:00</td><td>null</td><td>null</td><td>null</td><td>&quot;Peralta, Freddy&quot;</td><td>595284</td><td>642547</td><td>null</td><td>&quot;ball&quot;</td><td>null</td><td>null</td><td>null</td><td>null</td><td>null</td><td>&quot;Andrew Knapp called out on str…</td><td>&quot;S&quot;</td><td>&quot;L&quot;</td><td>&quot;R&quot;</td><td>&quot;MIL&quot;</td><td>&quot;TEX&quot;</td><td>&quot;B&quot;</td><td>null</td><td>null</td><td>0</td><td>0</td><td>2024</td><td>null</td><td>null</td><td>null</td><td>null</td><td>null</td><td>null</td><td>679822.0</td><td>2</td><td>1</td><td>&quot;Top&quot;</td><td>&hellip;</td><td>null</td><td>747933</td><td>642547</td><td>661388</td><td>656555</td><td>668930</td><td>687401</td><td>642715</td><td>686894</td><td>694192</td><td>686217</td><td>null</td><td>null</td><td>null</td><td>null</td><td>null</td><td>null</td><td>null</td><td>null</td><td>4</td><td>1</td><td>null</td><td>0</td><td>0</td><td>0</td><td>0</td><td>0</td><td>0</td><td>0</td><td>0</td><td>null</td><td>null</td><td>null</td><td>0.0</td><td>null</td><td>null</td><td>null</td></tr><tr><td>null</td><td>2024-03-16 00:00:00</td><td>null</td><td>null</td><td>null</td><td>&quot;Peralta, Freddy&quot;</td><td>688760</td><td>642547</td><td>&quot;strikeout&quot;</td><td>&quot;swinging_strike&quot;</td><td>null</td><td>null</td><td>null</td><td>null</td><td>null</td><td>&quot;Blaine Crim strikes out swingi…</td><td>&quot;S&quot;</td><td>&quot;R&quot;</td><td>&quot;R&quot;</td><td>&quot;MIL&quot;</td><td>&quot;TEX&quot;</td><td>&quot;S&quot;</td><td>2.0</td><td>null</td><td>1</td><td>2</td><td>2024</td><td>null</td><td>null</td><td>null</td><td>null</td><td>null</td><td>null</td><td>null</td><td>0</td><td>2</td><td>&quot;Top&quot;</td><td>&hellip;</td><td>null</td><td>747933</td><td>642547</td><td>661388</td><td>656555</td><td>668930</td><td>687401</td><td>642715</td><td>686894</td><td>694192</td><td>686217</td><td>null</td><td>null</td><td>null</td><td>0.0</td><td>null</td><td>0.0</td><td>0.0</td><td>null</td><td>9</td><td>4</td><td>null</td><td>0</td><td>0</td><td>0</td><td>0</td><td>0</td><td>0</td><td>0</td><td>0</td><td>null</td><td>null</td><td>null</td><td>0.023</td><td>null</td><td>null</td><td>null</td></tr><tr><td>null</td><td>2024-03-16 00:00:00</td><td>null</td><td>null</td><td>null</td><td>&quot;Peralta, Freddy&quot;</td><td>688760</td><td>642547</td><td>null</td><td>&quot;foul&quot;</td><td>null</td><td>null</td><td>null</td><td>null</td><td>null</td><td>&quot;Blaine Crim strikes out swingi…</td><td>&quot;S&quot;</td><td>&quot;R&quot;</td><td>&quot;R&quot;</td><td>&quot;MIL&quot;</td><td>&quot;TEX&quot;</td><td>&quot;S&quot;</td><td>null</td><td>null</td><td>1</td><td>1</td><td>2024</td><td>null</td><td>null</td><td>null</td><td>null</td><td>null</td><td>null</td><td>null</td><td>0</td><td>2</td><td>&quot;Top&quot;</td><td>&hellip;</td><td>null</td><td>747933</td><td>642547</td><td>661388</td><td>656555</td><td>668930</td><td>687401</td><td>642715</td><td>686894</td><td>694192</td><td>686217</td><td>null</td><td>null</td><td>null</td><td>null</td><td>null</td><td>null</td><td>null</td><td>null</td><td>9</td><td>3</td><td>null</td><td>0</td><td>0</td><td>0</td><td>0</td><td>0</td><td>0</td><td>0</td><td>0</td><td>null</td><td>null</td><td>null</td><td>0.0</td><td>null</td><td>null</td><td>null</td></tr></tbody></table></div>"
      ],
      "text/plain": [
       "shape: (20, 94)\n",
       "┌───────────┬───────────┬───────────┬───────────┬───┬───────────┬───────────┬───────────┬──────────┐\n",
       "│ pitch_typ ┆ game_date ┆ release_s ┆ release_p ┆ … ┆ delta_hom ┆ delta_run ┆ bat_speed ┆ swing_le │\n",
       "│ e         ┆ ---       ┆ peed      ┆ os_x      ┆   ┆ e_win_exp ┆ _exp      ┆ ---       ┆ ngth     │\n",
       "│ ---       ┆ datetime[ ┆ ---       ┆ ---       ┆   ┆ ---       ┆ ---       ┆ f64       ┆ ---      │\n",
       "│ str       ┆ μs]       ┆ f64       ┆ f64       ┆   ┆ f64       ┆ f64       ┆           ┆ f64      │\n",
       "╞═══════════╪═══════════╪═══════════╪═══════════╪═══╪═══════════╪═══════════╪═══════════╪══════════╡\n",
       "│ null      ┆ 2024-03-1 ┆ null      ┆ null      ┆ … ┆ 0.022     ┆ null      ┆ null      ┆ null     │\n",
       "│           ┆ 6         ┆           ┆           ┆   ┆           ┆           ┆           ┆          │\n",
       "│           ┆ 00:00:00  ┆           ┆           ┆   ┆           ┆           ┆           ┆          │\n",
       "│ null      ┆ 2024-03-1 ┆ null      ┆ null      ┆ … ┆ 0.0       ┆ null      ┆ null      ┆ null     │\n",
       "│           ┆ 6         ┆           ┆           ┆   ┆           ┆           ┆           ┆          │\n",
       "│           ┆ 00:00:00  ┆           ┆           ┆   ┆           ┆           ┆           ┆          │\n",
       "│ null      ┆ 2024-03-1 ┆ null      ┆ null      ┆ … ┆ 0.0       ┆ null      ┆ null      ┆ null     │\n",
       "│           ┆ 6         ┆           ┆           ┆   ┆           ┆           ┆           ┆          │\n",
       "│           ┆ 00:00:00  ┆           ┆           ┆   ┆           ┆           ┆           ┆          │\n",
       "│ null      ┆ 2024-03-1 ┆ null      ┆ null      ┆ … ┆ 0.0       ┆ null      ┆ null      ┆ null     │\n",
       "│           ┆ 6         ┆           ┆           ┆   ┆           ┆           ┆           ┆          │\n",
       "│           ┆ 00:00:00  ┆           ┆           ┆   ┆           ┆           ┆           ┆          │\n",
       "│ null      ┆ 2024-03-1 ┆ null      ┆ null      ┆ … ┆ 0.0       ┆ null      ┆ null      ┆ null     │\n",
       "│           ┆ 6         ┆           ┆           ┆   ┆           ┆           ┆           ┆          │\n",
       "│           ┆ 00:00:00  ┆           ┆           ┆   ┆           ┆           ┆           ┆          │\n",
       "│ …         ┆ …         ┆ …         ┆ …         ┆ … ┆ …         ┆ …         ┆ …         ┆ …        │\n",
       "│ null      ┆ 2024-03-1 ┆ null      ┆ null      ┆ … ┆ 0.0       ┆ null      ┆ null      ┆ null     │\n",
       "│           ┆ 6         ┆           ┆           ┆   ┆           ┆           ┆           ┆          │\n",
       "│           ┆ 00:00:00  ┆           ┆           ┆   ┆           ┆           ┆           ┆          │\n",
       "│ null      ┆ 2024-03-1 ┆ null      ┆ null      ┆ … ┆ 0.0       ┆ null      ┆ null      ┆ null     │\n",
       "│           ┆ 6         ┆           ┆           ┆   ┆           ┆           ┆           ┆          │\n",
       "│           ┆ 00:00:00  ┆           ┆           ┆   ┆           ┆           ┆           ┆          │\n",
       "│ null      ┆ 2024-03-1 ┆ null      ┆ null      ┆ … ┆ 0.0       ┆ null      ┆ null      ┆ null     │\n",
       "│           ┆ 6         ┆           ┆           ┆   ┆           ┆           ┆           ┆          │\n",
       "│           ┆ 00:00:00  ┆           ┆           ┆   ┆           ┆           ┆           ┆          │\n",
       "│ null      ┆ 2024-03-1 ┆ null      ┆ null      ┆ … ┆ 0.023     ┆ null      ┆ null      ┆ null     │\n",
       "│           ┆ 6         ┆           ┆           ┆   ┆           ┆           ┆           ┆          │\n",
       "│           ┆ 00:00:00  ┆           ┆           ┆   ┆           ┆           ┆           ┆          │\n",
       "│ null      ┆ 2024-03-1 ┆ null      ┆ null      ┆ … ┆ 0.0       ┆ null      ┆ null      ┆ null     │\n",
       "│           ┆ 6         ┆           ┆           ┆   ┆           ┆           ┆           ┆          │\n",
       "│           ┆ 00:00:00  ┆           ┆           ┆   ┆           ┆           ┆           ┆          │\n",
       "└───────────┴───────────┴───────────┴───────────┴───┴───────────┴───────────┴───────────┴──────────┘"
      ]
     },
     "execution_count": 6,
     "metadata": {},
     "output_type": "execute_result"
    }
   ],
   "source": [
    "df.drop_in_place(name=\"Unnamed: 0\")\n",
    "df.head(20)"
   ]
  },
  {
   "cell_type": "code",
   "execution_count": 11,
   "metadata": {},
   "outputs": [
    {
     "name": "stdout",
     "output_type": "stream",
     "text": [
      "shape: (1, 1)\n",
      "┌────────────┐\n",
      "│ pitch_type │\n",
      "│ ---        │\n",
      "│ u32        │\n",
      "╞════════════╡\n",
      "│ 0          │\n",
      "└────────────┘\n"
     ]
    }
   ],
   "source": [
    "# print how many pitch_types are null\n",
    "\n",
    "print(df.select(\"pitch_type\").filter(pl.col(\"pitch_type\").is_null()).count())"
   ]
  }
 ],
 "metadata": {
  "kernelspec": {
   "display_name": "pitch_predict",
   "language": "python",
   "name": "python3"
  },
  "language_info": {
   "codemirror_mode": {
    "name": "ipython",
    "version": 3
   },
   "file_extension": ".py",
   "mimetype": "text/x-python",
   "name": "python",
   "nbconvert_exporter": "python",
   "pygments_lexer": "ipython3",
   "version": "3.12.7"
  }
 },
 "nbformat": 4,
 "nbformat_minor": 2
}
