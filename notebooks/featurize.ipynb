{
 "cells": [
  {
   "cell_type": "markdown",
   "metadata": {},
   "source": [
    "# feats using polar yay"
   ]
  },
  {
   "cell_type": "code",
   "execution_count": 53,
   "metadata": {},
   "outputs": [
    {
     "data": {
      "text/plain": [
       "polars.config.Config"
      ]
     },
     "execution_count": 53,
     "metadata": {},
     "output_type": "execute_result"
    }
   ],
   "source": [
    "import logging\n",
    "import sys\n",
    "import time\n",
    "from pathlib import Path\n",
    "\n",
    "# import pandas as pd\n",
    "import polars as pl\n",
    "import pybaseball as pb\n",
    "import yaml\n",
    "\n",
    "logger = logging.getLogger(\"featurize\")\n",
    "logger.setLevel(logging.INFO)\n",
    "handler = logging.StreamHandler()\n",
    "handler.setFormatter(\n",
    "    logging.Formatter(\"%(asctime)s - %(name)s - %(levelname)s - %(message)s\")\n",
    ")\n",
    "logger.addHandler(handler)\n",
    "cfg = pl.Config()\n",
    "cfg.set_tbl_rows(2000)"
   ]
  },
  {
   "cell_type": "code",
   "execution_count": 54,
   "metadata": {},
   "outputs": [],
   "source": [
    "with open(\"../params.yaml\", \"r\") as file:\n",
    "    params = yaml.safe_load(file)\n",
    "input_file_path = params[\"featurize\"][\"input_data_path\"]\n",
    "\n",
    "df = pl.read_parquet(\"../\" / Path(input_file_path))"
   ]
  },
  {
   "cell_type": "code",
   "execution_count": 55,
   "metadata": {},
   "outputs": [],
   "source": [
    "df = df.with_columns(\n",
    "    df.select(\n",
    "        pl.col(pl.String).exclude([\"player_name\"]).cast(pl.Categorical).to_physical()\n",
    "    ),\n",
    ")"
   ]
  },
  {
   "cell_type": "code",
   "execution_count": 56,
   "metadata": {},
   "outputs": [],
   "source": [
    "df = df.sort(\n",
    "    [\n",
    "        \"game_date\",\n",
    "        \"game_pk\",\n",
    "        \"at_bat_number\",\n",
    "        \"pitch_number\",\n",
    "    ],\n",
    "    descending=False,\n",
    ")\n",
    "# create target variable\n",
    "df = df.with_columns(\n",
    "    df.select(pl.col(\"pitch_type\").shift(-1).alias(\"next_pitch\")),\n",
    ").drop_nulls(\"next_pitch\")"
   ]
  },
  {
   "cell_type": "code",
   "execution_count": 57,
   "metadata": {},
   "outputs": [
    {
     "data": {
      "text/html": [
       "<div><style>\n",
       ".dataframe > thead > tr,\n",
       ".dataframe > tbody > tr {\n",
       "  text-align: right;\n",
       "  white-space: pre-wrap;\n",
       "}\n",
       "</style>\n",
       "<small>shape: (20, 2)</small><table border=\"1\" class=\"dataframe\"><thead><tr><th>pitch_type</th><th>next_pitch</th></tr><tr><td>u32</td><td>u32</td></tr></thead><tbody><tr><td>1</td><td>3</td></tr><tr><td>3</td><td>1</td></tr><tr><td>1</td><td>1</td></tr><tr><td>1</td><td>1</td></tr><tr><td>1</td><td>1</td></tr><tr><td>1</td><td>1</td></tr><tr><td>1</td><td>1</td></tr><tr><td>1</td><td>3</td></tr><tr><td>3</td><td>1</td></tr><tr><td>1</td><td>5</td></tr><tr><td>5</td><td>1</td></tr><tr><td>1</td><td>1</td></tr><tr><td>1</td><td>1</td></tr><tr><td>1</td><td>1</td></tr><tr><td>1</td><td>1</td></tr><tr><td>1</td><td>5</td></tr><tr><td>5</td><td>5</td></tr><tr><td>5</td><td>3</td></tr><tr><td>3</td><td>3</td></tr><tr><td>3</td><td>3</td></tr></tbody></table></div>"
      ],
      "text/plain": [
       "shape: (20, 2)\n",
       "┌────────────┬────────────┐\n",
       "│ pitch_type ┆ next_pitch │\n",
       "│ ---        ┆ ---        │\n",
       "│ u32        ┆ u32        │\n",
       "╞════════════╪════════════╡\n",
       "│ 1          ┆ 3          │\n",
       "│ 3          ┆ 1          │\n",
       "│ 1          ┆ 1          │\n",
       "│ 1          ┆ 1          │\n",
       "│ 1          ┆ 1          │\n",
       "│ 1          ┆ 1          │\n",
       "│ 1          ┆ 1          │\n",
       "│ 1          ┆ 3          │\n",
       "│ 3          ┆ 1          │\n",
       "│ 1          ┆ 5          │\n",
       "│ 5          ┆ 1          │\n",
       "│ 1          ┆ 1          │\n",
       "│ 1          ┆ 1          │\n",
       "│ 1          ┆ 1          │\n",
       "│ 1          ┆ 1          │\n",
       "│ 1          ┆ 5          │\n",
       "│ 5          ┆ 5          │\n",
       "│ 5          ┆ 3          │\n",
       "│ 3          ┆ 3          │\n",
       "│ 3          ┆ 3          │\n",
       "└────────────┴────────────┘"
      ]
     },
     "execution_count": 57,
     "metadata": {},
     "output_type": "execute_result"
    }
   ],
   "source": [
    "df.select(pl.col([\"pitch_type\", \"next_pitch\"])).head(20)"
   ]
  },
  {
   "cell_type": "code",
   "execution_count": 58,
   "metadata": {},
   "outputs": [],
   "source": [
    "df = df.with_columns(\n",
    "    (pl.col(\"balls\").cast(pl.String) + \" - \" + pl.col(\"strikes\").cast(pl.String))\n",
    "    .alias(\"count\")\n",
    "    .cast(pl.Categorical)\n",
    "    .to_physical()\n",
    ")\n",
    "df = df.drop([\"balls\", \"strikes\"])"
   ]
  },
  {
   "cell_type": "code",
   "execution_count": 59,
   "metadata": {},
   "outputs": [
    {
     "name": "stdout",
     "output_type": "stream",
     "text": [
      "shape: (9, 2)\n",
      "┌────────────┬──────────┐\n",
      "│ statistic  ┆ count    │\n",
      "│ ---        ┆ ---      │\n",
      "│ str        ┆ f64      │\n",
      "╞════════════╪══════════╡\n",
      "│ count      ┆ 30170.0  │\n",
      "│ null_count ┆ 0.0      │\n",
      "│ mean       ┆ 3.282996 │\n",
      "│ std        ┆ 2.928879 │\n",
      "│ min        ┆ 0.0      │\n",
      "│ 25%        ┆ 0.0      │\n",
      "│ 50%        ┆ 3.0      │\n",
      "│ 75%        ┆ 5.0      │\n",
      "│ max        ┆ 11.0     │\n",
      "└────────────┴──────────┘\n"
     ]
    },
    {
     "data": {
      "text/html": [
       "<div><style>\n",
       ".dataframe > thead > tr,\n",
       ".dataframe > tbody > tr {\n",
       "  text-align: right;\n",
       "  white-space: pre-wrap;\n",
       "}\n",
       "</style>\n",
       "<small>shape: (5, 58)</small><table border=\"1\" class=\"dataframe\"><thead><tr><th>pitch_type</th><th>game_date</th><th>release_speed</th><th>release_pos_x</th><th>release_pos_z</th><th>player_name</th><th>batter</th><th>pitcher</th><th>stand</th><th>type</th><th>hit_location</th><th>bb_type</th><th>pfx_x</th><th>pfx_z</th><th>plate_x</th><th>plate_z</th><th>on_3b</th><th>on_2b</th><th>on_1b</th><th>outs_when_up</th><th>inning</th><th>inning_topbot</th><th>hc_x</th><th>hc_y</th><th>vx0</th><th>vy0</th><th>vz0</th><th>ax</th><th>ay</th><th>az</th><th>sz_top</th><th>sz_bot</th><th>hit_distance_sc</th><th>launch_speed</th><th>launch_angle</th><th>effective_speed</th><th>release_spin_rate</th><th>release_extension</th><th>game_pk</th><th>release_pos_y</th><th>estimated_ba_using_speedangle</th><th>estimated_woba_using_speedangle</th><th>woba_value</th><th>woba_denom</th><th>babip_value</th><th>iso_value</th><th>launch_speed_angle</th><th>at_bat_number</th><th>pitch_number</th><th>bat_score</th><th>fld_score</th><th>if_fielding_alignment</th><th>of_fielding_alignment</th><th>spin_axis</th><th>bat_speed</th><th>swing_length</th><th>next_pitch</th><th>count</th></tr><tr><td>u32</td><td>datetime[μs]</td><td>f64</td><td>f64</td><td>f64</td><td>str</td><td>i64</td><td>i64</td><td>u32</td><td>u32</td><td>f64</td><td>u32</td><td>f64</td><td>f64</td><td>f64</td><td>f64</td><td>f64</td><td>f64</td><td>f64</td><td>i64</td><td>i64</td><td>u32</td><td>f64</td><td>f64</td><td>f64</td><td>f64</td><td>f64</td><td>f64</td><td>f64</td><td>f64</td><td>f64</td><td>f64</td><td>f64</td><td>f64</td><td>f64</td><td>f64</td><td>f64</td><td>f64</td><td>i64</td><td>f64</td><td>f64</td><td>f64</td><td>f64</td><td>f64</td><td>f64</td><td>f64</td><td>f64</td><td>i64</td><td>i64</td><td>i64</td><td>i64</td><td>u32</td><td>u32</td><td>f64</td><td>f64</td><td>f64</td><td>u32</td><td>u32</td></tr></thead><tbody><tr><td>1</td><td>2022-03-19 00:00:00</td><td>92.2</td><td>-2.56</td><td>5.43</td><td>&quot;Nola, Aaron&quot;</td><td>605480</td><td>605400</td><td>0</td><td>1</td><td>null</td><td>null</td><td>-1.49</td><td>1.31</td><td>-0.84</td><td>2.43</td><td>null</td><td>null</td><td>null</td><td>0</td><td>1</td><td>0</td><td>null</td><td>null</td><td>7.60704</td><td>-134.022722</td><td>-4.632891</td><td>-19.575483</td><td>28.632765</td><td>-15.589008</td><td>3.3</td><td>1.5</td><td>null</td><td>null</td><td>null</td><td>null</td><td>null</td><td>null</td><td>706872</td><td>54.13</td><td>null</td><td>null</td><td>null</td><td>null</td><td>null</td><td>null</td><td>null</td><td>1</td><td>1</td><td>0</td><td>0</td><td>null</td><td>null</td><td>null</td><td>null</td><td>null</td><td>3</td><td>0</td></tr><tr><td>3</td><td>2022-03-19 00:00:00</td><td>78.4</td><td>-2.43</td><td>5.57</td><td>&quot;Nola, Aaron&quot;</td><td>605480</td><td>605400</td><td>0</td><td>1</td><td>null</td><td>null</td><td>0.68</td><td>-0.69</td><td>0.5</td><td>2.11</td><td>null</td><td>null</td><td>null</td><td>0</td><td>1</td><td>0</td><td>null</td><td>null</td><td>5.097511</td><td>-114.097729</td><td>0.697378</td><td>4.920583</td><td>22.400799</td><td>-38.53246</td><td>3.3</td><td>1.5</td><td>null</td><td>null</td><td>null</td><td>null</td><td>null</td><td>null</td><td>706872</td><td>54.13</td><td>null</td><td>null</td><td>null</td><td>null</td><td>null</td><td>null</td><td>null</td><td>1</td><td>2</td><td>0</td><td>0</td><td>null</td><td>null</td><td>null</td><td>null</td><td>null</td><td>1</td><td>1</td></tr><tr><td>1</td><td>2022-03-19 00:00:00</td><td>92.4</td><td>-2.49</td><td>5.49</td><td>&quot;Nola, Aaron&quot;</td><td>605480</td><td>605400</td><td>0</td><td>2</td><td>null</td><td>null</td><td>-1.47</td><td>1.35</td><td>0.58</td><td>3.4</td><td>null</td><td>null</td><td>null</td><td>0</td><td>1</td><td>0</td><td>null</td><td>null</td><td>10.986446</td><td>-134.099297</td><td>-2.413662</td><td>-20.087748</td><td>28.685899</td><td>-15.513516</td><td>3.3</td><td>1.5</td><td>null</td><td>null</td><td>null</td><td>null</td><td>null</td><td>null</td><td>706872</td><td>54.13</td><td>null</td><td>null</td><td>null</td><td>null</td><td>null</td><td>null</td><td>null</td><td>1</td><td>3</td><td>0</td><td>0</td><td>null</td><td>null</td><td>null</td><td>null</td><td>null</td><td>1</td><td>2</td></tr><tr><td>1</td><td>2022-03-19 00:00:00</td><td>93.2</td><td>-2.35</td><td>5.45</td><td>&quot;Nola, Aaron&quot;</td><td>605480</td><td>605400</td><td>0</td><td>1</td><td>2.0</td><td>null</td><td>-1.56</td><td>1.29</td><td>-0.98</td><td>2.75</td><td>null</td><td>null</td><td>null</td><td>0</td><td>1</td><td>0</td><td>null</td><td>null</td><td>6.967558</td><td>-135.527336</td><td>-3.979329</td><td>-20.786844</td><td>30.865196</td><td>-15.61834</td><td>3.3</td><td>1.5</td><td>null</td><td>null</td><td>null</td><td>null</td><td>null</td><td>null</td><td>706872</td><td>54.13</td><td>null</td><td>null</td><td>0.0</td><td>null</td><td>0.0</td><td>0.0</td><td>null</td><td>1</td><td>4</td><td>0</td><td>0</td><td>null</td><td>null</td><td>null</td><td>null</td><td>null</td><td>1</td><td>3</td></tr><tr><td>1</td><td>2022-03-19 00:00:00</td><td>92.7</td><td>-2.51</td><td>5.43</td><td>&quot;Nola, Aaron&quot;</td><td>666182</td><td>605400</td><td>1</td><td>1</td><td>null</td><td>null</td><td>-1.25</td><td>1.52</td><td>-0.06</td><td>2.77</td><td>null</td><td>null</td><td>null</td><td>1</td><td>1</td><td>0</td><td>null</td><td>null</td><td>9.000929</td><td>-134.537277</td><td>-4.232589</td><td>-17.263002</td><td>31.813808</td><td>-13.015395</td><td>3.37</td><td>1.53</td><td>null</td><td>null</td><td>null</td><td>null</td><td>null</td><td>null</td><td>706872</td><td>54.13</td><td>null</td><td>null</td><td>null</td><td>null</td><td>null</td><td>null</td><td>null</td><td>2</td><td>1</td><td>0</td><td>0</td><td>null</td><td>null</td><td>null</td><td>null</td><td>null</td><td>1</td><td>0</td></tr></tbody></table></div>"
      ],
      "text/plain": [
       "shape: (5, 58)\n",
       "┌────────────┬────────────┬────────────┬───────────┬───┬───────────┬───────────┬───────────┬───────┐\n",
       "│ pitch_type ┆ game_date  ┆ release_sp ┆ release_p ┆ … ┆ bat_speed ┆ swing_len ┆ next_pitc ┆ count │\n",
       "│ ---        ┆ ---        ┆ eed        ┆ os_x      ┆   ┆ ---       ┆ gth       ┆ h         ┆ ---   │\n",
       "│ u32        ┆ datetime[μ ┆ ---        ┆ ---       ┆   ┆ f64       ┆ ---       ┆ ---       ┆ u32   │\n",
       "│            ┆ s]         ┆ f64        ┆ f64       ┆   ┆           ┆ f64       ┆ u32       ┆       │\n",
       "╞════════════╪════════════╪════════════╪═══════════╪═══╪═══════════╪═══════════╪═══════════╪═══════╡\n",
       "│ 1          ┆ 2022-03-19 ┆ 92.2       ┆ -2.56     ┆ … ┆ null      ┆ null      ┆ 3         ┆ 0     │\n",
       "│            ┆ 00:00:00   ┆            ┆           ┆   ┆           ┆           ┆           ┆       │\n",
       "│ 3          ┆ 2022-03-19 ┆ 78.4       ┆ -2.43     ┆ … ┆ null      ┆ null      ┆ 1         ┆ 1     │\n",
       "│            ┆ 00:00:00   ┆            ┆           ┆   ┆           ┆           ┆           ┆       │\n",
       "│ 1          ┆ 2022-03-19 ┆ 92.4       ┆ -2.49     ┆ … ┆ null      ┆ null      ┆ 1         ┆ 2     │\n",
       "│            ┆ 00:00:00   ┆            ┆           ┆   ┆           ┆           ┆           ┆       │\n",
       "│ 1          ┆ 2022-03-19 ┆ 93.2       ┆ -2.35     ┆ … ┆ null      ┆ null      ┆ 1         ┆ 3     │\n",
       "│            ┆ 00:00:00   ┆            ┆           ┆   ┆           ┆           ┆           ┆       │\n",
       "│ 1          ┆ 2022-03-19 ┆ 92.7       ┆ -2.51     ┆ … ┆ null      ┆ null      ┆ 1         ┆ 0     │\n",
       "│            ┆ 00:00:00   ┆            ┆           ┆   ┆           ┆           ┆           ┆       │\n",
       "└────────────┴────────────┴────────────┴───────────┴───┴───────────┴───────────┴───────────┴───────┘"
      ]
     },
     "execution_count": 59,
     "metadata": {},
     "output_type": "execute_result"
    }
   ],
   "source": [
    "print(df.select(\"count\").describe())\n",
    "df.head()\n"
   ]
  },
  {
   "cell_type": "code",
   "execution_count": 60,
   "metadata": {},
   "outputs": [],
   "source": [
    "df = df.with_columns(df.select([\"on_1b\", \"on_2b\", \"on_3b\"]).fill_null(-1))\n",
    "df = df.with_columns(\n",
    "    pl.col(\"on_1b\")\n",
    "    .map_elements(lambda s: 0 if s == -1.0 else 1, return_dtype=pl.Int32)\n",
    "    .alias(\"on_1b\"),\n",
    "    pl.col(\"on_2b\")\n",
    "    .map_elements(lambda s: 0 if s == -1.0 else 1, return_dtype=pl.Int32)\n",
    "    .alias(\"on_2b\"),\n",
    "    pl.col(\"on_3b\")\n",
    "    .map_elements(lambda s: 0 if s == -1.0 else 1, return_dtype=pl.Int32)\n",
    "    .alias(\"on_3b\"),\n",
    ")\n",
    "df = df.with_columns(\n",
    "    (\n",
    "        pl.col(\"on_1b\").cast(pl.String)\n",
    "        + \"/\"\n",
    "        + pl.col(\"on_2b\").cast(pl.String)\n",
    "        + \"/\"\n",
    "        + pl.col(\"on_3b\").cast(pl.String)\n",
    "    )\n",
    "    .alias(\"base_state\")\n",
    "    .cast(pl.Categorical)\n",
    "    .to_physical()\n",
    ")\n",
    "df = df.drop([\"on_1b\", \"on_2b\", \"on_3b\"])"
   ]
  },
  {
   "cell_type": "code",
   "execution_count": 61,
   "metadata": {},
   "outputs": [
    {
     "name": "stdout",
     "output_type": "stream",
     "text": [
      "shape: (9, 2)\n",
      "┌────────────┬────────────┐\n",
      "│ statistic  ┆ base_state │\n",
      "│ ---        ┆ ---        │\n",
      "│ str        ┆ f64        │\n",
      "╞════════════╪════════════╡\n",
      "│ count      ┆ 30170.0    │\n",
      "│ null_count ┆ 0.0        │\n",
      "│ mean       ┆ 1.015976   │\n",
      "│ std        ┆ 1.685017   │\n",
      "│ min        ┆ 0.0        │\n",
      "│ 25%        ┆ 0.0        │\n",
      "│ 50%        ┆ 0.0        │\n",
      "│ 75%        ┆ 2.0        │\n",
      "│ max        ┆ 7.0        │\n",
      "└────────────┴────────────┘\n"
     ]
    },
    {
     "data": {
      "text/html": [
       "<div><style>\n",
       ".dataframe > thead > tr,\n",
       ".dataframe > tbody > tr {\n",
       "  text-align: right;\n",
       "  white-space: pre-wrap;\n",
       "}\n",
       "</style>\n",
       "<small>shape: (5, 56)</small><table border=\"1\" class=\"dataframe\"><thead><tr><th>pitch_type</th><th>game_date</th><th>release_speed</th><th>release_pos_x</th><th>release_pos_z</th><th>player_name</th><th>batter</th><th>pitcher</th><th>stand</th><th>type</th><th>hit_location</th><th>bb_type</th><th>pfx_x</th><th>pfx_z</th><th>plate_x</th><th>plate_z</th><th>outs_when_up</th><th>inning</th><th>inning_topbot</th><th>hc_x</th><th>hc_y</th><th>vx0</th><th>vy0</th><th>vz0</th><th>ax</th><th>ay</th><th>az</th><th>sz_top</th><th>sz_bot</th><th>hit_distance_sc</th><th>launch_speed</th><th>launch_angle</th><th>effective_speed</th><th>release_spin_rate</th><th>release_extension</th><th>game_pk</th><th>release_pos_y</th><th>estimated_ba_using_speedangle</th><th>estimated_woba_using_speedangle</th><th>woba_value</th><th>woba_denom</th><th>babip_value</th><th>iso_value</th><th>launch_speed_angle</th><th>at_bat_number</th><th>pitch_number</th><th>bat_score</th><th>fld_score</th><th>if_fielding_alignment</th><th>of_fielding_alignment</th><th>spin_axis</th><th>bat_speed</th><th>swing_length</th><th>next_pitch</th><th>count</th><th>base_state</th></tr><tr><td>u32</td><td>datetime[μs]</td><td>f64</td><td>f64</td><td>f64</td><td>str</td><td>i64</td><td>i64</td><td>u32</td><td>u32</td><td>f64</td><td>u32</td><td>f64</td><td>f64</td><td>f64</td><td>f64</td><td>i64</td><td>i64</td><td>u32</td><td>f64</td><td>f64</td><td>f64</td><td>f64</td><td>f64</td><td>f64</td><td>f64</td><td>f64</td><td>f64</td><td>f64</td><td>f64</td><td>f64</td><td>f64</td><td>f64</td><td>f64</td><td>f64</td><td>i64</td><td>f64</td><td>f64</td><td>f64</td><td>f64</td><td>f64</td><td>f64</td><td>f64</td><td>f64</td><td>i64</td><td>i64</td><td>i64</td><td>i64</td><td>u32</td><td>u32</td><td>f64</td><td>f64</td><td>f64</td><td>u32</td><td>u32</td><td>u32</td></tr></thead><tbody><tr><td>1</td><td>2022-03-19 00:00:00</td><td>92.2</td><td>-2.56</td><td>5.43</td><td>&quot;Nola, Aaron&quot;</td><td>605480</td><td>605400</td><td>0</td><td>1</td><td>null</td><td>null</td><td>-1.49</td><td>1.31</td><td>-0.84</td><td>2.43</td><td>0</td><td>1</td><td>0</td><td>null</td><td>null</td><td>7.60704</td><td>-134.022722</td><td>-4.632891</td><td>-19.575483</td><td>28.632765</td><td>-15.589008</td><td>3.3</td><td>1.5</td><td>null</td><td>null</td><td>null</td><td>null</td><td>null</td><td>null</td><td>706872</td><td>54.13</td><td>null</td><td>null</td><td>null</td><td>null</td><td>null</td><td>null</td><td>null</td><td>1</td><td>1</td><td>0</td><td>0</td><td>null</td><td>null</td><td>null</td><td>null</td><td>null</td><td>3</td><td>0</td><td>0</td></tr><tr><td>3</td><td>2022-03-19 00:00:00</td><td>78.4</td><td>-2.43</td><td>5.57</td><td>&quot;Nola, Aaron&quot;</td><td>605480</td><td>605400</td><td>0</td><td>1</td><td>null</td><td>null</td><td>0.68</td><td>-0.69</td><td>0.5</td><td>2.11</td><td>0</td><td>1</td><td>0</td><td>null</td><td>null</td><td>5.097511</td><td>-114.097729</td><td>0.697378</td><td>4.920583</td><td>22.400799</td><td>-38.53246</td><td>3.3</td><td>1.5</td><td>null</td><td>null</td><td>null</td><td>null</td><td>null</td><td>null</td><td>706872</td><td>54.13</td><td>null</td><td>null</td><td>null</td><td>null</td><td>null</td><td>null</td><td>null</td><td>1</td><td>2</td><td>0</td><td>0</td><td>null</td><td>null</td><td>null</td><td>null</td><td>null</td><td>1</td><td>1</td><td>0</td></tr><tr><td>1</td><td>2022-03-19 00:00:00</td><td>92.4</td><td>-2.49</td><td>5.49</td><td>&quot;Nola, Aaron&quot;</td><td>605480</td><td>605400</td><td>0</td><td>2</td><td>null</td><td>null</td><td>-1.47</td><td>1.35</td><td>0.58</td><td>3.4</td><td>0</td><td>1</td><td>0</td><td>null</td><td>null</td><td>10.986446</td><td>-134.099297</td><td>-2.413662</td><td>-20.087748</td><td>28.685899</td><td>-15.513516</td><td>3.3</td><td>1.5</td><td>null</td><td>null</td><td>null</td><td>null</td><td>null</td><td>null</td><td>706872</td><td>54.13</td><td>null</td><td>null</td><td>null</td><td>null</td><td>null</td><td>null</td><td>null</td><td>1</td><td>3</td><td>0</td><td>0</td><td>null</td><td>null</td><td>null</td><td>null</td><td>null</td><td>1</td><td>2</td><td>0</td></tr><tr><td>1</td><td>2022-03-19 00:00:00</td><td>93.2</td><td>-2.35</td><td>5.45</td><td>&quot;Nola, Aaron&quot;</td><td>605480</td><td>605400</td><td>0</td><td>1</td><td>2.0</td><td>null</td><td>-1.56</td><td>1.29</td><td>-0.98</td><td>2.75</td><td>0</td><td>1</td><td>0</td><td>null</td><td>null</td><td>6.967558</td><td>-135.527336</td><td>-3.979329</td><td>-20.786844</td><td>30.865196</td><td>-15.61834</td><td>3.3</td><td>1.5</td><td>null</td><td>null</td><td>null</td><td>null</td><td>null</td><td>null</td><td>706872</td><td>54.13</td><td>null</td><td>null</td><td>0.0</td><td>null</td><td>0.0</td><td>0.0</td><td>null</td><td>1</td><td>4</td><td>0</td><td>0</td><td>null</td><td>null</td><td>null</td><td>null</td><td>null</td><td>1</td><td>3</td><td>0</td></tr><tr><td>1</td><td>2022-03-19 00:00:00</td><td>92.7</td><td>-2.51</td><td>5.43</td><td>&quot;Nola, Aaron&quot;</td><td>666182</td><td>605400</td><td>1</td><td>1</td><td>null</td><td>null</td><td>-1.25</td><td>1.52</td><td>-0.06</td><td>2.77</td><td>1</td><td>1</td><td>0</td><td>null</td><td>null</td><td>9.000929</td><td>-134.537277</td><td>-4.232589</td><td>-17.263002</td><td>31.813808</td><td>-13.015395</td><td>3.37</td><td>1.53</td><td>null</td><td>null</td><td>null</td><td>null</td><td>null</td><td>null</td><td>706872</td><td>54.13</td><td>null</td><td>null</td><td>null</td><td>null</td><td>null</td><td>null</td><td>null</td><td>2</td><td>1</td><td>0</td><td>0</td><td>null</td><td>null</td><td>null</td><td>null</td><td>null</td><td>1</td><td>0</td><td>0</td></tr></tbody></table></div>"
      ],
      "text/plain": [
       "shape: (5, 56)\n",
       "┌────────────┬────────────┬────────────┬───────────┬───┬───────────┬───────────┬───────┬───────────┐\n",
       "│ pitch_type ┆ game_date  ┆ release_sp ┆ release_p ┆ … ┆ swing_len ┆ next_pitc ┆ count ┆ base_stat │\n",
       "│ ---        ┆ ---        ┆ eed        ┆ os_x      ┆   ┆ gth       ┆ h         ┆ ---   ┆ e         │\n",
       "│ u32        ┆ datetime[μ ┆ ---        ┆ ---       ┆   ┆ ---       ┆ ---       ┆ u32   ┆ ---       │\n",
       "│            ┆ s]         ┆ f64        ┆ f64       ┆   ┆ f64       ┆ u32       ┆       ┆ u32       │\n",
       "╞════════════╪════════════╪════════════╪═══════════╪═══╪═══════════╪═══════════╪═══════╪═══════════╡\n",
       "│ 1          ┆ 2022-03-19 ┆ 92.2       ┆ -2.56     ┆ … ┆ null      ┆ 3         ┆ 0     ┆ 0         │\n",
       "│            ┆ 00:00:00   ┆            ┆           ┆   ┆           ┆           ┆       ┆           │\n",
       "│ 3          ┆ 2022-03-19 ┆ 78.4       ┆ -2.43     ┆ … ┆ null      ┆ 1         ┆ 1     ┆ 0         │\n",
       "│            ┆ 00:00:00   ┆            ┆           ┆   ┆           ┆           ┆       ┆           │\n",
       "│ 1          ┆ 2022-03-19 ┆ 92.4       ┆ -2.49     ┆ … ┆ null      ┆ 1         ┆ 2     ┆ 0         │\n",
       "│            ┆ 00:00:00   ┆            ┆           ┆   ┆           ┆           ┆       ┆           │\n",
       "│ 1          ┆ 2022-03-19 ┆ 93.2       ┆ -2.35     ┆ … ┆ null      ┆ 1         ┆ 3     ┆ 0         │\n",
       "│            ┆ 00:00:00   ┆            ┆           ┆   ┆           ┆           ┆       ┆           │\n",
       "│ 1          ┆ 2022-03-19 ┆ 92.7       ┆ -2.51     ┆ … ┆ null      ┆ 1         ┆ 0     ┆ 0         │\n",
       "│            ┆ 00:00:00   ┆            ┆           ┆   ┆           ┆           ┆       ┆           │\n",
       "└────────────┴────────────┴────────────┴───────────┴───┴───────────┴───────────┴───────┴───────────┘"
      ]
     },
     "execution_count": 61,
     "metadata": {},
     "output_type": "execute_result"
    }
   ],
   "source": [
    "print(df.select(\"base_state\").describe())\n",
    "\n",
    "df.head()"
   ]
  },
  {
   "cell_type": "code",
   "execution_count": 62,
   "metadata": {},
   "outputs": [
    {
     "name": "stdout",
     "output_type": "stream",
     "text": [
      "(30170, 56)\n",
      "(30170, 40)\n"
     ]
    },
    {
     "data": {
      "text/html": [
       "<div><style>\n",
       ".dataframe > thead > tr,\n",
       ".dataframe > tbody > tr {\n",
       "  text-align: right;\n",
       "  white-space: pre-wrap;\n",
       "}\n",
       "</style>\n",
       "<small>shape: (5, 40)</small><table border=\"1\" class=\"dataframe\"><thead><tr><th>pitch_type</th><th>game_date</th><th>release_speed</th><th>release_pos_x</th><th>release_pos_z</th><th>player_name</th><th>batter</th><th>pitcher</th><th>stand</th><th>type</th><th>pfx_x</th><th>pfx_z</th><th>plate_x</th><th>plate_z</th><th>outs_when_up</th><th>inning</th><th>inning_topbot</th><th>vx0</th><th>vy0</th><th>vz0</th><th>ax</th><th>ay</th><th>az</th><th>sz_top</th><th>sz_bot</th><th>effective_speed</th><th>release_spin_rate</th><th>release_extension</th><th>game_pk</th><th>release_pos_y</th><th>at_bat_number</th><th>pitch_number</th><th>bat_score</th><th>fld_score</th><th>if_fielding_alignment</th><th>of_fielding_alignment</th><th>spin_axis</th><th>next_pitch</th><th>count</th><th>base_state</th></tr><tr><td>u32</td><td>datetime[μs]</td><td>f64</td><td>f64</td><td>f64</td><td>str</td><td>i64</td><td>i64</td><td>u32</td><td>u32</td><td>f64</td><td>f64</td><td>f64</td><td>f64</td><td>i64</td><td>i64</td><td>u32</td><td>f64</td><td>f64</td><td>f64</td><td>f64</td><td>f64</td><td>f64</td><td>f64</td><td>f64</td><td>f64</td><td>f64</td><td>f64</td><td>i64</td><td>f64</td><td>i64</td><td>i64</td><td>i64</td><td>i64</td><td>u32</td><td>u32</td><td>f64</td><td>u32</td><td>u32</td><td>u32</td></tr></thead><tbody><tr><td>1</td><td>2022-03-19 00:00:00</td><td>92.2</td><td>-2.56</td><td>5.43</td><td>&quot;Nola, Aaron&quot;</td><td>605480</td><td>605400</td><td>0</td><td>1</td><td>-1.49</td><td>1.31</td><td>-0.84</td><td>2.43</td><td>0</td><td>1</td><td>0</td><td>7.60704</td><td>-134.022722</td><td>-4.632891</td><td>-19.575483</td><td>28.632765</td><td>-15.589008</td><td>3.3</td><td>1.5</td><td>null</td><td>null</td><td>null</td><td>706872</td><td>54.13</td><td>1</td><td>1</td><td>0</td><td>0</td><td>null</td><td>null</td><td>null</td><td>3</td><td>0</td><td>0</td></tr><tr><td>3</td><td>2022-03-19 00:00:00</td><td>78.4</td><td>-2.43</td><td>5.57</td><td>&quot;Nola, Aaron&quot;</td><td>605480</td><td>605400</td><td>0</td><td>1</td><td>0.68</td><td>-0.69</td><td>0.5</td><td>2.11</td><td>0</td><td>1</td><td>0</td><td>5.097511</td><td>-114.097729</td><td>0.697378</td><td>4.920583</td><td>22.400799</td><td>-38.53246</td><td>3.3</td><td>1.5</td><td>null</td><td>null</td><td>null</td><td>706872</td><td>54.13</td><td>1</td><td>2</td><td>0</td><td>0</td><td>null</td><td>null</td><td>null</td><td>1</td><td>1</td><td>0</td></tr><tr><td>1</td><td>2022-03-19 00:00:00</td><td>92.4</td><td>-2.49</td><td>5.49</td><td>&quot;Nola, Aaron&quot;</td><td>605480</td><td>605400</td><td>0</td><td>2</td><td>-1.47</td><td>1.35</td><td>0.58</td><td>3.4</td><td>0</td><td>1</td><td>0</td><td>10.986446</td><td>-134.099297</td><td>-2.413662</td><td>-20.087748</td><td>28.685899</td><td>-15.513516</td><td>3.3</td><td>1.5</td><td>null</td><td>null</td><td>null</td><td>706872</td><td>54.13</td><td>1</td><td>3</td><td>0</td><td>0</td><td>null</td><td>null</td><td>null</td><td>1</td><td>2</td><td>0</td></tr><tr><td>1</td><td>2022-03-19 00:00:00</td><td>93.2</td><td>-2.35</td><td>5.45</td><td>&quot;Nola, Aaron&quot;</td><td>605480</td><td>605400</td><td>0</td><td>1</td><td>-1.56</td><td>1.29</td><td>-0.98</td><td>2.75</td><td>0</td><td>1</td><td>0</td><td>6.967558</td><td>-135.527336</td><td>-3.979329</td><td>-20.786844</td><td>30.865196</td><td>-15.61834</td><td>3.3</td><td>1.5</td><td>null</td><td>null</td><td>null</td><td>706872</td><td>54.13</td><td>1</td><td>4</td><td>0</td><td>0</td><td>null</td><td>null</td><td>null</td><td>1</td><td>3</td><td>0</td></tr><tr><td>1</td><td>2022-03-19 00:00:00</td><td>92.7</td><td>-2.51</td><td>5.43</td><td>&quot;Nola, Aaron&quot;</td><td>666182</td><td>605400</td><td>1</td><td>1</td><td>-1.25</td><td>1.52</td><td>-0.06</td><td>2.77</td><td>1</td><td>1</td><td>0</td><td>9.000929</td><td>-134.537277</td><td>-4.232589</td><td>-17.263002</td><td>31.813808</td><td>-13.015395</td><td>3.37</td><td>1.53</td><td>null</td><td>null</td><td>null</td><td>706872</td><td>54.13</td><td>2</td><td>1</td><td>0</td><td>0</td><td>null</td><td>null</td><td>null</td><td>1</td><td>0</td><td>0</td></tr></tbody></table></div>"
      ],
      "text/plain": [
       "shape: (5, 40)\n",
       "┌────────────┬────────────┬────────────┬───────────┬───┬───────────┬───────────┬───────┬───────────┐\n",
       "│ pitch_type ┆ game_date  ┆ release_sp ┆ release_p ┆ … ┆ spin_axis ┆ next_pitc ┆ count ┆ base_stat │\n",
       "│ ---        ┆ ---        ┆ eed        ┆ os_x      ┆   ┆ ---       ┆ h         ┆ ---   ┆ e         │\n",
       "│ u32        ┆ datetime[μ ┆ ---        ┆ ---       ┆   ┆ f64       ┆ ---       ┆ u32   ┆ ---       │\n",
       "│            ┆ s]         ┆ f64        ┆ f64       ┆   ┆           ┆ u32       ┆       ┆ u32       │\n",
       "╞════════════╪════════════╪════════════╪═══════════╪═══╪═══════════╪═══════════╪═══════╪═══════════╡\n",
       "│ 1          ┆ 2022-03-19 ┆ 92.2       ┆ -2.56     ┆ … ┆ null      ┆ 3         ┆ 0     ┆ 0         │\n",
       "│            ┆ 00:00:00   ┆            ┆           ┆   ┆           ┆           ┆       ┆           │\n",
       "│ 3          ┆ 2022-03-19 ┆ 78.4       ┆ -2.43     ┆ … ┆ null      ┆ 1         ┆ 1     ┆ 0         │\n",
       "│            ┆ 00:00:00   ┆            ┆           ┆   ┆           ┆           ┆       ┆           │\n",
       "│ 1          ┆ 2022-03-19 ┆ 92.4       ┆ -2.49     ┆ … ┆ null      ┆ 1         ┆ 2     ┆ 0         │\n",
       "│            ┆ 00:00:00   ┆            ┆           ┆   ┆           ┆           ┆       ┆           │\n",
       "│ 1          ┆ 2022-03-19 ┆ 93.2       ┆ -2.35     ┆ … ┆ null      ┆ 1         ┆ 3     ┆ 0         │\n",
       "│            ┆ 00:00:00   ┆            ┆           ┆   ┆           ┆           ┆       ┆           │\n",
       "│ 1          ┆ 2022-03-19 ┆ 92.7       ┆ -2.51     ┆ … ┆ null      ┆ 1         ┆ 0     ┆ 0         │\n",
       "│            ┆ 00:00:00   ┆            ┆           ┆   ┆           ┆           ┆       ┆           │\n",
       "└────────────┴────────────┴────────────┴───────────┴───┴───────────┴───────────┴───────┴───────────┘"
      ]
     },
     "execution_count": 62,
     "metadata": {},
     "output_type": "execute_result"
    }
   ],
   "source": [
    "print(df.shape)\n",
    "\n",
    "# # find columns with null percentage > 10%\n",
    "# # Calculate null percentages for all columns\n",
    "# null_percentages = df.select(pl.all().is_null().sum() / df.height)\n",
    "\n",
    "# # Filter columns where null percentage > 10%\n",
    "# columns_with_too_many_nulls = (\n",
    "#     null_percentages.melt().filter(pl.col(\"value\") > 0.1).select(\"variable\")\n",
    "# )\n",
    "\n",
    "# print(\"Columns with >10% null values:\")\n",
    "# print(columns_with_too_many_nulls)\n",
    "\n",
    "# drop columns with too many nulls\n",
    "df = df.drop(\n",
    "    df.select(pl.all().is_null().sum() / df.height)\n",
    "    .unpivot()\n",
    "    .filter(pl.col(\"value\") > 0.05)\n",
    "    .select(\"variable\")\n",
    "    .to_series()\n",
    "    .to_list()\n",
    ")\n",
    "print(df.shape)\n",
    "df.head()"
   ]
  },
  {
   "cell_type": "code",
   "execution_count": 63,
   "metadata": {},
   "outputs": [
    {
     "data": {
      "text/html": [
       "<div><style>\n",
       ".dataframe > thead > tr,\n",
       ".dataframe > tbody > tr {\n",
       "  text-align: right;\n",
       "  white-space: pre-wrap;\n",
       "}\n",
       "</style>\n",
       "<small>shape: (5, 40)</small><table border=\"1\" class=\"dataframe\"><thead><tr><th>pitch_type</th><th>game_date</th><th>release_speed</th><th>release_pos_x</th><th>release_pos_z</th><th>player_name</th><th>batter</th><th>pitcher</th><th>stand</th><th>type</th><th>pfx_x</th><th>pfx_z</th><th>plate_x</th><th>plate_z</th><th>outs_when_up</th><th>inning</th><th>inning_topbot</th><th>vx0</th><th>vy0</th><th>vz0</th><th>ax</th><th>ay</th><th>az</th><th>sz_top</th><th>sz_bot</th><th>effective_speed</th><th>release_spin_rate</th><th>release_extension</th><th>game_pk</th><th>release_pos_y</th><th>at_bat_number</th><th>pitch_number</th><th>bat_score</th><th>fld_score</th><th>if_fielding_alignment</th><th>of_fielding_alignment</th><th>spin_axis</th><th>next_pitch</th><th>count</th><th>base_state</th></tr><tr><td>u32</td><td>datetime[μs]</td><td>f64</td><td>f64</td><td>f64</td><td>str</td><td>i64</td><td>i64</td><td>u32</td><td>u32</td><td>f64</td><td>f64</td><td>f64</td><td>f64</td><td>i64</td><td>i64</td><td>u32</td><td>f64</td><td>f64</td><td>f64</td><td>f64</td><td>f64</td><td>f64</td><td>f64</td><td>f64</td><td>f64</td><td>f64</td><td>f64</td><td>i64</td><td>f64</td><td>i64</td><td>i64</td><td>i64</td><td>i64</td><td>u32</td><td>u32</td><td>f64</td><td>u32</td><td>u32</td><td>u32</td></tr></thead><tbody><tr><td>1</td><td>2022-03-19 00:00:00</td><td>92.2</td><td>-2.56</td><td>5.43</td><td>&quot;Nola, Aaron&quot;</td><td>605480</td><td>605400</td><td>0</td><td>1</td><td>-1.49</td><td>1.31</td><td>-0.84</td><td>2.43</td><td>0</td><td>1</td><td>0</td><td>7.60704</td><td>-134.022722</td><td>-4.632891</td><td>-19.575483</td><td>28.632765</td><td>-15.589008</td><td>3.3</td><td>1.5</td><td>null</td><td>null</td><td>null</td><td>706872</td><td>54.13</td><td>1</td><td>1</td><td>0</td><td>0</td><td>null</td><td>null</td><td>null</td><td>3</td><td>0</td><td>0</td></tr><tr><td>3</td><td>2022-03-19 00:00:00</td><td>78.4</td><td>-2.43</td><td>5.57</td><td>&quot;Nola, Aaron&quot;</td><td>605480</td><td>605400</td><td>0</td><td>1</td><td>0.68</td><td>-0.69</td><td>0.5</td><td>2.11</td><td>0</td><td>1</td><td>0</td><td>5.097511</td><td>-114.097729</td><td>0.697378</td><td>4.920583</td><td>22.400799</td><td>-38.53246</td><td>3.3</td><td>1.5</td><td>null</td><td>null</td><td>null</td><td>706872</td><td>54.13</td><td>1</td><td>2</td><td>0</td><td>0</td><td>null</td><td>null</td><td>null</td><td>1</td><td>1</td><td>0</td></tr><tr><td>1</td><td>2022-03-19 00:00:00</td><td>92.4</td><td>-2.49</td><td>5.49</td><td>&quot;Nola, Aaron&quot;</td><td>605480</td><td>605400</td><td>0</td><td>2</td><td>-1.47</td><td>1.35</td><td>0.58</td><td>3.4</td><td>0</td><td>1</td><td>0</td><td>10.986446</td><td>-134.099297</td><td>-2.413662</td><td>-20.087748</td><td>28.685899</td><td>-15.513516</td><td>3.3</td><td>1.5</td><td>null</td><td>null</td><td>null</td><td>706872</td><td>54.13</td><td>1</td><td>3</td><td>0</td><td>0</td><td>null</td><td>null</td><td>null</td><td>1</td><td>2</td><td>0</td></tr><tr><td>1</td><td>2022-03-19 00:00:00</td><td>93.2</td><td>-2.35</td><td>5.45</td><td>&quot;Nola, Aaron&quot;</td><td>605480</td><td>605400</td><td>0</td><td>1</td><td>-1.56</td><td>1.29</td><td>-0.98</td><td>2.75</td><td>0</td><td>1</td><td>0</td><td>6.967558</td><td>-135.527336</td><td>-3.979329</td><td>-20.786844</td><td>30.865196</td><td>-15.61834</td><td>3.3</td><td>1.5</td><td>null</td><td>null</td><td>null</td><td>706872</td><td>54.13</td><td>1</td><td>4</td><td>0</td><td>0</td><td>null</td><td>null</td><td>null</td><td>1</td><td>3</td><td>0</td></tr><tr><td>1</td><td>2022-03-19 00:00:00</td><td>92.7</td><td>-2.51</td><td>5.43</td><td>&quot;Nola, Aaron&quot;</td><td>666182</td><td>605400</td><td>1</td><td>1</td><td>-1.25</td><td>1.52</td><td>-0.06</td><td>2.77</td><td>1</td><td>1</td><td>0</td><td>9.000929</td><td>-134.537277</td><td>-4.232589</td><td>-17.263002</td><td>31.813808</td><td>-13.015395</td><td>3.37</td><td>1.53</td><td>null</td><td>null</td><td>null</td><td>706872</td><td>54.13</td><td>2</td><td>1</td><td>0</td><td>0</td><td>null</td><td>null</td><td>null</td><td>1</td><td>0</td><td>0</td></tr></tbody></table></div>"
      ],
      "text/plain": [
       "shape: (5, 40)\n",
       "┌────────────┬────────────┬────────────┬───────────┬───┬───────────┬───────────┬───────┬───────────┐\n",
       "│ pitch_type ┆ game_date  ┆ release_sp ┆ release_p ┆ … ┆ spin_axis ┆ next_pitc ┆ count ┆ base_stat │\n",
       "│ ---        ┆ ---        ┆ eed        ┆ os_x      ┆   ┆ ---       ┆ h         ┆ ---   ┆ e         │\n",
       "│ u32        ┆ datetime[μ ┆ ---        ┆ ---       ┆   ┆ f64       ┆ ---       ┆ u32   ┆ ---       │\n",
       "│            ┆ s]         ┆ f64        ┆ f64       ┆   ┆           ┆ u32       ┆       ┆ u32       │\n",
       "╞════════════╪════════════╪════════════╪═══════════╪═══╪═══════════╪═══════════╪═══════╪═══════════╡\n",
       "│ 1          ┆ 2022-03-19 ┆ 92.2       ┆ -2.56     ┆ … ┆ null      ┆ 3         ┆ 0     ┆ 0         │\n",
       "│            ┆ 00:00:00   ┆            ┆           ┆   ┆           ┆           ┆       ┆           │\n",
       "│ 3          ┆ 2022-03-19 ┆ 78.4       ┆ -2.43     ┆ … ┆ null      ┆ 1         ┆ 1     ┆ 0         │\n",
       "│            ┆ 00:00:00   ┆            ┆           ┆   ┆           ┆           ┆       ┆           │\n",
       "│ 1          ┆ 2022-03-19 ┆ 92.4       ┆ -2.49     ┆ … ┆ null      ┆ 1         ┆ 2     ┆ 0         │\n",
       "│            ┆ 00:00:00   ┆            ┆           ┆   ┆           ┆           ┆       ┆           │\n",
       "│ 1          ┆ 2022-03-19 ┆ 93.2       ┆ -2.35     ┆ … ┆ null      ┆ 1         ┆ 3     ┆ 0         │\n",
       "│            ┆ 00:00:00   ┆            ┆           ┆   ┆           ┆           ┆       ┆           │\n",
       "│ 1          ┆ 2022-03-19 ┆ 92.7       ┆ -2.51     ┆ … ┆ null      ┆ 1         ┆ 0     ┆ 0         │\n",
       "│            ┆ 00:00:00   ┆            ┆           ┆   ┆           ┆           ┆       ┆           │\n",
       "└────────────┴────────────┴────────────┴───────────┴───┴───────────┴───────────┴───────┴───────────┘"
      ]
     },
     "execution_count": 63,
     "metadata": {},
     "output_type": "execute_result"
    }
   ],
   "source": [
    "# release point consistency feature\n",
    "\n",
    "\n",
    "df.head()"
   ]
  },
  {
   "cell_type": "code",
   "execution_count": 64,
   "metadata": {},
   "outputs": [],
   "source": [
    "# # Late inning pressure (boolean)\n",
    "# df = df.with_columns(\n",
    "#     ((pl.col(\"inning\") >= 7) & (pl.col(\"bat_score\") - pl.col(\"fld_score\")).abs() <= 3)\n",
    "#     .cast(pl.Int32)\n",
    "#     .alias(\"high_pressure\")\n",
    "# )\n",
    "\n",
    "# df.head()"
   ]
  },
  {
   "cell_type": "code",
   "execution_count": 65,
   "metadata": {},
   "outputs": [
    {
     "data": {
      "text/html": [
       "<div><style>\n",
       ".dataframe > thead > tr,\n",
       ".dataframe > tbody > tr {\n",
       "  text-align: right;\n",
       "  white-space: pre-wrap;\n",
       "}\n",
       "</style>\n",
       "<small>shape: (5, 40)</small><table border=\"1\" class=\"dataframe\"><thead><tr><th>pitch_type</th><th>game_date</th><th>release_speed</th><th>release_pos_x</th><th>release_pos_z</th><th>player_name</th><th>batter</th><th>pitcher</th><th>stand</th><th>type</th><th>pfx_x</th><th>pfx_z</th><th>plate_x</th><th>plate_z</th><th>outs_when_up</th><th>inning</th><th>inning_topbot</th><th>vx0</th><th>vy0</th><th>vz0</th><th>ax</th><th>ay</th><th>az</th><th>sz_top</th><th>sz_bot</th><th>effective_speed</th><th>release_spin_rate</th><th>release_extension</th><th>game_pk</th><th>release_pos_y</th><th>at_bat_number</th><th>pitch_number</th><th>bat_score</th><th>fld_score</th><th>if_fielding_alignment</th><th>of_fielding_alignment</th><th>spin_axis</th><th>next_pitch</th><th>count</th><th>base_state</th></tr><tr><td>u32</td><td>datetime[μs]</td><td>f64</td><td>f64</td><td>f64</td><td>str</td><td>i64</td><td>i64</td><td>u32</td><td>u32</td><td>f64</td><td>f64</td><td>f64</td><td>f64</td><td>i64</td><td>i64</td><td>u32</td><td>f64</td><td>f64</td><td>f64</td><td>f64</td><td>f64</td><td>f64</td><td>f64</td><td>f64</td><td>f64</td><td>f64</td><td>f64</td><td>i64</td><td>f64</td><td>i64</td><td>i64</td><td>i64</td><td>i64</td><td>u32</td><td>u32</td><td>f64</td><td>u32</td><td>u32</td><td>u32</td></tr></thead><tbody><tr><td>1</td><td>2022-03-19 00:00:00</td><td>92.2</td><td>-2.56</td><td>5.43</td><td>&quot;Nola, Aaron&quot;</td><td>605480</td><td>605400</td><td>0</td><td>1</td><td>-1.49</td><td>1.31</td><td>-0.84</td><td>2.43</td><td>0</td><td>1</td><td>0</td><td>7.60704</td><td>-134.022722</td><td>-4.632891</td><td>-19.575483</td><td>28.632765</td><td>-15.589008</td><td>3.3</td><td>1.5</td><td>null</td><td>null</td><td>null</td><td>706872</td><td>54.13</td><td>1</td><td>1</td><td>0</td><td>0</td><td>null</td><td>null</td><td>null</td><td>3</td><td>0</td><td>0</td></tr><tr><td>3</td><td>2022-03-19 00:00:00</td><td>78.4</td><td>-2.43</td><td>5.57</td><td>&quot;Nola, Aaron&quot;</td><td>605480</td><td>605400</td><td>0</td><td>1</td><td>0.68</td><td>-0.69</td><td>0.5</td><td>2.11</td><td>0</td><td>1</td><td>0</td><td>5.097511</td><td>-114.097729</td><td>0.697378</td><td>4.920583</td><td>22.400799</td><td>-38.53246</td><td>3.3</td><td>1.5</td><td>null</td><td>null</td><td>null</td><td>706872</td><td>54.13</td><td>1</td><td>2</td><td>0</td><td>0</td><td>null</td><td>null</td><td>null</td><td>1</td><td>1</td><td>0</td></tr><tr><td>1</td><td>2022-03-19 00:00:00</td><td>92.4</td><td>-2.49</td><td>5.49</td><td>&quot;Nola, Aaron&quot;</td><td>605480</td><td>605400</td><td>0</td><td>2</td><td>-1.47</td><td>1.35</td><td>0.58</td><td>3.4</td><td>0</td><td>1</td><td>0</td><td>10.986446</td><td>-134.099297</td><td>-2.413662</td><td>-20.087748</td><td>28.685899</td><td>-15.513516</td><td>3.3</td><td>1.5</td><td>null</td><td>null</td><td>null</td><td>706872</td><td>54.13</td><td>1</td><td>3</td><td>0</td><td>0</td><td>null</td><td>null</td><td>null</td><td>1</td><td>2</td><td>0</td></tr><tr><td>1</td><td>2022-03-19 00:00:00</td><td>93.2</td><td>-2.35</td><td>5.45</td><td>&quot;Nola, Aaron&quot;</td><td>605480</td><td>605400</td><td>0</td><td>1</td><td>-1.56</td><td>1.29</td><td>-0.98</td><td>2.75</td><td>0</td><td>1</td><td>0</td><td>6.967558</td><td>-135.527336</td><td>-3.979329</td><td>-20.786844</td><td>30.865196</td><td>-15.61834</td><td>3.3</td><td>1.5</td><td>null</td><td>null</td><td>null</td><td>706872</td><td>54.13</td><td>1</td><td>4</td><td>0</td><td>0</td><td>null</td><td>null</td><td>null</td><td>1</td><td>3</td><td>0</td></tr><tr><td>1</td><td>2022-03-19 00:00:00</td><td>92.7</td><td>-2.51</td><td>5.43</td><td>&quot;Nola, Aaron&quot;</td><td>666182</td><td>605400</td><td>1</td><td>1</td><td>-1.25</td><td>1.52</td><td>-0.06</td><td>2.77</td><td>1</td><td>1</td><td>0</td><td>9.000929</td><td>-134.537277</td><td>-4.232589</td><td>-17.263002</td><td>31.813808</td><td>-13.015395</td><td>3.37</td><td>1.53</td><td>null</td><td>null</td><td>null</td><td>706872</td><td>54.13</td><td>2</td><td>1</td><td>0</td><td>0</td><td>null</td><td>null</td><td>null</td><td>1</td><td>0</td><td>0</td></tr></tbody></table></div>"
      ],
      "text/plain": [
       "shape: (5, 40)\n",
       "┌────────────┬────────────┬────────────┬───────────┬───┬───────────┬───────────┬───────┬───────────┐\n",
       "│ pitch_type ┆ game_date  ┆ release_sp ┆ release_p ┆ … ┆ spin_axis ┆ next_pitc ┆ count ┆ base_stat │\n",
       "│ ---        ┆ ---        ┆ eed        ┆ os_x      ┆   ┆ ---       ┆ h         ┆ ---   ┆ e         │\n",
       "│ u32        ┆ datetime[μ ┆ ---        ┆ ---       ┆   ┆ f64       ┆ ---       ┆ u32   ┆ ---       │\n",
       "│            ┆ s]         ┆ f64        ┆ f64       ┆   ┆           ┆ u32       ┆       ┆ u32       │\n",
       "╞════════════╪════════════╪════════════╪═══════════╪═══╪═══════════╪═══════════╪═══════╪═══════════╡\n",
       "│ 1          ┆ 2022-03-19 ┆ 92.2       ┆ -2.56     ┆ … ┆ null      ┆ 3         ┆ 0     ┆ 0         │\n",
       "│            ┆ 00:00:00   ┆            ┆           ┆   ┆           ┆           ┆       ┆           │\n",
       "│ 3          ┆ 2022-03-19 ┆ 78.4       ┆ -2.43     ┆ … ┆ null      ┆ 1         ┆ 1     ┆ 0         │\n",
       "│            ┆ 00:00:00   ┆            ┆           ┆   ┆           ┆           ┆       ┆           │\n",
       "│ 1          ┆ 2022-03-19 ┆ 92.4       ┆ -2.49     ┆ … ┆ null      ┆ 1         ┆ 2     ┆ 0         │\n",
       "│            ┆ 00:00:00   ┆            ┆           ┆   ┆           ┆           ┆       ┆           │\n",
       "│ 1          ┆ 2022-03-19 ┆ 93.2       ┆ -2.35     ┆ … ┆ null      ┆ 1         ┆ 3     ┆ 0         │\n",
       "│            ┆ 00:00:00   ┆            ┆           ┆   ┆           ┆           ┆       ┆           │\n",
       "│ 1          ┆ 2022-03-19 ┆ 92.7       ┆ -2.51     ┆ … ┆ null      ┆ 1         ┆ 0     ┆ 0         │\n",
       "│            ┆ 00:00:00   ┆            ┆           ┆   ┆           ┆           ┆       ┆           │\n",
       "└────────────┴────────────┴────────────┴───────────┴───┴───────────┴───────────┴───────┴───────────┘"
      ]
     },
     "execution_count": 65,
     "metadata": {},
     "output_type": "execute_result"
    }
   ],
   "source": [
    "def sort_pitch_data(df):\n",
    "    return df.sort(\n",
    "        [\n",
    "            \"game_date\",  # Primary: chronological order\n",
    "            \"game_pk\",  # Secondary: unique game identifier\n",
    "            \"inning\",  # Tertiary: game sequence\n",
    "            \"at_bat_number\",  # Game at-bat order\n",
    "            \"pitch_number\",  # At-bat pitch sequence\n",
    "        ],\n",
    "        descending=False,  # Ascending order for all\n",
    "    )\n",
    "\n",
    "\n",
    "df = sort_pitch_data(df)\n",
    "df.head()"
   ]
  },
  {
   "cell_type": "code",
   "execution_count": 66,
   "metadata": {},
   "outputs": [
    {
     "data": {
      "text/html": [
       "<div><style>\n",
       ".dataframe > thead > tr,\n",
       ".dataframe > tbody > tr {\n",
       "  text-align: right;\n",
       "  white-space: pre-wrap;\n",
       "}\n",
       "</style>\n",
       "<small>shape: (5, 40)</small><table border=\"1\" class=\"dataframe\"><thead><tr><th>pitch_type</th><th>game_date</th><th>release_speed</th><th>release_pos_x</th><th>release_pos_z</th><th>player_name</th><th>batter</th><th>pitcher</th><th>stand</th><th>type</th><th>pfx_x</th><th>pfx_z</th><th>plate_x</th><th>plate_z</th><th>outs_when_up</th><th>inning</th><th>inning_topbot</th><th>vx0</th><th>vy0</th><th>vz0</th><th>ax</th><th>ay</th><th>az</th><th>sz_top</th><th>sz_bot</th><th>effective_speed</th><th>release_spin_rate</th><th>release_extension</th><th>game_pk</th><th>release_pos_y</th><th>at_bat_number</th><th>pitch_number</th><th>bat_score</th><th>fld_score</th><th>if_fielding_alignment</th><th>of_fielding_alignment</th><th>spin_axis</th><th>next_pitch</th><th>count</th><th>base_state</th></tr><tr><td>u32</td><td>datetime[μs]</td><td>f64</td><td>f64</td><td>f64</td><td>str</td><td>i64</td><td>i64</td><td>u32</td><td>u32</td><td>f64</td><td>f64</td><td>f64</td><td>f64</td><td>i64</td><td>i64</td><td>u32</td><td>f64</td><td>f64</td><td>f64</td><td>f64</td><td>f64</td><td>f64</td><td>f64</td><td>f64</td><td>f64</td><td>f64</td><td>f64</td><td>i64</td><td>f64</td><td>i64</td><td>i64</td><td>i64</td><td>i64</td><td>u32</td><td>u32</td><td>f64</td><td>u32</td><td>u32</td><td>u32</td></tr></thead><tbody><tr><td>1</td><td>2022-03-19 00:00:00</td><td>92.2</td><td>-2.56</td><td>5.43</td><td>&quot;Nola, Aaron&quot;</td><td>605480</td><td>605400</td><td>0</td><td>1</td><td>-1.49</td><td>1.31</td><td>-0.84</td><td>2.43</td><td>0</td><td>1</td><td>0</td><td>7.60704</td><td>-134.022722</td><td>-4.632891</td><td>-19.575483</td><td>28.632765</td><td>-15.589008</td><td>3.3</td><td>1.5</td><td>null</td><td>null</td><td>null</td><td>706872</td><td>54.13</td><td>1</td><td>1</td><td>0</td><td>0</td><td>null</td><td>null</td><td>null</td><td>3</td><td>0</td><td>0</td></tr><tr><td>3</td><td>2022-03-19 00:00:00</td><td>78.4</td><td>-2.43</td><td>5.57</td><td>&quot;Nola, Aaron&quot;</td><td>605480</td><td>605400</td><td>0</td><td>1</td><td>0.68</td><td>-0.69</td><td>0.5</td><td>2.11</td><td>0</td><td>1</td><td>0</td><td>5.097511</td><td>-114.097729</td><td>0.697378</td><td>4.920583</td><td>22.400799</td><td>-38.53246</td><td>3.3</td><td>1.5</td><td>null</td><td>null</td><td>null</td><td>706872</td><td>54.13</td><td>1</td><td>2</td><td>0</td><td>0</td><td>null</td><td>null</td><td>null</td><td>1</td><td>1</td><td>0</td></tr><tr><td>1</td><td>2022-03-19 00:00:00</td><td>92.4</td><td>-2.49</td><td>5.49</td><td>&quot;Nola, Aaron&quot;</td><td>605480</td><td>605400</td><td>0</td><td>2</td><td>-1.47</td><td>1.35</td><td>0.58</td><td>3.4</td><td>0</td><td>1</td><td>0</td><td>10.986446</td><td>-134.099297</td><td>-2.413662</td><td>-20.087748</td><td>28.685899</td><td>-15.513516</td><td>3.3</td><td>1.5</td><td>null</td><td>null</td><td>null</td><td>706872</td><td>54.13</td><td>1</td><td>3</td><td>0</td><td>0</td><td>null</td><td>null</td><td>null</td><td>1</td><td>2</td><td>0</td></tr><tr><td>1</td><td>2022-03-19 00:00:00</td><td>93.2</td><td>-2.35</td><td>5.45</td><td>&quot;Nola, Aaron&quot;</td><td>605480</td><td>605400</td><td>0</td><td>1</td><td>-1.56</td><td>1.29</td><td>-0.98</td><td>2.75</td><td>0</td><td>1</td><td>0</td><td>6.967558</td><td>-135.527336</td><td>-3.979329</td><td>-20.786844</td><td>30.865196</td><td>-15.61834</td><td>3.3</td><td>1.5</td><td>null</td><td>null</td><td>null</td><td>706872</td><td>54.13</td><td>1</td><td>4</td><td>0</td><td>0</td><td>null</td><td>null</td><td>null</td><td>1</td><td>3</td><td>0</td></tr><tr><td>1</td><td>2022-03-19 00:00:00</td><td>92.7</td><td>-2.51</td><td>5.43</td><td>&quot;Nola, Aaron&quot;</td><td>666182</td><td>605400</td><td>1</td><td>1</td><td>-1.25</td><td>1.52</td><td>-0.06</td><td>2.77</td><td>1</td><td>1</td><td>0</td><td>9.000929</td><td>-134.537277</td><td>-4.232589</td><td>-17.263002</td><td>31.813808</td><td>-13.015395</td><td>3.37</td><td>1.53</td><td>null</td><td>null</td><td>null</td><td>706872</td><td>54.13</td><td>2</td><td>1</td><td>0</td><td>0</td><td>null</td><td>null</td><td>null</td><td>1</td><td>0</td><td>0</td></tr></tbody></table></div>"
      ],
      "text/plain": [
       "shape: (5, 40)\n",
       "┌────────────┬────────────┬────────────┬───────────┬───┬───────────┬───────────┬───────┬───────────┐\n",
       "│ pitch_type ┆ game_date  ┆ release_sp ┆ release_p ┆ … ┆ spin_axis ┆ next_pitc ┆ count ┆ base_stat │\n",
       "│ ---        ┆ ---        ┆ eed        ┆ os_x      ┆   ┆ ---       ┆ h         ┆ ---   ┆ e         │\n",
       "│ u32        ┆ datetime[μ ┆ ---        ┆ ---       ┆   ┆ f64       ┆ ---       ┆ u32   ┆ ---       │\n",
       "│            ┆ s]         ┆ f64        ┆ f64       ┆   ┆           ┆ u32       ┆       ┆ u32       │\n",
       "╞════════════╪════════════╪════════════╪═══════════╪═══╪═══════════╪═══════════╪═══════╪═══════════╡\n",
       "│ 1          ┆ 2022-03-19 ┆ 92.2       ┆ -2.56     ┆ … ┆ null      ┆ 3         ┆ 0     ┆ 0         │\n",
       "│            ┆ 00:00:00   ┆            ┆           ┆   ┆           ┆           ┆       ┆           │\n",
       "│ 3          ┆ 2022-03-19 ┆ 78.4       ┆ -2.43     ┆ … ┆ null      ┆ 1         ┆ 1     ┆ 0         │\n",
       "│            ┆ 00:00:00   ┆            ┆           ┆   ┆           ┆           ┆       ┆           │\n",
       "│ 1          ┆ 2022-03-19 ┆ 92.4       ┆ -2.49     ┆ … ┆ null      ┆ 1         ┆ 2     ┆ 0         │\n",
       "│            ┆ 00:00:00   ┆            ┆           ┆   ┆           ┆           ┆       ┆           │\n",
       "│ 1          ┆ 2022-03-19 ┆ 93.2       ┆ -2.35     ┆ … ┆ null      ┆ 1         ┆ 3     ┆ 0         │\n",
       "│            ┆ 00:00:00   ┆            ┆           ┆   ┆           ┆           ┆       ┆           │\n",
       "│ 1          ┆ 2022-03-19 ┆ 92.7       ┆ -2.51     ┆ … ┆ null      ┆ 1         ┆ 0     ┆ 0         │\n",
       "│            ┆ 00:00:00   ┆            ┆           ┆   ┆           ┆           ┆       ┆           │\n",
       "└────────────┴────────────┴────────────┴───────────┴───┴───────────┴───────────┴───────┴───────────┘"
      ]
     },
     "execution_count": 66,
     "metadata": {},
     "output_type": "execute_result"
    }
   ],
   "source": [
    "df.head()"
   ]
  },
  {
   "cell_type": "code",
   "execution_count": 69,
   "metadata": {},
   "outputs": [
    {
     "name": "stdout",
     "output_type": "stream",
     "text": [
      "30170\n"
     ]
    }
   ],
   "source": [
    "print(df.height)\n",
    "filtered = []\n",
    "for pitcher_df in df.group_by(\"pitcher\"):\n",
    "    pitcher_code = pitcher_df[0]\n",
    "    pitcher_df = pitcher_df[1]\n",
    "    val_counts = (\n",
    "        pitcher_df.select(\n",
    "            pl.col(\"pitch_type\").value_counts(normalize=True).alias(\"pitch_type_counts\")\n",
    "        )\n",
    "        .unnest(\"pitch_type_counts\")\n",
    "        .sort(\"proportion\", descending=True)\n",
    "    )\n",
    "\n",
    "    # Get pitch types with proportion < 0.01\n",
    "    low_prop_pitches = (\n",
    "        val_counts.filter(pl.col(\"proportion\") < 0.01)[\"pitch_type\"].unique().to_list()\n",
    "    )\n",
    "\n",
    "    # Filter out those pitch types\n",
    "    pitcher_df = pitcher_df.filter(~pl.col(\"pitch_type\").is_in(low_prop_pitches))\n",
    "\n",
    "    # combine back to main df\n",
    "    filtered.append(pitcher_df)\n",
    "# combine back to one df\n",
    "df = pl.concat(filtered)"
   ]
  },
  {
   "cell_type": "code",
   "execution_count": 70,
   "metadata": {},
   "outputs": [
    {
     "data": {
      "text/plain": [
       "30062"
      ]
     },
     "execution_count": 70,
     "metadata": {},
     "output_type": "execute_result"
    }
   ],
   "source": [
    "df.height"
   ]
  }
 ],
 "metadata": {
  "kernelspec": {
   "display_name": "pitch_predict",
   "language": "python",
   "name": "python3"
  },
  "language_info": {
   "codemirror_mode": {
    "name": "ipython",
    "version": 3
   },
   "file_extension": ".py",
   "mimetype": "text/x-python",
   "name": "python",
   "nbconvert_exporter": "python",
   "pygments_lexer": "ipython3",
   "version": "3.12.7"
  }
 },
 "nbformat": 4,
 "nbformat_minor": 2
}
