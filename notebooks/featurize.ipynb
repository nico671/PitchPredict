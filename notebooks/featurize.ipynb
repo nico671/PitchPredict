{
 "cells": [
  {
   "cell_type": "markdown",
   "metadata": {},
   "source": [
    "# feats using polar yay"
   ]
  },
  {
   "cell_type": "code",
   "execution_count": 116,
   "metadata": {},
   "outputs": [],
   "source": [
    "import polars as pl\n",
    "import yaml\n",
    "from pathlib import Path\n",
    "\n",
    "# pl.set_option(\"display\", False)"
   ]
  },
  {
   "cell_type": "code",
   "execution_count": 117,
   "metadata": {},
   "outputs": [],
   "source": [
    "input_path = Path(\"../data/cleaned/2015_2024_statcast_clean.parquet\")\n",
    "\n",
    "df = pl.read_parquet(input_path)"
   ]
  },
  {
   "cell_type": "code",
   "execution_count": 118,
   "metadata": {},
   "outputs": [
    {
     "data": {
      "text/html": [
       "<div><style>\n",
       ".dataframe > thead > tr,\n",
       ".dataframe > tbody > tr {\n",
       "  text-align: right;\n",
       "  white-space: pre-wrap;\n",
       "}\n",
       "</style>\n",
       "<small>shape: (33_492, 62)</small><table border=\"1\" class=\"dataframe\"><thead><tr><th>pitch_type</th><th>game_date</th><th>release_speed</th><th>release_pos_x</th><th>release_pos_z</th><th>player_name</th><th>batter</th><th>pitcher</th><th>events</th><th>zone</th><th>stand</th><th>p_throws</th><th>type</th><th>hit_location</th><th>bb_type</th><th>balls</th><th>strikes</th><th>pfx_x</th><th>pfx_z</th><th>plate_x</th><th>plate_z</th><th>on_3b</th><th>on_2b</th><th>on_1b</th><th>outs_when_up</th><th>inning</th><th>inning_topbot</th><th>hc_x</th><th>hc_y</th><th>vx0</th><th>vy0</th><th>vz0</th><th>ax</th><th>ay</th><th>az</th><th>sz_top</th><th>sz_bot</th><th>hit_distance_sc</th><th>launch_speed</th><th>launch_angle</th><th>effective_speed</th><th>release_spin_rate</th><th>release_extension</th><th>game_pk</th><th>release_pos_y</th><th>estimated_ba_using_speedangle</th><th>estimated_woba_using_speedangle</th><th>woba_value</th><th>woba_denom</th><th>babip_value</th><th>iso_value</th><th>launch_speed_angle</th><th>at_bat_number</th><th>pitch_number</th><th>bat_score</th><th>fld_score</th><th>if_fielding_alignment</th><th>of_fielding_alignment</th><th>spin_axis</th><th>bat_speed</th><th>swing_length</th><th>next_pitch</th></tr><tr><td>i64</td><td>datetime[μs]</td><td>f64</td><td>f64</td><td>f64</td><td>str</td><td>i64</td><td>i64</td><td>i64</td><td>f64</td><td>i64</td><td>i64</td><td>i64</td><td>f64</td><td>i64</td><td>i64</td><td>i64</td><td>f64</td><td>f64</td><td>f64</td><td>f64</td><td>f64</td><td>f64</td><td>f64</td><td>i64</td><td>i64</td><td>i64</td><td>f64</td><td>f64</td><td>f64</td><td>f64</td><td>f64</td><td>f64</td><td>f64</td><td>f64</td><td>f64</td><td>f64</td><td>f64</td><td>f64</td><td>f64</td><td>f64</td><td>f64</td><td>f64</td><td>i64</td><td>f64</td><td>f64</td><td>f64</td><td>f64</td><td>f64</td><td>f64</td><td>f64</td><td>f64</td><td>i64</td><td>i64</td><td>i64</td><td>i64</td><td>i64</td><td>i64</td><td>f64</td><td>f64</td><td>f64</td><td>i64</td></tr></thead><tbody><tr><td>7</td><td>2024-10-20 00:00:00</td><td>78.8</td><td>4.1</td><td>5.27</td><td>&quot;Manaea, Sean&quot;</td><td>571970</td><td>640455</td><td>4</td><td>14.0</td><td>1</td><td>0</td><td>2</td><td>-1.0</td><td>-1</td><td>3</td><td>1</td><td>-1.04</td><td>0.07</td><td>1.44</td><td>1.65</td><td>-1.0</td><td>-1.0</td><td>-1.0</td><td>0</td><td>3</td><td>0</td><td>-1.0</td><td>-1.0</td><td>-3.876776</td><td>-114.790473</td><td>-1.213129</td><td>-8.519711</td><td>20.865706</td><td>-31.531093</td><td>2.99</td><td>1.5</td><td>-1.0</td><td>-1.0</td><td>-1.0</td><td>79.7</td><td>2141.0</td><td>6.8</td><td>775302</td><td>53.72</td><td>-1.0</td><td>0.689131</td><td>0.7</td><td>1.0</td><td>0.0</td><td>0.0</td><td>-1.0</td><td>31</td><td>5</td><td>4</td><td>1</td><td>2</td><td>0</td><td>294.0</td><td>-1.0</td><td>-1.0</td><td>0</td></tr><tr><td>0</td><td>2024-10-20 00:00:00</td><td>83.9</td><td>4.16</td><td>5.13</td><td>&quot;Manaea, Sean&quot;</td><td>571970</td><td>640455</td><td>-1</td><td>13.0</td><td>1</td><td>0</td><td>2</td><td>-1.0</td><td>-1</td><td>2</td><td>1</td><td>1.28</td><td>-0.01</td><td>-1.13</td><td>1.32</td><td>-1.0</td><td>-1.0</td><td>-1.0</td><td>0</td><td>3</td><td>0</td><td>-1.0</td><td>-1.0</td><td>-14.910726</td><td>-121.300964</td><td>-2.306161</td><td>15.532788</td><td>23.944392</td><td>-32.030777</td><td>2.99</td><td>1.4</td><td>-1.0</td><td>-1.0</td><td>-1.0</td><td>84.7</td><td>1835.0</td><td>7.2</td><td>775302</td><td>53.31</td><td>-1.0</td><td>-1.0</td><td>-1.0</td><td>-1.0</td><td>-1.0</td><td>-1.0</td><td>-1.0</td><td>31</td><td>4</td><td>4</td><td>1</td><td>2</td><td>0</td><td>106.0</td><td>-1.0</td><td>-1.0</td><td>1</td></tr><tr><td>1</td><td>2024-10-20 00:00:00</td><td>91.9</td><td>4.03</td><td>4.97</td><td>&quot;Manaea, Sean&quot;</td><td>571970</td><td>640455</td><td>-1</td><td>13.0</td><td>1</td><td>0</td><td>2</td><td>-1.0</td><td>-1</td><td>1</td><td>1</td><td>1.16</td><td>0.76</td><td>-0.93</td><td>2.17</td><td>-1.0</td><td>-1.0</td><td>-1.0</td><td>0</td><td>3</td><td>0</td><td>-1.0</td><td>-1.0</td><td>-15.210428</td><td>-132.944842</td><td>-2.837582</td><td>16.955867</td><td>27.981449</td><td>-22.734943</td><td>2.99</td><td>1.53</td><td>-1.0</td><td>-1.0</td><td>-1.0</td><td>92.7</td><td>2131.0</td><td>7.0</td><td>775302</td><td>53.48</td><td>-1.0</td><td>-1.0</td><td>-1.0</td><td>-1.0</td><td>-1.0</td><td>-1.0</td><td>-1.0</td><td>31</td><td>3</td><td>4</td><td>1</td><td>2</td><td>0</td><td>113.0</td><td>-1.0</td><td>-1.0</td><td>7</td></tr><tr><td>7</td><td>2024-10-20 00:00:00</td><td>80.2</td><td>3.84</td><td>5.31</td><td>&quot;Manaea, Sean&quot;</td><td>571970</td><td>640455</td><td>-1</td><td>13.0</td><td>1</td><td>0</td><td>2</td><td>-1.0</td><td>-1</td><td>0</td><td>1</td><td>-1.34</td><td>0.15</td><td>-0.86</td><td>1.28</td><td>-1.0</td><td>-1.0</td><td>-1.0</td><td>0</td><td>3</td><td>0</td><td>-1.0</td><td>-1.0</td><td>-7.987162</td><td>-116.480556</td><td>-2.438514</td><td>-10.452965</td><td>23.959752</td><td>-30.532682</td><td>2.99</td><td>1.35</td><td>-1.0</td><td>-1.0</td><td>-1.0</td><td>81.3</td><td>2117.0</td><td>7.4</td><td>775302</td><td>53.14</td><td>-1.0</td><td>-1.0</td><td>-1.0</td><td>-1.0</td><td>-1.0</td><td>-1.0</td><td>-1.0</td><td>31</td><td>2</td><td>4</td><td>1</td><td>2</td><td>0</td><td>284.0</td><td>-1.0</td><td>-1.0</td><td>7</td></tr><tr><td>7</td><td>2024-10-20 00:00:00</td><td>78.9</td><td>3.89</td><td>5.26</td><td>&quot;Manaea, Sean&quot;</td><td>571970</td><td>640455</td><td>-1</td><td>8.0</td><td>1</td><td>0</td><td>1</td><td>-1.0</td><td>-1</td><td>0</td><td>0</td><td>-1.57</td><td>0.19</td><td>-0.23</td><td>1.53</td><td>-1.0</td><td>-1.0</td><td>-1.0</td><td>0</td><td>3</td><td>0</td><td>-1.0</td><td>-1.0</td><td>-6.125394</td><td>-114.782271</td><td>-1.669025</td><td>-12.671426</td><td>21.628193</td><td>-30.380521</td><td>2.99</td><td>1.48</td><td>-1.0</td><td>-1.0</td><td>-1.0</td><td>79.9</td><td>2152.0</td><td>7.0</td><td>775302</td><td>53.45</td><td>-1.0</td><td>-1.0</td><td>-1.0</td><td>-1.0</td><td>-1.0</td><td>-1.0</td><td>-1.0</td><td>31</td><td>1</td><td>4</td><td>1</td><td>2</td><td>0</td><td>283.0</td><td>-1.0</td><td>-1.0</td><td>2</td></tr><tr><td>&hellip;</td><td>&hellip;</td><td>&hellip;</td><td>&hellip;</td><td>&hellip;</td><td>&hellip;</td><td>&hellip;</td><td>&hellip;</td><td>&hellip;</td><td>&hellip;</td><td>&hellip;</td><td>&hellip;</td><td>&hellip;</td><td>&hellip;</td><td>&hellip;</td><td>&hellip;</td><td>&hellip;</td><td>&hellip;</td><td>&hellip;</td><td>&hellip;</td><td>&hellip;</td><td>&hellip;</td><td>&hellip;</td><td>&hellip;</td><td>&hellip;</td><td>&hellip;</td><td>&hellip;</td><td>&hellip;</td><td>&hellip;</td><td>&hellip;</td><td>&hellip;</td><td>&hellip;</td><td>&hellip;</td><td>&hellip;</td><td>&hellip;</td><td>&hellip;</td><td>&hellip;</td><td>&hellip;</td><td>&hellip;</td><td>&hellip;</td><td>&hellip;</td><td>&hellip;</td><td>&hellip;</td><td>&hellip;</td><td>&hellip;</td><td>&hellip;</td><td>&hellip;</td><td>&hellip;</td><td>&hellip;</td><td>&hellip;</td><td>&hellip;</td><td>&hellip;</td><td>&hellip;</td><td>&hellip;</td><td>&hellip;</td><td>&hellip;</td><td>&hellip;</td><td>&hellip;</td><td>&hellip;</td><td>&hellip;</td><td>&hellip;</td><td>&hellip;</td></tr><tr><td>0</td><td>2024-03-16 00:00:00</td><td>84.0</td><td>1.71</td><td>6.4</td><td>&quot;Skubal, Tarik&quot;</td><td>668804</td><td>669373</td><td>-1</td><td>14.0</td><td>0</td><td>0</td><td>1</td><td>-1.0</td><td>-1</td><td>1</td><td>1</td><td>1.52</td><td>0.6</td><td>1.09</td><td>2.08</td><td>-1.0</td><td>-1.0</td><td>457705.0</td><td>0</td><td>1</td><td>0</td><td>-1.0</td><td>-1.0</td><td>-4.432459</td><td>-122.07474</td><td>-4.703139</td><td>16.032842</td><td>26.558863</td><td>-25.453648</td><td>3.3</td><td>1.67</td><td>-1.0</td><td>-1.0</td><td>-1.0</td><td>83.5</td><td>1505.0</td><td>6.3</td><td>747947</td><td>54.23</td><td>-1.0</td><td>-1.0</td><td>-1.0</td><td>-1.0</td><td>-1.0</td><td>-1.0</td><td>-1.0</td><td>6</td><td>3</td><td>0</td><td>0</td><td>0</td><td>1</td><td>130.0</td><td>-1.0</td><td>-1.0</td><td>0</td></tr><tr><td>0</td><td>2024-03-16 00:00:00</td><td>85.4</td><td>1.95</td><td>6.33</td><td>&quot;Skubal, Tarik&quot;</td><td>668804</td><td>669373</td><td>-1</td><td>12.0</td><td>0</td><td>0</td><td>2</td><td>-1.0</td><td>-1</td><td>0</td><td>1</td><td>1.44</td><td>0.92</td><td>1.11</td><td>3.31</td><td>-1.0</td><td>-1.0</td><td>457705.0</td><td>0</td><td>1</td><td>0</td><td>-1.0</td><td>-1.0</td><td>-4.854903</td><td>-124.173193</td><td>-2.600914</td><td>15.806897</td><td>27.350271</td><td>-22.359652</td><td>3.3</td><td>1.67</td><td>-1.0</td><td>-1.0</td><td>-1.0</td><td>84.9</td><td>1740.0</td><td>6.2</td><td>747947</td><td>54.26</td><td>-1.0</td><td>-1.0</td><td>-1.0</td><td>-1.0</td><td>-1.0</td><td>-1.0</td><td>-1.0</td><td>6</td><td>2</td><td>0</td><td>0</td><td>0</td><td>1</td><td>131.0</td><td>-1.0</td><td>-1.0</td><td>1</td></tr><tr><td>1</td><td>2024-03-16 00:00:00</td><td>96.2</td><td>1.78</td><td>6.3</td><td>&quot;Skubal, Tarik&quot;</td><td>668804</td><td>669373</td><td>-1</td><td>2.0</td><td>0</td><td>0</td><td>1</td><td>-1.0</td><td>-1</td><td>0</td><td>0</td><td>1.37</td><td>1.08</td><td>-0.05</td><td>2.83</td><td>-1.0</td><td>-1.0</td><td>457705.0</td><td>0</td><td>1</td><td>0</td><td>-1.0</td><td>-1.0</td><td>-7.948987</td><td>-139.714018</td><td>-5.985534</td><td>19.815637</td><td>34.920946</td><td>-16.847749</td><td>3.3</td><td>1.67</td><td>200.0</td><td>82.2</td><td>17.0</td><td>95.7</td><td>2161.0</td><td>6.4</td><td>747947</td><td>54.14</td><td>-1.0</td><td>-1.0</td><td>-1.0</td><td>-1.0</td><td>-1.0</td><td>-1.0</td><td>-1.0</td><td>6</td><td>1</td><td>0</td><td>0</td><td>0</td><td>1</td><td>145.0</td><td>-1.0</td><td>-1.0</td><td>0</td></tr><tr><td>0</td><td>2024-03-16 00:00:00</td><td>86.7</td><td>1.61</td><td>6.32</td><td>&quot;Skubal, Tarik&quot;</td><td>457705</td><td>669373</td><td>0</td><td>12.0</td><td>0</td><td>0</td><td>0</td><td>8.0</td><td>0</td><td>0</td><td>2</td><td>1.35</td><td>0.6</td><td>0.93</td><td>2.69</td><td>-1.0</td><td>-1.0</td><td>-1.0</td><td>0</td><td>1</td><td>0</td><td>109.79</td><td>117.8</td><td>-4.401027</td><td>-126.047957</td><td>-3.624164</td><td>15.246944</td><td>29.139518</td><td>-25.207848</td><td>3.12</td><td>1.57</td><td>174.0</td><td>85.7</td><td>12.0</td><td>86.3</td><td>1782.0</td><td>6.4</td><td>747947</td><td>54.12</td><td>0.66</td><td>-1.0</td><td>0.9</td><td>-1.0</td><td>1.0</td><td>0.0</td><td>4.0</td><td>5</td><td>3</td><td>0</td><td>0</td><td>0</td><td>0</td><td>130.0</td><td>-1.0</td><td>-1.0</td><td>1</td></tr><tr><td>1</td><td>2024-03-16 00:00:00</td><td>97.3</td><td>1.64</td><td>6.32</td><td>&quot;Skubal, Tarik&quot;</td><td>457705</td><td>669373</td><td>-1</td><td>1.0</td><td>0</td><td>0</td><td>1</td><td>-1.0</td><td>-1</td><td>0</td><td>1</td><td>1.32</td><td>1.29</td><td>-0.64</td><td>2.65</td><td>-1.0</td><td>-1.0</td><td>-1.0</td><td>0</td><td>1</td><td>0</td><td>-1.0</td><td>-1.0</td><td>-9.141577</td><td>-141.109845</td><td>-7.176998</td><td>19.856803</td><td>35.767834</td><td>-13.4769</td><td>3.12</td><td>1.57</td><td>-1.0</td><td>-1.0</td><td>-1.0</td><td>96.7</td><td>2123.0</td><td>6.4</td><td>747947</td><td>54.13</td><td>-1.0</td><td>-1.0</td><td>-1.0</td><td>-1.0</td><td>-1.0</td><td>-1.0</td><td>-1.0</td><td>5</td><td>2</td><td>0</td><td>0</td><td>0</td><td>0</td><td>147.0</td><td>-1.0</td><td>-1.0</td><td>2</td></tr></tbody></table></div>"
      ],
      "text/plain": [
       "shape: (33_492, 62)\n",
       "┌───────────┬───────────┬───────────┬───────────┬───┬───────────┬───────────┬───────────┬──────────┐\n",
       "│ pitch_typ ┆ game_date ┆ release_s ┆ release_p ┆ … ┆ spin_axis ┆ bat_speed ┆ swing_len ┆ next_pit │\n",
       "│ e         ┆ ---       ┆ peed      ┆ os_x      ┆   ┆ ---       ┆ ---       ┆ gth       ┆ ch       │\n",
       "│ ---       ┆ datetime[ ┆ ---       ┆ ---       ┆   ┆ f64       ┆ f64       ┆ ---       ┆ ---      │\n",
       "│ i64       ┆ μs]       ┆ f64       ┆ f64       ┆   ┆           ┆           ┆ f64       ┆ i64      │\n",
       "╞═══════════╪═══════════╪═══════════╪═══════════╪═══╪═══════════╪═══════════╪═══════════╪══════════╡\n",
       "│ 7         ┆ 2024-10-2 ┆ 78.8      ┆ 4.1       ┆ … ┆ 294.0     ┆ -1.0      ┆ -1.0      ┆ 0        │\n",
       "│           ┆ 0         ┆           ┆           ┆   ┆           ┆           ┆           ┆          │\n",
       "│           ┆ 00:00:00  ┆           ┆           ┆   ┆           ┆           ┆           ┆          │\n",
       "│ 0         ┆ 2024-10-2 ┆ 83.9      ┆ 4.16      ┆ … ┆ 106.0     ┆ -1.0      ┆ -1.0      ┆ 1        │\n",
       "│           ┆ 0         ┆           ┆           ┆   ┆           ┆           ┆           ┆          │\n",
       "│           ┆ 00:00:00  ┆           ┆           ┆   ┆           ┆           ┆           ┆          │\n",
       "│ 1         ┆ 2024-10-2 ┆ 91.9      ┆ 4.03      ┆ … ┆ 113.0     ┆ -1.0      ┆ -1.0      ┆ 7        │\n",
       "│           ┆ 0         ┆           ┆           ┆   ┆           ┆           ┆           ┆          │\n",
       "│           ┆ 00:00:00  ┆           ┆           ┆   ┆           ┆           ┆           ┆          │\n",
       "│ 7         ┆ 2024-10-2 ┆ 80.2      ┆ 3.84      ┆ … ┆ 284.0     ┆ -1.0      ┆ -1.0      ┆ 7        │\n",
       "│           ┆ 0         ┆           ┆           ┆   ┆           ┆           ┆           ┆          │\n",
       "│           ┆ 00:00:00  ┆           ┆           ┆   ┆           ┆           ┆           ┆          │\n",
       "│ 7         ┆ 2024-10-2 ┆ 78.9      ┆ 3.89      ┆ … ┆ 283.0     ┆ -1.0      ┆ -1.0      ┆ 2        │\n",
       "│           ┆ 0         ┆           ┆           ┆   ┆           ┆           ┆           ┆          │\n",
       "│           ┆ 00:00:00  ┆           ┆           ┆   ┆           ┆           ┆           ┆          │\n",
       "│ …         ┆ …         ┆ …         ┆ …         ┆ … ┆ …         ┆ …         ┆ …         ┆ …        │\n",
       "│ 0         ┆ 2024-03-1 ┆ 84.0      ┆ 1.71      ┆ … ┆ 130.0     ┆ -1.0      ┆ -1.0      ┆ 0        │\n",
       "│           ┆ 6         ┆           ┆           ┆   ┆           ┆           ┆           ┆          │\n",
       "│           ┆ 00:00:00  ┆           ┆           ┆   ┆           ┆           ┆           ┆          │\n",
       "│ 0         ┆ 2024-03-1 ┆ 85.4      ┆ 1.95      ┆ … ┆ 131.0     ┆ -1.0      ┆ -1.0      ┆ 1        │\n",
       "│           ┆ 6         ┆           ┆           ┆   ┆           ┆           ┆           ┆          │\n",
       "│           ┆ 00:00:00  ┆           ┆           ┆   ┆           ┆           ┆           ┆          │\n",
       "│ 1         ┆ 2024-03-1 ┆ 96.2      ┆ 1.78      ┆ … ┆ 145.0     ┆ -1.0      ┆ -1.0      ┆ 0        │\n",
       "│           ┆ 6         ┆           ┆           ┆   ┆           ┆           ┆           ┆          │\n",
       "│           ┆ 00:00:00  ┆           ┆           ┆   ┆           ┆           ┆           ┆          │\n",
       "│ 0         ┆ 2024-03-1 ┆ 86.7      ┆ 1.61      ┆ … ┆ 130.0     ┆ -1.0      ┆ -1.0      ┆ 1        │\n",
       "│           ┆ 6         ┆           ┆           ┆   ┆           ┆           ┆           ┆          │\n",
       "│           ┆ 00:00:00  ┆           ┆           ┆   ┆           ┆           ┆           ┆          │\n",
       "│ 1         ┆ 2024-03-1 ┆ 97.3      ┆ 1.64      ┆ … ┆ 147.0     ┆ -1.0      ┆ -1.0      ┆ 2        │\n",
       "│           ┆ 6         ┆           ┆           ┆   ┆           ┆           ┆           ┆          │\n",
       "│           ┆ 00:00:00  ┆           ┆           ┆   ┆           ┆           ┆           ┆          │\n",
       "└───────────┴───────────┴───────────┴───────────┴───┴───────────┴───────────┴───────────┴──────────┘"
      ]
     },
     "execution_count": 118,
     "metadata": {},
     "output_type": "execute_result"
    }
   ],
   "source": [
    "df = df.sort(\n",
    "    [\n",
    "        \"game_date\",\n",
    "        \"game_pk\",\n",
    "        \"at_bat_number\",\n",
    "        \"pitch_number\",\n",
    "    ],\n",
    "    descending=[False, False, False, True],\n",
    ")\n",
    "\n",
    "\n",
    "df.head()\n",
    "\n",
    "df = df.with_columns(\n",
    "    df.select(\n",
    "        pl.col(pl.String).exclude([\"player_name\"]).cast(pl.Categorical).to_physical()\n",
    "    ),\n",
    ")\n",
    "\n",
    "df\n",
    "df = df.fill_null(-1)\n",
    "df = df.sort(\n",
    "    [\n",
    "        \"game_date\",\n",
    "        \"game_pk\",\n",
    "        \"at_bat_number\",\n",
    "        \"pitch_number\",\n",
    "    ],\n",
    "    descending=True,\n",
    ")\n",
    "\n",
    "df = df.with_columns(\n",
    "    df.select(pl.col(\"pitch_type\").shift(-1).alias(\"next_pitch\")),\n",
    ").drop_nulls(\"next_pitch\")\n",
    "\n",
    "df"
   ]
  },
  {
   "cell_type": "code",
   "execution_count": 119,
   "metadata": {},
   "outputs": [
    {
     "data": {
      "text/plain": [
       "['pitch_type',\n",
       " 'game_date',\n",
       " 'release_speed',\n",
       " 'release_pos_x',\n",
       " 'release_pos_z',\n",
       " 'player_name',\n",
       " 'batter',\n",
       " 'pitcher',\n",
       " 'events',\n",
       " 'zone',\n",
       " 'stand',\n",
       " 'p_throws',\n",
       " 'type',\n",
       " 'hit_location',\n",
       " 'bb_type',\n",
       " 'balls',\n",
       " 'strikes',\n",
       " 'pfx_x',\n",
       " 'pfx_z',\n",
       " 'plate_x',\n",
       " 'plate_z',\n",
       " 'on_3b',\n",
       " 'on_2b',\n",
       " 'on_1b',\n",
       " 'outs_when_up',\n",
       " 'inning',\n",
       " 'inning_topbot',\n",
       " 'hc_x',\n",
       " 'hc_y',\n",
       " 'vx0',\n",
       " 'vy0',\n",
       " 'vz0',\n",
       " 'ax',\n",
       " 'ay',\n",
       " 'az',\n",
       " 'sz_top',\n",
       " 'sz_bot',\n",
       " 'hit_distance_sc',\n",
       " 'launch_speed',\n",
       " 'launch_angle',\n",
       " 'effective_speed',\n",
       " 'release_spin_rate',\n",
       " 'release_extension',\n",
       " 'game_pk',\n",
       " 'release_pos_y',\n",
       " 'estimated_ba_using_speedangle',\n",
       " 'estimated_woba_using_speedangle',\n",
       " 'woba_value',\n",
       " 'woba_denom',\n",
       " 'babip_value',\n",
       " 'iso_value',\n",
       " 'launch_speed_angle',\n",
       " 'at_bat_number',\n",
       " 'pitch_number',\n",
       " 'if_fielding_alignment',\n",
       " 'of_fielding_alignment',\n",
       " 'spin_axis',\n",
       " 'bat_speed',\n",
       " 'swing_length',\n",
       " 'next_pitch',\n",
       " 'run_diff']"
      ]
     },
     "execution_count": 119,
     "metadata": {},
     "output_type": "execute_result"
    }
   ],
   "source": [
    "# [ 'run_diff', 'base_state']\n",
    "\n",
    "\n",
    "df = df.with_columns(\n",
    "    (pl.col(\"fld_score\") - pl.col(\"bat_score\")).alias(\"run_diff\").cast(pl.Int32),\n",
    ")\n",
    "\n",
    "df = df.drop([\"fld_score\", \"bat_score\"])\n",
    "df.columns\n"
   ]
  },
  {
   "cell_type": "code",
   "execution_count": 120,
   "metadata": {},
   "outputs": [
    {
     "data": {
      "text/html": [
       "<div><style>\n",
       ".dataframe > thead > tr,\n",
       ".dataframe > tbody > tr {\n",
       "  text-align: right;\n",
       "  white-space: pre-wrap;\n",
       "}\n",
       "</style>\n",
       "<small>shape: (33_492, 59)</small><table border=\"1\" class=\"dataframe\"><thead><tr><th>pitch_type</th><th>game_date</th><th>release_speed</th><th>release_pos_x</th><th>release_pos_z</th><th>player_name</th><th>batter</th><th>pitcher</th><th>events</th><th>zone</th><th>stand</th><th>p_throws</th><th>type</th><th>hit_location</th><th>bb_type</th><th>balls</th><th>strikes</th><th>pfx_x</th><th>pfx_z</th><th>plate_x</th><th>plate_z</th><th>outs_when_up</th><th>inning</th><th>inning_topbot</th><th>hc_x</th><th>hc_y</th><th>vx0</th><th>vy0</th><th>vz0</th><th>ax</th><th>ay</th><th>az</th><th>sz_top</th><th>sz_bot</th><th>hit_distance_sc</th><th>launch_speed</th><th>launch_angle</th><th>effective_speed</th><th>release_spin_rate</th><th>release_extension</th><th>game_pk</th><th>release_pos_y</th><th>estimated_ba_using_speedangle</th><th>estimated_woba_using_speedangle</th><th>woba_value</th><th>woba_denom</th><th>babip_value</th><th>iso_value</th><th>launch_speed_angle</th><th>at_bat_number</th><th>pitch_number</th><th>if_fielding_alignment</th><th>of_fielding_alignment</th><th>spin_axis</th><th>bat_speed</th><th>swing_length</th><th>next_pitch</th><th>run_diff</th><th>base_state</th></tr><tr><td>i64</td><td>datetime[μs]</td><td>f64</td><td>f64</td><td>f64</td><td>str</td><td>i64</td><td>i64</td><td>i64</td><td>f64</td><td>i64</td><td>i64</td><td>i64</td><td>f64</td><td>i64</td><td>i64</td><td>i64</td><td>f64</td><td>f64</td><td>f64</td><td>f64</td><td>i64</td><td>i64</td><td>i64</td><td>f64</td><td>f64</td><td>f64</td><td>f64</td><td>f64</td><td>f64</td><td>f64</td><td>f64</td><td>f64</td><td>f64</td><td>f64</td><td>f64</td><td>f64</td><td>f64</td><td>f64</td><td>f64</td><td>i64</td><td>f64</td><td>f64</td><td>f64</td><td>f64</td><td>f64</td><td>f64</td><td>f64</td><td>f64</td><td>i64</td><td>i64</td><td>i64</td><td>i64</td><td>f64</td><td>f64</td><td>f64</td><td>i64</td><td>i32</td><td>i32</td></tr></thead><tbody><tr><td>7</td><td>2024-10-20 00:00:00</td><td>78.8</td><td>4.1</td><td>5.27</td><td>&quot;Manaea, Sean&quot;</td><td>571970</td><td>640455</td><td>4</td><td>14.0</td><td>1</td><td>0</td><td>2</td><td>-1.0</td><td>-1</td><td>3</td><td>1</td><td>-1.04</td><td>0.07</td><td>1.44</td><td>1.65</td><td>0</td><td>3</td><td>0</td><td>-1.0</td><td>-1.0</td><td>-3.876776</td><td>-114.790473</td><td>-1.213129</td><td>-8.519711</td><td>20.865706</td><td>-31.531093</td><td>2.99</td><td>1.5</td><td>-1.0</td><td>-1.0</td><td>-1.0</td><td>79.7</td><td>2141.0</td><td>6.8</td><td>775302</td><td>53.72</td><td>-1.0</td><td>0.689131</td><td>0.7</td><td>1.0</td><td>0.0</td><td>0.0</td><td>-1.0</td><td>31</td><td>5</td><td>2</td><td>0</td><td>294.0</td><td>-1.0</td><td>-1.0</td><td>0</td><td>-3</td><td>0</td></tr><tr><td>0</td><td>2024-10-20 00:00:00</td><td>83.9</td><td>4.16</td><td>5.13</td><td>&quot;Manaea, Sean&quot;</td><td>571970</td><td>640455</td><td>-1</td><td>13.0</td><td>1</td><td>0</td><td>2</td><td>-1.0</td><td>-1</td><td>2</td><td>1</td><td>1.28</td><td>-0.01</td><td>-1.13</td><td>1.32</td><td>0</td><td>3</td><td>0</td><td>-1.0</td><td>-1.0</td><td>-14.910726</td><td>-121.300964</td><td>-2.306161</td><td>15.532788</td><td>23.944392</td><td>-32.030777</td><td>2.99</td><td>1.4</td><td>-1.0</td><td>-1.0</td><td>-1.0</td><td>84.7</td><td>1835.0</td><td>7.2</td><td>775302</td><td>53.31</td><td>-1.0</td><td>-1.0</td><td>-1.0</td><td>-1.0</td><td>-1.0</td><td>-1.0</td><td>-1.0</td><td>31</td><td>4</td><td>2</td><td>0</td><td>106.0</td><td>-1.0</td><td>-1.0</td><td>1</td><td>-3</td><td>0</td></tr><tr><td>1</td><td>2024-10-20 00:00:00</td><td>91.9</td><td>4.03</td><td>4.97</td><td>&quot;Manaea, Sean&quot;</td><td>571970</td><td>640455</td><td>-1</td><td>13.0</td><td>1</td><td>0</td><td>2</td><td>-1.0</td><td>-1</td><td>1</td><td>1</td><td>1.16</td><td>0.76</td><td>-0.93</td><td>2.17</td><td>0</td><td>3</td><td>0</td><td>-1.0</td><td>-1.0</td><td>-15.210428</td><td>-132.944842</td><td>-2.837582</td><td>16.955867</td><td>27.981449</td><td>-22.734943</td><td>2.99</td><td>1.53</td><td>-1.0</td><td>-1.0</td><td>-1.0</td><td>92.7</td><td>2131.0</td><td>7.0</td><td>775302</td><td>53.48</td><td>-1.0</td><td>-1.0</td><td>-1.0</td><td>-1.0</td><td>-1.0</td><td>-1.0</td><td>-1.0</td><td>31</td><td>3</td><td>2</td><td>0</td><td>113.0</td><td>-1.0</td><td>-1.0</td><td>7</td><td>-3</td><td>0</td></tr><tr><td>7</td><td>2024-10-20 00:00:00</td><td>80.2</td><td>3.84</td><td>5.31</td><td>&quot;Manaea, Sean&quot;</td><td>571970</td><td>640455</td><td>-1</td><td>13.0</td><td>1</td><td>0</td><td>2</td><td>-1.0</td><td>-1</td><td>0</td><td>1</td><td>-1.34</td><td>0.15</td><td>-0.86</td><td>1.28</td><td>0</td><td>3</td><td>0</td><td>-1.0</td><td>-1.0</td><td>-7.987162</td><td>-116.480556</td><td>-2.438514</td><td>-10.452965</td><td>23.959752</td><td>-30.532682</td><td>2.99</td><td>1.35</td><td>-1.0</td><td>-1.0</td><td>-1.0</td><td>81.3</td><td>2117.0</td><td>7.4</td><td>775302</td><td>53.14</td><td>-1.0</td><td>-1.0</td><td>-1.0</td><td>-1.0</td><td>-1.0</td><td>-1.0</td><td>-1.0</td><td>31</td><td>2</td><td>2</td><td>0</td><td>284.0</td><td>-1.0</td><td>-1.0</td><td>7</td><td>-3</td><td>0</td></tr><tr><td>7</td><td>2024-10-20 00:00:00</td><td>78.9</td><td>3.89</td><td>5.26</td><td>&quot;Manaea, Sean&quot;</td><td>571970</td><td>640455</td><td>-1</td><td>8.0</td><td>1</td><td>0</td><td>1</td><td>-1.0</td><td>-1</td><td>0</td><td>0</td><td>-1.57</td><td>0.19</td><td>-0.23</td><td>1.53</td><td>0</td><td>3</td><td>0</td><td>-1.0</td><td>-1.0</td><td>-6.125394</td><td>-114.782271</td><td>-1.669025</td><td>-12.671426</td><td>21.628193</td><td>-30.380521</td><td>2.99</td><td>1.48</td><td>-1.0</td><td>-1.0</td><td>-1.0</td><td>79.9</td><td>2152.0</td><td>7.0</td><td>775302</td><td>53.45</td><td>-1.0</td><td>-1.0</td><td>-1.0</td><td>-1.0</td><td>-1.0</td><td>-1.0</td><td>-1.0</td><td>31</td><td>1</td><td>2</td><td>0</td><td>283.0</td><td>-1.0</td><td>-1.0</td><td>2</td><td>-3</td><td>0</td></tr><tr><td>&hellip;</td><td>&hellip;</td><td>&hellip;</td><td>&hellip;</td><td>&hellip;</td><td>&hellip;</td><td>&hellip;</td><td>&hellip;</td><td>&hellip;</td><td>&hellip;</td><td>&hellip;</td><td>&hellip;</td><td>&hellip;</td><td>&hellip;</td><td>&hellip;</td><td>&hellip;</td><td>&hellip;</td><td>&hellip;</td><td>&hellip;</td><td>&hellip;</td><td>&hellip;</td><td>&hellip;</td><td>&hellip;</td><td>&hellip;</td><td>&hellip;</td><td>&hellip;</td><td>&hellip;</td><td>&hellip;</td><td>&hellip;</td><td>&hellip;</td><td>&hellip;</td><td>&hellip;</td><td>&hellip;</td><td>&hellip;</td><td>&hellip;</td><td>&hellip;</td><td>&hellip;</td><td>&hellip;</td><td>&hellip;</td><td>&hellip;</td><td>&hellip;</td><td>&hellip;</td><td>&hellip;</td><td>&hellip;</td><td>&hellip;</td><td>&hellip;</td><td>&hellip;</td><td>&hellip;</td><td>&hellip;</td><td>&hellip;</td><td>&hellip;</td><td>&hellip;</td><td>&hellip;</td><td>&hellip;</td><td>&hellip;</td><td>&hellip;</td><td>&hellip;</td><td>&hellip;</td><td>&hellip;</td></tr><tr><td>0</td><td>2024-03-16 00:00:00</td><td>84.0</td><td>1.71</td><td>6.4</td><td>&quot;Skubal, Tarik&quot;</td><td>668804</td><td>669373</td><td>-1</td><td>14.0</td><td>0</td><td>0</td><td>1</td><td>-1.0</td><td>-1</td><td>1</td><td>1</td><td>1.52</td><td>0.6</td><td>1.09</td><td>2.08</td><td>0</td><td>1</td><td>0</td><td>-1.0</td><td>-1.0</td><td>-4.432459</td><td>-122.07474</td><td>-4.703139</td><td>16.032842</td><td>26.558863</td><td>-25.453648</td><td>3.3</td><td>1.67</td><td>-1.0</td><td>-1.0</td><td>-1.0</td><td>83.5</td><td>1505.0</td><td>6.3</td><td>747947</td><td>54.23</td><td>-1.0</td><td>-1.0</td><td>-1.0</td><td>-1.0</td><td>-1.0</td><td>-1.0</td><td>-1.0</td><td>6</td><td>3</td><td>0</td><td>1</td><td>130.0</td><td>-1.0</td><td>-1.0</td><td>0</td><td>0</td><td>3</td></tr><tr><td>0</td><td>2024-03-16 00:00:00</td><td>85.4</td><td>1.95</td><td>6.33</td><td>&quot;Skubal, Tarik&quot;</td><td>668804</td><td>669373</td><td>-1</td><td>12.0</td><td>0</td><td>0</td><td>2</td><td>-1.0</td><td>-1</td><td>0</td><td>1</td><td>1.44</td><td>0.92</td><td>1.11</td><td>3.31</td><td>0</td><td>1</td><td>0</td><td>-1.0</td><td>-1.0</td><td>-4.854903</td><td>-124.173193</td><td>-2.600914</td><td>15.806897</td><td>27.350271</td><td>-22.359652</td><td>3.3</td><td>1.67</td><td>-1.0</td><td>-1.0</td><td>-1.0</td><td>84.9</td><td>1740.0</td><td>6.2</td><td>747947</td><td>54.26</td><td>-1.0</td><td>-1.0</td><td>-1.0</td><td>-1.0</td><td>-1.0</td><td>-1.0</td><td>-1.0</td><td>6</td><td>2</td><td>0</td><td>1</td><td>131.0</td><td>-1.0</td><td>-1.0</td><td>1</td><td>0</td><td>3</td></tr><tr><td>1</td><td>2024-03-16 00:00:00</td><td>96.2</td><td>1.78</td><td>6.3</td><td>&quot;Skubal, Tarik&quot;</td><td>668804</td><td>669373</td><td>-1</td><td>2.0</td><td>0</td><td>0</td><td>1</td><td>-1.0</td><td>-1</td><td>0</td><td>0</td><td>1.37</td><td>1.08</td><td>-0.05</td><td>2.83</td><td>0</td><td>1</td><td>0</td><td>-1.0</td><td>-1.0</td><td>-7.948987</td><td>-139.714018</td><td>-5.985534</td><td>19.815637</td><td>34.920946</td><td>-16.847749</td><td>3.3</td><td>1.67</td><td>200.0</td><td>82.2</td><td>17.0</td><td>95.7</td><td>2161.0</td><td>6.4</td><td>747947</td><td>54.14</td><td>-1.0</td><td>-1.0</td><td>-1.0</td><td>-1.0</td><td>-1.0</td><td>-1.0</td><td>-1.0</td><td>6</td><td>1</td><td>0</td><td>1</td><td>145.0</td><td>-1.0</td><td>-1.0</td><td>0</td><td>0</td><td>3</td></tr><tr><td>0</td><td>2024-03-16 00:00:00</td><td>86.7</td><td>1.61</td><td>6.32</td><td>&quot;Skubal, Tarik&quot;</td><td>457705</td><td>669373</td><td>0</td><td>12.0</td><td>0</td><td>0</td><td>0</td><td>8.0</td><td>0</td><td>0</td><td>2</td><td>1.35</td><td>0.6</td><td>0.93</td><td>2.69</td><td>0</td><td>1</td><td>0</td><td>109.79</td><td>117.8</td><td>-4.401027</td><td>-126.047957</td><td>-3.624164</td><td>15.246944</td><td>29.139518</td><td>-25.207848</td><td>3.12</td><td>1.57</td><td>174.0</td><td>85.7</td><td>12.0</td><td>86.3</td><td>1782.0</td><td>6.4</td><td>747947</td><td>54.12</td><td>0.66</td><td>-1.0</td><td>0.9</td><td>-1.0</td><td>1.0</td><td>0.0</td><td>4.0</td><td>5</td><td>3</td><td>0</td><td>0</td><td>130.0</td><td>-1.0</td><td>-1.0</td><td>1</td><td>0</td><td>0</td></tr><tr><td>1</td><td>2024-03-16 00:00:00</td><td>97.3</td><td>1.64</td><td>6.32</td><td>&quot;Skubal, Tarik&quot;</td><td>457705</td><td>669373</td><td>-1</td><td>1.0</td><td>0</td><td>0</td><td>1</td><td>-1.0</td><td>-1</td><td>0</td><td>1</td><td>1.32</td><td>1.29</td><td>-0.64</td><td>2.65</td><td>0</td><td>1</td><td>0</td><td>-1.0</td><td>-1.0</td><td>-9.141577</td><td>-141.109845</td><td>-7.176998</td><td>19.856803</td><td>35.767834</td><td>-13.4769</td><td>3.12</td><td>1.57</td><td>-1.0</td><td>-1.0</td><td>-1.0</td><td>96.7</td><td>2123.0</td><td>6.4</td><td>747947</td><td>54.13</td><td>-1.0</td><td>-1.0</td><td>-1.0</td><td>-1.0</td><td>-1.0</td><td>-1.0</td><td>-1.0</td><td>5</td><td>2</td><td>0</td><td>0</td><td>147.0</td><td>-1.0</td><td>-1.0</td><td>2</td><td>0</td><td>0</td></tr></tbody></table></div>"
      ],
      "text/plain": [
       "shape: (33_492, 59)\n",
       "┌───────────┬───────────┬───────────┬───────────┬───┬───────────┬───────────┬──────────┬───────────┐\n",
       "│ pitch_typ ┆ game_date ┆ release_s ┆ release_p ┆ … ┆ swing_len ┆ next_pitc ┆ run_diff ┆ base_stat │\n",
       "│ e         ┆ ---       ┆ peed      ┆ os_x      ┆   ┆ gth       ┆ h         ┆ ---      ┆ e         │\n",
       "│ ---       ┆ datetime[ ┆ ---       ┆ ---       ┆   ┆ ---       ┆ ---       ┆ i32      ┆ ---       │\n",
       "│ i64       ┆ μs]       ┆ f64       ┆ f64       ┆   ┆ f64       ┆ i64       ┆          ┆ i32       │\n",
       "╞═══════════╪═══════════╪═══════════╪═══════════╪═══╪═══════════╪═══════════╪══════════╪═══════════╡\n",
       "│ 7         ┆ 2024-10-2 ┆ 78.8      ┆ 4.1       ┆ … ┆ -1.0      ┆ 0         ┆ -3       ┆ 0         │\n",
       "│           ┆ 0         ┆           ┆           ┆   ┆           ┆           ┆          ┆           │\n",
       "│           ┆ 00:00:00  ┆           ┆           ┆   ┆           ┆           ┆          ┆           │\n",
       "│ 0         ┆ 2024-10-2 ┆ 83.9      ┆ 4.16      ┆ … ┆ -1.0      ┆ 1         ┆ -3       ┆ 0         │\n",
       "│           ┆ 0         ┆           ┆           ┆   ┆           ┆           ┆          ┆           │\n",
       "│           ┆ 00:00:00  ┆           ┆           ┆   ┆           ┆           ┆          ┆           │\n",
       "│ 1         ┆ 2024-10-2 ┆ 91.9      ┆ 4.03      ┆ … ┆ -1.0      ┆ 7         ┆ -3       ┆ 0         │\n",
       "│           ┆ 0         ┆           ┆           ┆   ┆           ┆           ┆          ┆           │\n",
       "│           ┆ 00:00:00  ┆           ┆           ┆   ┆           ┆           ┆          ┆           │\n",
       "│ 7         ┆ 2024-10-2 ┆ 80.2      ┆ 3.84      ┆ … ┆ -1.0      ┆ 7         ┆ -3       ┆ 0         │\n",
       "│           ┆ 0         ┆           ┆           ┆   ┆           ┆           ┆          ┆           │\n",
       "│           ┆ 00:00:00  ┆           ┆           ┆   ┆           ┆           ┆          ┆           │\n",
       "│ 7         ┆ 2024-10-2 ┆ 78.9      ┆ 3.89      ┆ … ┆ -1.0      ┆ 2         ┆ -3       ┆ 0         │\n",
       "│           ┆ 0         ┆           ┆           ┆   ┆           ┆           ┆          ┆           │\n",
       "│           ┆ 00:00:00  ┆           ┆           ┆   ┆           ┆           ┆          ┆           │\n",
       "│ …         ┆ …         ┆ …         ┆ …         ┆ … ┆ …         ┆ …         ┆ …        ┆ …         │\n",
       "│ 0         ┆ 2024-03-1 ┆ 84.0      ┆ 1.71      ┆ … ┆ -1.0      ┆ 0         ┆ 0        ┆ 3         │\n",
       "│           ┆ 6         ┆           ┆           ┆   ┆           ┆           ┆          ┆           │\n",
       "│           ┆ 00:00:00  ┆           ┆           ┆   ┆           ┆           ┆          ┆           │\n",
       "│ 0         ┆ 2024-03-1 ┆ 85.4      ┆ 1.95      ┆ … ┆ -1.0      ┆ 1         ┆ 0        ┆ 3         │\n",
       "│           ┆ 6         ┆           ┆           ┆   ┆           ┆           ┆          ┆           │\n",
       "│           ┆ 00:00:00  ┆           ┆           ┆   ┆           ┆           ┆          ┆           │\n",
       "│ 1         ┆ 2024-03-1 ┆ 96.2      ┆ 1.78      ┆ … ┆ -1.0      ┆ 0         ┆ 0        ┆ 3         │\n",
       "│           ┆ 6         ┆           ┆           ┆   ┆           ┆           ┆          ┆           │\n",
       "│           ┆ 00:00:00  ┆           ┆           ┆   ┆           ┆           ┆          ┆           │\n",
       "│ 0         ┆ 2024-03-1 ┆ 86.7      ┆ 1.61      ┆ … ┆ -1.0      ┆ 1         ┆ 0        ┆ 0         │\n",
       "│           ┆ 6         ┆           ┆           ┆   ┆           ┆           ┆          ┆           │\n",
       "│           ┆ 00:00:00  ┆           ┆           ┆   ┆           ┆           ┆          ┆           │\n",
       "│ 1         ┆ 2024-03-1 ┆ 97.3      ┆ 1.64      ┆ … ┆ -1.0      ┆ 2         ┆ 0        ┆ 0         │\n",
       "│           ┆ 6         ┆           ┆           ┆   ┆           ┆           ┆          ┆           │\n",
       "│           ┆ 00:00:00  ┆           ┆           ┆   ┆           ┆           ┆          ┆           │\n",
       "└───────────┴───────────┴───────────┴───────────┴───┴───────────┴───────────┴──────────┴───────────┘"
      ]
     },
     "execution_count": 120,
     "metadata": {},
     "output_type": "execute_result"
    }
   ],
   "source": [
    "df = df.with_columns(\n",
    "    pl.col(\"on_1b\")\n",
    "    .map_elements(lambda s: 0 if s == -1.0 else 1, return_dtype=pl.Int32)\n",
    "    .alias(\"on_1b\"),\n",
    "    pl.col(\"on_2b\")\n",
    "    .map_elements(lambda s: 0 if s == -1.0 else 1, return_dtype=pl.Int32)\n",
    "    .alias(\"on_2b\"),\n",
    "    pl.col(\"on_3b\")\n",
    "    .map_elements(lambda s: 0 if s == -1.0 else 1, return_dtype=pl.Int32)\n",
    "    .alias(\"on_3b\"),\n",
    ")\n",
    "\n",
    "df = df.with_columns(\n",
    "    (pl.col(\"on_1b\") * 3 + pl.col(\"on_2b\") * 5 + pl.col(\"on_3b\") * 7).alias(\n",
    "        \"base_state\"\n",
    "    )\n",
    ")\n",
    "\n",
    "df = df.drop([\"on_1b\", \"on_2b\", \"on_3b\"])\n",
    "df"
   ]
  },
  {
   "cell_type": "code",
   "execution_count": 121,
   "metadata": {},
   "outputs": [
    {
     "data": {
      "text/html": [
       "<div><style>\n",
       ".dataframe > thead > tr,\n",
       ".dataframe > tbody > tr {\n",
       "  text-align: right;\n",
       "  white-space: pre-wrap;\n",
       "}\n",
       "</style>\n",
       "<small>shape: (33_492, 60)</small><table border=\"1\" class=\"dataframe\"><thead><tr><th>pitch_type</th><th>game_date</th><th>release_speed</th><th>release_pos_x</th><th>release_pos_z</th><th>player_name</th><th>batter</th><th>pitcher</th><th>events</th><th>zone</th><th>stand</th><th>p_throws</th><th>type</th><th>hit_location</th><th>bb_type</th><th>balls</th><th>strikes</th><th>pfx_x</th><th>pfx_z</th><th>plate_x</th><th>plate_z</th><th>outs_when_up</th><th>inning</th><th>inning_topbot</th><th>hc_x</th><th>hc_y</th><th>vx0</th><th>vy0</th><th>vz0</th><th>ax</th><th>ay</th><th>az</th><th>sz_top</th><th>sz_bot</th><th>hit_distance_sc</th><th>launch_speed</th><th>launch_angle</th><th>effective_speed</th><th>release_spin_rate</th><th>release_extension</th><th>game_pk</th><th>release_pos_y</th><th>estimated_ba_using_speedangle</th><th>estimated_woba_using_speedangle</th><th>woba_value</th><th>woba_denom</th><th>babip_value</th><th>iso_value</th><th>launch_speed_angle</th><th>at_bat_number</th><th>pitch_number</th><th>if_fielding_alignment</th><th>of_fielding_alignment</th><th>spin_axis</th><th>bat_speed</th><th>swing_length</th><th>next_pitch</th><th>run_diff</th><th>base_state</th><th>pitches_thrown_curr_game</th></tr><tr><td>i64</td><td>datetime[μs]</td><td>f64</td><td>f64</td><td>f64</td><td>str</td><td>i64</td><td>i64</td><td>i64</td><td>f64</td><td>i64</td><td>i64</td><td>i64</td><td>f64</td><td>i64</td><td>i64</td><td>i64</td><td>f64</td><td>f64</td><td>f64</td><td>f64</td><td>i64</td><td>i64</td><td>i64</td><td>f64</td><td>f64</td><td>f64</td><td>f64</td><td>f64</td><td>f64</td><td>f64</td><td>f64</td><td>f64</td><td>f64</td><td>f64</td><td>f64</td><td>f64</td><td>f64</td><td>f64</td><td>f64</td><td>i64</td><td>f64</td><td>f64</td><td>f64</td><td>f64</td><td>f64</td><td>f64</td><td>f64</td><td>f64</td><td>i64</td><td>i64</td><td>i64</td><td>i64</td><td>f64</td><td>f64</td><td>f64</td><td>i64</td><td>i32</td><td>i32</td><td>u32</td></tr></thead><tbody><tr><td>7</td><td>2024-10-20 00:00:00</td><td>78.8</td><td>4.1</td><td>5.27</td><td>&quot;Manaea, Sean&quot;</td><td>571970</td><td>640455</td><td>4</td><td>14.0</td><td>1</td><td>0</td><td>2</td><td>-1.0</td><td>-1</td><td>3</td><td>1</td><td>-1.04</td><td>0.07</td><td>1.44</td><td>1.65</td><td>0</td><td>3</td><td>0</td><td>-1.0</td><td>-1.0</td><td>-3.876776</td><td>-114.790473</td><td>-1.213129</td><td>-8.519711</td><td>20.865706</td><td>-31.531093</td><td>2.99</td><td>1.5</td><td>-1.0</td><td>-1.0</td><td>-1.0</td><td>79.7</td><td>2141.0</td><td>6.8</td><td>775302</td><td>53.72</td><td>-1.0</td><td>0.689131</td><td>0.7</td><td>1.0</td><td>0.0</td><td>0.0</td><td>-1.0</td><td>31</td><td>5</td><td>2</td><td>0</td><td>294.0</td><td>-1.0</td><td>-1.0</td><td>0</td><td>-3</td><td>0</td><td>1</td></tr><tr><td>0</td><td>2024-10-20 00:00:00</td><td>83.9</td><td>4.16</td><td>5.13</td><td>&quot;Manaea, Sean&quot;</td><td>571970</td><td>640455</td><td>-1</td><td>13.0</td><td>1</td><td>0</td><td>2</td><td>-1.0</td><td>-1</td><td>2</td><td>1</td><td>1.28</td><td>-0.01</td><td>-1.13</td><td>1.32</td><td>0</td><td>3</td><td>0</td><td>-1.0</td><td>-1.0</td><td>-14.910726</td><td>-121.300964</td><td>-2.306161</td><td>15.532788</td><td>23.944392</td><td>-32.030777</td><td>2.99</td><td>1.4</td><td>-1.0</td><td>-1.0</td><td>-1.0</td><td>84.7</td><td>1835.0</td><td>7.2</td><td>775302</td><td>53.31</td><td>-1.0</td><td>-1.0</td><td>-1.0</td><td>-1.0</td><td>-1.0</td><td>-1.0</td><td>-1.0</td><td>31</td><td>4</td><td>2</td><td>0</td><td>106.0</td><td>-1.0</td><td>-1.0</td><td>1</td><td>-3</td><td>0</td><td>2</td></tr><tr><td>1</td><td>2024-10-20 00:00:00</td><td>91.9</td><td>4.03</td><td>4.97</td><td>&quot;Manaea, Sean&quot;</td><td>571970</td><td>640455</td><td>-1</td><td>13.0</td><td>1</td><td>0</td><td>2</td><td>-1.0</td><td>-1</td><td>1</td><td>1</td><td>1.16</td><td>0.76</td><td>-0.93</td><td>2.17</td><td>0</td><td>3</td><td>0</td><td>-1.0</td><td>-1.0</td><td>-15.210428</td><td>-132.944842</td><td>-2.837582</td><td>16.955867</td><td>27.981449</td><td>-22.734943</td><td>2.99</td><td>1.53</td><td>-1.0</td><td>-1.0</td><td>-1.0</td><td>92.7</td><td>2131.0</td><td>7.0</td><td>775302</td><td>53.48</td><td>-1.0</td><td>-1.0</td><td>-1.0</td><td>-1.0</td><td>-1.0</td><td>-1.0</td><td>-1.0</td><td>31</td><td>3</td><td>2</td><td>0</td><td>113.0</td><td>-1.0</td><td>-1.0</td><td>7</td><td>-3</td><td>0</td><td>3</td></tr><tr><td>7</td><td>2024-10-20 00:00:00</td><td>80.2</td><td>3.84</td><td>5.31</td><td>&quot;Manaea, Sean&quot;</td><td>571970</td><td>640455</td><td>-1</td><td>13.0</td><td>1</td><td>0</td><td>2</td><td>-1.0</td><td>-1</td><td>0</td><td>1</td><td>-1.34</td><td>0.15</td><td>-0.86</td><td>1.28</td><td>0</td><td>3</td><td>0</td><td>-1.0</td><td>-1.0</td><td>-7.987162</td><td>-116.480556</td><td>-2.438514</td><td>-10.452965</td><td>23.959752</td><td>-30.532682</td><td>2.99</td><td>1.35</td><td>-1.0</td><td>-1.0</td><td>-1.0</td><td>81.3</td><td>2117.0</td><td>7.4</td><td>775302</td><td>53.14</td><td>-1.0</td><td>-1.0</td><td>-1.0</td><td>-1.0</td><td>-1.0</td><td>-1.0</td><td>-1.0</td><td>31</td><td>2</td><td>2</td><td>0</td><td>284.0</td><td>-1.0</td><td>-1.0</td><td>7</td><td>-3</td><td>0</td><td>4</td></tr><tr><td>7</td><td>2024-10-20 00:00:00</td><td>78.9</td><td>3.89</td><td>5.26</td><td>&quot;Manaea, Sean&quot;</td><td>571970</td><td>640455</td><td>-1</td><td>8.0</td><td>1</td><td>0</td><td>1</td><td>-1.0</td><td>-1</td><td>0</td><td>0</td><td>-1.57</td><td>0.19</td><td>-0.23</td><td>1.53</td><td>0</td><td>3</td><td>0</td><td>-1.0</td><td>-1.0</td><td>-6.125394</td><td>-114.782271</td><td>-1.669025</td><td>-12.671426</td><td>21.628193</td><td>-30.380521</td><td>2.99</td><td>1.48</td><td>-1.0</td><td>-1.0</td><td>-1.0</td><td>79.9</td><td>2152.0</td><td>7.0</td><td>775302</td><td>53.45</td><td>-1.0</td><td>-1.0</td><td>-1.0</td><td>-1.0</td><td>-1.0</td><td>-1.0</td><td>-1.0</td><td>31</td><td>1</td><td>2</td><td>0</td><td>283.0</td><td>-1.0</td><td>-1.0</td><td>2</td><td>-3</td><td>0</td><td>5</td></tr><tr><td>&hellip;</td><td>&hellip;</td><td>&hellip;</td><td>&hellip;</td><td>&hellip;</td><td>&hellip;</td><td>&hellip;</td><td>&hellip;</td><td>&hellip;</td><td>&hellip;</td><td>&hellip;</td><td>&hellip;</td><td>&hellip;</td><td>&hellip;</td><td>&hellip;</td><td>&hellip;</td><td>&hellip;</td><td>&hellip;</td><td>&hellip;</td><td>&hellip;</td><td>&hellip;</td><td>&hellip;</td><td>&hellip;</td><td>&hellip;</td><td>&hellip;</td><td>&hellip;</td><td>&hellip;</td><td>&hellip;</td><td>&hellip;</td><td>&hellip;</td><td>&hellip;</td><td>&hellip;</td><td>&hellip;</td><td>&hellip;</td><td>&hellip;</td><td>&hellip;</td><td>&hellip;</td><td>&hellip;</td><td>&hellip;</td><td>&hellip;</td><td>&hellip;</td><td>&hellip;</td><td>&hellip;</td><td>&hellip;</td><td>&hellip;</td><td>&hellip;</td><td>&hellip;</td><td>&hellip;</td><td>&hellip;</td><td>&hellip;</td><td>&hellip;</td><td>&hellip;</td><td>&hellip;</td><td>&hellip;</td><td>&hellip;</td><td>&hellip;</td><td>&hellip;</td><td>&hellip;</td><td>&hellip;</td><td>&hellip;</td></tr><tr><td>0</td><td>2024-03-16 00:00:00</td><td>84.0</td><td>1.71</td><td>6.4</td><td>&quot;Skubal, Tarik&quot;</td><td>668804</td><td>669373</td><td>-1</td><td>14.0</td><td>0</td><td>0</td><td>1</td><td>-1.0</td><td>-1</td><td>1</td><td>1</td><td>1.52</td><td>0.6</td><td>1.09</td><td>2.08</td><td>0</td><td>1</td><td>0</td><td>-1.0</td><td>-1.0</td><td>-4.432459</td><td>-122.07474</td><td>-4.703139</td><td>16.032842</td><td>26.558863</td><td>-25.453648</td><td>3.3</td><td>1.67</td><td>-1.0</td><td>-1.0</td><td>-1.0</td><td>83.5</td><td>1505.0</td><td>6.3</td><td>747947</td><td>54.23</td><td>-1.0</td><td>-1.0</td><td>-1.0</td><td>-1.0</td><td>-1.0</td><td>-1.0</td><td>-1.0</td><td>6</td><td>3</td><td>0</td><td>1</td><td>130.0</td><td>-1.0</td><td>-1.0</td><td>0</td><td>0</td><td>3</td><td>68</td></tr><tr><td>0</td><td>2024-03-16 00:00:00</td><td>85.4</td><td>1.95</td><td>6.33</td><td>&quot;Skubal, Tarik&quot;</td><td>668804</td><td>669373</td><td>-1</td><td>12.0</td><td>0</td><td>0</td><td>2</td><td>-1.0</td><td>-1</td><td>0</td><td>1</td><td>1.44</td><td>0.92</td><td>1.11</td><td>3.31</td><td>0</td><td>1</td><td>0</td><td>-1.0</td><td>-1.0</td><td>-4.854903</td><td>-124.173193</td><td>-2.600914</td><td>15.806897</td><td>27.350271</td><td>-22.359652</td><td>3.3</td><td>1.67</td><td>-1.0</td><td>-1.0</td><td>-1.0</td><td>84.9</td><td>1740.0</td><td>6.2</td><td>747947</td><td>54.26</td><td>-1.0</td><td>-1.0</td><td>-1.0</td><td>-1.0</td><td>-1.0</td><td>-1.0</td><td>-1.0</td><td>6</td><td>2</td><td>0</td><td>1</td><td>131.0</td><td>-1.0</td><td>-1.0</td><td>1</td><td>0</td><td>3</td><td>69</td></tr><tr><td>1</td><td>2024-03-16 00:00:00</td><td>96.2</td><td>1.78</td><td>6.3</td><td>&quot;Skubal, Tarik&quot;</td><td>668804</td><td>669373</td><td>-1</td><td>2.0</td><td>0</td><td>0</td><td>1</td><td>-1.0</td><td>-1</td><td>0</td><td>0</td><td>1.37</td><td>1.08</td><td>-0.05</td><td>2.83</td><td>0</td><td>1</td><td>0</td><td>-1.0</td><td>-1.0</td><td>-7.948987</td><td>-139.714018</td><td>-5.985534</td><td>19.815637</td><td>34.920946</td><td>-16.847749</td><td>3.3</td><td>1.67</td><td>200.0</td><td>82.2</td><td>17.0</td><td>95.7</td><td>2161.0</td><td>6.4</td><td>747947</td><td>54.14</td><td>-1.0</td><td>-1.0</td><td>-1.0</td><td>-1.0</td><td>-1.0</td><td>-1.0</td><td>-1.0</td><td>6</td><td>1</td><td>0</td><td>1</td><td>145.0</td><td>-1.0</td><td>-1.0</td><td>0</td><td>0</td><td>3</td><td>70</td></tr><tr><td>0</td><td>2024-03-16 00:00:00</td><td>86.7</td><td>1.61</td><td>6.32</td><td>&quot;Skubal, Tarik&quot;</td><td>457705</td><td>669373</td><td>0</td><td>12.0</td><td>0</td><td>0</td><td>0</td><td>8.0</td><td>0</td><td>0</td><td>2</td><td>1.35</td><td>0.6</td><td>0.93</td><td>2.69</td><td>0</td><td>1</td><td>0</td><td>109.79</td><td>117.8</td><td>-4.401027</td><td>-126.047957</td><td>-3.624164</td><td>15.246944</td><td>29.139518</td><td>-25.207848</td><td>3.12</td><td>1.57</td><td>174.0</td><td>85.7</td><td>12.0</td><td>86.3</td><td>1782.0</td><td>6.4</td><td>747947</td><td>54.12</td><td>0.66</td><td>-1.0</td><td>0.9</td><td>-1.0</td><td>1.0</td><td>0.0</td><td>4.0</td><td>5</td><td>3</td><td>0</td><td>0</td><td>130.0</td><td>-1.0</td><td>-1.0</td><td>1</td><td>0</td><td>0</td><td>71</td></tr><tr><td>1</td><td>2024-03-16 00:00:00</td><td>97.3</td><td>1.64</td><td>6.32</td><td>&quot;Skubal, Tarik&quot;</td><td>457705</td><td>669373</td><td>-1</td><td>1.0</td><td>0</td><td>0</td><td>1</td><td>-1.0</td><td>-1</td><td>0</td><td>1</td><td>1.32</td><td>1.29</td><td>-0.64</td><td>2.65</td><td>0</td><td>1</td><td>0</td><td>-1.0</td><td>-1.0</td><td>-9.141577</td><td>-141.109845</td><td>-7.176998</td><td>19.856803</td><td>35.767834</td><td>-13.4769</td><td>3.12</td><td>1.57</td><td>-1.0</td><td>-1.0</td><td>-1.0</td><td>96.7</td><td>2123.0</td><td>6.4</td><td>747947</td><td>54.13</td><td>-1.0</td><td>-1.0</td><td>-1.0</td><td>-1.0</td><td>-1.0</td><td>-1.0</td><td>-1.0</td><td>5</td><td>2</td><td>0</td><td>0</td><td>147.0</td><td>-1.0</td><td>-1.0</td><td>2</td><td>0</td><td>0</td><td>72</td></tr></tbody></table></div>"
      ],
      "text/plain": [
       "shape: (33_492, 60)\n",
       "┌───────────┬───────────┬───────────┬───────────┬───┬───────────┬──────────┬───────────┬───────────┐\n",
       "│ pitch_typ ┆ game_date ┆ release_s ┆ release_p ┆ … ┆ next_pitc ┆ run_diff ┆ base_stat ┆ pitches_t │\n",
       "│ e         ┆ ---       ┆ peed      ┆ os_x      ┆   ┆ h         ┆ ---      ┆ e         ┆ hrown_cur │\n",
       "│ ---       ┆ datetime[ ┆ ---       ┆ ---       ┆   ┆ ---       ┆ i32      ┆ ---       ┆ r_game    │\n",
       "│ i64       ┆ μs]       ┆ f64       ┆ f64       ┆   ┆ i64       ┆          ┆ i32       ┆ ---       │\n",
       "│           ┆           ┆           ┆           ┆   ┆           ┆          ┆           ┆ u32       │\n",
       "╞═══════════╪═══════════╪═══════════╪═══════════╪═══╪═══════════╪══════════╪═══════════╪═══════════╡\n",
       "│ 7         ┆ 2024-10-2 ┆ 78.8      ┆ 4.1       ┆ … ┆ 0         ┆ -3       ┆ 0         ┆ 1         │\n",
       "│           ┆ 0         ┆           ┆           ┆   ┆           ┆          ┆           ┆           │\n",
       "│           ┆ 00:00:00  ┆           ┆           ┆   ┆           ┆          ┆           ┆           │\n",
       "│ 0         ┆ 2024-10-2 ┆ 83.9      ┆ 4.16      ┆ … ┆ 1         ┆ -3       ┆ 0         ┆ 2         │\n",
       "│           ┆ 0         ┆           ┆           ┆   ┆           ┆          ┆           ┆           │\n",
       "│           ┆ 00:00:00  ┆           ┆           ┆   ┆           ┆          ┆           ┆           │\n",
       "│ 1         ┆ 2024-10-2 ┆ 91.9      ┆ 4.03      ┆ … ┆ 7         ┆ -3       ┆ 0         ┆ 3         │\n",
       "│           ┆ 0         ┆           ┆           ┆   ┆           ┆          ┆           ┆           │\n",
       "│           ┆ 00:00:00  ┆           ┆           ┆   ┆           ┆          ┆           ┆           │\n",
       "│ 7         ┆ 2024-10-2 ┆ 80.2      ┆ 3.84      ┆ … ┆ 7         ┆ -3       ┆ 0         ┆ 4         │\n",
       "│           ┆ 0         ┆           ┆           ┆   ┆           ┆          ┆           ┆           │\n",
       "│           ┆ 00:00:00  ┆           ┆           ┆   ┆           ┆          ┆           ┆           │\n",
       "│ 7         ┆ 2024-10-2 ┆ 78.9      ┆ 3.89      ┆ … ┆ 2         ┆ -3       ┆ 0         ┆ 5         │\n",
       "│           ┆ 0         ┆           ┆           ┆   ┆           ┆          ┆           ┆           │\n",
       "│           ┆ 00:00:00  ┆           ┆           ┆   ┆           ┆          ┆           ┆           │\n",
       "│ …         ┆ …         ┆ …         ┆ …         ┆ … ┆ …         ┆ …        ┆ …         ┆ …         │\n",
       "│ 0         ┆ 2024-03-1 ┆ 84.0      ┆ 1.71      ┆ … ┆ 0         ┆ 0        ┆ 3         ┆ 68        │\n",
       "│           ┆ 6         ┆           ┆           ┆   ┆           ┆          ┆           ┆           │\n",
       "│           ┆ 00:00:00  ┆           ┆           ┆   ┆           ┆          ┆           ┆           │\n",
       "│ 0         ┆ 2024-03-1 ┆ 85.4      ┆ 1.95      ┆ … ┆ 1         ┆ 0        ┆ 3         ┆ 69        │\n",
       "│           ┆ 6         ┆           ┆           ┆   ┆           ┆          ┆           ┆           │\n",
       "│           ┆ 00:00:00  ┆           ┆           ┆   ┆           ┆          ┆           ┆           │\n",
       "│ 1         ┆ 2024-03-1 ┆ 96.2      ┆ 1.78      ┆ … ┆ 0         ┆ 0        ┆ 3         ┆ 70        │\n",
       "│           ┆ 6         ┆           ┆           ┆   ┆           ┆          ┆           ┆           │\n",
       "│           ┆ 00:00:00  ┆           ┆           ┆   ┆           ┆          ┆           ┆           │\n",
       "│ 0         ┆ 2024-03-1 ┆ 86.7      ┆ 1.61      ┆ … ┆ 1         ┆ 0        ┆ 0         ┆ 71        │\n",
       "│           ┆ 6         ┆           ┆           ┆   ┆           ┆          ┆           ┆           │\n",
       "│           ┆ 00:00:00  ┆           ┆           ┆   ┆           ┆          ┆           ┆           │\n",
       "│ 1         ┆ 2024-03-1 ┆ 97.3      ┆ 1.64      ┆ … ┆ 2         ┆ 0        ┆ 0         ┆ 72        │\n",
       "│           ┆ 6         ┆           ┆           ┆   ┆           ┆          ┆           ┆           │\n",
       "│           ┆ 00:00:00  ┆           ┆           ┆   ┆           ┆          ┆           ┆           │\n",
       "└───────────┴───────────┴───────────┴───────────┴───┴───────────┴──────────┴───────────┴───────────┘"
      ]
     },
     "execution_count": 121,
     "metadata": {},
     "output_type": "execute_result"
    }
   ],
   "source": [
    "df = df.with_columns(\n",
    "    pl.col(\"pitch_type\")\n",
    "    .cum_count(reverse=False)\n",
    "    .over([\"player_name\", \"game_date\", \"game_pk\"])\n",
    "    .alias(\"pitches_thrown_curr_game\")\n",
    ")\n",
    "df = df.sort(\n",
    "    [\n",
    "        \"game_date\",\n",
    "        \"game_pk\",\n",
    "        \"at_bat_number\",\n",
    "        \"pitch_number\",\n",
    "    ],\n",
    "    descending=True,\n",
    ")\n",
    "df"
   ]
  },
  {
   "cell_type": "code",
   "execution_count": 122,
   "metadata": {},
   "outputs": [],
   "source": [
    "import pybaseball as pb"
   ]
  },
  {
   "cell_type": "code",
   "execution_count": 123,
   "metadata": {},
   "outputs": [],
   "source": [
    "with open(\"../params.yaml\", \"r\") as file:\n",
    "    params = yaml.safe_load(file)"
   ]
  },
  {
   "cell_type": "code",
   "execution_count": 136,
   "metadata": {},
   "outputs": [
    {
     "name": "stdout",
     "output_type": "stream",
     "text": [
      "Index(['Name', 'Age', '#days', 'Lev', 'Tm', 'G', 'PA', 'AB', 'R', 'H', '2B',\n",
      "       '3B', 'HR', 'RBI', 'BB', 'IBB', 'SO', 'HBP', 'SH', 'SF', 'GDP', 'SB',\n",
      "       'CS', 'BA', 'OBP', 'SLG', 'OPS', 'mlbID'],\n",
      "      dtype='object')\n"
     ]
    }
   ],
   "source": [
    "# add batter statistics to the dataframe\n",
    "\n",
    "\n",
    "batting_df = pb.batting_stats_bref(params[\"clean\"][\"start_year\"])\n",
    "print(batting_df.columns)\n",
    "player_ids = list(df.select(\"batter\").unique().to_pandas()[\"batter\"])\n",
    "batting_df = pl.DataFrame(batting_df[batting_df[\"mlbID\"].isin(player_ids)])\n",
    "\n",
    "# player_ids"
   ]
  },
  {
   "cell_type": "code",
   "execution_count": null,
   "metadata": {},
   "outputs": [
    {
     "name": "stdout",
     "output_type": "stream",
     "text": [
      "['pitch_type', 'game_date', 'release_speed', 'release_pos_x', 'release_pos_z', 'player_name', 'batter', 'pitcher', 'events', 'zone', 'stand', 'p_throws', 'type', 'hit_location', 'bb_type', 'balls', 'strikes', 'pfx_x', 'pfx_z', 'plate_x', 'plate_z', 'outs_when_up', 'inning', 'inning_topbot', 'hc_x', 'hc_y', 'vx0', 'vy0', 'vz0', 'ax', 'ay', 'az', 'sz_top', 'sz_bot', 'hit_distance_sc', 'launch_speed', 'launch_angle', 'effective_speed', 'release_spin_rate', 'release_extension', 'game_pk', 'release_pos_y', 'estimated_ba_using_speedangle', 'estimated_woba_using_speedangle', 'woba_value', 'woba_denom', 'babip_value', 'iso_value', 'launch_speed_angle', 'at_bat_number', 'pitch_number', 'if_fielding_alignment', 'of_fielding_alignment', 'spin_axis', 'bat_speed', 'swing_length', 'next_pitch', 'run_diff', 'base_state', 'pitches_thrown_curr_game']\n",
      "['Name', 'Age', '#days', 'Lev', 'Tm', 'G', 'PA', 'AB', 'R', 'H', '2B', '3B', 'HR', 'RBI', 'BB', 'IBB', 'SO', 'HBP', 'SH', 'SF', 'GDP', 'SB', 'CS', 'BA', 'OBP', 'SLG', 'OPS', 'mlbID']\n"
     ]
    }
   ],
   "source": [
    "batting_df = pb.batting_stats_bref(params[\"clean\"][\"start_year\"])\n",
    "print(batting_df.columns)\n",
    "player_ids = list(df.select(\"batter\").unique().to_pandas()[\"batter\"])\n",
    "batting_df = pl.DataFrame(batting_df[batting_df[\"mlbID\"].isin(player_ids)])\n",
    "batting_df = batting_df.drop(\n",
    "    [\n",
    "        \"Name\",\n",
    "        \"Age\",\n",
    "        \"#days\",\n",
    "        \"Lev\",\n",
    "        \"Tm\",\n",
    "        \"G\",\n",
    "        \"PA\",\n",
    "        \"AB\",\n",
    "        \"R\",\n",
    "        \"H\",\n",
    "        \"2B\",\n",
    "        \"3B\",\n",
    "        \"HR\",\n",
    "        \"RBI\",\n",
    "        \"BB\",\n",
    "        \"IBB\",\n",
    "        \"SO\",\n",
    "        \"HBP\",\n",
    "        \"SH\",\n",
    "        \"SF\",\n",
    "        \"GDP\",\n",
    "        \"SB\",\n",
    "        \"CS\",\n",
    "    ]\n",
    ")\n",
    "df = df.join(batting_df, left_on=\"batter\", right_on=\"mlbID\", how=\"left\")"
   ]
  },
  {
   "cell_type": "code",
   "execution_count": 141,
   "metadata": {},
   "outputs": [
    {
     "name": "stdout",
     "output_type": "stream",
     "text": [
      "['BA', 'OBP', 'SLG', 'OPS', 'mlbID']\n"
     ]
    }
   ],
   "source": [
    "# Inspect the columns of batting_df\n",
    "print(batting_df.columns)\n",
    "\n",
    "# Perform a left join on the 'batter' column\n",
    "df = df.join(batting_df, left_on=\"batter\", right_on=\"mlbID\", how=\"left\")"
   ]
  },
  {
   "cell_type": "code",
   "execution_count": 142,
   "metadata": {},
   "outputs": [
    {
     "data": {
      "text/html": [
       "<div><style>\n",
       ".dataframe > thead > tr,\n",
       ".dataframe > tbody > tr {\n",
       "  text-align: right;\n",
       "  white-space: pre-wrap;\n",
       "}\n",
       "</style>\n",
       "<small>shape: (33_492, 64)</small><table border=\"1\" class=\"dataframe\"><thead><tr><th>pitch_type</th><th>game_date</th><th>release_speed</th><th>release_pos_x</th><th>release_pos_z</th><th>player_name</th><th>batter</th><th>pitcher</th><th>events</th><th>zone</th><th>stand</th><th>p_throws</th><th>type</th><th>hit_location</th><th>bb_type</th><th>balls</th><th>strikes</th><th>pfx_x</th><th>pfx_z</th><th>plate_x</th><th>plate_z</th><th>outs_when_up</th><th>inning</th><th>inning_topbot</th><th>hc_x</th><th>hc_y</th><th>vx0</th><th>vy0</th><th>vz0</th><th>ax</th><th>ay</th><th>az</th><th>sz_top</th><th>sz_bot</th><th>hit_distance_sc</th><th>launch_speed</th><th>launch_angle</th><th>effective_speed</th><th>release_spin_rate</th><th>release_extension</th><th>game_pk</th><th>release_pos_y</th><th>estimated_ba_using_speedangle</th><th>estimated_woba_using_speedangle</th><th>woba_value</th><th>woba_denom</th><th>babip_value</th><th>iso_value</th><th>launch_speed_angle</th><th>at_bat_number</th><th>pitch_number</th><th>if_fielding_alignment</th><th>of_fielding_alignment</th><th>spin_axis</th><th>bat_speed</th><th>swing_length</th><th>next_pitch</th><th>run_diff</th><th>base_state</th><th>pitches_thrown_curr_game</th><th>BA</th><th>OBP</th><th>SLG</th><th>OPS</th></tr><tr><td>i64</td><td>datetime[μs]</td><td>f64</td><td>f64</td><td>f64</td><td>str</td><td>i64</td><td>i64</td><td>i64</td><td>f64</td><td>i64</td><td>i64</td><td>i64</td><td>f64</td><td>i64</td><td>i64</td><td>i64</td><td>f64</td><td>f64</td><td>f64</td><td>f64</td><td>i64</td><td>i64</td><td>i64</td><td>f64</td><td>f64</td><td>f64</td><td>f64</td><td>f64</td><td>f64</td><td>f64</td><td>f64</td><td>f64</td><td>f64</td><td>f64</td><td>f64</td><td>f64</td><td>f64</td><td>f64</td><td>f64</td><td>i64</td><td>f64</td><td>f64</td><td>f64</td><td>f64</td><td>f64</td><td>f64</td><td>f64</td><td>f64</td><td>i64</td><td>i64</td><td>i64</td><td>i64</td><td>f64</td><td>f64</td><td>f64</td><td>i64</td><td>i32</td><td>i32</td><td>u32</td><td>f64</td><td>f64</td><td>f64</td><td>f64</td></tr></thead><tbody><tr><td>7</td><td>2024-10-20 00:00:00</td><td>78.8</td><td>4.1</td><td>5.27</td><td>&quot;Manaea, Sean&quot;</td><td>571970</td><td>640455</td><td>4</td><td>14.0</td><td>1</td><td>0</td><td>2</td><td>-1.0</td><td>-1</td><td>3</td><td>1</td><td>-1.04</td><td>0.07</td><td>1.44</td><td>1.65</td><td>0</td><td>3</td><td>0</td><td>-1.0</td><td>-1.0</td><td>-3.876776</td><td>-114.790473</td><td>-1.213129</td><td>-8.519711</td><td>20.865706</td><td>-31.531093</td><td>2.99</td><td>1.5</td><td>-1.0</td><td>-1.0</td><td>-1.0</td><td>79.7</td><td>2141.0</td><td>6.8</td><td>775302</td><td>53.72</td><td>-1.0</td><td>0.689131</td><td>0.7</td><td>1.0</td><td>0.0</td><td>0.0</td><td>-1.0</td><td>31</td><td>5</td><td>2</td><td>0</td><td>294.0</td><td>-1.0</td><td>-1.0</td><td>0</td><td>-3</td><td>0</td><td>1</td><td>0.22</td><td>0.364</td><td>0.472</td><td>0.836</td></tr><tr><td>0</td><td>2024-10-20 00:00:00</td><td>83.9</td><td>4.16</td><td>5.13</td><td>&quot;Manaea, Sean&quot;</td><td>571970</td><td>640455</td><td>-1</td><td>13.0</td><td>1</td><td>0</td><td>2</td><td>-1.0</td><td>-1</td><td>2</td><td>1</td><td>1.28</td><td>-0.01</td><td>-1.13</td><td>1.32</td><td>0</td><td>3</td><td>0</td><td>-1.0</td><td>-1.0</td><td>-14.910726</td><td>-121.300964</td><td>-2.306161</td><td>15.532788</td><td>23.944392</td><td>-32.030777</td><td>2.99</td><td>1.4</td><td>-1.0</td><td>-1.0</td><td>-1.0</td><td>84.7</td><td>1835.0</td><td>7.2</td><td>775302</td><td>53.31</td><td>-1.0</td><td>-1.0</td><td>-1.0</td><td>-1.0</td><td>-1.0</td><td>-1.0</td><td>-1.0</td><td>31</td><td>4</td><td>2</td><td>0</td><td>106.0</td><td>-1.0</td><td>-1.0</td><td>1</td><td>-3</td><td>0</td><td>2</td><td>0.22</td><td>0.364</td><td>0.472</td><td>0.836</td></tr><tr><td>1</td><td>2024-10-20 00:00:00</td><td>91.9</td><td>4.03</td><td>4.97</td><td>&quot;Manaea, Sean&quot;</td><td>571970</td><td>640455</td><td>-1</td><td>13.0</td><td>1</td><td>0</td><td>2</td><td>-1.0</td><td>-1</td><td>1</td><td>1</td><td>1.16</td><td>0.76</td><td>-0.93</td><td>2.17</td><td>0</td><td>3</td><td>0</td><td>-1.0</td><td>-1.0</td><td>-15.210428</td><td>-132.944842</td><td>-2.837582</td><td>16.955867</td><td>27.981449</td><td>-22.734943</td><td>2.99</td><td>1.53</td><td>-1.0</td><td>-1.0</td><td>-1.0</td><td>92.7</td><td>2131.0</td><td>7.0</td><td>775302</td><td>53.48</td><td>-1.0</td><td>-1.0</td><td>-1.0</td><td>-1.0</td><td>-1.0</td><td>-1.0</td><td>-1.0</td><td>31</td><td>3</td><td>2</td><td>0</td><td>113.0</td><td>-1.0</td><td>-1.0</td><td>7</td><td>-3</td><td>0</td><td>3</td><td>0.22</td><td>0.364</td><td>0.472</td><td>0.836</td></tr><tr><td>7</td><td>2024-10-20 00:00:00</td><td>80.2</td><td>3.84</td><td>5.31</td><td>&quot;Manaea, Sean&quot;</td><td>571970</td><td>640455</td><td>-1</td><td>13.0</td><td>1</td><td>0</td><td>2</td><td>-1.0</td><td>-1</td><td>0</td><td>1</td><td>-1.34</td><td>0.15</td><td>-0.86</td><td>1.28</td><td>0</td><td>3</td><td>0</td><td>-1.0</td><td>-1.0</td><td>-7.987162</td><td>-116.480556</td><td>-2.438514</td><td>-10.452965</td><td>23.959752</td><td>-30.532682</td><td>2.99</td><td>1.35</td><td>-1.0</td><td>-1.0</td><td>-1.0</td><td>81.3</td><td>2117.0</td><td>7.4</td><td>775302</td><td>53.14</td><td>-1.0</td><td>-1.0</td><td>-1.0</td><td>-1.0</td><td>-1.0</td><td>-1.0</td><td>-1.0</td><td>31</td><td>2</td><td>2</td><td>0</td><td>284.0</td><td>-1.0</td><td>-1.0</td><td>7</td><td>-3</td><td>0</td><td>4</td><td>0.22</td><td>0.364</td><td>0.472</td><td>0.836</td></tr><tr><td>7</td><td>2024-10-20 00:00:00</td><td>78.9</td><td>3.89</td><td>5.26</td><td>&quot;Manaea, Sean&quot;</td><td>571970</td><td>640455</td><td>-1</td><td>8.0</td><td>1</td><td>0</td><td>1</td><td>-1.0</td><td>-1</td><td>0</td><td>0</td><td>-1.57</td><td>0.19</td><td>-0.23</td><td>1.53</td><td>0</td><td>3</td><td>0</td><td>-1.0</td><td>-1.0</td><td>-6.125394</td><td>-114.782271</td><td>-1.669025</td><td>-12.671426</td><td>21.628193</td><td>-30.380521</td><td>2.99</td><td>1.48</td><td>-1.0</td><td>-1.0</td><td>-1.0</td><td>79.9</td><td>2152.0</td><td>7.0</td><td>775302</td><td>53.45</td><td>-1.0</td><td>-1.0</td><td>-1.0</td><td>-1.0</td><td>-1.0</td><td>-1.0</td><td>-1.0</td><td>31</td><td>1</td><td>2</td><td>0</td><td>283.0</td><td>-1.0</td><td>-1.0</td><td>2</td><td>-3</td><td>0</td><td>5</td><td>0.22</td><td>0.364</td><td>0.472</td><td>0.836</td></tr><tr><td>&hellip;</td><td>&hellip;</td><td>&hellip;</td><td>&hellip;</td><td>&hellip;</td><td>&hellip;</td><td>&hellip;</td><td>&hellip;</td><td>&hellip;</td><td>&hellip;</td><td>&hellip;</td><td>&hellip;</td><td>&hellip;</td><td>&hellip;</td><td>&hellip;</td><td>&hellip;</td><td>&hellip;</td><td>&hellip;</td><td>&hellip;</td><td>&hellip;</td><td>&hellip;</td><td>&hellip;</td><td>&hellip;</td><td>&hellip;</td><td>&hellip;</td><td>&hellip;</td><td>&hellip;</td><td>&hellip;</td><td>&hellip;</td><td>&hellip;</td><td>&hellip;</td><td>&hellip;</td><td>&hellip;</td><td>&hellip;</td><td>&hellip;</td><td>&hellip;</td><td>&hellip;</td><td>&hellip;</td><td>&hellip;</td><td>&hellip;</td><td>&hellip;</td><td>&hellip;</td><td>&hellip;</td><td>&hellip;</td><td>&hellip;</td><td>&hellip;</td><td>&hellip;</td><td>&hellip;</td><td>&hellip;</td><td>&hellip;</td><td>&hellip;</td><td>&hellip;</td><td>&hellip;</td><td>&hellip;</td><td>&hellip;</td><td>&hellip;</td><td>&hellip;</td><td>&hellip;</td><td>&hellip;</td><td>&hellip;</td><td>&hellip;</td><td>&hellip;</td><td>&hellip;</td><td>&hellip;</td></tr><tr><td>0</td><td>2024-03-16 00:00:00</td><td>84.0</td><td>1.71</td><td>6.4</td><td>&quot;Skubal, Tarik&quot;</td><td>668804</td><td>669373</td><td>-1</td><td>14.0</td><td>0</td><td>0</td><td>1</td><td>-1.0</td><td>-1</td><td>1</td><td>1</td><td>1.52</td><td>0.6</td><td>1.09</td><td>2.08</td><td>0</td><td>1</td><td>0</td><td>-1.0</td><td>-1.0</td><td>-4.432459</td><td>-122.07474</td><td>-4.703139</td><td>16.032842</td><td>26.558863</td><td>-25.453648</td><td>3.3</td><td>1.67</td><td>-1.0</td><td>-1.0</td><td>-1.0</td><td>83.5</td><td>1505.0</td><td>6.3</td><td>747947</td><td>54.23</td><td>-1.0</td><td>-1.0</td><td>-1.0</td><td>-1.0</td><td>-1.0</td><td>-1.0</td><td>-1.0</td><td>6</td><td>3</td><td>0</td><td>1</td><td>130.0</td><td>-1.0</td><td>-1.0</td><td>0</td><td>0</td><td>3</td><td>68</td><td>0.275</td><td>0.344</td><td>0.447</td><td>0.791</td></tr><tr><td>0</td><td>2024-03-16 00:00:00</td><td>85.4</td><td>1.95</td><td>6.33</td><td>&quot;Skubal, Tarik&quot;</td><td>668804</td><td>669373</td><td>-1</td><td>12.0</td><td>0</td><td>0</td><td>2</td><td>-1.0</td><td>-1</td><td>0</td><td>1</td><td>1.44</td><td>0.92</td><td>1.11</td><td>3.31</td><td>0</td><td>1</td><td>0</td><td>-1.0</td><td>-1.0</td><td>-4.854903</td><td>-124.173193</td><td>-2.600914</td><td>15.806897</td><td>27.350271</td><td>-22.359652</td><td>3.3</td><td>1.67</td><td>-1.0</td><td>-1.0</td><td>-1.0</td><td>84.9</td><td>1740.0</td><td>6.2</td><td>747947</td><td>54.26</td><td>-1.0</td><td>-1.0</td><td>-1.0</td><td>-1.0</td><td>-1.0</td><td>-1.0</td><td>-1.0</td><td>6</td><td>2</td><td>0</td><td>1</td><td>131.0</td><td>-1.0</td><td>-1.0</td><td>1</td><td>0</td><td>3</td><td>69</td><td>0.275</td><td>0.344</td><td>0.447</td><td>0.791</td></tr><tr><td>1</td><td>2024-03-16 00:00:00</td><td>96.2</td><td>1.78</td><td>6.3</td><td>&quot;Skubal, Tarik&quot;</td><td>668804</td><td>669373</td><td>-1</td><td>2.0</td><td>0</td><td>0</td><td>1</td><td>-1.0</td><td>-1</td><td>0</td><td>0</td><td>1.37</td><td>1.08</td><td>-0.05</td><td>2.83</td><td>0</td><td>1</td><td>0</td><td>-1.0</td><td>-1.0</td><td>-7.948987</td><td>-139.714018</td><td>-5.985534</td><td>19.815637</td><td>34.920946</td><td>-16.847749</td><td>3.3</td><td>1.67</td><td>200.0</td><td>82.2</td><td>17.0</td><td>95.7</td><td>2161.0</td><td>6.4</td><td>747947</td><td>54.14</td><td>-1.0</td><td>-1.0</td><td>-1.0</td><td>-1.0</td><td>-1.0</td><td>-1.0</td><td>-1.0</td><td>6</td><td>1</td><td>0</td><td>1</td><td>145.0</td><td>-1.0</td><td>-1.0</td><td>0</td><td>0</td><td>3</td><td>70</td><td>0.275</td><td>0.344</td><td>0.447</td><td>0.791</td></tr><tr><td>0</td><td>2024-03-16 00:00:00</td><td>86.7</td><td>1.61</td><td>6.32</td><td>&quot;Skubal, Tarik&quot;</td><td>457705</td><td>669373</td><td>0</td><td>12.0</td><td>0</td><td>0</td><td>0</td><td>8.0</td><td>0</td><td>0</td><td>2</td><td>1.35</td><td>0.6</td><td>0.93</td><td>2.69</td><td>0</td><td>1</td><td>0</td><td>109.79</td><td>117.8</td><td>-4.401027</td><td>-126.047957</td><td>-3.624164</td><td>15.246944</td><td>29.139518</td><td>-25.207848</td><td>3.12</td><td>1.57</td><td>174.0</td><td>85.7</td><td>12.0</td><td>86.3</td><td>1782.0</td><td>6.4</td><td>747947</td><td>54.12</td><td>0.66</td><td>-1.0</td><td>0.9</td><td>-1.0</td><td>1.0</td><td>0.0</td><td>4.0</td><td>5</td><td>3</td><td>0</td><td>0</td><td>130.0</td><td>-1.0</td><td>-1.0</td><td>1</td><td>0</td><td>0</td><td>71</td><td>0.232</td><td>0.328</td><td>0.411</td><td>0.739</td></tr><tr><td>1</td><td>2024-03-16 00:00:00</td><td>97.3</td><td>1.64</td><td>6.32</td><td>&quot;Skubal, Tarik&quot;</td><td>457705</td><td>669373</td><td>-1</td><td>1.0</td><td>0</td><td>0</td><td>1</td><td>-1.0</td><td>-1</td><td>0</td><td>1</td><td>1.32</td><td>1.29</td><td>-0.64</td><td>2.65</td><td>0</td><td>1</td><td>0</td><td>-1.0</td><td>-1.0</td><td>-9.141577</td><td>-141.109845</td><td>-7.176998</td><td>19.856803</td><td>35.767834</td><td>-13.4769</td><td>3.12</td><td>1.57</td><td>-1.0</td><td>-1.0</td><td>-1.0</td><td>96.7</td><td>2123.0</td><td>6.4</td><td>747947</td><td>54.13</td><td>-1.0</td><td>-1.0</td><td>-1.0</td><td>-1.0</td><td>-1.0</td><td>-1.0</td><td>-1.0</td><td>5</td><td>2</td><td>0</td><td>0</td><td>147.0</td><td>-1.0</td><td>-1.0</td><td>2</td><td>0</td><td>0</td><td>72</td><td>0.232</td><td>0.328</td><td>0.411</td><td>0.739</td></tr></tbody></table></div>"
      ],
      "text/plain": [
       "shape: (33_492, 64)\n",
       "┌────────────┬──────────────┬───────────────┬───────────────┬───┬───────┬───────┬───────┬───────┐\n",
       "│ pitch_type ┆ game_date    ┆ release_speed ┆ release_pos_x ┆ … ┆ BA    ┆ OBP   ┆ SLG   ┆ OPS   │\n",
       "│ ---        ┆ ---          ┆ ---           ┆ ---           ┆   ┆ ---   ┆ ---   ┆ ---   ┆ ---   │\n",
       "│ i64        ┆ datetime[μs] ┆ f64           ┆ f64           ┆   ┆ f64   ┆ f64   ┆ f64   ┆ f64   │\n",
       "╞════════════╪══════════════╪═══════════════╪═══════════════╪═══╪═══════╪═══════╪═══════╪═══════╡\n",
       "│ 7          ┆ 2024-10-20   ┆ 78.8          ┆ 4.1           ┆ … ┆ 0.22  ┆ 0.364 ┆ 0.472 ┆ 0.836 │\n",
       "│            ┆ 00:00:00     ┆               ┆               ┆   ┆       ┆       ┆       ┆       │\n",
       "│ 0          ┆ 2024-10-20   ┆ 83.9          ┆ 4.16          ┆ … ┆ 0.22  ┆ 0.364 ┆ 0.472 ┆ 0.836 │\n",
       "│            ┆ 00:00:00     ┆               ┆               ┆   ┆       ┆       ┆       ┆       │\n",
       "│ 1          ┆ 2024-10-20   ┆ 91.9          ┆ 4.03          ┆ … ┆ 0.22  ┆ 0.364 ┆ 0.472 ┆ 0.836 │\n",
       "│            ┆ 00:00:00     ┆               ┆               ┆   ┆       ┆       ┆       ┆       │\n",
       "│ 7          ┆ 2024-10-20   ┆ 80.2          ┆ 3.84          ┆ … ┆ 0.22  ┆ 0.364 ┆ 0.472 ┆ 0.836 │\n",
       "│            ┆ 00:00:00     ┆               ┆               ┆   ┆       ┆       ┆       ┆       │\n",
       "│ 7          ┆ 2024-10-20   ┆ 78.9          ┆ 3.89          ┆ … ┆ 0.22  ┆ 0.364 ┆ 0.472 ┆ 0.836 │\n",
       "│            ┆ 00:00:00     ┆               ┆               ┆   ┆       ┆       ┆       ┆       │\n",
       "│ …          ┆ …            ┆ …             ┆ …             ┆ … ┆ …     ┆ …     ┆ …     ┆ …     │\n",
       "│ 0          ┆ 2024-03-16   ┆ 84.0          ┆ 1.71          ┆ … ┆ 0.275 ┆ 0.344 ┆ 0.447 ┆ 0.791 │\n",
       "│            ┆ 00:00:00     ┆               ┆               ┆   ┆       ┆       ┆       ┆       │\n",
       "│ 0          ┆ 2024-03-16   ┆ 85.4          ┆ 1.95          ┆ … ┆ 0.275 ┆ 0.344 ┆ 0.447 ┆ 0.791 │\n",
       "│            ┆ 00:00:00     ┆               ┆               ┆   ┆       ┆       ┆       ┆       │\n",
       "│ 1          ┆ 2024-03-16   ┆ 96.2          ┆ 1.78          ┆ … ┆ 0.275 ┆ 0.344 ┆ 0.447 ┆ 0.791 │\n",
       "│            ┆ 00:00:00     ┆               ┆               ┆   ┆       ┆       ┆       ┆       │\n",
       "│ 0          ┆ 2024-03-16   ┆ 86.7          ┆ 1.61          ┆ … ┆ 0.232 ┆ 0.328 ┆ 0.411 ┆ 0.739 │\n",
       "│            ┆ 00:00:00     ┆               ┆               ┆   ┆       ┆       ┆       ┆       │\n",
       "│ 1          ┆ 2024-03-16   ┆ 97.3          ┆ 1.64          ┆ … ┆ 0.232 ┆ 0.328 ┆ 0.411 ┆ 0.739 │\n",
       "│            ┆ 00:00:00     ┆               ┆               ┆   ┆       ┆       ┆       ┆       │\n",
       "└────────────┴──────────────┴───────────────┴───────────────┴───┴───────┴───────┴───────┴───────┘"
      ]
     },
     "execution_count": 142,
     "metadata": {},
     "output_type": "execute_result"
    }
   ],
   "source": [
    "df"
   ]
  }
 ],
 "metadata": {
  "kernelspec": {
   "display_name": "pitch_predict",
   "language": "python",
   "name": "python3"
  },
  "language_info": {
   "codemirror_mode": {
    "name": "ipython",
    "version": 3
   },
   "file_extension": ".py",
   "mimetype": "text/x-python",
   "name": "python",
   "nbconvert_exporter": "python",
   "pygments_lexer": "ipython3",
   "version": "3.12.7"
  }
 },
 "nbformat": 4,
 "nbformat_minor": 2
}
