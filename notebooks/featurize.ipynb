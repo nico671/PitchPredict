{
 "cells": [
  {
   "cell_type": "markdown",
   "metadata": {},
   "source": [
    "# feats using polar yay"
   ]
  },
  {
   "cell_type": "code",
   "execution_count": 3,
   "metadata": {},
   "outputs": [],
   "source": [
    "import polars as pl\n",
    "import yaml\n",
    "from pathlib import Path\n",
    "\n",
    "# pl.set_option(\"display\", False)"
   ]
  },
  {
   "cell_type": "code",
   "execution_count": 4,
   "metadata": {},
   "outputs": [],
   "source": [
    "input_path = Path(\"../data/cleaned/2015_2024_statcast_clean.parquet\")\n",
    "\n",
    "df = pl.read_parquet(input_path)"
   ]
  },
  {
   "cell_type": "code",
   "execution_count": 5,
   "metadata": {},
   "outputs": [
    {
     "data": {
      "text/html": [
       "<div><style>\n",
       ".dataframe > thead > tr,\n",
       ".dataframe > tbody > tr {\n",
       "  text-align: right;\n",
       "  white-space: pre-wrap;\n",
       "}\n",
       "</style>\n",
       "<small>shape: (151_295, 62)</small><table border=\"1\" class=\"dataframe\"><thead><tr><th>pitch_type</th><th>game_date</th><th>release_speed</th><th>release_pos_x</th><th>release_pos_z</th><th>player_name</th><th>batter</th><th>pitcher</th><th>events</th><th>zone</th><th>stand</th><th>p_throws</th><th>type</th><th>hit_location</th><th>bb_type</th><th>balls</th><th>strikes</th><th>pfx_x</th><th>pfx_z</th><th>plate_x</th><th>plate_z</th><th>on_3b</th><th>on_2b</th><th>on_1b</th><th>outs_when_up</th><th>inning</th><th>inning_topbot</th><th>hc_x</th><th>hc_y</th><th>vx0</th><th>vy0</th><th>vz0</th><th>ax</th><th>ay</th><th>az</th><th>sz_top</th><th>sz_bot</th><th>hit_distance_sc</th><th>launch_speed</th><th>launch_angle</th><th>effective_speed</th><th>release_spin_rate</th><th>release_extension</th><th>game_pk</th><th>release_pos_y</th><th>estimated_ba_using_speedangle</th><th>estimated_woba_using_speedangle</th><th>woba_value</th><th>woba_denom</th><th>babip_value</th><th>iso_value</th><th>launch_speed_angle</th><th>at_bat_number</th><th>pitch_number</th><th>bat_score</th><th>fld_score</th><th>if_fielding_alignment</th><th>of_fielding_alignment</th><th>spin_axis</th><th>bat_speed</th><th>swing_length</th><th>next_pitch</th></tr><tr><td>i64</td><td>datetime[μs]</td><td>f64</td><td>f64</td><td>f64</td><td>str</td><td>i64</td><td>i64</td><td>i64</td><td>f64</td><td>i64</td><td>i64</td><td>i64</td><td>f64</td><td>i64</td><td>i64</td><td>i64</td><td>f64</td><td>f64</td><td>f64</td><td>f64</td><td>f64</td><td>f64</td><td>f64</td><td>i64</td><td>i64</td><td>i64</td><td>f64</td><td>f64</td><td>f64</td><td>f64</td><td>f64</td><td>f64</td><td>f64</td><td>f64</td><td>f64</td><td>f64</td><td>f64</td><td>f64</td><td>f64</td><td>f64</td><td>f64</td><td>f64</td><td>i64</td><td>f64</td><td>f64</td><td>f64</td><td>f64</td><td>f64</td><td>f64</td><td>f64</td><td>f64</td><td>i64</td><td>i64</td><td>i64</td><td>i64</td><td>i64</td><td>i64</td><td>f64</td><td>f64</td><td>f64</td><td>i64</td></tr></thead><tbody><tr><td>0</td><td>2024-10-25 00:00:00</td><td>92.5</td><td>0.51</td><td>5.8</td><td>&quot;Cortes, Nestor&quot;</td><td>518692</td><td>641482</td><td>4</td><td>9.0</td><td>1</td><td>1</td><td>0</td><td>-1.0</td><td>1</td><td>0</td><td>0</td><td>0.48</td><td>1.74</td><td>0.65</td><td>2.31</td><td>621035.0</td><td>669242.0</td><td>605141.0</td><td>2</td><td>10</td><td>1</td><td>224.63</td><td>57.87</td><td>-0.699329</td><td>-134.506903</td><td>-6.784158</td><td>5.946069</td><td>32.735111</td><td>-9.821026</td><td>3.61</td><td>1.81</td><td>409.0</td><td>109.2</td><td>30.0</td><td>91.3</td><td>2372.0</td><td>5.9</td><td>775300</td><td>54.61</td><td>0.989</td><td>1.999</td><td>2.0</td><td>1.0</td><td>0.0</td><td>3.0</td><td>6.0</td><td>83</td><td>1</td><td>2</td><td>3</td><td>0</td><td>0</td><td>160.0</td><td>75.80467</td><td>7.30081</td><td>0</td></tr><tr><td>0</td><td>2024-10-25 00:00:00</td><td>92.4</td><td>0.7</td><td>5.84</td><td>&quot;Cortes, Nestor&quot;</td><td>660271</td><td>641482</td><td>0</td><td>5.0</td><td>1</td><td>1</td><td>0</td><td>7.0</td><td>1</td><td>0</td><td>0</td><td>0.5</td><td>1.55</td><td>0.23</td><td>2.74</td><td>-1.0</td><td>621035.0</td><td>669242.0</td><td>1</td><td>10</td><td>1</td><td>54.17</td><td>138.21</td><td>-2.297192</td><td>-134.471316</td><td>-5.365587</td><td>6.608204</td><td>31.350107</td><td>-12.479872</td><td>3.4</td><td>1.61</td><td>234.0</td><td>83.3</td><td>48.0</td><td>91.6</td><td>2152.0</td><td>6.0</td><td>775300</td><td>54.53</td><td>0.011</td><td>0.011</td><td>0.0</td><td>1.0</td><td>0.0</td><td>0.0</td><td>3.0</td><td>81</td><td>1</td><td>2</td><td>3</td><td>0</td><td>0</td><td>162.0</td><td>77.05477</td><td>7.22915</td><td>0</td></tr><tr><td>0</td><td>2024-10-25 00:00:00</td><td>93.4</td><td>-2.44</td><td>5.41</td><td>&quot;Flaherty, Jack&quot;</td><td>665862</td><td>656427</td><td>-1</td><td>13.0</td><td>1</td><td>0</td><td>2</td><td>-1.0</td><td>-1</td><td>0</td><td>0</td><td>-0.14</td><td>1.25</td><td>-0.98</td><td>1.77</td><td>-1.0</td><td>-1.0</td><td>-1.0</td><td>1</td><td>6</td><td>0</td><td>-1.0</td><td>-1.0</td><td>4.093515</td><td>-135.916333</td><td>-6.401224</td><td>-2.660478</td><td>30.173396</td><td>-15.437446</td><td>3.63</td><td>1.73</td><td>-1.0</td><td>-1.0</td><td>-1.0</td><td>93.8</td><td>2099.0</td><td>6.6</td><td>775300</td><td>53.95</td><td>-1.0</td><td>-1.0</td><td>-1.0</td><td>-1.0</td><td>-1.0</td><td>-1.0</td><td>-1.0</td><td>40</td><td>1</td><td>2</td><td>1</td><td>0</td><td>0</td><td>209.0</td><td>-1.0</td><td>-1.0</td><td>7</td></tr><tr><td>7</td><td>2024-10-25 00:00:00</td><td>79.4</td><td>-2.43</td><td>4.96</td><td>&quot;Flaherty, Jack&quot;</td><td>519317</td><td>656427</td><td>4</td><td>13.0</td><td>0</td><td>0</td><td>0</td><td>-1.0</td><td>1</td><td>1</td><td>2</td><td>1.0</td><td>-0.31</td><td>-0.46</td><td>1.61</td><td>-1.0</td><td>-1.0</td><td>665742.0</td><td>1</td><td>6</td><td>0</td><td>10.71</td><td>76.6</td><td>2.450603</td><td>-115.727604</td><td>-0.013764</td><td>8.59068</td><td>21.223153</td><td>-35.156606</td><td>3.77</td><td>1.79</td><td>412.0</td><td>116.6</td><td>35.0</td><td>80.0</td><td>2340.0</td><td>6.5</td><td>775300</td><td>53.96</td><td>0.957</td><td>1.937</td><td>2.0</td><td>1.0</td><td>0.0</td><td>3.0</td><td>6.0</td><td>39</td><td>4</td><td>0</td><td>1</td><td>0</td><td>0</td><td>56.0</td><td>86.90199</td><td>9.60464</td><td>0</td></tr><tr><td>0</td><td>2024-10-25 00:00:00</td><td>88.8</td><td>-2.27</td><td>5.49</td><td>&quot;Flaherty, Jack&quot;</td><td>519317</td><td>656427</td><td>-1</td><td>11.0</td><td>0</td><td>0</td><td>2</td><td>-1.0</td><td>-1</td><td>0</td><td>2</td><td>-0.33</td><td>1.13</td><td>-1.3</td><td>6.91</td><td>-1.0</td><td>-1.0</td><td>665742.0</td><td>1</td><td>6</td><td>0</td><td>-1.0</td><td>-1.0</td><td>3.059732</td><td>-129.183623</td><td>7.175169</td><td>-4.325522</td><td>26.473279</td><td>-21.19208</td><td>3.77</td><td>1.79</td><td>-1.0</td><td>-1.0</td><td>-1.0</td><td>89.0</td><td>2123.0</td><td>6.4</td><td>775300</td><td>54.09</td><td>-1.0</td><td>-1.0</td><td>-1.0</td><td>-1.0</td><td>-1.0</td><td>-1.0</td><td>-1.0</td><td>39</td><td>3</td><td>0</td><td>1</td><td>0</td><td>0</td><td>205.0</td><td>-1.0</td><td>-1.0</td><td>7</td></tr><tr><td>&hellip;</td><td>&hellip;</td><td>&hellip;</td><td>&hellip;</td><td>&hellip;</td><td>&hellip;</td><td>&hellip;</td><td>&hellip;</td><td>&hellip;</td><td>&hellip;</td><td>&hellip;</td><td>&hellip;</td><td>&hellip;</td><td>&hellip;</td><td>&hellip;</td><td>&hellip;</td><td>&hellip;</td><td>&hellip;</td><td>&hellip;</td><td>&hellip;</td><td>&hellip;</td><td>&hellip;</td><td>&hellip;</td><td>&hellip;</td><td>&hellip;</td><td>&hellip;</td><td>&hellip;</td><td>&hellip;</td><td>&hellip;</td><td>&hellip;</td><td>&hellip;</td><td>&hellip;</td><td>&hellip;</td><td>&hellip;</td><td>&hellip;</td><td>&hellip;</td><td>&hellip;</td><td>&hellip;</td><td>&hellip;</td><td>&hellip;</td><td>&hellip;</td><td>&hellip;</td><td>&hellip;</td><td>&hellip;</td><td>&hellip;</td><td>&hellip;</td><td>&hellip;</td><td>&hellip;</td><td>&hellip;</td><td>&hellip;</td><td>&hellip;</td><td>&hellip;</td><td>&hellip;</td><td>&hellip;</td><td>&hellip;</td><td>&hellip;</td><td>&hellip;</td><td>&hellip;</td><td>&hellip;</td><td>&hellip;</td><td>&hellip;</td><td>&hellip;</td></tr><tr><td>1</td><td>2024-03-16 00:00:00</td><td>92.3</td><td>-2.65</td><td>5.39</td><td>&quot;Gil, Luis&quot;</td><td>666182</td><td>661563</td><td>1</td><td>11.0</td><td>0</td><td>0</td><td>1</td><td>2.0</td><td>-1</td><td>2</td><td>2</td><td>-1.68</td><td>0.57</td><td>-1.17</td><td>4.12</td><td>-1.0</td><td>-1.0</td><td>-1.0</td><td>1</td><td>1</td><td>0</td><td>-1.0</td><td>-1.0</td><td>7.496423</td><td>-134.279975</td><td>1.339776</td><td>-21.931014</td><td>27.362073</td><td>-25.690825</td><td>3.21</td><td>1.62</td><td>-1.0</td><td>-1.0</td><td>-1.0</td><td>93.4</td><td>1889.0</td><td>6.8</td><td>747942</td><td>53.7</td><td>-1.0</td><td>-1.0</td><td>0.0</td><td>-1.0</td><td>0.0</td><td>0.0</td><td>-1.0</td><td>2</td><td>5</td><td>0</td><td>0</td><td>-1</td><td>-1</td><td>228.0</td><td>-1.0</td><td>-1.0</td><td>1</td></tr><tr><td>1</td><td>2024-03-16 00:00:00</td><td>91.6</td><td>-2.5</td><td>5.58</td><td>&quot;Gil, Luis&quot;</td><td>666182</td><td>661563</td><td>-1</td><td>6.0</td><td>0</td><td>0</td><td>1</td><td>-1.0</td><td>-1</td><td>2</td><td>1</td><td>-1.24</td><td>0.81</td><td>0.5</td><td>2.58</td><td>-1.0</td><td>-1.0</td><td>-1.0</td><td>1</td><td>1</td><td>0</td><td>-1.0</td><td>-1.0</td><td>10.323548</td><td>-133.104413</td><td>-3.532308</td><td>-16.886206</td><td>26.702456</td><td>-21.930349</td><td>3.21</td><td>1.62</td><td>-1.0</td><td>-1.0</td><td>-1.0</td><td>92.6</td><td>1821.0</td><td>6.8</td><td>747942</td><td>53.68</td><td>-1.0</td><td>-1.0</td><td>-1.0</td><td>-1.0</td><td>-1.0</td><td>-1.0</td><td>-1.0</td><td>2</td><td>4</td><td>0</td><td>0</td><td>-1</td><td>-1</td><td>218.0</td><td>-1.0</td><td>-1.0</td><td>0</td></tr><tr><td>0</td><td>2024-03-16 00:00:00</td><td>97.5</td><td>-2.4</td><td>5.78</td><td>&quot;Gil, Luis&quot;</td><td>666182</td><td>661563</td><td>-1</td><td>11.0</td><td>0</td><td>0</td><td>2</td><td>-1.0</td><td>-1</td><td>1</td><td>1</td><td>-0.68</td><td>1.46</td><td>-1.23</td><td>3.62</td><td>-1.0</td><td>-1.0</td><td>-1.0</td><td>1</td><td>1</td><td>0</td><td>-1.0</td><td>-1.0</td><td>4.760172</td><td>-141.947882</td><td>-3.677617</td><td>-10.313355</td><td>33.060944</td><td>-11.782828</td><td>3.21</td><td>1.62</td><td>-1.0</td><td>-1.0</td><td>-1.0</td><td>98.1</td><td>2453.0</td><td>6.7</td><td>747942</td><td>53.85</td><td>-1.0</td><td>-1.0</td><td>-1.0</td><td>-1.0</td><td>-1.0</td><td>-1.0</td><td>-1.0</td><td>2</td><td>3</td><td>0</td><td>0</td><td>-1</td><td>-1</td><td>205.0</td><td>-1.0</td><td>-1.0</td><td>1</td></tr><tr><td>1</td><td>2024-03-16 00:00:00</td><td>90.4</td><td>-2.7</td><td>5.49</td><td>&quot;Gil, Luis&quot;</td><td>666182</td><td>661563</td><td>-1</td><td>5.0</td><td>0</td><td>0</td><td>1</td><td>-1.0</td><td>-1</td><td>1</td><td>0</td><td>-1.81</td><td>0.76</td><td>-0.27</td><td>2.25</td><td>-1.0</td><td>-1.0</td><td>-1.0</td><td>1</td><td>1</td><td>0</td><td>-1.0</td><td>-1.0</td><td>9.949654</td><td>-131.266376</td><td>-3.781047</td><td>-22.985753</td><td>26.374193</td><td>-22.731947</td><td>3.21</td><td>1.62</td><td>-1.0</td><td>-1.0</td><td>-1.0</td><td>90.9</td><td>1730.0</td><td>6.6</td><td>747942</td><td>53.89</td><td>-1.0</td><td>-1.0</td><td>-1.0</td><td>-1.0</td><td>-1.0</td><td>-1.0</td><td>-1.0</td><td>2</td><td>2</td><td>0</td><td>0</td><td>-1</td><td>-1</td><td>227.0</td><td>-1.0</td><td>-1.0</td><td>0</td></tr><tr><td>0</td><td>2024-03-16 00:00:00</td><td>95.9</td><td>-2.51</td><td>5.87</td><td>&quot;Gil, Luis&quot;</td><td>666182</td><td>661563</td><td>-1</td><td>12.0</td><td>0</td><td>0</td><td>2</td><td>-1.0</td><td>-1</td><td>0</td><td>0</td><td>-0.71</td><td>1.61</td><td>0.04</td><td>4.22</td><td>-1.0</td><td>-1.0</td><td>-1.0</td><td>1</td><td>1</td><td>0</td><td>-1.0</td><td>-1.0</td><td>8.362492</td><td>-139.445651</td><td>-2.416982</td><td>-11.085769</td><td>30.933054</td><td>-10.849715</td><td>3.21</td><td>1.62</td><td>-1.0</td><td>-1.0</td><td>-1.0</td><td>96.3</td><td>2462.0</td><td>6.5</td><td>747942</td><td>54.0</td><td>-1.0</td><td>-1.0</td><td>-1.0</td><td>-1.0</td><td>-1.0</td><td>-1.0</td><td>-1.0</td><td>2</td><td>1</td><td>0</td><td>0</td><td>0</td><td>0</td><td>201.0</td><td>-1.0</td><td>-1.0</td><td>0</td></tr></tbody></table></div>"
      ],
      "text/plain": [
       "shape: (151_295, 62)\n",
       "┌───────────┬───────────┬───────────┬───────────┬───┬───────────┬───────────┬───────────┬──────────┐\n",
       "│ pitch_typ ┆ game_date ┆ release_s ┆ release_p ┆ … ┆ spin_axis ┆ bat_speed ┆ swing_len ┆ next_pit │\n",
       "│ e         ┆ ---       ┆ peed      ┆ os_x      ┆   ┆ ---       ┆ ---       ┆ gth       ┆ ch       │\n",
       "│ ---       ┆ datetime[ ┆ ---       ┆ ---       ┆   ┆ f64       ┆ f64       ┆ ---       ┆ ---      │\n",
       "│ i64       ┆ μs]       ┆ f64       ┆ f64       ┆   ┆           ┆           ┆ f64       ┆ i64      │\n",
       "╞═══════════╪═══════════╪═══════════╪═══════════╪═══╪═══════════╪═══════════╪═══════════╪══════════╡\n",
       "│ 0         ┆ 2024-10-2 ┆ 92.5      ┆ 0.51      ┆ … ┆ 160.0     ┆ 75.80467  ┆ 7.30081   ┆ 0        │\n",
       "│           ┆ 5         ┆           ┆           ┆   ┆           ┆           ┆           ┆          │\n",
       "│           ┆ 00:00:00  ┆           ┆           ┆   ┆           ┆           ┆           ┆          │\n",
       "│ 0         ┆ 2024-10-2 ┆ 92.4      ┆ 0.7       ┆ … ┆ 162.0     ┆ 77.05477  ┆ 7.22915   ┆ 0        │\n",
       "│           ┆ 5         ┆           ┆           ┆   ┆           ┆           ┆           ┆          │\n",
       "│           ┆ 00:00:00  ┆           ┆           ┆   ┆           ┆           ┆           ┆          │\n",
       "│ 0         ┆ 2024-10-2 ┆ 93.4      ┆ -2.44     ┆ … ┆ 209.0     ┆ -1.0      ┆ -1.0      ┆ 7        │\n",
       "│           ┆ 5         ┆           ┆           ┆   ┆           ┆           ┆           ┆          │\n",
       "│           ┆ 00:00:00  ┆           ┆           ┆   ┆           ┆           ┆           ┆          │\n",
       "│ 7         ┆ 2024-10-2 ┆ 79.4      ┆ -2.43     ┆ … ┆ 56.0      ┆ 86.90199  ┆ 9.60464   ┆ 0        │\n",
       "│           ┆ 5         ┆           ┆           ┆   ┆           ┆           ┆           ┆          │\n",
       "│           ┆ 00:00:00  ┆           ┆           ┆   ┆           ┆           ┆           ┆          │\n",
       "│ 0         ┆ 2024-10-2 ┆ 88.8      ┆ -2.27     ┆ … ┆ 205.0     ┆ -1.0      ┆ -1.0      ┆ 7        │\n",
       "│           ┆ 5         ┆           ┆           ┆   ┆           ┆           ┆           ┆          │\n",
       "│           ┆ 00:00:00  ┆           ┆           ┆   ┆           ┆           ┆           ┆          │\n",
       "│ …         ┆ …         ┆ …         ┆ …         ┆ … ┆ …         ┆ …         ┆ …         ┆ …        │\n",
       "│ 1         ┆ 2024-03-1 ┆ 92.3      ┆ -2.65     ┆ … ┆ 228.0     ┆ -1.0      ┆ -1.0      ┆ 1        │\n",
       "│           ┆ 6         ┆           ┆           ┆   ┆           ┆           ┆           ┆          │\n",
       "│           ┆ 00:00:00  ┆           ┆           ┆   ┆           ┆           ┆           ┆          │\n",
       "│ 1         ┆ 2024-03-1 ┆ 91.6      ┆ -2.5      ┆ … ┆ 218.0     ┆ -1.0      ┆ -1.0      ┆ 0        │\n",
       "│           ┆ 6         ┆           ┆           ┆   ┆           ┆           ┆           ┆          │\n",
       "│           ┆ 00:00:00  ┆           ┆           ┆   ┆           ┆           ┆           ┆          │\n",
       "│ 0         ┆ 2024-03-1 ┆ 97.5      ┆ -2.4      ┆ … ┆ 205.0     ┆ -1.0      ┆ -1.0      ┆ 1        │\n",
       "│           ┆ 6         ┆           ┆           ┆   ┆           ┆           ┆           ┆          │\n",
       "│           ┆ 00:00:00  ┆           ┆           ┆   ┆           ┆           ┆           ┆          │\n",
       "│ 1         ┆ 2024-03-1 ┆ 90.4      ┆ -2.7      ┆ … ┆ 227.0     ┆ -1.0      ┆ -1.0      ┆ 0        │\n",
       "│           ┆ 6         ┆           ┆           ┆   ┆           ┆           ┆           ┆          │\n",
       "│           ┆ 00:00:00  ┆           ┆           ┆   ┆           ┆           ┆           ┆          │\n",
       "│ 0         ┆ 2024-03-1 ┆ 95.9      ┆ -2.51     ┆ … ┆ 201.0     ┆ -1.0      ┆ -1.0      ┆ 0        │\n",
       "│           ┆ 6         ┆           ┆           ┆   ┆           ┆           ┆           ┆          │\n",
       "│           ┆ 00:00:00  ┆           ┆           ┆   ┆           ┆           ┆           ┆          │\n",
       "└───────────┴───────────┴───────────┴───────────┴───┴───────────┴───────────┴───────────┴──────────┘"
      ]
     },
     "execution_count": 5,
     "metadata": {},
     "output_type": "execute_result"
    }
   ],
   "source": [
    "df = df.sort(\n",
    "    [\n",
    "        \"game_date\",\n",
    "        \"game_pk\",\n",
    "        \"at_bat_number\",\n",
    "        \"pitch_number\",\n",
    "    ],\n",
    "    descending=[False, False, False, True],\n",
    ")\n",
    "\n",
    "\n",
    "df.head()\n",
    "\n",
    "df = df.with_columns(\n",
    "    df.select(\n",
    "        pl.col(pl.String).exclude([\"player_name\"]).cast(pl.Categorical).to_physical()\n",
    "    ),\n",
    ")\n",
    "\n",
    "df\n",
    "df = df.fill_null(-1)\n",
    "df = df.sort(\n",
    "    [\n",
    "        \"game_date\",\n",
    "        \"game_pk\",\n",
    "        \"at_bat_number\",\n",
    "        \"pitch_number\",\n",
    "    ],\n",
    "    descending=True,\n",
    ")\n",
    "\n",
    "df = df.with_columns(\n",
    "    df.select(pl.col(\"pitch_type\").shift(-1).alias(\"next_pitch\")),\n",
    ").drop_nulls(\"next_pitch\")\n",
    "\n",
    "df"
   ]
  },
  {
   "cell_type": "code",
   "execution_count": 6,
   "metadata": {},
   "outputs": [
    {
     "data": {
      "text/plain": [
       "['pitch_type',\n",
       " 'game_date',\n",
       " 'release_speed',\n",
       " 'release_pos_x',\n",
       " 'release_pos_z',\n",
       " 'player_name',\n",
       " 'batter',\n",
       " 'pitcher',\n",
       " 'events',\n",
       " 'zone',\n",
       " 'stand',\n",
       " 'p_throws',\n",
       " 'type',\n",
       " 'hit_location',\n",
       " 'bb_type',\n",
       " 'balls',\n",
       " 'strikes',\n",
       " 'pfx_x',\n",
       " 'pfx_z',\n",
       " 'plate_x',\n",
       " 'plate_z',\n",
       " 'on_3b',\n",
       " 'on_2b',\n",
       " 'on_1b',\n",
       " 'outs_when_up',\n",
       " 'inning',\n",
       " 'inning_topbot',\n",
       " 'hc_x',\n",
       " 'hc_y',\n",
       " 'vx0',\n",
       " 'vy0',\n",
       " 'vz0',\n",
       " 'ax',\n",
       " 'ay',\n",
       " 'az',\n",
       " 'sz_top',\n",
       " 'sz_bot',\n",
       " 'hit_distance_sc',\n",
       " 'launch_speed',\n",
       " 'launch_angle',\n",
       " 'effective_speed',\n",
       " 'release_spin_rate',\n",
       " 'release_extension',\n",
       " 'game_pk',\n",
       " 'release_pos_y',\n",
       " 'estimated_ba_using_speedangle',\n",
       " 'estimated_woba_using_speedangle',\n",
       " 'woba_value',\n",
       " 'woba_denom',\n",
       " 'babip_value',\n",
       " 'iso_value',\n",
       " 'launch_speed_angle',\n",
       " 'at_bat_number',\n",
       " 'pitch_number',\n",
       " 'if_fielding_alignment',\n",
       " 'of_fielding_alignment',\n",
       " 'spin_axis',\n",
       " 'bat_speed',\n",
       " 'swing_length',\n",
       " 'next_pitch',\n",
       " 'run_diff']"
      ]
     },
     "execution_count": 6,
     "metadata": {},
     "output_type": "execute_result"
    }
   ],
   "source": [
    "# [ 'run_diff', 'base_state']\n",
    "\n",
    "\n",
    "df = df.with_columns(\n",
    "    (pl.col(\"fld_score\") - pl.col(\"bat_score\")).alias(\"run_diff\").cast(pl.Int32),\n",
    ")\n",
    "\n",
    "df = df.drop([\"fld_score\", \"bat_score\"])\n",
    "df.columns\n"
   ]
  },
  {
   "cell_type": "code",
   "execution_count": 7,
   "metadata": {},
   "outputs": [
    {
     "data": {
      "text/html": [
       "<div><style>\n",
       ".dataframe > thead > tr,\n",
       ".dataframe > tbody > tr {\n",
       "  text-align: right;\n",
       "  white-space: pre-wrap;\n",
       "}\n",
       "</style>\n",
       "<small>shape: (151_295, 59)</small><table border=\"1\" class=\"dataframe\"><thead><tr><th>pitch_type</th><th>game_date</th><th>release_speed</th><th>release_pos_x</th><th>release_pos_z</th><th>player_name</th><th>batter</th><th>pitcher</th><th>events</th><th>zone</th><th>stand</th><th>p_throws</th><th>type</th><th>hit_location</th><th>bb_type</th><th>balls</th><th>strikes</th><th>pfx_x</th><th>pfx_z</th><th>plate_x</th><th>plate_z</th><th>outs_when_up</th><th>inning</th><th>inning_topbot</th><th>hc_x</th><th>hc_y</th><th>vx0</th><th>vy0</th><th>vz0</th><th>ax</th><th>ay</th><th>az</th><th>sz_top</th><th>sz_bot</th><th>hit_distance_sc</th><th>launch_speed</th><th>launch_angle</th><th>effective_speed</th><th>release_spin_rate</th><th>release_extension</th><th>game_pk</th><th>release_pos_y</th><th>estimated_ba_using_speedangle</th><th>estimated_woba_using_speedangle</th><th>woba_value</th><th>woba_denom</th><th>babip_value</th><th>iso_value</th><th>launch_speed_angle</th><th>at_bat_number</th><th>pitch_number</th><th>if_fielding_alignment</th><th>of_fielding_alignment</th><th>spin_axis</th><th>bat_speed</th><th>swing_length</th><th>next_pitch</th><th>run_diff</th><th>base_state</th></tr><tr><td>i64</td><td>datetime[μs]</td><td>f64</td><td>f64</td><td>f64</td><td>str</td><td>i64</td><td>i64</td><td>i64</td><td>f64</td><td>i64</td><td>i64</td><td>i64</td><td>f64</td><td>i64</td><td>i64</td><td>i64</td><td>f64</td><td>f64</td><td>f64</td><td>f64</td><td>i64</td><td>i64</td><td>i64</td><td>f64</td><td>f64</td><td>f64</td><td>f64</td><td>f64</td><td>f64</td><td>f64</td><td>f64</td><td>f64</td><td>f64</td><td>f64</td><td>f64</td><td>f64</td><td>f64</td><td>f64</td><td>f64</td><td>i64</td><td>f64</td><td>f64</td><td>f64</td><td>f64</td><td>f64</td><td>f64</td><td>f64</td><td>f64</td><td>i64</td><td>i64</td><td>i64</td><td>i64</td><td>f64</td><td>f64</td><td>f64</td><td>i64</td><td>i32</td><td>i32</td></tr></thead><tbody><tr><td>0</td><td>2024-10-25 00:00:00</td><td>92.5</td><td>0.51</td><td>5.8</td><td>&quot;Cortes, Nestor&quot;</td><td>518692</td><td>641482</td><td>4</td><td>9.0</td><td>1</td><td>1</td><td>0</td><td>-1.0</td><td>1</td><td>0</td><td>0</td><td>0.48</td><td>1.74</td><td>0.65</td><td>2.31</td><td>2</td><td>10</td><td>1</td><td>224.63</td><td>57.87</td><td>-0.699329</td><td>-134.506903</td><td>-6.784158</td><td>5.946069</td><td>32.735111</td><td>-9.821026</td><td>3.61</td><td>1.81</td><td>409.0</td><td>109.2</td><td>30.0</td><td>91.3</td><td>2372.0</td><td>5.9</td><td>775300</td><td>54.61</td><td>0.989</td><td>1.999</td><td>2.0</td><td>1.0</td><td>0.0</td><td>3.0</td><td>6.0</td><td>83</td><td>1</td><td>0</td><td>0</td><td>160.0</td><td>75.80467</td><td>7.30081</td><td>0</td><td>1</td><td>15</td></tr><tr><td>0</td><td>2024-10-25 00:00:00</td><td>92.4</td><td>0.7</td><td>5.84</td><td>&quot;Cortes, Nestor&quot;</td><td>660271</td><td>641482</td><td>0</td><td>5.0</td><td>1</td><td>1</td><td>0</td><td>7.0</td><td>1</td><td>0</td><td>0</td><td>0.5</td><td>1.55</td><td>0.23</td><td>2.74</td><td>1</td><td>10</td><td>1</td><td>54.17</td><td>138.21</td><td>-2.297192</td><td>-134.471316</td><td>-5.365587</td><td>6.608204</td><td>31.350107</td><td>-12.479872</td><td>3.4</td><td>1.61</td><td>234.0</td><td>83.3</td><td>48.0</td><td>91.6</td><td>2152.0</td><td>6.0</td><td>775300</td><td>54.53</td><td>0.011</td><td>0.011</td><td>0.0</td><td>1.0</td><td>0.0</td><td>0.0</td><td>3.0</td><td>81</td><td>1</td><td>0</td><td>0</td><td>162.0</td><td>77.05477</td><td>7.22915</td><td>0</td><td>1</td><td>8</td></tr><tr><td>0</td><td>2024-10-25 00:00:00</td><td>93.4</td><td>-2.44</td><td>5.41</td><td>&quot;Flaherty, Jack&quot;</td><td>665862</td><td>656427</td><td>-1</td><td>13.0</td><td>1</td><td>0</td><td>2</td><td>-1.0</td><td>-1</td><td>0</td><td>0</td><td>-0.14</td><td>1.25</td><td>-0.98</td><td>1.77</td><td>1</td><td>6</td><td>0</td><td>-1.0</td><td>-1.0</td><td>4.093515</td><td>-135.916333</td><td>-6.401224</td><td>-2.660478</td><td>30.173396</td><td>-15.437446</td><td>3.63</td><td>1.73</td><td>-1.0</td><td>-1.0</td><td>-1.0</td><td>93.8</td><td>2099.0</td><td>6.6</td><td>775300</td><td>53.95</td><td>-1.0</td><td>-1.0</td><td>-1.0</td><td>-1.0</td><td>-1.0</td><td>-1.0</td><td>-1.0</td><td>40</td><td>1</td><td>0</td><td>0</td><td>209.0</td><td>-1.0</td><td>-1.0</td><td>7</td><td>-1</td><td>0</td></tr><tr><td>7</td><td>2024-10-25 00:00:00</td><td>79.4</td><td>-2.43</td><td>4.96</td><td>&quot;Flaherty, Jack&quot;</td><td>519317</td><td>656427</td><td>4</td><td>13.0</td><td>0</td><td>0</td><td>0</td><td>-1.0</td><td>1</td><td>1</td><td>2</td><td>1.0</td><td>-0.31</td><td>-0.46</td><td>1.61</td><td>1</td><td>6</td><td>0</td><td>10.71</td><td>76.6</td><td>2.450603</td><td>-115.727604</td><td>-0.013764</td><td>8.59068</td><td>21.223153</td><td>-35.156606</td><td>3.77</td><td>1.79</td><td>412.0</td><td>116.6</td><td>35.0</td><td>80.0</td><td>2340.0</td><td>6.5</td><td>775300</td><td>53.96</td><td>0.957</td><td>1.937</td><td>2.0</td><td>1.0</td><td>0.0</td><td>3.0</td><td>6.0</td><td>39</td><td>4</td><td>0</td><td>0</td><td>56.0</td><td>86.90199</td><td>9.60464</td><td>0</td><td>1</td><td>3</td></tr><tr><td>0</td><td>2024-10-25 00:00:00</td><td>88.8</td><td>-2.27</td><td>5.49</td><td>&quot;Flaherty, Jack&quot;</td><td>519317</td><td>656427</td><td>-1</td><td>11.0</td><td>0</td><td>0</td><td>2</td><td>-1.0</td><td>-1</td><td>0</td><td>2</td><td>-0.33</td><td>1.13</td><td>-1.3</td><td>6.91</td><td>1</td><td>6</td><td>0</td><td>-1.0</td><td>-1.0</td><td>3.059732</td><td>-129.183623</td><td>7.175169</td><td>-4.325522</td><td>26.473279</td><td>-21.19208</td><td>3.77</td><td>1.79</td><td>-1.0</td><td>-1.0</td><td>-1.0</td><td>89.0</td><td>2123.0</td><td>6.4</td><td>775300</td><td>54.09</td><td>-1.0</td><td>-1.0</td><td>-1.0</td><td>-1.0</td><td>-1.0</td><td>-1.0</td><td>-1.0</td><td>39</td><td>3</td><td>0</td><td>0</td><td>205.0</td><td>-1.0</td><td>-1.0</td><td>7</td><td>1</td><td>3</td></tr><tr><td>&hellip;</td><td>&hellip;</td><td>&hellip;</td><td>&hellip;</td><td>&hellip;</td><td>&hellip;</td><td>&hellip;</td><td>&hellip;</td><td>&hellip;</td><td>&hellip;</td><td>&hellip;</td><td>&hellip;</td><td>&hellip;</td><td>&hellip;</td><td>&hellip;</td><td>&hellip;</td><td>&hellip;</td><td>&hellip;</td><td>&hellip;</td><td>&hellip;</td><td>&hellip;</td><td>&hellip;</td><td>&hellip;</td><td>&hellip;</td><td>&hellip;</td><td>&hellip;</td><td>&hellip;</td><td>&hellip;</td><td>&hellip;</td><td>&hellip;</td><td>&hellip;</td><td>&hellip;</td><td>&hellip;</td><td>&hellip;</td><td>&hellip;</td><td>&hellip;</td><td>&hellip;</td><td>&hellip;</td><td>&hellip;</td><td>&hellip;</td><td>&hellip;</td><td>&hellip;</td><td>&hellip;</td><td>&hellip;</td><td>&hellip;</td><td>&hellip;</td><td>&hellip;</td><td>&hellip;</td><td>&hellip;</td><td>&hellip;</td><td>&hellip;</td><td>&hellip;</td><td>&hellip;</td><td>&hellip;</td><td>&hellip;</td><td>&hellip;</td><td>&hellip;</td><td>&hellip;</td><td>&hellip;</td></tr><tr><td>1</td><td>2024-03-16 00:00:00</td><td>92.3</td><td>-2.65</td><td>5.39</td><td>&quot;Gil, Luis&quot;</td><td>666182</td><td>661563</td><td>1</td><td>11.0</td><td>0</td><td>0</td><td>1</td><td>2.0</td><td>-1</td><td>2</td><td>2</td><td>-1.68</td><td>0.57</td><td>-1.17</td><td>4.12</td><td>1</td><td>1</td><td>0</td><td>-1.0</td><td>-1.0</td><td>7.496423</td><td>-134.279975</td><td>1.339776</td><td>-21.931014</td><td>27.362073</td><td>-25.690825</td><td>3.21</td><td>1.62</td><td>-1.0</td><td>-1.0</td><td>-1.0</td><td>93.4</td><td>1889.0</td><td>6.8</td><td>747942</td><td>53.7</td><td>-1.0</td><td>-1.0</td><td>0.0</td><td>-1.0</td><td>0.0</td><td>0.0</td><td>-1.0</td><td>2</td><td>5</td><td>-1</td><td>-1</td><td>228.0</td><td>-1.0</td><td>-1.0</td><td>1</td><td>0</td><td>0</td></tr><tr><td>1</td><td>2024-03-16 00:00:00</td><td>91.6</td><td>-2.5</td><td>5.58</td><td>&quot;Gil, Luis&quot;</td><td>666182</td><td>661563</td><td>-1</td><td>6.0</td><td>0</td><td>0</td><td>1</td><td>-1.0</td><td>-1</td><td>2</td><td>1</td><td>-1.24</td><td>0.81</td><td>0.5</td><td>2.58</td><td>1</td><td>1</td><td>0</td><td>-1.0</td><td>-1.0</td><td>10.323548</td><td>-133.104413</td><td>-3.532308</td><td>-16.886206</td><td>26.702456</td><td>-21.930349</td><td>3.21</td><td>1.62</td><td>-1.0</td><td>-1.0</td><td>-1.0</td><td>92.6</td><td>1821.0</td><td>6.8</td><td>747942</td><td>53.68</td><td>-1.0</td><td>-1.0</td><td>-1.0</td><td>-1.0</td><td>-1.0</td><td>-1.0</td><td>-1.0</td><td>2</td><td>4</td><td>-1</td><td>-1</td><td>218.0</td><td>-1.0</td><td>-1.0</td><td>0</td><td>0</td><td>0</td></tr><tr><td>0</td><td>2024-03-16 00:00:00</td><td>97.5</td><td>-2.4</td><td>5.78</td><td>&quot;Gil, Luis&quot;</td><td>666182</td><td>661563</td><td>-1</td><td>11.0</td><td>0</td><td>0</td><td>2</td><td>-1.0</td><td>-1</td><td>1</td><td>1</td><td>-0.68</td><td>1.46</td><td>-1.23</td><td>3.62</td><td>1</td><td>1</td><td>0</td><td>-1.0</td><td>-1.0</td><td>4.760172</td><td>-141.947882</td><td>-3.677617</td><td>-10.313355</td><td>33.060944</td><td>-11.782828</td><td>3.21</td><td>1.62</td><td>-1.0</td><td>-1.0</td><td>-1.0</td><td>98.1</td><td>2453.0</td><td>6.7</td><td>747942</td><td>53.85</td><td>-1.0</td><td>-1.0</td><td>-1.0</td><td>-1.0</td><td>-1.0</td><td>-1.0</td><td>-1.0</td><td>2</td><td>3</td><td>-1</td><td>-1</td><td>205.0</td><td>-1.0</td><td>-1.0</td><td>1</td><td>0</td><td>0</td></tr><tr><td>1</td><td>2024-03-16 00:00:00</td><td>90.4</td><td>-2.7</td><td>5.49</td><td>&quot;Gil, Luis&quot;</td><td>666182</td><td>661563</td><td>-1</td><td>5.0</td><td>0</td><td>0</td><td>1</td><td>-1.0</td><td>-1</td><td>1</td><td>0</td><td>-1.81</td><td>0.76</td><td>-0.27</td><td>2.25</td><td>1</td><td>1</td><td>0</td><td>-1.0</td><td>-1.0</td><td>9.949654</td><td>-131.266376</td><td>-3.781047</td><td>-22.985753</td><td>26.374193</td><td>-22.731947</td><td>3.21</td><td>1.62</td><td>-1.0</td><td>-1.0</td><td>-1.0</td><td>90.9</td><td>1730.0</td><td>6.6</td><td>747942</td><td>53.89</td><td>-1.0</td><td>-1.0</td><td>-1.0</td><td>-1.0</td><td>-1.0</td><td>-1.0</td><td>-1.0</td><td>2</td><td>2</td><td>-1</td><td>-1</td><td>227.0</td><td>-1.0</td><td>-1.0</td><td>0</td><td>0</td><td>0</td></tr><tr><td>0</td><td>2024-03-16 00:00:00</td><td>95.9</td><td>-2.51</td><td>5.87</td><td>&quot;Gil, Luis&quot;</td><td>666182</td><td>661563</td><td>-1</td><td>12.0</td><td>0</td><td>0</td><td>2</td><td>-1.0</td><td>-1</td><td>0</td><td>0</td><td>-0.71</td><td>1.61</td><td>0.04</td><td>4.22</td><td>1</td><td>1</td><td>0</td><td>-1.0</td><td>-1.0</td><td>8.362492</td><td>-139.445651</td><td>-2.416982</td><td>-11.085769</td><td>30.933054</td><td>-10.849715</td><td>3.21</td><td>1.62</td><td>-1.0</td><td>-1.0</td><td>-1.0</td><td>96.3</td><td>2462.0</td><td>6.5</td><td>747942</td><td>54.0</td><td>-1.0</td><td>-1.0</td><td>-1.0</td><td>-1.0</td><td>-1.0</td><td>-1.0</td><td>-1.0</td><td>2</td><td>1</td><td>0</td><td>0</td><td>201.0</td><td>-1.0</td><td>-1.0</td><td>0</td><td>0</td><td>0</td></tr></tbody></table></div>"
      ],
      "text/plain": [
       "shape: (151_295, 59)\n",
       "┌───────────┬───────────┬───────────┬───────────┬───┬───────────┬───────────┬──────────┬───────────┐\n",
       "│ pitch_typ ┆ game_date ┆ release_s ┆ release_p ┆ … ┆ swing_len ┆ next_pitc ┆ run_diff ┆ base_stat │\n",
       "│ e         ┆ ---       ┆ peed      ┆ os_x      ┆   ┆ gth       ┆ h         ┆ ---      ┆ e         │\n",
       "│ ---       ┆ datetime[ ┆ ---       ┆ ---       ┆   ┆ ---       ┆ ---       ┆ i32      ┆ ---       │\n",
       "│ i64       ┆ μs]       ┆ f64       ┆ f64       ┆   ┆ f64       ┆ i64       ┆          ┆ i32       │\n",
       "╞═══════════╪═══════════╪═══════════╪═══════════╪═══╪═══════════╪═══════════╪══════════╪═══════════╡\n",
       "│ 0         ┆ 2024-10-2 ┆ 92.5      ┆ 0.51      ┆ … ┆ 7.30081   ┆ 0         ┆ 1        ┆ 15        │\n",
       "│           ┆ 5         ┆           ┆           ┆   ┆           ┆           ┆          ┆           │\n",
       "│           ┆ 00:00:00  ┆           ┆           ┆   ┆           ┆           ┆          ┆           │\n",
       "│ 0         ┆ 2024-10-2 ┆ 92.4      ┆ 0.7       ┆ … ┆ 7.22915   ┆ 0         ┆ 1        ┆ 8         │\n",
       "│           ┆ 5         ┆           ┆           ┆   ┆           ┆           ┆          ┆           │\n",
       "│           ┆ 00:00:00  ┆           ┆           ┆   ┆           ┆           ┆          ┆           │\n",
       "│ 0         ┆ 2024-10-2 ┆ 93.4      ┆ -2.44     ┆ … ┆ -1.0      ┆ 7         ┆ -1       ┆ 0         │\n",
       "│           ┆ 5         ┆           ┆           ┆   ┆           ┆           ┆          ┆           │\n",
       "│           ┆ 00:00:00  ┆           ┆           ┆   ┆           ┆           ┆          ┆           │\n",
       "│ 7         ┆ 2024-10-2 ┆ 79.4      ┆ -2.43     ┆ … ┆ 9.60464   ┆ 0         ┆ 1        ┆ 3         │\n",
       "│           ┆ 5         ┆           ┆           ┆   ┆           ┆           ┆          ┆           │\n",
       "│           ┆ 00:00:00  ┆           ┆           ┆   ┆           ┆           ┆          ┆           │\n",
       "│ 0         ┆ 2024-10-2 ┆ 88.8      ┆ -2.27     ┆ … ┆ -1.0      ┆ 7         ┆ 1        ┆ 3         │\n",
       "│           ┆ 5         ┆           ┆           ┆   ┆           ┆           ┆          ┆           │\n",
       "│           ┆ 00:00:00  ┆           ┆           ┆   ┆           ┆           ┆          ┆           │\n",
       "│ …         ┆ …         ┆ …         ┆ …         ┆ … ┆ …         ┆ …         ┆ …        ┆ …         │\n",
       "│ 1         ┆ 2024-03-1 ┆ 92.3      ┆ -2.65     ┆ … ┆ -1.0      ┆ 1         ┆ 0        ┆ 0         │\n",
       "│           ┆ 6         ┆           ┆           ┆   ┆           ┆           ┆          ┆           │\n",
       "│           ┆ 00:00:00  ┆           ┆           ┆   ┆           ┆           ┆          ┆           │\n",
       "│ 1         ┆ 2024-03-1 ┆ 91.6      ┆ -2.5      ┆ … ┆ -1.0      ┆ 0         ┆ 0        ┆ 0         │\n",
       "│           ┆ 6         ┆           ┆           ┆   ┆           ┆           ┆          ┆           │\n",
       "│           ┆ 00:00:00  ┆           ┆           ┆   ┆           ┆           ┆          ┆           │\n",
       "│ 0         ┆ 2024-03-1 ┆ 97.5      ┆ -2.4      ┆ … ┆ -1.0      ┆ 1         ┆ 0        ┆ 0         │\n",
       "│           ┆ 6         ┆           ┆           ┆   ┆           ┆           ┆          ┆           │\n",
       "│           ┆ 00:00:00  ┆           ┆           ┆   ┆           ┆           ┆          ┆           │\n",
       "│ 1         ┆ 2024-03-1 ┆ 90.4      ┆ -2.7      ┆ … ┆ -1.0      ┆ 0         ┆ 0        ┆ 0         │\n",
       "│           ┆ 6         ┆           ┆           ┆   ┆           ┆           ┆          ┆           │\n",
       "│           ┆ 00:00:00  ┆           ┆           ┆   ┆           ┆           ┆          ┆           │\n",
       "│ 0         ┆ 2024-03-1 ┆ 95.9      ┆ -2.51     ┆ … ┆ -1.0      ┆ 0         ┆ 0        ┆ 0         │\n",
       "│           ┆ 6         ┆           ┆           ┆   ┆           ┆           ┆          ┆           │\n",
       "│           ┆ 00:00:00  ┆           ┆           ┆   ┆           ┆           ┆          ┆           │\n",
       "└───────────┴───────────┴───────────┴───────────┴───┴───────────┴───────────┴──────────┴───────────┘"
      ]
     },
     "execution_count": 7,
     "metadata": {},
     "output_type": "execute_result"
    }
   ],
   "source": [
    "df = df.with_columns(\n",
    "    pl.col(\"on_1b\")\n",
    "    .map_elements(lambda s: 0 if s == -1.0 else 1, return_dtype=pl.Int32)\n",
    "    .alias(\"on_1b\"),\n",
    "    pl.col(\"on_2b\")\n",
    "    .map_elements(lambda s: 0 if s == -1.0 else 1, return_dtype=pl.Int32)\n",
    "    .alias(\"on_2b\"),\n",
    "    pl.col(\"on_3b\")\n",
    "    .map_elements(lambda s: 0 if s == -1.0 else 1, return_dtype=pl.Int32)\n",
    "    .alias(\"on_3b\"),\n",
    ")\n",
    "\n",
    "df = df.with_columns(\n",
    "    (pl.col(\"on_1b\") * 3 + pl.col(\"on_2b\") * 5 + pl.col(\"on_3b\") * 7).alias(\n",
    "        \"base_state\"\n",
    "    )\n",
    ")\n",
    "\n",
    "df = df.drop([\"on_1b\", \"on_2b\", \"on_3b\"])\n",
    "df"
   ]
  },
  {
   "cell_type": "code",
   "execution_count": 8,
   "metadata": {},
   "outputs": [
    {
     "data": {
      "text/html": [
       "<div><style>\n",
       ".dataframe > thead > tr,\n",
       ".dataframe > tbody > tr {\n",
       "  text-align: right;\n",
       "  white-space: pre-wrap;\n",
       "}\n",
       "</style>\n",
       "<small>shape: (151_295, 60)</small><table border=\"1\" class=\"dataframe\"><thead><tr><th>pitch_type</th><th>game_date</th><th>release_speed</th><th>release_pos_x</th><th>release_pos_z</th><th>player_name</th><th>batter</th><th>pitcher</th><th>events</th><th>zone</th><th>stand</th><th>p_throws</th><th>type</th><th>hit_location</th><th>bb_type</th><th>balls</th><th>strikes</th><th>pfx_x</th><th>pfx_z</th><th>plate_x</th><th>plate_z</th><th>outs_when_up</th><th>inning</th><th>inning_topbot</th><th>hc_x</th><th>hc_y</th><th>vx0</th><th>vy0</th><th>vz0</th><th>ax</th><th>ay</th><th>az</th><th>sz_top</th><th>sz_bot</th><th>hit_distance_sc</th><th>launch_speed</th><th>launch_angle</th><th>effective_speed</th><th>release_spin_rate</th><th>release_extension</th><th>game_pk</th><th>release_pos_y</th><th>estimated_ba_using_speedangle</th><th>estimated_woba_using_speedangle</th><th>woba_value</th><th>woba_denom</th><th>babip_value</th><th>iso_value</th><th>launch_speed_angle</th><th>at_bat_number</th><th>pitch_number</th><th>if_fielding_alignment</th><th>of_fielding_alignment</th><th>spin_axis</th><th>bat_speed</th><th>swing_length</th><th>next_pitch</th><th>run_diff</th><th>base_state</th><th>pitches_thrown_curr_game</th></tr><tr><td>i64</td><td>datetime[μs]</td><td>f64</td><td>f64</td><td>f64</td><td>str</td><td>i64</td><td>i64</td><td>i64</td><td>f64</td><td>i64</td><td>i64</td><td>i64</td><td>f64</td><td>i64</td><td>i64</td><td>i64</td><td>f64</td><td>f64</td><td>f64</td><td>f64</td><td>i64</td><td>i64</td><td>i64</td><td>f64</td><td>f64</td><td>f64</td><td>f64</td><td>f64</td><td>f64</td><td>f64</td><td>f64</td><td>f64</td><td>f64</td><td>f64</td><td>f64</td><td>f64</td><td>f64</td><td>f64</td><td>f64</td><td>i64</td><td>f64</td><td>f64</td><td>f64</td><td>f64</td><td>f64</td><td>f64</td><td>f64</td><td>f64</td><td>i64</td><td>i64</td><td>i64</td><td>i64</td><td>f64</td><td>f64</td><td>f64</td><td>i64</td><td>i32</td><td>i32</td><td>u32</td></tr></thead><tbody><tr><td>0</td><td>2024-10-25 00:00:00</td><td>92.5</td><td>0.51</td><td>5.8</td><td>&quot;Cortes, Nestor&quot;</td><td>518692</td><td>641482</td><td>4</td><td>9.0</td><td>1</td><td>1</td><td>0</td><td>-1.0</td><td>1</td><td>0</td><td>0</td><td>0.48</td><td>1.74</td><td>0.65</td><td>2.31</td><td>2</td><td>10</td><td>1</td><td>224.63</td><td>57.87</td><td>-0.699329</td><td>-134.506903</td><td>-6.784158</td><td>5.946069</td><td>32.735111</td><td>-9.821026</td><td>3.61</td><td>1.81</td><td>409.0</td><td>109.2</td><td>30.0</td><td>91.3</td><td>2372.0</td><td>5.9</td><td>775300</td><td>54.61</td><td>0.989</td><td>1.999</td><td>2.0</td><td>1.0</td><td>0.0</td><td>3.0</td><td>6.0</td><td>83</td><td>1</td><td>0</td><td>0</td><td>160.0</td><td>75.80467</td><td>7.30081</td><td>0</td><td>1</td><td>15</td><td>1</td></tr><tr><td>0</td><td>2024-10-25 00:00:00</td><td>92.4</td><td>0.7</td><td>5.84</td><td>&quot;Cortes, Nestor&quot;</td><td>660271</td><td>641482</td><td>0</td><td>5.0</td><td>1</td><td>1</td><td>0</td><td>7.0</td><td>1</td><td>0</td><td>0</td><td>0.5</td><td>1.55</td><td>0.23</td><td>2.74</td><td>1</td><td>10</td><td>1</td><td>54.17</td><td>138.21</td><td>-2.297192</td><td>-134.471316</td><td>-5.365587</td><td>6.608204</td><td>31.350107</td><td>-12.479872</td><td>3.4</td><td>1.61</td><td>234.0</td><td>83.3</td><td>48.0</td><td>91.6</td><td>2152.0</td><td>6.0</td><td>775300</td><td>54.53</td><td>0.011</td><td>0.011</td><td>0.0</td><td>1.0</td><td>0.0</td><td>0.0</td><td>3.0</td><td>81</td><td>1</td><td>0</td><td>0</td><td>162.0</td><td>77.05477</td><td>7.22915</td><td>0</td><td>1</td><td>8</td><td>2</td></tr><tr><td>0</td><td>2024-10-25 00:00:00</td><td>93.4</td><td>-2.44</td><td>5.41</td><td>&quot;Flaherty, Jack&quot;</td><td>665862</td><td>656427</td><td>-1</td><td>13.0</td><td>1</td><td>0</td><td>2</td><td>-1.0</td><td>-1</td><td>0</td><td>0</td><td>-0.14</td><td>1.25</td><td>-0.98</td><td>1.77</td><td>1</td><td>6</td><td>0</td><td>-1.0</td><td>-1.0</td><td>4.093515</td><td>-135.916333</td><td>-6.401224</td><td>-2.660478</td><td>30.173396</td><td>-15.437446</td><td>3.63</td><td>1.73</td><td>-1.0</td><td>-1.0</td><td>-1.0</td><td>93.8</td><td>2099.0</td><td>6.6</td><td>775300</td><td>53.95</td><td>-1.0</td><td>-1.0</td><td>-1.0</td><td>-1.0</td><td>-1.0</td><td>-1.0</td><td>-1.0</td><td>40</td><td>1</td><td>0</td><td>0</td><td>209.0</td><td>-1.0</td><td>-1.0</td><td>7</td><td>-1</td><td>0</td><td>1</td></tr><tr><td>7</td><td>2024-10-25 00:00:00</td><td>79.4</td><td>-2.43</td><td>4.96</td><td>&quot;Flaherty, Jack&quot;</td><td>519317</td><td>656427</td><td>4</td><td>13.0</td><td>0</td><td>0</td><td>0</td><td>-1.0</td><td>1</td><td>1</td><td>2</td><td>1.0</td><td>-0.31</td><td>-0.46</td><td>1.61</td><td>1</td><td>6</td><td>0</td><td>10.71</td><td>76.6</td><td>2.450603</td><td>-115.727604</td><td>-0.013764</td><td>8.59068</td><td>21.223153</td><td>-35.156606</td><td>3.77</td><td>1.79</td><td>412.0</td><td>116.6</td><td>35.0</td><td>80.0</td><td>2340.0</td><td>6.5</td><td>775300</td><td>53.96</td><td>0.957</td><td>1.937</td><td>2.0</td><td>1.0</td><td>0.0</td><td>3.0</td><td>6.0</td><td>39</td><td>4</td><td>0</td><td>0</td><td>56.0</td><td>86.90199</td><td>9.60464</td><td>0</td><td>1</td><td>3</td><td>2</td></tr><tr><td>0</td><td>2024-10-25 00:00:00</td><td>88.8</td><td>-2.27</td><td>5.49</td><td>&quot;Flaherty, Jack&quot;</td><td>519317</td><td>656427</td><td>-1</td><td>11.0</td><td>0</td><td>0</td><td>2</td><td>-1.0</td><td>-1</td><td>0</td><td>2</td><td>-0.33</td><td>1.13</td><td>-1.3</td><td>6.91</td><td>1</td><td>6</td><td>0</td><td>-1.0</td><td>-1.0</td><td>3.059732</td><td>-129.183623</td><td>7.175169</td><td>-4.325522</td><td>26.473279</td><td>-21.19208</td><td>3.77</td><td>1.79</td><td>-1.0</td><td>-1.0</td><td>-1.0</td><td>89.0</td><td>2123.0</td><td>6.4</td><td>775300</td><td>54.09</td><td>-1.0</td><td>-1.0</td><td>-1.0</td><td>-1.0</td><td>-1.0</td><td>-1.0</td><td>-1.0</td><td>39</td><td>3</td><td>0</td><td>0</td><td>205.0</td><td>-1.0</td><td>-1.0</td><td>7</td><td>1</td><td>3</td><td>3</td></tr><tr><td>&hellip;</td><td>&hellip;</td><td>&hellip;</td><td>&hellip;</td><td>&hellip;</td><td>&hellip;</td><td>&hellip;</td><td>&hellip;</td><td>&hellip;</td><td>&hellip;</td><td>&hellip;</td><td>&hellip;</td><td>&hellip;</td><td>&hellip;</td><td>&hellip;</td><td>&hellip;</td><td>&hellip;</td><td>&hellip;</td><td>&hellip;</td><td>&hellip;</td><td>&hellip;</td><td>&hellip;</td><td>&hellip;</td><td>&hellip;</td><td>&hellip;</td><td>&hellip;</td><td>&hellip;</td><td>&hellip;</td><td>&hellip;</td><td>&hellip;</td><td>&hellip;</td><td>&hellip;</td><td>&hellip;</td><td>&hellip;</td><td>&hellip;</td><td>&hellip;</td><td>&hellip;</td><td>&hellip;</td><td>&hellip;</td><td>&hellip;</td><td>&hellip;</td><td>&hellip;</td><td>&hellip;</td><td>&hellip;</td><td>&hellip;</td><td>&hellip;</td><td>&hellip;</td><td>&hellip;</td><td>&hellip;</td><td>&hellip;</td><td>&hellip;</td><td>&hellip;</td><td>&hellip;</td><td>&hellip;</td><td>&hellip;</td><td>&hellip;</td><td>&hellip;</td><td>&hellip;</td><td>&hellip;</td><td>&hellip;</td></tr><tr><td>1</td><td>2024-03-16 00:00:00</td><td>92.3</td><td>-2.65</td><td>5.39</td><td>&quot;Gil, Luis&quot;</td><td>666182</td><td>661563</td><td>1</td><td>11.0</td><td>0</td><td>0</td><td>1</td><td>2.0</td><td>-1</td><td>2</td><td>2</td><td>-1.68</td><td>0.57</td><td>-1.17</td><td>4.12</td><td>1</td><td>1</td><td>0</td><td>-1.0</td><td>-1.0</td><td>7.496423</td><td>-134.279975</td><td>1.339776</td><td>-21.931014</td><td>27.362073</td><td>-25.690825</td><td>3.21</td><td>1.62</td><td>-1.0</td><td>-1.0</td><td>-1.0</td><td>93.4</td><td>1889.0</td><td>6.8</td><td>747942</td><td>53.7</td><td>-1.0</td><td>-1.0</td><td>0.0</td><td>-1.0</td><td>0.0</td><td>0.0</td><td>-1.0</td><td>2</td><td>5</td><td>-1</td><td>-1</td><td>228.0</td><td>-1.0</td><td>-1.0</td><td>1</td><td>0</td><td>0</td><td>51</td></tr><tr><td>1</td><td>2024-03-16 00:00:00</td><td>91.6</td><td>-2.5</td><td>5.58</td><td>&quot;Gil, Luis&quot;</td><td>666182</td><td>661563</td><td>-1</td><td>6.0</td><td>0</td><td>0</td><td>1</td><td>-1.0</td><td>-1</td><td>2</td><td>1</td><td>-1.24</td><td>0.81</td><td>0.5</td><td>2.58</td><td>1</td><td>1</td><td>0</td><td>-1.0</td><td>-1.0</td><td>10.323548</td><td>-133.104413</td><td>-3.532308</td><td>-16.886206</td><td>26.702456</td><td>-21.930349</td><td>3.21</td><td>1.62</td><td>-1.0</td><td>-1.0</td><td>-1.0</td><td>92.6</td><td>1821.0</td><td>6.8</td><td>747942</td><td>53.68</td><td>-1.0</td><td>-1.0</td><td>-1.0</td><td>-1.0</td><td>-1.0</td><td>-1.0</td><td>-1.0</td><td>2</td><td>4</td><td>-1</td><td>-1</td><td>218.0</td><td>-1.0</td><td>-1.0</td><td>0</td><td>0</td><td>0</td><td>52</td></tr><tr><td>0</td><td>2024-03-16 00:00:00</td><td>97.5</td><td>-2.4</td><td>5.78</td><td>&quot;Gil, Luis&quot;</td><td>666182</td><td>661563</td><td>-1</td><td>11.0</td><td>0</td><td>0</td><td>2</td><td>-1.0</td><td>-1</td><td>1</td><td>1</td><td>-0.68</td><td>1.46</td><td>-1.23</td><td>3.62</td><td>1</td><td>1</td><td>0</td><td>-1.0</td><td>-1.0</td><td>4.760172</td><td>-141.947882</td><td>-3.677617</td><td>-10.313355</td><td>33.060944</td><td>-11.782828</td><td>3.21</td><td>1.62</td><td>-1.0</td><td>-1.0</td><td>-1.0</td><td>98.1</td><td>2453.0</td><td>6.7</td><td>747942</td><td>53.85</td><td>-1.0</td><td>-1.0</td><td>-1.0</td><td>-1.0</td><td>-1.0</td><td>-1.0</td><td>-1.0</td><td>2</td><td>3</td><td>-1</td><td>-1</td><td>205.0</td><td>-1.0</td><td>-1.0</td><td>1</td><td>0</td><td>0</td><td>53</td></tr><tr><td>1</td><td>2024-03-16 00:00:00</td><td>90.4</td><td>-2.7</td><td>5.49</td><td>&quot;Gil, Luis&quot;</td><td>666182</td><td>661563</td><td>-1</td><td>5.0</td><td>0</td><td>0</td><td>1</td><td>-1.0</td><td>-1</td><td>1</td><td>0</td><td>-1.81</td><td>0.76</td><td>-0.27</td><td>2.25</td><td>1</td><td>1</td><td>0</td><td>-1.0</td><td>-1.0</td><td>9.949654</td><td>-131.266376</td><td>-3.781047</td><td>-22.985753</td><td>26.374193</td><td>-22.731947</td><td>3.21</td><td>1.62</td><td>-1.0</td><td>-1.0</td><td>-1.0</td><td>90.9</td><td>1730.0</td><td>6.6</td><td>747942</td><td>53.89</td><td>-1.0</td><td>-1.0</td><td>-1.0</td><td>-1.0</td><td>-1.0</td><td>-1.0</td><td>-1.0</td><td>2</td><td>2</td><td>-1</td><td>-1</td><td>227.0</td><td>-1.0</td><td>-1.0</td><td>0</td><td>0</td><td>0</td><td>54</td></tr><tr><td>0</td><td>2024-03-16 00:00:00</td><td>95.9</td><td>-2.51</td><td>5.87</td><td>&quot;Gil, Luis&quot;</td><td>666182</td><td>661563</td><td>-1</td><td>12.0</td><td>0</td><td>0</td><td>2</td><td>-1.0</td><td>-1</td><td>0</td><td>0</td><td>-0.71</td><td>1.61</td><td>0.04</td><td>4.22</td><td>1</td><td>1</td><td>0</td><td>-1.0</td><td>-1.0</td><td>8.362492</td><td>-139.445651</td><td>-2.416982</td><td>-11.085769</td><td>30.933054</td><td>-10.849715</td><td>3.21</td><td>1.62</td><td>-1.0</td><td>-1.0</td><td>-1.0</td><td>96.3</td><td>2462.0</td><td>6.5</td><td>747942</td><td>54.0</td><td>-1.0</td><td>-1.0</td><td>-1.0</td><td>-1.0</td><td>-1.0</td><td>-1.0</td><td>-1.0</td><td>2</td><td>1</td><td>0</td><td>0</td><td>201.0</td><td>-1.0</td><td>-1.0</td><td>0</td><td>0</td><td>0</td><td>55</td></tr></tbody></table></div>"
      ],
      "text/plain": [
       "shape: (151_295, 60)\n",
       "┌───────────┬───────────┬───────────┬───────────┬───┬───────────┬──────────┬───────────┬───────────┐\n",
       "│ pitch_typ ┆ game_date ┆ release_s ┆ release_p ┆ … ┆ next_pitc ┆ run_diff ┆ base_stat ┆ pitches_t │\n",
       "│ e         ┆ ---       ┆ peed      ┆ os_x      ┆   ┆ h         ┆ ---      ┆ e         ┆ hrown_cur │\n",
       "│ ---       ┆ datetime[ ┆ ---       ┆ ---       ┆   ┆ ---       ┆ i32      ┆ ---       ┆ r_game    │\n",
       "│ i64       ┆ μs]       ┆ f64       ┆ f64       ┆   ┆ i64       ┆          ┆ i32       ┆ ---       │\n",
       "│           ┆           ┆           ┆           ┆   ┆           ┆          ┆           ┆ u32       │\n",
       "╞═══════════╪═══════════╪═══════════╪═══════════╪═══╪═══════════╪══════════╪═══════════╪═══════════╡\n",
       "│ 0         ┆ 2024-10-2 ┆ 92.5      ┆ 0.51      ┆ … ┆ 0         ┆ 1        ┆ 15        ┆ 1         │\n",
       "│           ┆ 5         ┆           ┆           ┆   ┆           ┆          ┆           ┆           │\n",
       "│           ┆ 00:00:00  ┆           ┆           ┆   ┆           ┆          ┆           ┆           │\n",
       "│ 0         ┆ 2024-10-2 ┆ 92.4      ┆ 0.7       ┆ … ┆ 0         ┆ 1        ┆ 8         ┆ 2         │\n",
       "│           ┆ 5         ┆           ┆           ┆   ┆           ┆          ┆           ┆           │\n",
       "│           ┆ 00:00:00  ┆           ┆           ┆   ┆           ┆          ┆           ┆           │\n",
       "│ 0         ┆ 2024-10-2 ┆ 93.4      ┆ -2.44     ┆ … ┆ 7         ┆ -1       ┆ 0         ┆ 1         │\n",
       "│           ┆ 5         ┆           ┆           ┆   ┆           ┆          ┆           ┆           │\n",
       "│           ┆ 00:00:00  ┆           ┆           ┆   ┆           ┆          ┆           ┆           │\n",
       "│ 7         ┆ 2024-10-2 ┆ 79.4      ┆ -2.43     ┆ … ┆ 0         ┆ 1        ┆ 3         ┆ 2         │\n",
       "│           ┆ 5         ┆           ┆           ┆   ┆           ┆          ┆           ┆           │\n",
       "│           ┆ 00:00:00  ┆           ┆           ┆   ┆           ┆          ┆           ┆           │\n",
       "│ 0         ┆ 2024-10-2 ┆ 88.8      ┆ -2.27     ┆ … ┆ 7         ┆ 1        ┆ 3         ┆ 3         │\n",
       "│           ┆ 5         ┆           ┆           ┆   ┆           ┆          ┆           ┆           │\n",
       "│           ┆ 00:00:00  ┆           ┆           ┆   ┆           ┆          ┆           ┆           │\n",
       "│ …         ┆ …         ┆ …         ┆ …         ┆ … ┆ …         ┆ …        ┆ …         ┆ …         │\n",
       "│ 1         ┆ 2024-03-1 ┆ 92.3      ┆ -2.65     ┆ … ┆ 1         ┆ 0        ┆ 0         ┆ 51        │\n",
       "│           ┆ 6         ┆           ┆           ┆   ┆           ┆          ┆           ┆           │\n",
       "│           ┆ 00:00:00  ┆           ┆           ┆   ┆           ┆          ┆           ┆           │\n",
       "│ 1         ┆ 2024-03-1 ┆ 91.6      ┆ -2.5      ┆ … ┆ 0         ┆ 0        ┆ 0         ┆ 52        │\n",
       "│           ┆ 6         ┆           ┆           ┆   ┆           ┆          ┆           ┆           │\n",
       "│           ┆ 00:00:00  ┆           ┆           ┆   ┆           ┆          ┆           ┆           │\n",
       "│ 0         ┆ 2024-03-1 ┆ 97.5      ┆ -2.4      ┆ … ┆ 1         ┆ 0        ┆ 0         ┆ 53        │\n",
       "│           ┆ 6         ┆           ┆           ┆   ┆           ┆          ┆           ┆           │\n",
       "│           ┆ 00:00:00  ┆           ┆           ┆   ┆           ┆          ┆           ┆           │\n",
       "│ 1         ┆ 2024-03-1 ┆ 90.4      ┆ -2.7      ┆ … ┆ 0         ┆ 0        ┆ 0         ┆ 54        │\n",
       "│           ┆ 6         ┆           ┆           ┆   ┆           ┆          ┆           ┆           │\n",
       "│           ┆ 00:00:00  ┆           ┆           ┆   ┆           ┆          ┆           ┆           │\n",
       "│ 0         ┆ 2024-03-1 ┆ 95.9      ┆ -2.51     ┆ … ┆ 0         ┆ 0        ┆ 0         ┆ 55        │\n",
       "│           ┆ 6         ┆           ┆           ┆   ┆           ┆          ┆           ┆           │\n",
       "│           ┆ 00:00:00  ┆           ┆           ┆   ┆           ┆          ┆           ┆           │\n",
       "└───────────┴───────────┴───────────┴───────────┴───┴───────────┴──────────┴───────────┴───────────┘"
      ]
     },
     "execution_count": 8,
     "metadata": {},
     "output_type": "execute_result"
    }
   ],
   "source": [
    "df = df.with_columns(\n",
    "    pl.col(\"pitch_type\")\n",
    "    .cum_count(reverse=False)\n",
    "    .over([\"player_name\", \"game_date\", \"game_pk\"])\n",
    "    .alias(\"pitches_thrown_curr_game\")\n",
    ")\n",
    "df = df.sort(\n",
    "    [\n",
    "        \"game_date\",\n",
    "        \"game_pk\",\n",
    "        \"at_bat_number\",\n",
    "        \"pitch_number\",\n",
    "    ],\n",
    "    descending=True,\n",
    ")\n",
    "df"
   ]
  },
  {
   "cell_type": "code",
   "execution_count": 9,
   "metadata": {},
   "outputs": [],
   "source": [
    "import pybaseball as pb"
   ]
  },
  {
   "cell_type": "code",
   "execution_count": 10,
   "metadata": {},
   "outputs": [],
   "source": [
    "with open(\"../params.yaml\", \"r\") as file:\n",
    "    params = yaml.safe_load(file)"
   ]
  },
  {
   "cell_type": "code",
   "execution_count": 11,
   "metadata": {},
   "outputs": [
    {
     "name": "stdout",
     "output_type": "stream",
     "text": [
      "Index(['Name', 'Age', '#days', 'Lev', 'Tm', 'G', 'PA', 'AB', 'R', 'H', '2B',\n",
      "       '3B', 'HR', 'RBI', 'BB', 'IBB', 'SO', 'HBP', 'SH', 'SF', 'GDP', 'SB',\n",
      "       'CS', 'BA', 'OBP', 'SLG', 'OPS', 'mlbID'],\n",
      "      dtype='object')\n"
     ]
    }
   ],
   "source": [
    "# add batter statistics to the dataframe\n",
    "\n",
    "\n",
    "batting_df = pb.batting_stats_bref(params[\"clean\"][\"start_year\"])\n",
    "print(batting_df.columns)\n",
    "player_ids = list(df.select(\"batter\").unique().to_pandas()[\"batter\"])\n",
    "batting_df = pl.DataFrame(batting_df[batting_df[\"mlbID\"].isin(player_ids)])\n",
    "\n",
    "# player_ids"
   ]
  },
  {
   "cell_type": "code",
   "execution_count": 12,
   "metadata": {},
   "outputs": [
    {
     "name": "stdout",
     "output_type": "stream",
     "text": [
      "Index(['Name', 'Age', '#days', 'Lev', 'Tm', 'G', 'PA', 'AB', 'R', 'H', '2B',\n",
      "       '3B', 'HR', 'RBI', 'BB', 'IBB', 'SO', 'HBP', 'SH', 'SF', 'GDP', 'SB',\n",
      "       'CS', 'BA', 'OBP', 'SLG', 'OPS', 'mlbID'],\n",
      "      dtype='object')\n"
     ]
    }
   ],
   "source": [
    "batting_df = pb.batting_stats_bref(params[\"clean\"][\"start_year\"])\n",
    "print(batting_df.columns)\n",
    "player_ids = list(df.select(\"batter\").unique().to_pandas()[\"batter\"])\n",
    "batting_df = pl.DataFrame(batting_df[batting_df[\"mlbID\"].isin(player_ids)])\n",
    "batting_df = batting_df.drop(\n",
    "    [\n",
    "        \"Name\",\n",
    "        \"Age\",\n",
    "        \"#days\",\n",
    "        \"Lev\",\n",
    "        \"Tm\",\n",
    "        \"G\",\n",
    "        \"PA\",\n",
    "        \"AB\",\n",
    "        \"R\",\n",
    "        \"H\",\n",
    "        \"2B\",\n",
    "        \"3B\",\n",
    "        \"HR\",\n",
    "        \"RBI\",\n",
    "        \"BB\",\n",
    "        \"IBB\",\n",
    "        \"SO\",\n",
    "        \"HBP\",\n",
    "        \"SH\",\n",
    "        \"SF\",\n",
    "        \"GDP\",\n",
    "        \"SB\",\n",
    "        \"CS\",\n",
    "    ]\n",
    ")\n",
    "df = df.join(batting_df, left_on=\"batter\", right_on=\"mlbID\", how=\"left\")"
   ]
  },
  {
   "cell_type": "code",
   "execution_count": 13,
   "metadata": {},
   "outputs": [
    {
     "name": "stdout",
     "output_type": "stream",
     "text": [
      "['BA', 'OBP', 'SLG', 'OPS', 'mlbID']\n"
     ]
    }
   ],
   "source": [
    "# Inspect the columns of batting_df\n",
    "print(batting_df.columns)\n",
    "\n",
    "# Perform a left join on the 'batter' column\n",
    "df = df.join(batting_df, left_on=\"batter\", right_on=\"mlbID\", how=\"left\")"
   ]
  },
  {
   "cell_type": "code",
   "execution_count": 17,
   "metadata": {},
   "outputs": [
    {
     "data": {
      "text/plain": [
       "{'BA',\n",
       " 'BA_right',\n",
       " 'OBP',\n",
       " 'OBP_right',\n",
       " 'OPS',\n",
       " 'OPS_right',\n",
       " 'SLG',\n",
       " 'SLG_right',\n",
       " 'at_bat_number',\n",
       " 'ax',\n",
       " 'ay',\n",
       " 'az',\n",
       " 'babip_value',\n",
       " 'balls',\n",
       " 'base_state',\n",
       " 'bat_speed',\n",
       " 'batter',\n",
       " 'bb_type',\n",
       " 'effective_speed',\n",
       " 'estimated_ba_using_speedangle',\n",
       " 'estimated_woba_using_speedangle',\n",
       " 'events',\n",
       " 'game_date',\n",
       " 'game_pk',\n",
       " 'hc_x',\n",
       " 'hc_y',\n",
       " 'hit_distance_sc',\n",
       " 'hit_location',\n",
       " 'if_fielding_alignment',\n",
       " 'inning',\n",
       " 'inning_topbot',\n",
       " 'iso_value',\n",
       " 'launch_angle',\n",
       " 'launch_speed',\n",
       " 'launch_speed_angle',\n",
       " 'next_pitch',\n",
       " 'of_fielding_alignment',\n",
       " 'outs_when_up',\n",
       " 'p_throws',\n",
       " 'pfx_x',\n",
       " 'pfx_z',\n",
       " 'pitch_number',\n",
       " 'pitch_type',\n",
       " 'pitcher',\n",
       " 'pitches_thrown_curr_game',\n",
       " 'plate_x',\n",
       " 'plate_z',\n",
       " 'player_name',\n",
       " 'release_extension',\n",
       " 'release_pos_x',\n",
       " 'release_pos_y',\n",
       " 'release_pos_z',\n",
       " 'release_speed',\n",
       " 'release_spin_rate',\n",
       " 'run_diff',\n",
       " 'spin_axis',\n",
       " 'stand',\n",
       " 'strikes',\n",
       " 'swing_length',\n",
       " 'sz_bot',\n",
       " 'sz_top',\n",
       " 'type',\n",
       " 'vx0',\n",
       " 'vy0',\n",
       " 'vz0',\n",
       " 'woba_denom',\n",
       " 'woba_value',\n",
       " 'zone'}"
      ]
     },
     "execution_count": 17,
     "metadata": {},
     "output_type": "execute_result"
    }
   ],
   "source": [
    "set(df.columns)"
   ]
  }
 ],
 "metadata": {
  "kernelspec": {
   "display_name": "pitch_predict",
   "language": "python",
   "name": "python3"
  },
  "language_info": {
   "codemirror_mode": {
    "name": "ipython",
    "version": 3
   },
   "file_extension": ".py",
   "mimetype": "text/x-python",
   "name": "python",
   "nbconvert_exporter": "python",
   "pygments_lexer": "ipython3",
   "version": "3.12.7"
  }
 },
 "nbformat": 4,
 "nbformat_minor": 2
}
