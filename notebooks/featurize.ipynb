{
 "cells": [
  {
   "cell_type": "markdown",
   "metadata": {},
   "source": [
    "# feats using polar yay"
   ]
  },
  {
   "cell_type": "code",
   "execution_count": 19,
   "metadata": {},
   "outputs": [
    {
     "data": {
      "text/plain": [
       "polars.config.Config"
      ]
     },
     "execution_count": 19,
     "metadata": {},
     "output_type": "execute_result"
    }
   ],
   "source": [
    "import logging\n",
    "import sys\n",
    "import time\n",
    "from pathlib import Path\n",
    "\n",
    "# import pandas as pd\n",
    "import polars as pl\n",
    "import pybaseball as pb\n",
    "import yaml\n",
    "\n",
    "logger = logging.getLogger(\"featurize\")\n",
    "logger.setLevel(logging.INFO)\n",
    "handler = logging.StreamHandler()\n",
    "handler.setFormatter(\n",
    "    logging.Formatter(\"%(asctime)s - %(name)s - %(levelname)s - %(message)s\")\n",
    ")\n",
    "logger.addHandler(handler)\n",
    "cfg = pl.Config()\n",
    "cfg.set_tbl_rows(2000)"
   ]
  },
  {
   "cell_type": "code",
   "execution_count": 20,
   "metadata": {},
   "outputs": [],
   "source": [
    "with open(\"../params.yaml\", \"r\") as file:\n",
    "    params = yaml.safe_load(file)\n",
    "input_file_path = params[\"featurize\"][\"input_data_path\"]\n",
    "\n",
    "df = pl.read_parquet(\"../\" / Path(input_file_path))"
   ]
  },
  {
   "cell_type": "code",
   "execution_count": 21,
   "metadata": {},
   "outputs": [],
   "source": [
    "df = df.with_columns(\n",
    "    df.select(\n",
    "        pl.col(pl.String).exclude([\"player_name\"]).cast(pl.Categorical).to_physical()\n",
    "    ),\n",
    ")"
   ]
  },
  {
   "cell_type": "code",
   "execution_count": 22,
   "metadata": {},
   "outputs": [],
   "source": [
    "df = df.sort(\n",
    "    [\n",
    "        \"game_date\",\n",
    "        \"game_pk\",\n",
    "        \"at_bat_number\",\n",
    "        \"pitch_number\",\n",
    "    ],\n",
    "    descending=False,\n",
    ")\n",
    "# create target variable\n",
    "df = df.with_columns(\n",
    "    df.select(pl.col(\"pitch_type\").shift(-1).alias(\"next_pitch\")),\n",
    ").drop_nulls(\"next_pitch\")"
   ]
  },
  {
   "cell_type": "code",
   "execution_count": 23,
   "metadata": {},
   "outputs": [
    {
     "data": {
      "text/html": [
       "<div><style>\n",
       ".dataframe > thead > tr,\n",
       ".dataframe > tbody > tr {\n",
       "  text-align: right;\n",
       "  white-space: pre-wrap;\n",
       "}\n",
       "</style>\n",
       "<small>shape: (20, 2)</small><table border=\"1\" class=\"dataframe\"><thead><tr><th>pitch_type</th><th>next_pitch</th></tr><tr><td>u32</td><td>u32</td></tr></thead><tbody><tr><td>0</td><td>0</td></tr><tr><td>0</td><td>0</td></tr><tr><td>0</td><td>4</td></tr><tr><td>4</td><td>0</td></tr><tr><td>0</td><td>4</td></tr><tr><td>4</td><td>0</td></tr><tr><td>0</td><td>0</td></tr><tr><td>0</td><td>0</td></tr><tr><td>0</td><td>0</td></tr><tr><td>0</td><td>1</td></tr><tr><td>1</td><td>1</td></tr><tr><td>1</td><td>0</td></tr><tr><td>0</td><td>0</td></tr><tr><td>0</td><td>4</td></tr><tr><td>4</td><td>0</td></tr><tr><td>0</td><td>0</td></tr><tr><td>0</td><td>0</td></tr><tr><td>0</td><td>0</td></tr><tr><td>0</td><td>4</td></tr><tr><td>4</td><td>0</td></tr></tbody></table></div>"
      ],
      "text/plain": [
       "shape: (20, 2)\n",
       "┌────────────┬────────────┐\n",
       "│ pitch_type ┆ next_pitch │\n",
       "│ ---        ┆ ---        │\n",
       "│ u32        ┆ u32        │\n",
       "╞════════════╪════════════╡\n",
       "│ 0          ┆ 0          │\n",
       "│ 0          ┆ 0          │\n",
       "│ 0          ┆ 4          │\n",
       "│ 4          ┆ 0          │\n",
       "│ 0          ┆ 4          │\n",
       "│ 4          ┆ 0          │\n",
       "│ 0          ┆ 0          │\n",
       "│ 0          ┆ 0          │\n",
       "│ 0          ┆ 0          │\n",
       "│ 0          ┆ 1          │\n",
       "│ 1          ┆ 1          │\n",
       "│ 1          ┆ 0          │\n",
       "│ 0          ┆ 0          │\n",
       "│ 0          ┆ 4          │\n",
       "│ 4          ┆ 0          │\n",
       "│ 0          ┆ 0          │\n",
       "│ 0          ┆ 0          │\n",
       "│ 0          ┆ 0          │\n",
       "│ 0          ┆ 4          │\n",
       "│ 4          ┆ 0          │\n",
       "└────────────┴────────────┘"
      ]
     },
     "execution_count": 23,
     "metadata": {},
     "output_type": "execute_result"
    }
   ],
   "source": [
    "df.select(pl.col([\"pitch_type\", \"next_pitch\"])).head(20)"
   ]
  },
  {
   "cell_type": "code",
   "execution_count": 24,
   "metadata": {},
   "outputs": [],
   "source": [
    "df = df.with_columns(\n",
    "    (pl.col(\"balls\").cast(pl.String) + \" - \" + pl.col(\"strikes\").cast(pl.String))\n",
    "    .alias(\"count\")\n",
    "    .cast(pl.Categorical)\n",
    "    .to_physical()\n",
    ")\n",
    "df = df.drop([\"balls\", \"strikes\"])"
   ]
  },
  {
   "cell_type": "code",
   "execution_count": 25,
   "metadata": {},
   "outputs": [
    {
     "name": "stdout",
     "output_type": "stream",
     "text": [
      "shape: (9, 2)\n",
      "┌────────────┬──────────┐\n",
      "│ statistic  ┆ count    │\n",
      "│ ---        ┆ ---      │\n",
      "│ str        ┆ f64      │\n",
      "╞════════════╪══════════╡\n",
      "│ count      ┆ 137514.0 │\n",
      "│ null_count ┆ 0.0      │\n",
      "│ mean       ┆ 3.387059 │\n",
      "│ std        ┆ 3.069877 │\n",
      "│ min        ┆ 0.0      │\n",
      "│ 25%        ┆ 0.0      │\n",
      "│ 50%        ┆ 3.0      │\n",
      "│ 75%        ┆ 6.0      │\n",
      "│ max        ┆ 11.0     │\n",
      "└────────────┴──────────┘\n"
     ]
    },
    {
     "data": {
      "text/html": [
       "<div><style>\n",
       ".dataframe > thead > tr,\n",
       ".dataframe > tbody > tr {\n",
       "  text-align: right;\n",
       "  white-space: pre-wrap;\n",
       "}\n",
       "</style>\n",
       "<small>shape: (5, 59)</small><table border=\"1\" class=\"dataframe\"><thead><tr><th>pitch_type</th><th>game_date</th><th>release_speed</th><th>release_pos_x</th><th>release_pos_z</th><th>player_name</th><th>batter</th><th>pitcher</th><th>zone</th><th>stand</th><th>type</th><th>hit_location</th><th>bb_type</th><th>pfx_x</th><th>pfx_z</th><th>plate_x</th><th>plate_z</th><th>on_3b</th><th>on_2b</th><th>on_1b</th><th>outs_when_up</th><th>inning</th><th>inning_topbot</th><th>hc_x</th><th>hc_y</th><th>vx0</th><th>vy0</th><th>vz0</th><th>ax</th><th>ay</th><th>az</th><th>sz_top</th><th>sz_bot</th><th>hit_distance_sc</th><th>launch_speed</th><th>launch_angle</th><th>effective_speed</th><th>release_spin_rate</th><th>release_extension</th><th>game_pk</th><th>release_pos_y</th><th>estimated_ba_using_speedangle</th><th>estimated_woba_using_speedangle</th><th>woba_value</th><th>woba_denom</th><th>babip_value</th><th>iso_value</th><th>launch_speed_angle</th><th>at_bat_number</th><th>pitch_number</th><th>bat_score</th><th>fld_score</th><th>if_fielding_alignment</th><th>of_fielding_alignment</th><th>spin_axis</th><th>bat_speed</th><th>swing_length</th><th>next_pitch</th><th>count</th></tr><tr><td>u32</td><td>datetime[μs]</td><td>f64</td><td>f64</td><td>f64</td><td>str</td><td>i64</td><td>i64</td><td>f64</td><td>u32</td><td>u32</td><td>f64</td><td>u32</td><td>f64</td><td>f64</td><td>f64</td><td>f64</td><td>f64</td><td>f64</td><td>f64</td><td>i64</td><td>i64</td><td>u32</td><td>f64</td><td>f64</td><td>f64</td><td>f64</td><td>f64</td><td>f64</td><td>f64</td><td>f64</td><td>f64</td><td>f64</td><td>f64</td><td>f64</td><td>f64</td><td>f64</td><td>f64</td><td>f64</td><td>i64</td><td>f64</td><td>f64</td><td>f64</td><td>f64</td><td>f64</td><td>f64</td><td>f64</td><td>f64</td><td>i64</td><td>i64</td><td>i64</td><td>i64</td><td>u32</td><td>u32</td><td>f64</td><td>f64</td><td>f64</td><td>u32</td><td>u32</td></tr></thead><tbody><tr><td>0</td><td>2015-04-06 00:00:00</td><td>91.2</td><td>-3.46</td><td>5.52</td><td>&quot;Scherzer, Max&quot;</td><td>434158</td><td>453286</td><td>13.0</td><td>1</td><td>2</td><td>null</td><td>null</td><td>-1.6</td><td>1.12</td><td>-1.6</td><td>1.87</td><td>null</td><td>null</td><td>null</td><td>0</td><td>1</td><td>1</td><td>null</td><td>null</td><td>8.691649</td><td>-133.497709</td><td>-4.950985</td><td>-20.321</td><td>30.518</td><td>-18.145</td><td>3.18</td><td>1.41</td><td>null</td><td>null</td><td>null</td><td>90.9</td><td>2338.0</td><td>6.5</td><td>413657</td><td>54.5</td><td>null</td><td>null</td><td>null</td><td>null</td><td>null</td><td>null</td><td>null</td><td>1</td><td>1</td><td>0</td><td>0</td><td>1</td><td>0</td><td>null</td><td>null</td><td>null</td><td>0</td><td>0</td></tr><tr><td>0</td><td>2015-04-06 00:00:00</td><td>94.2</td><td>-3.39</td><td>5.46</td><td>&quot;Scherzer, Max&quot;</td><td>434158</td><td>453286</td><td>11.0</td><td>1</td><td>2</td><td>null</td><td>null</td><td>-1.11</td><td>1.38</td><td>-0.91</td><td>2.49</td><td>null</td><td>null</td><td>null</td><td>0</td><td>1</td><td>1</td><td>null</td><td>null</td><td>9.33088</td><td>-137.854849</td><td>-4.455706</td><td>-15.832</td><td>33.65</td><td>-14.258</td><td>3.25</td><td>1.54</td><td>null</td><td>null</td><td>null</td><td>92.5</td><td>2613.0</td><td>5.8</td><td>413657</td><td>54.5</td><td>null</td><td>null</td><td>null</td><td>null</td><td>null</td><td>null</td><td>null</td><td>1</td><td>2</td><td>0</td><td>0</td><td>1</td><td>0</td><td>null</td><td>null</td><td>null</td><td>0</td><td>1</td></tr><tr><td>0</td><td>2015-04-06 00:00:00</td><td>95.6</td><td>-3.46</td><td>5.27</td><td>&quot;Scherzer, Max&quot;</td><td>434158</td><td>453286</td><td>11.0</td><td>1</td><td>1</td><td>null</td><td>null</td><td>-1.11</td><td>1.41</td><td>-1.58</td><td>2.93</td><td>null</td><td>null</td><td>null</td><td>0</td><td>1</td><td>1</td><td>null</td><td>null</td><td>7.86545</td><td>-139.948899</td><td>-3.141207</td><td>-15.845</td><td>33.239</td><td>-13.656</td><td>3.14</td><td>1.38</td><td>null</td><td>null</td><td>null</td><td>94.6</td><td>2639.0</td><td>6.1</td><td>413657</td><td>54.5</td><td>null</td><td>null</td><td>null</td><td>null</td><td>null</td><td>null</td><td>null</td><td>1</td><td>3</td><td>0</td><td>0</td><td>1</td><td>0</td><td>null</td><td>null</td><td>null</td><td>4</td><td>2</td></tr><tr><td>4</td><td>2015-04-06 00:00:00</td><td>87.2</td><td>-3.35</td><td>5.57</td><td>&quot;Scherzer, Max&quot;</td><td>434158</td><td>453286</td><td>14.0</td><td>1</td><td>1</td><td>null</td><td>null</td><td>-1.01</td><td>0.43</td><td>0.36</td><td>0.24</td><td>null</td><td>null</td><td>null</td><td>0</td><td>1</td><td>1</td><td>null</td><td>null</td><td>11.317288</td><td>-127.242561</td><td>-6.411426</td><td>-12.939</td><td>26.441</td><td>-26.385</td><td>3.17</td><td>1.34</td><td>null</td><td>null</td><td>null</td><td>86.1</td><td>1765.0</td><td>6.1</td><td>413657</td><td>54.5</td><td>null</td><td>null</td><td>null</td><td>null</td><td>null</td><td>null</td><td>null</td><td>1</td><td>4</td><td>0</td><td>0</td><td>1</td><td>0</td><td>null</td><td>null</td><td>null</td><td>0</td><td>3</td></tr><tr><td>0</td><td>2015-04-06 00:00:00</td><td>94.7</td><td>-3.51</td><td>5.25</td><td>&quot;Scherzer, Max&quot;</td><td>434158</td><td>453286</td><td>11.0</td><td>1</td><td>1</td><td>null</td><td>null</td><td>-1.05</td><td>1.05</td><td>-1.93</td><td>4.25</td><td>null</td><td>null</td><td>null</td><td>0</td><td>1</td><td>1</td><td>null</td><td>null</td><td>6.896021</td><td>-138.768748</td><td>1.434366</td><td>-14.653</td><td>33.106</td><td>-19.517</td><td>3.1</td><td>1.42</td><td>null</td><td>null</td><td>null</td><td>93.3</td><td>2486.0</td><td>5.8</td><td>413657</td><td>54.5</td><td>null</td><td>null</td><td>null</td><td>null</td><td>null</td><td>null</td><td>null</td><td>1</td><td>5</td><td>0</td><td>0</td><td>1</td><td>0</td><td>null</td><td>null</td><td>null</td><td>4</td><td>4</td></tr></tbody></table></div>"
      ],
      "text/plain": [
       "shape: (5, 59)\n",
       "┌────────────┬────────────┬────────────┬───────────┬───┬───────────┬───────────┬───────────┬───────┐\n",
       "│ pitch_type ┆ game_date  ┆ release_sp ┆ release_p ┆ … ┆ bat_speed ┆ swing_len ┆ next_pitc ┆ count │\n",
       "│ ---        ┆ ---        ┆ eed        ┆ os_x      ┆   ┆ ---       ┆ gth       ┆ h         ┆ ---   │\n",
       "│ u32        ┆ datetime[μ ┆ ---        ┆ ---       ┆   ┆ f64       ┆ ---       ┆ ---       ┆ u32   │\n",
       "│            ┆ s]         ┆ f64        ┆ f64       ┆   ┆           ┆ f64       ┆ u32       ┆       │\n",
       "╞════════════╪════════════╪════════════╪═══════════╪═══╪═══════════╪═══════════╪═══════════╪═══════╡\n",
       "│ 0          ┆ 2015-04-06 ┆ 91.2       ┆ -3.46     ┆ … ┆ null      ┆ null      ┆ 0         ┆ 0     │\n",
       "│            ┆ 00:00:00   ┆            ┆           ┆   ┆           ┆           ┆           ┆       │\n",
       "│ 0          ┆ 2015-04-06 ┆ 94.2       ┆ -3.39     ┆ … ┆ null      ┆ null      ┆ 0         ┆ 1     │\n",
       "│            ┆ 00:00:00   ┆            ┆           ┆   ┆           ┆           ┆           ┆       │\n",
       "│ 0          ┆ 2015-04-06 ┆ 95.6       ┆ -3.46     ┆ … ┆ null      ┆ null      ┆ 4         ┆ 2     │\n",
       "│            ┆ 00:00:00   ┆            ┆           ┆   ┆           ┆           ┆           ┆       │\n",
       "│ 4          ┆ 2015-04-06 ┆ 87.2       ┆ -3.35     ┆ … ┆ null      ┆ null      ┆ 0         ┆ 3     │\n",
       "│            ┆ 00:00:00   ┆            ┆           ┆   ┆           ┆           ┆           ┆       │\n",
       "│ 0          ┆ 2015-04-06 ┆ 94.7       ┆ -3.51     ┆ … ┆ null      ┆ null      ┆ 4         ┆ 4     │\n",
       "│            ┆ 00:00:00   ┆            ┆           ┆   ┆           ┆           ┆           ┆       │\n",
       "└────────────┴────────────┴────────────┴───────────┴───┴───────────┴───────────┴───────────┴───────┘"
      ]
     },
     "execution_count": 25,
     "metadata": {},
     "output_type": "execute_result"
    }
   ],
   "source": [
    "print(df.select(\"count\").describe())\n",
    "df.head()\n"
   ]
  },
  {
   "cell_type": "code",
   "execution_count": 26,
   "metadata": {},
   "outputs": [],
   "source": [
    "df = df.with_columns(df.select([\"on_1b\", \"on_2b\", \"on_3b\"]).fill_null(-1))\n",
    "df = df.with_columns(\n",
    "    pl.col(\"on_1b\")\n",
    "    .map_elements(lambda s: 0 if s == -1.0 else 1, return_dtype=pl.Int32)\n",
    "    .alias(\"on_1b\"),\n",
    "    pl.col(\"on_2b\")\n",
    "    .map_elements(lambda s: 0 if s == -1.0 else 1, return_dtype=pl.Int32)\n",
    "    .alias(\"on_2b\"),\n",
    "    pl.col(\"on_3b\")\n",
    "    .map_elements(lambda s: 0 if s == -1.0 else 1, return_dtype=pl.Int32)\n",
    "    .alias(\"on_3b\"),\n",
    ")\n",
    "df = df.with_columns(\n",
    "    (\n",
    "        pl.col(\"on_1b\").cast(pl.String)\n",
    "        + \"/\"\n",
    "        + pl.col(\"on_2b\").cast(pl.String)\n",
    "        + \"/\"\n",
    "        + pl.col(\"on_3b\").cast(pl.String)\n",
    "    )\n",
    "    .alias(\"base_state\")\n",
    "    .cast(pl.Categorical)\n",
    "    .to_physical()\n",
    ")\n",
    "df = df.drop([\"on_1b\", \"on_2b\", \"on_3b\"])"
   ]
  },
  {
   "cell_type": "code",
   "execution_count": 27,
   "metadata": {},
   "outputs": [
    {
     "name": "stdout",
     "output_type": "stream",
     "text": [
      "shape: (9, 2)\n",
      "┌────────────┬────────────┐\n",
      "│ statistic  ┆ base_state │\n",
      "│ ---        ┆ ---        │\n",
      "│ str        ┆ f64        │\n",
      "╞════════════╪════════════╡\n",
      "│ count      ┆ 137514.0   │\n",
      "│ null_count ┆ 0.0        │\n",
      "│ mean       ┆ 1.162616   │\n",
      "│ std        ┆ 2.023535   │\n",
      "│ min        ┆ 0.0        │\n",
      "│ 25%        ┆ 0.0        │\n",
      "│ 50%        ┆ 0.0        │\n",
      "│ 75%        ┆ 1.0        │\n",
      "│ max        ┆ 7.0        │\n",
      "└────────────┴────────────┘\n"
     ]
    },
    {
     "data": {
      "text/html": [
       "<div><style>\n",
       ".dataframe > thead > tr,\n",
       ".dataframe > tbody > tr {\n",
       "  text-align: right;\n",
       "  white-space: pre-wrap;\n",
       "}\n",
       "</style>\n",
       "<small>shape: (5, 57)</small><table border=\"1\" class=\"dataframe\"><thead><tr><th>pitch_type</th><th>game_date</th><th>release_speed</th><th>release_pos_x</th><th>release_pos_z</th><th>player_name</th><th>batter</th><th>pitcher</th><th>zone</th><th>stand</th><th>type</th><th>hit_location</th><th>bb_type</th><th>pfx_x</th><th>pfx_z</th><th>plate_x</th><th>plate_z</th><th>outs_when_up</th><th>inning</th><th>inning_topbot</th><th>hc_x</th><th>hc_y</th><th>vx0</th><th>vy0</th><th>vz0</th><th>ax</th><th>ay</th><th>az</th><th>sz_top</th><th>sz_bot</th><th>hit_distance_sc</th><th>launch_speed</th><th>launch_angle</th><th>effective_speed</th><th>release_spin_rate</th><th>release_extension</th><th>game_pk</th><th>release_pos_y</th><th>estimated_ba_using_speedangle</th><th>estimated_woba_using_speedangle</th><th>woba_value</th><th>woba_denom</th><th>babip_value</th><th>iso_value</th><th>launch_speed_angle</th><th>at_bat_number</th><th>pitch_number</th><th>bat_score</th><th>fld_score</th><th>if_fielding_alignment</th><th>of_fielding_alignment</th><th>spin_axis</th><th>bat_speed</th><th>swing_length</th><th>next_pitch</th><th>count</th><th>base_state</th></tr><tr><td>u32</td><td>datetime[μs]</td><td>f64</td><td>f64</td><td>f64</td><td>str</td><td>i64</td><td>i64</td><td>f64</td><td>u32</td><td>u32</td><td>f64</td><td>u32</td><td>f64</td><td>f64</td><td>f64</td><td>f64</td><td>i64</td><td>i64</td><td>u32</td><td>f64</td><td>f64</td><td>f64</td><td>f64</td><td>f64</td><td>f64</td><td>f64</td><td>f64</td><td>f64</td><td>f64</td><td>f64</td><td>f64</td><td>f64</td><td>f64</td><td>f64</td><td>f64</td><td>i64</td><td>f64</td><td>f64</td><td>f64</td><td>f64</td><td>f64</td><td>f64</td><td>f64</td><td>f64</td><td>i64</td><td>i64</td><td>i64</td><td>i64</td><td>u32</td><td>u32</td><td>f64</td><td>f64</td><td>f64</td><td>u32</td><td>u32</td><td>u32</td></tr></thead><tbody><tr><td>0</td><td>2015-04-06 00:00:00</td><td>91.2</td><td>-3.46</td><td>5.52</td><td>&quot;Scherzer, Max&quot;</td><td>434158</td><td>453286</td><td>13.0</td><td>1</td><td>2</td><td>null</td><td>null</td><td>-1.6</td><td>1.12</td><td>-1.6</td><td>1.87</td><td>0</td><td>1</td><td>1</td><td>null</td><td>null</td><td>8.691649</td><td>-133.497709</td><td>-4.950985</td><td>-20.321</td><td>30.518</td><td>-18.145</td><td>3.18</td><td>1.41</td><td>null</td><td>null</td><td>null</td><td>90.9</td><td>2338.0</td><td>6.5</td><td>413657</td><td>54.5</td><td>null</td><td>null</td><td>null</td><td>null</td><td>null</td><td>null</td><td>null</td><td>1</td><td>1</td><td>0</td><td>0</td><td>1</td><td>0</td><td>null</td><td>null</td><td>null</td><td>0</td><td>0</td><td>0</td></tr><tr><td>0</td><td>2015-04-06 00:00:00</td><td>94.2</td><td>-3.39</td><td>5.46</td><td>&quot;Scherzer, Max&quot;</td><td>434158</td><td>453286</td><td>11.0</td><td>1</td><td>2</td><td>null</td><td>null</td><td>-1.11</td><td>1.38</td><td>-0.91</td><td>2.49</td><td>0</td><td>1</td><td>1</td><td>null</td><td>null</td><td>9.33088</td><td>-137.854849</td><td>-4.455706</td><td>-15.832</td><td>33.65</td><td>-14.258</td><td>3.25</td><td>1.54</td><td>null</td><td>null</td><td>null</td><td>92.5</td><td>2613.0</td><td>5.8</td><td>413657</td><td>54.5</td><td>null</td><td>null</td><td>null</td><td>null</td><td>null</td><td>null</td><td>null</td><td>1</td><td>2</td><td>0</td><td>0</td><td>1</td><td>0</td><td>null</td><td>null</td><td>null</td><td>0</td><td>1</td><td>0</td></tr><tr><td>0</td><td>2015-04-06 00:00:00</td><td>95.6</td><td>-3.46</td><td>5.27</td><td>&quot;Scherzer, Max&quot;</td><td>434158</td><td>453286</td><td>11.0</td><td>1</td><td>1</td><td>null</td><td>null</td><td>-1.11</td><td>1.41</td><td>-1.58</td><td>2.93</td><td>0</td><td>1</td><td>1</td><td>null</td><td>null</td><td>7.86545</td><td>-139.948899</td><td>-3.141207</td><td>-15.845</td><td>33.239</td><td>-13.656</td><td>3.14</td><td>1.38</td><td>null</td><td>null</td><td>null</td><td>94.6</td><td>2639.0</td><td>6.1</td><td>413657</td><td>54.5</td><td>null</td><td>null</td><td>null</td><td>null</td><td>null</td><td>null</td><td>null</td><td>1</td><td>3</td><td>0</td><td>0</td><td>1</td><td>0</td><td>null</td><td>null</td><td>null</td><td>4</td><td>2</td><td>0</td></tr><tr><td>4</td><td>2015-04-06 00:00:00</td><td>87.2</td><td>-3.35</td><td>5.57</td><td>&quot;Scherzer, Max&quot;</td><td>434158</td><td>453286</td><td>14.0</td><td>1</td><td>1</td><td>null</td><td>null</td><td>-1.01</td><td>0.43</td><td>0.36</td><td>0.24</td><td>0</td><td>1</td><td>1</td><td>null</td><td>null</td><td>11.317288</td><td>-127.242561</td><td>-6.411426</td><td>-12.939</td><td>26.441</td><td>-26.385</td><td>3.17</td><td>1.34</td><td>null</td><td>null</td><td>null</td><td>86.1</td><td>1765.0</td><td>6.1</td><td>413657</td><td>54.5</td><td>null</td><td>null</td><td>null</td><td>null</td><td>null</td><td>null</td><td>null</td><td>1</td><td>4</td><td>0</td><td>0</td><td>1</td><td>0</td><td>null</td><td>null</td><td>null</td><td>0</td><td>3</td><td>0</td></tr><tr><td>0</td><td>2015-04-06 00:00:00</td><td>94.7</td><td>-3.51</td><td>5.25</td><td>&quot;Scherzer, Max&quot;</td><td>434158</td><td>453286</td><td>11.0</td><td>1</td><td>1</td><td>null</td><td>null</td><td>-1.05</td><td>1.05</td><td>-1.93</td><td>4.25</td><td>0</td><td>1</td><td>1</td><td>null</td><td>null</td><td>6.896021</td><td>-138.768748</td><td>1.434366</td><td>-14.653</td><td>33.106</td><td>-19.517</td><td>3.1</td><td>1.42</td><td>null</td><td>null</td><td>null</td><td>93.3</td><td>2486.0</td><td>5.8</td><td>413657</td><td>54.5</td><td>null</td><td>null</td><td>null</td><td>null</td><td>null</td><td>null</td><td>null</td><td>1</td><td>5</td><td>0</td><td>0</td><td>1</td><td>0</td><td>null</td><td>null</td><td>null</td><td>4</td><td>4</td><td>0</td></tr></tbody></table></div>"
      ],
      "text/plain": [
       "shape: (5, 57)\n",
       "┌────────────┬────────────┬────────────┬───────────┬───┬───────────┬───────────┬───────┬───────────┐\n",
       "│ pitch_type ┆ game_date  ┆ release_sp ┆ release_p ┆ … ┆ swing_len ┆ next_pitc ┆ count ┆ base_stat │\n",
       "│ ---        ┆ ---        ┆ eed        ┆ os_x      ┆   ┆ gth       ┆ h         ┆ ---   ┆ e         │\n",
       "│ u32        ┆ datetime[μ ┆ ---        ┆ ---       ┆   ┆ ---       ┆ ---       ┆ u32   ┆ ---       │\n",
       "│            ┆ s]         ┆ f64        ┆ f64       ┆   ┆ f64       ┆ u32       ┆       ┆ u32       │\n",
       "╞════════════╪════════════╪════════════╪═══════════╪═══╪═══════════╪═══════════╪═══════╪═══════════╡\n",
       "│ 0          ┆ 2015-04-06 ┆ 91.2       ┆ -3.46     ┆ … ┆ null      ┆ 0         ┆ 0     ┆ 0         │\n",
       "│            ┆ 00:00:00   ┆            ┆           ┆   ┆           ┆           ┆       ┆           │\n",
       "│ 0          ┆ 2015-04-06 ┆ 94.2       ┆ -3.39     ┆ … ┆ null      ┆ 0         ┆ 1     ┆ 0         │\n",
       "│            ┆ 00:00:00   ┆            ┆           ┆   ┆           ┆           ┆       ┆           │\n",
       "│ 0          ┆ 2015-04-06 ┆ 95.6       ┆ -3.46     ┆ … ┆ null      ┆ 4         ┆ 2     ┆ 0         │\n",
       "│            ┆ 00:00:00   ┆            ┆           ┆   ┆           ┆           ┆       ┆           │\n",
       "│ 4          ┆ 2015-04-06 ┆ 87.2       ┆ -3.35     ┆ … ┆ null      ┆ 0         ┆ 3     ┆ 0         │\n",
       "│            ┆ 00:00:00   ┆            ┆           ┆   ┆           ┆           ┆       ┆           │\n",
       "│ 0          ┆ 2015-04-06 ┆ 94.7       ┆ -3.51     ┆ … ┆ null      ┆ 4         ┆ 4     ┆ 0         │\n",
       "│            ┆ 00:00:00   ┆            ┆           ┆   ┆           ┆           ┆       ┆           │\n",
       "└────────────┴────────────┴────────────┴───────────┴───┴───────────┴───────────┴───────┴───────────┘"
      ]
     },
     "execution_count": 27,
     "metadata": {},
     "output_type": "execute_result"
    }
   ],
   "source": [
    "print(df.select(\"base_state\").describe())\n",
    "\n",
    "df.head()"
   ]
  },
  {
   "cell_type": "code",
   "execution_count": 28,
   "metadata": {},
   "outputs": [
    {
     "name": "stdout",
     "output_type": "stream",
     "text": [
      "(137514, 57)\n",
      "(137514, 40)\n"
     ]
    },
    {
     "data": {
      "text/html": [
       "<div><style>\n",
       ".dataframe > thead > tr,\n",
       ".dataframe > tbody > tr {\n",
       "  text-align: right;\n",
       "  white-space: pre-wrap;\n",
       "}\n",
       "</style>\n",
       "<small>shape: (5, 40)</small><table border=\"1\" class=\"dataframe\"><thead><tr><th>pitch_type</th><th>game_date</th><th>release_speed</th><th>release_pos_x</th><th>release_pos_z</th><th>player_name</th><th>batter</th><th>pitcher</th><th>zone</th><th>stand</th><th>type</th><th>pfx_x</th><th>pfx_z</th><th>plate_x</th><th>plate_z</th><th>outs_when_up</th><th>inning</th><th>inning_topbot</th><th>vx0</th><th>vy0</th><th>vz0</th><th>ax</th><th>ay</th><th>az</th><th>sz_top</th><th>sz_bot</th><th>effective_speed</th><th>release_spin_rate</th><th>release_extension</th><th>game_pk</th><th>release_pos_y</th><th>at_bat_number</th><th>pitch_number</th><th>bat_score</th><th>fld_score</th><th>if_fielding_alignment</th><th>of_fielding_alignment</th><th>next_pitch</th><th>count</th><th>base_state</th></tr><tr><td>u32</td><td>datetime[μs]</td><td>f64</td><td>f64</td><td>f64</td><td>str</td><td>i64</td><td>i64</td><td>f64</td><td>u32</td><td>u32</td><td>f64</td><td>f64</td><td>f64</td><td>f64</td><td>i64</td><td>i64</td><td>u32</td><td>f64</td><td>f64</td><td>f64</td><td>f64</td><td>f64</td><td>f64</td><td>f64</td><td>f64</td><td>f64</td><td>f64</td><td>f64</td><td>i64</td><td>f64</td><td>i64</td><td>i64</td><td>i64</td><td>i64</td><td>u32</td><td>u32</td><td>u32</td><td>u32</td><td>u32</td></tr></thead><tbody><tr><td>0</td><td>2015-04-06 00:00:00</td><td>91.2</td><td>-3.46</td><td>5.52</td><td>&quot;Scherzer, Max&quot;</td><td>434158</td><td>453286</td><td>13.0</td><td>1</td><td>2</td><td>-1.6</td><td>1.12</td><td>-1.6</td><td>1.87</td><td>0</td><td>1</td><td>1</td><td>8.691649</td><td>-133.497709</td><td>-4.950985</td><td>-20.321</td><td>30.518</td><td>-18.145</td><td>3.18</td><td>1.41</td><td>90.9</td><td>2338.0</td><td>6.5</td><td>413657</td><td>54.5</td><td>1</td><td>1</td><td>0</td><td>0</td><td>1</td><td>0</td><td>0</td><td>0</td><td>0</td></tr><tr><td>0</td><td>2015-04-06 00:00:00</td><td>94.2</td><td>-3.39</td><td>5.46</td><td>&quot;Scherzer, Max&quot;</td><td>434158</td><td>453286</td><td>11.0</td><td>1</td><td>2</td><td>-1.11</td><td>1.38</td><td>-0.91</td><td>2.49</td><td>0</td><td>1</td><td>1</td><td>9.33088</td><td>-137.854849</td><td>-4.455706</td><td>-15.832</td><td>33.65</td><td>-14.258</td><td>3.25</td><td>1.54</td><td>92.5</td><td>2613.0</td><td>5.8</td><td>413657</td><td>54.5</td><td>1</td><td>2</td><td>0</td><td>0</td><td>1</td><td>0</td><td>0</td><td>1</td><td>0</td></tr><tr><td>0</td><td>2015-04-06 00:00:00</td><td>95.6</td><td>-3.46</td><td>5.27</td><td>&quot;Scherzer, Max&quot;</td><td>434158</td><td>453286</td><td>11.0</td><td>1</td><td>1</td><td>-1.11</td><td>1.41</td><td>-1.58</td><td>2.93</td><td>0</td><td>1</td><td>1</td><td>7.86545</td><td>-139.948899</td><td>-3.141207</td><td>-15.845</td><td>33.239</td><td>-13.656</td><td>3.14</td><td>1.38</td><td>94.6</td><td>2639.0</td><td>6.1</td><td>413657</td><td>54.5</td><td>1</td><td>3</td><td>0</td><td>0</td><td>1</td><td>0</td><td>4</td><td>2</td><td>0</td></tr><tr><td>4</td><td>2015-04-06 00:00:00</td><td>87.2</td><td>-3.35</td><td>5.57</td><td>&quot;Scherzer, Max&quot;</td><td>434158</td><td>453286</td><td>14.0</td><td>1</td><td>1</td><td>-1.01</td><td>0.43</td><td>0.36</td><td>0.24</td><td>0</td><td>1</td><td>1</td><td>11.317288</td><td>-127.242561</td><td>-6.411426</td><td>-12.939</td><td>26.441</td><td>-26.385</td><td>3.17</td><td>1.34</td><td>86.1</td><td>1765.0</td><td>6.1</td><td>413657</td><td>54.5</td><td>1</td><td>4</td><td>0</td><td>0</td><td>1</td><td>0</td><td>0</td><td>3</td><td>0</td></tr><tr><td>0</td><td>2015-04-06 00:00:00</td><td>94.7</td><td>-3.51</td><td>5.25</td><td>&quot;Scherzer, Max&quot;</td><td>434158</td><td>453286</td><td>11.0</td><td>1</td><td>1</td><td>-1.05</td><td>1.05</td><td>-1.93</td><td>4.25</td><td>0</td><td>1</td><td>1</td><td>6.896021</td><td>-138.768748</td><td>1.434366</td><td>-14.653</td><td>33.106</td><td>-19.517</td><td>3.1</td><td>1.42</td><td>93.3</td><td>2486.0</td><td>5.8</td><td>413657</td><td>54.5</td><td>1</td><td>5</td><td>0</td><td>0</td><td>1</td><td>0</td><td>4</td><td>4</td><td>0</td></tr></tbody></table></div>"
      ],
      "text/plain": [
       "shape: (5, 40)\n",
       "┌────────────┬────────────┬────────────┬───────────┬───┬───────────┬───────────┬───────┬───────────┐\n",
       "│ pitch_type ┆ game_date  ┆ release_sp ┆ release_p ┆ … ┆ of_fieldi ┆ next_pitc ┆ count ┆ base_stat │\n",
       "│ ---        ┆ ---        ┆ eed        ┆ os_x      ┆   ┆ ng_alignm ┆ h         ┆ ---   ┆ e         │\n",
       "│ u32        ┆ datetime[μ ┆ ---        ┆ ---       ┆   ┆ ent       ┆ ---       ┆ u32   ┆ ---       │\n",
       "│            ┆ s]         ┆ f64        ┆ f64       ┆   ┆ ---       ┆ u32       ┆       ┆ u32       │\n",
       "│            ┆            ┆            ┆           ┆   ┆ u32       ┆           ┆       ┆           │\n",
       "╞════════════╪════════════╪════════════╪═══════════╪═══╪═══════════╪═══════════╪═══════╪═══════════╡\n",
       "│ 0          ┆ 2015-04-06 ┆ 91.2       ┆ -3.46     ┆ … ┆ 0         ┆ 0         ┆ 0     ┆ 0         │\n",
       "│            ┆ 00:00:00   ┆            ┆           ┆   ┆           ┆           ┆       ┆           │\n",
       "│ 0          ┆ 2015-04-06 ┆ 94.2       ┆ -3.39     ┆ … ┆ 0         ┆ 0         ┆ 1     ┆ 0         │\n",
       "│            ┆ 00:00:00   ┆            ┆           ┆   ┆           ┆           ┆       ┆           │\n",
       "│ 0          ┆ 2015-04-06 ┆ 95.6       ┆ -3.46     ┆ … ┆ 0         ┆ 4         ┆ 2     ┆ 0         │\n",
       "│            ┆ 00:00:00   ┆            ┆           ┆   ┆           ┆           ┆       ┆           │\n",
       "│ 4          ┆ 2015-04-06 ┆ 87.2       ┆ -3.35     ┆ … ┆ 0         ┆ 0         ┆ 3     ┆ 0         │\n",
       "│            ┆ 00:00:00   ┆            ┆           ┆   ┆           ┆           ┆       ┆           │\n",
       "│ 0          ┆ 2015-04-06 ┆ 94.7       ┆ -3.51     ┆ … ┆ 0         ┆ 4         ┆ 4     ┆ 0         │\n",
       "│            ┆ 00:00:00   ┆            ┆           ┆   ┆           ┆           ┆       ┆           │\n",
       "└────────────┴────────────┴────────────┴───────────┴───┴───────────┴───────────┴───────┴───────────┘"
      ]
     },
     "execution_count": 28,
     "metadata": {},
     "output_type": "execute_result"
    }
   ],
   "source": [
    "print(df.shape)\n",
    "\n",
    "# # find columns with null percentage > 10%\n",
    "# # Calculate null percentages for all columns\n",
    "# null_percentages = df.select(pl.all().is_null().sum() / df.height)\n",
    "\n",
    "# # Filter columns where null percentage > 10%\n",
    "# columns_with_too_many_nulls = (\n",
    "#     null_percentages.melt().filter(pl.col(\"value\") > 0.1).select(\"variable\")\n",
    "# )\n",
    "\n",
    "# print(\"Columns with >10% null values:\")\n",
    "# print(columns_with_too_many_nulls)\n",
    "\n",
    "# drop columns with too many nulls\n",
    "df = df.drop(\n",
    "    df.select(pl.all().is_null().sum() / df.height)\n",
    "    .unpivot()\n",
    "    .filter(pl.col(\"value\") > 0.05)\n",
    "    .select(\"variable\")\n",
    "    .to_series()\n",
    "    .to_list()\n",
    ")\n",
    "print(df.shape)\n",
    "df.head()"
   ]
  },
  {
   "cell_type": "code",
   "execution_count": 29,
   "metadata": {},
   "outputs": [
    {
     "data": {
      "text/html": [
       "<div><style>\n",
       ".dataframe > thead > tr,\n",
       ".dataframe > tbody > tr {\n",
       "  text-align: right;\n",
       "  white-space: pre-wrap;\n",
       "}\n",
       "</style>\n",
       "<small>shape: (5, 40)</small><table border=\"1\" class=\"dataframe\"><thead><tr><th>pitch_type</th><th>game_date</th><th>release_speed</th><th>release_pos_x</th><th>release_pos_z</th><th>player_name</th><th>batter</th><th>pitcher</th><th>zone</th><th>stand</th><th>type</th><th>pfx_x</th><th>pfx_z</th><th>plate_x</th><th>plate_z</th><th>outs_when_up</th><th>inning</th><th>inning_topbot</th><th>vx0</th><th>vy0</th><th>vz0</th><th>ax</th><th>ay</th><th>az</th><th>sz_top</th><th>sz_bot</th><th>effective_speed</th><th>release_spin_rate</th><th>release_extension</th><th>game_pk</th><th>release_pos_y</th><th>at_bat_number</th><th>pitch_number</th><th>bat_score</th><th>fld_score</th><th>if_fielding_alignment</th><th>of_fielding_alignment</th><th>next_pitch</th><th>count</th><th>base_state</th></tr><tr><td>u32</td><td>datetime[μs]</td><td>f64</td><td>f64</td><td>f64</td><td>str</td><td>i64</td><td>i64</td><td>f64</td><td>u32</td><td>u32</td><td>f64</td><td>f64</td><td>f64</td><td>f64</td><td>i64</td><td>i64</td><td>u32</td><td>f64</td><td>f64</td><td>f64</td><td>f64</td><td>f64</td><td>f64</td><td>f64</td><td>f64</td><td>f64</td><td>f64</td><td>f64</td><td>i64</td><td>f64</td><td>i64</td><td>i64</td><td>i64</td><td>i64</td><td>u32</td><td>u32</td><td>u32</td><td>u32</td><td>u32</td></tr></thead><tbody><tr><td>0</td><td>2015-04-06 00:00:00</td><td>91.2</td><td>-3.46</td><td>5.52</td><td>&quot;Scherzer, Max&quot;</td><td>434158</td><td>453286</td><td>13.0</td><td>1</td><td>2</td><td>-1.6</td><td>1.12</td><td>-1.6</td><td>1.87</td><td>0</td><td>1</td><td>1</td><td>8.691649</td><td>-133.497709</td><td>-4.950985</td><td>-20.321</td><td>30.518</td><td>-18.145</td><td>3.18</td><td>1.41</td><td>90.9</td><td>2338.0</td><td>6.5</td><td>413657</td><td>54.5</td><td>1</td><td>1</td><td>0</td><td>0</td><td>1</td><td>0</td><td>0</td><td>0</td><td>0</td></tr><tr><td>0</td><td>2015-04-06 00:00:00</td><td>94.2</td><td>-3.39</td><td>5.46</td><td>&quot;Scherzer, Max&quot;</td><td>434158</td><td>453286</td><td>11.0</td><td>1</td><td>2</td><td>-1.11</td><td>1.38</td><td>-0.91</td><td>2.49</td><td>0</td><td>1</td><td>1</td><td>9.33088</td><td>-137.854849</td><td>-4.455706</td><td>-15.832</td><td>33.65</td><td>-14.258</td><td>3.25</td><td>1.54</td><td>92.5</td><td>2613.0</td><td>5.8</td><td>413657</td><td>54.5</td><td>1</td><td>2</td><td>0</td><td>0</td><td>1</td><td>0</td><td>0</td><td>1</td><td>0</td></tr><tr><td>0</td><td>2015-04-06 00:00:00</td><td>95.6</td><td>-3.46</td><td>5.27</td><td>&quot;Scherzer, Max&quot;</td><td>434158</td><td>453286</td><td>11.0</td><td>1</td><td>1</td><td>-1.11</td><td>1.41</td><td>-1.58</td><td>2.93</td><td>0</td><td>1</td><td>1</td><td>7.86545</td><td>-139.948899</td><td>-3.141207</td><td>-15.845</td><td>33.239</td><td>-13.656</td><td>3.14</td><td>1.38</td><td>94.6</td><td>2639.0</td><td>6.1</td><td>413657</td><td>54.5</td><td>1</td><td>3</td><td>0</td><td>0</td><td>1</td><td>0</td><td>4</td><td>2</td><td>0</td></tr><tr><td>4</td><td>2015-04-06 00:00:00</td><td>87.2</td><td>-3.35</td><td>5.57</td><td>&quot;Scherzer, Max&quot;</td><td>434158</td><td>453286</td><td>14.0</td><td>1</td><td>1</td><td>-1.01</td><td>0.43</td><td>0.36</td><td>0.24</td><td>0</td><td>1</td><td>1</td><td>11.317288</td><td>-127.242561</td><td>-6.411426</td><td>-12.939</td><td>26.441</td><td>-26.385</td><td>3.17</td><td>1.34</td><td>86.1</td><td>1765.0</td><td>6.1</td><td>413657</td><td>54.5</td><td>1</td><td>4</td><td>0</td><td>0</td><td>1</td><td>0</td><td>0</td><td>3</td><td>0</td></tr><tr><td>0</td><td>2015-04-06 00:00:00</td><td>94.7</td><td>-3.51</td><td>5.25</td><td>&quot;Scherzer, Max&quot;</td><td>434158</td><td>453286</td><td>11.0</td><td>1</td><td>1</td><td>-1.05</td><td>1.05</td><td>-1.93</td><td>4.25</td><td>0</td><td>1</td><td>1</td><td>6.896021</td><td>-138.768748</td><td>1.434366</td><td>-14.653</td><td>33.106</td><td>-19.517</td><td>3.1</td><td>1.42</td><td>93.3</td><td>2486.0</td><td>5.8</td><td>413657</td><td>54.5</td><td>1</td><td>5</td><td>0</td><td>0</td><td>1</td><td>0</td><td>4</td><td>4</td><td>0</td></tr></tbody></table></div>"
      ],
      "text/plain": [
       "shape: (5, 40)\n",
       "┌────────────┬────────────┬────────────┬───────────┬───┬───────────┬───────────┬───────┬───────────┐\n",
       "│ pitch_type ┆ game_date  ┆ release_sp ┆ release_p ┆ … ┆ of_fieldi ┆ next_pitc ┆ count ┆ base_stat │\n",
       "│ ---        ┆ ---        ┆ eed        ┆ os_x      ┆   ┆ ng_alignm ┆ h         ┆ ---   ┆ e         │\n",
       "│ u32        ┆ datetime[μ ┆ ---        ┆ ---       ┆   ┆ ent       ┆ ---       ┆ u32   ┆ ---       │\n",
       "│            ┆ s]         ┆ f64        ┆ f64       ┆   ┆ ---       ┆ u32       ┆       ┆ u32       │\n",
       "│            ┆            ┆            ┆           ┆   ┆ u32       ┆           ┆       ┆           │\n",
       "╞════════════╪════════════╪════════════╪═══════════╪═══╪═══════════╪═══════════╪═══════╪═══════════╡\n",
       "│ 0          ┆ 2015-04-06 ┆ 91.2       ┆ -3.46     ┆ … ┆ 0         ┆ 0         ┆ 0     ┆ 0         │\n",
       "│            ┆ 00:00:00   ┆            ┆           ┆   ┆           ┆           ┆       ┆           │\n",
       "│ 0          ┆ 2015-04-06 ┆ 94.2       ┆ -3.39     ┆ … ┆ 0         ┆ 0         ┆ 1     ┆ 0         │\n",
       "│            ┆ 00:00:00   ┆            ┆           ┆   ┆           ┆           ┆       ┆           │\n",
       "│ 0          ┆ 2015-04-06 ┆ 95.6       ┆ -3.46     ┆ … ┆ 0         ┆ 4         ┆ 2     ┆ 0         │\n",
       "│            ┆ 00:00:00   ┆            ┆           ┆   ┆           ┆           ┆       ┆           │\n",
       "│ 4          ┆ 2015-04-06 ┆ 87.2       ┆ -3.35     ┆ … ┆ 0         ┆ 0         ┆ 3     ┆ 0         │\n",
       "│            ┆ 00:00:00   ┆            ┆           ┆   ┆           ┆           ┆       ┆           │\n",
       "│ 0          ┆ 2015-04-06 ┆ 94.7       ┆ -3.51     ┆ … ┆ 0         ┆ 4         ┆ 4     ┆ 0         │\n",
       "│            ┆ 00:00:00   ┆            ┆           ┆   ┆           ┆           ┆       ┆           │\n",
       "└────────────┴────────────┴────────────┴───────────┴───┴───────────┴───────────┴───────┴───────────┘"
      ]
     },
     "execution_count": 29,
     "metadata": {},
     "output_type": "execute_result"
    }
   ],
   "source": [
    "# release point consistency feature\n",
    "\n",
    "\n",
    "df.head()"
   ]
  },
  {
   "cell_type": "code",
   "execution_count": 30,
   "metadata": {},
   "outputs": [],
   "source": [
    "# # Late inning pressure (boolean)\n",
    "# df = df.with_columns(\n",
    "#     ((pl.col(\"inning\") >= 7) & (pl.col(\"bat_score\") - pl.col(\"fld_score\")).abs() <= 3)\n",
    "#     .cast(pl.Int32)\n",
    "#     .alias(\"high_pressure\")\n",
    "# )\n",
    "\n",
    "# df.head()"
   ]
  },
  {
   "cell_type": "code",
   "execution_count": 32,
   "metadata": {},
   "outputs": [
    {
     "data": {
      "text/html": [
       "<div><style>\n",
       ".dataframe > thead > tr,\n",
       ".dataframe > tbody > tr {\n",
       "  text-align: right;\n",
       "  white-space: pre-wrap;\n",
       "}\n",
       "</style>\n",
       "<small>shape: (5, 40)</small><table border=\"1\" class=\"dataframe\"><thead><tr><th>pitch_type</th><th>game_date</th><th>release_speed</th><th>release_pos_x</th><th>release_pos_z</th><th>player_name</th><th>batter</th><th>pitcher</th><th>zone</th><th>stand</th><th>type</th><th>pfx_x</th><th>pfx_z</th><th>plate_x</th><th>plate_z</th><th>outs_when_up</th><th>inning</th><th>inning_topbot</th><th>vx0</th><th>vy0</th><th>vz0</th><th>ax</th><th>ay</th><th>az</th><th>sz_top</th><th>sz_bot</th><th>effective_speed</th><th>release_spin_rate</th><th>release_extension</th><th>game_pk</th><th>release_pos_y</th><th>at_bat_number</th><th>pitch_number</th><th>bat_score</th><th>fld_score</th><th>if_fielding_alignment</th><th>of_fielding_alignment</th><th>next_pitch</th><th>count</th><th>base_state</th></tr><tr><td>u32</td><td>datetime[μs]</td><td>f64</td><td>f64</td><td>f64</td><td>str</td><td>i64</td><td>i64</td><td>f64</td><td>u32</td><td>u32</td><td>f64</td><td>f64</td><td>f64</td><td>f64</td><td>i64</td><td>i64</td><td>u32</td><td>f64</td><td>f64</td><td>f64</td><td>f64</td><td>f64</td><td>f64</td><td>f64</td><td>f64</td><td>f64</td><td>f64</td><td>f64</td><td>i64</td><td>f64</td><td>i64</td><td>i64</td><td>i64</td><td>i64</td><td>u32</td><td>u32</td><td>u32</td><td>u32</td><td>u32</td></tr></thead><tbody><tr><td>0</td><td>2015-04-06 00:00:00</td><td>91.2</td><td>-3.46</td><td>5.52</td><td>&quot;Scherzer, Max&quot;</td><td>434158</td><td>453286</td><td>13.0</td><td>1</td><td>2</td><td>-1.6</td><td>1.12</td><td>-1.6</td><td>1.87</td><td>0</td><td>1</td><td>1</td><td>8.691649</td><td>-133.497709</td><td>-4.950985</td><td>-20.321</td><td>30.518</td><td>-18.145</td><td>3.18</td><td>1.41</td><td>90.9</td><td>2338.0</td><td>6.5</td><td>413657</td><td>54.5</td><td>1</td><td>1</td><td>0</td><td>0</td><td>1</td><td>0</td><td>0</td><td>0</td><td>0</td></tr><tr><td>0</td><td>2015-04-06 00:00:00</td><td>94.2</td><td>-3.39</td><td>5.46</td><td>&quot;Scherzer, Max&quot;</td><td>434158</td><td>453286</td><td>11.0</td><td>1</td><td>2</td><td>-1.11</td><td>1.38</td><td>-0.91</td><td>2.49</td><td>0</td><td>1</td><td>1</td><td>9.33088</td><td>-137.854849</td><td>-4.455706</td><td>-15.832</td><td>33.65</td><td>-14.258</td><td>3.25</td><td>1.54</td><td>92.5</td><td>2613.0</td><td>5.8</td><td>413657</td><td>54.5</td><td>1</td><td>2</td><td>0</td><td>0</td><td>1</td><td>0</td><td>0</td><td>1</td><td>0</td></tr><tr><td>0</td><td>2015-04-06 00:00:00</td><td>95.6</td><td>-3.46</td><td>5.27</td><td>&quot;Scherzer, Max&quot;</td><td>434158</td><td>453286</td><td>11.0</td><td>1</td><td>1</td><td>-1.11</td><td>1.41</td><td>-1.58</td><td>2.93</td><td>0</td><td>1</td><td>1</td><td>7.86545</td><td>-139.948899</td><td>-3.141207</td><td>-15.845</td><td>33.239</td><td>-13.656</td><td>3.14</td><td>1.38</td><td>94.6</td><td>2639.0</td><td>6.1</td><td>413657</td><td>54.5</td><td>1</td><td>3</td><td>0</td><td>0</td><td>1</td><td>0</td><td>4</td><td>2</td><td>0</td></tr><tr><td>4</td><td>2015-04-06 00:00:00</td><td>87.2</td><td>-3.35</td><td>5.57</td><td>&quot;Scherzer, Max&quot;</td><td>434158</td><td>453286</td><td>14.0</td><td>1</td><td>1</td><td>-1.01</td><td>0.43</td><td>0.36</td><td>0.24</td><td>0</td><td>1</td><td>1</td><td>11.317288</td><td>-127.242561</td><td>-6.411426</td><td>-12.939</td><td>26.441</td><td>-26.385</td><td>3.17</td><td>1.34</td><td>86.1</td><td>1765.0</td><td>6.1</td><td>413657</td><td>54.5</td><td>1</td><td>4</td><td>0</td><td>0</td><td>1</td><td>0</td><td>0</td><td>3</td><td>0</td></tr><tr><td>0</td><td>2015-04-06 00:00:00</td><td>94.7</td><td>-3.51</td><td>5.25</td><td>&quot;Scherzer, Max&quot;</td><td>434158</td><td>453286</td><td>11.0</td><td>1</td><td>1</td><td>-1.05</td><td>1.05</td><td>-1.93</td><td>4.25</td><td>0</td><td>1</td><td>1</td><td>6.896021</td><td>-138.768748</td><td>1.434366</td><td>-14.653</td><td>33.106</td><td>-19.517</td><td>3.1</td><td>1.42</td><td>93.3</td><td>2486.0</td><td>5.8</td><td>413657</td><td>54.5</td><td>1</td><td>5</td><td>0</td><td>0</td><td>1</td><td>0</td><td>4</td><td>4</td><td>0</td></tr></tbody></table></div>"
      ],
      "text/plain": [
       "shape: (5, 40)\n",
       "┌────────────┬────────────┬────────────┬───────────┬───┬───────────┬───────────┬───────┬───────────┐\n",
       "│ pitch_type ┆ game_date  ┆ release_sp ┆ release_p ┆ … ┆ of_fieldi ┆ next_pitc ┆ count ┆ base_stat │\n",
       "│ ---        ┆ ---        ┆ eed        ┆ os_x      ┆   ┆ ng_alignm ┆ h         ┆ ---   ┆ e         │\n",
       "│ u32        ┆ datetime[μ ┆ ---        ┆ ---       ┆   ┆ ent       ┆ ---       ┆ u32   ┆ ---       │\n",
       "│            ┆ s]         ┆ f64        ┆ f64       ┆   ┆ ---       ┆ u32       ┆       ┆ u32       │\n",
       "│            ┆            ┆            ┆           ┆   ┆ u32       ┆           ┆       ┆           │\n",
       "╞════════════╪════════════╪════════════╪═══════════╪═══╪═══════════╪═══════════╪═══════╪═══════════╡\n",
       "│ 0          ┆ 2015-04-06 ┆ 91.2       ┆ -3.46     ┆ … ┆ 0         ┆ 0         ┆ 0     ┆ 0         │\n",
       "│            ┆ 00:00:00   ┆            ┆           ┆   ┆           ┆           ┆       ┆           │\n",
       "│ 0          ┆ 2015-04-06 ┆ 94.2       ┆ -3.39     ┆ … ┆ 0         ┆ 0         ┆ 1     ┆ 0         │\n",
       "│            ┆ 00:00:00   ┆            ┆           ┆   ┆           ┆           ┆       ┆           │\n",
       "│ 0          ┆ 2015-04-06 ┆ 95.6       ┆ -3.46     ┆ … ┆ 0         ┆ 4         ┆ 2     ┆ 0         │\n",
       "│            ┆ 00:00:00   ┆            ┆           ┆   ┆           ┆           ┆       ┆           │\n",
       "│ 4          ┆ 2015-04-06 ┆ 87.2       ┆ -3.35     ┆ … ┆ 0         ┆ 0         ┆ 3     ┆ 0         │\n",
       "│            ┆ 00:00:00   ┆            ┆           ┆   ┆           ┆           ┆       ┆           │\n",
       "│ 0          ┆ 2015-04-06 ┆ 94.7       ┆ -3.51     ┆ … ┆ 0         ┆ 4         ┆ 4     ┆ 0         │\n",
       "│            ┆ 00:00:00   ┆            ┆           ┆   ┆           ┆           ┆       ┆           │\n",
       "└────────────┴────────────┴────────────┴───────────┴───┴───────────┴───────────┴───────┴───────────┘"
      ]
     },
     "execution_count": 32,
     "metadata": {},
     "output_type": "execute_result"
    }
   ],
   "source": [
    "def sort_pitch_data(df):\n",
    "    return df.sort(\n",
    "        [\n",
    "            \"game_date\",  # Primary: chronological order\n",
    "            \"game_pk\",  # Secondary: unique game identifier\n",
    "            \"inning\",  # Tertiary: game sequence\n",
    "            \"at_bat_number\",  # Game at-bat order\n",
    "            \"pitch_number\",  # At-bat pitch sequence\n",
    "        ],\n",
    "        descending=False,  # Ascending order for all\n",
    "    )\n",
    "\n",
    "\n",
    "df = sort_pitch_data(df)\n",
    "df.head()"
   ]
  },
  {
   "cell_type": "code",
   "execution_count": 18,
   "metadata": {},
   "outputs": [
    {
     "name": "stdout",
     "output_type": "stream",
     "text": [
      "shape: (20, 2)\n",
      "┌────────────┬────────────┐\n",
      "│ next_pitch ┆ pitch_type │\n",
      "│ ---        ┆ ---        │\n",
      "│ u32        ┆ u32        │\n",
      "╞════════════╪════════════╡\n",
      "│ 0          ┆ 0          │\n",
      "│ 0          ┆ 0          │\n",
      "│ 4          ┆ 0          │\n",
      "│ 0          ┆ 4          │\n",
      "│ 4          ┆ 0          │\n",
      "│ 0          ┆ 4          │\n",
      "│ 0          ┆ 0          │\n",
      "│ 0          ┆ 0          │\n",
      "│ 0          ┆ 0          │\n",
      "│ 1          ┆ 0          │\n",
      "│ 1          ┆ 1          │\n",
      "│ 0          ┆ 1          │\n",
      "│ 0          ┆ 0          │\n",
      "│ 4          ┆ 0          │\n",
      "│ 0          ┆ 4          │\n",
      "│ 0          ┆ 0          │\n",
      "│ 0          ┆ 0          │\n",
      "│ 0          ┆ 0          │\n",
      "│ 4          ┆ 0          │\n",
      "│ 0          ┆ 4          │\n",
      "└────────────┴────────────┘\n"
     ]
    }
   ],
   "source": [
    "print(df.select(\"next_pitch\", \"pitch_type\").head(20))"
   ]
  }
 ],
 "metadata": {
  "kernelspec": {
   "display_name": "pitch_predict",
   "language": "python",
   "name": "python3"
  },
  "language_info": {
   "codemirror_mode": {
    "name": "ipython",
    "version": 3
   },
   "file_extension": ".py",
   "mimetype": "text/x-python",
   "name": "python",
   "nbconvert_exporter": "python",
   "pygments_lexer": "ipython3",
   "version": "3.12.7"
  }
 },
 "nbformat": 4,
 "nbformat_minor": 2
}
