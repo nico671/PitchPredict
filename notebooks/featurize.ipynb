{
 "cells": [
  {
   "cell_type": "markdown",
   "metadata": {},
   "source": [
    "# feats using polar yay"
   ]
  },
  {
   "cell_type": "code",
   "execution_count": 2,
   "metadata": {},
   "outputs": [
    {
     "data": {
      "text/plain": [
       "polars.config.Config"
      ]
     },
     "execution_count": 2,
     "metadata": {},
     "output_type": "execute_result"
    }
   ],
   "source": [
    "import logging\n",
    "import sys\n",
    "import time\n",
    "from pathlib import Path\n",
    "\n",
    "# import pandas as pd\n",
    "import polars as pl\n",
    "import pybaseball as pb\n",
    "import yaml\n",
    "\n",
    "logger = logging.getLogger(\"featurize\")\n",
    "logger.setLevel(logging.INFO)\n",
    "handler = logging.StreamHandler()\n",
    "handler.setFormatter(\n",
    "    logging.Formatter(\"%(asctime)s - %(name)s - %(levelname)s - %(message)s\")\n",
    ")\n",
    "logger.addHandler(handler)\n",
    "cfg = pl.Config()\n",
    "cfg.set_tbl_rows(2000)"
   ]
  },
  {
   "cell_type": "code",
   "execution_count": 3,
   "metadata": {},
   "outputs": [],
   "source": [
    "with open(\"../params.yaml\", \"r\") as file:\n",
    "    params = yaml.safe_load(file)\n",
    "input_file_path = params[\"featurize\"][\"input_data_path\"]\n",
    "\n",
    "df = pl.read_parquet(\"../\" / Path(input_file_path))"
   ]
  },
  {
   "cell_type": "code",
   "execution_count": 4,
   "metadata": {},
   "outputs": [],
   "source": [
    "df = df.with_columns(\n",
    "    df.select(\n",
    "        pl.col(pl.String).exclude([\"player_name\"]).cast(pl.Categorical).to_physical()\n",
    "    ),\n",
    ")"
   ]
  },
  {
   "cell_type": "code",
   "execution_count": 21,
   "metadata": {},
   "outputs": [],
   "source": [
    "df = df.sort(\n",
    "    [\n",
    "        \"game_date\",\n",
    "        \"game_pk\",\n",
    "        \"at_bat_number\",\n",
    "        \"pitch_number\",\n",
    "    ],\n",
    "    descending=False,\n",
    ")\n",
    "# create target variable\n",
    "df = df.with_columns(\n",
    "    df.select(pl.col(\"pitch_type\").shift().alias(\"next_pitch\")),\n",
    ").drop_nulls(\"next_pitch\")"
   ]
  },
  {
   "cell_type": "code",
   "execution_count": 22,
   "metadata": {},
   "outputs": [
    {
     "data": {
      "text/html": [
       "<div><style>\n",
       ".dataframe > thead > tr,\n",
       ".dataframe > tbody > tr {\n",
       "  text-align: right;\n",
       "  white-space: pre-wrap;\n",
       "}\n",
       "</style>\n",
       "<small>shape: (20, 2)</small><table border=\"1\" class=\"dataframe\"><thead><tr><th>pitch_type</th><th>next_pitch</th></tr><tr><td>i64</td><td>i64</td></tr></thead><tbody><tr><td>5</td><td>1</td></tr><tr><td>1</td><td>5</td></tr><tr><td>3</td><td>1</td></tr><tr><td>5</td><td>3</td></tr><tr><td>4</td><td>5</td></tr><tr><td>1</td><td>4</td></tr><tr><td>1</td><td>1</td></tr><tr><td>1</td><td>1</td></tr><tr><td>1</td><td>1</td></tr><tr><td>3</td><td>1</td></tr><tr><td>5</td><td>3</td></tr><tr><td>1</td><td>5</td></tr><tr><td>3</td><td>1</td></tr><tr><td>1</td><td>3</td></tr><tr><td>4</td><td>1</td></tr><tr><td>5</td><td>4</td></tr><tr><td>5</td><td>5</td></tr><tr><td>6</td><td>5</td></tr><tr><td>1</td><td>6</td></tr><tr><td>1</td><td>1</td></tr></tbody></table></div>"
      ],
      "text/plain": [
       "shape: (20, 2)\n",
       "┌────────────┬────────────┐\n",
       "│ pitch_type ┆ next_pitch │\n",
       "│ ---        ┆ ---        │\n",
       "│ i64        ┆ i64        │\n",
       "╞════════════╪════════════╡\n",
       "│ 5          ┆ 1          │\n",
       "│ 1          ┆ 5          │\n",
       "│ 3          ┆ 1          │\n",
       "│ 5          ┆ 3          │\n",
       "│ 4          ┆ 5          │\n",
       "│ 1          ┆ 4          │\n",
       "│ 1          ┆ 1          │\n",
       "│ 1          ┆ 1          │\n",
       "│ 1          ┆ 1          │\n",
       "│ 3          ┆ 1          │\n",
       "│ 5          ┆ 3          │\n",
       "│ 1          ┆ 5          │\n",
       "│ 3          ┆ 1          │\n",
       "│ 1          ┆ 3          │\n",
       "│ 4          ┆ 1          │\n",
       "│ 5          ┆ 4          │\n",
       "│ 5          ┆ 5          │\n",
       "│ 6          ┆ 5          │\n",
       "│ 1          ┆ 6          │\n",
       "│ 1          ┆ 1          │\n",
       "└────────────┴────────────┘"
      ]
     },
     "execution_count": 22,
     "metadata": {},
     "output_type": "execute_result"
    }
   ],
   "source": [
    "df.select(pl.col([\"pitch_type\", \"next_pitch\"])).head(20)"
   ]
  },
  {
   "cell_type": "code",
   "execution_count": 7,
   "metadata": {},
   "outputs": [],
   "source": [
    "df = df.with_columns(\n",
    "    (pl.col(\"balls\").cast(pl.String) + \" - \" + pl.col(\"strikes\").cast(pl.String))\n",
    "    .alias(\"count\")\n",
    "    .cast(pl.Categorical)\n",
    "    .to_physical()\n",
    ")\n",
    "df = df.drop([\"balls\", \"strikes\"])"
   ]
  },
  {
   "cell_type": "code",
   "execution_count": 8,
   "metadata": {},
   "outputs": [
    {
     "name": "stdout",
     "output_type": "stream",
     "text": [
      "shape: (9, 2)\n",
      "┌────────────┬──────────┐\n",
      "│ statistic  ┆ count    │\n",
      "│ ---        ┆ ---      │\n",
      "│ str        ┆ f64      │\n",
      "╞════════════╪══════════╡\n",
      "│ count      ┆ 39819.0  │\n",
      "│ null_count ┆ 0.0      │\n",
      "│ mean       ┆ 3.484091 │\n",
      "│ std        ┆ 3.230247 │\n",
      "│ min        ┆ 0.0      │\n",
      "│ 25%        ┆ 0.0      │\n",
      "│ 50%        ┆ 3.0      │\n",
      "│ 75%        ┆ 6.0      │\n",
      "│ max        ┆ 11.0     │\n",
      "└────────────┴──────────┘\n"
     ]
    },
    {
     "data": {
      "text/html": [
       "<div><style>\n",
       ".dataframe > thead > tr,\n",
       ".dataframe > tbody > tr {\n",
       "  text-align: right;\n",
       "  white-space: pre-wrap;\n",
       "}\n",
       "</style>\n",
       "<small>shape: (5, 51)</small><table border=\"1\" class=\"dataframe\"><thead><tr><th>pitch_type</th><th>game_date</th><th>release_speed</th><th>release_pos_x</th><th>release_pos_z</th><th>player_name</th><th>batter</th><th>pitcher</th><th>stand</th><th>type</th><th>hit_location</th><th>bb_type</th><th>on_3b</th><th>on_2b</th><th>on_1b</th><th>outs_when_up</th><th>inning</th><th>hc_x</th><th>hc_y</th><th>ax</th><th>ay</th><th>az</th><th>hit_distance_sc</th><th>launch_speed</th><th>launch_angle</th><th>release_spin_rate</th><th>release_extension</th><th>game_pk</th><th>release_pos_y</th><th>estimated_ba_using_speedangle</th><th>estimated_woba_using_speedangle</th><th>woba_value</th><th>woba_denom</th><th>babip_value</th><th>iso_value</th><th>launch_speed_angle</th><th>at_bat_number</th><th>pitch_number</th><th>bat_score</th><th>fld_score</th><th>post_away_score</th><th>post_home_score</th><th>post_bat_score</th><th>post_fld_score</th><th>spin_axis</th><th>delta_home_win_exp</th><th>delta_run_exp</th><th>bat_speed</th><th>swing_length</th><th>next_pitch</th><th>count</th></tr><tr><td>u32</td><td>datetime[μs]</td><td>f64</td><td>f64</td><td>f64</td><td>str</td><td>i64</td><td>i64</td><td>u32</td><td>u32</td><td>f64</td><td>u32</td><td>f64</td><td>f64</td><td>f64</td><td>i64</td><td>i64</td><td>f64</td><td>f64</td><td>f64</td><td>f64</td><td>f64</td><td>f64</td><td>f64</td><td>f64</td><td>f64</td><td>f64</td><td>i64</td><td>f64</td><td>f64</td><td>f64</td><td>f64</td><td>f64</td><td>f64</td><td>f64</td><td>f64</td><td>i64</td><td>i64</td><td>i64</td><td>i64</td><td>i64</td><td>i64</td><td>i64</td><td>i64</td><td>f64</td><td>f64</td><td>f64</td><td>f64</td><td>f64</td><td>u32</td><td>u32</td></tr></thead><tbody><tr><td>1</td><td>2021-03-16 00:00:00</td><td>93.0</td><td>-1.94</td><td>5.32</td><td>&quot;Nola, Aaron&quot;</td><td>543807</td><td>605400</td><td>1</td><td>1</td><td>null</td><td>null</td><td>null</td><td>null</td><td>null</td><td>0</td><td>1</td><td>null</td><td>null</td><td>-12.348547</td><td>30.73969</td><td>-16.651987</td><td>170.0</td><td>91.9</td><td>65.0</td><td>2227.0</td><td>6.9</td><td>641572</td><td>53.58</td><td>null</td><td>null</td><td>null</td><td>null</td><td>null</td><td>null</td><td>null</td><td>1</td><td>1</td><td>0</td><td>0</td><td>0</td><td>0</td><td>0</td><td>0</td><td>231.0</td><td>0.0</td><td>null</td><td>null</td><td>null</td><td>5</td><td>0</td></tr><tr><td>5</td><td>2021-03-16 00:00:00</td><td>83.5</td><td>-2.0</td><td>5.26</td><td>&quot;Nola, Aaron&quot;</td><td>543807</td><td>605400</td><td>1</td><td>1</td><td>null</td><td>null</td><td>null</td><td>null</td><td>null</td><td>0</td><td>1</td><td>null</td><td>null</td><td>-14.455206</td><td>25.331797</td><td>-31.088718</td><td>null</td><td>null</td><td>null</td><td>1398.0</td><td>6.5</td><td>641572</td><td>53.98</td><td>null</td><td>null</td><td>null</td><td>null</td><td>null</td><td>null</td><td>null</td><td>1</td><td>2</td><td>0</td><td>0</td><td>0</td><td>0</td><td>0</td><td>0</td><td>256.0</td><td>0.0</td><td>null</td><td>null</td><td>null</td><td>1</td><td>1</td></tr><tr><td>1</td><td>2021-03-16 00:00:00</td><td>93.9</td><td>-1.89</td><td>5.3</td><td>&quot;Nola, Aaron&quot;</td><td>543807</td><td>605400</td><td>1</td><td>2</td><td>null</td><td>null</td><td>null</td><td>null</td><td>null</td><td>0</td><td>1</td><td>null</td><td>null</td><td>-13.677609</td><td>29.965809</td><td>-15.211607</td><td>null</td><td>null</td><td>null</td><td>2175.0</td><td>7.0</td><td>641572</td><td>53.52</td><td>null</td><td>null</td><td>null</td><td>null</td><td>null</td><td>null</td><td>null</td><td>1</td><td>3</td><td>0</td><td>0</td><td>0</td><td>0</td><td>0</td><td>0</td><td>228.0</td><td>0.0</td><td>null</td><td>null</td><td>null</td><td>3</td><td>2</td></tr><tr><td>3</td><td>2021-03-16 00:00:00</td><td>79.6</td><td>-1.92</td><td>5.42</td><td>&quot;Nola, Aaron&quot;</td><td>543807</td><td>605400</td><td>1</td><td>2</td><td>null</td><td>null</td><td>null</td><td>null</td><td>null</td><td>0</td><td>1</td><td>null</td><td>null</td><td>9.351337</td><td>24.548919</td><td>-39.815268</td><td>null</td><td>null</td><td>null</td><td>2603.0</td><td>6.6</td><td>641572</td><td>53.89</td><td>null</td><td>null</td><td>null</td><td>null</td><td>null</td><td>null</td><td>null</td><td>1</td><td>4</td><td>0</td><td>0</td><td>0</td><td>0</td><td>0</td><td>0</td><td>52.0</td><td>0.0</td><td>null</td><td>null</td><td>null</td><td>5</td><td>3</td></tr><tr><td>5</td><td>2021-03-16 00:00:00</td><td>83.8</td><td>-2.08</td><td>5.26</td><td>&quot;Nola, Aaron&quot;</td><td>543807</td><td>605400</td><td>1</td><td>1</td><td>null</td><td>null</td><td>null</td><td>null</td><td>null</td><td>0</td><td>1</td><td>null</td><td>null</td><td>-13.566679</td><td>23.380459</td><td>-33.125139</td><td>7.0</td><td>93.4</td><td>-18.0</td><td>1382.0</td><td>6.6</td><td>641572</td><td>53.9</td><td>null</td><td>null</td><td>null</td><td>null</td><td>null</td><td>null</td><td>null</td><td>1</td><td>5</td><td>0</td><td>0</td><td>0</td><td>0</td><td>0</td><td>0</td><td>255.0</td><td>0.0</td><td>null</td><td>null</td><td>null</td><td>4</td><td>4</td></tr></tbody></table></div>"
      ],
      "text/plain": [
       "shape: (5, 51)\n",
       "┌────────────┬────────────┬────────────┬───────────┬───┬───────────┬───────────┬───────────┬───────┐\n",
       "│ pitch_type ┆ game_date  ┆ release_sp ┆ release_p ┆ … ┆ bat_speed ┆ swing_len ┆ next_pitc ┆ count │\n",
       "│ ---        ┆ ---        ┆ eed        ┆ os_x      ┆   ┆ ---       ┆ gth       ┆ h         ┆ ---   │\n",
       "│ u32        ┆ datetime[μ ┆ ---        ┆ ---       ┆   ┆ f64       ┆ ---       ┆ ---       ┆ u32   │\n",
       "│            ┆ s]         ┆ f64        ┆ f64       ┆   ┆           ┆ f64       ┆ u32       ┆       │\n",
       "╞════════════╪════════════╪════════════╪═══════════╪═══╪═══════════╪═══════════╪═══════════╪═══════╡\n",
       "│ 1          ┆ 2021-03-16 ┆ 93.0       ┆ -1.94     ┆ … ┆ null      ┆ null      ┆ 5         ┆ 0     │\n",
       "│            ┆ 00:00:00   ┆            ┆           ┆   ┆           ┆           ┆           ┆       │\n",
       "│ 5          ┆ 2021-03-16 ┆ 83.5       ┆ -2.0      ┆ … ┆ null      ┆ null      ┆ 1         ┆ 1     │\n",
       "│            ┆ 00:00:00   ┆            ┆           ┆   ┆           ┆           ┆           ┆       │\n",
       "│ 1          ┆ 2021-03-16 ┆ 93.9       ┆ -1.89     ┆ … ┆ null      ┆ null      ┆ 3         ┆ 2     │\n",
       "│            ┆ 00:00:00   ┆            ┆           ┆   ┆           ┆           ┆           ┆       │\n",
       "│ 3          ┆ 2021-03-16 ┆ 79.6       ┆ -1.92     ┆ … ┆ null      ┆ null      ┆ 5         ┆ 3     │\n",
       "│            ┆ 00:00:00   ┆            ┆           ┆   ┆           ┆           ┆           ┆       │\n",
       "│ 5          ┆ 2021-03-16 ┆ 83.8       ┆ -2.08     ┆ … ┆ null      ┆ null      ┆ 4         ┆ 4     │\n",
       "│            ┆ 00:00:00   ┆            ┆           ┆   ┆           ┆           ┆           ┆       │\n",
       "└────────────┴────────────┴────────────┴───────────┴───┴───────────┴───────────┴───────────┴───────┘"
      ]
     },
     "execution_count": 8,
     "metadata": {},
     "output_type": "execute_result"
    }
   ],
   "source": [
    "print(df.select(\"count\").describe())\n",
    "df.head()\n"
   ]
  },
  {
   "cell_type": "code",
   "execution_count": 9,
   "metadata": {},
   "outputs": [],
   "source": [
    "df = df.with_columns(df.select([\"on_1b\", \"on_2b\", \"on_3b\"]).fill_null(-1))\n",
    "df = df.with_columns(\n",
    "    pl.col(\"on_1b\")\n",
    "    .map_elements(lambda s: 0 if s == -1.0 else 1, return_dtype=pl.Int32)\n",
    "    .alias(\"on_1b\"),\n",
    "    pl.col(\"on_2b\")\n",
    "    .map_elements(lambda s: 0 if s == -1.0 else 1, return_dtype=pl.Int32)\n",
    "    .alias(\"on_2b\"),\n",
    "    pl.col(\"on_3b\")\n",
    "    .map_elements(lambda s: 0 if s == -1.0 else 1, return_dtype=pl.Int32)\n",
    "    .alias(\"on_3b\"),\n",
    ")\n",
    "df = df.with_columns(\n",
    "    (\n",
    "        pl.col(\"on_1b\").cast(pl.String)\n",
    "        + \"/\"\n",
    "        + pl.col(\"on_2b\").cast(pl.String)\n",
    "        + \"/\"\n",
    "        + pl.col(\"on_3b\").cast(pl.String)\n",
    "    )\n",
    "    .alias(\"base_state\")\n",
    "    .cast(pl.Categorical)\n",
    "    .to_physical()\n",
    ")\n",
    "df = df.drop([\"on_1b\", \"on_2b\", \"on_3b\"])"
   ]
  },
  {
   "cell_type": "code",
   "execution_count": 10,
   "metadata": {},
   "outputs": [
    {
     "name": "stdout",
     "output_type": "stream",
     "text": [
      "shape: (9, 2)\n",
      "┌────────────┬────────────┐\n",
      "│ statistic  ┆ base_state │\n",
      "│ ---        ┆ ---        │\n",
      "│ str        ┆ f64        │\n",
      "╞════════════╪════════════╡\n",
      "│ count      ┆ 39819.0    │\n",
      "│ null_count ┆ 0.0        │\n",
      "│ mean       ┆ 0.94593    │\n",
      "│ std        ┆ 1.5139     │\n",
      "│ min        ┆ 0.0        │\n",
      "│ 25%        ┆ 0.0        │\n",
      "│ 50%        ┆ 0.0        │\n",
      "│ 75%        ┆ 2.0        │\n",
      "│ max        ┆ 7.0        │\n",
      "└────────────┴────────────┘\n"
     ]
    },
    {
     "data": {
      "text/html": [
       "<div><style>\n",
       ".dataframe > thead > tr,\n",
       ".dataframe > tbody > tr {\n",
       "  text-align: right;\n",
       "  white-space: pre-wrap;\n",
       "}\n",
       "</style>\n",
       "<small>shape: (5, 49)</small><table border=\"1\" class=\"dataframe\"><thead><tr><th>pitch_type</th><th>game_date</th><th>release_speed</th><th>release_pos_x</th><th>release_pos_z</th><th>player_name</th><th>batter</th><th>pitcher</th><th>stand</th><th>type</th><th>hit_location</th><th>bb_type</th><th>outs_when_up</th><th>inning</th><th>hc_x</th><th>hc_y</th><th>ax</th><th>ay</th><th>az</th><th>hit_distance_sc</th><th>launch_speed</th><th>launch_angle</th><th>release_spin_rate</th><th>release_extension</th><th>game_pk</th><th>release_pos_y</th><th>estimated_ba_using_speedangle</th><th>estimated_woba_using_speedangle</th><th>woba_value</th><th>woba_denom</th><th>babip_value</th><th>iso_value</th><th>launch_speed_angle</th><th>at_bat_number</th><th>pitch_number</th><th>bat_score</th><th>fld_score</th><th>post_away_score</th><th>post_home_score</th><th>post_bat_score</th><th>post_fld_score</th><th>spin_axis</th><th>delta_home_win_exp</th><th>delta_run_exp</th><th>bat_speed</th><th>swing_length</th><th>next_pitch</th><th>count</th><th>base_state</th></tr><tr><td>u32</td><td>datetime[μs]</td><td>f64</td><td>f64</td><td>f64</td><td>str</td><td>i64</td><td>i64</td><td>u32</td><td>u32</td><td>f64</td><td>u32</td><td>i64</td><td>i64</td><td>f64</td><td>f64</td><td>f64</td><td>f64</td><td>f64</td><td>f64</td><td>f64</td><td>f64</td><td>f64</td><td>f64</td><td>i64</td><td>f64</td><td>f64</td><td>f64</td><td>f64</td><td>f64</td><td>f64</td><td>f64</td><td>f64</td><td>i64</td><td>i64</td><td>i64</td><td>i64</td><td>i64</td><td>i64</td><td>i64</td><td>i64</td><td>f64</td><td>f64</td><td>f64</td><td>f64</td><td>f64</td><td>u32</td><td>u32</td><td>u32</td></tr></thead><tbody><tr><td>1</td><td>2021-03-16 00:00:00</td><td>93.0</td><td>-1.94</td><td>5.32</td><td>&quot;Nola, Aaron&quot;</td><td>543807</td><td>605400</td><td>1</td><td>1</td><td>null</td><td>null</td><td>0</td><td>1</td><td>null</td><td>null</td><td>-12.348547</td><td>30.73969</td><td>-16.651987</td><td>170.0</td><td>91.9</td><td>65.0</td><td>2227.0</td><td>6.9</td><td>641572</td><td>53.58</td><td>null</td><td>null</td><td>null</td><td>null</td><td>null</td><td>null</td><td>null</td><td>1</td><td>1</td><td>0</td><td>0</td><td>0</td><td>0</td><td>0</td><td>0</td><td>231.0</td><td>0.0</td><td>null</td><td>null</td><td>null</td><td>5</td><td>0</td><td>0</td></tr><tr><td>5</td><td>2021-03-16 00:00:00</td><td>83.5</td><td>-2.0</td><td>5.26</td><td>&quot;Nola, Aaron&quot;</td><td>543807</td><td>605400</td><td>1</td><td>1</td><td>null</td><td>null</td><td>0</td><td>1</td><td>null</td><td>null</td><td>-14.455206</td><td>25.331797</td><td>-31.088718</td><td>null</td><td>null</td><td>null</td><td>1398.0</td><td>6.5</td><td>641572</td><td>53.98</td><td>null</td><td>null</td><td>null</td><td>null</td><td>null</td><td>null</td><td>null</td><td>1</td><td>2</td><td>0</td><td>0</td><td>0</td><td>0</td><td>0</td><td>0</td><td>256.0</td><td>0.0</td><td>null</td><td>null</td><td>null</td><td>1</td><td>1</td><td>0</td></tr><tr><td>1</td><td>2021-03-16 00:00:00</td><td>93.9</td><td>-1.89</td><td>5.3</td><td>&quot;Nola, Aaron&quot;</td><td>543807</td><td>605400</td><td>1</td><td>2</td><td>null</td><td>null</td><td>0</td><td>1</td><td>null</td><td>null</td><td>-13.677609</td><td>29.965809</td><td>-15.211607</td><td>null</td><td>null</td><td>null</td><td>2175.0</td><td>7.0</td><td>641572</td><td>53.52</td><td>null</td><td>null</td><td>null</td><td>null</td><td>null</td><td>null</td><td>null</td><td>1</td><td>3</td><td>0</td><td>0</td><td>0</td><td>0</td><td>0</td><td>0</td><td>228.0</td><td>0.0</td><td>null</td><td>null</td><td>null</td><td>3</td><td>2</td><td>0</td></tr><tr><td>3</td><td>2021-03-16 00:00:00</td><td>79.6</td><td>-1.92</td><td>5.42</td><td>&quot;Nola, Aaron&quot;</td><td>543807</td><td>605400</td><td>1</td><td>2</td><td>null</td><td>null</td><td>0</td><td>1</td><td>null</td><td>null</td><td>9.351337</td><td>24.548919</td><td>-39.815268</td><td>null</td><td>null</td><td>null</td><td>2603.0</td><td>6.6</td><td>641572</td><td>53.89</td><td>null</td><td>null</td><td>null</td><td>null</td><td>null</td><td>null</td><td>null</td><td>1</td><td>4</td><td>0</td><td>0</td><td>0</td><td>0</td><td>0</td><td>0</td><td>52.0</td><td>0.0</td><td>null</td><td>null</td><td>null</td><td>5</td><td>3</td><td>0</td></tr><tr><td>5</td><td>2021-03-16 00:00:00</td><td>83.8</td><td>-2.08</td><td>5.26</td><td>&quot;Nola, Aaron&quot;</td><td>543807</td><td>605400</td><td>1</td><td>1</td><td>null</td><td>null</td><td>0</td><td>1</td><td>null</td><td>null</td><td>-13.566679</td><td>23.380459</td><td>-33.125139</td><td>7.0</td><td>93.4</td><td>-18.0</td><td>1382.0</td><td>6.6</td><td>641572</td><td>53.9</td><td>null</td><td>null</td><td>null</td><td>null</td><td>null</td><td>null</td><td>null</td><td>1</td><td>5</td><td>0</td><td>0</td><td>0</td><td>0</td><td>0</td><td>0</td><td>255.0</td><td>0.0</td><td>null</td><td>null</td><td>null</td><td>4</td><td>4</td><td>0</td></tr></tbody></table></div>"
      ],
      "text/plain": [
       "shape: (5, 49)\n",
       "┌────────────┬────────────┬────────────┬───────────┬───┬───────────┬───────────┬───────┬───────────┐\n",
       "│ pitch_type ┆ game_date  ┆ release_sp ┆ release_p ┆ … ┆ swing_len ┆ next_pitc ┆ count ┆ base_stat │\n",
       "│ ---        ┆ ---        ┆ eed        ┆ os_x      ┆   ┆ gth       ┆ h         ┆ ---   ┆ e         │\n",
       "│ u32        ┆ datetime[μ ┆ ---        ┆ ---       ┆   ┆ ---       ┆ ---       ┆ u32   ┆ ---       │\n",
       "│            ┆ s]         ┆ f64        ┆ f64       ┆   ┆ f64       ┆ u32       ┆       ┆ u32       │\n",
       "╞════════════╪════════════╪════════════╪═══════════╪═══╪═══════════╪═══════════╪═══════╪═══════════╡\n",
       "│ 1          ┆ 2021-03-16 ┆ 93.0       ┆ -1.94     ┆ … ┆ null      ┆ 5         ┆ 0     ┆ 0         │\n",
       "│            ┆ 00:00:00   ┆            ┆           ┆   ┆           ┆           ┆       ┆           │\n",
       "│ 5          ┆ 2021-03-16 ┆ 83.5       ┆ -2.0      ┆ … ┆ null      ┆ 1         ┆ 1     ┆ 0         │\n",
       "│            ┆ 00:00:00   ┆            ┆           ┆   ┆           ┆           ┆       ┆           │\n",
       "│ 1          ┆ 2021-03-16 ┆ 93.9       ┆ -1.89     ┆ … ┆ null      ┆ 3         ┆ 2     ┆ 0         │\n",
       "│            ┆ 00:00:00   ┆            ┆           ┆   ┆           ┆           ┆       ┆           │\n",
       "│ 3          ┆ 2021-03-16 ┆ 79.6       ┆ -1.92     ┆ … ┆ null      ┆ 5         ┆ 3     ┆ 0         │\n",
       "│            ┆ 00:00:00   ┆            ┆           ┆   ┆           ┆           ┆       ┆           │\n",
       "│ 5          ┆ 2021-03-16 ┆ 83.8       ┆ -2.08     ┆ … ┆ null      ┆ 4         ┆ 4     ┆ 0         │\n",
       "│            ┆ 00:00:00   ┆            ┆           ┆   ┆           ┆           ┆       ┆           │\n",
       "└────────────┴────────────┴────────────┴───────────┴───┴───────────┴───────────┴───────┴───────────┘"
      ]
     },
     "execution_count": 10,
     "metadata": {},
     "output_type": "execute_result"
    }
   ],
   "source": [
    "print(df.select(\"base_state\").describe())\n",
    "\n",
    "df.head()"
   ]
  },
  {
   "cell_type": "code",
   "execution_count": 11,
   "metadata": {},
   "outputs": [
    {
     "name": "stdout",
     "output_type": "stream",
     "text": [
      "(39819, 49)\n",
      "(39819, 33)\n"
     ]
    },
    {
     "data": {
      "text/html": [
       "<div><style>\n",
       ".dataframe > thead > tr,\n",
       ".dataframe > tbody > tr {\n",
       "  text-align: right;\n",
       "  white-space: pre-wrap;\n",
       "}\n",
       "</style>\n",
       "<small>shape: (5, 33)</small><table border=\"1\" class=\"dataframe\"><thead><tr><th>pitch_type</th><th>game_date</th><th>release_speed</th><th>release_pos_x</th><th>release_pos_z</th><th>player_name</th><th>batter</th><th>pitcher</th><th>stand</th><th>type</th><th>outs_when_up</th><th>inning</th><th>ax</th><th>ay</th><th>az</th><th>release_spin_rate</th><th>release_extension</th><th>game_pk</th><th>release_pos_y</th><th>at_bat_number</th><th>pitch_number</th><th>bat_score</th><th>fld_score</th><th>post_away_score</th><th>post_home_score</th><th>post_bat_score</th><th>post_fld_score</th><th>spin_axis</th><th>delta_home_win_exp</th><th>delta_run_exp</th><th>next_pitch</th><th>count</th><th>base_state</th></tr><tr><td>u32</td><td>datetime[μs]</td><td>f64</td><td>f64</td><td>f64</td><td>str</td><td>i64</td><td>i64</td><td>u32</td><td>u32</td><td>i64</td><td>i64</td><td>f64</td><td>f64</td><td>f64</td><td>f64</td><td>f64</td><td>i64</td><td>f64</td><td>i64</td><td>i64</td><td>i64</td><td>i64</td><td>i64</td><td>i64</td><td>i64</td><td>i64</td><td>f64</td><td>f64</td><td>f64</td><td>u32</td><td>u32</td><td>u32</td></tr></thead><tbody><tr><td>1</td><td>2021-03-16 00:00:00</td><td>93.0</td><td>-1.94</td><td>5.32</td><td>&quot;Nola, Aaron&quot;</td><td>543807</td><td>605400</td><td>1</td><td>1</td><td>0</td><td>1</td><td>-12.348547</td><td>30.73969</td><td>-16.651987</td><td>2227.0</td><td>6.9</td><td>641572</td><td>53.58</td><td>1</td><td>1</td><td>0</td><td>0</td><td>0</td><td>0</td><td>0</td><td>0</td><td>231.0</td><td>0.0</td><td>null</td><td>5</td><td>0</td><td>0</td></tr><tr><td>5</td><td>2021-03-16 00:00:00</td><td>83.5</td><td>-2.0</td><td>5.26</td><td>&quot;Nola, Aaron&quot;</td><td>543807</td><td>605400</td><td>1</td><td>1</td><td>0</td><td>1</td><td>-14.455206</td><td>25.331797</td><td>-31.088718</td><td>1398.0</td><td>6.5</td><td>641572</td><td>53.98</td><td>1</td><td>2</td><td>0</td><td>0</td><td>0</td><td>0</td><td>0</td><td>0</td><td>256.0</td><td>0.0</td><td>null</td><td>1</td><td>1</td><td>0</td></tr><tr><td>1</td><td>2021-03-16 00:00:00</td><td>93.9</td><td>-1.89</td><td>5.3</td><td>&quot;Nola, Aaron&quot;</td><td>543807</td><td>605400</td><td>1</td><td>2</td><td>0</td><td>1</td><td>-13.677609</td><td>29.965809</td><td>-15.211607</td><td>2175.0</td><td>7.0</td><td>641572</td><td>53.52</td><td>1</td><td>3</td><td>0</td><td>0</td><td>0</td><td>0</td><td>0</td><td>0</td><td>228.0</td><td>0.0</td><td>null</td><td>3</td><td>2</td><td>0</td></tr><tr><td>3</td><td>2021-03-16 00:00:00</td><td>79.6</td><td>-1.92</td><td>5.42</td><td>&quot;Nola, Aaron&quot;</td><td>543807</td><td>605400</td><td>1</td><td>2</td><td>0</td><td>1</td><td>9.351337</td><td>24.548919</td><td>-39.815268</td><td>2603.0</td><td>6.6</td><td>641572</td><td>53.89</td><td>1</td><td>4</td><td>0</td><td>0</td><td>0</td><td>0</td><td>0</td><td>0</td><td>52.0</td><td>0.0</td><td>null</td><td>5</td><td>3</td><td>0</td></tr><tr><td>5</td><td>2021-03-16 00:00:00</td><td>83.8</td><td>-2.08</td><td>5.26</td><td>&quot;Nola, Aaron&quot;</td><td>543807</td><td>605400</td><td>1</td><td>1</td><td>0</td><td>1</td><td>-13.566679</td><td>23.380459</td><td>-33.125139</td><td>1382.0</td><td>6.6</td><td>641572</td><td>53.9</td><td>1</td><td>5</td><td>0</td><td>0</td><td>0</td><td>0</td><td>0</td><td>0</td><td>255.0</td><td>0.0</td><td>null</td><td>4</td><td>4</td><td>0</td></tr></tbody></table></div>"
      ],
      "text/plain": [
       "shape: (5, 33)\n",
       "┌────────────┬────────────┬────────────┬───────────┬───┬───────────┬───────────┬───────┬───────────┐\n",
       "│ pitch_type ┆ game_date  ┆ release_sp ┆ release_p ┆ … ┆ delta_run ┆ next_pitc ┆ count ┆ base_stat │\n",
       "│ ---        ┆ ---        ┆ eed        ┆ os_x      ┆   ┆ _exp      ┆ h         ┆ ---   ┆ e         │\n",
       "│ u32        ┆ datetime[μ ┆ ---        ┆ ---       ┆   ┆ ---       ┆ ---       ┆ u32   ┆ ---       │\n",
       "│            ┆ s]         ┆ f64        ┆ f64       ┆   ┆ f64       ┆ u32       ┆       ┆ u32       │\n",
       "╞════════════╪════════════╪════════════╪═══════════╪═══╪═══════════╪═══════════╪═══════╪═══════════╡\n",
       "│ 1          ┆ 2021-03-16 ┆ 93.0       ┆ -1.94     ┆ … ┆ null      ┆ 5         ┆ 0     ┆ 0         │\n",
       "│            ┆ 00:00:00   ┆            ┆           ┆   ┆           ┆           ┆       ┆           │\n",
       "│ 5          ┆ 2021-03-16 ┆ 83.5       ┆ -2.0      ┆ … ┆ null      ┆ 1         ┆ 1     ┆ 0         │\n",
       "│            ┆ 00:00:00   ┆            ┆           ┆   ┆           ┆           ┆       ┆           │\n",
       "│ 1          ┆ 2021-03-16 ┆ 93.9       ┆ -1.89     ┆ … ┆ null      ┆ 3         ┆ 2     ┆ 0         │\n",
       "│            ┆ 00:00:00   ┆            ┆           ┆   ┆           ┆           ┆       ┆           │\n",
       "│ 3          ┆ 2021-03-16 ┆ 79.6       ┆ -1.92     ┆ … ┆ null      ┆ 5         ┆ 3     ┆ 0         │\n",
       "│            ┆ 00:00:00   ┆            ┆           ┆   ┆           ┆           ┆       ┆           │\n",
       "│ 5          ┆ 2021-03-16 ┆ 83.8       ┆ -2.08     ┆ … ┆ null      ┆ 4         ┆ 4     ┆ 0         │\n",
       "│            ┆ 00:00:00   ┆            ┆           ┆   ┆           ┆           ┆       ┆           │\n",
       "└────────────┴────────────┴────────────┴───────────┴───┴───────────┴───────────┴───────┴───────────┘"
      ]
     },
     "execution_count": 11,
     "metadata": {},
     "output_type": "execute_result"
    }
   ],
   "source": [
    "print(df.shape)\n",
    "\n",
    "# # find columns with null percentage > 10%\n",
    "# # Calculate null percentages for all columns\n",
    "# null_percentages = df.select(pl.all().is_null().sum() / df.height)\n",
    "\n",
    "# # Filter columns where null percentage > 10%\n",
    "# columns_with_too_many_nulls = (\n",
    "#     null_percentages.melt().filter(pl.col(\"value\") > 0.1).select(\"variable\")\n",
    "# )\n",
    "\n",
    "# print(\"Columns with >10% null values:\")\n",
    "# print(columns_with_too_many_nulls)\n",
    "\n",
    "# drop columns with too many nulls\n",
    "df = df.drop(\n",
    "    df.select(pl.all().is_null().sum() / df.height)\n",
    "    .unpivot()\n",
    "    .filter(pl.col(\"value\") > 0.05)\n",
    "    .select(\"variable\")\n",
    "    .to_series()\n",
    "    .to_list()\n",
    ")\n",
    "print(df.shape)\n",
    "df.head()"
   ]
  },
  {
   "cell_type": "code",
   "execution_count": 12,
   "metadata": {},
   "outputs": [
    {
     "data": {
      "text/html": [
       "<div><style>\n",
       ".dataframe > thead > tr,\n",
       ".dataframe > tbody > tr {\n",
       "  text-align: right;\n",
       "  white-space: pre-wrap;\n",
       "}\n",
       "</style>\n",
       "<small>shape: (5, 33)</small><table border=\"1\" class=\"dataframe\"><thead><tr><th>pitch_type</th><th>game_date</th><th>release_speed</th><th>release_pos_x</th><th>release_pos_z</th><th>player_name</th><th>batter</th><th>pitcher</th><th>stand</th><th>type</th><th>outs_when_up</th><th>inning</th><th>ax</th><th>ay</th><th>az</th><th>release_spin_rate</th><th>release_extension</th><th>game_pk</th><th>release_pos_y</th><th>at_bat_number</th><th>pitch_number</th><th>bat_score</th><th>fld_score</th><th>post_away_score</th><th>post_home_score</th><th>post_bat_score</th><th>post_fld_score</th><th>spin_axis</th><th>delta_home_win_exp</th><th>delta_run_exp</th><th>next_pitch</th><th>count</th><th>base_state</th></tr><tr><td>u32</td><td>datetime[μs]</td><td>f64</td><td>f64</td><td>f64</td><td>str</td><td>i64</td><td>i64</td><td>u32</td><td>u32</td><td>i64</td><td>i64</td><td>f64</td><td>f64</td><td>f64</td><td>f64</td><td>f64</td><td>i64</td><td>f64</td><td>i64</td><td>i64</td><td>i64</td><td>i64</td><td>i64</td><td>i64</td><td>i64</td><td>i64</td><td>f64</td><td>f64</td><td>f64</td><td>u32</td><td>u32</td><td>u32</td></tr></thead><tbody><tr><td>1</td><td>2021-03-16 00:00:00</td><td>93.0</td><td>-1.94</td><td>5.32</td><td>&quot;Nola, Aaron&quot;</td><td>543807</td><td>605400</td><td>1</td><td>1</td><td>0</td><td>1</td><td>-12.348547</td><td>30.73969</td><td>-16.651987</td><td>2227.0</td><td>6.9</td><td>641572</td><td>53.58</td><td>1</td><td>1</td><td>0</td><td>0</td><td>0</td><td>0</td><td>0</td><td>0</td><td>231.0</td><td>0.0</td><td>null</td><td>5</td><td>0</td><td>0</td></tr><tr><td>5</td><td>2021-03-16 00:00:00</td><td>83.5</td><td>-2.0</td><td>5.26</td><td>&quot;Nola, Aaron&quot;</td><td>543807</td><td>605400</td><td>1</td><td>1</td><td>0</td><td>1</td><td>-14.455206</td><td>25.331797</td><td>-31.088718</td><td>1398.0</td><td>6.5</td><td>641572</td><td>53.98</td><td>1</td><td>2</td><td>0</td><td>0</td><td>0</td><td>0</td><td>0</td><td>0</td><td>256.0</td><td>0.0</td><td>null</td><td>1</td><td>1</td><td>0</td></tr><tr><td>1</td><td>2021-03-16 00:00:00</td><td>93.9</td><td>-1.89</td><td>5.3</td><td>&quot;Nola, Aaron&quot;</td><td>543807</td><td>605400</td><td>1</td><td>2</td><td>0</td><td>1</td><td>-13.677609</td><td>29.965809</td><td>-15.211607</td><td>2175.0</td><td>7.0</td><td>641572</td><td>53.52</td><td>1</td><td>3</td><td>0</td><td>0</td><td>0</td><td>0</td><td>0</td><td>0</td><td>228.0</td><td>0.0</td><td>null</td><td>3</td><td>2</td><td>0</td></tr><tr><td>3</td><td>2021-03-16 00:00:00</td><td>79.6</td><td>-1.92</td><td>5.42</td><td>&quot;Nola, Aaron&quot;</td><td>543807</td><td>605400</td><td>1</td><td>2</td><td>0</td><td>1</td><td>9.351337</td><td>24.548919</td><td>-39.815268</td><td>2603.0</td><td>6.6</td><td>641572</td><td>53.89</td><td>1</td><td>4</td><td>0</td><td>0</td><td>0</td><td>0</td><td>0</td><td>0</td><td>52.0</td><td>0.0</td><td>null</td><td>5</td><td>3</td><td>0</td></tr><tr><td>5</td><td>2021-03-16 00:00:00</td><td>83.8</td><td>-2.08</td><td>5.26</td><td>&quot;Nola, Aaron&quot;</td><td>543807</td><td>605400</td><td>1</td><td>1</td><td>0</td><td>1</td><td>-13.566679</td><td>23.380459</td><td>-33.125139</td><td>1382.0</td><td>6.6</td><td>641572</td><td>53.9</td><td>1</td><td>5</td><td>0</td><td>0</td><td>0</td><td>0</td><td>0</td><td>0</td><td>255.0</td><td>0.0</td><td>null</td><td>4</td><td>4</td><td>0</td></tr></tbody></table></div>"
      ],
      "text/plain": [
       "shape: (5, 33)\n",
       "┌────────────┬────────────┬────────────┬───────────┬───┬───────────┬───────────┬───────┬───────────┐\n",
       "│ pitch_type ┆ game_date  ┆ release_sp ┆ release_p ┆ … ┆ delta_run ┆ next_pitc ┆ count ┆ base_stat │\n",
       "│ ---        ┆ ---        ┆ eed        ┆ os_x      ┆   ┆ _exp      ┆ h         ┆ ---   ┆ e         │\n",
       "│ u32        ┆ datetime[μ ┆ ---        ┆ ---       ┆   ┆ ---       ┆ ---       ┆ u32   ┆ ---       │\n",
       "│            ┆ s]         ┆ f64        ┆ f64       ┆   ┆ f64       ┆ u32       ┆       ┆ u32       │\n",
       "╞════════════╪════════════╪════════════╪═══════════╪═══╪═══════════╪═══════════╪═══════╪═══════════╡\n",
       "│ 1          ┆ 2021-03-16 ┆ 93.0       ┆ -1.94     ┆ … ┆ null      ┆ 5         ┆ 0     ┆ 0         │\n",
       "│            ┆ 00:00:00   ┆            ┆           ┆   ┆           ┆           ┆       ┆           │\n",
       "│ 5          ┆ 2021-03-16 ┆ 83.5       ┆ -2.0      ┆ … ┆ null      ┆ 1         ┆ 1     ┆ 0         │\n",
       "│            ┆ 00:00:00   ┆            ┆           ┆   ┆           ┆           ┆       ┆           │\n",
       "│ 1          ┆ 2021-03-16 ┆ 93.9       ┆ -1.89     ┆ … ┆ null      ┆ 3         ┆ 2     ┆ 0         │\n",
       "│            ┆ 00:00:00   ┆            ┆           ┆   ┆           ┆           ┆       ┆           │\n",
       "│ 3          ┆ 2021-03-16 ┆ 79.6       ┆ -1.92     ┆ … ┆ null      ┆ 5         ┆ 3     ┆ 0         │\n",
       "│            ┆ 00:00:00   ┆            ┆           ┆   ┆           ┆           ┆       ┆           │\n",
       "│ 5          ┆ 2021-03-16 ┆ 83.8       ┆ -2.08     ┆ … ┆ null      ┆ 4         ┆ 4     ┆ 0         │\n",
       "│            ┆ 00:00:00   ┆            ┆           ┆   ┆           ┆           ┆       ┆           │\n",
       "└────────────┴────────────┴────────────┴───────────┴───┴───────────┴───────────┴───────┴───────────┘"
      ]
     },
     "execution_count": 12,
     "metadata": {},
     "output_type": "execute_result"
    }
   ],
   "source": [
    "# release point consistency feature\n",
    "\n",
    "\n",
    "df.head()"
   ]
  },
  {
   "cell_type": "code",
   "execution_count": 13,
   "metadata": {},
   "outputs": [],
   "source": [
    "# # Late inning pressure (boolean)\n",
    "# df = df.with_columns(\n",
    "#     ((pl.col(\"inning\") >= 7) & (pl.col(\"bat_score\") - pl.col(\"fld_score\")).abs() <= 3)\n",
    "#     .cast(pl.Int32)\n",
    "#     .alias(\"high_pressure\")\n",
    "# )\n",
    "\n",
    "# df.head()"
   ]
  },
  {
   "cell_type": "code",
   "execution_count": 14,
   "metadata": {},
   "outputs": [
    {
     "data": {
      "text/html": [
       "<div><style>\n",
       ".dataframe > thead > tr,\n",
       ".dataframe > tbody > tr {\n",
       "  text-align: right;\n",
       "  white-space: pre-wrap;\n",
       "}\n",
       "</style>\n",
       "<small>shape: (5, 33)</small><table border=\"1\" class=\"dataframe\"><thead><tr><th>pitch_type</th><th>game_date</th><th>release_speed</th><th>release_pos_x</th><th>release_pos_z</th><th>player_name</th><th>batter</th><th>pitcher</th><th>stand</th><th>type</th><th>outs_when_up</th><th>inning</th><th>ax</th><th>ay</th><th>az</th><th>release_spin_rate</th><th>release_extension</th><th>game_pk</th><th>release_pos_y</th><th>at_bat_number</th><th>pitch_number</th><th>bat_score</th><th>fld_score</th><th>post_away_score</th><th>post_home_score</th><th>post_bat_score</th><th>post_fld_score</th><th>spin_axis</th><th>delta_home_win_exp</th><th>delta_run_exp</th><th>next_pitch</th><th>count</th><th>base_state</th></tr><tr><td>u32</td><td>datetime[μs]</td><td>f64</td><td>f64</td><td>f64</td><td>str</td><td>i64</td><td>i64</td><td>u32</td><td>u32</td><td>i64</td><td>i64</td><td>f64</td><td>f64</td><td>f64</td><td>f64</td><td>f64</td><td>i64</td><td>f64</td><td>i64</td><td>i64</td><td>i64</td><td>i64</td><td>i64</td><td>i64</td><td>i64</td><td>i64</td><td>f64</td><td>f64</td><td>f64</td><td>u32</td><td>u32</td><td>u32</td></tr></thead><tbody><tr><td>1</td><td>2021-03-16 00:00:00</td><td>93.0</td><td>-1.94</td><td>5.32</td><td>&quot;Nola, Aaron&quot;</td><td>543807</td><td>605400</td><td>1</td><td>1</td><td>0</td><td>1</td><td>-12.348547</td><td>30.73969</td><td>-16.651987</td><td>2227.0</td><td>6.9</td><td>641572</td><td>53.58</td><td>1</td><td>1</td><td>0</td><td>0</td><td>0</td><td>0</td><td>0</td><td>0</td><td>231.0</td><td>0.0</td><td>null</td><td>5</td><td>0</td><td>0</td></tr><tr><td>5</td><td>2021-03-16 00:00:00</td><td>83.5</td><td>-2.0</td><td>5.26</td><td>&quot;Nola, Aaron&quot;</td><td>543807</td><td>605400</td><td>1</td><td>1</td><td>0</td><td>1</td><td>-14.455206</td><td>25.331797</td><td>-31.088718</td><td>1398.0</td><td>6.5</td><td>641572</td><td>53.98</td><td>1</td><td>2</td><td>0</td><td>0</td><td>0</td><td>0</td><td>0</td><td>0</td><td>256.0</td><td>0.0</td><td>null</td><td>1</td><td>1</td><td>0</td></tr><tr><td>1</td><td>2021-03-16 00:00:00</td><td>93.9</td><td>-1.89</td><td>5.3</td><td>&quot;Nola, Aaron&quot;</td><td>543807</td><td>605400</td><td>1</td><td>2</td><td>0</td><td>1</td><td>-13.677609</td><td>29.965809</td><td>-15.211607</td><td>2175.0</td><td>7.0</td><td>641572</td><td>53.52</td><td>1</td><td>3</td><td>0</td><td>0</td><td>0</td><td>0</td><td>0</td><td>0</td><td>228.0</td><td>0.0</td><td>null</td><td>3</td><td>2</td><td>0</td></tr><tr><td>3</td><td>2021-03-16 00:00:00</td><td>79.6</td><td>-1.92</td><td>5.42</td><td>&quot;Nola, Aaron&quot;</td><td>543807</td><td>605400</td><td>1</td><td>2</td><td>0</td><td>1</td><td>9.351337</td><td>24.548919</td><td>-39.815268</td><td>2603.0</td><td>6.6</td><td>641572</td><td>53.89</td><td>1</td><td>4</td><td>0</td><td>0</td><td>0</td><td>0</td><td>0</td><td>0</td><td>52.0</td><td>0.0</td><td>null</td><td>5</td><td>3</td><td>0</td></tr><tr><td>5</td><td>2021-03-16 00:00:00</td><td>83.8</td><td>-2.08</td><td>5.26</td><td>&quot;Nola, Aaron&quot;</td><td>543807</td><td>605400</td><td>1</td><td>1</td><td>0</td><td>1</td><td>-13.566679</td><td>23.380459</td><td>-33.125139</td><td>1382.0</td><td>6.6</td><td>641572</td><td>53.9</td><td>1</td><td>5</td><td>0</td><td>0</td><td>0</td><td>0</td><td>0</td><td>0</td><td>255.0</td><td>0.0</td><td>null</td><td>4</td><td>4</td><td>0</td></tr></tbody></table></div>"
      ],
      "text/plain": [
       "shape: (5, 33)\n",
       "┌────────────┬────────────┬────────────┬───────────┬───┬───────────┬───────────┬───────┬───────────┐\n",
       "│ pitch_type ┆ game_date  ┆ release_sp ┆ release_p ┆ … ┆ delta_run ┆ next_pitc ┆ count ┆ base_stat │\n",
       "│ ---        ┆ ---        ┆ eed        ┆ os_x      ┆   ┆ _exp      ┆ h         ┆ ---   ┆ e         │\n",
       "│ u32        ┆ datetime[μ ┆ ---        ┆ ---       ┆   ┆ ---       ┆ ---       ┆ u32   ┆ ---       │\n",
       "│            ┆ s]         ┆ f64        ┆ f64       ┆   ┆ f64       ┆ u32       ┆       ┆ u32       │\n",
       "╞════════════╪════════════╪════════════╪═══════════╪═══╪═══════════╪═══════════╪═══════╪═══════════╡\n",
       "│ 1          ┆ 2021-03-16 ┆ 93.0       ┆ -1.94     ┆ … ┆ null      ┆ 5         ┆ 0     ┆ 0         │\n",
       "│            ┆ 00:00:00   ┆            ┆           ┆   ┆           ┆           ┆       ┆           │\n",
       "│ 5          ┆ 2021-03-16 ┆ 83.5       ┆ -2.0      ┆ … ┆ null      ┆ 1         ┆ 1     ┆ 0         │\n",
       "│            ┆ 00:00:00   ┆            ┆           ┆   ┆           ┆           ┆       ┆           │\n",
       "│ 1          ┆ 2021-03-16 ┆ 93.9       ┆ -1.89     ┆ … ┆ null      ┆ 3         ┆ 2     ┆ 0         │\n",
       "│            ┆ 00:00:00   ┆            ┆           ┆   ┆           ┆           ┆       ┆           │\n",
       "│ 3          ┆ 2021-03-16 ┆ 79.6       ┆ -1.92     ┆ … ┆ null      ┆ 5         ┆ 3     ┆ 0         │\n",
       "│            ┆ 00:00:00   ┆            ┆           ┆   ┆           ┆           ┆       ┆           │\n",
       "│ 5          ┆ 2021-03-16 ┆ 83.8       ┆ -2.08     ┆ … ┆ null      ┆ 4         ┆ 4     ┆ 0         │\n",
       "│            ┆ 00:00:00   ┆            ┆           ┆   ┆           ┆           ┆       ┆           │\n",
       "└────────────┴────────────┴────────────┴───────────┴───┴───────────┴───────────┴───────┴───────────┘"
      ]
     },
     "execution_count": 14,
     "metadata": {},
     "output_type": "execute_result"
    }
   ],
   "source": [
    "def sort_pitch_data(df):\n",
    "    return df.sort(\n",
    "        [\n",
    "            \"game_date\",  # Primary: chronological order\n",
    "            \"game_pk\",  # Secondary: unique game identifier\n",
    "            \"inning\",  # Tertiary: game sequence\n",
    "            \"at_bat_number\",  # Game at-bat order\n",
    "            \"pitch_number\",  # At-bat pitch sequence\n",
    "        ],\n",
    "        descending=False,  # Ascending order for all\n",
    "    )\n",
    "\n",
    "\n",
    "df = sort_pitch_data(df)\n",
    "df.head()"
   ]
  },
  {
   "cell_type": "code",
   "execution_count": 15,
   "metadata": {},
   "outputs": [
    {
     "data": {
      "text/html": [
       "<div><style>\n",
       ".dataframe > thead > tr,\n",
       ".dataframe > tbody > tr {\n",
       "  text-align: right;\n",
       "  white-space: pre-wrap;\n",
       "}\n",
       "</style>\n",
       "<small>shape: (5, 33)</small><table border=\"1\" class=\"dataframe\"><thead><tr><th>pitch_type</th><th>game_date</th><th>release_speed</th><th>release_pos_x</th><th>release_pos_z</th><th>player_name</th><th>batter</th><th>pitcher</th><th>stand</th><th>type</th><th>outs_when_up</th><th>inning</th><th>ax</th><th>ay</th><th>az</th><th>release_spin_rate</th><th>release_extension</th><th>game_pk</th><th>release_pos_y</th><th>at_bat_number</th><th>pitch_number</th><th>bat_score</th><th>fld_score</th><th>post_away_score</th><th>post_home_score</th><th>post_bat_score</th><th>post_fld_score</th><th>spin_axis</th><th>delta_home_win_exp</th><th>delta_run_exp</th><th>next_pitch</th><th>count</th><th>base_state</th></tr><tr><td>u32</td><td>datetime[μs]</td><td>f64</td><td>f64</td><td>f64</td><td>str</td><td>i64</td><td>i64</td><td>u32</td><td>u32</td><td>i64</td><td>i64</td><td>f64</td><td>f64</td><td>f64</td><td>f64</td><td>f64</td><td>i64</td><td>f64</td><td>i64</td><td>i64</td><td>i64</td><td>i64</td><td>i64</td><td>i64</td><td>i64</td><td>i64</td><td>f64</td><td>f64</td><td>f64</td><td>u32</td><td>u32</td><td>u32</td></tr></thead><tbody><tr><td>1</td><td>2021-03-16 00:00:00</td><td>93.0</td><td>-1.94</td><td>5.32</td><td>&quot;Nola, Aaron&quot;</td><td>543807</td><td>605400</td><td>1</td><td>1</td><td>0</td><td>1</td><td>-12.348547</td><td>30.73969</td><td>-16.651987</td><td>2227.0</td><td>6.9</td><td>641572</td><td>53.58</td><td>1</td><td>1</td><td>0</td><td>0</td><td>0</td><td>0</td><td>0</td><td>0</td><td>231.0</td><td>0.0</td><td>null</td><td>5</td><td>0</td><td>0</td></tr><tr><td>5</td><td>2021-03-16 00:00:00</td><td>83.5</td><td>-2.0</td><td>5.26</td><td>&quot;Nola, Aaron&quot;</td><td>543807</td><td>605400</td><td>1</td><td>1</td><td>0</td><td>1</td><td>-14.455206</td><td>25.331797</td><td>-31.088718</td><td>1398.0</td><td>6.5</td><td>641572</td><td>53.98</td><td>1</td><td>2</td><td>0</td><td>0</td><td>0</td><td>0</td><td>0</td><td>0</td><td>256.0</td><td>0.0</td><td>null</td><td>1</td><td>1</td><td>0</td></tr><tr><td>1</td><td>2021-03-16 00:00:00</td><td>93.9</td><td>-1.89</td><td>5.3</td><td>&quot;Nola, Aaron&quot;</td><td>543807</td><td>605400</td><td>1</td><td>2</td><td>0</td><td>1</td><td>-13.677609</td><td>29.965809</td><td>-15.211607</td><td>2175.0</td><td>7.0</td><td>641572</td><td>53.52</td><td>1</td><td>3</td><td>0</td><td>0</td><td>0</td><td>0</td><td>0</td><td>0</td><td>228.0</td><td>0.0</td><td>null</td><td>3</td><td>2</td><td>0</td></tr><tr><td>3</td><td>2021-03-16 00:00:00</td><td>79.6</td><td>-1.92</td><td>5.42</td><td>&quot;Nola, Aaron&quot;</td><td>543807</td><td>605400</td><td>1</td><td>2</td><td>0</td><td>1</td><td>9.351337</td><td>24.548919</td><td>-39.815268</td><td>2603.0</td><td>6.6</td><td>641572</td><td>53.89</td><td>1</td><td>4</td><td>0</td><td>0</td><td>0</td><td>0</td><td>0</td><td>0</td><td>52.0</td><td>0.0</td><td>null</td><td>5</td><td>3</td><td>0</td></tr><tr><td>5</td><td>2021-03-16 00:00:00</td><td>83.8</td><td>-2.08</td><td>5.26</td><td>&quot;Nola, Aaron&quot;</td><td>543807</td><td>605400</td><td>1</td><td>1</td><td>0</td><td>1</td><td>-13.566679</td><td>23.380459</td><td>-33.125139</td><td>1382.0</td><td>6.6</td><td>641572</td><td>53.9</td><td>1</td><td>5</td><td>0</td><td>0</td><td>0</td><td>0</td><td>0</td><td>0</td><td>255.0</td><td>0.0</td><td>null</td><td>4</td><td>4</td><td>0</td></tr></tbody></table></div>"
      ],
      "text/plain": [
       "shape: (5, 33)\n",
       "┌────────────┬────────────┬────────────┬───────────┬───┬───────────┬───────────┬───────┬───────────┐\n",
       "│ pitch_type ┆ game_date  ┆ release_sp ┆ release_p ┆ … ┆ delta_run ┆ next_pitc ┆ count ┆ base_stat │\n",
       "│ ---        ┆ ---        ┆ eed        ┆ os_x      ┆   ┆ _exp      ┆ h         ┆ ---   ┆ e         │\n",
       "│ u32        ┆ datetime[μ ┆ ---        ┆ ---       ┆   ┆ ---       ┆ ---       ┆ u32   ┆ ---       │\n",
       "│            ┆ s]         ┆ f64        ┆ f64       ┆   ┆ f64       ┆ u32       ┆       ┆ u32       │\n",
       "╞════════════╪════════════╪════════════╪═══════════╪═══╪═══════════╪═══════════╪═══════╪═══════════╡\n",
       "│ 1          ┆ 2021-03-16 ┆ 93.0       ┆ -1.94     ┆ … ┆ null      ┆ 5         ┆ 0     ┆ 0         │\n",
       "│            ┆ 00:00:00   ┆            ┆           ┆   ┆           ┆           ┆       ┆           │\n",
       "│ 5          ┆ 2021-03-16 ┆ 83.5       ┆ -2.0      ┆ … ┆ null      ┆ 1         ┆ 1     ┆ 0         │\n",
       "│            ┆ 00:00:00   ┆            ┆           ┆   ┆           ┆           ┆       ┆           │\n",
       "│ 1          ┆ 2021-03-16 ┆ 93.9       ┆ -1.89     ┆ … ┆ null      ┆ 3         ┆ 2     ┆ 0         │\n",
       "│            ┆ 00:00:00   ┆            ┆           ┆   ┆           ┆           ┆       ┆           │\n",
       "│ 3          ┆ 2021-03-16 ┆ 79.6       ┆ -1.92     ┆ … ┆ null      ┆ 5         ┆ 3     ┆ 0         │\n",
       "│            ┆ 00:00:00   ┆            ┆           ┆   ┆           ┆           ┆       ┆           │\n",
       "│ 5          ┆ 2021-03-16 ┆ 83.8       ┆ -2.08     ┆ … ┆ null      ┆ 4         ┆ 4     ┆ 0         │\n",
       "│            ┆ 00:00:00   ┆            ┆           ┆   ┆           ┆           ┆       ┆           │\n",
       "└────────────┴────────────┴────────────┴───────────┴───┴───────────┴───────────┴───────┴───────────┘"
      ]
     },
     "execution_count": 15,
     "metadata": {},
     "output_type": "execute_result"
    }
   ],
   "source": [
    "df.head()"
   ]
  },
  {
   "cell_type": "code",
   "execution_count": 16,
   "metadata": {},
   "outputs": [
    {
     "name": "stdout",
     "output_type": "stream",
     "text": [
      "39819\n"
     ]
    }
   ],
   "source": [
    "print(df.height)\n",
    "filtered = []\n",
    "for pitcher_df in df.group_by(\"pitcher\"):\n",
    "    pitcher_code = pitcher_df[0]\n",
    "    pitcher_df = pitcher_df[1]\n",
    "    val_counts = (\n",
    "        pitcher_df.select(\n",
    "            pl.col(\"pitch_type\").value_counts(normalize=True).alias(\"pitch_type_counts\")\n",
    "        )\n",
    "        .unnest(\"pitch_type_counts\")\n",
    "        .sort(\"proportion\", descending=True)\n",
    "    )\n",
    "\n",
    "    # Get pitch types with proportion < 0.01\n",
    "    low_prop_pitches = (\n",
    "        val_counts.filter(pl.col(\"proportion\") < 0.01)[\"pitch_type\"].unique().to_list()\n",
    "    )\n",
    "\n",
    "    # Filter out those pitch types\n",
    "    pitcher_df = pitcher_df.filter(~pl.col(\"pitch_type\").is_in(low_prop_pitches))\n",
    "\n",
    "    # combine back to main df\n",
    "    filtered.append(pitcher_df)\n",
    "# combine back to one df\n",
    "df = pl.concat(filtered)"
   ]
  },
  {
   "cell_type": "code",
   "execution_count": 19,
   "metadata": {},
   "outputs": [],
   "source": [
    "batting_df = pb.batting_stats_bref(params[\"clean\"][\"start_year\"])\n",
    "player_ids = list(df.select(\"batter\").unique().to_pandas()[\"batter\"])\n",
    "batting_df = pl.DataFrame(batting_df[batting_df[\"mlbID\"].isin(player_ids)])\n",
    "batting_df = batting_df.drop(\n",
    "    [\n",
    "        \"Name\",\n",
    "        \"Age\",\n",
    "        \"#days\",\n",
    "        \"Lev\",\n",
    "        \"Tm\",\n",
    "        \"G\",\n",
    "        \"PA\",\n",
    "        \"AB\",\n",
    "        \"SO\",\n",
    "        \"HBP\",\n",
    "        \"SH\",\n",
    "        \"SF\",\n",
    "        \"SB\",\n",
    "        \"CS\",\n",
    "    ]\n",
    ")\n",
    "df = df.join(batting_df, left_on=\"batter\", right_on=\"mlbID\", how=\"left\")\n",
    "\n",
    "df = df.fill_null(-1)\n",
    "df = df.fill_nan(-1)"
   ]
  },
  {
   "cell_type": "code",
   "execution_count": 20,
   "metadata": {},
   "outputs": [
    {
     "data": {
      "text/html": [
       "<div><style>\n",
       ".dataframe > thead > tr,\n",
       ".dataframe > tbody > tr {\n",
       "  text-align: right;\n",
       "  white-space: pre-wrap;\n",
       "}\n",
       "</style>\n",
       "<small>shape: (20, 46)</small><table border=\"1\" class=\"dataframe\"><thead><tr><th>pitch_type</th><th>game_date</th><th>release_speed</th><th>release_pos_x</th><th>release_pos_z</th><th>player_name</th><th>batter</th><th>pitcher</th><th>stand</th><th>type</th><th>outs_when_up</th><th>inning</th><th>ax</th><th>ay</th><th>az</th><th>release_spin_rate</th><th>release_extension</th><th>game_pk</th><th>release_pos_y</th><th>at_bat_number</th><th>pitch_number</th><th>bat_score</th><th>fld_score</th><th>post_away_score</th><th>post_home_score</th><th>post_bat_score</th><th>post_fld_score</th><th>spin_axis</th><th>delta_home_win_exp</th><th>delta_run_exp</th><th>next_pitch</th><th>count</th><th>base_state</th><th>R</th><th>H</th><th>2B</th><th>3B</th><th>HR</th><th>RBI</th><th>BB</th><th>IBB</th><th>GDP</th><th>BA</th><th>OBP</th><th>SLG</th><th>OPS</th></tr><tr><td>i64</td><td>datetime[μs]</td><td>f64</td><td>f64</td><td>f64</td><td>str</td><td>i64</td><td>i64</td><td>i64</td><td>i64</td><td>i64</td><td>i64</td><td>f64</td><td>f64</td><td>f64</td><td>f64</td><td>f64</td><td>i64</td><td>f64</td><td>i64</td><td>i64</td><td>i64</td><td>i64</td><td>i64</td><td>i64</td><td>i64</td><td>i64</td><td>f64</td><td>f64</td><td>f64</td><td>i64</td><td>i64</td><td>i64</td><td>i64</td><td>i64</td><td>i64</td><td>i64</td><td>i64</td><td>i64</td><td>i64</td><td>i64</td><td>i64</td><td>f64</td><td>f64</td><td>f64</td><td>f64</td></tr></thead><tbody><tr><td>1</td><td>2021-03-30 00:00:00</td><td>96.7</td><td>-1.44</td><td>6.41</td><td>&quot;Cease, Dylan&quot;</td><td>606132</td><td>656302</td><td>0</td><td>1</td><td>0</td><td>1</td><td>-2.673928</td><td>31.850791</td><td>-8.134448</td><td>2600.0</td><td>6.1</td><td>644215</td><td>54.41</td><td>4</td><td>1</td><td>0</td><td>0</td><td>0</td><td>0</td><td>0</td><td>0</td><td>197.0</td><td>0.0</td><td>-1.0</td><td>3</td><td>0</td><td>0</td><td>69</td><td>133</td><td>26</td><td>2</td><td>6</td><td>50</td><td>40</td><td>2</td><td>8</td><td>0.273</td><td>0.327</td><td>0.372</td><td>0.699</td></tr><tr><td>3</td><td>2021-03-30 00:00:00</td><td>79.0</td><td>-1.44</td><td>6.17</td><td>&quot;Cease, Dylan&quot;</td><td>606132</td><td>656302</td><td>0</td><td>1</td><td>0</td><td>1</td><td>3.914717</td><td>25.42844</td><td>-46.225336</td><td>2759.0</td><td>5.8</td><td>644215</td><td>54.67</td><td>4</td><td>2</td><td>0</td><td>0</td><td>0</td><td>0</td><td>0</td><td>0</td><td>21.0</td><td>0.0</td><td>-1.0</td><td>3</td><td>1</td><td>0</td><td>69</td><td>133</td><td>26</td><td>2</td><td>6</td><td>50</td><td>40</td><td>2</td><td>8</td><td>0.273</td><td>0.327</td><td>0.372</td><td>0.699</td></tr><tr><td>3</td><td>2021-03-30 00:00:00</td><td>79.4</td><td>-1.4</td><td>6.24</td><td>&quot;Cease, Dylan&quot;</td><td>606132</td><td>656302</td><td>0</td><td>1</td><td>0</td><td>1</td><td>4.952816</td><td>24.615149</td><td>-46.935868</td><td>2814.0</td><td>6.0</td><td>644215</td><td>54.54</td><td>4</td><td>3</td><td>0</td><td>0</td><td>0</td><td>0</td><td>0</td><td>0</td><td>26.0</td><td>-0.025</td><td>-1.0</td><td>1</td><td>2</td><td>0</td><td>69</td><td>133</td><td>26</td><td>2</td><td>6</td><td>50</td><td>40</td><td>2</td><td>8</td><td>0.273</td><td>0.327</td><td>0.372</td><td>0.699</td></tr><tr><td>1</td><td>2021-03-30 00:00:00</td><td>97.6</td><td>-1.23</td><td>6.36</td><td>&quot;Cease, Dylan&quot;</td><td>658069</td><td>656302</td><td>1</td><td>1</td><td>1</td><td>1</td><td>-11.212693</td><td>29.99058</td><td>-10.538991</td><td>2474.0</td><td>6.0</td><td>644215</td><td>54.51</td><td>5</td><td>1</td><td>0</td><td>0</td><td>0</td><td>0</td><td>0</td><td>0</td><td>199.0</td><td>0.0</td><td>-1.0</td><td>3</td><td>0</td><td>0</td><td>30</td><td>61</td><td>11</td><td>1</td><td>7</td><td>33</td><td>12</td><td>1</td><td>5</td><td>0.225</td><td>0.257</td><td>0.351</td><td>0.608</td></tr><tr><td>3</td><td>2021-03-30 00:00:00</td><td>78.6</td><td>-1.3</td><td>6.32</td><td>&quot;Cease, Dylan&quot;</td><td>658069</td><td>656302</td><td>1</td><td>0</td><td>1</td><td>1</td><td>3.513302</td><td>22.855144</td><td>-45.664826</td><td>2681.0</td><td>5.9</td><td>644215</td><td>54.59</td><td>5</td><td>2</td><td>0</td><td>0</td><td>0</td><td>0</td><td>0</td><td>0</td><td>20.0</td><td>0.028</td><td>-1.0</td><td>1</td><td>1</td><td>0</td><td>30</td><td>61</td><td>11</td><td>1</td><td>7</td><td>33</td><td>12</td><td>1</td><td>5</td><td>0.225</td><td>0.257</td><td>0.351</td><td>0.608</td></tr><tr><td>1</td><td>2021-03-30 00:00:00</td><td>97.8</td><td>-1.69</td><td>6.27</td><td>&quot;Cease, Dylan&quot;</td><td>596115</td><td>656302</td><td>1</td><td>1</td><td>1</td><td>1</td><td>-9.180623</td><td>32.523895</td><td>-10.515731</td><td>2595.0</td><td>6.2</td><td>644215</td><td>54.3</td><td>6</td><td>1</td><td>0</td><td>0</td><td>0</td><td>0</td><td>0</td><td>0</td><td>199.0</td><td>0.0</td><td>-1.0</td><td>2</td><td>0</td><td>2</td><td>88</td><td>132</td><td>34</td><td>5</td><td>24</td><td>75</td><td>53</td><td>2</td><td>7</td><td>0.251</td><td>0.329</td><td>0.472</td><td>0.801</td></tr><tr><td>2</td><td>2021-03-30 00:00:00</td><td>85.4</td><td>-2.08</td><td>6.09</td><td>&quot;Cease, Dylan&quot;</td><td>596115</td><td>656302</td><td>1</td><td>1</td><td>1</td><td>1</td><td>6.946647</td><td>22.934122</td><td>-31.85811</td><td>3139.0</td><td>6.2</td><td>644215</td><td>54.32</td><td>6</td><td>2</td><td>0</td><td>0</td><td>0</td><td>0</td><td>0</td><td>0</td><td>69.0</td><td>0.0</td><td>-1.0</td><td>1</td><td>1</td><td>2</td><td>88</td><td>132</td><td>34</td><td>5</td><td>24</td><td>75</td><td>53</td><td>2</td><td>7</td><td>0.251</td><td>0.329</td><td>0.472</td><td>0.801</td></tr><tr><td>1</td><td>2021-03-30 00:00:00</td><td>97.9</td><td>-1.86</td><td>6.33</td><td>&quot;Cease, Dylan&quot;</td><td>596115</td><td>656302</td><td>1</td><td>1</td><td>1</td><td>1</td><td>-7.237474</td><td>30.743734</td><td>-12.118229</td><td>2703.0</td><td>6.1</td><td>644215</td><td>54.4</td><td>6</td><td>3</td><td>0</td><td>0</td><td>0</td><td>0</td><td>0</td><td>0</td><td>196.0</td><td>0.0</td><td>-1.0</td><td>1</td><td>2</td><td>2</td><td>88</td><td>132</td><td>34</td><td>5</td><td>24</td><td>75</td><td>53</td><td>2</td><td>7</td><td>0.251</td><td>0.329</td><td>0.472</td><td>0.801</td></tr><tr><td>1</td><td>2021-03-30 00:00:00</td><td>98.6</td><td>-1.64</td><td>6.38</td><td>&quot;Cease, Dylan&quot;</td><td>596115</td><td>656302</td><td>1</td><td>1</td><td>1</td><td>1</td><td>-3.925343</td><td>35.864846</td><td>-10.002543</td><td>2707.0</td><td>6.0</td><td>644215</td><td>54.46</td><td>6</td><td>4</td><td>0</td><td>0</td><td>0</td><td>0</td><td>0</td><td>0</td><td>192.0</td><td>-0.031</td><td>-1.0</td><td>3</td><td>2</td><td>2</td><td>88</td><td>132</td><td>34</td><td>5</td><td>24</td><td>75</td><td>53</td><td>2</td><td>7</td><td>0.251</td><td>0.329</td><td>0.472</td><td>0.801</td></tr><tr><td>3</td><td>2021-03-30 00:00:00</td><td>79.2</td><td>-1.84</td><td>6.09</td><td>&quot;Cease, Dylan&quot;</td><td>453568</td><td>656302</td><td>0</td><td>2</td><td>2</td><td>1</td><td>6.31529</td><td>25.646599</td><td>-46.843925</td><td>2861.0</td><td>6.2</td><td>644215</td><td>54.27</td><td>7</td><td>1</td><td>0</td><td>0</td><td>0</td><td>0</td><td>0</td><td>0</td><td>31.0</td><td>0.0</td><td>-1.0</td><td>1</td><td>0</td><td>2</td><td>76</td><td>139</td><td>25</td><td>4</td><td>13</td><td>78</td><td>54</td><td>1</td><td>8</td><td>0.27</td><td>0.351</td><td>0.411</td><td>0.761</td></tr><tr><td>1</td><td>2021-03-30 00:00:00</td><td>97.6</td><td>-1.83</td><td>6.21</td><td>&quot;Cease, Dylan&quot;</td><td>453568</td><td>656302</td><td>0</td><td>1</td><td>2</td><td>1</td><td>-2.536971</td><td>34.059849</td><td>-10.537971</td><td>2661.0</td><td>6.0</td><td>644215</td><td>54.52</td><td>7</td><td>2</td><td>0</td><td>0</td><td>0</td><td>0</td><td>0</td><td>0</td><td>210.0</td><td>0.0</td><td>-1.0</td><td>5</td><td>6</td><td>2</td><td>76</td><td>139</td><td>25</td><td>4</td><td>13</td><td>78</td><td>54</td><td>1</td><td>8</td><td>0.27</td><td>0.351</td><td>0.411</td><td>0.761</td></tr><tr><td>5</td><td>2021-03-30 00:00:00</td><td>82.3</td><td>-1.62</td><td>6.06</td><td>&quot;Cease, Dylan&quot;</td><td>453568</td><td>656302</td><td>0</td><td>1</td><td>2</td><td>1</td><td>-7.944264</td><td>23.603757</td><td>-21.5568</td><td>1869.0</td><td>6.5</td><td>644215</td><td>53.98</td><td>7</td><td>3</td><td>0</td><td>0</td><td>0</td><td>0</td><td>0</td><td>0</td><td>188.0</td><td>0.0</td><td>-1.0</td><td>2</td><td>7</td><td>2</td><td>76</td><td>139</td><td>25</td><td>4</td><td>13</td><td>78</td><td>54</td><td>1</td><td>8</td><td>0.27</td><td>0.351</td><td>0.411</td><td>0.761</td></tr><tr><td>2</td><td>2021-03-30 00:00:00</td><td>87.4</td><td>-1.97</td><td>5.98</td><td>&quot;Cease, Dylan&quot;</td><td>453568</td><td>656302</td><td>0</td><td>2</td><td>2</td><td>1</td><td>3.03197</td><td>29.420189</td><td>-34.733339</td><td>2933.0</td><td>6.2</td><td>644215</td><td>54.3</td><td>7</td><td>4</td><td>0</td><td>0</td><td>0</td><td>0</td><td>0</td><td>0</td><td>48.0</td><td>0.012</td><td>-1.0</td><td>2</td><td>3</td><td>2</td><td>76</td><td>139</td><td>25</td><td>4</td><td>13</td><td>78</td><td>54</td><td>1</td><td>8</td><td>0.27</td><td>0.351</td><td>0.411</td><td>0.761</td></tr><tr><td>2</td><td>2021-03-30 00:00:00</td><td>86.8</td><td>-2.08</td><td>6.05</td><td>&quot;Cease, Dylan&quot;</td><td>453568</td><td>656302</td><td>0</td><td>1</td><td>2</td><td>1</td><td>3.707728</td><td>24.319914</td><td>-30.72935</td><td>2966.0</td><td>6.0</td><td>644215</td><td>54.51</td><td>7</td><td>5</td><td>0</td><td>0</td><td>0</td><td>0</td><td>0</td><td>0</td><td>66.0</td><td>-0.038</td><td>-1.0</td><td>1</td><td>4</td><td>1</td><td>76</td><td>139</td><td>25</td><td>4</td><td>13</td><td>78</td><td>54</td><td>1</td><td>8</td><td>0.27</td><td>0.351</td><td>0.411</td><td>0.761</td></tr><tr><td>1</td><td>2021-03-30 00:00:00</td><td>96.6</td><td>-1.04</td><td>6.44</td><td>&quot;Cease, Dylan&quot;</td><td>543068</td><td>656302</td><td>1</td><td>1</td><td>0</td><td>2</td><td>-3.786254</td><td>31.045757</td><td>-10.550262</td><td>2602.0</td><td>5.9</td><td>644215</td><td>54.6</td><td>11</td><td>1</td><td>0</td><td>0</td><td>0</td><td>0</td><td>0</td><td>0</td><td>196.0</td><td>0.0</td><td>-1.0</td><td>1</td><td>0</td><td>0</td><td>70</td><td>132</td><td>31</td><td>1</td><td>28</td><td>92</td><td>60</td><td>3</td><td>11</td><td>0.281</td><td>0.375</td><td>0.53</td><td>0.905</td></tr><tr><td>1</td><td>2021-03-30 00:00:00</td><td>98.1</td><td>-1.16</td><td>6.4</td><td>&quot;Cease, Dylan&quot;</td><td>543068</td><td>656302</td><td>1</td><td>1</td><td>0</td><td>2</td><td>-3.430552</td><td>31.66594</td><td>-9.305441</td><td>2585.0</td><td>6.1</td><td>644215</td><td>54.41</td><td>11</td><td>2</td><td>0</td><td>0</td><td>0</td><td>0</td><td>0</td><td>0</td><td>198.0</td><td>0.0</td><td>-1.0</td><td>1</td><td>1</td><td>0</td><td>70</td><td>132</td><td>31</td><td>1</td><td>28</td><td>92</td><td>60</td><td>3</td><td>11</td><td>0.281</td><td>0.375</td><td>0.53</td><td>0.905</td></tr><tr><td>1</td><td>2021-03-30 00:00:00</td><td>97.4</td><td>-1.24</td><td>6.52</td><td>&quot;Cease, Dylan&quot;</td><td>543068</td><td>656302</td><td>1</td><td>0</td><td>0</td><td>2</td><td>-6.165158</td><td>31.359592</td><td>-11.043696</td><td>2527.0</td><td>5.9</td><td>644215</td><td>54.64</td><td>11</td><td>3</td><td>0</td><td>0</td><td>0</td><td>1</td><td>1</td><td>0</td><td>200.0</td><td>0.131</td><td>-1.0</td><td>1</td><td>2</td><td>0</td><td>70</td><td>132</td><td>31</td><td>1</td><td>28</td><td>92</td><td>60</td><td>3</td><td>11</td><td>0.281</td><td>0.375</td><td>0.53</td><td>0.905</td></tr><tr><td>1</td><td>2021-03-30 00:00:00</td><td>96.7</td><td>-1.41</td><td>6.42</td><td>&quot;Cease, Dylan&quot;</td><td>641857</td><td>656302</td><td>0</td><td>2</td><td>0</td><td>2</td><td>-5.755881</td><td>30.839119</td><td>-11.846376</td><td>2531.0</td><td>6.0</td><td>644215</td><td>54.5</td><td>12</td><td>1</td><td>1</td><td>0</td><td>0</td><td>1</td><td>1</td><td>0</td><td>203.0</td><td>0.0</td><td>-1.0</td><td>5</td><td>0</td><td>0</td><td>80</td><td>134</td><td>32</td><td>1</td><td>23</td><td>86</td><td>59</td><td>2</td><td>14</td><td>0.254</td><td>0.331</td><td>0.449</td><td>0.779</td></tr><tr><td>5</td><td>2021-03-30 00:00:00</td><td>82.3</td><td>-1.43</td><td>6.33</td><td>&quot;Cease, Dylan&quot;</td><td>641857</td><td>656302</td><td>0</td><td>1</td><td>0</td><td>2</td><td>-3.857757</td><td>21.787486</td><td>-17.343034</td><td>2005.0</td><td>6.1</td><td>644215</td><td>54.4</td><td>12</td><td>2</td><td>1</td><td>0</td><td>0</td><td>1</td><td>1</td><td>0</td><td>188.0</td><td>0.0</td><td>-1.0</td><td>2</td><td>6</td><td>0</td><td>80</td><td>134</td><td>32</td><td>1</td><td>23</td><td>86</td><td>59</td><td>2</td><td>14</td><td>0.254</td><td>0.331</td><td>0.449</td><td>0.779</td></tr><tr><td>2</td><td>2021-03-30 00:00:00</td><td>85.1</td><td>-1.7</td><td>6.16</td><td>&quot;Cease, Dylan&quot;</td><td>641857</td><td>656302</td><td>0</td><td>2</td><td>0</td><td>2</td><td>3.261533</td><td>24.833532</td><td>-35.129989</td><td>2885.0</td><td>5.9</td><td>644215</td><td>54.56</td><td>12</td><td>3</td><td>1</td><td>0</td><td>0</td><td>1</td><td>1</td><td>0</td><td>48.0</td><td>0.0</td><td>-1.0</td><td>1</td><td>7</td><td>0</td><td>80</td><td>134</td><td>32</td><td>1</td><td>23</td><td>86</td><td>59</td><td>2</td><td>14</td><td>0.254</td><td>0.331</td><td>0.449</td><td>0.779</td></tr></tbody></table></div>"
      ],
      "text/plain": [
       "shape: (20, 46)\n",
       "┌────────────┬──────────────┬───────────────┬───────────────┬───┬───────┬───────┬───────┬───────┐\n",
       "│ pitch_type ┆ game_date    ┆ release_speed ┆ release_pos_x ┆ … ┆ BA    ┆ OBP   ┆ SLG   ┆ OPS   │\n",
       "│ ---        ┆ ---          ┆ ---           ┆ ---           ┆   ┆ ---   ┆ ---   ┆ ---   ┆ ---   │\n",
       "│ i64        ┆ datetime[μs] ┆ f64           ┆ f64           ┆   ┆ f64   ┆ f64   ┆ f64   ┆ f64   │\n",
       "╞════════════╪══════════════╪═══════════════╪═══════════════╪═══╪═══════╪═══════╪═══════╪═══════╡\n",
       "│ 1          ┆ 2021-03-30   ┆ 96.7          ┆ -1.44         ┆ … ┆ 0.273 ┆ 0.327 ┆ 0.372 ┆ 0.699 │\n",
       "│            ┆ 00:00:00     ┆               ┆               ┆   ┆       ┆       ┆       ┆       │\n",
       "│ 3          ┆ 2021-03-30   ┆ 79.0          ┆ -1.44         ┆ … ┆ 0.273 ┆ 0.327 ┆ 0.372 ┆ 0.699 │\n",
       "│            ┆ 00:00:00     ┆               ┆               ┆   ┆       ┆       ┆       ┆       │\n",
       "│ 3          ┆ 2021-03-30   ┆ 79.4          ┆ -1.4          ┆ … ┆ 0.273 ┆ 0.327 ┆ 0.372 ┆ 0.699 │\n",
       "│            ┆ 00:00:00     ┆               ┆               ┆   ┆       ┆       ┆       ┆       │\n",
       "│ 1          ┆ 2021-03-30   ┆ 97.6          ┆ -1.23         ┆ … ┆ 0.225 ┆ 0.257 ┆ 0.351 ┆ 0.608 │\n",
       "│            ┆ 00:00:00     ┆               ┆               ┆   ┆       ┆       ┆       ┆       │\n",
       "│ 3          ┆ 2021-03-30   ┆ 78.6          ┆ -1.3          ┆ … ┆ 0.225 ┆ 0.257 ┆ 0.351 ┆ 0.608 │\n",
       "│            ┆ 00:00:00     ┆               ┆               ┆   ┆       ┆       ┆       ┆       │\n",
       "│ 1          ┆ 2021-03-30   ┆ 97.8          ┆ -1.69         ┆ … ┆ 0.251 ┆ 0.329 ┆ 0.472 ┆ 0.801 │\n",
       "│            ┆ 00:00:00     ┆               ┆               ┆   ┆       ┆       ┆       ┆       │\n",
       "│ 2          ┆ 2021-03-30   ┆ 85.4          ┆ -2.08         ┆ … ┆ 0.251 ┆ 0.329 ┆ 0.472 ┆ 0.801 │\n",
       "│            ┆ 00:00:00     ┆               ┆               ┆   ┆       ┆       ┆       ┆       │\n",
       "│ 1          ┆ 2021-03-30   ┆ 97.9          ┆ -1.86         ┆ … ┆ 0.251 ┆ 0.329 ┆ 0.472 ┆ 0.801 │\n",
       "│            ┆ 00:00:00     ┆               ┆               ┆   ┆       ┆       ┆       ┆       │\n",
       "│ 1          ┆ 2021-03-30   ┆ 98.6          ┆ -1.64         ┆ … ┆ 0.251 ┆ 0.329 ┆ 0.472 ┆ 0.801 │\n",
       "│            ┆ 00:00:00     ┆               ┆               ┆   ┆       ┆       ┆       ┆       │\n",
       "│ 3          ┆ 2021-03-30   ┆ 79.2          ┆ -1.84         ┆ … ┆ 0.27  ┆ 0.351 ┆ 0.411 ┆ 0.761 │\n",
       "│            ┆ 00:00:00     ┆               ┆               ┆   ┆       ┆       ┆       ┆       │\n",
       "│ 1          ┆ 2021-03-30   ┆ 97.6          ┆ -1.83         ┆ … ┆ 0.27  ┆ 0.351 ┆ 0.411 ┆ 0.761 │\n",
       "│            ┆ 00:00:00     ┆               ┆               ┆   ┆       ┆       ┆       ┆       │\n",
       "│ 5          ┆ 2021-03-30   ┆ 82.3          ┆ -1.62         ┆ … ┆ 0.27  ┆ 0.351 ┆ 0.411 ┆ 0.761 │\n",
       "│            ┆ 00:00:00     ┆               ┆               ┆   ┆       ┆       ┆       ┆       │\n",
       "│ 2          ┆ 2021-03-30   ┆ 87.4          ┆ -1.97         ┆ … ┆ 0.27  ┆ 0.351 ┆ 0.411 ┆ 0.761 │\n",
       "│            ┆ 00:00:00     ┆               ┆               ┆   ┆       ┆       ┆       ┆       │\n",
       "│ 2          ┆ 2021-03-30   ┆ 86.8          ┆ -2.08         ┆ … ┆ 0.27  ┆ 0.351 ┆ 0.411 ┆ 0.761 │\n",
       "│            ┆ 00:00:00     ┆               ┆               ┆   ┆       ┆       ┆       ┆       │\n",
       "│ 1          ┆ 2021-03-30   ┆ 96.6          ┆ -1.04         ┆ … ┆ 0.281 ┆ 0.375 ┆ 0.53  ┆ 0.905 │\n",
       "│            ┆ 00:00:00     ┆               ┆               ┆   ┆       ┆       ┆       ┆       │\n",
       "│ 1          ┆ 2021-03-30   ┆ 98.1          ┆ -1.16         ┆ … ┆ 0.281 ┆ 0.375 ┆ 0.53  ┆ 0.905 │\n",
       "│            ┆ 00:00:00     ┆               ┆               ┆   ┆       ┆       ┆       ┆       │\n",
       "│ 1          ┆ 2021-03-30   ┆ 97.4          ┆ -1.24         ┆ … ┆ 0.281 ┆ 0.375 ┆ 0.53  ┆ 0.905 │\n",
       "│            ┆ 00:00:00     ┆               ┆               ┆   ┆       ┆       ┆       ┆       │\n",
       "│ 1          ┆ 2021-03-30   ┆ 96.7          ┆ -1.41         ┆ … ┆ 0.254 ┆ 0.331 ┆ 0.449 ┆ 0.779 │\n",
       "│            ┆ 00:00:00     ┆               ┆               ┆   ┆       ┆       ┆       ┆       │\n",
       "│ 5          ┆ 2021-03-30   ┆ 82.3          ┆ -1.43         ┆ … ┆ 0.254 ┆ 0.331 ┆ 0.449 ┆ 0.779 │\n",
       "│            ┆ 00:00:00     ┆               ┆               ┆   ┆       ┆       ┆       ┆       │\n",
       "│ 2          ┆ 2021-03-30   ┆ 85.1          ┆ -1.7          ┆ … ┆ 0.254 ┆ 0.331 ┆ 0.449 ┆ 0.779 │\n",
       "│            ┆ 00:00:00     ┆               ┆               ┆   ┆       ┆       ┆       ┆       │\n",
       "└────────────┴──────────────┴───────────────┴───────────────┴───┴───────┴───────┴───────┴───────┘"
      ]
     },
     "execution_count": 20,
     "metadata": {},
     "output_type": "execute_result"
    }
   ],
   "source": [
    "df.head(20)"
   ]
  }
 ],
 "metadata": {
  "kernelspec": {
   "display_name": "pitch_predict",
   "language": "python",
   "name": "python3"
  },
  "language_info": {
   "codemirror_mode": {
    "name": "ipython",
    "version": 3
   },
   "file_extension": ".py",
   "mimetype": "text/x-python",
   "name": "python",
   "nbconvert_exporter": "python",
   "pygments_lexer": "ipython3",
   "version": "3.12.7"
  }
 },
 "nbformat": 4,
 "nbformat_minor": 2
}
