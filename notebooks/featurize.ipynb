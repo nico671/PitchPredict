{
 "cells": [
  {
   "cell_type": "markdown",
   "metadata": {},
   "source": [
    "# feats using polar yay"
   ]
  },
  {
   "cell_type": "code",
   "execution_count": 2,
   "metadata": {},
   "outputs": [
    {
     "data": {
      "text/plain": [
       "polars.config.Config"
      ]
     },
     "execution_count": 2,
     "metadata": {},
     "output_type": "execute_result"
    }
   ],
   "source": [
    "import logging\n",
    "import sys\n",
    "import time\n",
    "from pathlib import Path\n",
    "\n",
    "# import pandas as pd\n",
    "import polars as pl\n",
    "import pybaseball as pb\n",
    "import yaml\n",
    "\n",
    "logger = logging.getLogger(\"featurize\")\n",
    "logger.setLevel(logging.INFO)\n",
    "handler = logging.StreamHandler()\n",
    "handler.setFormatter(\n",
    "    logging.Formatter(\"%(asctime)s - %(name)s - %(levelname)s - %(message)s\")\n",
    ")\n",
    "logger.addHandler(handler)\n",
    "cfg = pl.Config()\n",
    "cfg.set_tbl_rows(2000)"
   ]
  },
  {
   "cell_type": "code",
   "execution_count": 3,
   "metadata": {},
   "outputs": [],
   "source": [
    "with open(\"../params.yaml\", \"r\") as file:\n",
    "    params = yaml.safe_load(file)\n",
    "input_file_path = params[\"featurize\"][\"input_data_path\"]\n",
    "\n",
    "df = pl.read_parquet(\"../\" / Path(input_file_path))"
   ]
  },
  {
   "cell_type": "code",
   "execution_count": 4,
   "metadata": {},
   "outputs": [],
   "source": [
    "df = df.with_columns(\n",
    "    df.select(\n",
    "        pl.col(pl.String).exclude([\"player_name\"]).cast(pl.Categorical).to_physical()\n",
    "    ),\n",
    ")"
   ]
  },
  {
   "cell_type": "code",
   "execution_count": 5,
   "metadata": {},
   "outputs": [],
   "source": [
    "df = df.sort(\n",
    "    [\n",
    "        \"game_date\",\n",
    "        \"game_pk\",\n",
    "        \"at_bat_number\",\n",
    "        \"pitch_number\",\n",
    "    ],\n",
    "    descending=False,\n",
    ")\n",
    "# create target variable\n",
    "df = df.with_columns(\n",
    "    df.select(pl.col(\"pitch_type\").shift().alias(\"next_pitch\")),\n",
    ").drop_nulls(\"next_pitch\")"
   ]
  },
  {
   "cell_type": "code",
   "execution_count": 6,
   "metadata": {},
   "outputs": [
    {
     "data": {
      "text/html": [
       "<div><style>\n",
       ".dataframe > thead > tr,\n",
       ".dataframe > tbody > tr {\n",
       "  text-align: right;\n",
       "  white-space: pre-wrap;\n",
       "}\n",
       "</style>\n",
       "<small>shape: (20, 2)</small><table border=\"1\" class=\"dataframe\"><thead><tr><th>pitch_type</th><th>next_pitch</th></tr><tr><td>u32</td><td>u32</td></tr></thead><tbody><tr><td>0</td><td>0</td></tr><tr><td>0</td><td>0</td></tr><tr><td>2</td><td>0</td></tr><tr><td>5</td><td>2</td></tr><tr><td>1</td><td>5</td></tr><tr><td>0</td><td>1</td></tr><tr><td>1</td><td>0</td></tr><tr><td>1</td><td>1</td></tr><tr><td>5</td><td>1</td></tr><tr><td>1</td><td>5</td></tr><tr><td>1</td><td>1</td></tr><tr><td>5</td><td>1</td></tr><tr><td>0</td><td>5</td></tr><tr><td>5</td><td>0</td></tr><tr><td>4</td><td>5</td></tr><tr><td>1</td><td>4</td></tr><tr><td>5</td><td>1</td></tr><tr><td>1</td><td>5</td></tr><tr><td>1</td><td>1</td></tr><tr><td>5</td><td>1</td></tr></tbody></table></div>"
      ],
      "text/plain": [
       "shape: (20, 2)\n",
       "┌────────────┬────────────┐\n",
       "│ pitch_type ┆ next_pitch │\n",
       "│ ---        ┆ ---        │\n",
       "│ u32        ┆ u32        │\n",
       "╞════════════╪════════════╡\n",
       "│ 0          ┆ 0          │\n",
       "│ 0          ┆ 0          │\n",
       "│ 2          ┆ 0          │\n",
       "│ 5          ┆ 2          │\n",
       "│ 1          ┆ 5          │\n",
       "│ 0          ┆ 1          │\n",
       "│ 1          ┆ 0          │\n",
       "│ 1          ┆ 1          │\n",
       "│ 5          ┆ 1          │\n",
       "│ 1          ┆ 5          │\n",
       "│ 1          ┆ 1          │\n",
       "│ 5          ┆ 1          │\n",
       "│ 0          ┆ 5          │\n",
       "│ 5          ┆ 0          │\n",
       "│ 4          ┆ 5          │\n",
       "│ 1          ┆ 4          │\n",
       "│ 5          ┆ 1          │\n",
       "│ 1          ┆ 5          │\n",
       "│ 1          ┆ 1          │\n",
       "│ 5          ┆ 1          │\n",
       "└────────────┴────────────┘"
      ]
     },
     "execution_count": 6,
     "metadata": {},
     "output_type": "execute_result"
    }
   ],
   "source": [
    "df.select(pl.col([\"pitch_type\", \"next_pitch\"])).head(20)"
   ]
  },
  {
   "cell_type": "code",
   "execution_count": 7,
   "metadata": {},
   "outputs": [],
   "source": [
    "df = df.with_columns(\n",
    "    (pl.col(\"balls\").cast(pl.String) + \" - \" + pl.col(\"strikes\").cast(pl.String))\n",
    "    .alias(\"count\")\n",
    "    .cast(pl.Categorical)\n",
    "    .to_physical()\n",
    ")\n",
    "df = df.drop([\"balls\", \"strikes\"])"
   ]
  },
  {
   "cell_type": "code",
   "execution_count": 8,
   "metadata": {},
   "outputs": [
    {
     "name": "stdout",
     "output_type": "stream",
     "text": [
      "shape: (9, 2)\n",
      "┌────────────┬──────────┐\n",
      "│ statistic  ┆ count    │\n",
      "│ ---        ┆ ---      │\n",
      "│ str        ┆ f64      │\n",
      "╞════════════╪══════════╡\n",
      "│ count      ┆ 591111.0 │\n",
      "│ null_count ┆ 0.0      │\n",
      "│ mean       ┆ 3.569081 │\n",
      "│ std        ┆ 3.025384 │\n",
      "│ min        ┆ 0.0      │\n",
      "│ 25%        ┆ 1.0      │\n",
      "│ 50%        ┆ 3.0      │\n",
      "│ 75%        ┆ 6.0      │\n",
      "│ max        ┆ 12.0     │\n",
      "└────────────┴──────────┘\n"
     ]
    },
    {
     "data": {
      "text/html": [
       "<div><style>\n",
       ".dataframe > thead > tr,\n",
       ".dataframe > tbody > tr {\n",
       "  text-align: right;\n",
       "  white-space: pre-wrap;\n",
       "}\n",
       "</style>\n",
       "<small>shape: (5, 54)</small><table border=\"1\" class=\"dataframe\"><thead><tr><th>pitch_type</th><th>game_date</th><th>release_speed</th><th>player_name</th><th>batter</th><th>pitcher</th><th>type</th><th>hit_location</th><th>bb_type</th><th>plate_x</th><th>plate_z</th><th>on_3b</th><th>on_2b</th><th>on_1b</th><th>outs_when_up</th><th>inning</th><th>hc_x</th><th>hc_y</th><th>vx0</th><th>vy0</th><th>vz0</th><th>ax</th><th>ay</th><th>az</th><th>sz_top</th><th>sz_bot</th><th>hit_distance_sc</th><th>launch_speed</th><th>launch_angle</th><th>effective_speed</th><th>release_spin_rate</th><th>release_extension</th><th>game_pk</th><th>estimated_ba_using_speedangle</th><th>estimated_woba_using_speedangle</th><th>woba_value</th><th>woba_denom</th><th>babip_value</th><th>iso_value</th><th>launch_speed_angle</th><th>at_bat_number</th><th>pitch_number</th><th>bat_score</th><th>fld_score</th><th>post_bat_score</th><th>post_fld_score</th><th>if_fielding_alignment</th><th>of_fielding_alignment</th><th>spin_axis</th><th>delta_run_exp</th><th>bat_speed</th><th>swing_length</th><th>next_pitch</th><th>count</th></tr><tr><td>u32</td><td>datetime[μs]</td><td>f64</td><td>str</td><td>i64</td><td>i64</td><td>u32</td><td>f64</td><td>u32</td><td>f64</td><td>f64</td><td>f64</td><td>f64</td><td>f64</td><td>i64</td><td>i64</td><td>f64</td><td>f64</td><td>f64</td><td>f64</td><td>f64</td><td>f64</td><td>f64</td><td>f64</td><td>f64</td><td>f64</td><td>f64</td><td>f64</td><td>f64</td><td>f64</td><td>f64</td><td>f64</td><td>i64</td><td>f64</td><td>f64</td><td>f64</td><td>f64</td><td>f64</td><td>f64</td><td>f64</td><td>i64</td><td>i64</td><td>i64</td><td>i64</td><td>i64</td><td>i64</td><td>u32</td><td>u32</td><td>f64</td><td>f64</td><td>f64</td><td>f64</td><td>u32</td><td>u32</td></tr></thead><tbody><tr><td>0</td><td>2015-04-06 00:00:00</td><td>90.2</td><td>&quot;Keuchel, Dallas&quot;</td><td>456422</td><td>572971</td><td>0</td><td>4.0</td><td>2</td><td>-0.2</td><td>2.42</td><td>null</td><td>null</td><td>null</td><td>0</td><td>1</td><td>null</td><td>null</td><td>-4.628975</td><td>-131.971479</td><td>-5.967792</td><td>9.441</td><td>25.153</td><td>-14.651</td><td>3.32</td><td>1.5</td><td>null</td><td>null</td><td>null</td><td>null</td><td>null</td><td>null</td><td>413654</td><td>null</td><td>null</td><td>0.0</td><td>null</td><td>0.0</td><td>0.0</td><td>null</td><td>1</td><td>2</td><td>0</td><td>0</td><td>0</td><td>0</td><td>null</td><td>null</td><td>null</td><td>-0.192</td><td>null</td><td>null</td><td>0</td><td>0</td></tr><tr><td>0</td><td>2015-04-06 00:00:00</td><td>89.7</td><td>&quot;Keuchel, Dallas&quot;</td><td>543401</td><td>572971</td><td>2</td><td>null</td><td>null</td><td>0.02</td><td>1.64</td><td>null</td><td>null</td><td>null</td><td>1</td><td>1</td><td>null</td><td>null</td><td>-3.799464</td><td>-131.134671</td><td>-7.613539</td><td>7.162</td><td>21.465</td><td>-16.083</td><td>3.34</td><td>1.48</td><td>null</td><td>null</td><td>null</td><td>null</td><td>null</td><td>null</td><td>413654</td><td>null</td><td>null</td><td>null</td><td>null</td><td>null</td><td>null</td><td>null</td><td>2</td><td>1</td><td>0</td><td>0</td><td>0</td><td>0</td><td>null</td><td>null</td><td>null</td><td>-0.025</td><td>null</td><td>null</td><td>0</td><td>1</td></tr><tr><td>2</td><td>2015-04-06 00:00:00</td><td>87.2</td><td>&quot;Keuchel, Dallas&quot;</td><td>543401</td><td>572971</td><td>1</td><td>null</td><td>null</td><td>-1.54</td><td>0.73</td><td>null</td><td>null</td><td>null</td><td>1</td><td>1</td><td>null</td><td>null</td><td>-6.769911</td><td>-127.314531</td><td>-7.249607</td><td>3.693</td><td>20.834</td><td>-24.441</td><td>3.27</td><td>1.49</td><td>null</td><td>null</td><td>null</td><td>null</td><td>null</td><td>null</td><td>413654</td><td>null</td><td>null</td><td>null</td><td>null</td><td>null</td><td>null</td><td>null</td><td>2</td><td>2</td><td>0</td><td>0</td><td>0</td><td>0</td><td>null</td><td>null</td><td>null</td><td>0.017</td><td>null</td><td>null</td><td>0</td><td>0</td></tr><tr><td>5</td><td>2015-04-06 00:00:00</td><td>89.8</td><td>&quot;Keuchel, Dallas&quot;</td><td>543401</td><td>572971</td><td>1</td><td>null</td><td>null</td><td>-1.06</td><td>2.54</td><td>null</td><td>null</td><td>null</td><td>1</td><td>1</td><td>null</td><td>null</td><td>-8.908004</td><td>-131.414862</td><td>-3.799711</td><td>17.985</td><td>26.595</td><td>-23.057</td><td>3.24</td><td>1.49</td><td>null</td><td>null</td><td>null</td><td>89.6</td><td>2132.0</td><td>6.2</td><td>413654</td><td>null</td><td>null</td><td>null</td><td>null</td><td>null</td><td>null</td><td>null</td><td>2</td><td>3</td><td>0</td><td>0</td><td>0</td><td>0</td><td>3</td><td>0</td><td>null</td><td>0.031</td><td>null</td><td>null</td><td>2</td><td>2</td></tr><tr><td>1</td><td>2015-04-06 00:00:00</td><td>80.8</td><td>&quot;Keuchel, Dallas&quot;</td><td>543401</td><td>572971</td><td>0</td><td>7.0</td><td>1</td><td>-0.82</td><td>1.43</td><td>null</td><td>null</td><td>null</td><td>1</td><td>1</td><td>null</td><td>null</td><td>-2.59669</td><td>-118.371671</td><td>-1.826686</td><td>-6.587</td><td>22.218</td><td>-34.947</td><td>3.33</td><td>1.49</td><td>217.0</td><td>67.9</td><td>33.0</td><td>79.9</td><td>2151.0</td><td>5.7</td><td>413654</td><td>0.76</td><td>0.721</td><td>0.0</td><td>1.0</td><td>0.0</td><td>0.0</td><td>4.0</td><td>2</td><td>4</td><td>0</td><td>0</td><td>0</td><td>0</td><td>3</td><td>1</td><td>null</td><td>-0.179</td><td>null</td><td>null</td><td>5</td><td>3</td></tr></tbody></table></div>"
      ],
      "text/plain": [
       "shape: (5, 54)\n",
       "┌────────────┬────────────┬────────────┬───────────┬───┬───────────┬───────────┬───────────┬───────┐\n",
       "│ pitch_type ┆ game_date  ┆ release_sp ┆ player_na ┆ … ┆ bat_speed ┆ swing_len ┆ next_pitc ┆ count │\n",
       "│ ---        ┆ ---        ┆ eed        ┆ me        ┆   ┆ ---       ┆ gth       ┆ h         ┆ ---   │\n",
       "│ u32        ┆ datetime[μ ┆ ---        ┆ ---       ┆   ┆ f64       ┆ ---       ┆ ---       ┆ u32   │\n",
       "│            ┆ s]         ┆ f64        ┆ str       ┆   ┆           ┆ f64       ┆ u32       ┆       │\n",
       "╞════════════╪════════════╪════════════╪═══════════╪═══╪═══════════╪═══════════╪═══════════╪═══════╡\n",
       "│ 0          ┆ 2015-04-06 ┆ 90.2       ┆ Keuchel,  ┆ … ┆ null      ┆ null      ┆ 0         ┆ 0     │\n",
       "│            ┆ 00:00:00   ┆            ┆ Dallas    ┆   ┆           ┆           ┆           ┆       │\n",
       "│ 0          ┆ 2015-04-06 ┆ 89.7       ┆ Keuchel,  ┆ … ┆ null      ┆ null      ┆ 0         ┆ 1     │\n",
       "│            ┆ 00:00:00   ┆            ┆ Dallas    ┆   ┆           ┆           ┆           ┆       │\n",
       "│ 2          ┆ 2015-04-06 ┆ 87.2       ┆ Keuchel,  ┆ … ┆ null      ┆ null      ┆ 0         ┆ 0     │\n",
       "│            ┆ 00:00:00   ┆            ┆ Dallas    ┆   ┆           ┆           ┆           ┆       │\n",
       "│ 5          ┆ 2015-04-06 ┆ 89.8       ┆ Keuchel,  ┆ … ┆ null      ┆ null      ┆ 2         ┆ 2     │\n",
       "│            ┆ 00:00:00   ┆            ┆ Dallas    ┆   ┆           ┆           ┆           ┆       │\n",
       "│ 1          ┆ 2015-04-06 ┆ 80.8       ┆ Keuchel,  ┆ … ┆ null      ┆ null      ┆ 5         ┆ 3     │\n",
       "│            ┆ 00:00:00   ┆            ┆ Dallas    ┆   ┆           ┆           ┆           ┆       │\n",
       "└────────────┴────────────┴────────────┴───────────┴───┴───────────┴───────────┴───────────┴───────┘"
      ]
     },
     "execution_count": 8,
     "metadata": {},
     "output_type": "execute_result"
    }
   ],
   "source": [
    "print(df.select(\"count\").describe())\n",
    "df.head()\n"
   ]
  },
  {
   "cell_type": "code",
   "execution_count": 9,
   "metadata": {},
   "outputs": [],
   "source": [
    "df = df.with_columns(df.select([\"on_1b\", \"on_2b\", \"on_3b\"]).fill_null(-1))\n",
    "df = df.with_columns(\n",
    "    pl.col(\"on_1b\")\n",
    "    .map_elements(lambda s: 0 if s == -1.0 else 1, return_dtype=pl.Int32)\n",
    "    .alias(\"on_1b\"),\n",
    "    pl.col(\"on_2b\")\n",
    "    .map_elements(lambda s: 0 if s == -1.0 else 1, return_dtype=pl.Int32)\n",
    "    .alias(\"on_2b\"),\n",
    "    pl.col(\"on_3b\")\n",
    "    .map_elements(lambda s: 0 if s == -1.0 else 1, return_dtype=pl.Int32)\n",
    "    .alias(\"on_3b\"),\n",
    ")\n",
    "df = df.with_columns(\n",
    "    (\n",
    "        pl.col(\"on_1b\").cast(pl.String)\n",
    "        + \"/\"\n",
    "        + pl.col(\"on_2b\").cast(pl.String)\n",
    "        + \"/\"\n",
    "        + pl.col(\"on_3b\").cast(pl.String)\n",
    "    )\n",
    "    .alias(\"base_state\")\n",
    "    .cast(pl.Categorical)\n",
    "    .to_physical()\n",
    ")\n",
    "df = df.drop([\"on_1b\", \"on_2b\", \"on_3b\"])"
   ]
  },
  {
   "cell_type": "code",
   "execution_count": 10,
   "metadata": {},
   "outputs": [
    {
     "name": "stdout",
     "output_type": "stream",
     "text": [
      "shape: (9, 2)\n",
      "┌────────────┬────────────┐\n",
      "│ statistic  ┆ base_state │\n",
      "│ ---        ┆ ---        │\n",
      "│ str        ┆ f64        │\n",
      "╞════════════╪════════════╡\n",
      "│ count      ┆ 591111.0   │\n",
      "│ null_count ┆ 0.0        │\n",
      "│ mean       ┆ 0.923358   │\n",
      "│ std        ┆ 1.605332   │\n",
      "│ min        ┆ 0.0        │\n",
      "│ 25%        ┆ 0.0        │\n",
      "│ 50%        ┆ 0.0        │\n",
      "│ 75%        ┆ 1.0        │\n",
      "│ max        ┆ 7.0        │\n",
      "└────────────┴────────────┘\n"
     ]
    },
    {
     "data": {
      "text/html": [
       "<div><style>\n",
       ".dataframe > thead > tr,\n",
       ".dataframe > tbody > tr {\n",
       "  text-align: right;\n",
       "  white-space: pre-wrap;\n",
       "}\n",
       "</style>\n",
       "<small>shape: (5, 52)</small><table border=\"1\" class=\"dataframe\"><thead><tr><th>pitch_type</th><th>game_date</th><th>release_speed</th><th>player_name</th><th>batter</th><th>pitcher</th><th>type</th><th>hit_location</th><th>bb_type</th><th>plate_x</th><th>plate_z</th><th>outs_when_up</th><th>inning</th><th>hc_x</th><th>hc_y</th><th>vx0</th><th>vy0</th><th>vz0</th><th>ax</th><th>ay</th><th>az</th><th>sz_top</th><th>sz_bot</th><th>hit_distance_sc</th><th>launch_speed</th><th>launch_angle</th><th>effective_speed</th><th>release_spin_rate</th><th>release_extension</th><th>game_pk</th><th>estimated_ba_using_speedangle</th><th>estimated_woba_using_speedangle</th><th>woba_value</th><th>woba_denom</th><th>babip_value</th><th>iso_value</th><th>launch_speed_angle</th><th>at_bat_number</th><th>pitch_number</th><th>bat_score</th><th>fld_score</th><th>post_bat_score</th><th>post_fld_score</th><th>if_fielding_alignment</th><th>of_fielding_alignment</th><th>spin_axis</th><th>delta_run_exp</th><th>bat_speed</th><th>swing_length</th><th>next_pitch</th><th>count</th><th>base_state</th></tr><tr><td>u32</td><td>datetime[μs]</td><td>f64</td><td>str</td><td>i64</td><td>i64</td><td>u32</td><td>f64</td><td>u32</td><td>f64</td><td>f64</td><td>i64</td><td>i64</td><td>f64</td><td>f64</td><td>f64</td><td>f64</td><td>f64</td><td>f64</td><td>f64</td><td>f64</td><td>f64</td><td>f64</td><td>f64</td><td>f64</td><td>f64</td><td>f64</td><td>f64</td><td>f64</td><td>i64</td><td>f64</td><td>f64</td><td>f64</td><td>f64</td><td>f64</td><td>f64</td><td>f64</td><td>i64</td><td>i64</td><td>i64</td><td>i64</td><td>i64</td><td>i64</td><td>u32</td><td>u32</td><td>f64</td><td>f64</td><td>f64</td><td>f64</td><td>u32</td><td>u32</td><td>u32</td></tr></thead><tbody><tr><td>0</td><td>2015-04-06 00:00:00</td><td>90.2</td><td>&quot;Keuchel, Dallas&quot;</td><td>456422</td><td>572971</td><td>0</td><td>4.0</td><td>2</td><td>-0.2</td><td>2.42</td><td>0</td><td>1</td><td>null</td><td>null</td><td>-4.628975</td><td>-131.971479</td><td>-5.967792</td><td>9.441</td><td>25.153</td><td>-14.651</td><td>3.32</td><td>1.5</td><td>null</td><td>null</td><td>null</td><td>null</td><td>null</td><td>null</td><td>413654</td><td>null</td><td>null</td><td>0.0</td><td>null</td><td>0.0</td><td>0.0</td><td>null</td><td>1</td><td>2</td><td>0</td><td>0</td><td>0</td><td>0</td><td>null</td><td>null</td><td>null</td><td>-0.192</td><td>null</td><td>null</td><td>0</td><td>0</td><td>0</td></tr><tr><td>0</td><td>2015-04-06 00:00:00</td><td>89.7</td><td>&quot;Keuchel, Dallas&quot;</td><td>543401</td><td>572971</td><td>2</td><td>null</td><td>null</td><td>0.02</td><td>1.64</td><td>1</td><td>1</td><td>null</td><td>null</td><td>-3.799464</td><td>-131.134671</td><td>-7.613539</td><td>7.162</td><td>21.465</td><td>-16.083</td><td>3.34</td><td>1.48</td><td>null</td><td>null</td><td>null</td><td>null</td><td>null</td><td>null</td><td>413654</td><td>null</td><td>null</td><td>null</td><td>null</td><td>null</td><td>null</td><td>null</td><td>2</td><td>1</td><td>0</td><td>0</td><td>0</td><td>0</td><td>null</td><td>null</td><td>null</td><td>-0.025</td><td>null</td><td>null</td><td>0</td><td>1</td><td>0</td></tr><tr><td>2</td><td>2015-04-06 00:00:00</td><td>87.2</td><td>&quot;Keuchel, Dallas&quot;</td><td>543401</td><td>572971</td><td>1</td><td>null</td><td>null</td><td>-1.54</td><td>0.73</td><td>1</td><td>1</td><td>null</td><td>null</td><td>-6.769911</td><td>-127.314531</td><td>-7.249607</td><td>3.693</td><td>20.834</td><td>-24.441</td><td>3.27</td><td>1.49</td><td>null</td><td>null</td><td>null</td><td>null</td><td>null</td><td>null</td><td>413654</td><td>null</td><td>null</td><td>null</td><td>null</td><td>null</td><td>null</td><td>null</td><td>2</td><td>2</td><td>0</td><td>0</td><td>0</td><td>0</td><td>null</td><td>null</td><td>null</td><td>0.017</td><td>null</td><td>null</td><td>0</td><td>0</td><td>0</td></tr><tr><td>5</td><td>2015-04-06 00:00:00</td><td>89.8</td><td>&quot;Keuchel, Dallas&quot;</td><td>543401</td><td>572971</td><td>1</td><td>null</td><td>null</td><td>-1.06</td><td>2.54</td><td>1</td><td>1</td><td>null</td><td>null</td><td>-8.908004</td><td>-131.414862</td><td>-3.799711</td><td>17.985</td><td>26.595</td><td>-23.057</td><td>3.24</td><td>1.49</td><td>null</td><td>null</td><td>null</td><td>89.6</td><td>2132.0</td><td>6.2</td><td>413654</td><td>null</td><td>null</td><td>null</td><td>null</td><td>null</td><td>null</td><td>null</td><td>2</td><td>3</td><td>0</td><td>0</td><td>0</td><td>0</td><td>3</td><td>0</td><td>null</td><td>0.031</td><td>null</td><td>null</td><td>2</td><td>2</td><td>0</td></tr><tr><td>1</td><td>2015-04-06 00:00:00</td><td>80.8</td><td>&quot;Keuchel, Dallas&quot;</td><td>543401</td><td>572971</td><td>0</td><td>7.0</td><td>1</td><td>-0.82</td><td>1.43</td><td>1</td><td>1</td><td>null</td><td>null</td><td>-2.59669</td><td>-118.371671</td><td>-1.826686</td><td>-6.587</td><td>22.218</td><td>-34.947</td><td>3.33</td><td>1.49</td><td>217.0</td><td>67.9</td><td>33.0</td><td>79.9</td><td>2151.0</td><td>5.7</td><td>413654</td><td>0.76</td><td>0.721</td><td>0.0</td><td>1.0</td><td>0.0</td><td>0.0</td><td>4.0</td><td>2</td><td>4</td><td>0</td><td>0</td><td>0</td><td>0</td><td>3</td><td>1</td><td>null</td><td>-0.179</td><td>null</td><td>null</td><td>5</td><td>3</td><td>0</td></tr></tbody></table></div>"
      ],
      "text/plain": [
       "shape: (5, 52)\n",
       "┌────────────┬────────────┬────────────┬───────────┬───┬───────────┬───────────┬───────┬───────────┐\n",
       "│ pitch_type ┆ game_date  ┆ release_sp ┆ player_na ┆ … ┆ swing_len ┆ next_pitc ┆ count ┆ base_stat │\n",
       "│ ---        ┆ ---        ┆ eed        ┆ me        ┆   ┆ gth       ┆ h         ┆ ---   ┆ e         │\n",
       "│ u32        ┆ datetime[μ ┆ ---        ┆ ---       ┆   ┆ ---       ┆ ---       ┆ u32   ┆ ---       │\n",
       "│            ┆ s]         ┆ f64        ┆ str       ┆   ┆ f64       ┆ u32       ┆       ┆ u32       │\n",
       "╞════════════╪════════════╪════════════╪═══════════╪═══╪═══════════╪═══════════╪═══════╪═══════════╡\n",
       "│ 0          ┆ 2015-04-06 ┆ 90.2       ┆ Keuchel,  ┆ … ┆ null      ┆ 0         ┆ 0     ┆ 0         │\n",
       "│            ┆ 00:00:00   ┆            ┆ Dallas    ┆   ┆           ┆           ┆       ┆           │\n",
       "│ 0          ┆ 2015-04-06 ┆ 89.7       ┆ Keuchel,  ┆ … ┆ null      ┆ 0         ┆ 1     ┆ 0         │\n",
       "│            ┆ 00:00:00   ┆            ┆ Dallas    ┆   ┆           ┆           ┆       ┆           │\n",
       "│ 2          ┆ 2015-04-06 ┆ 87.2       ┆ Keuchel,  ┆ … ┆ null      ┆ 0         ┆ 0     ┆ 0         │\n",
       "│            ┆ 00:00:00   ┆            ┆ Dallas    ┆   ┆           ┆           ┆       ┆           │\n",
       "│ 5          ┆ 2015-04-06 ┆ 89.8       ┆ Keuchel,  ┆ … ┆ null      ┆ 2         ┆ 2     ┆ 0         │\n",
       "│            ┆ 00:00:00   ┆            ┆ Dallas    ┆   ┆           ┆           ┆       ┆           │\n",
       "│ 1          ┆ 2015-04-06 ┆ 80.8       ┆ Keuchel,  ┆ … ┆ null      ┆ 5         ┆ 3     ┆ 0         │\n",
       "│            ┆ 00:00:00   ┆            ┆ Dallas    ┆   ┆           ┆           ┆       ┆           │\n",
       "└────────────┴────────────┴────────────┴───────────┴───┴───────────┴───────────┴───────┴───────────┘"
      ]
     },
     "execution_count": 10,
     "metadata": {},
     "output_type": "execute_result"
    }
   ],
   "source": [
    "print(df.select(\"base_state\").describe())\n",
    "\n",
    "df.head()"
   ]
  },
  {
   "cell_type": "code",
   "execution_count": 11,
   "metadata": {},
   "outputs": [
    {
     "name": "stdout",
     "output_type": "stream",
     "text": [
      "(591111, 52)\n",
      "(591111, 35)\n"
     ]
    },
    {
     "data": {
      "text/html": [
       "<div><style>\n",
       ".dataframe > thead > tr,\n",
       ".dataframe > tbody > tr {\n",
       "  text-align: right;\n",
       "  white-space: pre-wrap;\n",
       "}\n",
       "</style>\n",
       "<small>shape: (5, 35)</small><table border=\"1\" class=\"dataframe\"><thead><tr><th>pitch_type</th><th>game_date</th><th>release_speed</th><th>player_name</th><th>batter</th><th>pitcher</th><th>type</th><th>plate_x</th><th>plate_z</th><th>outs_when_up</th><th>inning</th><th>vx0</th><th>vy0</th><th>vz0</th><th>ax</th><th>ay</th><th>az</th><th>sz_top</th><th>sz_bot</th><th>effective_speed</th><th>release_spin_rate</th><th>release_extension</th><th>game_pk</th><th>at_bat_number</th><th>pitch_number</th><th>bat_score</th><th>fld_score</th><th>post_bat_score</th><th>post_fld_score</th><th>if_fielding_alignment</th><th>of_fielding_alignment</th><th>delta_run_exp</th><th>next_pitch</th><th>count</th><th>base_state</th></tr><tr><td>u32</td><td>datetime[μs]</td><td>f64</td><td>str</td><td>i64</td><td>i64</td><td>u32</td><td>f64</td><td>f64</td><td>i64</td><td>i64</td><td>f64</td><td>f64</td><td>f64</td><td>f64</td><td>f64</td><td>f64</td><td>f64</td><td>f64</td><td>f64</td><td>f64</td><td>f64</td><td>i64</td><td>i64</td><td>i64</td><td>i64</td><td>i64</td><td>i64</td><td>i64</td><td>u32</td><td>u32</td><td>f64</td><td>u32</td><td>u32</td><td>u32</td></tr></thead><tbody><tr><td>0</td><td>2015-04-06 00:00:00</td><td>90.2</td><td>&quot;Keuchel, Dallas&quot;</td><td>456422</td><td>572971</td><td>0</td><td>-0.2</td><td>2.42</td><td>0</td><td>1</td><td>-4.628975</td><td>-131.971479</td><td>-5.967792</td><td>9.441</td><td>25.153</td><td>-14.651</td><td>3.32</td><td>1.5</td><td>null</td><td>null</td><td>null</td><td>413654</td><td>1</td><td>2</td><td>0</td><td>0</td><td>0</td><td>0</td><td>null</td><td>null</td><td>-0.192</td><td>0</td><td>0</td><td>0</td></tr><tr><td>0</td><td>2015-04-06 00:00:00</td><td>89.7</td><td>&quot;Keuchel, Dallas&quot;</td><td>543401</td><td>572971</td><td>2</td><td>0.02</td><td>1.64</td><td>1</td><td>1</td><td>-3.799464</td><td>-131.134671</td><td>-7.613539</td><td>7.162</td><td>21.465</td><td>-16.083</td><td>3.34</td><td>1.48</td><td>null</td><td>null</td><td>null</td><td>413654</td><td>2</td><td>1</td><td>0</td><td>0</td><td>0</td><td>0</td><td>null</td><td>null</td><td>-0.025</td><td>0</td><td>1</td><td>0</td></tr><tr><td>2</td><td>2015-04-06 00:00:00</td><td>87.2</td><td>&quot;Keuchel, Dallas&quot;</td><td>543401</td><td>572971</td><td>1</td><td>-1.54</td><td>0.73</td><td>1</td><td>1</td><td>-6.769911</td><td>-127.314531</td><td>-7.249607</td><td>3.693</td><td>20.834</td><td>-24.441</td><td>3.27</td><td>1.49</td><td>null</td><td>null</td><td>null</td><td>413654</td><td>2</td><td>2</td><td>0</td><td>0</td><td>0</td><td>0</td><td>null</td><td>null</td><td>0.017</td><td>0</td><td>0</td><td>0</td></tr><tr><td>5</td><td>2015-04-06 00:00:00</td><td>89.8</td><td>&quot;Keuchel, Dallas&quot;</td><td>543401</td><td>572971</td><td>1</td><td>-1.06</td><td>2.54</td><td>1</td><td>1</td><td>-8.908004</td><td>-131.414862</td><td>-3.799711</td><td>17.985</td><td>26.595</td><td>-23.057</td><td>3.24</td><td>1.49</td><td>89.6</td><td>2132.0</td><td>6.2</td><td>413654</td><td>2</td><td>3</td><td>0</td><td>0</td><td>0</td><td>0</td><td>3</td><td>0</td><td>0.031</td><td>2</td><td>2</td><td>0</td></tr><tr><td>1</td><td>2015-04-06 00:00:00</td><td>80.8</td><td>&quot;Keuchel, Dallas&quot;</td><td>543401</td><td>572971</td><td>0</td><td>-0.82</td><td>1.43</td><td>1</td><td>1</td><td>-2.59669</td><td>-118.371671</td><td>-1.826686</td><td>-6.587</td><td>22.218</td><td>-34.947</td><td>3.33</td><td>1.49</td><td>79.9</td><td>2151.0</td><td>5.7</td><td>413654</td><td>2</td><td>4</td><td>0</td><td>0</td><td>0</td><td>0</td><td>3</td><td>1</td><td>-0.179</td><td>5</td><td>3</td><td>0</td></tr></tbody></table></div>"
      ],
      "text/plain": [
       "shape: (5, 35)\n",
       "┌────────────┬────────────┬────────────┬───────────┬───┬───────────┬───────────┬───────┬───────────┐\n",
       "│ pitch_type ┆ game_date  ┆ release_sp ┆ player_na ┆ … ┆ delta_run ┆ next_pitc ┆ count ┆ base_stat │\n",
       "│ ---        ┆ ---        ┆ eed        ┆ me        ┆   ┆ _exp      ┆ h         ┆ ---   ┆ e         │\n",
       "│ u32        ┆ datetime[μ ┆ ---        ┆ ---       ┆   ┆ ---       ┆ ---       ┆ u32   ┆ ---       │\n",
       "│            ┆ s]         ┆ f64        ┆ str       ┆   ┆ f64       ┆ u32       ┆       ┆ u32       │\n",
       "╞════════════╪════════════╪════════════╪═══════════╪═══╪═══════════╪═══════════╪═══════╪═══════════╡\n",
       "│ 0          ┆ 2015-04-06 ┆ 90.2       ┆ Keuchel,  ┆ … ┆ -0.192    ┆ 0         ┆ 0     ┆ 0         │\n",
       "│            ┆ 00:00:00   ┆            ┆ Dallas    ┆   ┆           ┆           ┆       ┆           │\n",
       "│ 0          ┆ 2015-04-06 ┆ 89.7       ┆ Keuchel,  ┆ … ┆ -0.025    ┆ 0         ┆ 1     ┆ 0         │\n",
       "│            ┆ 00:00:00   ┆            ┆ Dallas    ┆   ┆           ┆           ┆       ┆           │\n",
       "│ 2          ┆ 2015-04-06 ┆ 87.2       ┆ Keuchel,  ┆ … ┆ 0.017     ┆ 0         ┆ 0     ┆ 0         │\n",
       "│            ┆ 00:00:00   ┆            ┆ Dallas    ┆   ┆           ┆           ┆       ┆           │\n",
       "│ 5          ┆ 2015-04-06 ┆ 89.8       ┆ Keuchel,  ┆ … ┆ 0.031     ┆ 2         ┆ 2     ┆ 0         │\n",
       "│            ┆ 00:00:00   ┆            ┆ Dallas    ┆   ┆           ┆           ┆       ┆           │\n",
       "│ 1          ┆ 2015-04-06 ┆ 80.8       ┆ Keuchel,  ┆ … ┆ -0.179    ┆ 5         ┆ 3     ┆ 0         │\n",
       "│            ┆ 00:00:00   ┆            ┆ Dallas    ┆   ┆           ┆           ┆       ┆           │\n",
       "└────────────┴────────────┴────────────┴───────────┴───┴───────────┴───────────┴───────┴───────────┘"
      ]
     },
     "execution_count": 11,
     "metadata": {},
     "output_type": "execute_result"
    }
   ],
   "source": [
    "print(df.shape)\n",
    "\n",
    "# # find columns with null percentage > 10%\n",
    "# # Calculate null percentages for all columns\n",
    "# null_percentages = df.select(pl.all().is_null().sum() / df.height)\n",
    "\n",
    "# # Filter columns where null percentage > 10%\n",
    "# columns_with_too_many_nulls = (\n",
    "#     null_percentages.melt().filter(pl.col(\"value\") > 0.1).select(\"variable\")\n",
    "# )\n",
    "\n",
    "# print(\"Columns with >10% null values:\")\n",
    "# print(columns_with_too_many_nulls)\n",
    "\n",
    "# drop columns with too many nulls\n",
    "df = df.drop(\n",
    "    df.select(pl.all().is_null().sum() / df.height)\n",
    "    .unpivot()\n",
    "    .filter(pl.col(\"value\") > 0.05)\n",
    "    .select(\"variable\")\n",
    "    .to_series()\n",
    "    .to_list()\n",
    ")\n",
    "print(df.shape)\n",
    "df.head()"
   ]
  },
  {
   "cell_type": "code",
   "execution_count": 12,
   "metadata": {},
   "outputs": [
    {
     "data": {
      "text/html": [
       "<div><style>\n",
       ".dataframe > thead > tr,\n",
       ".dataframe > tbody > tr {\n",
       "  text-align: right;\n",
       "  white-space: pre-wrap;\n",
       "}\n",
       "</style>\n",
       "<small>shape: (5, 35)</small><table border=\"1\" class=\"dataframe\"><thead><tr><th>pitch_type</th><th>game_date</th><th>release_speed</th><th>player_name</th><th>batter</th><th>pitcher</th><th>type</th><th>plate_x</th><th>plate_z</th><th>outs_when_up</th><th>inning</th><th>vx0</th><th>vy0</th><th>vz0</th><th>ax</th><th>ay</th><th>az</th><th>sz_top</th><th>sz_bot</th><th>effective_speed</th><th>release_spin_rate</th><th>release_extension</th><th>game_pk</th><th>at_bat_number</th><th>pitch_number</th><th>bat_score</th><th>fld_score</th><th>post_bat_score</th><th>post_fld_score</th><th>if_fielding_alignment</th><th>of_fielding_alignment</th><th>delta_run_exp</th><th>next_pitch</th><th>count</th><th>base_state</th></tr><tr><td>u32</td><td>datetime[μs]</td><td>f64</td><td>str</td><td>i64</td><td>i64</td><td>u32</td><td>f64</td><td>f64</td><td>i64</td><td>i64</td><td>f64</td><td>f64</td><td>f64</td><td>f64</td><td>f64</td><td>f64</td><td>f64</td><td>f64</td><td>f64</td><td>f64</td><td>f64</td><td>i64</td><td>i64</td><td>i64</td><td>i64</td><td>i64</td><td>i64</td><td>i64</td><td>u32</td><td>u32</td><td>f64</td><td>u32</td><td>u32</td><td>u32</td></tr></thead><tbody><tr><td>0</td><td>2015-04-06 00:00:00</td><td>90.2</td><td>&quot;Keuchel, Dallas&quot;</td><td>456422</td><td>572971</td><td>0</td><td>-0.2</td><td>2.42</td><td>0</td><td>1</td><td>-4.628975</td><td>-131.971479</td><td>-5.967792</td><td>9.441</td><td>25.153</td><td>-14.651</td><td>3.32</td><td>1.5</td><td>null</td><td>null</td><td>null</td><td>413654</td><td>1</td><td>2</td><td>0</td><td>0</td><td>0</td><td>0</td><td>null</td><td>null</td><td>-0.192</td><td>0</td><td>0</td><td>0</td></tr><tr><td>0</td><td>2015-04-06 00:00:00</td><td>89.7</td><td>&quot;Keuchel, Dallas&quot;</td><td>543401</td><td>572971</td><td>2</td><td>0.02</td><td>1.64</td><td>1</td><td>1</td><td>-3.799464</td><td>-131.134671</td><td>-7.613539</td><td>7.162</td><td>21.465</td><td>-16.083</td><td>3.34</td><td>1.48</td><td>null</td><td>null</td><td>null</td><td>413654</td><td>2</td><td>1</td><td>0</td><td>0</td><td>0</td><td>0</td><td>null</td><td>null</td><td>-0.025</td><td>0</td><td>1</td><td>0</td></tr><tr><td>2</td><td>2015-04-06 00:00:00</td><td>87.2</td><td>&quot;Keuchel, Dallas&quot;</td><td>543401</td><td>572971</td><td>1</td><td>-1.54</td><td>0.73</td><td>1</td><td>1</td><td>-6.769911</td><td>-127.314531</td><td>-7.249607</td><td>3.693</td><td>20.834</td><td>-24.441</td><td>3.27</td><td>1.49</td><td>null</td><td>null</td><td>null</td><td>413654</td><td>2</td><td>2</td><td>0</td><td>0</td><td>0</td><td>0</td><td>null</td><td>null</td><td>0.017</td><td>0</td><td>0</td><td>0</td></tr><tr><td>5</td><td>2015-04-06 00:00:00</td><td>89.8</td><td>&quot;Keuchel, Dallas&quot;</td><td>543401</td><td>572971</td><td>1</td><td>-1.06</td><td>2.54</td><td>1</td><td>1</td><td>-8.908004</td><td>-131.414862</td><td>-3.799711</td><td>17.985</td><td>26.595</td><td>-23.057</td><td>3.24</td><td>1.49</td><td>89.6</td><td>2132.0</td><td>6.2</td><td>413654</td><td>2</td><td>3</td><td>0</td><td>0</td><td>0</td><td>0</td><td>3</td><td>0</td><td>0.031</td><td>2</td><td>2</td><td>0</td></tr><tr><td>1</td><td>2015-04-06 00:00:00</td><td>80.8</td><td>&quot;Keuchel, Dallas&quot;</td><td>543401</td><td>572971</td><td>0</td><td>-0.82</td><td>1.43</td><td>1</td><td>1</td><td>-2.59669</td><td>-118.371671</td><td>-1.826686</td><td>-6.587</td><td>22.218</td><td>-34.947</td><td>3.33</td><td>1.49</td><td>79.9</td><td>2151.0</td><td>5.7</td><td>413654</td><td>2</td><td>4</td><td>0</td><td>0</td><td>0</td><td>0</td><td>3</td><td>1</td><td>-0.179</td><td>5</td><td>3</td><td>0</td></tr></tbody></table></div>"
      ],
      "text/plain": [
       "shape: (5, 35)\n",
       "┌────────────┬────────────┬────────────┬───────────┬───┬───────────┬───────────┬───────┬───────────┐\n",
       "│ pitch_type ┆ game_date  ┆ release_sp ┆ player_na ┆ … ┆ delta_run ┆ next_pitc ┆ count ┆ base_stat │\n",
       "│ ---        ┆ ---        ┆ eed        ┆ me        ┆   ┆ _exp      ┆ h         ┆ ---   ┆ e         │\n",
       "│ u32        ┆ datetime[μ ┆ ---        ┆ ---       ┆   ┆ ---       ┆ ---       ┆ u32   ┆ ---       │\n",
       "│            ┆ s]         ┆ f64        ┆ str       ┆   ┆ f64       ┆ u32       ┆       ┆ u32       │\n",
       "╞════════════╪════════════╪════════════╪═══════════╪═══╪═══════════╪═══════════╪═══════╪═══════════╡\n",
       "│ 0          ┆ 2015-04-06 ┆ 90.2       ┆ Keuchel,  ┆ … ┆ -0.192    ┆ 0         ┆ 0     ┆ 0         │\n",
       "│            ┆ 00:00:00   ┆            ┆ Dallas    ┆   ┆           ┆           ┆       ┆           │\n",
       "│ 0          ┆ 2015-04-06 ┆ 89.7       ┆ Keuchel,  ┆ … ┆ -0.025    ┆ 0         ┆ 1     ┆ 0         │\n",
       "│            ┆ 00:00:00   ┆            ┆ Dallas    ┆   ┆           ┆           ┆       ┆           │\n",
       "│ 2          ┆ 2015-04-06 ┆ 87.2       ┆ Keuchel,  ┆ … ┆ 0.017     ┆ 0         ┆ 0     ┆ 0         │\n",
       "│            ┆ 00:00:00   ┆            ┆ Dallas    ┆   ┆           ┆           ┆       ┆           │\n",
       "│ 5          ┆ 2015-04-06 ┆ 89.8       ┆ Keuchel,  ┆ … ┆ 0.031     ┆ 2         ┆ 2     ┆ 0         │\n",
       "│            ┆ 00:00:00   ┆            ┆ Dallas    ┆   ┆           ┆           ┆       ┆           │\n",
       "│ 1          ┆ 2015-04-06 ┆ 80.8       ┆ Keuchel,  ┆ … ┆ -0.179    ┆ 5         ┆ 3     ┆ 0         │\n",
       "│            ┆ 00:00:00   ┆            ┆ Dallas    ┆   ┆           ┆           ┆       ┆           │\n",
       "└────────────┴────────────┴────────────┴───────────┴───┴───────────┴───────────┴───────┴───────────┘"
      ]
     },
     "execution_count": 12,
     "metadata": {},
     "output_type": "execute_result"
    }
   ],
   "source": [
    "# release point consistency feature\n",
    "\n",
    "\n",
    "df.head()"
   ]
  },
  {
   "cell_type": "code",
   "execution_count": 13,
   "metadata": {},
   "outputs": [],
   "source": [
    "# # Late inning pressure (boolean)\n",
    "# df = df.with_columns(\n",
    "#     ((pl.col(\"inning\") >= 7) & (pl.col(\"bat_score\") - pl.col(\"fld_score\")).abs() <= 3)\n",
    "#     .cast(pl.Int32)\n",
    "#     .alias(\"high_pressure\")\n",
    "# )\n",
    "\n",
    "# df.head()"
   ]
  },
  {
   "cell_type": "code",
   "execution_count": 14,
   "metadata": {},
   "outputs": [
    {
     "data": {
      "text/html": [
       "<div><style>\n",
       ".dataframe > thead > tr,\n",
       ".dataframe > tbody > tr {\n",
       "  text-align: right;\n",
       "  white-space: pre-wrap;\n",
       "}\n",
       "</style>\n",
       "<small>shape: (5, 35)</small><table border=\"1\" class=\"dataframe\"><thead><tr><th>pitch_type</th><th>game_date</th><th>release_speed</th><th>player_name</th><th>batter</th><th>pitcher</th><th>type</th><th>plate_x</th><th>plate_z</th><th>outs_when_up</th><th>inning</th><th>vx0</th><th>vy0</th><th>vz0</th><th>ax</th><th>ay</th><th>az</th><th>sz_top</th><th>sz_bot</th><th>effective_speed</th><th>release_spin_rate</th><th>release_extension</th><th>game_pk</th><th>at_bat_number</th><th>pitch_number</th><th>bat_score</th><th>fld_score</th><th>post_bat_score</th><th>post_fld_score</th><th>if_fielding_alignment</th><th>of_fielding_alignment</th><th>delta_run_exp</th><th>next_pitch</th><th>count</th><th>base_state</th></tr><tr><td>u32</td><td>datetime[μs]</td><td>f64</td><td>str</td><td>i64</td><td>i64</td><td>u32</td><td>f64</td><td>f64</td><td>i64</td><td>i64</td><td>f64</td><td>f64</td><td>f64</td><td>f64</td><td>f64</td><td>f64</td><td>f64</td><td>f64</td><td>f64</td><td>f64</td><td>f64</td><td>i64</td><td>i64</td><td>i64</td><td>i64</td><td>i64</td><td>i64</td><td>i64</td><td>u32</td><td>u32</td><td>f64</td><td>u32</td><td>u32</td><td>u32</td></tr></thead><tbody><tr><td>0</td><td>2015-04-06 00:00:00</td><td>90.2</td><td>&quot;Keuchel, Dallas&quot;</td><td>456422</td><td>572971</td><td>0</td><td>-0.2</td><td>2.42</td><td>0</td><td>1</td><td>-4.628975</td><td>-131.971479</td><td>-5.967792</td><td>9.441</td><td>25.153</td><td>-14.651</td><td>3.32</td><td>1.5</td><td>null</td><td>null</td><td>null</td><td>413654</td><td>1</td><td>2</td><td>0</td><td>0</td><td>0</td><td>0</td><td>null</td><td>null</td><td>-0.192</td><td>0</td><td>0</td><td>0</td></tr><tr><td>0</td><td>2015-04-06 00:00:00</td><td>89.7</td><td>&quot;Keuchel, Dallas&quot;</td><td>543401</td><td>572971</td><td>2</td><td>0.02</td><td>1.64</td><td>1</td><td>1</td><td>-3.799464</td><td>-131.134671</td><td>-7.613539</td><td>7.162</td><td>21.465</td><td>-16.083</td><td>3.34</td><td>1.48</td><td>null</td><td>null</td><td>null</td><td>413654</td><td>2</td><td>1</td><td>0</td><td>0</td><td>0</td><td>0</td><td>null</td><td>null</td><td>-0.025</td><td>0</td><td>1</td><td>0</td></tr><tr><td>2</td><td>2015-04-06 00:00:00</td><td>87.2</td><td>&quot;Keuchel, Dallas&quot;</td><td>543401</td><td>572971</td><td>1</td><td>-1.54</td><td>0.73</td><td>1</td><td>1</td><td>-6.769911</td><td>-127.314531</td><td>-7.249607</td><td>3.693</td><td>20.834</td><td>-24.441</td><td>3.27</td><td>1.49</td><td>null</td><td>null</td><td>null</td><td>413654</td><td>2</td><td>2</td><td>0</td><td>0</td><td>0</td><td>0</td><td>null</td><td>null</td><td>0.017</td><td>0</td><td>0</td><td>0</td></tr><tr><td>5</td><td>2015-04-06 00:00:00</td><td>89.8</td><td>&quot;Keuchel, Dallas&quot;</td><td>543401</td><td>572971</td><td>1</td><td>-1.06</td><td>2.54</td><td>1</td><td>1</td><td>-8.908004</td><td>-131.414862</td><td>-3.799711</td><td>17.985</td><td>26.595</td><td>-23.057</td><td>3.24</td><td>1.49</td><td>89.6</td><td>2132.0</td><td>6.2</td><td>413654</td><td>2</td><td>3</td><td>0</td><td>0</td><td>0</td><td>0</td><td>3</td><td>0</td><td>0.031</td><td>2</td><td>2</td><td>0</td></tr><tr><td>1</td><td>2015-04-06 00:00:00</td><td>80.8</td><td>&quot;Keuchel, Dallas&quot;</td><td>543401</td><td>572971</td><td>0</td><td>-0.82</td><td>1.43</td><td>1</td><td>1</td><td>-2.59669</td><td>-118.371671</td><td>-1.826686</td><td>-6.587</td><td>22.218</td><td>-34.947</td><td>3.33</td><td>1.49</td><td>79.9</td><td>2151.0</td><td>5.7</td><td>413654</td><td>2</td><td>4</td><td>0</td><td>0</td><td>0</td><td>0</td><td>3</td><td>1</td><td>-0.179</td><td>5</td><td>3</td><td>0</td></tr></tbody></table></div>"
      ],
      "text/plain": [
       "shape: (5, 35)\n",
       "┌────────────┬────────────┬────────────┬───────────┬───┬───────────┬───────────┬───────┬───────────┐\n",
       "│ pitch_type ┆ game_date  ┆ release_sp ┆ player_na ┆ … ┆ delta_run ┆ next_pitc ┆ count ┆ base_stat │\n",
       "│ ---        ┆ ---        ┆ eed        ┆ me        ┆   ┆ _exp      ┆ h         ┆ ---   ┆ e         │\n",
       "│ u32        ┆ datetime[μ ┆ ---        ┆ ---       ┆   ┆ ---       ┆ ---       ┆ u32   ┆ ---       │\n",
       "│            ┆ s]         ┆ f64        ┆ str       ┆   ┆ f64       ┆ u32       ┆       ┆ u32       │\n",
       "╞════════════╪════════════╪════════════╪═══════════╪═══╪═══════════╪═══════════╪═══════╪═══════════╡\n",
       "│ 0          ┆ 2015-04-06 ┆ 90.2       ┆ Keuchel,  ┆ … ┆ -0.192    ┆ 0         ┆ 0     ┆ 0         │\n",
       "│            ┆ 00:00:00   ┆            ┆ Dallas    ┆   ┆           ┆           ┆       ┆           │\n",
       "│ 0          ┆ 2015-04-06 ┆ 89.7       ┆ Keuchel,  ┆ … ┆ -0.025    ┆ 0         ┆ 1     ┆ 0         │\n",
       "│            ┆ 00:00:00   ┆            ┆ Dallas    ┆   ┆           ┆           ┆       ┆           │\n",
       "│ 2          ┆ 2015-04-06 ┆ 87.2       ┆ Keuchel,  ┆ … ┆ 0.017     ┆ 0         ┆ 0     ┆ 0         │\n",
       "│            ┆ 00:00:00   ┆            ┆ Dallas    ┆   ┆           ┆           ┆       ┆           │\n",
       "│ 5          ┆ 2015-04-06 ┆ 89.8       ┆ Keuchel,  ┆ … ┆ 0.031     ┆ 2         ┆ 2     ┆ 0         │\n",
       "│            ┆ 00:00:00   ┆            ┆ Dallas    ┆   ┆           ┆           ┆       ┆           │\n",
       "│ 1          ┆ 2015-04-06 ┆ 80.8       ┆ Keuchel,  ┆ … ┆ -0.179    ┆ 5         ┆ 3     ┆ 0         │\n",
       "│            ┆ 00:00:00   ┆            ┆ Dallas    ┆   ┆           ┆           ┆       ┆           │\n",
       "└────────────┴────────────┴────────────┴───────────┴───┴───────────┴───────────┴───────┴───────────┘"
      ]
     },
     "execution_count": 14,
     "metadata": {},
     "output_type": "execute_result"
    }
   ],
   "source": [
    "def sort_pitch_data(df):\n",
    "    return df.sort(\n",
    "        [\n",
    "            \"game_date\",  # Primary: chronological order\n",
    "            \"game_pk\",  # Secondary: unique game identifier\n",
    "            \"inning\",  # Tertiary: game sequence\n",
    "            \"at_bat_number\",  # Game at-bat order\n",
    "            \"pitch_number\",  # At-bat pitch sequence\n",
    "        ],\n",
    "        descending=False,  # Ascending order for all\n",
    "    )\n",
    "\n",
    "\n",
    "df = sort_pitch_data(df)\n",
    "df.head()"
   ]
  },
  {
   "cell_type": "code",
   "execution_count": 15,
   "metadata": {},
   "outputs": [
    {
     "data": {
      "text/html": [
       "<div><style>\n",
       ".dataframe > thead > tr,\n",
       ".dataframe > tbody > tr {\n",
       "  text-align: right;\n",
       "  white-space: pre-wrap;\n",
       "}\n",
       "</style>\n",
       "<small>shape: (5, 35)</small><table border=\"1\" class=\"dataframe\"><thead><tr><th>pitch_type</th><th>game_date</th><th>release_speed</th><th>player_name</th><th>batter</th><th>pitcher</th><th>type</th><th>plate_x</th><th>plate_z</th><th>outs_when_up</th><th>inning</th><th>vx0</th><th>vy0</th><th>vz0</th><th>ax</th><th>ay</th><th>az</th><th>sz_top</th><th>sz_bot</th><th>effective_speed</th><th>release_spin_rate</th><th>release_extension</th><th>game_pk</th><th>at_bat_number</th><th>pitch_number</th><th>bat_score</th><th>fld_score</th><th>post_bat_score</th><th>post_fld_score</th><th>if_fielding_alignment</th><th>of_fielding_alignment</th><th>delta_run_exp</th><th>next_pitch</th><th>count</th><th>base_state</th></tr><tr><td>u32</td><td>datetime[μs]</td><td>f64</td><td>str</td><td>i64</td><td>i64</td><td>u32</td><td>f64</td><td>f64</td><td>i64</td><td>i64</td><td>f64</td><td>f64</td><td>f64</td><td>f64</td><td>f64</td><td>f64</td><td>f64</td><td>f64</td><td>f64</td><td>f64</td><td>f64</td><td>i64</td><td>i64</td><td>i64</td><td>i64</td><td>i64</td><td>i64</td><td>i64</td><td>u32</td><td>u32</td><td>f64</td><td>u32</td><td>u32</td><td>u32</td></tr></thead><tbody><tr><td>0</td><td>2015-04-06 00:00:00</td><td>90.2</td><td>&quot;Keuchel, Dallas&quot;</td><td>456422</td><td>572971</td><td>0</td><td>-0.2</td><td>2.42</td><td>0</td><td>1</td><td>-4.628975</td><td>-131.971479</td><td>-5.967792</td><td>9.441</td><td>25.153</td><td>-14.651</td><td>3.32</td><td>1.5</td><td>null</td><td>null</td><td>null</td><td>413654</td><td>1</td><td>2</td><td>0</td><td>0</td><td>0</td><td>0</td><td>null</td><td>null</td><td>-0.192</td><td>0</td><td>0</td><td>0</td></tr><tr><td>0</td><td>2015-04-06 00:00:00</td><td>89.7</td><td>&quot;Keuchel, Dallas&quot;</td><td>543401</td><td>572971</td><td>2</td><td>0.02</td><td>1.64</td><td>1</td><td>1</td><td>-3.799464</td><td>-131.134671</td><td>-7.613539</td><td>7.162</td><td>21.465</td><td>-16.083</td><td>3.34</td><td>1.48</td><td>null</td><td>null</td><td>null</td><td>413654</td><td>2</td><td>1</td><td>0</td><td>0</td><td>0</td><td>0</td><td>null</td><td>null</td><td>-0.025</td><td>0</td><td>1</td><td>0</td></tr><tr><td>2</td><td>2015-04-06 00:00:00</td><td>87.2</td><td>&quot;Keuchel, Dallas&quot;</td><td>543401</td><td>572971</td><td>1</td><td>-1.54</td><td>0.73</td><td>1</td><td>1</td><td>-6.769911</td><td>-127.314531</td><td>-7.249607</td><td>3.693</td><td>20.834</td><td>-24.441</td><td>3.27</td><td>1.49</td><td>null</td><td>null</td><td>null</td><td>413654</td><td>2</td><td>2</td><td>0</td><td>0</td><td>0</td><td>0</td><td>null</td><td>null</td><td>0.017</td><td>0</td><td>0</td><td>0</td></tr><tr><td>5</td><td>2015-04-06 00:00:00</td><td>89.8</td><td>&quot;Keuchel, Dallas&quot;</td><td>543401</td><td>572971</td><td>1</td><td>-1.06</td><td>2.54</td><td>1</td><td>1</td><td>-8.908004</td><td>-131.414862</td><td>-3.799711</td><td>17.985</td><td>26.595</td><td>-23.057</td><td>3.24</td><td>1.49</td><td>89.6</td><td>2132.0</td><td>6.2</td><td>413654</td><td>2</td><td>3</td><td>0</td><td>0</td><td>0</td><td>0</td><td>3</td><td>0</td><td>0.031</td><td>2</td><td>2</td><td>0</td></tr><tr><td>1</td><td>2015-04-06 00:00:00</td><td>80.8</td><td>&quot;Keuchel, Dallas&quot;</td><td>543401</td><td>572971</td><td>0</td><td>-0.82</td><td>1.43</td><td>1</td><td>1</td><td>-2.59669</td><td>-118.371671</td><td>-1.826686</td><td>-6.587</td><td>22.218</td><td>-34.947</td><td>3.33</td><td>1.49</td><td>79.9</td><td>2151.0</td><td>5.7</td><td>413654</td><td>2</td><td>4</td><td>0</td><td>0</td><td>0</td><td>0</td><td>3</td><td>1</td><td>-0.179</td><td>5</td><td>3</td><td>0</td></tr></tbody></table></div>"
      ],
      "text/plain": [
       "shape: (5, 35)\n",
       "┌────────────┬────────────┬────────────┬───────────┬───┬───────────┬───────────┬───────┬───────────┐\n",
       "│ pitch_type ┆ game_date  ┆ release_sp ┆ player_na ┆ … ┆ delta_run ┆ next_pitc ┆ count ┆ base_stat │\n",
       "│ ---        ┆ ---        ┆ eed        ┆ me        ┆   ┆ _exp      ┆ h         ┆ ---   ┆ e         │\n",
       "│ u32        ┆ datetime[μ ┆ ---        ┆ ---       ┆   ┆ ---       ┆ ---       ┆ u32   ┆ ---       │\n",
       "│            ┆ s]         ┆ f64        ┆ str       ┆   ┆ f64       ┆ u32       ┆       ┆ u32       │\n",
       "╞════════════╪════════════╪════════════╪═══════════╪═══╪═══════════╪═══════════╪═══════╪═══════════╡\n",
       "│ 0          ┆ 2015-04-06 ┆ 90.2       ┆ Keuchel,  ┆ … ┆ -0.192    ┆ 0         ┆ 0     ┆ 0         │\n",
       "│            ┆ 00:00:00   ┆            ┆ Dallas    ┆   ┆           ┆           ┆       ┆           │\n",
       "│ 0          ┆ 2015-04-06 ┆ 89.7       ┆ Keuchel,  ┆ … ┆ -0.025    ┆ 0         ┆ 1     ┆ 0         │\n",
       "│            ┆ 00:00:00   ┆            ┆ Dallas    ┆   ┆           ┆           ┆       ┆           │\n",
       "│ 2          ┆ 2015-04-06 ┆ 87.2       ┆ Keuchel,  ┆ … ┆ 0.017     ┆ 0         ┆ 0     ┆ 0         │\n",
       "│            ┆ 00:00:00   ┆            ┆ Dallas    ┆   ┆           ┆           ┆       ┆           │\n",
       "│ 5          ┆ 2015-04-06 ┆ 89.8       ┆ Keuchel,  ┆ … ┆ 0.031     ┆ 2         ┆ 2     ┆ 0         │\n",
       "│            ┆ 00:00:00   ┆            ┆ Dallas    ┆   ┆           ┆           ┆       ┆           │\n",
       "│ 1          ┆ 2015-04-06 ┆ 80.8       ┆ Keuchel,  ┆ … ┆ -0.179    ┆ 5         ┆ 3     ┆ 0         │\n",
       "│            ┆ 00:00:00   ┆            ┆ Dallas    ┆   ┆           ┆           ┆       ┆           │\n",
       "└────────────┴────────────┴────────────┴───────────┴───┴───────────┴───────────┴───────┴───────────┘"
      ]
     },
     "execution_count": 15,
     "metadata": {},
     "output_type": "execute_result"
    }
   ],
   "source": [
    "df.head()"
   ]
  },
  {
   "cell_type": "code",
   "execution_count": 16,
   "metadata": {},
   "outputs": [
    {
     "name": "stdout",
     "output_type": "stream",
     "text": [
      "591111\n"
     ]
    }
   ],
   "source": [
    "print(df.height)\n",
    "filtered = []\n",
    "for pitcher_df in df.group_by(\"pitcher\"):\n",
    "    pitcher_code = pitcher_df[0]\n",
    "    pitcher_df = pitcher_df[1]\n",
    "    val_counts = (\n",
    "        pitcher_df.select(\n",
    "            pl.col(\"pitch_type\").value_counts(normalize=True).alias(\"pitch_type_counts\")\n",
    "        )\n",
    "        .unnest(\"pitch_type_counts\")\n",
    "        .sort(\"proportion\", descending=True)\n",
    "    )\n",
    "\n",
    "    # Get pitch types with proportion < 0.01\n",
    "    low_prop_pitches = (\n",
    "        val_counts.filter(pl.col(\"proportion\") < 0.01)[\"pitch_type\"].unique().to_list()\n",
    "    )\n",
    "\n",
    "    # Filter out those pitch types\n",
    "    pitcher_df = pitcher_df.filter(~pl.col(\"pitch_type\").is_in(low_prop_pitches))\n",
    "\n",
    "    # combine back to main df\n",
    "    filtered.append(pitcher_df)\n",
    "# combine back to one df\n",
    "df = pl.concat(filtered)"
   ]
  },
  {
   "cell_type": "code",
   "execution_count": 17,
   "metadata": {},
   "outputs": [],
   "source": [
    "batting_df = pb.batting_stats_bref(params[\"clean\"][\"start_year\"])\n",
    "player_ids = list(df.select(\"batter\").unique().to_pandas()[\"batter\"])\n",
    "batting_df = pl.DataFrame(batting_df[batting_df[\"mlbID\"].isin(player_ids)])\n",
    "batting_df = batting_df.drop(\n",
    "    [\n",
    "        \"Name\",\n",
    "        \"Age\",\n",
    "        \"#days\",\n",
    "        \"Lev\",\n",
    "        \"Tm\",\n",
    "        \"G\",\n",
    "        \"PA\",\n",
    "        \"AB\",\n",
    "        \"SO\",\n",
    "        \"HBP\",\n",
    "        \"SH\",\n",
    "        \"SF\",\n",
    "        \"SB\",\n",
    "        \"CS\",\n",
    "    ]\n",
    ")\n",
    "df = df.join(batting_df, left_on=\"batter\", right_on=\"mlbID\", how=\"left\")\n",
    "\n",
    "df = df.fill_null(-1)\n",
    "df = df.fill_nan(-1)"
   ]
  },
  {
   "cell_type": "code",
   "execution_count": 18,
   "metadata": {},
   "outputs": [
    {
     "data": {
      "text/html": [
       "<div><style>\n",
       ".dataframe > thead > tr,\n",
       ".dataframe > tbody > tr {\n",
       "  text-align: right;\n",
       "  white-space: pre-wrap;\n",
       "}\n",
       "</style>\n",
       "<small>shape: (20, 48)</small><table border=\"1\" class=\"dataframe\"><thead><tr><th>pitch_type</th><th>game_date</th><th>release_speed</th><th>player_name</th><th>batter</th><th>pitcher</th><th>type</th><th>plate_x</th><th>plate_z</th><th>outs_when_up</th><th>inning</th><th>vx0</th><th>vy0</th><th>vz0</th><th>ax</th><th>ay</th><th>az</th><th>sz_top</th><th>sz_bot</th><th>effective_speed</th><th>release_spin_rate</th><th>release_extension</th><th>game_pk</th><th>at_bat_number</th><th>pitch_number</th><th>bat_score</th><th>fld_score</th><th>post_bat_score</th><th>post_fld_score</th><th>if_fielding_alignment</th><th>of_fielding_alignment</th><th>delta_run_exp</th><th>next_pitch</th><th>count</th><th>base_state</th><th>R</th><th>H</th><th>2B</th><th>3B</th><th>HR</th><th>RBI</th><th>BB</th><th>IBB</th><th>GDP</th><th>BA</th><th>OBP</th><th>SLG</th><th>OPS</th></tr><tr><td>i64</td><td>datetime[μs]</td><td>f64</td><td>str</td><td>i64</td><td>i64</td><td>i64</td><td>f64</td><td>f64</td><td>i64</td><td>i64</td><td>f64</td><td>f64</td><td>f64</td><td>f64</td><td>f64</td><td>f64</td><td>f64</td><td>f64</td><td>f64</td><td>f64</td><td>f64</td><td>i64</td><td>i64</td><td>i64</td><td>i64</td><td>i64</td><td>i64</td><td>i64</td><td>i64</td><td>i64</td><td>f64</td><td>i64</td><td>i64</td><td>i64</td><td>i64</td><td>i64</td><td>i64</td><td>i64</td><td>i64</td><td>i64</td><td>i64</td><td>i64</td><td>i64</td><td>f64</td><td>f64</td><td>f64</td><td>f64</td></tr></thead><tbody><tr><td>5</td><td>2015-04-12 00:00:00</td><td>97.1</td><td>&quot;Sale, Chris&quot;</td><td>542454</td><td>519242</td><td>2</td><td>-0.08</td><td>3.11</td><td>0</td><td>1</td><td>-11.928961</td><td>-142.008098</td><td>-1.908309</td><td>21.781</td><td>35.521</td><td>-18.095</td><td>3.44</td><td>1.47</td><td>96.4</td><td>2418.0</td><td>6.4</td><td>413732</td><td>1</td><td>1</td><td>0</td><td>0</td><td>0</td><td>0</td><td>0</td><td>0</td><td>-0.032</td><td>1</td><td>1</td><td>0</td><td>30</td><td>56</td><td>10</td><td>5</td><td>0</td><td>21</td><td>6</td><td>1</td><td>7</td><td>0.215</td><td>0.241</td><td>0.291</td><td>0.532</td></tr><tr><td>5</td><td>2015-04-12 00:00:00</td><td>89.8</td><td>&quot;Sale, Chris&quot;</td><td>542454</td><td>519242</td><td>0</td><td>0.06</td><td>1.93</td><td>0</td><td>1</td><td>-10.04573</td><td>-131.389047</td><td>-1.895191</td><td>16.023</td><td>27.088</td><td>-26.441</td><td>3.33</td><td>1.46</td><td>89.6</td><td>2093.0</td><td>6.3</td><td>413732</td><td>1</td><td>2</td><td>0</td><td>0</td><td>0</td><td>0</td><td>0</td><td>1</td><td>-0.192</td><td>5</td><td>0</td><td>0</td><td>30</td><td>56</td><td>10</td><td>5</td><td>0</td><td>21</td><td>6</td><td>1</td><td>7</td><td>0.215</td><td>0.241</td><td>0.291</td><td>0.532</td></tr><tr><td>5</td><td>2015-04-12 00:00:00</td><td>97.3</td><td>&quot;Sale, Chris&quot;</td><td>572821</td><td>519242</td><td>1</td><td>-1.0</td><td>1.41</td><td>1</td><td>1</td><td>-13.444729</td><td>-142.165101</td><td>-5.347231</td><td>20.977</td><td>36.72</td><td>-20.349</td><td>3.02</td><td>1.25</td><td>96.6</td><td>2122.0</td><td>6.4</td><td>413732</td><td>2</td><td>1</td><td>0</td><td>0</td><td>0</td><td>0</td><td>2</td><td>0</td><td>0.024</td><td>5</td><td>1</td><td>0</td><td>101</td><td>148</td><td>39</td><td>4</td><td>28</td><td>77</td><td>61</td><td>2</td><td>10</td><td>0.236</td><td>0.307</td><td>0.444</td><td>0.751</td></tr><tr><td>5</td><td>2015-04-12 00:00:00</td><td>97.3</td><td>&quot;Sale, Chris&quot;</td><td>572821</td><td>519242</td><td>2</td><td>1.13</td><td>2.6</td><td>1</td><td>1</td><td>-9.851442</td><td>-142.369666</td><td>-4.262231</td><td>27.16</td><td>30.982</td><td>-13.014</td><td>2.93</td><td>1.25</td><td>97.2</td><td>2465.0</td><td>6.3</td><td>413732</td><td>2</td><td>2</td><td>0</td><td>0</td><td>0</td><td>0</td><td>2</td><td>0</td><td>-0.031</td><td>5</td><td>7</td><td>0</td><td>101</td><td>148</td><td>39</td><td>4</td><td>28</td><td>77</td><td>61</td><td>2</td><td>10</td><td>0.236</td><td>0.307</td><td>0.444</td><td>0.751</td></tr><tr><td>5</td><td>2015-04-12 00:00:00</td><td>97.8</td><td>&quot;Sale, Chris&quot;</td><td>572821</td><td>519242</td><td>2</td><td>0.45</td><td>3.58</td><td>1</td><td>1</td><td>-10.435978</td><td>-143.120975</td><td>-1.179134</td><td>22.877</td><td>33.682</td><td>-16.346</td><td>2.93</td><td>1.25</td><td>97.4</td><td>2384.0</td><td>6.3</td><td>413732</td><td>2</td><td>3</td><td>0</td><td>0</td><td>0</td><td>0</td><td>2</td><td>0</td><td>-0.039</td><td>5</td><td>2</td><td>0</td><td>101</td><td>148</td><td>39</td><td>4</td><td>28</td><td>77</td><td>61</td><td>2</td><td>10</td><td>0.236</td><td>0.307</td><td>0.444</td><td>0.751</td></tr><tr><td>4</td><td>2015-04-12 00:00:00</td><td>87.8</td><td>&quot;Sale, Chris&quot;</td><td>572821</td><td>519242</td><td>0</td><td>1.04</td><td>1.31</td><td>1</td><td>1</td><td>-10.261341</td><td>-128.483704</td><td>-3.795101</td><td>24.104</td><td>26.959</td><td>-22.726</td><td>2.93</td><td>1.25</td><td>87.4</td><td>2115.0</td><td>6.2</td><td>413732</td><td>2</td><td>4</td><td>0</td><td>0</td><td>0</td><td>0</td><td>2</td><td>0</td><td>-0.109</td><td>5</td><td>6</td><td>0</td><td>101</td><td>148</td><td>39</td><td>4</td><td>28</td><td>77</td><td>61</td><td>2</td><td>10</td><td>0.236</td><td>0.307</td><td>0.444</td><td>0.751</td></tr><tr><td>5</td><td>2015-04-12 00:00:00</td><td>94.8</td><td>&quot;Sale, Chris&quot;</td><td>408045</td><td>519242</td><td>1</td><td>-1.19</td><td>1.54</td><td>2</td><td>1</td><td>-15.192858</td><td>-138.240298</td><td>-7.270097</td><td>24.441</td><td>34.459</td><td>-10.95</td><td>3.72</td><td>1.66</td><td>93.6</td><td>2286.0</td><td>6.2</td><td>413732</td><td>3</td><td>1</td><td>0</td><td>0</td><td>0</td><td>0</td><td>0</td><td>0</td><td>0.014</td><td>4</td><td>1</td><td>0</td><td>69</td><td>157</td><td>34</td><td>2</td><td>10</td><td>66</td><td>67</td><td>12</td><td>22</td><td>0.265</td><td>0.338</td><td>0.38</td><td>0.718</td></tr><tr><td>5</td><td>2015-04-12 00:00:00</td><td>92.7</td><td>&quot;Sale, Chris&quot;</td><td>408045</td><td>519242</td><td>2</td><td>0.43</td><td>2.0</td><td>2</td><td>1</td><td>-10.221469</td><td>-135.724839</td><td>-1.617749</td><td>20.716</td><td>31.033</td><td>-28.852</td><td>3.77</td><td>1.66</td><td>92.5</td><td>2119.0</td><td>6.5</td><td>413732</td><td>3</td><td>2</td><td>0</td><td>0</td><td>0</td><td>0</td><td>0</td><td>0</td><td>-0.021</td><td>5</td><td>7</td><td>0</td><td>69</td><td>157</td><td>34</td><td>2</td><td>10</td><td>66</td><td>67</td><td>12</td><td>22</td><td>0.265</td><td>0.338</td><td>0.38</td><td>0.718</td></tr><tr><td>4</td><td>2015-04-12 00:00:00</td><td>86.2</td><td>&quot;Sale, Chris&quot;</td><td>408045</td><td>519242</td><td>0</td><td>-0.24</td><td>1.83</td><td>2</td><td>1</td><td>-12.45622</td><td>-125.853312</td><td>-2.322514</td><td>22.327</td><td>25.367</td><td>-23.254</td><td>3.42</td><td>1.66</td><td>85.6</td><td>1956.0</td><td>6.2</td><td>413732</td><td>3</td><td>3</td><td>0</td><td>0</td><td>0</td><td>0</td><td>0</td><td>0</td><td>0.13</td><td>5</td><td>2</td><td>0</td><td>69</td><td>157</td><td>34</td><td>2</td><td>10</td><td>66</td><td>67</td><td>12</td><td>22</td><td>0.265</td><td>0.338</td><td>0.38</td><td>0.718</td></tr><tr><td>5</td><td>2015-04-12 00:00:00</td><td>92.2</td><td>&quot;Sale, Chris&quot;</td><td>116338</td><td>519242</td><td>2</td><td>1.0</td><td>1.48</td><td>2</td><td>1</td><td>-10.324501</td><td>-135.120157</td><td>-3.392345</td><td>24.858</td><td>35.341</td><td>-25.042</td><td>3.47</td><td>1.51</td><td>90.8</td><td>2133.0</td><td>6.1</td><td>413732</td><td>4</td><td>1</td><td>0</td><td>0</td><td>0</td><td>0</td><td>0</td><td>0</td><td>-0.035</td><td>4</td><td>1</td><td>1</td><td>67</td><td>125</td><td>22</td><td>0</td><td>22</td><td>81</td><td>35</td><td>1</td><td>14</td><td>0.24</td><td>0.293</td><td>0.409</td><td>0.702</td></tr><tr><td>5</td><td>2015-04-12 00:00:00</td><td>96.7</td><td>&quot;Sale, Chris&quot;</td><td>116338</td><td>519242</td><td>2</td><td>0.42</td><td>3.74</td><td>2</td><td>1</td><td>-10.901661</td><td>-141.540515</td><td>-1.36613</td><td>24.706</td><td>35.791</td><td>-13.435</td><td>3.47</td><td>1.51</td><td>96.3</td><td>2370.0</td><td>6.5</td><td>413732</td><td>4</td><td>2</td><td>0</td><td>0</td><td>0</td><td>0</td><td>0</td><td>0</td><td>-0.052</td><td>5</td><td>0</td><td>1</td><td>67</td><td>125</td><td>22</td><td>0</td><td>22</td><td>81</td><td>35</td><td>1</td><td>14</td><td>0.24</td><td>0.293</td><td>0.409</td><td>0.702</td></tr><tr><td>5</td><td>2015-04-12 00:00:00</td><td>98.0</td><td>&quot;Sale, Chris&quot;</td><td>116338</td><td>519242</td><td>2</td><td>-0.01</td><td>3.93</td><td>2</td><td>1</td><td>-12.476155</td><td>-143.414789</td><td>-0.025611</td><td>24.031</td><td>37.54</td><td>-18.262</td><td>3.47</td><td>1.51</td><td>96.6</td><td>2457.0</td><td>6.1</td><td>413732</td><td>4</td><td>3</td><td>0</td><td>0</td><td>0</td><td>0</td><td>0</td><td>0</td><td>-0.136</td><td>5</td><td>4</td><td>1</td><td>67</td><td>125</td><td>22</td><td>0</td><td>22</td><td>81</td><td>35</td><td>1</td><td>14</td><td>0.24</td><td>0.293</td><td>0.409</td><td>0.702</td></tr><tr><td>5</td><td>2015-04-12 00:00:00</td><td>90.2</td><td>&quot;Sale, Chris&quot;</td><td>461858</td><td>519242</td><td>2</td><td>-0.79</td><td>1.72</td><td>0</td><td>2</td><td>-12.913646</td><td>-131.866188</td><td>-5.37556</td><td>19.89</td><td>32.628</td><td>-15.332</td><td>3.41</td><td>1.57</td><td>89.0</td><td>2146.0</td><td>6.1</td><td>413732</td><td>12</td><td>1</td><td>0</td><td>2</td><td>0</td><td>2</td><td>0</td><td>0</td><td>-0.032</td><td>5</td><td>1</td><td>0</td><td>74</td><td>140</td><td>35</td><td>4</td><td>22</td><td>86</td><td>50</td><td>0</td><td>28</td><td>0.244</td><td>0.307</td><td>0.435</td><td>0.742</td></tr><tr><td>5</td><td>2015-04-12 00:00:00</td><td>94.6</td><td>&quot;Sale, Chris&quot;</td><td>461858</td><td>519242</td><td>2</td><td>-0.47</td><td>2.71</td><td>0</td><td>2</td><td>-13.111941</td><td>-138.232658</td><td>-3.592239</td><td>23.648</td><td>34.011</td><td>-14.77</td><td>3.41</td><td>1.6</td><td>93.3</td><td>2318.0</td><td>6.1</td><td>413732</td><td>12</td><td>2</td><td>0</td><td>2</td><td>0</td><td>2</td><td>-1</td><td>-1</td><td>-0.046</td><td>5</td><td>0</td><td>0</td><td>74</td><td>140</td><td>35</td><td>4</td><td>22</td><td>86</td><td>50</td><td>0</td><td>28</td><td>0.244</td><td>0.307</td><td>0.435</td><td>0.742</td></tr><tr><td>4</td><td>2015-04-12 00:00:00</td><td>87.7</td><td>&quot;Sale, Chris&quot;</td><td>461858</td><td>519242</td><td>1</td><td>0.9</td><td>0.9</td><td>0</td><td>2</td><td>-10.073978</td><td>-128.395646</td><td>-5.062297</td><td>24.743</td><td>31.722</td><td>-21.383</td><td>3.32</td><td>1.48</td><td>86.8</td><td>2238.0</td><td>6.4</td><td>413732</td><td>12</td><td>3</td><td>0</td><td>2</td><td>0</td><td>2</td><td>0</td><td>0</td><td>0.018</td><td>5</td><td>4</td><td>0</td><td>74</td><td>140</td><td>35</td><td>4</td><td>22</td><td>86</td><td>50</td><td>0</td><td>28</td><td>0.244</td><td>0.307</td><td>0.435</td><td>0.742</td></tr><tr><td>4</td><td>2015-04-12 00:00:00</td><td>87.2</td><td>&quot;Sale, Chris&quot;</td><td>461858</td><td>519242</td><td>2</td><td>0.87</td><td>1.63</td><td>0</td><td>2</td><td>-9.642431</td><td>-127.69262</td><td>-2.808856</td><td>21.937</td><td>31.153</td><td>-22.946</td><td>3.29</td><td>1.48</td><td>86.2</td><td>2184.0</td><td>6.3</td><td>413732</td><td>12</td><td>4</td><td>0</td><td>2</td><td>0</td><td>2</td><td>0</td><td>0</td><td>-0.165</td><td>4</td><td>6</td><td>0</td><td>74</td><td>140</td><td>35</td><td>4</td><td>22</td><td>86</td><td>50</td><td>0</td><td>28</td><td>0.244</td><td>0.307</td><td>0.435</td><td>0.742</td></tr><tr><td>5</td><td>2015-04-12 00:00:00</td><td>90.0</td><td>&quot;Sale, Chris&quot;</td><td>500871</td><td>519242</td><td>2</td><td>-0.49</td><td>2.39</td><td>1</td><td>2</td><td>-12.559999</td><td>-131.547564</td><td>-2.936174</td><td>20.065</td><td>29.051</td><td>-17.206</td><td>3.21</td><td>1.31</td><td>90.2</td><td>2138.0</td><td>6.7</td><td>413732</td><td>13</td><td>1</td><td>0</td><td>2</td><td>0</td><td>2</td><td>0</td><td>1</td><td>-0.025</td><td>4</td><td>1</td><td>0</td><td>48</td><td>107</td><td>31</td><td>4</td><td>12</td><td>58</td><td>28</td><td>1</td><td>7</td><td>0.262</td><td>0.309</td><td>0.445</td><td>0.754</td></tr><tr><td>5</td><td>2015-04-12 00:00:00</td><td>91.5</td><td>&quot;Sale, Chris&quot;</td><td>500871</td><td>519242</td><td>2</td><td>0.58</td><td>2.58</td><td>1</td><td>2</td><td>-10.546026</td><td>-133.99313</td><td>-1.511714</td><td>22.924</td><td>32.387</td><td>-23.08</td><td>3.17</td><td>1.4</td><td>90.7</td><td>2018.0</td><td>6.2</td><td>413732</td><td>13</td><td>2</td><td>0</td><td>2</td><td>0</td><td>2</td><td>0</td><td>1</td><td>-0.035</td><td>5</td><td>0</td><td>0</td><td>48</td><td>107</td><td>31</td><td>4</td><td>12</td><td>58</td><td>28</td><td>1</td><td>7</td><td>0.262</td><td>0.309</td><td>0.445</td><td>0.754</td></tr><tr><td>4</td><td>2015-04-12 00:00:00</td><td>86.7</td><td>&quot;Sale, Chris&quot;</td><td>500871</td><td>519242</td><td>0</td><td>1.54</td><td>2.08</td><td>1</td><td>2</td><td>-8.996157</td><td>-126.949638</td><td>-1.718168</td><td>24.037</td><td>25.99</td><td>-22.763</td><td>3.17</td><td>1.4</td><td>86.3</td><td>2192.0</td><td>6.2</td><td>413732</td><td>13</td><td>3</td><td>0</td><td>2</td><td>0</td><td>2</td><td>0</td><td>0</td><td>-0.095</td><td>5</td><td>4</td><td>0</td><td>48</td><td>107</td><td>31</td><td>4</td><td>12</td><td>58</td><td>28</td><td>1</td><td>7</td><td>0.262</td><td>0.309</td><td>0.445</td><td>0.754</td></tr><tr><td>5</td><td>2015-04-12 00:00:00</td><td>96.1</td><td>&quot;Sale, Chris&quot;</td><td>435559</td><td>519242</td><td>2</td><td>-0.19</td><td>2.11</td><td>2</td><td>2</td><td>-13.062018</td><td>-140.30879</td><td>-3.826937</td><td>25.699</td><td>29.483</td><td>-21.35</td><td>3.31</td><td>1.57</td><td>96.5</td><td>2172.0</td><td>6.6</td><td>413732</td><td>14</td><td>1</td><td>0</td><td>2</td><td>0</td><td>2</td><td>0</td><td>0</td><td>-0.016</td><td>4</td><td>1</td><td>0</td><td>36</td><td>104</td><td>17</td><td>0</td><td>5</td><td>50</td><td>29</td><td>4</td><td>14</td><td>0.24</td><td>0.296</td><td>0.314</td><td>0.61</td></tr></tbody></table></div>"
      ],
      "text/plain": [
       "shape: (20, 48)\n",
       "┌────────────┬──────────────┬───────────────┬─────────────┬───┬───────┬───────┬───────┬───────┐\n",
       "│ pitch_type ┆ game_date    ┆ release_speed ┆ player_name ┆ … ┆ BA    ┆ OBP   ┆ SLG   ┆ OPS   │\n",
       "│ ---        ┆ ---          ┆ ---           ┆ ---         ┆   ┆ ---   ┆ ---   ┆ ---   ┆ ---   │\n",
       "│ i64        ┆ datetime[μs] ┆ f64           ┆ str         ┆   ┆ f64   ┆ f64   ┆ f64   ┆ f64   │\n",
       "╞════════════╪══════════════╪═══════════════╪═════════════╪═══╪═══════╪═══════╪═══════╪═══════╡\n",
       "│ 5          ┆ 2015-04-12   ┆ 97.1          ┆ Sale, Chris ┆ … ┆ 0.215 ┆ 0.241 ┆ 0.291 ┆ 0.532 │\n",
       "│            ┆ 00:00:00     ┆               ┆             ┆   ┆       ┆       ┆       ┆       │\n",
       "│ 5          ┆ 2015-04-12   ┆ 89.8          ┆ Sale, Chris ┆ … ┆ 0.215 ┆ 0.241 ┆ 0.291 ┆ 0.532 │\n",
       "│            ┆ 00:00:00     ┆               ┆             ┆   ┆       ┆       ┆       ┆       │\n",
       "│ 5          ┆ 2015-04-12   ┆ 97.3          ┆ Sale, Chris ┆ … ┆ 0.236 ┆ 0.307 ┆ 0.444 ┆ 0.751 │\n",
       "│            ┆ 00:00:00     ┆               ┆             ┆   ┆       ┆       ┆       ┆       │\n",
       "│ 5          ┆ 2015-04-12   ┆ 97.3          ┆ Sale, Chris ┆ … ┆ 0.236 ┆ 0.307 ┆ 0.444 ┆ 0.751 │\n",
       "│            ┆ 00:00:00     ┆               ┆             ┆   ┆       ┆       ┆       ┆       │\n",
       "│ 5          ┆ 2015-04-12   ┆ 97.8          ┆ Sale, Chris ┆ … ┆ 0.236 ┆ 0.307 ┆ 0.444 ┆ 0.751 │\n",
       "│            ┆ 00:00:00     ┆               ┆             ┆   ┆       ┆       ┆       ┆       │\n",
       "│ 4          ┆ 2015-04-12   ┆ 87.8          ┆ Sale, Chris ┆ … ┆ 0.236 ┆ 0.307 ┆ 0.444 ┆ 0.751 │\n",
       "│            ┆ 00:00:00     ┆               ┆             ┆   ┆       ┆       ┆       ┆       │\n",
       "│ 5          ┆ 2015-04-12   ┆ 94.8          ┆ Sale, Chris ┆ … ┆ 0.265 ┆ 0.338 ┆ 0.38  ┆ 0.718 │\n",
       "│            ┆ 00:00:00     ┆               ┆             ┆   ┆       ┆       ┆       ┆       │\n",
       "│ 5          ┆ 2015-04-12   ┆ 92.7          ┆ Sale, Chris ┆ … ┆ 0.265 ┆ 0.338 ┆ 0.38  ┆ 0.718 │\n",
       "│            ┆ 00:00:00     ┆               ┆             ┆   ┆       ┆       ┆       ┆       │\n",
       "│ 4          ┆ 2015-04-12   ┆ 86.2          ┆ Sale, Chris ┆ … ┆ 0.265 ┆ 0.338 ┆ 0.38  ┆ 0.718 │\n",
       "│            ┆ 00:00:00     ┆               ┆             ┆   ┆       ┆       ┆       ┆       │\n",
       "│ 5          ┆ 2015-04-12   ┆ 92.2          ┆ Sale, Chris ┆ … ┆ 0.24  ┆ 0.293 ┆ 0.409 ┆ 0.702 │\n",
       "│            ┆ 00:00:00     ┆               ┆             ┆   ┆       ┆       ┆       ┆       │\n",
       "│ 5          ┆ 2015-04-12   ┆ 96.7          ┆ Sale, Chris ┆ … ┆ 0.24  ┆ 0.293 ┆ 0.409 ┆ 0.702 │\n",
       "│            ┆ 00:00:00     ┆               ┆             ┆   ┆       ┆       ┆       ┆       │\n",
       "│ 5          ┆ 2015-04-12   ┆ 98.0          ┆ Sale, Chris ┆ … ┆ 0.24  ┆ 0.293 ┆ 0.409 ┆ 0.702 │\n",
       "│            ┆ 00:00:00     ┆               ┆             ┆   ┆       ┆       ┆       ┆       │\n",
       "│ 5          ┆ 2015-04-12   ┆ 90.2          ┆ Sale, Chris ┆ … ┆ 0.244 ┆ 0.307 ┆ 0.435 ┆ 0.742 │\n",
       "│            ┆ 00:00:00     ┆               ┆             ┆   ┆       ┆       ┆       ┆       │\n",
       "│ 5          ┆ 2015-04-12   ┆ 94.6          ┆ Sale, Chris ┆ … ┆ 0.244 ┆ 0.307 ┆ 0.435 ┆ 0.742 │\n",
       "│            ┆ 00:00:00     ┆               ┆             ┆   ┆       ┆       ┆       ┆       │\n",
       "│ 4          ┆ 2015-04-12   ┆ 87.7          ┆ Sale, Chris ┆ … ┆ 0.244 ┆ 0.307 ┆ 0.435 ┆ 0.742 │\n",
       "│            ┆ 00:00:00     ┆               ┆             ┆   ┆       ┆       ┆       ┆       │\n",
       "│ 4          ┆ 2015-04-12   ┆ 87.2          ┆ Sale, Chris ┆ … ┆ 0.244 ┆ 0.307 ┆ 0.435 ┆ 0.742 │\n",
       "│            ┆ 00:00:00     ┆               ┆             ┆   ┆       ┆       ┆       ┆       │\n",
       "│ 5          ┆ 2015-04-12   ┆ 90.0          ┆ Sale, Chris ┆ … ┆ 0.262 ┆ 0.309 ┆ 0.445 ┆ 0.754 │\n",
       "│            ┆ 00:00:00     ┆               ┆             ┆   ┆       ┆       ┆       ┆       │\n",
       "│ 5          ┆ 2015-04-12   ┆ 91.5          ┆ Sale, Chris ┆ … ┆ 0.262 ┆ 0.309 ┆ 0.445 ┆ 0.754 │\n",
       "│            ┆ 00:00:00     ┆               ┆             ┆   ┆       ┆       ┆       ┆       │\n",
       "│ 4          ┆ 2015-04-12   ┆ 86.7          ┆ Sale, Chris ┆ … ┆ 0.262 ┆ 0.309 ┆ 0.445 ┆ 0.754 │\n",
       "│            ┆ 00:00:00     ┆               ┆             ┆   ┆       ┆       ┆       ┆       │\n",
       "│ 5          ┆ 2015-04-12   ┆ 96.1          ┆ Sale, Chris ┆ … ┆ 0.24  ┆ 0.296 ┆ 0.314 ┆ 0.61  │\n",
       "│            ┆ 00:00:00     ┆               ┆             ┆   ┆       ┆       ┆       ┆       │\n",
       "└────────────┴──────────────┴───────────────┴─────────────┴───┴───────┴───────┴───────┴───────┘"
      ]
     },
     "execution_count": 18,
     "metadata": {},
     "output_type": "execute_result"
    }
   ],
   "source": [
    "df.head(20)"
   ]
  },
  {
   "cell_type": "code",
   "execution_count": 30,
   "metadata": {},
   "outputs": [
    {
     "name": "stdout",
     "output_type": "stream",
     "text": [
      "0.41926558176616796\n",
      "0.4656529889606332\n",
      "0.4985260520303633\n",
      "0.3180760647642562\n",
      "0.2951825579877279\n",
      "0.4912361623616236\n",
      "0.4064202621116183\n",
      "0.5653712937235945\n",
      "0.5506124566093444\n",
      "0.499915537687084\n",
      "0.31733870967741934\n",
      "0.44836547667897686\n",
      "0.44796624306952554\n",
      "0.2912889910208945\n",
      "0.43912404737856947\n",
      "0.35263702171664946\n",
      "0.31200444609114486\n",
      "0.35349747948173144\n",
      "0.42418370712401055\n",
      "0.3464450051951907\n",
      "0.3865761444019839\n",
      "0.4005735354362966\n",
      "0.41203323290422716\n",
      "0.364190012180268\n",
      "0.3450628366247756\n"
     ]
    }
   ],
   "source": [
    "for pitcher_df in df.group_by(\"pitcher\"):\n",
    "    # get the pitcher code (statcast id)\n",
    "    pitcher_code = pitcher_df[0]\n",
    "\n",
    "    # get the pitcher dataframe\n",
    "    pitcher_df = pitcher_df[1]\n",
    "\n",
    "    # pitcher_df.select(\n",
    "    #     pl.col(\"pitch_type\").value_counts().sort(descending=False).head(1)\n",
    "    # ).item()[\"count\"] / len(pitcher_df)\n",
    "    print(\n",
    "        pitcher_df.select(\n",
    "            pl.col(\"pitch_type\").value_counts(normalize=True, sort=True).head(1)\n",
    "        ).item()[\"proportion\"]\n",
    "    )"
   ]
  }
 ],
 "metadata": {
  "kernelspec": {
   "display_name": "pitch_predict",
   "language": "python",
   "name": "python3"
  },
  "language_info": {
   "codemirror_mode": {
    "name": "ipython",
    "version": 3
   },
   "file_extension": ".py",
   "mimetype": "text/x-python",
   "name": "python",
   "nbconvert_exporter": "python",
   "pygments_lexer": "ipython3",
   "version": "3.12.7"
  }
 },
 "nbformat": 4,
 "nbformat_minor": 2
}
