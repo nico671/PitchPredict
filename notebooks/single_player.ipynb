{
 "cells": [
  {
   "cell_type": "markdown",
   "id": "2e3e30c2",
   "metadata": {},
   "source": [
    "# Data Cleaning"
   ]
  },
  {
   "cell_type": "code",
   "execution_count": 526,
   "id": "ad0d3a16",
   "metadata": {},
   "outputs": [],
   "source": [
    "import polars as pl"
   ]
  },
  {
   "cell_type": "markdown",
   "id": "38b038d4",
   "metadata": {},
   "source": [
    "load the data"
   ]
  },
  {
   "cell_type": "code",
   "execution_count": 527,
   "id": "7abd9cb7",
   "metadata": {},
   "outputs": [],
   "source": [
    "df = pl.read_parquet(\"../data/raw_statcast_data.parquet\")"
   ]
  },
  {
   "cell_type": "markdown",
   "id": "3c4fe770",
   "metadata": {},
   "source": [
    "filter to just one pitcher for now"
   ]
  },
  {
   "cell_type": "code",
   "execution_count": 528,
   "id": "cfdd6425",
   "metadata": {},
   "outputs": [],
   "source": [
    "df = df.filter(pl.col(\"player_name\") == \"Cole, Gerrit\")"
   ]
  },
  {
   "cell_type": "code",
   "execution_count": 529,
   "id": "605ca908",
   "metadata": {},
   "outputs": [
    {
     "data": {
      "text/html": [
       "<div><style>\n",
       ".dataframe > thead > tr,\n",
       ".dataframe > tbody > tr {\n",
       "  text-align: right;\n",
       "  white-space: pre-wrap;\n",
       "}\n",
       "</style>\n",
       "<small>shape: (29_736, 113)</small><table border=\"1\" class=\"dataframe\"><thead><tr><th>pitch_type</th><th>game_date</th><th>release_speed</th><th>release_pos_x</th><th>release_pos_z</th><th>player_name</th><th>batter</th><th>pitcher</th><th>events</th><th>description</th><th>spin_dir</th><th>spin_rate_deprecated</th><th>break_angle_deprecated</th><th>break_length_deprecated</th><th>zone</th><th>des</th><th>game_type</th><th>stand</th><th>p_throws</th><th>home_team</th><th>away_team</th><th>type</th><th>hit_location</th><th>bb_type</th><th>balls</th><th>strikes</th><th>game_year</th><th>pfx_x</th><th>pfx_z</th><th>plate_x</th><th>plate_z</th><th>on_3b</th><th>on_2b</th><th>on_1b</th><th>outs_when_up</th><th>inning</th><th>inning_topbot</th><th>&hellip;</th><th>pitch_name</th><th>home_score</th><th>away_score</th><th>bat_score</th><th>fld_score</th><th>post_away_score</th><th>post_home_score</th><th>post_bat_score</th><th>post_fld_score</th><th>if_fielding_alignment</th><th>of_fielding_alignment</th><th>spin_axis</th><th>delta_home_win_exp</th><th>delta_run_exp</th><th>bat_speed</th><th>swing_length</th><th>estimated_slg_using_speedangle</th><th>delta_pitcher_run_exp</th><th>hyper_speed</th><th>home_score_diff</th><th>bat_score_diff</th><th>home_win_exp</th><th>bat_win_exp</th><th>age_pit_legacy</th><th>age_bat_legacy</th><th>age_pit</th><th>age_bat</th><th>n_thruorder_pitcher</th><th>n_priorpa_thisgame_player_at_bat</th><th>pitcher_days_since_prev_game</th><th>batter_days_since_prev_game</th><th>pitcher_days_until_next_game</th><th>batter_days_until_next_game</th><th>api_break_z_with_gravity</th><th>api_break_x_arm</th><th>api_break_x_batter_in</th><th>arm_angle</th></tr><tr><td>str</td><td>str</td><td>f64</td><td>f64</td><td>f64</td><td>str</td><td>i64</td><td>i64</td><td>str</td><td>str</td><td>str</td><td>str</td><td>str</td><td>str</td><td>i64</td><td>str</td><td>str</td><td>str</td><td>str</td><td>str</td><td>str</td><td>str</td><td>i64</td><td>str</td><td>i64</td><td>i64</td><td>i64</td><td>f64</td><td>f64</td><td>f64</td><td>f64</td><td>str</td><td>i64</td><td>i64</td><td>i64</td><td>i64</td><td>str</td><td>&hellip;</td><td>str</td><td>i64</td><td>i64</td><td>i64</td><td>i64</td><td>i64</td><td>i64</td><td>i64</td><td>i64</td><td>str</td><td>str</td><td>str</td><td>f64</td><td>f64</td><td>str</td><td>str</td><td>f64</td><td>f64</td><td>f64</td><td>i64</td><td>i64</td><td>f64</td><td>f64</td><td>i64</td><td>i64</td><td>i64</td><td>i64</td><td>i64</td><td>i64</td><td>i64</td><td>i64</td><td>i64</td><td>i64</td><td>f64</td><td>f64</td><td>f64</td><td>str</td></tr></thead><tbody><tr><td>&quot;FF&quot;</td><td>&quot;2015-07-14&quot;</td><td>95.7</td><td>-2.42</td><td>5.75</td><td>&quot;Cole, Gerrit&quot;</td><td>405395</td><td>543037</td><td>&quot;field_out&quot;</td><td>&quot;hit_into_play&quot;</td><td>null</td><td>null</td><td>null</td><td>null</td><td>4</td><td>&quot;Albert Pujols lines out to cen…</td><td>&quot;A&quot;</td><td>&quot;R&quot;</td><td>&quot;R&quot;</td><td>&quot;NL&quot;</td><td>&quot;AL&quot;</td><td>&quot;X&quot;</td><td>8</td><td>&quot;line_drive&quot;</td><td>1</td><td>0</td><td>2015</td><td>-0.79</td><td>1.17</td><td>-0.31</td><td>2.29</td><td>null</td><td>null</td><td>518626</td><td>2</td><td>3</td><td>&quot;Top&quot;</td><td>&hellip;</td><td>&quot;4-Seam Fastball&quot;</td><td>1</td><td>1</td><td>1</td><td>1</td><td>1</td><td>1</td><td>1</td><td>1</td><td>&quot;Standard&quot;</td><td>&quot;Standard&quot;</td><td>null</td><td>0.026</td><td>-0.304</td><td>null</td><td>null</td><td>1.286</td><td>0.304</td><td>106.0</td><td>0</td><td>0</td><td>0.528</td><td>0.472</td><td>24</td><td>35</td><td>25</td><td>35</td><td>1</td><td>1</td><td>null</td><td>null</td><td>null</td><td>null</td><td>1.36</td><td>0.79</td><td>0.79</td><td>null</td></tr><tr><td>&quot;FF&quot;</td><td>&quot;2015-07-14&quot;</td><td>95.7</td><td>-2.48</td><td>5.69</td><td>&quot;Cole, Gerrit&quot;</td><td>405395</td><td>543037</td><td>null</td><td>&quot;ball&quot;</td><td>null</td><td>null</td><td>null</td><td>null</td><td>12</td><td>&quot;Albert Pujols lines out to cen…</td><td>&quot;A&quot;</td><td>&quot;R&quot;</td><td>&quot;R&quot;</td><td>&quot;NL&quot;</td><td>&quot;AL&quot;</td><td>&quot;B&quot;</td><td>null</td><td>null</td><td>0</td><td>0</td><td>2015</td><td>-0.78</td><td>0.91</td><td>1.06</td><td>3.34</td><td>null</td><td>null</td><td>518626</td><td>2</td><td>3</td><td>&quot;Top&quot;</td><td>&hellip;</td><td>&quot;4-Seam Fastball&quot;</td><td>1</td><td>1</td><td>1</td><td>1</td><td>1</td><td>1</td><td>1</td><td>1</td><td>&quot;Standard&quot;</td><td>&quot;Standard&quot;</td><td>null</td><td>0.0</td><td>0.038</td><td>null</td><td>null</td><td>null</td><td>-0.038</td><td>null</td><td>0</td><td>0</td><td>0.528</td><td>0.472</td><td>24</td><td>35</td><td>25</td><td>35</td><td>1</td><td>1</td><td>null</td><td>null</td><td>null</td><td>null</td><td>1.61</td><td>0.78</td><td>0.78</td><td>null</td></tr><tr><td>&quot;FF&quot;</td><td>&quot;2015-07-14&quot;</td><td>96.2</td><td>-2.39</td><td>5.72</td><td>&quot;Cole, Gerrit&quot;</td><td>518626</td><td>543037</td><td>&quot;walk&quot;</td><td>&quot;ball&quot;</td><td>null</td><td>null</td><td>null</td><td>null</td><td>14</td><td>&quot;Josh Donaldson walks.&quot;</td><td>&quot;A&quot;</td><td>&quot;R&quot;</td><td>&quot;R&quot;</td><td>&quot;NL&quot;</td><td>&quot;AL&quot;</td><td>&quot;B&quot;</td><td>null</td><td>null</td><td>3</td><td>2</td><td>2015</td><td>-0.78</td><td>1.22</td><td>1.56</td><td>1.76</td><td>null</td><td>null</td><td>null</td><td>2</td><td>3</td><td>&quot;Top&quot;</td><td>&hellip;</td><td>&quot;4-Seam Fastball&quot;</td><td>1</td><td>1</td><td>1</td><td>1</td><td>1</td><td>1</td><td>1</td><td>1</td><td>&quot;Standard&quot;</td><td>&quot;Standard&quot;</td><td>null</td><td>-0.015</td><td>0.269</td><td>null</td><td>null</td><td>null</td><td>-0.269</td><td>null</td><td>0</td><td>0</td><td>0.543</td><td>0.457</td><td>24</td><td>29</td><td>25</td><td>30</td><td>1</td><td>1</td><td>null</td><td>null</td><td>null</td><td>null</td><td>1.28</td><td>0.78</td><td>0.78</td><td>null</td></tr><tr><td>&quot;SI&quot;</td><td>&quot;2015-07-14&quot;</td><td>97.2</td><td>-2.45</td><td>5.8</td><td>&quot;Cole, Gerrit&quot;</td><td>518626</td><td>543037</td><td>null</td><td>&quot;ball&quot;</td><td>null</td><td>null</td><td>null</td><td>null</td><td>11</td><td>&quot;Josh Donaldson walks.&quot;</td><td>&quot;A&quot;</td><td>&quot;R&quot;</td><td>&quot;R&quot;</td><td>&quot;NL&quot;</td><td>&quot;AL&quot;</td><td>&quot;B&quot;</td><td>null</td><td>null</td><td>2</td><td>2</td><td>2015</td><td>-0.9</td><td>0.75</td><td>-0.52</td><td>4.7</td><td>null</td><td>null</td><td>null</td><td>2</td><td>3</td><td>&quot;Top&quot;</td><td>&hellip;</td><td>&quot;Sinker&quot;</td><td>1</td><td>1</td><td>1</td><td>1</td><td>1</td><td>1</td><td>1</td><td>1</td><td>&quot;Standard&quot;</td><td>&quot;Standard&quot;</td><td>null</td><td>0.0</td><td>0.098</td><td>null</td><td>null</td><td>null</td><td>-0.098</td><td>null</td><td>0</td><td>0</td><td>0.543</td><td>0.457</td><td>24</td><td>29</td><td>25</td><td>30</td><td>1</td><td>1</td><td>null</td><td>null</td><td>null</td><td>null</td><td>1.68</td><td>0.9</td><td>0.9</td><td>null</td></tr><tr><td>&quot;SI&quot;</td><td>&quot;2015-07-14&quot;</td><td>96.9</td><td>-2.48</td><td>5.65</td><td>&quot;Cole, Gerrit&quot;</td><td>518626</td><td>543037</td><td>null</td><td>&quot;ball&quot;</td><td>null</td><td>null</td><td>null</td><td>null</td><td>13</td><td>&quot;Josh Donaldson walks.&quot;</td><td>&quot;A&quot;</td><td>&quot;R&quot;</td><td>&quot;R&quot;</td><td>&quot;NL&quot;</td><td>&quot;AL&quot;</td><td>&quot;B&quot;</td><td>null</td><td>null</td><td>1</td><td>2</td><td>2015</td><td>-0.72</td><td>0.59</td><td>-1.93</td><td>1.91</td><td>null</td><td>null</td><td>null</td><td>2</td><td>3</td><td>&quot;Top&quot;</td><td>&hellip;</td><td>&quot;Sinker&quot;</td><td>1</td><td>1</td><td>1</td><td>1</td><td>1</td><td>1</td><td>1</td><td>1</td><td>&quot;Standard&quot;</td><td>&quot;Standard&quot;</td><td>null</td><td>0.0</td><td>0.035</td><td>null</td><td>null</td><td>null</td><td>-0.035</td><td>null</td><td>0</td><td>0</td><td>0.543</td><td>0.457</td><td>24</td><td>29</td><td>25</td><td>30</td><td>1</td><td>1</td><td>null</td><td>null</td><td>null</td><td>null</td><td>1.86</td><td>0.72</td><td>0.72</td><td>null</td></tr><tr><td>&hellip;</td><td>&hellip;</td><td>&hellip;</td><td>&hellip;</td><td>&hellip;</td><td>&hellip;</td><td>&hellip;</td><td>&hellip;</td><td>&hellip;</td><td>&hellip;</td><td>&hellip;</td><td>&hellip;</td><td>&hellip;</td><td>&hellip;</td><td>&hellip;</td><td>&hellip;</td><td>&hellip;</td><td>&hellip;</td><td>&hellip;</td><td>&hellip;</td><td>&hellip;</td><td>&hellip;</td><td>&hellip;</td><td>&hellip;</td><td>&hellip;</td><td>&hellip;</td><td>&hellip;</td><td>&hellip;</td><td>&hellip;</td><td>&hellip;</td><td>&hellip;</td><td>&hellip;</td><td>&hellip;</td><td>&hellip;</td><td>&hellip;</td><td>&hellip;</td><td>&hellip;</td><td>&hellip;</td><td>&hellip;</td><td>&hellip;</td><td>&hellip;</td><td>&hellip;</td><td>&hellip;</td><td>&hellip;</td><td>&hellip;</td><td>&hellip;</td><td>&hellip;</td><td>&hellip;</td><td>&hellip;</td><td>&hellip;</td><td>&hellip;</td><td>&hellip;</td><td>&hellip;</td><td>&hellip;</td><td>&hellip;</td><td>&hellip;</td><td>&hellip;</td><td>&hellip;</td><td>&hellip;</td><td>&hellip;</td><td>&hellip;</td><td>&hellip;</td><td>&hellip;</td><td>&hellip;</td><td>&hellip;</td><td>&hellip;</td><td>&hellip;</td><td>&hellip;</td><td>&hellip;</td><td>&hellip;</td><td>&hellip;</td><td>&hellip;</td><td>&hellip;</td><td>&hellip;</td><td>&hellip;</td></tr><tr><td>&quot;FC&quot;</td><td>&quot;2024-10-05&quot;</td><td>92.1</td><td>-2.34</td><td>6.16</td><td>&quot;Cole, Gerrit&quot;</td><td>686469</td><td>543037</td><td>null</td><td>&quot;called_strike&quot;</td><td>null</td><td>null</td><td>null</td><td>null</td><td>5</td><td>&quot;Vinnie Pasquantino lines out s…</td><td>&quot;D&quot;</td><td>&quot;L&quot;</td><td>&quot;R&quot;</td><td>&quot;NYY&quot;</td><td>&quot;KC&quot;</td><td>&quot;S&quot;</td><td>null</td><td>null</td><td>0</td><td>0</td><td>2024</td><td>0.26</td><td>0.71</td><td>0.13</td><td>2.52</td><td>null</td><td>null</td><td>null</td><td>2</td><td>1</td><td>&quot;Top&quot;</td><td>&hellip;</td><td>&quot;Cutter&quot;</td><td>0</td><td>0</td><td>0</td><td>0</td><td>0</td><td>0</td><td>0</td><td>0</td><td>&quot;Infield shade&quot;</td><td>&quot;Standard&quot;</td><td>&quot;172&quot;</td><td>0.0</td><td>-0.041</td><td>null</td><td>null</td><td>null</td><td>0.041</td><td>null</td><td>0</td><td>0</td><td>0.537</td><td>0.463</td><td>33</td><td>26</td><td>34</td><td>27</td><td>1</td><td>0</td><td>9</td><td>3</td><td>5</td><td>2</td><td>2.01</td><td>-0.26</td><td>0.26</td><td>&quot;42.6&quot;</td></tr><tr><td>&quot;FF&quot;</td><td>&quot;2024-10-05&quot;</td><td>95.1</td><td>-2.11</td><td>6.2</td><td>&quot;Cole, Gerrit&quot;</td><td>677951</td><td>543037</td><td>&quot;field_out&quot;</td><td>&quot;hit_into_play&quot;</td><td>null</td><td>null</td><td>null</td><td>null</td><td>2</td><td>&quot;Bobby Witt Jr. flies out sharp…</td><td>&quot;D&quot;</td><td>&quot;R&quot;</td><td>&quot;R&quot;</td><td>&quot;NYY&quot;</td><td>&quot;KC&quot;</td><td>&quot;X&quot;</td><td>8</td><td>&quot;fly_ball&quot;</td><td>1</td><td>1</td><td>2024</td><td>-0.36</td><td>1.41</td><td>0.11</td><td>3.52</td><td>null</td><td>null</td><td>null</td><td>1</td><td>1</td><td>&quot;Top&quot;</td><td>&hellip;</td><td>&quot;4-Seam Fastball&quot;</td><td>0</td><td>0</td><td>0</td><td>0</td><td>0</td><td>0</td><td>0</td><td>0</td><td>&quot;Standard&quot;</td><td>&quot;Standard&quot;</td><td>&quot;208&quot;</td><td>0.015</td><td>-0.243</td><td>null</td><td>null</td><td>3.046</td><td>0.243</td><td>108.4</td><td>0</td><td>0</td><td>0.522</td><td>0.478</td><td>33</td><td>24</td><td>34</td><td>24</td><td>1</td><td>0</td><td>9</td><td>3</td><td>5</td><td>2</td><td>1.14</td><td>0.36</td><td>0.36</td><td>&quot;44.5&quot;</td></tr><tr><td>&quot;KC&quot;</td><td>&quot;2024-10-05&quot;</td><td>82.1</td><td>-2.06</td><td>6.19</td><td>&quot;Cole, Gerrit&quot;</td><td>677951</td><td>543037</td><td>null</td><td>&quot;ball&quot;</td><td>null</td><td>null</td><td>null</td><td>null</td><td>14</td><td>&quot;Bobby Witt Jr. flies out sharp…</td><td>&quot;D&quot;</td><td>&quot;R&quot;</td><td>&quot;R&quot;</td><td>&quot;NYY&quot;</td><td>&quot;KC&quot;</td><td>&quot;B&quot;</td><td>null</td><td>null</td><td>0</td><td>1</td><td>2024</td><td>0.63</td><td>-1.47</td><td>0.06</td><td>0.49</td><td>null</td><td>null</td><td>null</td><td>1</td><td>1</td><td>&quot;Top&quot;</td><td>&hellip;</td><td>&quot;Knuckle Curve&quot;</td><td>0</td><td>0</td><td>0</td><td>0</td><td>0</td><td>0</td><td>0</td><td>0</td><td>&quot;Standard&quot;</td><td>&quot;Standard&quot;</td><td>&quot;33&quot;</td><td>0.0</td><td>0.024</td><td>null</td><td>null</td><td>null</td><td>-0.024</td><td>null</td><td>0</td><td>0</td><td>0.522</td><td>0.478</td><td>33</td><td>24</td><td>34</td><td>24</td><td>1</td><td>0</td><td>9</td><td>3</td><td>5</td><td>2</td><td>4.91</td><td>-0.63</td><td>-0.63</td><td>&quot;49.7&quot;</td></tr><tr><td>&quot;SL&quot;</td><td>&quot;2024-10-05&quot;</td><td>88.9</td><td>-2.29</td><td>6.19</td><td>&quot;Cole, Gerrit&quot;</td><td>677951</td><td>543037</td><td>null</td><td>&quot;called_strike&quot;</td><td>null</td><td>null</td><td>null</td><td>null</td><td>4</td><td>&quot;Bobby Witt Jr. flies out sharp…</td><td>&quot;D&quot;</td><td>&quot;R&quot;</td><td>&quot;R&quot;</td><td>&quot;NYY&quot;</td><td>&quot;KC&quot;</td><td>&quot;S&quot;</td><td>null</td><td>null</td><td>0</td><td>0</td><td>2024</td><td>0.55</td><td>0.24</td><td>-0.35</td><td>2.23</td><td>null</td><td>null</td><td>null</td><td>1</td><td>1</td><td>&quot;Top&quot;</td><td>&hellip;</td><td>&quot;Slider&quot;</td><td>0</td><td>0</td><td>0</td><td>0</td><td>0</td><td>0</td><td>0</td><td>0</td><td>&quot;Standard&quot;</td><td>&quot;Standard&quot;</td><td>&quot;134&quot;</td><td>0.0</td><td>-0.037</td><td>null</td><td>null</td><td>null</td><td>0.037</td><td>null</td><td>0</td><td>0</td><td>0.522</td><td>0.478</td><td>33</td><td>24</td><td>34</td><td>24</td><td>1</td><td>0</td><td>9</td><td>3</td><td>5</td><td>2</td><td>2.63</td><td>-0.55</td><td>-0.55</td><td>&quot;44.5&quot;</td></tr><tr><td>&quot;FF&quot;</td><td>&quot;2024-10-05&quot;</td><td>96.2</td><td>-2.16</td><td>6.19</td><td>&quot;Cole, Gerrit&quot;</td><td>686681</td><td>543037</td><td>&quot;field_out&quot;</td><td>&quot;hit_into_play&quot;</td><td>null</td><td>null</td><td>null</td><td>null</td><td>6</td><td>&quot;Michael Massey flies out to ri…</td><td>&quot;D&quot;</td><td>&quot;L&quot;</td><td>&quot;R&quot;</td><td>&quot;NYY&quot;</td><td>&quot;KC&quot;</td><td>&quot;X&quot;</td><td>9</td><td>&quot;fly_ball&quot;</td><td>0</td><td>0</td><td>2024</td><td>-0.36</td><td>1.38</td><td>0.35</td><td>2.51</td><td>null</td><td>null</td><td>null</td><td>0</td><td>1</td><td>&quot;Top&quot;</td><td>&hellip;</td><td>&quot;4-Seam Fastball&quot;</td><td>0</td><td>0</td><td>0</td><td>0</td><td>0</td><td>0</td><td>0</td><td>0</td><td>&quot;Infield shade&quot;</td><td>&quot;Standard&quot;</td><td>&quot;203&quot;</td><td>0.022</td><td>-0.254</td><td>&quot;72.7&quot;</td><td>&quot;7.1&quot;</td><td>0.741</td><td>0.254</td><td>102.5</td><td>0</td><td>0</td><td>0.5</td><td>0.5</td><td>33</td><td>26</td><td>34</td><td>26</td><td>1</td><td>0</td><td>9</td><td>3</td><td>5</td><td>2</td><td>1.1</td><td>0.36</td><td>-0.36</td><td>&quot;46.9&quot;</td></tr></tbody></table></div>"
      ],
      "text/plain": [
       "shape: (29_736, 113)\n",
       "┌───────────┬───────────┬───────────┬───────────┬───┬───────────┬───────────┬───────────┬──────────┐\n",
       "│ pitch_typ ┆ game_date ┆ release_s ┆ release_p ┆ … ┆ api_break ┆ api_break ┆ api_break ┆ arm_angl │\n",
       "│ e         ┆ ---       ┆ peed      ┆ os_x      ┆   ┆ _z_with_g ┆ _x_arm    ┆ _x_batter ┆ e        │\n",
       "│ ---       ┆ str       ┆ ---       ┆ ---       ┆   ┆ ravity    ┆ ---       ┆ _in       ┆ ---      │\n",
       "│ str       ┆           ┆ f64       ┆ f64       ┆   ┆ ---       ┆ f64       ┆ ---       ┆ str      │\n",
       "│           ┆           ┆           ┆           ┆   ┆ f64       ┆           ┆ f64       ┆          │\n",
       "╞═══════════╪═══════════╪═══════════╪═══════════╪═══╪═══════════╪═══════════╪═══════════╪══════════╡\n",
       "│ FF        ┆ 2015-07-1 ┆ 95.7      ┆ -2.42     ┆ … ┆ 1.36      ┆ 0.79      ┆ 0.79      ┆ null     │\n",
       "│           ┆ 4         ┆           ┆           ┆   ┆           ┆           ┆           ┆          │\n",
       "│ FF        ┆ 2015-07-1 ┆ 95.7      ┆ -2.48     ┆ … ┆ 1.61      ┆ 0.78      ┆ 0.78      ┆ null     │\n",
       "│           ┆ 4         ┆           ┆           ┆   ┆           ┆           ┆           ┆          │\n",
       "│ FF        ┆ 2015-07-1 ┆ 96.2      ┆ -2.39     ┆ … ┆ 1.28      ┆ 0.78      ┆ 0.78      ┆ null     │\n",
       "│           ┆ 4         ┆           ┆           ┆   ┆           ┆           ┆           ┆          │\n",
       "│ SI        ┆ 2015-07-1 ┆ 97.2      ┆ -2.45     ┆ … ┆ 1.68      ┆ 0.9       ┆ 0.9       ┆ null     │\n",
       "│           ┆ 4         ┆           ┆           ┆   ┆           ┆           ┆           ┆          │\n",
       "│ SI        ┆ 2015-07-1 ┆ 96.9      ┆ -2.48     ┆ … ┆ 1.86      ┆ 0.72      ┆ 0.72      ┆ null     │\n",
       "│           ┆ 4         ┆           ┆           ┆   ┆           ┆           ┆           ┆          │\n",
       "│ …         ┆ …         ┆ …         ┆ …         ┆ … ┆ …         ┆ …         ┆ …         ┆ …        │\n",
       "│ FC        ┆ 2024-10-0 ┆ 92.1      ┆ -2.34     ┆ … ┆ 2.01      ┆ -0.26     ┆ 0.26      ┆ 42.6     │\n",
       "│           ┆ 5         ┆           ┆           ┆   ┆           ┆           ┆           ┆          │\n",
       "│ FF        ┆ 2024-10-0 ┆ 95.1      ┆ -2.11     ┆ … ┆ 1.14      ┆ 0.36      ┆ 0.36      ┆ 44.5     │\n",
       "│           ┆ 5         ┆           ┆           ┆   ┆           ┆           ┆           ┆          │\n",
       "│ KC        ┆ 2024-10-0 ┆ 82.1      ┆ -2.06     ┆ … ┆ 4.91      ┆ -0.63     ┆ -0.63     ┆ 49.7     │\n",
       "│           ┆ 5         ┆           ┆           ┆   ┆           ┆           ┆           ┆          │\n",
       "│ SL        ┆ 2024-10-0 ┆ 88.9      ┆ -2.29     ┆ … ┆ 2.63      ┆ -0.55     ┆ -0.55     ┆ 44.5     │\n",
       "│           ┆ 5         ┆           ┆           ┆   ┆           ┆           ┆           ┆          │\n",
       "│ FF        ┆ 2024-10-0 ┆ 96.2      ┆ -2.16     ┆ … ┆ 1.1       ┆ 0.36      ┆ -0.36     ┆ 46.9     │\n",
       "│           ┆ 5         ┆           ┆           ┆   ┆           ┆           ┆           ┆          │\n",
       "└───────────┴───────────┴───────────┴───────────┴───┴───────────┴───────────┴───────────┴──────────┘"
      ]
     },
     "execution_count": 529,
     "metadata": {},
     "output_type": "execute_result"
    }
   ],
   "source": [
    "df"
   ]
  },
  {
   "cell_type": "markdown",
   "id": "5f4a98e3",
   "metadata": {},
   "source": [
    "## column inspection"
   ]
  },
  {
   "cell_type": "markdown",
   "id": "288c7df1",
   "metadata": {},
   "source": [
    "- pitch_type, Type: String (encoded as string), need to drop nulls, and convert to codes for model\n",
    "- game_date, Type: String (encoded as string), need to convert to datetime\n",
    "- release_speed, Type: Float64 (need)\n",
    "- release_pos_x, Type: Float64 (need)\n",
    "- release_pos_z, Type: Float64 (need)\n",
    "- player_name, Type: String (need, but not feature)\n",
    "- batter, Type: Int64 (don't need right now, maybe later on)\n",
    "- pitcher, Type: Int64 (need, but not feature)\n",
    "- events, Type: String (could be used for feature engineering, not a feature)\n",
    "- description, Type: String (drop)\n",
    "- spin_dir, Type: String (all nulls, drop)\n",
    "- spin_rate_deprecated, Type: String (all nulls, drop)\n",
    "- break_angle_deprecated, Type: String (all nulls, drop)\n",
    "- break_length_deprecated, Type: String (all nulls, drop)\n",
    "- zone, Type: Int64 (need)\n",
    "- des, Type: String (drop)\n",
    "- game_type, Type: String (drop probably)\n",
    "- stand, Type: String (need, convert to codes)\n",
    "- p_throws, Type: String (need, convert to codes)\n",
    "- home_team, Type: String (drop)\n",
    "- away_team, Type: String (drop)\n",
    "- type, Type: String (Short hand of pitch result. B = ball, S = strike, X = in play.) (need, convert to codes)\n",
    "- hit_location, Type: Int64 (need, fill nulls with 0)\n",
    "- bb_type, Type: String (need, convert to codes, fill null with \"unknown\" first)\n",
    "- balls, Type: Int64 (need)\n",
    "- strikes, Type: Int64 (need)\n",
    "- game_year, Type: Int64 (drop)\n",
    "- pfx_x, Type: Float64 (need)\n",
    "- pfx_z, Type: Float64 (need)\n",
    "- plate_x, Type: Float64 (need)\n",
    "- plate_z, Type: Float64 (need)\n",
    "- on_3b, Type: String (need, convert to bool)\n",
    "- on_2b, Type: Int64 (need, convert to bool)\n",
    "- on_1b, Type: Int64 (need, convert to bool)\n",
    "- outs_when_up, Type: Int64 (need)\n",
    "- inning, Type: Int64 (need)\n",
    "- inning_topbot, Type: String (maybe)\n",
    "- hc_x, Type: Float64 (maybe?)\n",
    "- hc_y, Type: Float64 (maybe?)\n",
    "- tfs_deprecated, Type: String (drop)\n",
    "- tfs_zulu_deprecated, Type: String (drop)\n",
    "- umpire, Type: String (drop)\n",
    "- sv_id, Type: String (drop)\n",
    "- vx0, Type: Float64 (need)\n",
    "- vy0, Type: Float64 (need)\n",
    "- vz0, Type: Float64 (need)\n",
    "- ax, Type: Float64 (need)\n",
    "- ay, Type: Float64 (need)\n",
    "- az, Type: Float64 (need)\n",
    "- sz_top, Type: Float64 (need)\n",
    "- sz_bot, Type: Float64 (need)\n",
    "- hit_distance_sc, Type: Int64 (need)\n",
    "- launch_speed, Type: Float64 (need)\n",
    "- launch_angle, Type: Int64 (need)\n",
    "- effective_speed, Type: Float64 (need)\n",
    "- release_spin_rate, Type: Int64 (need)\n",
    "- release_extension, Type: Float64 (need)\n",
    "- game_pk, Type: Int64 (drop)\n",
    "- fielder_2, Type: Int64 (drop)\n",
    "- fielder_3, Type: Int64 (drop)\n",
    "- fielder_4, Type: Int64 (drop)\n",
    "- fielder_5, Type: Int64 (drop)\n",
    "- fielder_6, Type: Int64 (drop)\n",
    "- fielder_7, Type: Int64 (drop)\n",
    "- fielder_8, Type: Int64 (drop)\n",
    "- fielder_9, Type: Int64 (drop)\n",
    "- release_pos_y, Type: Float64 (need)\n",
    "- estimated_ba_using_speedangle, Type: Float64 (maybe)\n",
    "- estimated_woba_using_speedangle, Type: Float64 (maybe)\n",
    "- woba_value, Type: Float64 (maybe)\n",
    "- woba_denom, Type: Int64 (maybe)\n",
    "- babip_value, Type: Int64 (maybe)\n",
    "- iso_value, Type: Int64 (maybe)\n",
    "- launch_speed_angle, Type: Int64 (maybe)\n",
    "- at_bat_number, Type: Int64 (need)\n",
    "- pitch_number, Type: Int64 (need)\n",
    "- pitch_name, Type: String (drop)\n",
    "- home_score, Type: Int64 (drop)\n",
    "- away_score, Type: Int64 (drop)\n",
    "- bat_score, Type: Int64 (need)\n",
    "- fld_score, Type: Int64 (need)\n",
    "- post_away_score, Type: Int64 (drop)\n",
    "- post_home_score, Type: Int64 (drop)\n",
    "- post_bat_score, Type: Int64 (maybe)\n",
    "- post_fld_score, Type: Int64 (maybe)\n",
    "- if_fielding_alignment, Type: String (maybe)\n",
    "- of_fielding_alignment, Type: String (maybe)\n",
    "- spin_axis, Type: String (need, convert to int)\n",
    "- delta_home_win_exp, Type: Float64 (drop)\n",
    "- delta_run_exp, Type: Float64 (drop)\n",
    "- bat_speed, Type: String (drop)\n",
    "- swing_length, Type: String (drop)\n",
    "- estimated_slg_using_speedangle, Type: Float64 (drop)\n",
    "- delta_pitcher_run_exp, Type: Float64 (drop)\n",
    "- hyper_speed, Type: Float64 (drop)\n",
    "- home_score_diff, Type: Int64 (drop)\n",
    "- bat_score_diff, Type: Int64 (drop)\n",
    "- home_win_exp, Type: Float64 (drop)\n",
    "- bat_win_exp, Type: Float64 (maybe)\n",
    "- age_pit_legacy, Type: Int64 (drop)\n",
    "- age_bat_legacy, Type: Int64 (drop)\n",
    "- age_pit, Type: Int64 (drop)\n",
    "- age_bat, Type: Int64 (drop)\n",
    "- n_thruorder_pitcher, Type: Int64 (need)\n",
    "- n_priorpa_thisgame_player_at_bat, Type: Int64 (need)\n",
    "- pitcher_days_since_prev_game, Type: Int64 (need)\n",
    "- batter_days_since_prev_game, Type: Int64 (drop)\n",
    "- pitcher_days_until_next_game, Type: Int64 (drop)\n",
    "- batter_days_until_next_game, Type: Int64 (drop)\n",
    "- api_break_z_with_gravity, Type: Float64 (need)\n",
    "- api_break_x_arm, Type: Float64 (need)\n",
    "- api_break_x_batter_in, Type: Float64 (need)\n",
    "- arm_angle, Type: String (drop, too many nulls)"
   ]
  },
  {
   "cell_type": "code",
   "execution_count": 530,
   "id": "208a80b6",
   "metadata": {},
   "outputs": [],
   "source": [
    "KEEP_COLS = [\n",
    "    \"pitch_type\",\n",
    "    \"game_date\",\n",
    "    \"game_pk\",\n",
    "    \"release_speed\",\n",
    "    \"release_pos_x\",\n",
    "    \"release_pos_y\",\n",
    "    \"release_pos_z\",\n",
    "    \"player_name\",\n",
    "    \"events\",\n",
    "    \"zone\",\n",
    "    \"stand\",\n",
    "    \"p_throws\",\n",
    "    \"type\",\n",
    "    \"hit_location\",\n",
    "    \"bb_type\",\n",
    "    \"balls\",\n",
    "    \"strikes\",\n",
    "    \"pfx_x\",\n",
    "    \"pfx_z\",\n",
    "    \"plate_x\",\n",
    "    \"plate_z\",\n",
    "    \"on_3b\",\n",
    "    \"on_2b\",\n",
    "    \"on_1b\",\n",
    "    \"outs_when_up\",\n",
    "    \"inning\",\n",
    "    \"vx0\",\n",
    "    \"vy0\",\n",
    "    \"vz0\",\n",
    "    \"ax\",\n",
    "    \"ay\",\n",
    "    \"az\",\n",
    "    # \"sz_top\",\n",
    "    # \"sz_bot\",\n",
    "    # \"hit_distance_sc\",\n",
    "    # \"launch_speed\",\n",
    "    # \"launch_angle\",\n",
    "    \"effective_speed\",\n",
    "    \"release_spin_rate\",\n",
    "    \"release_extension\",\n",
    "    \"at_bat_number\",\n",
    "    \"pitch_number\",\n",
    "    \"bat_score\",\n",
    "    \"fld_score\",\n",
    "    # \"spin_axis\",\n",
    "    \"n_thruorder_pitcher\",\n",
    "    \"n_priorpa_thisgame_player_at_bat\",\n",
    "    \"pitcher_days_since_prev_game\",\n",
    "    \"api_break_z_with_gravity\",\n",
    "    \"api_break_x_arm\",\n",
    "    \"api_break_x_batter_in\",\n",
    "]"
   ]
  },
  {
   "cell_type": "code",
   "execution_count": 531,
   "id": "4e2f574b",
   "metadata": {},
   "outputs": [],
   "source": [
    "df = df.select(KEEP_COLS)"
   ]
  },
  {
   "cell_type": "code",
   "execution_count": 532,
   "id": "0319405a",
   "metadata": {},
   "outputs": [
    {
     "data": {
      "text/html": [
       "<div><style>\n",
       ".dataframe > thead > tr,\n",
       ".dataframe > tbody > tr {\n",
       "  text-align: right;\n",
       "  white-space: pre-wrap;\n",
       "}\n",
       "</style>\n",
       "<small>shape: (9, 2)</small><table border=\"1\" class=\"dataframe\"><thead><tr><th>statistic</th><th>pitch_type</th></tr><tr><td>str</td><td>str</td></tr></thead><tbody><tr><td>&quot;count&quot;</td><td>&quot;29673&quot;</td></tr><tr><td>&quot;null_count&quot;</td><td>&quot;63&quot;</td></tr><tr><td>&quot;mean&quot;</td><td>null</td></tr><tr><td>&quot;std&quot;</td><td>null</td></tr><tr><td>&quot;min&quot;</td><td>&quot;CH&quot;</td></tr><tr><td>&quot;25%&quot;</td><td>null</td></tr><tr><td>&quot;50%&quot;</td><td>null</td></tr><tr><td>&quot;75%&quot;</td><td>null</td></tr><tr><td>&quot;max&quot;</td><td>&quot;SL&quot;</td></tr></tbody></table></div>"
      ],
      "text/plain": [
       "shape: (9, 2)\n",
       "┌────────────┬────────────┐\n",
       "│ statistic  ┆ pitch_type │\n",
       "│ ---        ┆ ---        │\n",
       "│ str        ┆ str        │\n",
       "╞════════════╪════════════╡\n",
       "│ count      ┆ 29673      │\n",
       "│ null_count ┆ 63         │\n",
       "│ mean       ┆ null       │\n",
       "│ std        ┆ null       │\n",
       "│ min        ┆ CH         │\n",
       "│ 25%        ┆ null       │\n",
       "│ 50%        ┆ null       │\n",
       "│ 75%        ┆ null       │\n",
       "│ max        ┆ SL         │\n",
       "└────────────┴────────────┘"
      ]
     },
     "execution_count": 532,
     "metadata": {},
     "output_type": "execute_result"
    }
   ],
   "source": [
    "df.select(pl.col(\"pitch_type\")).describe()"
   ]
  },
  {
   "cell_type": "code",
   "execution_count": 533,
   "id": "77f8cf46",
   "metadata": {},
   "outputs": [],
   "source": [
    "df = df.drop_nulls(subset=[\"pitch_type\"])"
   ]
  },
  {
   "cell_type": "code",
   "execution_count": 534,
   "id": "5f1c95b6",
   "metadata": {},
   "outputs": [
    {
     "data": {
      "text/html": [
       "<div><style>\n",
       ".dataframe > thead > tr,\n",
       ".dataframe > tbody > tr {\n",
       "  text-align: right;\n",
       "  white-space: pre-wrap;\n",
       "}\n",
       "</style>\n",
       "<small>shape: (29_673, 45)</small><table border=\"1\" class=\"dataframe\"><thead><tr><th>pitch_type</th><th>game_date</th><th>game_pk</th><th>release_speed</th><th>release_pos_x</th><th>release_pos_y</th><th>release_pos_z</th><th>player_name</th><th>events</th><th>zone</th><th>stand</th><th>p_throws</th><th>type</th><th>hit_location</th><th>bb_type</th><th>balls</th><th>strikes</th><th>pfx_x</th><th>pfx_z</th><th>plate_x</th><th>plate_z</th><th>on_3b</th><th>on_2b</th><th>on_1b</th><th>outs_when_up</th><th>inning</th><th>vx0</th><th>vy0</th><th>vz0</th><th>ax</th><th>ay</th><th>az</th><th>effective_speed</th><th>release_spin_rate</th><th>release_extension</th><th>at_bat_number</th><th>pitch_number</th><th>bat_score</th><th>fld_score</th><th>n_thruorder_pitcher</th><th>n_priorpa_thisgame_player_at_bat</th><th>pitcher_days_since_prev_game</th><th>api_break_z_with_gravity</th><th>api_break_x_arm</th><th>api_break_x_batter_in</th></tr><tr><td>str</td><td>str</td><td>i64</td><td>f64</td><td>f64</td><td>f64</td><td>f64</td><td>str</td><td>str</td><td>i64</td><td>str</td><td>str</td><td>str</td><td>i64</td><td>str</td><td>i64</td><td>i64</td><td>f64</td><td>f64</td><td>f64</td><td>f64</td><td>str</td><td>i64</td><td>i64</td><td>i64</td><td>i64</td><td>f64</td><td>f64</td><td>f64</td><td>f64</td><td>f64</td><td>f64</td><td>f64</td><td>i64</td><td>f64</td><td>i64</td><td>i64</td><td>i64</td><td>i64</td><td>i64</td><td>i64</td><td>i64</td><td>f64</td><td>f64</td><td>f64</td></tr></thead><tbody><tr><td>&quot;FF&quot;</td><td>&quot;2015-07-14&quot;</td><td>414988</td><td>95.7</td><td>-2.42</td><td>54.5</td><td>5.75</td><td>&quot;Cole, Gerrit&quot;</td><td>&quot;field_out&quot;</td><td>4</td><td>&quot;R&quot;</td><td>&quot;R&quot;</td><td>&quot;X&quot;</td><td>8</td><td>&quot;line_drive&quot;</td><td>1</td><td>0</td><td>-0.79</td><td>1.17</td><td>-0.31</td><td>2.29</td><td>null</td><td>null</td><td>518626</td><td>2</td><td>3</td><td>7.662212</td><td>-140.056879</td><td>-5.546647</td><td>-11.76</td><td>31.287</td><td>-16.106</td><td>95.7</td><td>2183</td><td>6.5</td><td>20</td><td>2</td><td>1</td><td>1</td><td>1</td><td>1</td><td>null</td><td>1.36</td><td>0.79</td><td>0.79</td></tr><tr><td>&quot;FF&quot;</td><td>&quot;2015-07-14&quot;</td><td>414988</td><td>95.7</td><td>-2.48</td><td>54.5</td><td>5.69</td><td>&quot;Cole, Gerrit&quot;</td><td>null</td><td>12</td><td>&quot;R&quot;</td><td>&quot;R&quot;</td><td>&quot;B&quot;</td><td>null</td><td>null</td><td>0</td><td>0</td><td>-0.78</td><td>0.91</td><td>1.06</td><td>3.34</td><td>null</td><td>null</td><td>518626</td><td>2</td><td>3</td><td>11.354314</td><td>-139.769222</td><td>-1.942855</td><td>-12.238</td><td>28.457</td><td>-20.127</td><td>96.7</td><td>1956</td><td>7.0</td><td>20</td><td>1</td><td>1</td><td>1</td><td>1</td><td>1</td><td>null</td><td>1.61</td><td>0.78</td><td>0.78</td></tr><tr><td>&quot;FF&quot;</td><td>&quot;2015-07-14&quot;</td><td>414988</td><td>96.2</td><td>-2.39</td><td>54.5</td><td>5.72</td><td>&quot;Cole, Gerrit&quot;</td><td>&quot;walk&quot;</td><td>14</td><td>&quot;R&quot;</td><td>&quot;R&quot;</td><td>&quot;B&quot;</td><td>null</td><td>null</td><td>3</td><td>2</td><td>-0.78</td><td>1.22</td><td>1.56</td><td>1.76</td><td>null</td><td>null</td><td>null</td><td>2</td><td>3</td><td>12.504157</td><td>-140.245457</td><td>-7.085497</td><td>-12.524</td><td>28.19</td><td>-15.051</td><td>97.1</td><td>2194</td><td>6.9</td><td>19</td><td>6</td><td>1</td><td>1</td><td>1</td><td>1</td><td>null</td><td>1.28</td><td>0.78</td><td>0.78</td></tr><tr><td>&quot;SI&quot;</td><td>&quot;2015-07-14&quot;</td><td>414988</td><td>97.2</td><td>-2.45</td><td>54.5</td><td>5.8</td><td>&quot;Cole, Gerrit&quot;</td><td>null</td><td>11</td><td>&quot;R&quot;</td><td>&quot;R&quot;</td><td>&quot;B&quot;</td><td>null</td><td>null</td><td>2</td><td>2</td><td>-0.9</td><td>0.75</td><td>-0.52</td><td>4.7</td><td>null</td><td>null</td><td>null</td><td>2</td><td>3</td><td>7.570725</td><td>-142.250686</td><td>1.559001</td><td>-13.446</td><td>28.79</td><td>-22.561</td><td>98.5</td><td>2059</td><td>6.8</td><td>19</td><td>5</td><td>1</td><td>1</td><td>1</td><td>1</td><td>null</td><td>1.68</td><td>0.9</td><td>0.9</td></tr><tr><td>&quot;SI&quot;</td><td>&quot;2015-07-14&quot;</td><td>414988</td><td>96.9</td><td>-2.48</td><td>54.5</td><td>5.65</td><td>&quot;Cole, Gerrit&quot;</td><td>null</td><td>13</td><td>&quot;R&quot;</td><td>&quot;R&quot;</td><td>&quot;B&quot;</td><td>null</td><td>null</td><td>1</td><td>2</td><td>-0.72</td><td>0.59</td><td>-1.93</td><td>1.91</td><td>null</td><td>null</td><td>null</td><td>2</td><td>3</td><td>3.403575</td><td>-141.949472</td><td>-5.008095</td><td>-10.171</td><td>31.448</td><td>-23.289</td><td>97.0</td><td>2168</td><td>6.4</td><td>19</td><td>4</td><td>1</td><td>1</td><td>1</td><td>1</td><td>null</td><td>1.86</td><td>0.72</td><td>0.72</td></tr><tr><td>&hellip;</td><td>&hellip;</td><td>&hellip;</td><td>&hellip;</td><td>&hellip;</td><td>&hellip;</td><td>&hellip;</td><td>&hellip;</td><td>&hellip;</td><td>&hellip;</td><td>&hellip;</td><td>&hellip;</td><td>&hellip;</td><td>&hellip;</td><td>&hellip;</td><td>&hellip;</td><td>&hellip;</td><td>&hellip;</td><td>&hellip;</td><td>&hellip;</td><td>&hellip;</td><td>&hellip;</td><td>&hellip;</td><td>&hellip;</td><td>&hellip;</td><td>&hellip;</td><td>&hellip;</td><td>&hellip;</td><td>&hellip;</td><td>&hellip;</td><td>&hellip;</td><td>&hellip;</td><td>&hellip;</td><td>&hellip;</td><td>&hellip;</td><td>&hellip;</td><td>&hellip;</td><td>&hellip;</td><td>&hellip;</td><td>&hellip;</td><td>&hellip;</td><td>&hellip;</td><td>&hellip;</td><td>&hellip;</td><td>&hellip;</td></tr><tr><td>&quot;FC&quot;</td><td>&quot;2024-10-05&quot;</td><td>775334</td><td>92.1</td><td>-2.34</td><td>54.48</td><td>6.16</td><td>&quot;Cole, Gerrit&quot;</td><td>null</td><td>5</td><td>&quot;L&quot;</td><td>&quot;R&quot;</td><td>&quot;S&quot;</td><td>null</td><td>null</td><td>0</td><td>0</td><td>0.26</td><td>0.71</td><td>0.13</td><td>2.52</td><td>null</td><td>null</td><td>null</td><td>2</td><td>1</td><td>5.672301</td><td>-133.950565</td><td>-4.870681</td><td>1.740305</td><td>32.370217</td><td>-22.748953</td><td>91.2</td><td>2685</td><td>6.0</td><td>3</td><td>1</td><td>0</td><td>0</td><td>1</td><td>0</td><td>9</td><td>2.01</td><td>-0.26</td><td>0.26</td></tr><tr><td>&quot;FF&quot;</td><td>&quot;2024-10-05&quot;</td><td>775334</td><td>95.1</td><td>-2.11</td><td>54.41</td><td>6.2</td><td>&quot;Cole, Gerrit&quot;</td><td>&quot;field_out&quot;</td><td>2</td><td>&quot;R&quot;</td><td>&quot;R&quot;</td><td>&quot;X&quot;</td><td>8</td><td>&quot;fly_ball&quot;</td><td>1</td><td>1</td><td>-0.36</td><td>1.41</td><td>0.11</td><td>3.52</td><td>null</td><td>null</td><td>null</td><td>1</td><td>1</td><td>6.618599</td><td>-138.273188</td><td>-4.454399</td><td>-6.235999</td><td>34.232539</td><td>-13.326961</td><td>94.3</td><td>2310</td><td>6.1</td><td>2</td><td>3</td><td>0</td><td>0</td><td>1</td><td>0</td><td>9</td><td>1.14</td><td>0.36</td><td>0.36</td></tr><tr><td>&quot;KC&quot;</td><td>&quot;2024-10-05&quot;</td><td>775334</td><td>82.1</td><td>-2.06</td><td>54.49</td><td>6.19</td><td>&quot;Cole, Gerrit&quot;</td><td>null</td><td>14</td><td>&quot;R&quot;</td><td>&quot;R&quot;</td><td>&quot;B&quot;</td><td>null</td><td>null</td><td>0</td><td>1</td><td>0.63</td><td>-1.47</td><td>0.06</td><td>0.49</td><td>null</td><td>null</td><td>null</td><td>1</td><td>1</td><td>3.534958</td><td>-119.413956</td><td>-3.345334</td><td>5.143649</td><td>28.071677</td><td>-45.440479</td><td>80.9</td><td>2771</td><td>6.0</td><td>2</td><td>2</td><td>0</td><td>0</td><td>1</td><td>0</td><td>9</td><td>4.91</td><td>-0.63</td><td>-0.63</td></tr><tr><td>&quot;SL&quot;</td><td>&quot;2024-10-05&quot;</td><td>775334</td><td>88.9</td><td>-2.29</td><td>54.52</td><td>6.19</td><td>&quot;Cole, Gerrit&quot;</td><td>null</td><td>4</td><td>&quot;R&quot;</td><td>&quot;R&quot;</td><td>&quot;S&quot;</td><td>null</td><td>null</td><td>0</td><td>0</td><td>0.55</td><td>0.24</td><td>-0.35</td><td>2.23</td><td>null</td><td>null</td><td>null</td><td>1</td><td>1</td><td>3.591849</td><td>-129.552365</td><td>-4.184211</td><td>5.480068</td><td>25.738812</td><td>-28.859728</td><td>88.7</td><td>2623</td><td>6.0</td><td>2</td><td>1</td><td>0</td><td>0</td><td>1</td><td>0</td><td>9</td><td>2.63</td><td>-0.55</td><td>-0.55</td></tr><tr><td>&quot;FF&quot;</td><td>&quot;2024-10-05&quot;</td><td>775334</td><td>96.2</td><td>-2.16</td><td>54.51</td><td>6.19</td><td>&quot;Cole, Gerrit&quot;</td><td>&quot;field_out&quot;</td><td>6</td><td>&quot;L&quot;</td><td>&quot;R&quot;</td><td>&quot;X&quot;</td><td>9</td><td>&quot;fly_ball&quot;</td><td>0</td><td>0</td><td>-0.36</td><td>1.38</td><td>0.35</td><td>2.51</td><td>null</td><td>null</td><td>null</td><td>0</td><td>1</td><td>7.442987</td><td>-139.754958</td><td>-7.215709</td><td>-6.492477</td><td>33.349223</td><td>-12.608229</td><td>95.3</td><td>2476</td><td>6.0</td><td>1</td><td>1</td><td>0</td><td>0</td><td>1</td><td>0</td><td>9</td><td>1.1</td><td>0.36</td><td>-0.36</td></tr></tbody></table></div>"
      ],
      "text/plain": [
       "shape: (29_673, 45)\n",
       "┌────────────┬───────────┬─────────┬───────────┬───┬───────────┬───────────┬───────────┬───────────┐\n",
       "│ pitch_type ┆ game_date ┆ game_pk ┆ release_s ┆ … ┆ pitcher_d ┆ api_break ┆ api_break ┆ api_break │\n",
       "│ ---        ┆ ---       ┆ ---     ┆ peed      ┆   ┆ ays_since ┆ _z_with_g ┆ _x_arm    ┆ _x_batter │\n",
       "│ str        ┆ str       ┆ i64     ┆ ---       ┆   ┆ _prev_gam ┆ ravity    ┆ ---       ┆ _in       │\n",
       "│            ┆           ┆         ┆ f64       ┆   ┆ e         ┆ ---       ┆ f64       ┆ ---       │\n",
       "│            ┆           ┆         ┆           ┆   ┆ ---       ┆ f64       ┆           ┆ f64       │\n",
       "│            ┆           ┆         ┆           ┆   ┆ i64       ┆           ┆           ┆           │\n",
       "╞════════════╪═══════════╪═════════╪═══════════╪═══╪═══════════╪═══════════╪═══════════╪═══════════╡\n",
       "│ FF         ┆ 2015-07-1 ┆ 414988  ┆ 95.7      ┆ … ┆ null      ┆ 1.36      ┆ 0.79      ┆ 0.79      │\n",
       "│            ┆ 4         ┆         ┆           ┆   ┆           ┆           ┆           ┆           │\n",
       "│ FF         ┆ 2015-07-1 ┆ 414988  ┆ 95.7      ┆ … ┆ null      ┆ 1.61      ┆ 0.78      ┆ 0.78      │\n",
       "│            ┆ 4         ┆         ┆           ┆   ┆           ┆           ┆           ┆           │\n",
       "│ FF         ┆ 2015-07-1 ┆ 414988  ┆ 96.2      ┆ … ┆ null      ┆ 1.28      ┆ 0.78      ┆ 0.78      │\n",
       "│            ┆ 4         ┆         ┆           ┆   ┆           ┆           ┆           ┆           │\n",
       "│ SI         ┆ 2015-07-1 ┆ 414988  ┆ 97.2      ┆ … ┆ null      ┆ 1.68      ┆ 0.9       ┆ 0.9       │\n",
       "│            ┆ 4         ┆         ┆           ┆   ┆           ┆           ┆           ┆           │\n",
       "│ SI         ┆ 2015-07-1 ┆ 414988  ┆ 96.9      ┆ … ┆ null      ┆ 1.86      ┆ 0.72      ┆ 0.72      │\n",
       "│            ┆ 4         ┆         ┆           ┆   ┆           ┆           ┆           ┆           │\n",
       "│ …          ┆ …         ┆ …       ┆ …         ┆ … ┆ …         ┆ …         ┆ …         ┆ …         │\n",
       "│ FC         ┆ 2024-10-0 ┆ 775334  ┆ 92.1      ┆ … ┆ 9         ┆ 2.01      ┆ -0.26     ┆ 0.26      │\n",
       "│            ┆ 5         ┆         ┆           ┆   ┆           ┆           ┆           ┆           │\n",
       "│ FF         ┆ 2024-10-0 ┆ 775334  ┆ 95.1      ┆ … ┆ 9         ┆ 1.14      ┆ 0.36      ┆ 0.36      │\n",
       "│            ┆ 5         ┆         ┆           ┆   ┆           ┆           ┆           ┆           │\n",
       "│ KC         ┆ 2024-10-0 ┆ 775334  ┆ 82.1      ┆ … ┆ 9         ┆ 4.91      ┆ -0.63     ┆ -0.63     │\n",
       "│            ┆ 5         ┆         ┆           ┆   ┆           ┆           ┆           ┆           │\n",
       "│ SL         ┆ 2024-10-0 ┆ 775334  ┆ 88.9      ┆ … ┆ 9         ┆ 2.63      ┆ -0.55     ┆ -0.55     │\n",
       "│            ┆ 5         ┆         ┆           ┆   ┆           ┆           ┆           ┆           │\n",
       "│ FF         ┆ 2024-10-0 ┆ 775334  ┆ 96.2      ┆ … ┆ 9         ┆ 1.1       ┆ 0.36      ┆ -0.36     │\n",
       "│            ┆ 5         ┆         ┆           ┆   ┆           ┆           ┆           ┆           │\n",
       "└────────────┴───────────┴─────────┴───────────┴───┴───────────┴───────────┴───────────┴───────────┘"
      ]
     },
     "execution_count": 534,
     "metadata": {},
     "output_type": "execute_result"
    }
   ],
   "source": [
    "df"
   ]
  },
  {
   "cell_type": "markdown",
   "id": "ac71631f",
   "metadata": {},
   "source": [
    "create a mapping between the pitch code and the pitch name"
   ]
  },
  {
   "cell_type": "code",
   "execution_count": 535,
   "id": "43b641f6",
   "metadata": {},
   "outputs": [],
   "source": [
    "# convert rarest classes to \"other\"\n",
    "rare_pitch_types = (\n",
    "    df.select(pl.col(\"pitch_type\").value_counts(normalize=True))\n",
    "    .unnest(columns=[\"pitch_type\"])\n",
    "    .filter(pl.col(\"proportion\") < 0.05)\n",
    "    .select(pl.col(\"pitch_type\"))\n",
    "    .to_series()\n",
    "    .to_list()\n",
    ")\n",
    "df = df.with_columns(\n",
    "    pl.when(pl.col(\"pitch_type\").is_in(rare_pitch_types))\n",
    "    .then(pl.lit(\"other\"))\n",
    "    .otherwise(pl.col(\"pitch_type\"))\n",
    "    .alias(\"pitch_type\")\n",
    ")"
   ]
  },
  {
   "cell_type": "code",
   "execution_count": 536,
   "id": "87b6ed3a",
   "metadata": {},
   "outputs": [
    {
     "data": {
      "text/html": [
       "<div><style>\n",
       ".dataframe > thead > tr,\n",
       ".dataframe > tbody > tr {\n",
       "  text-align: right;\n",
       "  white-space: pre-wrap;\n",
       "}\n",
       "</style>\n",
       "<small>shape: (6, 2)</small><table border=\"1\" class=\"dataframe\"><thead><tr><th>pitch_type</th><th>count</th></tr><tr><td>str</td><td>u32</td></tr></thead><tbody><tr><td>&quot;FF&quot;</td><td>14811</td></tr><tr><td>&quot;SL&quot;</td><td>6091</td></tr><tr><td>&quot;KC&quot;</td><td>4078</td></tr><tr><td>&quot;CH&quot;</td><td>2196</td></tr><tr><td>&quot;SI&quot;</td><td>1699</td></tr><tr><td>&quot;other&quot;</td><td>798</td></tr></tbody></table></div>"
      ],
      "text/plain": [
       "shape: (6, 2)\n",
       "┌────────────┬───────┐\n",
       "│ pitch_type ┆ count │\n",
       "│ ---        ┆ ---   │\n",
       "│ str        ┆ u32   │\n",
       "╞════════════╪═══════╡\n",
       "│ FF         ┆ 14811 │\n",
       "│ SL         ┆ 6091  │\n",
       "│ KC         ┆ 4078  │\n",
       "│ CH         ┆ 2196  │\n",
       "│ SI         ┆ 1699  │\n",
       "│ other      ┆ 798   │\n",
       "└────────────┴───────┘"
      ]
     },
     "execution_count": 536,
     "metadata": {},
     "output_type": "execute_result"
    }
   ],
   "source": [
    "df.select(pl.col(\"pitch_type\").value_counts()).unnest(\"pitch_type\").sort(\n",
    "    by=\"count\", descending=True\n",
    ")"
   ]
  },
  {
   "cell_type": "code",
   "execution_count": 537,
   "id": "98f8280b",
   "metadata": {},
   "outputs": [
    {
     "name": "stdout",
     "output_type": "stream",
     "text": [
      "Pitch type mapping:\n",
      "CH: 0\n",
      "FF: 1\n",
      "KC: 2\n",
      "SI: 3\n",
      "SL: 4\n",
      "other: 5\n"
     ]
    }
   ],
   "source": [
    "# Get unique pitch types and create a mapping dictionary\n",
    "unique_pitches = df.select(pl.col(\"pitch_type\")).unique().to_series().sort()\n",
    "pitch_to_int = {pitch: i for i, pitch in enumerate(unique_pitches)}\n",
    "int_to_pitch = {i: pitch for pitch, i in pitch_to_int.items()}\n",
    "\n",
    "# Print the mapping for reference\n",
    "print(\"Pitch type mapping:\")\n",
    "for pitch, code in pitch_to_int.items():\n",
    "    print(f\"{pitch}: {code}\")\n",
    "\n",
    "# Create a new column with integer codes\n",
    "df = df.with_columns(\n",
    "    pl.col(\"pitch_type\").replace_strict(pitch_to_int).alias(\"pitch_type_code\")\n",
    ")\n",
    "\n",
    "# Show the result\n",
    "df.select([\"pitch_type\", \"pitch_type_code\"]).head()\n",
    "df = df.drop(\"pitch_type\")"
   ]
  },
  {
   "cell_type": "code",
   "execution_count": 538,
   "id": "c801e9d7",
   "metadata": {},
   "outputs": [
    {
     "data": {
      "text/html": [
       "<div><style>\n",
       ".dataframe > thead > tr,\n",
       ".dataframe > tbody > tr {\n",
       "  text-align: right;\n",
       "  white-space: pre-wrap;\n",
       "}\n",
       "</style>\n",
       "<small>shape: (29_673, 45)</small><table border=\"1\" class=\"dataframe\"><thead><tr><th>game_date</th><th>game_pk</th><th>release_speed</th><th>release_pos_x</th><th>release_pos_y</th><th>release_pos_z</th><th>player_name</th><th>events</th><th>zone</th><th>stand</th><th>p_throws</th><th>type</th><th>hit_location</th><th>bb_type</th><th>balls</th><th>strikes</th><th>pfx_x</th><th>pfx_z</th><th>plate_x</th><th>plate_z</th><th>on_3b</th><th>on_2b</th><th>on_1b</th><th>outs_when_up</th><th>inning</th><th>vx0</th><th>vy0</th><th>vz0</th><th>ax</th><th>ay</th><th>az</th><th>effective_speed</th><th>release_spin_rate</th><th>release_extension</th><th>at_bat_number</th><th>pitch_number</th><th>bat_score</th><th>fld_score</th><th>n_thruorder_pitcher</th><th>n_priorpa_thisgame_player_at_bat</th><th>pitcher_days_since_prev_game</th><th>api_break_z_with_gravity</th><th>api_break_x_arm</th><th>api_break_x_batter_in</th><th>pitch_type_code</th></tr><tr><td>str</td><td>i64</td><td>f64</td><td>f64</td><td>f64</td><td>f64</td><td>str</td><td>str</td><td>i64</td><td>str</td><td>str</td><td>str</td><td>i64</td><td>str</td><td>i64</td><td>i64</td><td>f64</td><td>f64</td><td>f64</td><td>f64</td><td>str</td><td>i64</td><td>i64</td><td>i64</td><td>i64</td><td>f64</td><td>f64</td><td>f64</td><td>f64</td><td>f64</td><td>f64</td><td>f64</td><td>i64</td><td>f64</td><td>i64</td><td>i64</td><td>i64</td><td>i64</td><td>i64</td><td>i64</td><td>i64</td><td>f64</td><td>f64</td><td>f64</td><td>i64</td></tr></thead><tbody><tr><td>&quot;2015-07-14&quot;</td><td>414988</td><td>95.7</td><td>-2.42</td><td>54.5</td><td>5.75</td><td>&quot;Cole, Gerrit&quot;</td><td>&quot;field_out&quot;</td><td>4</td><td>&quot;R&quot;</td><td>&quot;R&quot;</td><td>&quot;X&quot;</td><td>8</td><td>&quot;line_drive&quot;</td><td>1</td><td>0</td><td>-0.79</td><td>1.17</td><td>-0.31</td><td>2.29</td><td>null</td><td>null</td><td>518626</td><td>2</td><td>3</td><td>7.662212</td><td>-140.056879</td><td>-5.546647</td><td>-11.76</td><td>31.287</td><td>-16.106</td><td>95.7</td><td>2183</td><td>6.5</td><td>20</td><td>2</td><td>1</td><td>1</td><td>1</td><td>1</td><td>null</td><td>1.36</td><td>0.79</td><td>0.79</td><td>1</td></tr><tr><td>&quot;2015-07-14&quot;</td><td>414988</td><td>95.7</td><td>-2.48</td><td>54.5</td><td>5.69</td><td>&quot;Cole, Gerrit&quot;</td><td>null</td><td>12</td><td>&quot;R&quot;</td><td>&quot;R&quot;</td><td>&quot;B&quot;</td><td>null</td><td>null</td><td>0</td><td>0</td><td>-0.78</td><td>0.91</td><td>1.06</td><td>3.34</td><td>null</td><td>null</td><td>518626</td><td>2</td><td>3</td><td>11.354314</td><td>-139.769222</td><td>-1.942855</td><td>-12.238</td><td>28.457</td><td>-20.127</td><td>96.7</td><td>1956</td><td>7.0</td><td>20</td><td>1</td><td>1</td><td>1</td><td>1</td><td>1</td><td>null</td><td>1.61</td><td>0.78</td><td>0.78</td><td>1</td></tr><tr><td>&quot;2015-07-14&quot;</td><td>414988</td><td>96.2</td><td>-2.39</td><td>54.5</td><td>5.72</td><td>&quot;Cole, Gerrit&quot;</td><td>&quot;walk&quot;</td><td>14</td><td>&quot;R&quot;</td><td>&quot;R&quot;</td><td>&quot;B&quot;</td><td>null</td><td>null</td><td>3</td><td>2</td><td>-0.78</td><td>1.22</td><td>1.56</td><td>1.76</td><td>null</td><td>null</td><td>null</td><td>2</td><td>3</td><td>12.504157</td><td>-140.245457</td><td>-7.085497</td><td>-12.524</td><td>28.19</td><td>-15.051</td><td>97.1</td><td>2194</td><td>6.9</td><td>19</td><td>6</td><td>1</td><td>1</td><td>1</td><td>1</td><td>null</td><td>1.28</td><td>0.78</td><td>0.78</td><td>1</td></tr><tr><td>&quot;2015-07-14&quot;</td><td>414988</td><td>97.2</td><td>-2.45</td><td>54.5</td><td>5.8</td><td>&quot;Cole, Gerrit&quot;</td><td>null</td><td>11</td><td>&quot;R&quot;</td><td>&quot;R&quot;</td><td>&quot;B&quot;</td><td>null</td><td>null</td><td>2</td><td>2</td><td>-0.9</td><td>0.75</td><td>-0.52</td><td>4.7</td><td>null</td><td>null</td><td>null</td><td>2</td><td>3</td><td>7.570725</td><td>-142.250686</td><td>1.559001</td><td>-13.446</td><td>28.79</td><td>-22.561</td><td>98.5</td><td>2059</td><td>6.8</td><td>19</td><td>5</td><td>1</td><td>1</td><td>1</td><td>1</td><td>null</td><td>1.68</td><td>0.9</td><td>0.9</td><td>3</td></tr><tr><td>&quot;2015-07-14&quot;</td><td>414988</td><td>96.9</td><td>-2.48</td><td>54.5</td><td>5.65</td><td>&quot;Cole, Gerrit&quot;</td><td>null</td><td>13</td><td>&quot;R&quot;</td><td>&quot;R&quot;</td><td>&quot;B&quot;</td><td>null</td><td>null</td><td>1</td><td>2</td><td>-0.72</td><td>0.59</td><td>-1.93</td><td>1.91</td><td>null</td><td>null</td><td>null</td><td>2</td><td>3</td><td>3.403575</td><td>-141.949472</td><td>-5.008095</td><td>-10.171</td><td>31.448</td><td>-23.289</td><td>97.0</td><td>2168</td><td>6.4</td><td>19</td><td>4</td><td>1</td><td>1</td><td>1</td><td>1</td><td>null</td><td>1.86</td><td>0.72</td><td>0.72</td><td>3</td></tr><tr><td>&hellip;</td><td>&hellip;</td><td>&hellip;</td><td>&hellip;</td><td>&hellip;</td><td>&hellip;</td><td>&hellip;</td><td>&hellip;</td><td>&hellip;</td><td>&hellip;</td><td>&hellip;</td><td>&hellip;</td><td>&hellip;</td><td>&hellip;</td><td>&hellip;</td><td>&hellip;</td><td>&hellip;</td><td>&hellip;</td><td>&hellip;</td><td>&hellip;</td><td>&hellip;</td><td>&hellip;</td><td>&hellip;</td><td>&hellip;</td><td>&hellip;</td><td>&hellip;</td><td>&hellip;</td><td>&hellip;</td><td>&hellip;</td><td>&hellip;</td><td>&hellip;</td><td>&hellip;</td><td>&hellip;</td><td>&hellip;</td><td>&hellip;</td><td>&hellip;</td><td>&hellip;</td><td>&hellip;</td><td>&hellip;</td><td>&hellip;</td><td>&hellip;</td><td>&hellip;</td><td>&hellip;</td><td>&hellip;</td><td>&hellip;</td></tr><tr><td>&quot;2024-10-05&quot;</td><td>775334</td><td>92.1</td><td>-2.34</td><td>54.48</td><td>6.16</td><td>&quot;Cole, Gerrit&quot;</td><td>null</td><td>5</td><td>&quot;L&quot;</td><td>&quot;R&quot;</td><td>&quot;S&quot;</td><td>null</td><td>null</td><td>0</td><td>0</td><td>0.26</td><td>0.71</td><td>0.13</td><td>2.52</td><td>null</td><td>null</td><td>null</td><td>2</td><td>1</td><td>5.672301</td><td>-133.950565</td><td>-4.870681</td><td>1.740305</td><td>32.370217</td><td>-22.748953</td><td>91.2</td><td>2685</td><td>6.0</td><td>3</td><td>1</td><td>0</td><td>0</td><td>1</td><td>0</td><td>9</td><td>2.01</td><td>-0.26</td><td>0.26</td><td>5</td></tr><tr><td>&quot;2024-10-05&quot;</td><td>775334</td><td>95.1</td><td>-2.11</td><td>54.41</td><td>6.2</td><td>&quot;Cole, Gerrit&quot;</td><td>&quot;field_out&quot;</td><td>2</td><td>&quot;R&quot;</td><td>&quot;R&quot;</td><td>&quot;X&quot;</td><td>8</td><td>&quot;fly_ball&quot;</td><td>1</td><td>1</td><td>-0.36</td><td>1.41</td><td>0.11</td><td>3.52</td><td>null</td><td>null</td><td>null</td><td>1</td><td>1</td><td>6.618599</td><td>-138.273188</td><td>-4.454399</td><td>-6.235999</td><td>34.232539</td><td>-13.326961</td><td>94.3</td><td>2310</td><td>6.1</td><td>2</td><td>3</td><td>0</td><td>0</td><td>1</td><td>0</td><td>9</td><td>1.14</td><td>0.36</td><td>0.36</td><td>1</td></tr><tr><td>&quot;2024-10-05&quot;</td><td>775334</td><td>82.1</td><td>-2.06</td><td>54.49</td><td>6.19</td><td>&quot;Cole, Gerrit&quot;</td><td>null</td><td>14</td><td>&quot;R&quot;</td><td>&quot;R&quot;</td><td>&quot;B&quot;</td><td>null</td><td>null</td><td>0</td><td>1</td><td>0.63</td><td>-1.47</td><td>0.06</td><td>0.49</td><td>null</td><td>null</td><td>null</td><td>1</td><td>1</td><td>3.534958</td><td>-119.413956</td><td>-3.345334</td><td>5.143649</td><td>28.071677</td><td>-45.440479</td><td>80.9</td><td>2771</td><td>6.0</td><td>2</td><td>2</td><td>0</td><td>0</td><td>1</td><td>0</td><td>9</td><td>4.91</td><td>-0.63</td><td>-0.63</td><td>2</td></tr><tr><td>&quot;2024-10-05&quot;</td><td>775334</td><td>88.9</td><td>-2.29</td><td>54.52</td><td>6.19</td><td>&quot;Cole, Gerrit&quot;</td><td>null</td><td>4</td><td>&quot;R&quot;</td><td>&quot;R&quot;</td><td>&quot;S&quot;</td><td>null</td><td>null</td><td>0</td><td>0</td><td>0.55</td><td>0.24</td><td>-0.35</td><td>2.23</td><td>null</td><td>null</td><td>null</td><td>1</td><td>1</td><td>3.591849</td><td>-129.552365</td><td>-4.184211</td><td>5.480068</td><td>25.738812</td><td>-28.859728</td><td>88.7</td><td>2623</td><td>6.0</td><td>2</td><td>1</td><td>0</td><td>0</td><td>1</td><td>0</td><td>9</td><td>2.63</td><td>-0.55</td><td>-0.55</td><td>4</td></tr><tr><td>&quot;2024-10-05&quot;</td><td>775334</td><td>96.2</td><td>-2.16</td><td>54.51</td><td>6.19</td><td>&quot;Cole, Gerrit&quot;</td><td>&quot;field_out&quot;</td><td>6</td><td>&quot;L&quot;</td><td>&quot;R&quot;</td><td>&quot;X&quot;</td><td>9</td><td>&quot;fly_ball&quot;</td><td>0</td><td>0</td><td>-0.36</td><td>1.38</td><td>0.35</td><td>2.51</td><td>null</td><td>null</td><td>null</td><td>0</td><td>1</td><td>7.442987</td><td>-139.754958</td><td>-7.215709</td><td>-6.492477</td><td>33.349223</td><td>-12.608229</td><td>95.3</td><td>2476</td><td>6.0</td><td>1</td><td>1</td><td>0</td><td>0</td><td>1</td><td>0</td><td>9</td><td>1.1</td><td>0.36</td><td>-0.36</td><td>1</td></tr></tbody></table></div>"
      ],
      "text/plain": [
       "shape: (29_673, 45)\n",
       "┌────────────┬─────────┬───────────┬───────────┬───┬───────────┬───────────┬───────────┬───────────┐\n",
       "│ game_date  ┆ game_pk ┆ release_s ┆ release_p ┆ … ┆ api_break ┆ api_break ┆ api_break ┆ pitch_typ │\n",
       "│ ---        ┆ ---     ┆ peed      ┆ os_x      ┆   ┆ _z_with_g ┆ _x_arm    ┆ _x_batter ┆ e_code    │\n",
       "│ str        ┆ i64     ┆ ---       ┆ ---       ┆   ┆ ravity    ┆ ---       ┆ _in       ┆ ---       │\n",
       "│            ┆         ┆ f64       ┆ f64       ┆   ┆ ---       ┆ f64       ┆ ---       ┆ i64       │\n",
       "│            ┆         ┆           ┆           ┆   ┆ f64       ┆           ┆ f64       ┆           │\n",
       "╞════════════╪═════════╪═══════════╪═══════════╪═══╪═══════════╪═══════════╪═══════════╪═══════════╡\n",
       "│ 2015-07-14 ┆ 414988  ┆ 95.7      ┆ -2.42     ┆ … ┆ 1.36      ┆ 0.79      ┆ 0.79      ┆ 1         │\n",
       "│ 2015-07-14 ┆ 414988  ┆ 95.7      ┆ -2.48     ┆ … ┆ 1.61      ┆ 0.78      ┆ 0.78      ┆ 1         │\n",
       "│ 2015-07-14 ┆ 414988  ┆ 96.2      ┆ -2.39     ┆ … ┆ 1.28      ┆ 0.78      ┆ 0.78      ┆ 1         │\n",
       "│ 2015-07-14 ┆ 414988  ┆ 97.2      ┆ -2.45     ┆ … ┆ 1.68      ┆ 0.9       ┆ 0.9       ┆ 3         │\n",
       "│ 2015-07-14 ┆ 414988  ┆ 96.9      ┆ -2.48     ┆ … ┆ 1.86      ┆ 0.72      ┆ 0.72      ┆ 3         │\n",
       "│ …          ┆ …       ┆ …         ┆ …         ┆ … ┆ …         ┆ …         ┆ …         ┆ …         │\n",
       "│ 2024-10-05 ┆ 775334  ┆ 92.1      ┆ -2.34     ┆ … ┆ 2.01      ┆ -0.26     ┆ 0.26      ┆ 5         │\n",
       "│ 2024-10-05 ┆ 775334  ┆ 95.1      ┆ -2.11     ┆ … ┆ 1.14      ┆ 0.36      ┆ 0.36      ┆ 1         │\n",
       "│ 2024-10-05 ┆ 775334  ┆ 82.1      ┆ -2.06     ┆ … ┆ 4.91      ┆ -0.63     ┆ -0.63     ┆ 2         │\n",
       "│ 2024-10-05 ┆ 775334  ┆ 88.9      ┆ -2.29     ┆ … ┆ 2.63      ┆ -0.55     ┆ -0.55     ┆ 4         │\n",
       "│ 2024-10-05 ┆ 775334  ┆ 96.2      ┆ -2.16     ┆ … ┆ 1.1       ┆ 0.36      ┆ -0.36     ┆ 1         │\n",
       "└────────────┴─────────┴───────────┴───────────┴───┴───────────┴───────────┴───────────┴───────────┘"
      ]
     },
     "execution_count": 538,
     "metadata": {},
     "output_type": "execute_result"
    }
   ],
   "source": [
    "df"
   ]
  },
  {
   "cell_type": "markdown",
   "id": "5962ed0f",
   "metadata": {},
   "source": [
    "convert game_date to datetime"
   ]
  },
  {
   "cell_type": "code",
   "execution_count": 539,
   "id": "c0f94403",
   "metadata": {},
   "outputs": [],
   "source": [
    "df = df.with_columns(\n",
    "    pl.col(\"game_date\").str.to_date(format=\"%Y-%m-%d\").alias(\"game_date\"),\n",
    ")"
   ]
  },
  {
   "cell_type": "code",
   "execution_count": 540,
   "id": "07d179f0",
   "metadata": {},
   "outputs": [
    {
     "data": {
      "text/html": [
       "<div><style>\n",
       ".dataframe > thead > tr,\n",
       ".dataframe > tbody > tr {\n",
       "  text-align: right;\n",
       "  white-space: pre-wrap;\n",
       "}\n",
       "</style>\n",
       "<small>shape: (29_673, 45)</small><table border=\"1\" class=\"dataframe\"><thead><tr><th>game_date</th><th>game_pk</th><th>release_speed</th><th>release_pos_x</th><th>release_pos_y</th><th>release_pos_z</th><th>player_name</th><th>events</th><th>zone</th><th>stand</th><th>p_throws</th><th>type</th><th>hit_location</th><th>bb_type</th><th>balls</th><th>strikes</th><th>pfx_x</th><th>pfx_z</th><th>plate_x</th><th>plate_z</th><th>on_3b</th><th>on_2b</th><th>on_1b</th><th>outs_when_up</th><th>inning</th><th>vx0</th><th>vy0</th><th>vz0</th><th>ax</th><th>ay</th><th>az</th><th>effective_speed</th><th>release_spin_rate</th><th>release_extension</th><th>at_bat_number</th><th>pitch_number</th><th>bat_score</th><th>fld_score</th><th>n_thruorder_pitcher</th><th>n_priorpa_thisgame_player_at_bat</th><th>pitcher_days_since_prev_game</th><th>api_break_z_with_gravity</th><th>api_break_x_arm</th><th>api_break_x_batter_in</th><th>pitch_type_code</th></tr><tr><td>date</td><td>i64</td><td>f64</td><td>f64</td><td>f64</td><td>f64</td><td>str</td><td>str</td><td>i64</td><td>str</td><td>str</td><td>str</td><td>i64</td><td>str</td><td>i64</td><td>i64</td><td>f64</td><td>f64</td><td>f64</td><td>f64</td><td>str</td><td>i64</td><td>i64</td><td>i64</td><td>i64</td><td>f64</td><td>f64</td><td>f64</td><td>f64</td><td>f64</td><td>f64</td><td>f64</td><td>i64</td><td>f64</td><td>i64</td><td>i64</td><td>i64</td><td>i64</td><td>i64</td><td>i64</td><td>i64</td><td>f64</td><td>f64</td><td>f64</td><td>i64</td></tr></thead><tbody><tr><td>2015-07-14</td><td>414988</td><td>95.7</td><td>-2.42</td><td>54.5</td><td>5.75</td><td>&quot;Cole, Gerrit&quot;</td><td>&quot;field_out&quot;</td><td>4</td><td>&quot;R&quot;</td><td>&quot;R&quot;</td><td>&quot;X&quot;</td><td>8</td><td>&quot;line_drive&quot;</td><td>1</td><td>0</td><td>-0.79</td><td>1.17</td><td>-0.31</td><td>2.29</td><td>null</td><td>null</td><td>518626</td><td>2</td><td>3</td><td>7.662212</td><td>-140.056879</td><td>-5.546647</td><td>-11.76</td><td>31.287</td><td>-16.106</td><td>95.7</td><td>2183</td><td>6.5</td><td>20</td><td>2</td><td>1</td><td>1</td><td>1</td><td>1</td><td>null</td><td>1.36</td><td>0.79</td><td>0.79</td><td>1</td></tr><tr><td>2015-07-14</td><td>414988</td><td>95.7</td><td>-2.48</td><td>54.5</td><td>5.69</td><td>&quot;Cole, Gerrit&quot;</td><td>null</td><td>12</td><td>&quot;R&quot;</td><td>&quot;R&quot;</td><td>&quot;B&quot;</td><td>null</td><td>null</td><td>0</td><td>0</td><td>-0.78</td><td>0.91</td><td>1.06</td><td>3.34</td><td>null</td><td>null</td><td>518626</td><td>2</td><td>3</td><td>11.354314</td><td>-139.769222</td><td>-1.942855</td><td>-12.238</td><td>28.457</td><td>-20.127</td><td>96.7</td><td>1956</td><td>7.0</td><td>20</td><td>1</td><td>1</td><td>1</td><td>1</td><td>1</td><td>null</td><td>1.61</td><td>0.78</td><td>0.78</td><td>1</td></tr><tr><td>2015-07-14</td><td>414988</td><td>96.2</td><td>-2.39</td><td>54.5</td><td>5.72</td><td>&quot;Cole, Gerrit&quot;</td><td>&quot;walk&quot;</td><td>14</td><td>&quot;R&quot;</td><td>&quot;R&quot;</td><td>&quot;B&quot;</td><td>null</td><td>null</td><td>3</td><td>2</td><td>-0.78</td><td>1.22</td><td>1.56</td><td>1.76</td><td>null</td><td>null</td><td>null</td><td>2</td><td>3</td><td>12.504157</td><td>-140.245457</td><td>-7.085497</td><td>-12.524</td><td>28.19</td><td>-15.051</td><td>97.1</td><td>2194</td><td>6.9</td><td>19</td><td>6</td><td>1</td><td>1</td><td>1</td><td>1</td><td>null</td><td>1.28</td><td>0.78</td><td>0.78</td><td>1</td></tr><tr><td>2015-07-14</td><td>414988</td><td>97.2</td><td>-2.45</td><td>54.5</td><td>5.8</td><td>&quot;Cole, Gerrit&quot;</td><td>null</td><td>11</td><td>&quot;R&quot;</td><td>&quot;R&quot;</td><td>&quot;B&quot;</td><td>null</td><td>null</td><td>2</td><td>2</td><td>-0.9</td><td>0.75</td><td>-0.52</td><td>4.7</td><td>null</td><td>null</td><td>null</td><td>2</td><td>3</td><td>7.570725</td><td>-142.250686</td><td>1.559001</td><td>-13.446</td><td>28.79</td><td>-22.561</td><td>98.5</td><td>2059</td><td>6.8</td><td>19</td><td>5</td><td>1</td><td>1</td><td>1</td><td>1</td><td>null</td><td>1.68</td><td>0.9</td><td>0.9</td><td>3</td></tr><tr><td>2015-07-14</td><td>414988</td><td>96.9</td><td>-2.48</td><td>54.5</td><td>5.65</td><td>&quot;Cole, Gerrit&quot;</td><td>null</td><td>13</td><td>&quot;R&quot;</td><td>&quot;R&quot;</td><td>&quot;B&quot;</td><td>null</td><td>null</td><td>1</td><td>2</td><td>-0.72</td><td>0.59</td><td>-1.93</td><td>1.91</td><td>null</td><td>null</td><td>null</td><td>2</td><td>3</td><td>3.403575</td><td>-141.949472</td><td>-5.008095</td><td>-10.171</td><td>31.448</td><td>-23.289</td><td>97.0</td><td>2168</td><td>6.4</td><td>19</td><td>4</td><td>1</td><td>1</td><td>1</td><td>1</td><td>null</td><td>1.86</td><td>0.72</td><td>0.72</td><td>3</td></tr><tr><td>&hellip;</td><td>&hellip;</td><td>&hellip;</td><td>&hellip;</td><td>&hellip;</td><td>&hellip;</td><td>&hellip;</td><td>&hellip;</td><td>&hellip;</td><td>&hellip;</td><td>&hellip;</td><td>&hellip;</td><td>&hellip;</td><td>&hellip;</td><td>&hellip;</td><td>&hellip;</td><td>&hellip;</td><td>&hellip;</td><td>&hellip;</td><td>&hellip;</td><td>&hellip;</td><td>&hellip;</td><td>&hellip;</td><td>&hellip;</td><td>&hellip;</td><td>&hellip;</td><td>&hellip;</td><td>&hellip;</td><td>&hellip;</td><td>&hellip;</td><td>&hellip;</td><td>&hellip;</td><td>&hellip;</td><td>&hellip;</td><td>&hellip;</td><td>&hellip;</td><td>&hellip;</td><td>&hellip;</td><td>&hellip;</td><td>&hellip;</td><td>&hellip;</td><td>&hellip;</td><td>&hellip;</td><td>&hellip;</td><td>&hellip;</td></tr><tr><td>2024-10-05</td><td>775334</td><td>92.1</td><td>-2.34</td><td>54.48</td><td>6.16</td><td>&quot;Cole, Gerrit&quot;</td><td>null</td><td>5</td><td>&quot;L&quot;</td><td>&quot;R&quot;</td><td>&quot;S&quot;</td><td>null</td><td>null</td><td>0</td><td>0</td><td>0.26</td><td>0.71</td><td>0.13</td><td>2.52</td><td>null</td><td>null</td><td>null</td><td>2</td><td>1</td><td>5.672301</td><td>-133.950565</td><td>-4.870681</td><td>1.740305</td><td>32.370217</td><td>-22.748953</td><td>91.2</td><td>2685</td><td>6.0</td><td>3</td><td>1</td><td>0</td><td>0</td><td>1</td><td>0</td><td>9</td><td>2.01</td><td>-0.26</td><td>0.26</td><td>5</td></tr><tr><td>2024-10-05</td><td>775334</td><td>95.1</td><td>-2.11</td><td>54.41</td><td>6.2</td><td>&quot;Cole, Gerrit&quot;</td><td>&quot;field_out&quot;</td><td>2</td><td>&quot;R&quot;</td><td>&quot;R&quot;</td><td>&quot;X&quot;</td><td>8</td><td>&quot;fly_ball&quot;</td><td>1</td><td>1</td><td>-0.36</td><td>1.41</td><td>0.11</td><td>3.52</td><td>null</td><td>null</td><td>null</td><td>1</td><td>1</td><td>6.618599</td><td>-138.273188</td><td>-4.454399</td><td>-6.235999</td><td>34.232539</td><td>-13.326961</td><td>94.3</td><td>2310</td><td>6.1</td><td>2</td><td>3</td><td>0</td><td>0</td><td>1</td><td>0</td><td>9</td><td>1.14</td><td>0.36</td><td>0.36</td><td>1</td></tr><tr><td>2024-10-05</td><td>775334</td><td>82.1</td><td>-2.06</td><td>54.49</td><td>6.19</td><td>&quot;Cole, Gerrit&quot;</td><td>null</td><td>14</td><td>&quot;R&quot;</td><td>&quot;R&quot;</td><td>&quot;B&quot;</td><td>null</td><td>null</td><td>0</td><td>1</td><td>0.63</td><td>-1.47</td><td>0.06</td><td>0.49</td><td>null</td><td>null</td><td>null</td><td>1</td><td>1</td><td>3.534958</td><td>-119.413956</td><td>-3.345334</td><td>5.143649</td><td>28.071677</td><td>-45.440479</td><td>80.9</td><td>2771</td><td>6.0</td><td>2</td><td>2</td><td>0</td><td>0</td><td>1</td><td>0</td><td>9</td><td>4.91</td><td>-0.63</td><td>-0.63</td><td>2</td></tr><tr><td>2024-10-05</td><td>775334</td><td>88.9</td><td>-2.29</td><td>54.52</td><td>6.19</td><td>&quot;Cole, Gerrit&quot;</td><td>null</td><td>4</td><td>&quot;R&quot;</td><td>&quot;R&quot;</td><td>&quot;S&quot;</td><td>null</td><td>null</td><td>0</td><td>0</td><td>0.55</td><td>0.24</td><td>-0.35</td><td>2.23</td><td>null</td><td>null</td><td>null</td><td>1</td><td>1</td><td>3.591849</td><td>-129.552365</td><td>-4.184211</td><td>5.480068</td><td>25.738812</td><td>-28.859728</td><td>88.7</td><td>2623</td><td>6.0</td><td>2</td><td>1</td><td>0</td><td>0</td><td>1</td><td>0</td><td>9</td><td>2.63</td><td>-0.55</td><td>-0.55</td><td>4</td></tr><tr><td>2024-10-05</td><td>775334</td><td>96.2</td><td>-2.16</td><td>54.51</td><td>6.19</td><td>&quot;Cole, Gerrit&quot;</td><td>&quot;field_out&quot;</td><td>6</td><td>&quot;L&quot;</td><td>&quot;R&quot;</td><td>&quot;X&quot;</td><td>9</td><td>&quot;fly_ball&quot;</td><td>0</td><td>0</td><td>-0.36</td><td>1.38</td><td>0.35</td><td>2.51</td><td>null</td><td>null</td><td>null</td><td>0</td><td>1</td><td>7.442987</td><td>-139.754958</td><td>-7.215709</td><td>-6.492477</td><td>33.349223</td><td>-12.608229</td><td>95.3</td><td>2476</td><td>6.0</td><td>1</td><td>1</td><td>0</td><td>0</td><td>1</td><td>0</td><td>9</td><td>1.1</td><td>0.36</td><td>-0.36</td><td>1</td></tr></tbody></table></div>"
      ],
      "text/plain": [
       "shape: (29_673, 45)\n",
       "┌────────────┬─────────┬───────────┬───────────┬───┬───────────┬───────────┬───────────┬───────────┐\n",
       "│ game_date  ┆ game_pk ┆ release_s ┆ release_p ┆ … ┆ api_break ┆ api_break ┆ api_break ┆ pitch_typ │\n",
       "│ ---        ┆ ---     ┆ peed      ┆ os_x      ┆   ┆ _z_with_g ┆ _x_arm    ┆ _x_batter ┆ e_code    │\n",
       "│ date       ┆ i64     ┆ ---       ┆ ---       ┆   ┆ ravity    ┆ ---       ┆ _in       ┆ ---       │\n",
       "│            ┆         ┆ f64       ┆ f64       ┆   ┆ ---       ┆ f64       ┆ ---       ┆ i64       │\n",
       "│            ┆         ┆           ┆           ┆   ┆ f64       ┆           ┆ f64       ┆           │\n",
       "╞════════════╪═════════╪═══════════╪═══════════╪═══╪═══════════╪═══════════╪═══════════╪═══════════╡\n",
       "│ 2015-07-14 ┆ 414988  ┆ 95.7      ┆ -2.42     ┆ … ┆ 1.36      ┆ 0.79      ┆ 0.79      ┆ 1         │\n",
       "│ 2015-07-14 ┆ 414988  ┆ 95.7      ┆ -2.48     ┆ … ┆ 1.61      ┆ 0.78      ┆ 0.78      ┆ 1         │\n",
       "│ 2015-07-14 ┆ 414988  ┆ 96.2      ┆ -2.39     ┆ … ┆ 1.28      ┆ 0.78      ┆ 0.78      ┆ 1         │\n",
       "│ 2015-07-14 ┆ 414988  ┆ 97.2      ┆ -2.45     ┆ … ┆ 1.68      ┆ 0.9       ┆ 0.9       ┆ 3         │\n",
       "│ 2015-07-14 ┆ 414988  ┆ 96.9      ┆ -2.48     ┆ … ┆ 1.86      ┆ 0.72      ┆ 0.72      ┆ 3         │\n",
       "│ …          ┆ …       ┆ …         ┆ …         ┆ … ┆ …         ┆ …         ┆ …         ┆ …         │\n",
       "│ 2024-10-05 ┆ 775334  ┆ 92.1      ┆ -2.34     ┆ … ┆ 2.01      ┆ -0.26     ┆ 0.26      ┆ 5         │\n",
       "│ 2024-10-05 ┆ 775334  ┆ 95.1      ┆ -2.11     ┆ … ┆ 1.14      ┆ 0.36      ┆ 0.36      ┆ 1         │\n",
       "│ 2024-10-05 ┆ 775334  ┆ 82.1      ┆ -2.06     ┆ … ┆ 4.91      ┆ -0.63     ┆ -0.63     ┆ 2         │\n",
       "│ 2024-10-05 ┆ 775334  ┆ 88.9      ┆ -2.29     ┆ … ┆ 2.63      ┆ -0.55     ┆ -0.55     ┆ 4         │\n",
       "│ 2024-10-05 ┆ 775334  ┆ 96.2      ┆ -2.16     ┆ … ┆ 1.1       ┆ 0.36      ┆ -0.36     ┆ 1         │\n",
       "└────────────┴─────────┴───────────┴───────────┴───┴───────────┴───────────┴───────────┴───────────┘"
      ]
     },
     "execution_count": 540,
     "metadata": {},
     "output_type": "execute_result"
    }
   ],
   "source": [
    "df"
   ]
  },
  {
   "cell_type": "markdown",
   "id": "e48fc926",
   "metadata": {},
   "source": [
    "replace nulls in event column with \"unknown\""
   ]
  },
  {
   "cell_type": "code",
   "execution_count": 541,
   "id": "e5dee368",
   "metadata": {},
   "outputs": [],
   "source": [
    "df = df.with_columns(\n",
    "    pl.col(\"events\").fill_null(\"N/A\").cast(pl.Categorical).to_physical()\n",
    ")"
   ]
  },
  {
   "cell_type": "code",
   "execution_count": 542,
   "id": "0d8ba47d",
   "metadata": {},
   "outputs": [
    {
     "data": {
      "text/html": [
       "<div><style>\n",
       ".dataframe > thead > tr,\n",
       ".dataframe > tbody > tr {\n",
       "  text-align: right;\n",
       "  white-space: pre-wrap;\n",
       "}\n",
       "</style>\n",
       "<small>shape: (29_673, 45)</small><table border=\"1\" class=\"dataframe\"><thead><tr><th>game_date</th><th>game_pk</th><th>release_speed</th><th>release_pos_x</th><th>release_pos_y</th><th>release_pos_z</th><th>player_name</th><th>events</th><th>zone</th><th>stand</th><th>p_throws</th><th>type</th><th>hit_location</th><th>bb_type</th><th>balls</th><th>strikes</th><th>pfx_x</th><th>pfx_z</th><th>plate_x</th><th>plate_z</th><th>on_3b</th><th>on_2b</th><th>on_1b</th><th>outs_when_up</th><th>inning</th><th>vx0</th><th>vy0</th><th>vz0</th><th>ax</th><th>ay</th><th>az</th><th>effective_speed</th><th>release_spin_rate</th><th>release_extension</th><th>at_bat_number</th><th>pitch_number</th><th>bat_score</th><th>fld_score</th><th>n_thruorder_pitcher</th><th>n_priorpa_thisgame_player_at_bat</th><th>pitcher_days_since_prev_game</th><th>api_break_z_with_gravity</th><th>api_break_x_arm</th><th>api_break_x_batter_in</th><th>pitch_type_code</th></tr><tr><td>date</td><td>i64</td><td>f64</td><td>f64</td><td>f64</td><td>f64</td><td>str</td><td>u32</td><td>i64</td><td>str</td><td>str</td><td>str</td><td>i64</td><td>str</td><td>i64</td><td>i64</td><td>f64</td><td>f64</td><td>f64</td><td>f64</td><td>str</td><td>i64</td><td>i64</td><td>i64</td><td>i64</td><td>f64</td><td>f64</td><td>f64</td><td>f64</td><td>f64</td><td>f64</td><td>f64</td><td>i64</td><td>f64</td><td>i64</td><td>i64</td><td>i64</td><td>i64</td><td>i64</td><td>i64</td><td>i64</td><td>f64</td><td>f64</td><td>f64</td><td>i64</td></tr></thead><tbody><tr><td>2015-07-14</td><td>414988</td><td>95.7</td><td>-2.42</td><td>54.5</td><td>5.75</td><td>&quot;Cole, Gerrit&quot;</td><td>0</td><td>4</td><td>&quot;R&quot;</td><td>&quot;R&quot;</td><td>&quot;X&quot;</td><td>8</td><td>&quot;line_drive&quot;</td><td>1</td><td>0</td><td>-0.79</td><td>1.17</td><td>-0.31</td><td>2.29</td><td>null</td><td>null</td><td>518626</td><td>2</td><td>3</td><td>7.662212</td><td>-140.056879</td><td>-5.546647</td><td>-11.76</td><td>31.287</td><td>-16.106</td><td>95.7</td><td>2183</td><td>6.5</td><td>20</td><td>2</td><td>1</td><td>1</td><td>1</td><td>1</td><td>null</td><td>1.36</td><td>0.79</td><td>0.79</td><td>1</td></tr><tr><td>2015-07-14</td><td>414988</td><td>95.7</td><td>-2.48</td><td>54.5</td><td>5.69</td><td>&quot;Cole, Gerrit&quot;</td><td>1</td><td>12</td><td>&quot;R&quot;</td><td>&quot;R&quot;</td><td>&quot;B&quot;</td><td>null</td><td>null</td><td>0</td><td>0</td><td>-0.78</td><td>0.91</td><td>1.06</td><td>3.34</td><td>null</td><td>null</td><td>518626</td><td>2</td><td>3</td><td>11.354314</td><td>-139.769222</td><td>-1.942855</td><td>-12.238</td><td>28.457</td><td>-20.127</td><td>96.7</td><td>1956</td><td>7.0</td><td>20</td><td>1</td><td>1</td><td>1</td><td>1</td><td>1</td><td>null</td><td>1.61</td><td>0.78</td><td>0.78</td><td>1</td></tr><tr><td>2015-07-14</td><td>414988</td><td>96.2</td><td>-2.39</td><td>54.5</td><td>5.72</td><td>&quot;Cole, Gerrit&quot;</td><td>2</td><td>14</td><td>&quot;R&quot;</td><td>&quot;R&quot;</td><td>&quot;B&quot;</td><td>null</td><td>null</td><td>3</td><td>2</td><td>-0.78</td><td>1.22</td><td>1.56</td><td>1.76</td><td>null</td><td>null</td><td>null</td><td>2</td><td>3</td><td>12.504157</td><td>-140.245457</td><td>-7.085497</td><td>-12.524</td><td>28.19</td><td>-15.051</td><td>97.1</td><td>2194</td><td>6.9</td><td>19</td><td>6</td><td>1</td><td>1</td><td>1</td><td>1</td><td>null</td><td>1.28</td><td>0.78</td><td>0.78</td><td>1</td></tr><tr><td>2015-07-14</td><td>414988</td><td>97.2</td><td>-2.45</td><td>54.5</td><td>5.8</td><td>&quot;Cole, Gerrit&quot;</td><td>1</td><td>11</td><td>&quot;R&quot;</td><td>&quot;R&quot;</td><td>&quot;B&quot;</td><td>null</td><td>null</td><td>2</td><td>2</td><td>-0.9</td><td>0.75</td><td>-0.52</td><td>4.7</td><td>null</td><td>null</td><td>null</td><td>2</td><td>3</td><td>7.570725</td><td>-142.250686</td><td>1.559001</td><td>-13.446</td><td>28.79</td><td>-22.561</td><td>98.5</td><td>2059</td><td>6.8</td><td>19</td><td>5</td><td>1</td><td>1</td><td>1</td><td>1</td><td>null</td><td>1.68</td><td>0.9</td><td>0.9</td><td>3</td></tr><tr><td>2015-07-14</td><td>414988</td><td>96.9</td><td>-2.48</td><td>54.5</td><td>5.65</td><td>&quot;Cole, Gerrit&quot;</td><td>1</td><td>13</td><td>&quot;R&quot;</td><td>&quot;R&quot;</td><td>&quot;B&quot;</td><td>null</td><td>null</td><td>1</td><td>2</td><td>-0.72</td><td>0.59</td><td>-1.93</td><td>1.91</td><td>null</td><td>null</td><td>null</td><td>2</td><td>3</td><td>3.403575</td><td>-141.949472</td><td>-5.008095</td><td>-10.171</td><td>31.448</td><td>-23.289</td><td>97.0</td><td>2168</td><td>6.4</td><td>19</td><td>4</td><td>1</td><td>1</td><td>1</td><td>1</td><td>null</td><td>1.86</td><td>0.72</td><td>0.72</td><td>3</td></tr><tr><td>&hellip;</td><td>&hellip;</td><td>&hellip;</td><td>&hellip;</td><td>&hellip;</td><td>&hellip;</td><td>&hellip;</td><td>&hellip;</td><td>&hellip;</td><td>&hellip;</td><td>&hellip;</td><td>&hellip;</td><td>&hellip;</td><td>&hellip;</td><td>&hellip;</td><td>&hellip;</td><td>&hellip;</td><td>&hellip;</td><td>&hellip;</td><td>&hellip;</td><td>&hellip;</td><td>&hellip;</td><td>&hellip;</td><td>&hellip;</td><td>&hellip;</td><td>&hellip;</td><td>&hellip;</td><td>&hellip;</td><td>&hellip;</td><td>&hellip;</td><td>&hellip;</td><td>&hellip;</td><td>&hellip;</td><td>&hellip;</td><td>&hellip;</td><td>&hellip;</td><td>&hellip;</td><td>&hellip;</td><td>&hellip;</td><td>&hellip;</td><td>&hellip;</td><td>&hellip;</td><td>&hellip;</td><td>&hellip;</td><td>&hellip;</td></tr><tr><td>2024-10-05</td><td>775334</td><td>92.1</td><td>-2.34</td><td>54.48</td><td>6.16</td><td>&quot;Cole, Gerrit&quot;</td><td>1</td><td>5</td><td>&quot;L&quot;</td><td>&quot;R&quot;</td><td>&quot;S&quot;</td><td>null</td><td>null</td><td>0</td><td>0</td><td>0.26</td><td>0.71</td><td>0.13</td><td>2.52</td><td>null</td><td>null</td><td>null</td><td>2</td><td>1</td><td>5.672301</td><td>-133.950565</td><td>-4.870681</td><td>1.740305</td><td>32.370217</td><td>-22.748953</td><td>91.2</td><td>2685</td><td>6.0</td><td>3</td><td>1</td><td>0</td><td>0</td><td>1</td><td>0</td><td>9</td><td>2.01</td><td>-0.26</td><td>0.26</td><td>5</td></tr><tr><td>2024-10-05</td><td>775334</td><td>95.1</td><td>-2.11</td><td>54.41</td><td>6.2</td><td>&quot;Cole, Gerrit&quot;</td><td>0</td><td>2</td><td>&quot;R&quot;</td><td>&quot;R&quot;</td><td>&quot;X&quot;</td><td>8</td><td>&quot;fly_ball&quot;</td><td>1</td><td>1</td><td>-0.36</td><td>1.41</td><td>0.11</td><td>3.52</td><td>null</td><td>null</td><td>null</td><td>1</td><td>1</td><td>6.618599</td><td>-138.273188</td><td>-4.454399</td><td>-6.235999</td><td>34.232539</td><td>-13.326961</td><td>94.3</td><td>2310</td><td>6.1</td><td>2</td><td>3</td><td>0</td><td>0</td><td>1</td><td>0</td><td>9</td><td>1.14</td><td>0.36</td><td>0.36</td><td>1</td></tr><tr><td>2024-10-05</td><td>775334</td><td>82.1</td><td>-2.06</td><td>54.49</td><td>6.19</td><td>&quot;Cole, Gerrit&quot;</td><td>1</td><td>14</td><td>&quot;R&quot;</td><td>&quot;R&quot;</td><td>&quot;B&quot;</td><td>null</td><td>null</td><td>0</td><td>1</td><td>0.63</td><td>-1.47</td><td>0.06</td><td>0.49</td><td>null</td><td>null</td><td>null</td><td>1</td><td>1</td><td>3.534958</td><td>-119.413956</td><td>-3.345334</td><td>5.143649</td><td>28.071677</td><td>-45.440479</td><td>80.9</td><td>2771</td><td>6.0</td><td>2</td><td>2</td><td>0</td><td>0</td><td>1</td><td>0</td><td>9</td><td>4.91</td><td>-0.63</td><td>-0.63</td><td>2</td></tr><tr><td>2024-10-05</td><td>775334</td><td>88.9</td><td>-2.29</td><td>54.52</td><td>6.19</td><td>&quot;Cole, Gerrit&quot;</td><td>1</td><td>4</td><td>&quot;R&quot;</td><td>&quot;R&quot;</td><td>&quot;S&quot;</td><td>null</td><td>null</td><td>0</td><td>0</td><td>0.55</td><td>0.24</td><td>-0.35</td><td>2.23</td><td>null</td><td>null</td><td>null</td><td>1</td><td>1</td><td>3.591849</td><td>-129.552365</td><td>-4.184211</td><td>5.480068</td><td>25.738812</td><td>-28.859728</td><td>88.7</td><td>2623</td><td>6.0</td><td>2</td><td>1</td><td>0</td><td>0</td><td>1</td><td>0</td><td>9</td><td>2.63</td><td>-0.55</td><td>-0.55</td><td>4</td></tr><tr><td>2024-10-05</td><td>775334</td><td>96.2</td><td>-2.16</td><td>54.51</td><td>6.19</td><td>&quot;Cole, Gerrit&quot;</td><td>0</td><td>6</td><td>&quot;L&quot;</td><td>&quot;R&quot;</td><td>&quot;X&quot;</td><td>9</td><td>&quot;fly_ball&quot;</td><td>0</td><td>0</td><td>-0.36</td><td>1.38</td><td>0.35</td><td>2.51</td><td>null</td><td>null</td><td>null</td><td>0</td><td>1</td><td>7.442987</td><td>-139.754958</td><td>-7.215709</td><td>-6.492477</td><td>33.349223</td><td>-12.608229</td><td>95.3</td><td>2476</td><td>6.0</td><td>1</td><td>1</td><td>0</td><td>0</td><td>1</td><td>0</td><td>9</td><td>1.1</td><td>0.36</td><td>-0.36</td><td>1</td></tr></tbody></table></div>"
      ],
      "text/plain": [
       "shape: (29_673, 45)\n",
       "┌────────────┬─────────┬───────────┬───────────┬───┬───────────┬───────────┬───────────┬───────────┐\n",
       "│ game_date  ┆ game_pk ┆ release_s ┆ release_p ┆ … ┆ api_break ┆ api_break ┆ api_break ┆ pitch_typ │\n",
       "│ ---        ┆ ---     ┆ peed      ┆ os_x      ┆   ┆ _z_with_g ┆ _x_arm    ┆ _x_batter ┆ e_code    │\n",
       "│ date       ┆ i64     ┆ ---       ┆ ---       ┆   ┆ ravity    ┆ ---       ┆ _in       ┆ ---       │\n",
       "│            ┆         ┆ f64       ┆ f64       ┆   ┆ ---       ┆ f64       ┆ ---       ┆ i64       │\n",
       "│            ┆         ┆           ┆           ┆   ┆ f64       ┆           ┆ f64       ┆           │\n",
       "╞════════════╪═════════╪═══════════╪═══════════╪═══╪═══════════╪═══════════╪═══════════╪═══════════╡\n",
       "│ 2015-07-14 ┆ 414988  ┆ 95.7      ┆ -2.42     ┆ … ┆ 1.36      ┆ 0.79      ┆ 0.79      ┆ 1         │\n",
       "│ 2015-07-14 ┆ 414988  ┆ 95.7      ┆ -2.48     ┆ … ┆ 1.61      ┆ 0.78      ┆ 0.78      ┆ 1         │\n",
       "│ 2015-07-14 ┆ 414988  ┆ 96.2      ┆ -2.39     ┆ … ┆ 1.28      ┆ 0.78      ┆ 0.78      ┆ 1         │\n",
       "│ 2015-07-14 ┆ 414988  ┆ 97.2      ┆ -2.45     ┆ … ┆ 1.68      ┆ 0.9       ┆ 0.9       ┆ 3         │\n",
       "│ 2015-07-14 ┆ 414988  ┆ 96.9      ┆ -2.48     ┆ … ┆ 1.86      ┆ 0.72      ┆ 0.72      ┆ 3         │\n",
       "│ …          ┆ …       ┆ …         ┆ …         ┆ … ┆ …         ┆ …         ┆ …         ┆ …         │\n",
       "│ 2024-10-05 ┆ 775334  ┆ 92.1      ┆ -2.34     ┆ … ┆ 2.01      ┆ -0.26     ┆ 0.26      ┆ 5         │\n",
       "│ 2024-10-05 ┆ 775334  ┆ 95.1      ┆ -2.11     ┆ … ┆ 1.14      ┆ 0.36      ┆ 0.36      ┆ 1         │\n",
       "│ 2024-10-05 ┆ 775334  ┆ 82.1      ┆ -2.06     ┆ … ┆ 4.91      ┆ -0.63     ┆ -0.63     ┆ 2         │\n",
       "│ 2024-10-05 ┆ 775334  ┆ 88.9      ┆ -2.29     ┆ … ┆ 2.63      ┆ -0.55     ┆ -0.55     ┆ 4         │\n",
       "│ 2024-10-05 ┆ 775334  ┆ 96.2      ┆ -2.16     ┆ … ┆ 1.1       ┆ 0.36      ┆ -0.36     ┆ 1         │\n",
       "└────────────┴─────────┴───────────┴───────────┴───┴───────────┴───────────┴───────────┴───────────┘"
      ]
     },
     "execution_count": 542,
     "metadata": {},
     "output_type": "execute_result"
    }
   ],
   "source": [
    "df"
   ]
  },
  {
   "cell_type": "code",
   "execution_count": 543,
   "id": "a779c8d6",
   "metadata": {},
   "outputs": [],
   "source": [
    "hand_to_int = {\"R\": 0, \"L\": 1}\n",
    "int_to_hand = {0: \"R\", 1: \"L\"}\n",
    "df = df.with_columns(\n",
    "    [\n",
    "        pl.col(\"stand\").replace_strict(hand_to_int).alias(\"stand\"),\n",
    "        pl.col(\"p_throws\").replace_strict(hand_to_int).alias(\"p_throws\"),\n",
    "    ]\n",
    ")"
   ]
  },
  {
   "cell_type": "code",
   "execution_count": 544,
   "id": "783f4bf3",
   "metadata": {},
   "outputs": [
    {
     "data": {
      "text/html": [
       "<div><style>\n",
       ".dataframe > thead > tr,\n",
       ".dataframe > tbody > tr {\n",
       "  text-align: right;\n",
       "  white-space: pre-wrap;\n",
       "}\n",
       "</style>\n",
       "<small>shape: (29_673, 2)</small><table border=\"1\" class=\"dataframe\"><thead><tr><th>stand</th><th>p_throws</th></tr><tr><td>i64</td><td>i64</td></tr></thead><tbody><tr><td>0</td><td>0</td></tr><tr><td>0</td><td>0</td></tr><tr><td>0</td><td>0</td></tr><tr><td>0</td><td>0</td></tr><tr><td>0</td><td>0</td></tr><tr><td>&hellip;</td><td>&hellip;</td></tr><tr><td>1</td><td>0</td></tr><tr><td>0</td><td>0</td></tr><tr><td>0</td><td>0</td></tr><tr><td>0</td><td>0</td></tr><tr><td>1</td><td>0</td></tr></tbody></table></div>"
      ],
      "text/plain": [
       "shape: (29_673, 2)\n",
       "┌───────┬──────────┐\n",
       "│ stand ┆ p_throws │\n",
       "│ ---   ┆ ---      │\n",
       "│ i64   ┆ i64      │\n",
       "╞═══════╪══════════╡\n",
       "│ 0     ┆ 0        │\n",
       "│ 0     ┆ 0        │\n",
       "│ 0     ┆ 0        │\n",
       "│ 0     ┆ 0        │\n",
       "│ 0     ┆ 0        │\n",
       "│ …     ┆ …        │\n",
       "│ 1     ┆ 0        │\n",
       "│ 0     ┆ 0        │\n",
       "│ 0     ┆ 0        │\n",
       "│ 0     ┆ 0        │\n",
       "│ 1     ┆ 0        │\n",
       "└───────┴──────────┘"
      ]
     },
     "execution_count": 544,
     "metadata": {},
     "output_type": "execute_result"
    }
   ],
   "source": [
    "df.select(pl.col([\"stand\", \"p_throws\"]))"
   ]
  },
  {
   "cell_type": "code",
   "execution_count": 545,
   "id": "89d92b53",
   "metadata": {},
   "outputs": [],
   "source": [
    "df = df.rename({\"type\": \"pitch_result\"})"
   ]
  },
  {
   "cell_type": "code",
   "execution_count": 546,
   "id": "fb72200a",
   "metadata": {},
   "outputs": [
    {
     "data": {
      "text/html": [
       "<div><style>\n",
       ".dataframe > thead > tr,\n",
       ".dataframe > tbody > tr {\n",
       "  text-align: right;\n",
       "  white-space: pre-wrap;\n",
       "}\n",
       "</style>\n",
       "<small>shape: (29_673, 45)</small><table border=\"1\" class=\"dataframe\"><thead><tr><th>game_date</th><th>game_pk</th><th>release_speed</th><th>release_pos_x</th><th>release_pos_y</th><th>release_pos_z</th><th>player_name</th><th>events</th><th>zone</th><th>stand</th><th>p_throws</th><th>pitch_result</th><th>hit_location</th><th>bb_type</th><th>balls</th><th>strikes</th><th>pfx_x</th><th>pfx_z</th><th>plate_x</th><th>plate_z</th><th>on_3b</th><th>on_2b</th><th>on_1b</th><th>outs_when_up</th><th>inning</th><th>vx0</th><th>vy0</th><th>vz0</th><th>ax</th><th>ay</th><th>az</th><th>effective_speed</th><th>release_spin_rate</th><th>release_extension</th><th>at_bat_number</th><th>pitch_number</th><th>bat_score</th><th>fld_score</th><th>n_thruorder_pitcher</th><th>n_priorpa_thisgame_player_at_bat</th><th>pitcher_days_since_prev_game</th><th>api_break_z_with_gravity</th><th>api_break_x_arm</th><th>api_break_x_batter_in</th><th>pitch_type_code</th></tr><tr><td>date</td><td>i64</td><td>f64</td><td>f64</td><td>f64</td><td>f64</td><td>str</td><td>u32</td><td>i64</td><td>i64</td><td>i64</td><td>u32</td><td>i64</td><td>str</td><td>i64</td><td>i64</td><td>f64</td><td>f64</td><td>f64</td><td>f64</td><td>str</td><td>i64</td><td>i64</td><td>i64</td><td>i64</td><td>f64</td><td>f64</td><td>f64</td><td>f64</td><td>f64</td><td>f64</td><td>f64</td><td>i64</td><td>f64</td><td>i64</td><td>i64</td><td>i64</td><td>i64</td><td>i64</td><td>i64</td><td>i64</td><td>f64</td><td>f64</td><td>f64</td><td>i64</td></tr></thead><tbody><tr><td>2015-07-14</td><td>414988</td><td>95.7</td><td>-2.42</td><td>54.5</td><td>5.75</td><td>&quot;Cole, Gerrit&quot;</td><td>0</td><td>4</td><td>0</td><td>0</td><td>0</td><td>8</td><td>&quot;line_drive&quot;</td><td>1</td><td>0</td><td>-0.79</td><td>1.17</td><td>-0.31</td><td>2.29</td><td>null</td><td>null</td><td>518626</td><td>2</td><td>3</td><td>7.662212</td><td>-140.056879</td><td>-5.546647</td><td>-11.76</td><td>31.287</td><td>-16.106</td><td>95.7</td><td>2183</td><td>6.5</td><td>20</td><td>2</td><td>1</td><td>1</td><td>1</td><td>1</td><td>null</td><td>1.36</td><td>0.79</td><td>0.79</td><td>1</td></tr><tr><td>2015-07-14</td><td>414988</td><td>95.7</td><td>-2.48</td><td>54.5</td><td>5.69</td><td>&quot;Cole, Gerrit&quot;</td><td>1</td><td>12</td><td>0</td><td>0</td><td>1</td><td>null</td><td>null</td><td>0</td><td>0</td><td>-0.78</td><td>0.91</td><td>1.06</td><td>3.34</td><td>null</td><td>null</td><td>518626</td><td>2</td><td>3</td><td>11.354314</td><td>-139.769222</td><td>-1.942855</td><td>-12.238</td><td>28.457</td><td>-20.127</td><td>96.7</td><td>1956</td><td>7.0</td><td>20</td><td>1</td><td>1</td><td>1</td><td>1</td><td>1</td><td>null</td><td>1.61</td><td>0.78</td><td>0.78</td><td>1</td></tr><tr><td>2015-07-14</td><td>414988</td><td>96.2</td><td>-2.39</td><td>54.5</td><td>5.72</td><td>&quot;Cole, Gerrit&quot;</td><td>2</td><td>14</td><td>0</td><td>0</td><td>1</td><td>null</td><td>null</td><td>3</td><td>2</td><td>-0.78</td><td>1.22</td><td>1.56</td><td>1.76</td><td>null</td><td>null</td><td>null</td><td>2</td><td>3</td><td>12.504157</td><td>-140.245457</td><td>-7.085497</td><td>-12.524</td><td>28.19</td><td>-15.051</td><td>97.1</td><td>2194</td><td>6.9</td><td>19</td><td>6</td><td>1</td><td>1</td><td>1</td><td>1</td><td>null</td><td>1.28</td><td>0.78</td><td>0.78</td><td>1</td></tr><tr><td>2015-07-14</td><td>414988</td><td>97.2</td><td>-2.45</td><td>54.5</td><td>5.8</td><td>&quot;Cole, Gerrit&quot;</td><td>1</td><td>11</td><td>0</td><td>0</td><td>1</td><td>null</td><td>null</td><td>2</td><td>2</td><td>-0.9</td><td>0.75</td><td>-0.52</td><td>4.7</td><td>null</td><td>null</td><td>null</td><td>2</td><td>3</td><td>7.570725</td><td>-142.250686</td><td>1.559001</td><td>-13.446</td><td>28.79</td><td>-22.561</td><td>98.5</td><td>2059</td><td>6.8</td><td>19</td><td>5</td><td>1</td><td>1</td><td>1</td><td>1</td><td>null</td><td>1.68</td><td>0.9</td><td>0.9</td><td>3</td></tr><tr><td>2015-07-14</td><td>414988</td><td>96.9</td><td>-2.48</td><td>54.5</td><td>5.65</td><td>&quot;Cole, Gerrit&quot;</td><td>1</td><td>13</td><td>0</td><td>0</td><td>1</td><td>null</td><td>null</td><td>1</td><td>2</td><td>-0.72</td><td>0.59</td><td>-1.93</td><td>1.91</td><td>null</td><td>null</td><td>null</td><td>2</td><td>3</td><td>3.403575</td><td>-141.949472</td><td>-5.008095</td><td>-10.171</td><td>31.448</td><td>-23.289</td><td>97.0</td><td>2168</td><td>6.4</td><td>19</td><td>4</td><td>1</td><td>1</td><td>1</td><td>1</td><td>null</td><td>1.86</td><td>0.72</td><td>0.72</td><td>3</td></tr><tr><td>&hellip;</td><td>&hellip;</td><td>&hellip;</td><td>&hellip;</td><td>&hellip;</td><td>&hellip;</td><td>&hellip;</td><td>&hellip;</td><td>&hellip;</td><td>&hellip;</td><td>&hellip;</td><td>&hellip;</td><td>&hellip;</td><td>&hellip;</td><td>&hellip;</td><td>&hellip;</td><td>&hellip;</td><td>&hellip;</td><td>&hellip;</td><td>&hellip;</td><td>&hellip;</td><td>&hellip;</td><td>&hellip;</td><td>&hellip;</td><td>&hellip;</td><td>&hellip;</td><td>&hellip;</td><td>&hellip;</td><td>&hellip;</td><td>&hellip;</td><td>&hellip;</td><td>&hellip;</td><td>&hellip;</td><td>&hellip;</td><td>&hellip;</td><td>&hellip;</td><td>&hellip;</td><td>&hellip;</td><td>&hellip;</td><td>&hellip;</td><td>&hellip;</td><td>&hellip;</td><td>&hellip;</td><td>&hellip;</td><td>&hellip;</td></tr><tr><td>2024-10-05</td><td>775334</td><td>92.1</td><td>-2.34</td><td>54.48</td><td>6.16</td><td>&quot;Cole, Gerrit&quot;</td><td>1</td><td>5</td><td>1</td><td>0</td><td>2</td><td>null</td><td>null</td><td>0</td><td>0</td><td>0.26</td><td>0.71</td><td>0.13</td><td>2.52</td><td>null</td><td>null</td><td>null</td><td>2</td><td>1</td><td>5.672301</td><td>-133.950565</td><td>-4.870681</td><td>1.740305</td><td>32.370217</td><td>-22.748953</td><td>91.2</td><td>2685</td><td>6.0</td><td>3</td><td>1</td><td>0</td><td>0</td><td>1</td><td>0</td><td>9</td><td>2.01</td><td>-0.26</td><td>0.26</td><td>5</td></tr><tr><td>2024-10-05</td><td>775334</td><td>95.1</td><td>-2.11</td><td>54.41</td><td>6.2</td><td>&quot;Cole, Gerrit&quot;</td><td>0</td><td>2</td><td>0</td><td>0</td><td>0</td><td>8</td><td>&quot;fly_ball&quot;</td><td>1</td><td>1</td><td>-0.36</td><td>1.41</td><td>0.11</td><td>3.52</td><td>null</td><td>null</td><td>null</td><td>1</td><td>1</td><td>6.618599</td><td>-138.273188</td><td>-4.454399</td><td>-6.235999</td><td>34.232539</td><td>-13.326961</td><td>94.3</td><td>2310</td><td>6.1</td><td>2</td><td>3</td><td>0</td><td>0</td><td>1</td><td>0</td><td>9</td><td>1.14</td><td>0.36</td><td>0.36</td><td>1</td></tr><tr><td>2024-10-05</td><td>775334</td><td>82.1</td><td>-2.06</td><td>54.49</td><td>6.19</td><td>&quot;Cole, Gerrit&quot;</td><td>1</td><td>14</td><td>0</td><td>0</td><td>1</td><td>null</td><td>null</td><td>0</td><td>1</td><td>0.63</td><td>-1.47</td><td>0.06</td><td>0.49</td><td>null</td><td>null</td><td>null</td><td>1</td><td>1</td><td>3.534958</td><td>-119.413956</td><td>-3.345334</td><td>5.143649</td><td>28.071677</td><td>-45.440479</td><td>80.9</td><td>2771</td><td>6.0</td><td>2</td><td>2</td><td>0</td><td>0</td><td>1</td><td>0</td><td>9</td><td>4.91</td><td>-0.63</td><td>-0.63</td><td>2</td></tr><tr><td>2024-10-05</td><td>775334</td><td>88.9</td><td>-2.29</td><td>54.52</td><td>6.19</td><td>&quot;Cole, Gerrit&quot;</td><td>1</td><td>4</td><td>0</td><td>0</td><td>2</td><td>null</td><td>null</td><td>0</td><td>0</td><td>0.55</td><td>0.24</td><td>-0.35</td><td>2.23</td><td>null</td><td>null</td><td>null</td><td>1</td><td>1</td><td>3.591849</td><td>-129.552365</td><td>-4.184211</td><td>5.480068</td><td>25.738812</td><td>-28.859728</td><td>88.7</td><td>2623</td><td>6.0</td><td>2</td><td>1</td><td>0</td><td>0</td><td>1</td><td>0</td><td>9</td><td>2.63</td><td>-0.55</td><td>-0.55</td><td>4</td></tr><tr><td>2024-10-05</td><td>775334</td><td>96.2</td><td>-2.16</td><td>54.51</td><td>6.19</td><td>&quot;Cole, Gerrit&quot;</td><td>0</td><td>6</td><td>1</td><td>0</td><td>0</td><td>9</td><td>&quot;fly_ball&quot;</td><td>0</td><td>0</td><td>-0.36</td><td>1.38</td><td>0.35</td><td>2.51</td><td>null</td><td>null</td><td>null</td><td>0</td><td>1</td><td>7.442987</td><td>-139.754958</td><td>-7.215709</td><td>-6.492477</td><td>33.349223</td><td>-12.608229</td><td>95.3</td><td>2476</td><td>6.0</td><td>1</td><td>1</td><td>0</td><td>0</td><td>1</td><td>0</td><td>9</td><td>1.1</td><td>0.36</td><td>-0.36</td><td>1</td></tr></tbody></table></div>"
      ],
      "text/plain": [
       "shape: (29_673, 45)\n",
       "┌────────────┬─────────┬───────────┬───────────┬───┬───────────┬───────────┬───────────┬───────────┐\n",
       "│ game_date  ┆ game_pk ┆ release_s ┆ release_p ┆ … ┆ api_break ┆ api_break ┆ api_break ┆ pitch_typ │\n",
       "│ ---        ┆ ---     ┆ peed      ┆ os_x      ┆   ┆ _z_with_g ┆ _x_arm    ┆ _x_batter ┆ e_code    │\n",
       "│ date       ┆ i64     ┆ ---       ┆ ---       ┆   ┆ ravity    ┆ ---       ┆ _in       ┆ ---       │\n",
       "│            ┆         ┆ f64       ┆ f64       ┆   ┆ ---       ┆ f64       ┆ ---       ┆ i64       │\n",
       "│            ┆         ┆           ┆           ┆   ┆ f64       ┆           ┆ f64       ┆           │\n",
       "╞════════════╪═════════╪═══════════╪═══════════╪═══╪═══════════╪═══════════╪═══════════╪═══════════╡\n",
       "│ 2015-07-14 ┆ 414988  ┆ 95.7      ┆ -2.42     ┆ … ┆ 1.36      ┆ 0.79      ┆ 0.79      ┆ 1         │\n",
       "│ 2015-07-14 ┆ 414988  ┆ 95.7      ┆ -2.48     ┆ … ┆ 1.61      ┆ 0.78      ┆ 0.78      ┆ 1         │\n",
       "│ 2015-07-14 ┆ 414988  ┆ 96.2      ┆ -2.39     ┆ … ┆ 1.28      ┆ 0.78      ┆ 0.78      ┆ 1         │\n",
       "│ 2015-07-14 ┆ 414988  ┆ 97.2      ┆ -2.45     ┆ … ┆ 1.68      ┆ 0.9       ┆ 0.9       ┆ 3         │\n",
       "│ 2015-07-14 ┆ 414988  ┆ 96.9      ┆ -2.48     ┆ … ┆ 1.86      ┆ 0.72      ┆ 0.72      ┆ 3         │\n",
       "│ …          ┆ …       ┆ …         ┆ …         ┆ … ┆ …         ┆ …         ┆ …         ┆ …         │\n",
       "│ 2024-10-05 ┆ 775334  ┆ 92.1      ┆ -2.34     ┆ … ┆ 2.01      ┆ -0.26     ┆ 0.26      ┆ 5         │\n",
       "│ 2024-10-05 ┆ 775334  ┆ 95.1      ┆ -2.11     ┆ … ┆ 1.14      ┆ 0.36      ┆ 0.36      ┆ 1         │\n",
       "│ 2024-10-05 ┆ 775334  ┆ 82.1      ┆ -2.06     ┆ … ┆ 4.91      ┆ -0.63     ┆ -0.63     ┆ 2         │\n",
       "│ 2024-10-05 ┆ 775334  ┆ 88.9      ┆ -2.29     ┆ … ┆ 2.63      ┆ -0.55     ┆ -0.55     ┆ 4         │\n",
       "│ 2024-10-05 ┆ 775334  ┆ 96.2      ┆ -2.16     ┆ … ┆ 1.1       ┆ 0.36      ┆ -0.36     ┆ 1         │\n",
       "└────────────┴─────────┴───────────┴───────────┴───┴───────────┴───────────┴───────────┴───────────┘"
      ]
     },
     "execution_count": 546,
     "metadata": {},
     "output_type": "execute_result"
    }
   ],
   "source": [
    "df = df.with_columns(\n",
    "    pl.col(\"pitch_result\").fill_null(\"N/A\").cast(pl.Categorical).to_physical(),\n",
    ")\n",
    "df"
   ]
  },
  {
   "cell_type": "code",
   "execution_count": 547,
   "id": "bbf4dfc0",
   "metadata": {},
   "outputs": [
    {
     "data": {
      "text/html": [
       "<div><style>\n",
       ".dataframe > thead > tr,\n",
       ".dataframe > tbody > tr {\n",
       "  text-align: right;\n",
       "  white-space: pre-wrap;\n",
       "}\n",
       "</style>\n",
       "<small>shape: (29_673, 45)</small><table border=\"1\" class=\"dataframe\"><thead><tr><th>game_date</th><th>game_pk</th><th>release_speed</th><th>release_pos_x</th><th>release_pos_y</th><th>release_pos_z</th><th>player_name</th><th>events</th><th>zone</th><th>stand</th><th>p_throws</th><th>pitch_result</th><th>hit_location</th><th>bb_type</th><th>balls</th><th>strikes</th><th>pfx_x</th><th>pfx_z</th><th>plate_x</th><th>plate_z</th><th>on_3b</th><th>on_2b</th><th>on_1b</th><th>outs_when_up</th><th>inning</th><th>vx0</th><th>vy0</th><th>vz0</th><th>ax</th><th>ay</th><th>az</th><th>effective_speed</th><th>release_spin_rate</th><th>release_extension</th><th>at_bat_number</th><th>pitch_number</th><th>bat_score</th><th>fld_score</th><th>n_thruorder_pitcher</th><th>n_priorpa_thisgame_player_at_bat</th><th>pitcher_days_since_prev_game</th><th>api_break_z_with_gravity</th><th>api_break_x_arm</th><th>api_break_x_batter_in</th><th>pitch_type_code</th></tr><tr><td>date</td><td>i64</td><td>f64</td><td>f64</td><td>f64</td><td>f64</td><td>str</td><td>u32</td><td>i64</td><td>i64</td><td>i64</td><td>u32</td><td>i8</td><td>str</td><td>i64</td><td>i64</td><td>f64</td><td>f64</td><td>f64</td><td>f64</td><td>str</td><td>i64</td><td>i64</td><td>i64</td><td>i64</td><td>f64</td><td>f64</td><td>f64</td><td>f64</td><td>f64</td><td>f64</td><td>f64</td><td>i64</td><td>f64</td><td>i64</td><td>i64</td><td>i64</td><td>i64</td><td>i64</td><td>i64</td><td>i64</td><td>f64</td><td>f64</td><td>f64</td><td>i64</td></tr></thead><tbody><tr><td>2015-07-14</td><td>414988</td><td>95.7</td><td>-2.42</td><td>54.5</td><td>5.75</td><td>&quot;Cole, Gerrit&quot;</td><td>0</td><td>4</td><td>0</td><td>0</td><td>0</td><td>8</td><td>&quot;line_drive&quot;</td><td>1</td><td>0</td><td>-0.79</td><td>1.17</td><td>-0.31</td><td>2.29</td><td>null</td><td>null</td><td>518626</td><td>2</td><td>3</td><td>7.662212</td><td>-140.056879</td><td>-5.546647</td><td>-11.76</td><td>31.287</td><td>-16.106</td><td>95.7</td><td>2183</td><td>6.5</td><td>20</td><td>2</td><td>1</td><td>1</td><td>1</td><td>1</td><td>null</td><td>1.36</td><td>0.79</td><td>0.79</td><td>1</td></tr><tr><td>2015-07-14</td><td>414988</td><td>95.7</td><td>-2.48</td><td>54.5</td><td>5.69</td><td>&quot;Cole, Gerrit&quot;</td><td>1</td><td>12</td><td>0</td><td>0</td><td>1</td><td>0</td><td>null</td><td>0</td><td>0</td><td>-0.78</td><td>0.91</td><td>1.06</td><td>3.34</td><td>null</td><td>null</td><td>518626</td><td>2</td><td>3</td><td>11.354314</td><td>-139.769222</td><td>-1.942855</td><td>-12.238</td><td>28.457</td><td>-20.127</td><td>96.7</td><td>1956</td><td>7.0</td><td>20</td><td>1</td><td>1</td><td>1</td><td>1</td><td>1</td><td>null</td><td>1.61</td><td>0.78</td><td>0.78</td><td>1</td></tr><tr><td>2015-07-14</td><td>414988</td><td>96.2</td><td>-2.39</td><td>54.5</td><td>5.72</td><td>&quot;Cole, Gerrit&quot;</td><td>2</td><td>14</td><td>0</td><td>0</td><td>1</td><td>0</td><td>null</td><td>3</td><td>2</td><td>-0.78</td><td>1.22</td><td>1.56</td><td>1.76</td><td>null</td><td>null</td><td>null</td><td>2</td><td>3</td><td>12.504157</td><td>-140.245457</td><td>-7.085497</td><td>-12.524</td><td>28.19</td><td>-15.051</td><td>97.1</td><td>2194</td><td>6.9</td><td>19</td><td>6</td><td>1</td><td>1</td><td>1</td><td>1</td><td>null</td><td>1.28</td><td>0.78</td><td>0.78</td><td>1</td></tr><tr><td>2015-07-14</td><td>414988</td><td>97.2</td><td>-2.45</td><td>54.5</td><td>5.8</td><td>&quot;Cole, Gerrit&quot;</td><td>1</td><td>11</td><td>0</td><td>0</td><td>1</td><td>0</td><td>null</td><td>2</td><td>2</td><td>-0.9</td><td>0.75</td><td>-0.52</td><td>4.7</td><td>null</td><td>null</td><td>null</td><td>2</td><td>3</td><td>7.570725</td><td>-142.250686</td><td>1.559001</td><td>-13.446</td><td>28.79</td><td>-22.561</td><td>98.5</td><td>2059</td><td>6.8</td><td>19</td><td>5</td><td>1</td><td>1</td><td>1</td><td>1</td><td>null</td><td>1.68</td><td>0.9</td><td>0.9</td><td>3</td></tr><tr><td>2015-07-14</td><td>414988</td><td>96.9</td><td>-2.48</td><td>54.5</td><td>5.65</td><td>&quot;Cole, Gerrit&quot;</td><td>1</td><td>13</td><td>0</td><td>0</td><td>1</td><td>0</td><td>null</td><td>1</td><td>2</td><td>-0.72</td><td>0.59</td><td>-1.93</td><td>1.91</td><td>null</td><td>null</td><td>null</td><td>2</td><td>3</td><td>3.403575</td><td>-141.949472</td><td>-5.008095</td><td>-10.171</td><td>31.448</td><td>-23.289</td><td>97.0</td><td>2168</td><td>6.4</td><td>19</td><td>4</td><td>1</td><td>1</td><td>1</td><td>1</td><td>null</td><td>1.86</td><td>0.72</td><td>0.72</td><td>3</td></tr><tr><td>&hellip;</td><td>&hellip;</td><td>&hellip;</td><td>&hellip;</td><td>&hellip;</td><td>&hellip;</td><td>&hellip;</td><td>&hellip;</td><td>&hellip;</td><td>&hellip;</td><td>&hellip;</td><td>&hellip;</td><td>&hellip;</td><td>&hellip;</td><td>&hellip;</td><td>&hellip;</td><td>&hellip;</td><td>&hellip;</td><td>&hellip;</td><td>&hellip;</td><td>&hellip;</td><td>&hellip;</td><td>&hellip;</td><td>&hellip;</td><td>&hellip;</td><td>&hellip;</td><td>&hellip;</td><td>&hellip;</td><td>&hellip;</td><td>&hellip;</td><td>&hellip;</td><td>&hellip;</td><td>&hellip;</td><td>&hellip;</td><td>&hellip;</td><td>&hellip;</td><td>&hellip;</td><td>&hellip;</td><td>&hellip;</td><td>&hellip;</td><td>&hellip;</td><td>&hellip;</td><td>&hellip;</td><td>&hellip;</td><td>&hellip;</td></tr><tr><td>2024-10-05</td><td>775334</td><td>92.1</td><td>-2.34</td><td>54.48</td><td>6.16</td><td>&quot;Cole, Gerrit&quot;</td><td>1</td><td>5</td><td>1</td><td>0</td><td>2</td><td>0</td><td>null</td><td>0</td><td>0</td><td>0.26</td><td>0.71</td><td>0.13</td><td>2.52</td><td>null</td><td>null</td><td>null</td><td>2</td><td>1</td><td>5.672301</td><td>-133.950565</td><td>-4.870681</td><td>1.740305</td><td>32.370217</td><td>-22.748953</td><td>91.2</td><td>2685</td><td>6.0</td><td>3</td><td>1</td><td>0</td><td>0</td><td>1</td><td>0</td><td>9</td><td>2.01</td><td>-0.26</td><td>0.26</td><td>5</td></tr><tr><td>2024-10-05</td><td>775334</td><td>95.1</td><td>-2.11</td><td>54.41</td><td>6.2</td><td>&quot;Cole, Gerrit&quot;</td><td>0</td><td>2</td><td>0</td><td>0</td><td>0</td><td>8</td><td>&quot;fly_ball&quot;</td><td>1</td><td>1</td><td>-0.36</td><td>1.41</td><td>0.11</td><td>3.52</td><td>null</td><td>null</td><td>null</td><td>1</td><td>1</td><td>6.618599</td><td>-138.273188</td><td>-4.454399</td><td>-6.235999</td><td>34.232539</td><td>-13.326961</td><td>94.3</td><td>2310</td><td>6.1</td><td>2</td><td>3</td><td>0</td><td>0</td><td>1</td><td>0</td><td>9</td><td>1.14</td><td>0.36</td><td>0.36</td><td>1</td></tr><tr><td>2024-10-05</td><td>775334</td><td>82.1</td><td>-2.06</td><td>54.49</td><td>6.19</td><td>&quot;Cole, Gerrit&quot;</td><td>1</td><td>14</td><td>0</td><td>0</td><td>1</td><td>0</td><td>null</td><td>0</td><td>1</td><td>0.63</td><td>-1.47</td><td>0.06</td><td>0.49</td><td>null</td><td>null</td><td>null</td><td>1</td><td>1</td><td>3.534958</td><td>-119.413956</td><td>-3.345334</td><td>5.143649</td><td>28.071677</td><td>-45.440479</td><td>80.9</td><td>2771</td><td>6.0</td><td>2</td><td>2</td><td>0</td><td>0</td><td>1</td><td>0</td><td>9</td><td>4.91</td><td>-0.63</td><td>-0.63</td><td>2</td></tr><tr><td>2024-10-05</td><td>775334</td><td>88.9</td><td>-2.29</td><td>54.52</td><td>6.19</td><td>&quot;Cole, Gerrit&quot;</td><td>1</td><td>4</td><td>0</td><td>0</td><td>2</td><td>0</td><td>null</td><td>0</td><td>0</td><td>0.55</td><td>0.24</td><td>-0.35</td><td>2.23</td><td>null</td><td>null</td><td>null</td><td>1</td><td>1</td><td>3.591849</td><td>-129.552365</td><td>-4.184211</td><td>5.480068</td><td>25.738812</td><td>-28.859728</td><td>88.7</td><td>2623</td><td>6.0</td><td>2</td><td>1</td><td>0</td><td>0</td><td>1</td><td>0</td><td>9</td><td>2.63</td><td>-0.55</td><td>-0.55</td><td>4</td></tr><tr><td>2024-10-05</td><td>775334</td><td>96.2</td><td>-2.16</td><td>54.51</td><td>6.19</td><td>&quot;Cole, Gerrit&quot;</td><td>0</td><td>6</td><td>1</td><td>0</td><td>0</td><td>9</td><td>&quot;fly_ball&quot;</td><td>0</td><td>0</td><td>-0.36</td><td>1.38</td><td>0.35</td><td>2.51</td><td>null</td><td>null</td><td>null</td><td>0</td><td>1</td><td>7.442987</td><td>-139.754958</td><td>-7.215709</td><td>-6.492477</td><td>33.349223</td><td>-12.608229</td><td>95.3</td><td>2476</td><td>6.0</td><td>1</td><td>1</td><td>0</td><td>0</td><td>1</td><td>0</td><td>9</td><td>1.1</td><td>0.36</td><td>-0.36</td><td>1</td></tr></tbody></table></div>"
      ],
      "text/plain": [
       "shape: (29_673, 45)\n",
       "┌────────────┬─────────┬───────────┬───────────┬───┬───────────┬───────────┬───────────┬───────────┐\n",
       "│ game_date  ┆ game_pk ┆ release_s ┆ release_p ┆ … ┆ api_break ┆ api_break ┆ api_break ┆ pitch_typ │\n",
       "│ ---        ┆ ---     ┆ peed      ┆ os_x      ┆   ┆ _z_with_g ┆ _x_arm    ┆ _x_batter ┆ e_code    │\n",
       "│ date       ┆ i64     ┆ ---       ┆ ---       ┆   ┆ ravity    ┆ ---       ┆ _in       ┆ ---       │\n",
       "│            ┆         ┆ f64       ┆ f64       ┆   ┆ ---       ┆ f64       ┆ ---       ┆ i64       │\n",
       "│            ┆         ┆           ┆           ┆   ┆ f64       ┆           ┆ f64       ┆           │\n",
       "╞════════════╪═════════╪═══════════╪═══════════╪═══╪═══════════╪═══════════╪═══════════╪═══════════╡\n",
       "│ 2015-07-14 ┆ 414988  ┆ 95.7      ┆ -2.42     ┆ … ┆ 1.36      ┆ 0.79      ┆ 0.79      ┆ 1         │\n",
       "│ 2015-07-14 ┆ 414988  ┆ 95.7      ┆ -2.48     ┆ … ┆ 1.61      ┆ 0.78      ┆ 0.78      ┆ 1         │\n",
       "│ 2015-07-14 ┆ 414988  ┆ 96.2      ┆ -2.39     ┆ … ┆ 1.28      ┆ 0.78      ┆ 0.78      ┆ 1         │\n",
       "│ 2015-07-14 ┆ 414988  ┆ 97.2      ┆ -2.45     ┆ … ┆ 1.68      ┆ 0.9       ┆ 0.9       ┆ 3         │\n",
       "│ 2015-07-14 ┆ 414988  ┆ 96.9      ┆ -2.48     ┆ … ┆ 1.86      ┆ 0.72      ┆ 0.72      ┆ 3         │\n",
       "│ …          ┆ …       ┆ …         ┆ …         ┆ … ┆ …         ┆ …         ┆ …         ┆ …         │\n",
       "│ 2024-10-05 ┆ 775334  ┆ 92.1      ┆ -2.34     ┆ … ┆ 2.01      ┆ -0.26     ┆ 0.26      ┆ 5         │\n",
       "│ 2024-10-05 ┆ 775334  ┆ 95.1      ┆ -2.11     ┆ … ┆ 1.14      ┆ 0.36      ┆ 0.36      ┆ 1         │\n",
       "│ 2024-10-05 ┆ 775334  ┆ 82.1      ┆ -2.06     ┆ … ┆ 4.91      ┆ -0.63     ┆ -0.63     ┆ 2         │\n",
       "│ 2024-10-05 ┆ 775334  ┆ 88.9      ┆ -2.29     ┆ … ┆ 2.63      ┆ -0.55     ┆ -0.55     ┆ 4         │\n",
       "│ 2024-10-05 ┆ 775334  ┆ 96.2      ┆ -2.16     ┆ … ┆ 1.1       ┆ 0.36      ┆ -0.36     ┆ 1         │\n",
       "└────────────┴─────────┴───────────┴───────────┴───┴───────────┴───────────┴───────────┴───────────┘"
      ]
     },
     "execution_count": 547,
     "metadata": {},
     "output_type": "execute_result"
    }
   ],
   "source": [
    "df = df.with_columns(\n",
    "    pl.col(\"hit_location\").fill_null(0).cast(pl.Int8).alias(\"hit_location\"),\n",
    ")\n",
    "df"
   ]
  },
  {
   "cell_type": "code",
   "execution_count": 548,
   "id": "ea7a82a1",
   "metadata": {},
   "outputs": [
    {
     "data": {
      "text/html": [
       "<div><style>\n",
       ".dataframe > thead > tr,\n",
       ".dataframe > tbody > tr {\n",
       "  text-align: right;\n",
       "  white-space: pre-wrap;\n",
       "}\n",
       "</style>\n",
       "<small>shape: (29_673, 45)</small><table border=\"1\" class=\"dataframe\"><thead><tr><th>game_date</th><th>game_pk</th><th>release_speed</th><th>release_pos_x</th><th>release_pos_y</th><th>release_pos_z</th><th>player_name</th><th>events</th><th>zone</th><th>stand</th><th>p_throws</th><th>pitch_result</th><th>hit_location</th><th>bb_type</th><th>balls</th><th>strikes</th><th>pfx_x</th><th>pfx_z</th><th>plate_x</th><th>plate_z</th><th>on_3b</th><th>on_2b</th><th>on_1b</th><th>outs_when_up</th><th>inning</th><th>vx0</th><th>vy0</th><th>vz0</th><th>ax</th><th>ay</th><th>az</th><th>effective_speed</th><th>release_spin_rate</th><th>release_extension</th><th>at_bat_number</th><th>pitch_number</th><th>bat_score</th><th>fld_score</th><th>n_thruorder_pitcher</th><th>n_priorpa_thisgame_player_at_bat</th><th>pitcher_days_since_prev_game</th><th>api_break_z_with_gravity</th><th>api_break_x_arm</th><th>api_break_x_batter_in</th><th>pitch_type_code</th></tr><tr><td>date</td><td>i64</td><td>f64</td><td>f64</td><td>f64</td><td>f64</td><td>str</td><td>u32</td><td>i64</td><td>i64</td><td>i64</td><td>u32</td><td>i8</td><td>u32</td><td>i64</td><td>i64</td><td>f64</td><td>f64</td><td>f64</td><td>f64</td><td>str</td><td>i64</td><td>i64</td><td>i64</td><td>i64</td><td>f64</td><td>f64</td><td>f64</td><td>f64</td><td>f64</td><td>f64</td><td>f64</td><td>i64</td><td>f64</td><td>i64</td><td>i64</td><td>i64</td><td>i64</td><td>i64</td><td>i64</td><td>i64</td><td>f64</td><td>f64</td><td>f64</td><td>i64</td></tr></thead><tbody><tr><td>2015-07-14</td><td>414988</td><td>95.7</td><td>-2.42</td><td>54.5</td><td>5.75</td><td>&quot;Cole, Gerrit&quot;</td><td>0</td><td>4</td><td>0</td><td>0</td><td>0</td><td>8</td><td>0</td><td>1</td><td>0</td><td>-0.79</td><td>1.17</td><td>-0.31</td><td>2.29</td><td>null</td><td>null</td><td>518626</td><td>2</td><td>3</td><td>7.662212</td><td>-140.056879</td><td>-5.546647</td><td>-11.76</td><td>31.287</td><td>-16.106</td><td>95.7</td><td>2183</td><td>6.5</td><td>20</td><td>2</td><td>1</td><td>1</td><td>1</td><td>1</td><td>null</td><td>1.36</td><td>0.79</td><td>0.79</td><td>1</td></tr><tr><td>2015-07-14</td><td>414988</td><td>95.7</td><td>-2.48</td><td>54.5</td><td>5.69</td><td>&quot;Cole, Gerrit&quot;</td><td>1</td><td>12</td><td>0</td><td>0</td><td>1</td><td>0</td><td>1</td><td>0</td><td>0</td><td>-0.78</td><td>0.91</td><td>1.06</td><td>3.34</td><td>null</td><td>null</td><td>518626</td><td>2</td><td>3</td><td>11.354314</td><td>-139.769222</td><td>-1.942855</td><td>-12.238</td><td>28.457</td><td>-20.127</td><td>96.7</td><td>1956</td><td>7.0</td><td>20</td><td>1</td><td>1</td><td>1</td><td>1</td><td>1</td><td>null</td><td>1.61</td><td>0.78</td><td>0.78</td><td>1</td></tr><tr><td>2015-07-14</td><td>414988</td><td>96.2</td><td>-2.39</td><td>54.5</td><td>5.72</td><td>&quot;Cole, Gerrit&quot;</td><td>2</td><td>14</td><td>0</td><td>0</td><td>1</td><td>0</td><td>1</td><td>3</td><td>2</td><td>-0.78</td><td>1.22</td><td>1.56</td><td>1.76</td><td>null</td><td>null</td><td>null</td><td>2</td><td>3</td><td>12.504157</td><td>-140.245457</td><td>-7.085497</td><td>-12.524</td><td>28.19</td><td>-15.051</td><td>97.1</td><td>2194</td><td>6.9</td><td>19</td><td>6</td><td>1</td><td>1</td><td>1</td><td>1</td><td>null</td><td>1.28</td><td>0.78</td><td>0.78</td><td>1</td></tr><tr><td>2015-07-14</td><td>414988</td><td>97.2</td><td>-2.45</td><td>54.5</td><td>5.8</td><td>&quot;Cole, Gerrit&quot;</td><td>1</td><td>11</td><td>0</td><td>0</td><td>1</td><td>0</td><td>1</td><td>2</td><td>2</td><td>-0.9</td><td>0.75</td><td>-0.52</td><td>4.7</td><td>null</td><td>null</td><td>null</td><td>2</td><td>3</td><td>7.570725</td><td>-142.250686</td><td>1.559001</td><td>-13.446</td><td>28.79</td><td>-22.561</td><td>98.5</td><td>2059</td><td>6.8</td><td>19</td><td>5</td><td>1</td><td>1</td><td>1</td><td>1</td><td>null</td><td>1.68</td><td>0.9</td><td>0.9</td><td>3</td></tr><tr><td>2015-07-14</td><td>414988</td><td>96.9</td><td>-2.48</td><td>54.5</td><td>5.65</td><td>&quot;Cole, Gerrit&quot;</td><td>1</td><td>13</td><td>0</td><td>0</td><td>1</td><td>0</td><td>1</td><td>1</td><td>2</td><td>-0.72</td><td>0.59</td><td>-1.93</td><td>1.91</td><td>null</td><td>null</td><td>null</td><td>2</td><td>3</td><td>3.403575</td><td>-141.949472</td><td>-5.008095</td><td>-10.171</td><td>31.448</td><td>-23.289</td><td>97.0</td><td>2168</td><td>6.4</td><td>19</td><td>4</td><td>1</td><td>1</td><td>1</td><td>1</td><td>null</td><td>1.86</td><td>0.72</td><td>0.72</td><td>3</td></tr><tr><td>&hellip;</td><td>&hellip;</td><td>&hellip;</td><td>&hellip;</td><td>&hellip;</td><td>&hellip;</td><td>&hellip;</td><td>&hellip;</td><td>&hellip;</td><td>&hellip;</td><td>&hellip;</td><td>&hellip;</td><td>&hellip;</td><td>&hellip;</td><td>&hellip;</td><td>&hellip;</td><td>&hellip;</td><td>&hellip;</td><td>&hellip;</td><td>&hellip;</td><td>&hellip;</td><td>&hellip;</td><td>&hellip;</td><td>&hellip;</td><td>&hellip;</td><td>&hellip;</td><td>&hellip;</td><td>&hellip;</td><td>&hellip;</td><td>&hellip;</td><td>&hellip;</td><td>&hellip;</td><td>&hellip;</td><td>&hellip;</td><td>&hellip;</td><td>&hellip;</td><td>&hellip;</td><td>&hellip;</td><td>&hellip;</td><td>&hellip;</td><td>&hellip;</td><td>&hellip;</td><td>&hellip;</td><td>&hellip;</td><td>&hellip;</td></tr><tr><td>2024-10-05</td><td>775334</td><td>92.1</td><td>-2.34</td><td>54.48</td><td>6.16</td><td>&quot;Cole, Gerrit&quot;</td><td>1</td><td>5</td><td>1</td><td>0</td><td>2</td><td>0</td><td>1</td><td>0</td><td>0</td><td>0.26</td><td>0.71</td><td>0.13</td><td>2.52</td><td>null</td><td>null</td><td>null</td><td>2</td><td>1</td><td>5.672301</td><td>-133.950565</td><td>-4.870681</td><td>1.740305</td><td>32.370217</td><td>-22.748953</td><td>91.2</td><td>2685</td><td>6.0</td><td>3</td><td>1</td><td>0</td><td>0</td><td>1</td><td>0</td><td>9</td><td>2.01</td><td>-0.26</td><td>0.26</td><td>5</td></tr><tr><td>2024-10-05</td><td>775334</td><td>95.1</td><td>-2.11</td><td>54.41</td><td>6.2</td><td>&quot;Cole, Gerrit&quot;</td><td>0</td><td>2</td><td>0</td><td>0</td><td>0</td><td>8</td><td>2</td><td>1</td><td>1</td><td>-0.36</td><td>1.41</td><td>0.11</td><td>3.52</td><td>null</td><td>null</td><td>null</td><td>1</td><td>1</td><td>6.618599</td><td>-138.273188</td><td>-4.454399</td><td>-6.235999</td><td>34.232539</td><td>-13.326961</td><td>94.3</td><td>2310</td><td>6.1</td><td>2</td><td>3</td><td>0</td><td>0</td><td>1</td><td>0</td><td>9</td><td>1.14</td><td>0.36</td><td>0.36</td><td>1</td></tr><tr><td>2024-10-05</td><td>775334</td><td>82.1</td><td>-2.06</td><td>54.49</td><td>6.19</td><td>&quot;Cole, Gerrit&quot;</td><td>1</td><td>14</td><td>0</td><td>0</td><td>1</td><td>0</td><td>1</td><td>0</td><td>1</td><td>0.63</td><td>-1.47</td><td>0.06</td><td>0.49</td><td>null</td><td>null</td><td>null</td><td>1</td><td>1</td><td>3.534958</td><td>-119.413956</td><td>-3.345334</td><td>5.143649</td><td>28.071677</td><td>-45.440479</td><td>80.9</td><td>2771</td><td>6.0</td><td>2</td><td>2</td><td>0</td><td>0</td><td>1</td><td>0</td><td>9</td><td>4.91</td><td>-0.63</td><td>-0.63</td><td>2</td></tr><tr><td>2024-10-05</td><td>775334</td><td>88.9</td><td>-2.29</td><td>54.52</td><td>6.19</td><td>&quot;Cole, Gerrit&quot;</td><td>1</td><td>4</td><td>0</td><td>0</td><td>2</td><td>0</td><td>1</td><td>0</td><td>0</td><td>0.55</td><td>0.24</td><td>-0.35</td><td>2.23</td><td>null</td><td>null</td><td>null</td><td>1</td><td>1</td><td>3.591849</td><td>-129.552365</td><td>-4.184211</td><td>5.480068</td><td>25.738812</td><td>-28.859728</td><td>88.7</td><td>2623</td><td>6.0</td><td>2</td><td>1</td><td>0</td><td>0</td><td>1</td><td>0</td><td>9</td><td>2.63</td><td>-0.55</td><td>-0.55</td><td>4</td></tr><tr><td>2024-10-05</td><td>775334</td><td>96.2</td><td>-2.16</td><td>54.51</td><td>6.19</td><td>&quot;Cole, Gerrit&quot;</td><td>0</td><td>6</td><td>1</td><td>0</td><td>0</td><td>9</td><td>2</td><td>0</td><td>0</td><td>-0.36</td><td>1.38</td><td>0.35</td><td>2.51</td><td>null</td><td>null</td><td>null</td><td>0</td><td>1</td><td>7.442987</td><td>-139.754958</td><td>-7.215709</td><td>-6.492477</td><td>33.349223</td><td>-12.608229</td><td>95.3</td><td>2476</td><td>6.0</td><td>1</td><td>1</td><td>0</td><td>0</td><td>1</td><td>0</td><td>9</td><td>1.1</td><td>0.36</td><td>-0.36</td><td>1</td></tr></tbody></table></div>"
      ],
      "text/plain": [
       "shape: (29_673, 45)\n",
       "┌────────────┬─────────┬───────────┬───────────┬───┬───────────┬───────────┬───────────┬───────────┐\n",
       "│ game_date  ┆ game_pk ┆ release_s ┆ release_p ┆ … ┆ api_break ┆ api_break ┆ api_break ┆ pitch_typ │\n",
       "│ ---        ┆ ---     ┆ peed      ┆ os_x      ┆   ┆ _z_with_g ┆ _x_arm    ┆ _x_batter ┆ e_code    │\n",
       "│ date       ┆ i64     ┆ ---       ┆ ---       ┆   ┆ ravity    ┆ ---       ┆ _in       ┆ ---       │\n",
       "│            ┆         ┆ f64       ┆ f64       ┆   ┆ ---       ┆ f64       ┆ ---       ┆ i64       │\n",
       "│            ┆         ┆           ┆           ┆   ┆ f64       ┆           ┆ f64       ┆           │\n",
       "╞════════════╪═════════╪═══════════╪═══════════╪═══╪═══════════╪═══════════╪═══════════╪═══════════╡\n",
       "│ 2015-07-14 ┆ 414988  ┆ 95.7      ┆ -2.42     ┆ … ┆ 1.36      ┆ 0.79      ┆ 0.79      ┆ 1         │\n",
       "│ 2015-07-14 ┆ 414988  ┆ 95.7      ┆ -2.48     ┆ … ┆ 1.61      ┆ 0.78      ┆ 0.78      ┆ 1         │\n",
       "│ 2015-07-14 ┆ 414988  ┆ 96.2      ┆ -2.39     ┆ … ┆ 1.28      ┆ 0.78      ┆ 0.78      ┆ 1         │\n",
       "│ 2015-07-14 ┆ 414988  ┆ 97.2      ┆ -2.45     ┆ … ┆ 1.68      ┆ 0.9       ┆ 0.9       ┆ 3         │\n",
       "│ 2015-07-14 ┆ 414988  ┆ 96.9      ┆ -2.48     ┆ … ┆ 1.86      ┆ 0.72      ┆ 0.72      ┆ 3         │\n",
       "│ …          ┆ …       ┆ …         ┆ …         ┆ … ┆ …         ┆ …         ┆ …         ┆ …         │\n",
       "│ 2024-10-05 ┆ 775334  ┆ 92.1      ┆ -2.34     ┆ … ┆ 2.01      ┆ -0.26     ┆ 0.26      ┆ 5         │\n",
       "│ 2024-10-05 ┆ 775334  ┆ 95.1      ┆ -2.11     ┆ … ┆ 1.14      ┆ 0.36      ┆ 0.36      ┆ 1         │\n",
       "│ 2024-10-05 ┆ 775334  ┆ 82.1      ┆ -2.06     ┆ … ┆ 4.91      ┆ -0.63     ┆ -0.63     ┆ 2         │\n",
       "│ 2024-10-05 ┆ 775334  ┆ 88.9      ┆ -2.29     ┆ … ┆ 2.63      ┆ -0.55     ┆ -0.55     ┆ 4         │\n",
       "│ 2024-10-05 ┆ 775334  ┆ 96.2      ┆ -2.16     ┆ … ┆ 1.1       ┆ 0.36      ┆ -0.36     ┆ 1         │\n",
       "└────────────┴─────────┴───────────┴───────────┴───┴───────────┴───────────┴───────────┴───────────┘"
      ]
     },
     "execution_count": 548,
     "metadata": {},
     "output_type": "execute_result"
    }
   ],
   "source": [
    "df = df.with_columns(\n",
    "    pl.col(\"bb_type\").fill_null(\"N/A\").cast(pl.Categorical).to_physical(),\n",
    ")\n",
    "df"
   ]
  },
  {
   "cell_type": "code",
   "execution_count": 549,
   "id": "88038774",
   "metadata": {},
   "outputs": [],
   "source": [
    "df = df.with_columns(\n",
    "    (pl.col(\"balls\").cast(pl.String) + \"-\" + pl.col(\"strikes\").cast(pl.String))\n",
    "    .cast(pl.Categorical)\n",
    "    .to_physical()\n",
    "    .alias(\"balls_strikes\"),\n",
    ").drop([\"balls\", \"strikes\"])"
   ]
  },
  {
   "cell_type": "code",
   "execution_count": 550,
   "id": "c3e06f0f",
   "metadata": {},
   "outputs": [
    {
     "data": {
      "text/html": [
       "<div><style>\n",
       ".dataframe > thead > tr,\n",
       ".dataframe > tbody > tr {\n",
       "  text-align: right;\n",
       "  white-space: pre-wrap;\n",
       "}\n",
       "</style>\n",
       "<small>shape: (29_673, 44)</small><table border=\"1\" class=\"dataframe\"><thead><tr><th>game_date</th><th>game_pk</th><th>release_speed</th><th>release_pos_x</th><th>release_pos_y</th><th>release_pos_z</th><th>player_name</th><th>events</th><th>zone</th><th>stand</th><th>p_throws</th><th>pitch_result</th><th>hit_location</th><th>bb_type</th><th>pfx_x</th><th>pfx_z</th><th>plate_x</th><th>plate_z</th><th>on_3b</th><th>on_2b</th><th>on_1b</th><th>outs_when_up</th><th>inning</th><th>vx0</th><th>vy0</th><th>vz0</th><th>ax</th><th>ay</th><th>az</th><th>effective_speed</th><th>release_spin_rate</th><th>release_extension</th><th>at_bat_number</th><th>pitch_number</th><th>bat_score</th><th>fld_score</th><th>n_thruorder_pitcher</th><th>n_priorpa_thisgame_player_at_bat</th><th>pitcher_days_since_prev_game</th><th>api_break_z_with_gravity</th><th>api_break_x_arm</th><th>api_break_x_batter_in</th><th>pitch_type_code</th><th>balls_strikes</th></tr><tr><td>date</td><td>i64</td><td>f64</td><td>f64</td><td>f64</td><td>f64</td><td>str</td><td>u32</td><td>i64</td><td>i64</td><td>i64</td><td>u32</td><td>i8</td><td>u32</td><td>f64</td><td>f64</td><td>f64</td><td>f64</td><td>i32</td><td>i32</td><td>i32</td><td>i64</td><td>i64</td><td>f64</td><td>f64</td><td>f64</td><td>f64</td><td>f64</td><td>f64</td><td>f64</td><td>i64</td><td>f64</td><td>i64</td><td>i64</td><td>i64</td><td>i64</td><td>i64</td><td>i64</td><td>i64</td><td>f64</td><td>f64</td><td>f64</td><td>i64</td><td>u32</td></tr></thead><tbody><tr><td>2015-07-14</td><td>414988</td><td>95.7</td><td>-2.42</td><td>54.5</td><td>5.75</td><td>&quot;Cole, Gerrit&quot;</td><td>0</td><td>4</td><td>0</td><td>0</td><td>0</td><td>8</td><td>0</td><td>-0.79</td><td>1.17</td><td>-0.31</td><td>2.29</td><td>0</td><td>0</td><td>1</td><td>2</td><td>3</td><td>7.662212</td><td>-140.056879</td><td>-5.546647</td><td>-11.76</td><td>31.287</td><td>-16.106</td><td>95.7</td><td>2183</td><td>6.5</td><td>20</td><td>2</td><td>1</td><td>1</td><td>1</td><td>1</td><td>null</td><td>1.36</td><td>0.79</td><td>0.79</td><td>1</td><td>0</td></tr><tr><td>2015-07-14</td><td>414988</td><td>95.7</td><td>-2.48</td><td>54.5</td><td>5.69</td><td>&quot;Cole, Gerrit&quot;</td><td>1</td><td>12</td><td>0</td><td>0</td><td>1</td><td>0</td><td>1</td><td>-0.78</td><td>0.91</td><td>1.06</td><td>3.34</td><td>0</td><td>0</td><td>1</td><td>2</td><td>3</td><td>11.354314</td><td>-139.769222</td><td>-1.942855</td><td>-12.238</td><td>28.457</td><td>-20.127</td><td>96.7</td><td>1956</td><td>7.0</td><td>20</td><td>1</td><td>1</td><td>1</td><td>1</td><td>1</td><td>null</td><td>1.61</td><td>0.78</td><td>0.78</td><td>1</td><td>1</td></tr><tr><td>2015-07-14</td><td>414988</td><td>96.2</td><td>-2.39</td><td>54.5</td><td>5.72</td><td>&quot;Cole, Gerrit&quot;</td><td>2</td><td>14</td><td>0</td><td>0</td><td>1</td><td>0</td><td>1</td><td>-0.78</td><td>1.22</td><td>1.56</td><td>1.76</td><td>0</td><td>0</td><td>0</td><td>2</td><td>3</td><td>12.504157</td><td>-140.245457</td><td>-7.085497</td><td>-12.524</td><td>28.19</td><td>-15.051</td><td>97.1</td><td>2194</td><td>6.9</td><td>19</td><td>6</td><td>1</td><td>1</td><td>1</td><td>1</td><td>null</td><td>1.28</td><td>0.78</td><td>0.78</td><td>1</td><td>2</td></tr><tr><td>2015-07-14</td><td>414988</td><td>97.2</td><td>-2.45</td><td>54.5</td><td>5.8</td><td>&quot;Cole, Gerrit&quot;</td><td>1</td><td>11</td><td>0</td><td>0</td><td>1</td><td>0</td><td>1</td><td>-0.9</td><td>0.75</td><td>-0.52</td><td>4.7</td><td>0</td><td>0</td><td>0</td><td>2</td><td>3</td><td>7.570725</td><td>-142.250686</td><td>1.559001</td><td>-13.446</td><td>28.79</td><td>-22.561</td><td>98.5</td><td>2059</td><td>6.8</td><td>19</td><td>5</td><td>1</td><td>1</td><td>1</td><td>1</td><td>null</td><td>1.68</td><td>0.9</td><td>0.9</td><td>3</td><td>3</td></tr><tr><td>2015-07-14</td><td>414988</td><td>96.9</td><td>-2.48</td><td>54.5</td><td>5.65</td><td>&quot;Cole, Gerrit&quot;</td><td>1</td><td>13</td><td>0</td><td>0</td><td>1</td><td>0</td><td>1</td><td>-0.72</td><td>0.59</td><td>-1.93</td><td>1.91</td><td>0</td><td>0</td><td>0</td><td>2</td><td>3</td><td>3.403575</td><td>-141.949472</td><td>-5.008095</td><td>-10.171</td><td>31.448</td><td>-23.289</td><td>97.0</td><td>2168</td><td>6.4</td><td>19</td><td>4</td><td>1</td><td>1</td><td>1</td><td>1</td><td>null</td><td>1.86</td><td>0.72</td><td>0.72</td><td>3</td><td>4</td></tr><tr><td>&hellip;</td><td>&hellip;</td><td>&hellip;</td><td>&hellip;</td><td>&hellip;</td><td>&hellip;</td><td>&hellip;</td><td>&hellip;</td><td>&hellip;</td><td>&hellip;</td><td>&hellip;</td><td>&hellip;</td><td>&hellip;</td><td>&hellip;</td><td>&hellip;</td><td>&hellip;</td><td>&hellip;</td><td>&hellip;</td><td>&hellip;</td><td>&hellip;</td><td>&hellip;</td><td>&hellip;</td><td>&hellip;</td><td>&hellip;</td><td>&hellip;</td><td>&hellip;</td><td>&hellip;</td><td>&hellip;</td><td>&hellip;</td><td>&hellip;</td><td>&hellip;</td><td>&hellip;</td><td>&hellip;</td><td>&hellip;</td><td>&hellip;</td><td>&hellip;</td><td>&hellip;</td><td>&hellip;</td><td>&hellip;</td><td>&hellip;</td><td>&hellip;</td><td>&hellip;</td><td>&hellip;</td><td>&hellip;</td></tr><tr><td>2024-10-05</td><td>775334</td><td>92.1</td><td>-2.34</td><td>54.48</td><td>6.16</td><td>&quot;Cole, Gerrit&quot;</td><td>1</td><td>5</td><td>1</td><td>0</td><td>2</td><td>0</td><td>1</td><td>0.26</td><td>0.71</td><td>0.13</td><td>2.52</td><td>0</td><td>0</td><td>0</td><td>2</td><td>1</td><td>5.672301</td><td>-133.950565</td><td>-4.870681</td><td>1.740305</td><td>32.370217</td><td>-22.748953</td><td>91.2</td><td>2685</td><td>6.0</td><td>3</td><td>1</td><td>0</td><td>0</td><td>1</td><td>0</td><td>9</td><td>2.01</td><td>-0.26</td><td>0.26</td><td>5</td><td>1</td></tr><tr><td>2024-10-05</td><td>775334</td><td>95.1</td><td>-2.11</td><td>54.41</td><td>6.2</td><td>&quot;Cole, Gerrit&quot;</td><td>0</td><td>2</td><td>0</td><td>0</td><td>0</td><td>8</td><td>2</td><td>-0.36</td><td>1.41</td><td>0.11</td><td>3.52</td><td>0</td><td>0</td><td>0</td><td>1</td><td>1</td><td>6.618599</td><td>-138.273188</td><td>-4.454399</td><td>-6.235999</td><td>34.232539</td><td>-13.326961</td><td>94.3</td><td>2310</td><td>6.1</td><td>2</td><td>3</td><td>0</td><td>0</td><td>1</td><td>0</td><td>9</td><td>1.14</td><td>0.36</td><td>0.36</td><td>1</td><td>5</td></tr><tr><td>2024-10-05</td><td>775334</td><td>82.1</td><td>-2.06</td><td>54.49</td><td>6.19</td><td>&quot;Cole, Gerrit&quot;</td><td>1</td><td>14</td><td>0</td><td>0</td><td>1</td><td>0</td><td>1</td><td>0.63</td><td>-1.47</td><td>0.06</td><td>0.49</td><td>0</td><td>0</td><td>0</td><td>1</td><td>1</td><td>3.534958</td><td>-119.413956</td><td>-3.345334</td><td>5.143649</td><td>28.071677</td><td>-45.440479</td><td>80.9</td><td>2771</td><td>6.0</td><td>2</td><td>2</td><td>0</td><td>0</td><td>1</td><td>0</td><td>9</td><td>4.91</td><td>-0.63</td><td>-0.63</td><td>2</td><td>7</td></tr><tr><td>2024-10-05</td><td>775334</td><td>88.9</td><td>-2.29</td><td>54.52</td><td>6.19</td><td>&quot;Cole, Gerrit&quot;</td><td>1</td><td>4</td><td>0</td><td>0</td><td>2</td><td>0</td><td>1</td><td>0.55</td><td>0.24</td><td>-0.35</td><td>2.23</td><td>0</td><td>0</td><td>0</td><td>1</td><td>1</td><td>3.591849</td><td>-129.552365</td><td>-4.184211</td><td>5.480068</td><td>25.738812</td><td>-28.859728</td><td>88.7</td><td>2623</td><td>6.0</td><td>2</td><td>1</td><td>0</td><td>0</td><td>1</td><td>0</td><td>9</td><td>2.63</td><td>-0.55</td><td>-0.55</td><td>4</td><td>1</td></tr><tr><td>2024-10-05</td><td>775334</td><td>96.2</td><td>-2.16</td><td>54.51</td><td>6.19</td><td>&quot;Cole, Gerrit&quot;</td><td>0</td><td>6</td><td>1</td><td>0</td><td>0</td><td>9</td><td>2</td><td>-0.36</td><td>1.38</td><td>0.35</td><td>2.51</td><td>0</td><td>0</td><td>0</td><td>0</td><td>1</td><td>7.442987</td><td>-139.754958</td><td>-7.215709</td><td>-6.492477</td><td>33.349223</td><td>-12.608229</td><td>95.3</td><td>2476</td><td>6.0</td><td>1</td><td>1</td><td>0</td><td>0</td><td>1</td><td>0</td><td>9</td><td>1.1</td><td>0.36</td><td>-0.36</td><td>1</td><td>1</td></tr></tbody></table></div>"
      ],
      "text/plain": [
       "shape: (29_673, 44)\n",
       "┌────────────┬─────────┬───────────┬───────────┬───┬───────────┬───────────┬───────────┬───────────┐\n",
       "│ game_date  ┆ game_pk ┆ release_s ┆ release_p ┆ … ┆ api_break ┆ api_break ┆ pitch_typ ┆ balls_str │\n",
       "│ ---        ┆ ---     ┆ peed      ┆ os_x      ┆   ┆ _x_arm    ┆ _x_batter ┆ e_code    ┆ ikes      │\n",
       "│ date       ┆ i64     ┆ ---       ┆ ---       ┆   ┆ ---       ┆ _in       ┆ ---       ┆ ---       │\n",
       "│            ┆         ┆ f64       ┆ f64       ┆   ┆ f64       ┆ ---       ┆ i64       ┆ u32       │\n",
       "│            ┆         ┆           ┆           ┆   ┆           ┆ f64       ┆           ┆           │\n",
       "╞════════════╪═════════╪═══════════╪═══════════╪═══╪═══════════╪═══════════╪═══════════╪═══════════╡\n",
       "│ 2015-07-14 ┆ 414988  ┆ 95.7      ┆ -2.42     ┆ … ┆ 0.79      ┆ 0.79      ┆ 1         ┆ 0         │\n",
       "│ 2015-07-14 ┆ 414988  ┆ 95.7      ┆ -2.48     ┆ … ┆ 0.78      ┆ 0.78      ┆ 1         ┆ 1         │\n",
       "│ 2015-07-14 ┆ 414988  ┆ 96.2      ┆ -2.39     ┆ … ┆ 0.78      ┆ 0.78      ┆ 1         ┆ 2         │\n",
       "│ 2015-07-14 ┆ 414988  ┆ 97.2      ┆ -2.45     ┆ … ┆ 0.9       ┆ 0.9       ┆ 3         ┆ 3         │\n",
       "│ 2015-07-14 ┆ 414988  ┆ 96.9      ┆ -2.48     ┆ … ┆ 0.72      ┆ 0.72      ┆ 3         ┆ 4         │\n",
       "│ …          ┆ …       ┆ …         ┆ …         ┆ … ┆ …         ┆ …         ┆ …         ┆ …         │\n",
       "│ 2024-10-05 ┆ 775334  ┆ 92.1      ┆ -2.34     ┆ … ┆ -0.26     ┆ 0.26      ┆ 5         ┆ 1         │\n",
       "│ 2024-10-05 ┆ 775334  ┆ 95.1      ┆ -2.11     ┆ … ┆ 0.36      ┆ 0.36      ┆ 1         ┆ 5         │\n",
       "│ 2024-10-05 ┆ 775334  ┆ 82.1      ┆ -2.06     ┆ … ┆ -0.63     ┆ -0.63     ┆ 2         ┆ 7         │\n",
       "│ 2024-10-05 ┆ 775334  ┆ 88.9      ┆ -2.29     ┆ … ┆ -0.55     ┆ -0.55     ┆ 4         ┆ 1         │\n",
       "│ 2024-10-05 ┆ 775334  ┆ 96.2      ┆ -2.16     ┆ … ┆ 0.36      ┆ -0.36     ┆ 1         ┆ 1         │\n",
       "└────────────┴─────────┴───────────┴───────────┴───┴───────────┴───────────┴───────────┴───────────┘"
      ]
     },
     "execution_count": 550,
     "metadata": {},
     "output_type": "execute_result"
    }
   ],
   "source": [
    "df = df.with_columns(\n",
    "    pl.when(pl.col(\"on_3b\").is_null()).then(0).otherwise(1).alias(\"on_3b\"),\n",
    "    pl.when(pl.col(\"on_2b\").is_null()).then(0).otherwise(1).alias(\"on_2b\"),\n",
    "    pl.when(pl.col(\"on_1b\").is_null()).then(0).otherwise(1).alias(\"on_1b\"),\n",
    ")\n",
    "df"
   ]
  },
  {
   "cell_type": "code",
   "execution_count": 551,
   "id": "cf5b52a2",
   "metadata": {},
   "outputs": [],
   "source": [
    "# df = df.with_columns(\n",
    "#     pl.col(\"spin_axis\").fill_null(-1).cast(pl.Int16).alias(\"spin_axis\"),\n",
    "# )\n",
    "# df"
   ]
  },
  {
   "cell_type": "code",
   "execution_count": 552,
   "id": "940121ca",
   "metadata": {},
   "outputs": [
    {
     "data": {
      "text/html": [
       "<div><style>\n",
       ".dataframe > thead > tr,\n",
       ".dataframe > tbody > tr {\n",
       "  text-align: right;\n",
       "  white-space: pre-wrap;\n",
       "}\n",
       "</style>\n",
       "<small>shape: (1, 44)</small><table border=\"1\" class=\"dataframe\"><thead><tr><th>game_date</th><th>game_pk</th><th>release_speed</th><th>release_pos_x</th><th>release_pos_y</th><th>release_pos_z</th><th>player_name</th><th>events</th><th>zone</th><th>stand</th><th>p_throws</th><th>pitch_result</th><th>hit_location</th><th>bb_type</th><th>pfx_x</th><th>pfx_z</th><th>plate_x</th><th>plate_z</th><th>on_3b</th><th>on_2b</th><th>on_1b</th><th>outs_when_up</th><th>inning</th><th>vx0</th><th>vy0</th><th>vz0</th><th>ax</th><th>ay</th><th>az</th><th>effective_speed</th><th>release_spin_rate</th><th>release_extension</th><th>at_bat_number</th><th>pitch_number</th><th>bat_score</th><th>fld_score</th><th>n_thruorder_pitcher</th><th>n_priorpa_thisgame_player_at_bat</th><th>pitcher_days_since_prev_game</th><th>api_break_z_with_gravity</th><th>api_break_x_arm</th><th>api_break_x_batter_in</th><th>pitch_type_code</th><th>balls_strikes</th></tr><tr><td>u32</td><td>u32</td><td>u32</td><td>u32</td><td>u32</td><td>u32</td><td>u32</td><td>u32</td><td>u32</td><td>u32</td><td>u32</td><td>u32</td><td>u32</td><td>u32</td><td>u32</td><td>u32</td><td>u32</td><td>u32</td><td>u32</td><td>u32</td><td>u32</td><td>u32</td><td>u32</td><td>u32</td><td>u32</td><td>u32</td><td>u32</td><td>u32</td><td>u32</td><td>u32</td><td>u32</td><td>u32</td><td>u32</td><td>u32</td><td>u32</td><td>u32</td><td>u32</td><td>u32</td><td>u32</td><td>u32</td><td>u32</td><td>u32</td><td>u32</td><td>u32</td></tr></thead><tbody><tr><td>0</td><td>0</td><td>0</td><td>0</td><td>0</td><td>0</td><td>0</td><td>0</td><td>0</td><td>0</td><td>0</td><td>0</td><td>0</td><td>0</td><td>0</td><td>0</td><td>0</td><td>0</td><td>0</td><td>0</td><td>0</td><td>0</td><td>0</td><td>0</td><td>0</td><td>0</td><td>0</td><td>0</td><td>0</td><td>61</td><td>714</td><td>45</td><td>0</td><td>0</td><td>0</td><td>0</td><td>0</td><td>0</td><td>1390</td><td>0</td><td>0</td><td>0</td><td>0</td><td>0</td></tr></tbody></table></div>"
      ],
      "text/plain": [
       "shape: (1, 44)\n",
       "┌───────────┬─────────┬────────────┬───────────┬───┬───────────┬───────────┬───────────┬───────────┐\n",
       "│ game_date ┆ game_pk ┆ release_sp ┆ release_p ┆ … ┆ api_break ┆ api_break ┆ pitch_typ ┆ balls_str │\n",
       "│ ---       ┆ ---     ┆ eed        ┆ os_x      ┆   ┆ _x_arm    ┆ _x_batter ┆ e_code    ┆ ikes      │\n",
       "│ u32       ┆ u32     ┆ ---        ┆ ---       ┆   ┆ ---       ┆ _in       ┆ ---       ┆ ---       │\n",
       "│           ┆         ┆ u32        ┆ u32       ┆   ┆ u32       ┆ ---       ┆ u32       ┆ u32       │\n",
       "│           ┆         ┆            ┆           ┆   ┆           ┆ u32       ┆           ┆           │\n",
       "╞═══════════╪═════════╪════════════╪═══════════╪═══╪═══════════╪═══════════╪═══════════╪═══════════╡\n",
       "│ 0         ┆ 0       ┆ 0          ┆ 0         ┆ … ┆ 0         ┆ 0         ┆ 0         ┆ 0         │\n",
       "└───────────┴─────────┴────────────┴───────────┴───┴───────────┴───────────┴───────────┴───────────┘"
      ]
     },
     "execution_count": 552,
     "metadata": {},
     "output_type": "execute_result"
    }
   ],
   "source": [
    "df.null_count()"
   ]
  },
  {
   "cell_type": "code",
   "execution_count": 553,
   "id": "b7e8d0e1",
   "metadata": {},
   "outputs": [],
   "source": [
    "df = df.with_columns(\n",
    "    pl.col(\n",
    "        [\n",
    "            # \"hit_distance_sc\",\n",
    "            # \"launch_angle\",\n",
    "            \"release_spin_rate\",\n",
    "            \"pitcher_days_since_prev_game\",\n",
    "        ]\n",
    "    ).fill_null(-1),\n",
    "    pl.col(\n",
    "        [\n",
    "            # \"launch_speed\",\n",
    "            \"effective_speed\",\n",
    "            \"release_extension\",\n",
    "        ]\n",
    "    ).fill_null(-1.0),\n",
    ")"
   ]
  },
  {
   "cell_type": "code",
   "execution_count": 554,
   "id": "df8ce51c",
   "metadata": {},
   "outputs": [
    {
     "data": {
      "text/html": [
       "<div><style>\n",
       ".dataframe > thead > tr,\n",
       ".dataframe > tbody > tr {\n",
       "  text-align: right;\n",
       "  white-space: pre-wrap;\n",
       "}\n",
       "</style>\n",
       "<small>shape: (1, 44)</small><table border=\"1\" class=\"dataframe\"><thead><tr><th>game_date</th><th>game_pk</th><th>release_speed</th><th>release_pos_x</th><th>release_pos_y</th><th>release_pos_z</th><th>player_name</th><th>events</th><th>zone</th><th>stand</th><th>p_throws</th><th>pitch_result</th><th>hit_location</th><th>bb_type</th><th>pfx_x</th><th>pfx_z</th><th>plate_x</th><th>plate_z</th><th>on_3b</th><th>on_2b</th><th>on_1b</th><th>outs_when_up</th><th>inning</th><th>vx0</th><th>vy0</th><th>vz0</th><th>ax</th><th>ay</th><th>az</th><th>effective_speed</th><th>release_spin_rate</th><th>release_extension</th><th>at_bat_number</th><th>pitch_number</th><th>bat_score</th><th>fld_score</th><th>n_thruorder_pitcher</th><th>n_priorpa_thisgame_player_at_bat</th><th>pitcher_days_since_prev_game</th><th>api_break_z_with_gravity</th><th>api_break_x_arm</th><th>api_break_x_batter_in</th><th>pitch_type_code</th><th>balls_strikes</th></tr><tr><td>u32</td><td>u32</td><td>u32</td><td>u32</td><td>u32</td><td>u32</td><td>u32</td><td>u32</td><td>u32</td><td>u32</td><td>u32</td><td>u32</td><td>u32</td><td>u32</td><td>u32</td><td>u32</td><td>u32</td><td>u32</td><td>u32</td><td>u32</td><td>u32</td><td>u32</td><td>u32</td><td>u32</td><td>u32</td><td>u32</td><td>u32</td><td>u32</td><td>u32</td><td>u32</td><td>u32</td><td>u32</td><td>u32</td><td>u32</td><td>u32</td><td>u32</td><td>u32</td><td>u32</td><td>u32</td><td>u32</td><td>u32</td><td>u32</td><td>u32</td><td>u32</td></tr></thead><tbody><tr><td>0</td><td>0</td><td>0</td><td>0</td><td>0</td><td>0</td><td>0</td><td>0</td><td>0</td><td>0</td><td>0</td><td>0</td><td>0</td><td>0</td><td>0</td><td>0</td><td>0</td><td>0</td><td>0</td><td>0</td><td>0</td><td>0</td><td>0</td><td>0</td><td>0</td><td>0</td><td>0</td><td>0</td><td>0</td><td>0</td><td>0</td><td>0</td><td>0</td><td>0</td><td>0</td><td>0</td><td>0</td><td>0</td><td>0</td><td>0</td><td>0</td><td>0</td><td>0</td><td>0</td></tr></tbody></table></div>"
      ],
      "text/plain": [
       "shape: (1, 44)\n",
       "┌───────────┬─────────┬────────────┬───────────┬───┬───────────┬───────────┬───────────┬───────────┐\n",
       "│ game_date ┆ game_pk ┆ release_sp ┆ release_p ┆ … ┆ api_break ┆ api_break ┆ pitch_typ ┆ balls_str │\n",
       "│ ---       ┆ ---     ┆ eed        ┆ os_x      ┆   ┆ _x_arm    ┆ _x_batter ┆ e_code    ┆ ikes      │\n",
       "│ u32       ┆ u32     ┆ ---        ┆ ---       ┆   ┆ ---       ┆ _in       ┆ ---       ┆ ---       │\n",
       "│           ┆         ┆ u32        ┆ u32       ┆   ┆ u32       ┆ ---       ┆ u32       ┆ u32       │\n",
       "│           ┆         ┆            ┆           ┆   ┆           ┆ u32       ┆           ┆           │\n",
       "╞═══════════╪═════════╪════════════╪═══════════╪═══╪═══════════╪═══════════╪═══════════╪═══════════╡\n",
       "│ 0         ┆ 0       ┆ 0          ┆ 0         ┆ … ┆ 0         ┆ 0         ┆ 0         ┆ 0         │\n",
       "└───────────┴─────────┴────────────┴───────────┴───┴───────────┴───────────┴───────────┴───────────┘"
      ]
     },
     "execution_count": 554,
     "metadata": {},
     "output_type": "execute_result"
    }
   ],
   "source": [
    "df.null_count()"
   ]
  },
  {
   "cell_type": "markdown",
   "id": "4eb3cc03",
   "metadata": {},
   "source": [
    "# Feature Engineering"
   ]
  },
  {
   "cell_type": "markdown",
   "id": "47d3f44d",
   "metadata": {},
   "source": [
    "create target"
   ]
  },
  {
   "cell_type": "code",
   "execution_count": 555,
   "id": "9ffc7698",
   "metadata": {},
   "outputs": [],
   "source": [
    "df = df.sort(by=[\"game_date\", \"at_bat_number\", \"pitch_number\"])"
   ]
  },
  {
   "cell_type": "code",
   "execution_count": 556,
   "id": "1d1d02f1",
   "metadata": {},
   "outputs": [
    {
     "data": {
      "text/html": [
       "<div><style>\n",
       ".dataframe > thead > tr,\n",
       ".dataframe > tbody > tr {\n",
       "  text-align: right;\n",
       "  white-space: pre-wrap;\n",
       "}\n",
       "</style>\n",
       "<small>shape: (29_673, 3)</small><table border=\"1\" class=\"dataframe\"><thead><tr><th>game_date</th><th>at_bat_number</th><th>pitch_number</th></tr><tr><td>date</td><td>i64</td><td>i64</td></tr></thead><tbody><tr><td>2015-04-08</td><td>4</td><td>1</td></tr><tr><td>2015-04-08</td><td>4</td><td>2</td></tr><tr><td>2015-04-08</td><td>4</td><td>3</td></tr><tr><td>2015-04-08</td><td>5</td><td>1</td></tr><tr><td>2015-04-08</td><td>5</td><td>2</td></tr><tr><td>&hellip;</td><td>&hellip;</td><td>&hellip;</td></tr><tr><td>2024-10-25</td><td>53</td><td>4</td></tr><tr><td>2024-10-25</td><td>53</td><td>5</td></tr><tr><td>2024-10-25</td><td>53</td><td>6</td></tr><tr><td>2024-10-25</td><td>53</td><td>7</td></tr><tr><td>2024-10-25</td><td>53</td><td>8</td></tr></tbody></table></div>"
      ],
      "text/plain": [
       "shape: (29_673, 3)\n",
       "┌────────────┬───────────────┬──────────────┐\n",
       "│ game_date  ┆ at_bat_number ┆ pitch_number │\n",
       "│ ---        ┆ ---           ┆ ---          │\n",
       "│ date       ┆ i64           ┆ i64          │\n",
       "╞════════════╪═══════════════╪══════════════╡\n",
       "│ 2015-04-08 ┆ 4             ┆ 1            │\n",
       "│ 2015-04-08 ┆ 4             ┆ 2            │\n",
       "│ 2015-04-08 ┆ 4             ┆ 3            │\n",
       "│ 2015-04-08 ┆ 5             ┆ 1            │\n",
       "│ 2015-04-08 ┆ 5             ┆ 2            │\n",
       "│ …          ┆ …             ┆ …            │\n",
       "│ 2024-10-25 ┆ 53            ┆ 4            │\n",
       "│ 2024-10-25 ┆ 53            ┆ 5            │\n",
       "│ 2024-10-25 ┆ 53            ┆ 6            │\n",
       "│ 2024-10-25 ┆ 53            ┆ 7            │\n",
       "│ 2024-10-25 ┆ 53            ┆ 8            │\n",
       "└────────────┴───────────────┴──────────────┘"
      ]
     },
     "execution_count": 556,
     "metadata": {},
     "output_type": "execute_result"
    }
   ],
   "source": [
    "df.select(pl.col([\"game_date\", \"at_bat_number\", \"pitch_number\"]))"
   ]
  },
  {
   "cell_type": "code",
   "execution_count": 557,
   "id": "47add3d3",
   "metadata": {},
   "outputs": [],
   "source": [
    "df = df.with_columns(\n",
    "    pl.col(\"pitch_type_code\").shift(-1).over(\"game_date\").alias(\"next_pitch_type_code\"),\n",
    ")\n",
    "df = df.drop_nulls(subset=[\"next_pitch_type_code\", \"pitch_type_code\"])"
   ]
  },
  {
   "cell_type": "code",
   "execution_count": 558,
   "id": "6729e286",
   "metadata": {},
   "outputs": [
    {
     "data": {
      "text/html": [
       "<div><style>\n",
       ".dataframe > thead > tr,\n",
       ".dataframe > tbody > tr {\n",
       "  text-align: right;\n",
       "  white-space: pre-wrap;\n",
       "}\n",
       "</style>\n",
       "<small>shape: (29_369, 5)</small><table border=\"1\" class=\"dataframe\"><thead><tr><th>game_date</th><th>at_bat_number</th><th>pitch_number</th><th>next_pitch_type_code</th><th>pitch_type_code</th></tr><tr><td>date</td><td>i64</td><td>i64</td><td>i64</td><td>i64</td></tr></thead><tbody><tr><td>2015-04-08</td><td>4</td><td>1</td><td>1</td><td>1</td></tr><tr><td>2015-04-08</td><td>4</td><td>2</td><td>0</td><td>1</td></tr><tr><td>2015-04-08</td><td>4</td><td>3</td><td>1</td><td>0</td></tr><tr><td>2015-04-08</td><td>5</td><td>1</td><td>1</td><td>1</td></tr><tr><td>2015-04-08</td><td>5</td><td>2</td><td>4</td><td>1</td></tr><tr><td>&hellip;</td><td>&hellip;</td><td>&hellip;</td><td>&hellip;</td><td>&hellip;</td></tr><tr><td>2024-10-25</td><td>53</td><td>3</td><td>4</td><td>4</td></tr><tr><td>2024-10-25</td><td>53</td><td>4</td><td>1</td><td>4</td></tr><tr><td>2024-10-25</td><td>53</td><td>5</td><td>4</td><td>1</td></tr><tr><td>2024-10-25</td><td>53</td><td>6</td><td>1</td><td>4</td></tr><tr><td>2024-10-25</td><td>53</td><td>7</td><td>1</td><td>1</td></tr></tbody></table></div>"
      ],
      "text/plain": [
       "shape: (29_369, 5)\n",
       "┌────────────┬───────────────┬──────────────┬──────────────────────┬─────────────────┐\n",
       "│ game_date  ┆ at_bat_number ┆ pitch_number ┆ next_pitch_type_code ┆ pitch_type_code │\n",
       "│ ---        ┆ ---           ┆ ---          ┆ ---                  ┆ ---             │\n",
       "│ date       ┆ i64           ┆ i64          ┆ i64                  ┆ i64             │\n",
       "╞════════════╪═══════════════╪══════════════╪══════════════════════╪═════════════════╡\n",
       "│ 2015-04-08 ┆ 4             ┆ 1            ┆ 1                    ┆ 1               │\n",
       "│ 2015-04-08 ┆ 4             ┆ 2            ┆ 0                    ┆ 1               │\n",
       "│ 2015-04-08 ┆ 4             ┆ 3            ┆ 1                    ┆ 0               │\n",
       "│ 2015-04-08 ┆ 5             ┆ 1            ┆ 1                    ┆ 1               │\n",
       "│ 2015-04-08 ┆ 5             ┆ 2            ┆ 4                    ┆ 1               │\n",
       "│ …          ┆ …             ┆ …            ┆ …                    ┆ …               │\n",
       "│ 2024-10-25 ┆ 53            ┆ 3            ┆ 4                    ┆ 4               │\n",
       "│ 2024-10-25 ┆ 53            ┆ 4            ┆ 1                    ┆ 4               │\n",
       "│ 2024-10-25 ┆ 53            ┆ 5            ┆ 4                    ┆ 1               │\n",
       "│ 2024-10-25 ┆ 53            ┆ 6            ┆ 1                    ┆ 4               │\n",
       "│ 2024-10-25 ┆ 53            ┆ 7            ┆ 1                    ┆ 1               │\n",
       "└────────────┴───────────────┴──────────────┴──────────────────────┴─────────────────┘"
      ]
     },
     "execution_count": 558,
     "metadata": {},
     "output_type": "execute_result"
    }
   ],
   "source": [
    "df.select(\n",
    "    pl.col(\n",
    "        [\n",
    "            \"game_date\",\n",
    "            \"at_bat_number\",\n",
    "            \"pitch_number\",\n",
    "            \"next_pitch_type_code\",\n",
    "            \"pitch_type_code\",\n",
    "        ]\n",
    "    )\n",
    ")"
   ]
  },
  {
   "cell_type": "code",
   "execution_count": 559,
   "id": "3022dfd1",
   "metadata": {},
   "outputs": [],
   "source": [
    "df = df.with_columns(\n",
    "    (pl.col(\"on_1b\") + (2 * pl.col(\"on_2b\")) + (3 * pl.col(\"on_3b\"))).alias(\n",
    "        \"baserunner_state\"\n",
    "    )\n",
    ").drop([\"on_1b\", \"on_2b\", \"on_3b\"])"
   ]
  },
  {
   "cell_type": "code",
   "execution_count": 560,
   "id": "73766d3a",
   "metadata": {},
   "outputs": [
    {
     "data": {
      "text/html": [
       "<div><style>\n",
       ".dataframe > thead > tr,\n",
       ".dataframe > tbody > tr {\n",
       "  text-align: right;\n",
       "  white-space: pre-wrap;\n",
       "}\n",
       "</style>\n",
       "<small>shape: (29_369, 43)</small><table border=\"1\" class=\"dataframe\"><thead><tr><th>game_date</th><th>game_pk</th><th>release_speed</th><th>release_pos_x</th><th>release_pos_y</th><th>release_pos_z</th><th>player_name</th><th>events</th><th>zone</th><th>stand</th><th>p_throws</th><th>pitch_result</th><th>hit_location</th><th>bb_type</th><th>pfx_x</th><th>pfx_z</th><th>plate_x</th><th>plate_z</th><th>outs_when_up</th><th>inning</th><th>vx0</th><th>vy0</th><th>vz0</th><th>ax</th><th>ay</th><th>az</th><th>effective_speed</th><th>release_spin_rate</th><th>release_extension</th><th>at_bat_number</th><th>pitch_number</th><th>bat_score</th><th>fld_score</th><th>n_thruorder_pitcher</th><th>n_priorpa_thisgame_player_at_bat</th><th>pitcher_days_since_prev_game</th><th>api_break_z_with_gravity</th><th>api_break_x_arm</th><th>api_break_x_batter_in</th><th>pitch_type_code</th><th>balls_strikes</th><th>next_pitch_type_code</th><th>baserunner_state</th></tr><tr><td>date</td><td>i64</td><td>f64</td><td>f64</td><td>f64</td><td>f64</td><td>str</td><td>u32</td><td>i64</td><td>i64</td><td>i64</td><td>u32</td><td>i8</td><td>u32</td><td>f64</td><td>f64</td><td>f64</td><td>f64</td><td>i64</td><td>i64</td><td>f64</td><td>f64</td><td>f64</td><td>f64</td><td>f64</td><td>f64</td><td>f64</td><td>i64</td><td>f64</td><td>i64</td><td>i64</td><td>i64</td><td>i64</td><td>i64</td><td>i64</td><td>i64</td><td>f64</td><td>f64</td><td>f64</td><td>i64</td><td>u32</td><td>i64</td><td>i32</td></tr></thead><tbody><tr><td>2015-04-08</td><td>413680</td><td>94.9</td><td>-2.99</td><td>54.5</td><td>5.87</td><td>&quot;Cole, Gerrit&quot;</td><td>1</td><td>12</td><td>1</td><td>0</td><td>1</td><td>0</td><td>1</td><td>-0.77</td><td>1.5</td><td>0.88</td><td>2.85</td><td>0</td><td>1</td><td>12.128378</td><td>-138.659969</td><td>-5.02161</td><td>-12.473</td><td>33.209</td><td>-12.412</td><td>93.9</td><td>2013</td><td>6.1</td><td>4</td><td>1</td><td>0</td><td>0</td><td>1</td><td>0</td><td>-1</td><td>1.1</td><td>0.77</td><td>-0.77</td><td>1</td><td>1</td><td>1</td><td>0</td></tr><tr><td>2015-04-08</td><td>413680</td><td>92.2</td><td>-3.06</td><td>54.5</td><td>5.79</td><td>&quot;Cole, Gerrit&quot;</td><td>1</td><td>7</td><td>1</td><td>0</td><td>2</td><td>0</td><td>1</td><td>-0.95</td><td>1.35</td><td>-0.5</td><td>1.78</td><td>0</td><td>1</td><td>8.914621</td><td>-134.873996</td><td>-6.658824</td><td>-13.157</td><td>30.069</td><td>-14.786</td><td>92.3</td><td>1935</td><td>6.6</td><td>4</td><td>2</td><td>0</td><td>0</td><td>1</td><td>0</td><td>-1</td><td>1.38</td><td>0.95</td><td>-0.95</td><td>1</td><td>0</td><td>0</td><td>0</td></tr><tr><td>2015-04-08</td><td>413680</td><td>87.9</td><td>-3.09</td><td>54.5</td><td>5.65</td><td>&quot;Cole, Gerrit&quot;</td><td>0</td><td>13</td><td>1</td><td>0</td><td>0</td><td>3</td><td>3</td><td>-1.09</td><td>0.34</td><td>-0.99</td><td>1.77</td><td>0</td><td>1</td><td>7.733213</td><td>-128.743427</td><td>-2.961216</td><td>-13.347</td><td>26.523</td><td>-27.93</td><td>88.2</td><td>1799</td><td>6.5</td><td>4</td><td>3</td><td>0</td><td>0</td><td>1</td><td>0</td><td>-1</td><td>2.66</td><td>1.09</td><td>-1.09</td><td>0</td><td>5</td><td>1</td><td>0</td></tr><tr><td>2015-04-08</td><td>413680</td><td>94.7</td><td>-3.17</td><td>54.5</td><td>5.83</td><td>&quot;Cole, Gerrit&quot;</td><td>1</td><td>13</td><td>1</td><td>0</td><td>1</td><td>0</td><td>1</td><td>-1.06</td><td>1.54</td><td>-1.21</td><td>1.71</td><td>1</td><td>1</td><td>7.90504</td><td>-138.569331</td><td>-7.964994</td><td>-15.029</td><td>34.298</td><td>-11.225</td><td>93.8</td><td>2132</td><td>6.3</td><td>5</td><td>1</td><td>0</td><td>0</td><td>1</td><td>0</td><td>-1</td><td>1.07</td><td>1.06</td><td>-1.06</td><td>1</td><td>1</td><td>1</td><td>0</td></tr><tr><td>2015-04-08</td><td>413680</td><td>93.7</td><td>-3.05</td><td>54.5</td><td>5.78</td><td>&quot;Cole, Gerrit&quot;</td><td>1</td><td>8</td><td>1</td><td>0</td><td>2</td><td>0</td><td>1</td><td>-0.97</td><td>1.08</td><td>0.09</td><td>2.18</td><td>1</td><td>1</td><td>10.588939</td><td>-136.890215</td><td>-5.236651</td><td>-14.152</td><td>30.557</td><td>-17.862</td><td>93.7</td><td>2060</td><td>6.6</td><td>5</td><td>2</td><td>0</td><td>0</td><td>1</td><td>0</td><td>-1</td><td>1.57</td><td>0.97</td><td>-0.97</td><td>1</td><td>0</td><td>4</td><td>0</td></tr><tr><td>&hellip;</td><td>&hellip;</td><td>&hellip;</td><td>&hellip;</td><td>&hellip;</td><td>&hellip;</td><td>&hellip;</td><td>&hellip;</td><td>&hellip;</td><td>&hellip;</td><td>&hellip;</td><td>&hellip;</td><td>&hellip;</td><td>&hellip;</td><td>&hellip;</td><td>&hellip;</td><td>&hellip;</td><td>&hellip;</td><td>&hellip;</td><td>&hellip;</td><td>&hellip;</td><td>&hellip;</td><td>&hellip;</td><td>&hellip;</td><td>&hellip;</td><td>&hellip;</td><td>&hellip;</td><td>&hellip;</td><td>&hellip;</td><td>&hellip;</td><td>&hellip;</td><td>&hellip;</td><td>&hellip;</td><td>&hellip;</td><td>&hellip;</td><td>&hellip;</td><td>&hellip;</td><td>&hellip;</td><td>&hellip;</td><td>&hellip;</td><td>&hellip;</td><td>&hellip;</td><td>&hellip;</td></tr><tr><td>2024-10-25</td><td>775300</td><td>88.6</td><td>-2.52</td><td>54.33</td><td>5.96</td><td>&quot;Cole, Gerrit&quot;</td><td>1</td><td>14</td><td>0</td><td>0</td><td>1</td><td>0</td><td>1</td><td>0.55</td><td>0.09</td><td>1.46</td><td>1.06</td><td>0</td><td>7</td><td>8.515389</td><td>-128.715004</td><td>-6.071145</td><td>4.463442</td><td>25.8098</td><td>-30.145264</td><td>88.4</td><td>2650</td><td>6.2</td><td>53</td><td>3</td><td>1</td><td>2</td><td>3</td><td>2</td><td>10</td><td>2.82</td><td>-0.55</td><td>-0.55</td><td>4</td><td>6</td><td>4</td><td>0</td></tr><tr><td>2024-10-25</td><td>775300</td><td>89.9</td><td>-2.6</td><td>54.14</td><td>5.83</td><td>&quot;Cole, Gerrit&quot;</td><td>1</td><td>14</td><td>0</td><td>0</td><td>1</td><td>0</td><td>1</td><td>0.41</td><td>0.16</td><td>1.49</td><td>-0.19</td><td>0</td><td>7</td><td>9.247144</td><td>-130.362976</td><td>-9.249288</td><td>2.752239</td><td>27.518774</td><td>-28.481298</td><td>89.7</td><td>2634</td><td>6.4</td><td>53</td><td>4</td><td>1</td><td>2</td><td>3</td><td>2</td><td>10</td><td>2.68</td><td>-0.41</td><td>-0.41</td><td>4</td><td>4</td><td>1</td><td>0</td></tr><tr><td>2024-10-25</td><td>775300</td><td>97.6</td><td>-2.45</td><td>54.24</td><td>5.93</td><td>&quot;Cole, Gerrit&quot;</td><td>1</td><td>12</td><td>0</td><td>0</td><td>2</td><td>0</td><td>1</td><td>-0.55</td><td>1.42</td><td>1.28</td><td>2.66</td><td>0</td><td>7</td><td>11.242776</td><td>-141.56376</td><td>-6.513775</td><td>-10.027824</td><td>34.096894</td><td>-11.667421</td><td>97.0</td><td>2432</td><td>6.3</td><td>53</td><td>5</td><td>1</td><td>2</td><td>3</td><td>2</td><td>10</td><td>1.0</td><td>0.55</td><td>0.55</td><td>1</td><td>3</td><td>4</td><td>0</td></tr><tr><td>2024-10-25</td><td>775300</td><td>89.7</td><td>-2.54</td><td>54.31</td><td>5.86</td><td>&quot;Cole, Gerrit&quot;</td><td>1</td><td>14</td><td>0</td><td>0</td><td>2</td><td>0</td><td>1</td><td>0.62</td><td>0.06</td><td>1.07</td><td>1.99</td><td>0</td><td>7</td><td>7.614791</td><td>-130.49607</td><td>-3.682592</td><td>5.392293</td><td>28.000833</td><td>-30.855036</td><td>89.4</td><td>2590</td><td>6.2</td><td>53</td><td>6</td><td>1</td><td>2</td><td>3</td><td>2</td><td>10</td><td>2.77</td><td>-0.62</td><td>-0.62</td><td>4</td><td>3</td><td>1</td><td>0</td></tr><tr><td>2024-10-25</td><td>775300</td><td>97.3</td><td>-2.64</td><td>54.22</td><td>5.89</td><td>&quot;Cole, Gerrit&quot;</td><td>1</td><td>11</td><td>0</td><td>0</td><td>1</td><td>0</td><td>1</td><td>-0.36</td><td>1.42</td><td>-1.26</td><td>4.29</td><td>0</td><td>7</td><td>4.550602</td><td>-141.58852</td><td>-2.024444</td><td>-5.931209</td><td>33.035831</td><td>-12.907384</td><td>97.2</td><td>2314</td><td>6.3</td><td>53</td><td>7</td><td>1</td><td>2</td><td>3</td><td>2</td><td>10</td><td>1.0</td><td>0.36</td><td>0.36</td><td>1</td><td>3</td><td>1</td><td>0</td></tr></tbody></table></div>"
      ],
      "text/plain": [
       "shape: (29_369, 43)\n",
       "┌────────────┬─────────┬───────────┬───────────┬───┬───────────┬───────────┬───────────┬───────────┐\n",
       "│ game_date  ┆ game_pk ┆ release_s ┆ release_p ┆ … ┆ pitch_typ ┆ balls_str ┆ next_pitc ┆ baserunne │\n",
       "│ ---        ┆ ---     ┆ peed      ┆ os_x      ┆   ┆ e_code    ┆ ikes      ┆ h_type_co ┆ r_state   │\n",
       "│ date       ┆ i64     ┆ ---       ┆ ---       ┆   ┆ ---       ┆ ---       ┆ de        ┆ ---       │\n",
       "│            ┆         ┆ f64       ┆ f64       ┆   ┆ i64       ┆ u32       ┆ ---       ┆ i32       │\n",
       "│            ┆         ┆           ┆           ┆   ┆           ┆           ┆ i64       ┆           │\n",
       "╞════════════╪═════════╪═══════════╪═══════════╪═══╪═══════════╪═══════════╪═══════════╪═══════════╡\n",
       "│ 2015-04-08 ┆ 413680  ┆ 94.9      ┆ -2.99     ┆ … ┆ 1         ┆ 1         ┆ 1         ┆ 0         │\n",
       "│ 2015-04-08 ┆ 413680  ┆ 92.2      ┆ -3.06     ┆ … ┆ 1         ┆ 0         ┆ 0         ┆ 0         │\n",
       "│ 2015-04-08 ┆ 413680  ┆ 87.9      ┆ -3.09     ┆ … ┆ 0         ┆ 5         ┆ 1         ┆ 0         │\n",
       "│ 2015-04-08 ┆ 413680  ┆ 94.7      ┆ -3.17     ┆ … ┆ 1         ┆ 1         ┆ 1         ┆ 0         │\n",
       "│ 2015-04-08 ┆ 413680  ┆ 93.7      ┆ -3.05     ┆ … ┆ 1         ┆ 0         ┆ 4         ┆ 0         │\n",
       "│ …          ┆ …       ┆ …         ┆ …         ┆ … ┆ …         ┆ …         ┆ …         ┆ …         │\n",
       "│ 2024-10-25 ┆ 775300  ┆ 88.6      ┆ -2.52     ┆ … ┆ 4         ┆ 6         ┆ 4         ┆ 0         │\n",
       "│ 2024-10-25 ┆ 775300  ┆ 89.9      ┆ -2.6      ┆ … ┆ 4         ┆ 4         ┆ 1         ┆ 0         │\n",
       "│ 2024-10-25 ┆ 775300  ┆ 97.6      ┆ -2.45     ┆ … ┆ 1         ┆ 3         ┆ 4         ┆ 0         │\n",
       "│ 2024-10-25 ┆ 775300  ┆ 89.7      ┆ -2.54     ┆ … ┆ 4         ┆ 3         ┆ 1         ┆ 0         │\n",
       "│ 2024-10-25 ┆ 775300  ┆ 97.3      ┆ -2.64     ┆ … ┆ 1         ┆ 3         ┆ 1         ┆ 0         │\n",
       "└────────────┴─────────┴───────────┴───────────┴───┴───────────┴───────────┴───────────┴───────────┘"
      ]
     },
     "execution_count": 560,
     "metadata": {},
     "output_type": "execute_result"
    }
   ],
   "source": [
    "df"
   ]
  },
  {
   "cell_type": "markdown",
   "id": "d71671f9",
   "metadata": {},
   "source": [
    "rolling features"
   ]
  },
  {
   "cell_type": "code",
   "execution_count": 561,
   "id": "3281a195",
   "metadata": {},
   "outputs": [],
   "source": [
    "from sklearn.preprocessing import MinMaxScaler"
   ]
  },
  {
   "cell_type": "code",
   "execution_count": null,
   "id": "f0bb9f2b",
   "metadata": {},
   "outputs": [],
   "source": [
    "mms = MinMaxScaler()\n",
    "\n",
    "\n",
    "def scale_columns_polars(df, columns):\n",
    "    \"\"\"Scales specified columns of a Polars DataFrame using MinMaxScaler.\"\"\"\n",
    "    # Fit the scaler on the selected columns converted to NumPy\n",
    "    scaler = mms.fit(df.select(columns).to_numpy())\n",
    "\n",
    "    # Apply the transformation using with_columns\n",
    "    scaled_values = scaler.transform(df.select(columns).to_numpy())\n",
    "\n",
    "    # Create new scaled columns or overwrite existing ones\n",
    "    scale_exprs = [\n",
    "        pl.lit(scaled_values[:, i]).alias(col) for i, col in enumerate(columns)\n",
    "    ]\n",
    "\n",
    "    df = df.with_columns(scale_exprs)\n",
    "    return df\n",
    "\n",
    "\n",
    "cols_to_scale = list(df.columns)\n",
    "embedding_cols = [\n",
    "    \"balls_strikes\",\n",
    "    \"stand\",\n",
    "    \"baserunner_state\",\n",
    "    \"outs_when_up\",\n",
    "    \"inning\",\n",
    "    \"balls_strikes\",\n",
    "]\n",
    "# Ensure only numeric/scalable columns are included\n",
    "non_scalable_cols = [\n",
    "    \"game_date\",\n",
    "    \"game_pk\",\n",
    "    \"player_name\",\n",
    "    \"pitch_type_code\",\n",
    "    \"next_pitch_type_code\",\n",
    "]  # Add other non-numeric/categorical columns if necessary\n",
    "cols_to_scale = [\n",
    "    col\n",
    "    for col in df.columns\n",
    "    if col not in non_scalable_cols\n",
    "    and df[col].dtype\n",
    "    in [pl.Float32, pl.Float64, pl.Int8, pl.Int16, pl.Int32, pl.Int64, pl.UInt32]\n",
    "    and col not in embedding_cols\n",
    "]  # Filter for numeric types\n",
    "\n",
    "# Apply the scaling\n",
    "df = scale_columns_polars(df, cols_to_scale)"
   ]
  },
  {
   "cell_type": "markdown",
   "id": "3d3221f5",
   "metadata": {},
   "source": [
    "# Training"
   ]
  },
  {
   "cell_type": "code",
   "execution_count": 563,
   "id": "97d485b3",
   "metadata": {},
   "outputs": [],
   "source": [
    "import tensorflow as tf\n",
    "from sklearn.utils.class_weight import compute_class_weight\n",
    "import numpy as np\n"
   ]
  },
  {
   "cell_type": "code",
   "execution_count": 564,
   "id": "d1eece76",
   "metadata": {},
   "outputs": [],
   "source": [
    "# Constants\n",
    "SEQ_LEN = 10\n",
    "BATCH_SIZE = 32"
   ]
  },
  {
   "cell_type": "code",
   "execution_count": 565,
   "id": "41fb3cb4",
   "metadata": {},
   "outputs": [],
   "source": [
    "def df_to_dataset(df, numeric_cols):\n",
    "    seq_num, seq_pitch, seq_stand, seq_state, seq_outs, seq_inning, seq_bs, labels = (\n",
    "        [],\n",
    "        [],\n",
    "        [],\n",
    "        [],\n",
    "        [],\n",
    "        [],\n",
    "        [],\n",
    "        [],\n",
    "    )\n",
    "    for _, g in df.group_by(\"game_pk\"):\n",
    "        g = g.sort(by=[\"game_date\", \"at_bat_number\", \"pitch_number\"])\n",
    "        num_arr = g[numeric_cols].to_numpy()\n",
    "        pitch_arr = g[\"pitch_type_code\"].to_numpy()\n",
    "        label_arr = g[\"next_pitch_type_code\"].to_numpy()\n",
    "        stand_arr = g[\"stand\"].to_numpy()\n",
    "        state_arr = g[\"baserunner_state\"].to_numpy()\n",
    "        outs_arr = g[\"outs_when_up\"].to_numpy()\n",
    "        inning_arr = g[\"inning\"].to_numpy()\n",
    "        bs_arr = g[\"balls_strikes\"].to_numpy()\n",
    "\n",
    "        for i in range(len(g) - SEQ_LEN):\n",
    "            seq_num.append(num_arr[i : i + SEQ_LEN])\n",
    "            seq_pitch.append(pitch_arr[i : i + SEQ_LEN])\n",
    "            seq_stand.append(stand_arr[i : i + SEQ_LEN])\n",
    "            seq_state.append(state_arr[i : i + SEQ_LEN])\n",
    "            seq_outs.append(outs_arr[i : i + SEQ_LEN])\n",
    "            seq_inning.append(inning_arr[i : i + SEQ_LEN])\n",
    "            seq_bs.append(bs_arr[i : i + SEQ_LEN])\n",
    "            labels.append(label_arr[i + SEQ_LEN - 1])\n",
    "\n",
    "    ds = tf.data.Dataset.from_tensor_slices(\n",
    "        (\n",
    "            {\n",
    "                \"numeric_input\": np.array(seq_num),\n",
    "                \"pitch_input\": np.array(seq_pitch),\n",
    "                \"stand_input\": np.array(seq_stand),\n",
    "                \"state_input\": np.array(seq_state),\n",
    "                \"outs_input\": np.array(seq_outs),\n",
    "                \"inning_input\": np.array(seq_inning),\n",
    "                \"bs_input\": np.array(seq_bs),\n",
    "            },\n",
    "            np.array(labels),\n",
    "        )\n",
    "    )\n",
    "    return ds.shuffle(10000).batch(BATCH_SIZE).prefetch(tf.data.AUTOTUNE)\n"
   ]
  },
  {
   "cell_type": "code",
   "execution_count": null,
   "id": "3545a594",
   "metadata": {},
   "outputs": [],
   "source": [
    "FEATURE_COLS = [\n",
    "    col\n",
    "    for col in df.columns\n",
    "    if col not in embedding_cols and col not in non_scalable_cols\n",
    "]\n",
    "NUMERIC_COL_COUNT = len(FEATURE_COLS)\n",
    "NUM_CLASSES = df.select(pl.col(\"pitch_type_code\").n_unique()).item()"
   ]
  },
  {
   "cell_type": "code",
   "execution_count": 567,
   "id": "4673f7f0",
   "metadata": {},
   "outputs": [],
   "source": [
    "unique_games = df.select(pl.col(\"game_pk\").unique()).to_series().to_list()\n",
    "train_cut = int(len(unique_games) * 0.8)\n",
    "val_cut = int(len(unique_games) * 0.9)"
   ]
  },
  {
   "cell_type": "code",
   "execution_count": null,
   "id": "6152e4f5",
   "metadata": {},
   "outputs": [],
   "source": [
    "train_games = unique_games[:train_cut]\n",
    "val_games = unique_games[train_cut:val_cut]\n",
    "test_games = unique_games[val_cut:]\n",
    "\n",
    "train_df = df.filter(pl.col(\"game_pk\").is_in(train_games))\n",
    "\n",
    "val_df = df.filter(pl.col(\"game_pk\").is_in(val_games))\n",
    "test_df = df.filter(pl.col(\"game_pk\").is_in(test_games))"
   ]
  },
  {
   "cell_type": "code",
   "execution_count": 571,
   "id": "e3961ff0",
   "metadata": {},
   "outputs": [],
   "source": [
    "SEQ_LEN = 10\n",
    "BATCH_SIZE = 32\n",
    "\n",
    "train_ds = df_to_dataset(\n",
    "    train_df,\n",
    "    FEATURE_COLS,\n",
    ")\n",
    "val_ds = df_to_dataset(\n",
    "    val_df,\n",
    "    FEATURE_COLS,\n",
    ")\n",
    "test_ds = df_to_dataset(\n",
    "    test_df,\n",
    "    FEATURE_COLS,\n",
    ")"
   ]
  },
  {
   "cell_type": "code",
   "execution_count": 572,
   "id": "550083b6",
   "metadata": {},
   "outputs": [],
   "source": [
    "import numpy as np\n",
    "from sklearn.metrics import precision_recall_fscore_support, confusion_matrix\n",
    "\n",
    "\n",
    "class ValidationMetricsCallback(tf.keras.callbacks.Callback):\n",
    "    def __init__(self, val_dataset, seq_len=10):\n",
    "        super().__init__()\n",
    "        self.val_ds = val_dataset\n",
    "\n",
    "        # Pre-unbatch labels for faster lookup\n",
    "        ys = []\n",
    "        for _, y_batch in val_dataset:\n",
    "            ys.append(y_batch.numpy())\n",
    "        self.val_true = np.concatenate(ys, axis=0)\n",
    "\n",
    "    def on_epoch_end(self, epoch, logs=None):\n",
    "        # 1) Gather all validation predictions\n",
    "        preds = []\n",
    "        for x_batch, _ in self.val_ds:\n",
    "            probs = self.model.predict(x_batch, verbose=0)\n",
    "            preds.append(np.argmax(probs, axis=-1))\n",
    "        y_pred = np.concatenate(preds, axis=0)\n",
    "\n",
    "        # 2) Compute precision/recall/f1 (macro & per-class)\n",
    "        p, r, f1, support = precision_recall_fscore_support(\n",
    "            self.val_true, y_pred, average=None, zero_division=0\n",
    "        )\n",
    "        p_macro, r_macro, f1_macro, _ = precision_recall_fscore_support(\n",
    "            self.val_true, y_pred, average=\"macro\", zero_division=0\n",
    "        )\n",
    "        # 4) Log them\n",
    "        print(\n",
    "            f\"\\n— val_precision_macro: {p_macro:.4f}, val_recall_macro: {r_macro:.4f}, val_f1_macro: {f1_macro:.4f}\"\n",
    "        )\n",
    "        for cls_idx, (pc, rc, f1c, sup) in enumerate(zip(p, r, f1, support)):\n",
    "            print(\n",
    "                f\"    class {cls_idx:2d}: precision {pc:.3f}, recall {rc:.3f}, f1 {f1c:.3f}, support {sup}\"\n",
    "            )\n"
   ]
  },
  {
   "cell_type": "code",
   "execution_count": 573,
   "id": "a83ed756",
   "metadata": {},
   "outputs": [],
   "source": [
    "train_labels = []\n",
    "for _, game in train_df.group_by(\"game_pk\"):\n",
    "    ids = game[\"pitch_type_code\"].to_numpy()\n",
    "    for i in range(len(ids) - SEQ_LEN):\n",
    "        train_labels.append(int(ids[i + SEQ_LEN]))\n",
    "class_weights_arr = compute_class_weight(\n",
    "    class_weight=\"balanced\", classes=np.arange(NUM_CLASSES), y=np.array(train_labels)\n",
    ")\n",
    "class_weights = {i: w for i, w in enumerate(class_weights_arr)}"
   ]
  },
  {
   "cell_type": "code",
   "execution_count": 574,
   "id": "c7be21c9",
   "metadata": {},
   "outputs": [],
   "source": [
    "import keras_tuner as kt\n",
    "import tensorflow as tf\n",
    "\n",
    "\n",
    "def model_builder(hp):\n",
    "    # Hyper‐parameters to tune\n",
    "    embed_dim = hp.Int(\"embed_dim\", min_value=8, max_value=32, step=8)\n",
    "    lstm_units = hp.Int(\"lstm_units\", min_value=32, max_value=256, step=32)\n",
    "    dropout_rate = hp.Float(\"dropout\", min_value=0.1, max_value=0.4, step=0.1)\n",
    "    lr = hp.Choice(\"learning_rate\", values=[1e-4, 1e-5])\n",
    "\n",
    "    # Inputs\n",
    "    num_input = tf.keras.Input(shape=(SEQ_LEN, len(FEATURE_COLS)), name=\"num_in\")\n",
    "    pitch_input = tf.keras.Input(shape=(SEQ_LEN,), dtype=\"int32\", name=\"pitch_in\")\n",
    "\n",
    "    # Embedding + concat\n",
    "    x = tf.keras.layers.Embedding(input_dim=NUM_CLASSES, output_dim=embed_dim)(\n",
    "        pitch_input\n",
    "    )\n",
    "    x = tf.keras.layers.Concatenate()([num_input, x])\n",
    "\n",
    "    # LSTM + dropout\n",
    "    x = tf.keras.layers.LSTM(lstm_units)(x)\n",
    "    x = tf.keras.layers.Dropout(dropout_rate)(x)\n",
    "\n",
    "    out = tf.keras.layers.Dense(NUM_CLASSES, activation=\"softmax\")(x)\n",
    "    model = tf.keras.Model([num_input, pitch_input], out)\n",
    "\n",
    "    model.compile(\n",
    "        optimizer=tf.keras.optimizers.Adam(lr),\n",
    "        loss=\"sparse_categorical_crossentropy\",\n",
    "        metrics=[\n",
    "            \"accuracy\",\n",
    "            # tf.keras.metrics.SparseTopKCategoricalAccuracy(k=2, name=\"top2_acc\"),\n",
    "            # # If you have tfa installed, you can add:\n",
    "            # tfa.metrics.F1Score(\n",
    "            #     num_classes=NUM_CLASSES, average=\"macro\", name=\"f1_macro\"\n",
    "            # ),\n",
    "        ],\n",
    "    )\n",
    "    return model"
   ]
  },
  {
   "cell_type": "code",
   "execution_count": 575,
   "id": "1096055c",
   "metadata": {},
   "outputs": [
    {
     "name": "stdout",
     "output_type": "stream",
     "text": [
      "Reloading Tuner from hyperband_logs/pitch_lstm/tuner0.json\n"
     ]
    }
   ],
   "source": [
    "tuner = kt.Hyperband(\n",
    "    model_builder,\n",
    "    objective=\"val_loss\",\n",
    "    max_epochs=20,\n",
    "    factor=3,\n",
    "    directory=\"hyperband_logs\",\n",
    "    project_name=\"pitch_lstm\",\n",
    ")\n"
   ]
  },
  {
   "cell_type": "code",
   "execution_count": 576,
   "id": "6749c3da",
   "metadata": {},
   "outputs": [],
   "source": [
    "stop_early = tf.keras.callbacks.EarlyStopping(monitor=\"val_loss\", patience=3)\n",
    "val_metrics_cb = ValidationMetricsCallback(val_ds)"
   ]
  },
  {
   "cell_type": "code",
   "execution_count": 577,
   "id": "a056879f",
   "metadata": {},
   "outputs": [],
   "source": [
    "tuner.search(\n",
    "    train_ds,\n",
    "    validation_data=val_ds,\n",
    "    epochs=20,\n",
    "    callbacks=[stop_early],\n",
    "    class_weight=class_weights,\n",
    ")"
   ]
  },
  {
   "cell_type": "code",
   "execution_count": 578,
   "id": "04fbb9c1",
   "metadata": {},
   "outputs": [
    {
     "name": "stdout",
     "output_type": "stream",
     "text": [
      "\n",
      "Best embed_dim: 16,\n",
      "Best lstm_units: 256,\n",
      "Best dropout: 0.2,\n",
      "Best lr: 0.0001\n",
      "\n"
     ]
    }
   ],
   "source": [
    "best_hps = tuner.get_best_hyperparameters(num_trials=1)[0]\n",
    "print(f\"\"\"\n",
    "Best embed_dim: {best_hps.get(\"embed_dim\")},\n",
    "Best lstm_units: {best_hps.get(\"lstm_units\")},\n",
    "Best dropout: {best_hps.get(\"dropout\")},\n",
    "Best lr: {best_hps.get(\"learning_rate\")}\n",
    "\"\"\")"
   ]
  },
  {
   "cell_type": "code",
   "execution_count": 587,
   "id": "5fd42751",
   "metadata": {},
   "outputs": [],
   "source": [
    "def build_model(\n",
    "    seq_len,\n",
    "    num_numeric,\n",
    "    num_pitch_types,\n",
    "    num_stands,\n",
    "    num_states,\n",
    "    num_outs,\n",
    "    num_innings,\n",
    "    num_bs,\n",
    "    embed_dim=16,\n",
    "    lstm_units=256,\n",
    "    dropout_rate=0.2,\n",
    "    learning_rate=1e-4,\n",
    "):\n",
    "    # 1) Define Inputs\n",
    "    num_input = tf.keras.Input((seq_len, num_numeric), name=\"numeric_input\")\n",
    "    pitch_input = tf.keras.Input((seq_len,), dtype=\"int32\", name=\"pitch_input\")\n",
    "    stand_input = tf.keras.Input((seq_len,), dtype=\"int32\", name=\"stand_input\")\n",
    "    state_input = tf.keras.Input((seq_len,), dtype=\"int32\", name=\"state_input\")\n",
    "    outs_input = tf.keras.Input((seq_len,), dtype=\"int32\", name=\"outs_input\")\n",
    "    inning_input = tf.keras.Input((seq_len,), dtype=\"int32\", name=\"inning_input\")\n",
    "    bs_input = tf.keras.Input((seq_len,), dtype=\"int32\", name=\"bs_input\")\n",
    "\n",
    "    # 2) Embeddings\n",
    "    emb_pitch = tf.keras.layers.Embedding(num_pitch_types, embed_dim, name=\"emb_pitch\")(\n",
    "        pitch_input\n",
    "    )\n",
    "    emb_stand = tf.keras.layers.Embedding(num_stands, 4, name=\"emb_stand\")(stand_input)\n",
    "    emb_state = tf.keras.layers.Embedding(num_states, 4, name=\"emb_state\")(state_input)\n",
    "    emb_outs = tf.keras.layers.Embedding(num_outs, 3, name=\"emb_outs\")(outs_input)\n",
    "    emb_inning = tf.keras.layers.Embedding(num_innings, 8, name=\"emb_inning\")(\n",
    "        inning_input\n",
    "    )\n",
    "    emb_bs = tf.keras.layers.Embedding(num_bs, 8, name=\"emb_bs\")(bs_input)\n",
    "\n",
    "    # 3) Concatenate everything\n",
    "    x = tf.keras.layers.Concatenate(name=\"concat_inputs\")(\n",
    "        [num_input, emb_pitch, emb_stand, emb_state, emb_outs, emb_inning, emb_bs]\n",
    "    )\n",
    "\n",
    "    # 4) LSTM + Dropout\n",
    "    x = tf.keras.layers.LSTM(lstm_units, name=\"lstm_layer\")(x)\n",
    "    x = tf.keras.layers.Dropout(dropout_rate, name=\"dropout_layer\")(x)\n",
    "\n",
    "    # 5) Output softmax over next_pitch_type_id\n",
    "    outputs = tf.keras.layers.Dense(\n",
    "        num_pitch_types, activation=\"softmax\", name=\"output\"\n",
    "    )(x)\n",
    "\n",
    "    # 6) Build & compile\n",
    "    model = tf.keras.Model(\n",
    "        inputs=[\n",
    "            num_input,\n",
    "            pitch_input,\n",
    "            stand_input,\n",
    "            state_input,\n",
    "            outs_input,\n",
    "            inning_input,\n",
    "            bs_input,\n",
    "        ],\n",
    "        outputs=outputs,\n",
    "        name=\"pitch_lstm_embedded\",\n",
    "    )\n",
    "    model.compile(\n",
    "        optimizer=tf.keras.optimizers.Adam(learning_rate),\n",
    "        loss=\"sparse_categorical_crossentropy\",\n",
    "        metrics=[\n",
    "            \"accuracy\",\n",
    "            tf.keras.metrics.SparseTopKCategoricalAccuracy(k=2, name=\"top2_acc\"),\n",
    "        ],\n",
    "    )\n",
    "    return model\n"
   ]
  },
  {
   "cell_type": "code",
   "execution_count": null,
   "id": "934732d5",
   "metadata": {},
   "outputs": [],
   "source": [
    "model = build_model(\n",
    "    SEQ_LEN,\n",
    "    num_numeric=len(FEATURE_COLS),\n",
    "    num_pitch_types=NUM_CLASSES,\n",
    "    num_stands=train_df.select(pl.col(\"stand\").n_unique()).item(),\n",
    "    num_states=train_df.select(pl.col(\"baserunner_state\").n_unique()).item(),\n",
    "    num_outs=3,\n",
    "    num_innings=train_df.select(pl.col(\"inning\").n_unique()).item() + 1,\n",
    "    num_bs=train_df.select(pl.col(\"balls_strikes\").n_unique()).item(),\n",
    "    embed_dim=best_hps.get(\"embed_dim\"),\n",
    "    lstm_units=best_hps.get(\"lstm_units\"),\n",
    "    dropout_rate=best_hps.get(\"dropout\"),\n",
    "    learning_rate=best_hps.get(\"learning_rate\"),\n",
    ")"
   ]
  },
  {
   "cell_type": "code",
   "execution_count": 595,
   "id": "aa520e3d",
   "metadata": {},
   "outputs": [],
   "source": [
    "import numpy as np\n",
    "from sklearn.utils.class_weight import compute_class_weight\n",
    "\n",
    "# Use the existing train_labels list we already created previously\n",
    "train_labels_arr = np.array(train_labels)\n",
    "class_weights_arr = compute_class_weight(\n",
    "    class_weight=\"balanced\", classes=np.arange(NUM_CLASSES), y=train_labels_arr\n",
    ")\n",
    "class_weights = {i: w for i, w in enumerate(class_weights_arr)}"
   ]
  },
  {
   "cell_type": "code",
   "execution_count": 596,
   "id": "0678c266",
   "metadata": {},
   "outputs": [
    {
     "name": "stdout",
     "output_type": "stream",
     "text": [
      "Epoch 1/100\n"
     ]
    },
    {
     "name": "stdout",
     "output_type": "stream",
     "text": [
      "\u001b[1m666/666\u001b[0m \u001b[32m━━━━━━━━━━━━━━━━━━━━\u001b[0m\u001b[37m\u001b[0m \u001b[1m0s\u001b[0m 11ms/step - accuracy: 0.2355 - loss: 1.5749 - top2_acc: 0.5022\n",
      "— val_precision_macro: 0.1659, val_recall_macro: 0.1680, val_f1_macro: 0.1028\n",
      "    class  0: precision 0.081, recall 0.073, f1 0.076, support 179\n",
      "    class  1: precision 0.492, recall 0.148, f1 0.228, support 1248\n",
      "    class  2: precision 0.123, recall 0.021, f1 0.036, support 332\n",
      "    class  3: precision 0.000, recall 0.000, f1 0.000, support 1\n",
      "    class  4: precision 0.213, recall 0.086, f1 0.122, support 559\n",
      "    class  5: precision 0.087, recall 0.680, f1 0.154, support 219\n",
      "\u001b[1m666/666\u001b[0m \u001b[32m━━━━━━━━━━━━━━━━━━━━\u001b[0m\u001b[37m\u001b[0m \u001b[1m12s\u001b[0m 16ms/step - accuracy: 0.2354 - loss: 1.5748 - top2_acc: 0.5022 - val_accuracy: 0.1899 - val_loss: 1.9113 - val_top2_acc: 0.4783\n",
      "Epoch 2/100\n",
      "\u001b[1m664/666\u001b[0m \u001b[32m━━━━━━━━━━━━━━━━━━━\u001b[0m\u001b[37m━\u001b[0m \u001b[1m0s\u001b[0m 12ms/step - accuracy: 0.2095 - loss: 1.5097 - top2_acc: 0.4638\n",
      "— val_precision_macro: 0.1796, val_recall_macro: 0.1749, val_f1_macro: 0.1404\n",
      "    class  0: precision 0.072, recall 0.190, f1 0.104, support 179\n",
      "    class  1: precision 0.501, recall 0.252, f1 0.336, support 1248\n",
      "    class  2: precision 0.152, recall 0.051, f1 0.077, support 332\n",
      "    class  3: precision 0.000, recall 0.000, f1 0.000, support 1\n",
      "    class  4: precision 0.265, recall 0.136, f1 0.180, support 559\n",
      "    class  5: precision 0.089, recall 0.420, f1 0.147, support 219\n",
      "\u001b[1m666/666\u001b[0m \u001b[32m━━━━━━━━━━━━━━━━━━━━\u001b[0m\u001b[37m\u001b[0m \u001b[1m11s\u001b[0m 17ms/step - accuracy: 0.2096 - loss: 1.5097 - top2_acc: 0.4639 - val_accuracy: 0.2526 - val_loss: 1.8465 - val_top2_acc: 0.5288\n",
      "Epoch 3/100\n",
      "\u001b[1m664/666\u001b[0m \u001b[32m━━━━━━━━━━━━━━━━━━━\u001b[0m\u001b[37m━\u001b[0m \u001b[1m0s\u001b[0m 12ms/step - accuracy: 0.2252 - loss: 1.5120 - top2_acc: 0.4764\n",
      "— val_precision_macro: 0.1680, val_recall_macro: 0.1687, val_f1_macro: 0.1379\n",
      "    class  0: precision 0.064, recall 0.145, f1 0.088, support 179\n",
      "    class  1: precision 0.486, recall 0.235, f1 0.317, support 1248\n",
      "    class  2: precision 0.128, recall 0.075, f1 0.095, support 332\n",
      "    class  3: precision 0.000, recall 0.000, f1 0.000, support 1\n",
      "    class  4: precision 0.239, recall 0.141, f1 0.178, support 559\n",
      "    class  5: precision 0.092, recall 0.416, f1 0.150, support 219\n",
      "\u001b[1m666/666\u001b[0m \u001b[32m━━━━━━━━━━━━━━━━━━━━\u001b[0m\u001b[37m\u001b[0m \u001b[1m11s\u001b[0m 17ms/step - accuracy: 0.2253 - loss: 1.5118 - top2_acc: 0.4765 - val_accuracy: 0.2486 - val_loss: 1.7282 - val_top2_acc: 0.5296\n",
      "Epoch 4/100\n",
      "\u001b[1m664/666\u001b[0m \u001b[32m━━━━━━━━━━━━━━━━━━━\u001b[0m\u001b[37m━\u001b[0m \u001b[1m0s\u001b[0m 12ms/step - accuracy: 0.2262 - loss: 1.4781 - top2_acc: 0.4840\n",
      "— val_precision_macro: 0.1804, val_recall_macro: 0.1771, val_f1_macro: 0.1460\n",
      "    class  0: precision 0.077, recall 0.173, f1 0.107, support 179\n",
      "    class  1: precision 0.505, recall 0.204, f1 0.291, support 1248\n",
      "    class  2: precision 0.172, recall 0.120, f1 0.142, support 332\n",
      "    class  3: precision 0.000, recall 0.000, f1 0.000, support 1\n",
      "    class  4: precision 0.243, recall 0.163, f1 0.195, support 559\n",
      "    class  5: precision 0.086, recall 0.402, f1 0.142, support 219\n",
      "\u001b[1m666/666\u001b[0m \u001b[32m━━━━━━━━━━━━━━━━━━━━\u001b[0m\u001b[37m\u001b[0m \u001b[1m12s\u001b[0m 18ms/step - accuracy: 0.2262 - loss: 1.4781 - top2_acc: 0.4840 - val_accuracy: 0.2380 - val_loss: 1.7219 - val_top2_acc: 0.5280\n",
      "Epoch 5/100\n",
      "\u001b[1m663/666\u001b[0m \u001b[32m━━━━━━━━━━━━━━━━━━━\u001b[0m\u001b[37m━\u001b[0m \u001b[1m0s\u001b[0m 12ms/step - accuracy: 0.2224 - loss: 1.4562 - top2_acc: 0.4847\n",
      "— val_precision_macro: 0.1749, val_recall_macro: 0.1730, val_f1_macro: 0.1335\n",
      "    class  0: precision 0.069, recall 0.207, f1 0.103, support 179\n",
      "    class  1: precision 0.531, recall 0.145, f1 0.228, support 1248\n",
      "    class  2: precision 0.132, recall 0.108, f1 0.119, support 332\n",
      "    class  3: precision 0.000, recall 0.000, f1 0.000, support 1\n",
      "    class  4: precision 0.224, recall 0.181, f1 0.200, support 559\n",
      "    class  5: precision 0.093, recall 0.397, f1 0.151, support 219\n",
      "\u001b[1m666/666\u001b[0m \u001b[32m━━━━━━━━━━━━━━━━━━━━\u001b[0m\u001b[37m\u001b[0m \u001b[1m12s\u001b[0m 17ms/step - accuracy: 0.2224 - loss: 1.4562 - top2_acc: 0.4847 - val_accuracy: 0.2124 - val_loss: 1.7341 - val_top2_acc: 0.5071\n",
      "Epoch 6/100\n",
      "\u001b[1m666/666\u001b[0m \u001b[32m━━━━━━━━━━━━━━━━━━━━\u001b[0m\u001b[37m\u001b[0m \u001b[1m0s\u001b[0m 13ms/step - accuracy: 0.2282 - loss: 1.4631 - top2_acc: 0.4858\n",
      "— val_precision_macro: 0.1694, val_recall_macro: 0.1690, val_f1_macro: 0.1372\n",
      "    class  0: precision 0.075, recall 0.190, f1 0.107, support 179\n",
      "    class  1: precision 0.496, recall 0.167, f1 0.250, support 1248\n",
      "    class  2: precision 0.122, recall 0.139, f1 0.130, support 332\n",
      "    class  3: precision 0.000, recall 0.000, f1 0.000, support 1\n",
      "    class  4: precision 0.234, recall 0.166, f1 0.195, support 559\n",
      "    class  5: precision 0.089, recall 0.352, f1 0.141, support 219\n",
      "\u001b[1m666/666\u001b[0m \u001b[32m━━━━━━━━━━━━━━━━━━━━\u001b[0m\u001b[37m\u001b[0m \u001b[1m12s\u001b[0m 19ms/step - accuracy: 0.2283 - loss: 1.4631 - top2_acc: 0.4858 - val_accuracy: 0.2329 - val_loss: 1.7074 - val_top2_acc: 0.5126\n",
      "Epoch 7/100\n",
      "\u001b[1m665/666\u001b[0m \u001b[32m━━━━━━━━━━━━━━━━━━━\u001b[0m\u001b[37m━\u001b[0m \u001b[1m0s\u001b[0m 13ms/step - accuracy: 0.2281 - loss: 1.4413 - top2_acc: 0.4884\n",
      "— val_precision_macro: 0.1740, val_recall_macro: 0.1758, val_f1_macro: 0.1524\n",
      "    class  0: precision 0.068, recall 0.123, f1 0.088, support 179\n",
      "    class  1: precision 0.501, recall 0.251, f1 0.334, support 1248\n",
      "    class  2: precision 0.127, recall 0.090, f1 0.105, support 332\n",
      "    class  3: precision 0.000, recall 0.000, f1 0.000, support 1\n",
      "    class  4: precision 0.252, recall 0.216, f1 0.233, support 559\n",
      "    class  5: precision 0.097, recall 0.374, f1 0.154, support 219\n",
      "\u001b[1m666/666\u001b[0m \u001b[32m━━━━━━━━━━━━━━━━━━━━\u001b[0m\u001b[37m\u001b[0m \u001b[1m12s\u001b[0m 19ms/step - accuracy: 0.2281 - loss: 1.4413 - top2_acc: 0.4884 - val_accuracy: 0.2691 - val_loss: 1.6668 - val_top2_acc: 0.5646\n",
      "Epoch 8/100\n",
      "\u001b[1m665/666\u001b[0m \u001b[32m━━━━━━━━━━━━━━━━━━━\u001b[0m\u001b[37m━\u001b[0m \u001b[1m0s\u001b[0m 12ms/step - accuracy: 0.2411 - loss: 1.4253 - top2_acc: 0.5005\n",
      "— val_precision_macro: 0.1654, val_recall_macro: 0.1646, val_f1_macro: 0.1079\n",
      "    class  0: precision 0.072, recall 0.128, f1 0.092, support 179\n",
      "    class  1: precision 0.469, recall 0.048, f1 0.087, support 1248\n",
      "    class  2: precision 0.105, recall 0.130, f1 0.116, support 332\n",
      "    class  3: precision 0.000, recall 0.000, f1 0.000, support 1\n",
      "    class  4: precision 0.262, recall 0.170, f1 0.206, support 559\n",
      "    class  5: precision 0.085, recall 0.511, f1 0.146, support 219\n",
      "\u001b[1m666/666\u001b[0m \u001b[32m━━━━━━━━━━━━━━━━━━━━\u001b[0m\u001b[37m\u001b[0m \u001b[1m12s\u001b[0m 18ms/step - accuracy: 0.2411 - loss: 1.4253 - top2_acc: 0.5005 - val_accuracy: 0.1801 - val_loss: 1.9290 - val_top2_acc: 0.4263\n",
      "Epoch 9/100\n",
      "\u001b[1m664/666\u001b[0m \u001b[32m━━━━━━━━━━━━━━━━━━━\u001b[0m\u001b[37m━\u001b[0m \u001b[1m0s\u001b[0m 12ms/step - accuracy: 0.2274 - loss: 1.4589 - top2_acc: 0.4886\n",
      "— val_precision_macro: 0.1615, val_recall_macro: 0.1563, val_f1_macro: 0.1205\n",
      "    class  0: precision 0.074, recall 0.151, f1 0.099, support 179\n",
      "    class  1: precision 0.468, recall 0.124, f1 0.196, support 1248\n",
      "    class  2: precision 0.139, recall 0.111, f1 0.124, support 332\n",
      "    class  3: precision 0.000, recall 0.000, f1 0.000, support 1\n",
      "    class  4: precision 0.214, recall 0.154, f1 0.179, support 559\n",
      "    class  5: precision 0.074, recall 0.397, f1 0.125, support 219\n",
      "\u001b[1m666/666\u001b[0m \u001b[32m━━━━━━━━━━━━━━━━━━━━\u001b[0m\u001b[37m\u001b[0m \u001b[1m12s\u001b[0m 18ms/step - accuracy: 0.2274 - loss: 1.4588 - top2_acc: 0.4887 - val_accuracy: 0.2143 - val_loss: 1.8147 - val_top2_acc: 0.5035\n",
      "Epoch 10/100\n",
      "\u001b[1m665/666\u001b[0m \u001b[32m━━━━━━━━━━━━━━━━━━━\u001b[0m\u001b[37m━\u001b[0m \u001b[1m0s\u001b[0m 12ms/step - accuracy: 0.2329 - loss: 1.4416 - top2_acc: 0.5022\n",
      "— val_precision_macro: 0.1757, val_recall_macro: 0.1734, val_f1_macro: 0.1334\n",
      "    class  0: precision 0.074, recall 0.179, f1 0.105, support 179\n",
      "    class  1: precision 0.497, recall 0.142, f1 0.221, support 1248\n",
      "    class  2: precision 0.159, recall 0.166, f1 0.162, support 332\n",
      "    class  3: precision 0.000, recall 0.000, f1 0.000, support 1\n",
      "    class  4: precision 0.240, recall 0.134, f1 0.172, support 559\n",
      "    class  5: precision 0.085, recall 0.420, f1 0.141, support 219\n",
      "\u001b[1m666/666\u001b[0m \u001b[32m━━━━━━━━━━━━━━━━━━━━\u001b[0m\u001b[37m\u001b[0m \u001b[1m12s\u001b[0m 18ms/step - accuracy: 0.2329 - loss: 1.4415 - top2_acc: 0.5022 - val_accuracy: 0.2136 - val_loss: 1.8207 - val_top2_acc: 0.5126\n"
     ]
    }
   ],
   "source": [
    "history = model.fit(\n",
    "    train_ds,\n",
    "    validation_data=val_ds,\n",
    "    epochs=100,\n",
    "    class_weight=class_weights,\n",
    "    callbacks=[stop_early, val_metrics_cb],\n",
    ")"
   ]
  }
 ],
 "metadata": {
  "kernelspec": {
   "display_name": ".venv",
   "language": "python",
   "name": "python3"
  },
  "language_info": {
   "codemirror_mode": {
    "name": "ipython",
    "version": 3
   },
   "file_extension": ".py",
   "mimetype": "text/x-python",
   "name": "python",
   "nbconvert_exporter": "python",
   "pygments_lexer": "ipython3",
   "version": "3.12.7"
  }
 },
 "nbformat": 4,
 "nbformat_minor": 5
}
