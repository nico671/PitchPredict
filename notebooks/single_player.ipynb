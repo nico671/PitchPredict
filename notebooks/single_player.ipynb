{
 "cells": [
  {
   "cell_type": "markdown",
   "id": "2e3e30c2",
   "metadata": {},
   "source": [
    "# Data Cleaning"
   ]
  },
  {
   "cell_type": "code",
   "execution_count": 1,
   "id": "ad0d3a16",
   "metadata": {},
   "outputs": [],
   "source": [
    "import polars as pl"
   ]
  },
  {
   "cell_type": "markdown",
   "id": "38b038d4",
   "metadata": {},
   "source": [
    "load the data"
   ]
  },
  {
   "cell_type": "code",
   "execution_count": 2,
   "id": "7abd9cb7",
   "metadata": {},
   "outputs": [],
   "source": [
    "df = pl.read_parquet(\"../data/raw_statcast_data.parquet\")"
   ]
  },
  {
   "cell_type": "markdown",
   "id": "3c4fe770",
   "metadata": {},
   "source": [
    "filter to just one pitcher for now"
   ]
  },
  {
   "cell_type": "code",
   "execution_count": 3,
   "id": "cfdd6425",
   "metadata": {},
   "outputs": [],
   "source": [
    "df = df.filter(pl.col(\"player_name\") == \"Cole, Gerrit\")"
   ]
  },
  {
   "cell_type": "code",
   "execution_count": 4,
   "id": "605ca908",
   "metadata": {},
   "outputs": [
    {
     "data": {
      "text/html": [
       "<div><style>\n",
       ".dataframe > thead > tr,\n",
       ".dataframe > tbody > tr {\n",
       "  text-align: right;\n",
       "  white-space: pre-wrap;\n",
       "}\n",
       "</style>\n",
       "<small>shape: (29_736, 113)</small><table border=\"1\" class=\"dataframe\"><thead><tr><th>pitch_type</th><th>game_date</th><th>release_speed</th><th>release_pos_x</th><th>release_pos_z</th><th>player_name</th><th>batter</th><th>pitcher</th><th>events</th><th>description</th><th>spin_dir</th><th>spin_rate_deprecated</th><th>break_angle_deprecated</th><th>break_length_deprecated</th><th>zone</th><th>des</th><th>game_type</th><th>stand</th><th>p_throws</th><th>home_team</th><th>away_team</th><th>type</th><th>hit_location</th><th>bb_type</th><th>balls</th><th>strikes</th><th>game_year</th><th>pfx_x</th><th>pfx_z</th><th>plate_x</th><th>plate_z</th><th>on_3b</th><th>on_2b</th><th>on_1b</th><th>outs_when_up</th><th>inning</th><th>inning_topbot</th><th>&hellip;</th><th>pitch_name</th><th>home_score</th><th>away_score</th><th>bat_score</th><th>fld_score</th><th>post_away_score</th><th>post_home_score</th><th>post_bat_score</th><th>post_fld_score</th><th>if_fielding_alignment</th><th>of_fielding_alignment</th><th>spin_axis</th><th>delta_home_win_exp</th><th>delta_run_exp</th><th>bat_speed</th><th>swing_length</th><th>estimated_slg_using_speedangle</th><th>delta_pitcher_run_exp</th><th>hyper_speed</th><th>home_score_diff</th><th>bat_score_diff</th><th>home_win_exp</th><th>bat_win_exp</th><th>age_pit_legacy</th><th>age_bat_legacy</th><th>age_pit</th><th>age_bat</th><th>n_thruorder_pitcher</th><th>n_priorpa_thisgame_player_at_bat</th><th>pitcher_days_since_prev_game</th><th>batter_days_since_prev_game</th><th>pitcher_days_until_next_game</th><th>batter_days_until_next_game</th><th>api_break_z_with_gravity</th><th>api_break_x_arm</th><th>api_break_x_batter_in</th><th>arm_angle</th></tr><tr><td>str</td><td>str</td><td>f64</td><td>f64</td><td>f64</td><td>str</td><td>i64</td><td>i64</td><td>str</td><td>str</td><td>str</td><td>str</td><td>str</td><td>str</td><td>i64</td><td>str</td><td>str</td><td>str</td><td>str</td><td>str</td><td>str</td><td>str</td><td>i64</td><td>str</td><td>i64</td><td>i64</td><td>i64</td><td>f64</td><td>f64</td><td>f64</td><td>f64</td><td>str</td><td>i64</td><td>i64</td><td>i64</td><td>i64</td><td>str</td><td>&hellip;</td><td>str</td><td>i64</td><td>i64</td><td>i64</td><td>i64</td><td>i64</td><td>i64</td><td>i64</td><td>i64</td><td>str</td><td>str</td><td>str</td><td>f64</td><td>f64</td><td>str</td><td>str</td><td>f64</td><td>f64</td><td>f64</td><td>i64</td><td>i64</td><td>f64</td><td>f64</td><td>i64</td><td>i64</td><td>i64</td><td>i64</td><td>i64</td><td>i64</td><td>i64</td><td>i64</td><td>i64</td><td>i64</td><td>f64</td><td>f64</td><td>f64</td><td>str</td></tr></thead><tbody><tr><td>&quot;FF&quot;</td><td>&quot;2015-07-14&quot;</td><td>95.7</td><td>-2.42</td><td>5.75</td><td>&quot;Cole, Gerrit&quot;</td><td>405395</td><td>543037</td><td>&quot;field_out&quot;</td><td>&quot;hit_into_play&quot;</td><td>null</td><td>null</td><td>null</td><td>null</td><td>4</td><td>&quot;Albert Pujols lines out to cen…</td><td>&quot;A&quot;</td><td>&quot;R&quot;</td><td>&quot;R&quot;</td><td>&quot;NL&quot;</td><td>&quot;AL&quot;</td><td>&quot;X&quot;</td><td>8</td><td>&quot;line_drive&quot;</td><td>1</td><td>0</td><td>2015</td><td>-0.79</td><td>1.17</td><td>-0.31</td><td>2.29</td><td>null</td><td>null</td><td>518626</td><td>2</td><td>3</td><td>&quot;Top&quot;</td><td>&hellip;</td><td>&quot;4-Seam Fastball&quot;</td><td>1</td><td>1</td><td>1</td><td>1</td><td>1</td><td>1</td><td>1</td><td>1</td><td>&quot;Standard&quot;</td><td>&quot;Standard&quot;</td><td>null</td><td>0.026</td><td>-0.304</td><td>null</td><td>null</td><td>1.286</td><td>0.304</td><td>106.0</td><td>0</td><td>0</td><td>0.528</td><td>0.472</td><td>24</td><td>35</td><td>25</td><td>35</td><td>1</td><td>1</td><td>null</td><td>null</td><td>null</td><td>null</td><td>1.36</td><td>0.79</td><td>0.79</td><td>null</td></tr><tr><td>&quot;FF&quot;</td><td>&quot;2015-07-14&quot;</td><td>95.7</td><td>-2.48</td><td>5.69</td><td>&quot;Cole, Gerrit&quot;</td><td>405395</td><td>543037</td><td>null</td><td>&quot;ball&quot;</td><td>null</td><td>null</td><td>null</td><td>null</td><td>12</td><td>&quot;Albert Pujols lines out to cen…</td><td>&quot;A&quot;</td><td>&quot;R&quot;</td><td>&quot;R&quot;</td><td>&quot;NL&quot;</td><td>&quot;AL&quot;</td><td>&quot;B&quot;</td><td>null</td><td>null</td><td>0</td><td>0</td><td>2015</td><td>-0.78</td><td>0.91</td><td>1.06</td><td>3.34</td><td>null</td><td>null</td><td>518626</td><td>2</td><td>3</td><td>&quot;Top&quot;</td><td>&hellip;</td><td>&quot;4-Seam Fastball&quot;</td><td>1</td><td>1</td><td>1</td><td>1</td><td>1</td><td>1</td><td>1</td><td>1</td><td>&quot;Standard&quot;</td><td>&quot;Standard&quot;</td><td>null</td><td>0.0</td><td>0.038</td><td>null</td><td>null</td><td>null</td><td>-0.038</td><td>null</td><td>0</td><td>0</td><td>0.528</td><td>0.472</td><td>24</td><td>35</td><td>25</td><td>35</td><td>1</td><td>1</td><td>null</td><td>null</td><td>null</td><td>null</td><td>1.61</td><td>0.78</td><td>0.78</td><td>null</td></tr><tr><td>&quot;FF&quot;</td><td>&quot;2015-07-14&quot;</td><td>96.2</td><td>-2.39</td><td>5.72</td><td>&quot;Cole, Gerrit&quot;</td><td>518626</td><td>543037</td><td>&quot;walk&quot;</td><td>&quot;ball&quot;</td><td>null</td><td>null</td><td>null</td><td>null</td><td>14</td><td>&quot;Josh Donaldson walks.&quot;</td><td>&quot;A&quot;</td><td>&quot;R&quot;</td><td>&quot;R&quot;</td><td>&quot;NL&quot;</td><td>&quot;AL&quot;</td><td>&quot;B&quot;</td><td>null</td><td>null</td><td>3</td><td>2</td><td>2015</td><td>-0.78</td><td>1.22</td><td>1.56</td><td>1.76</td><td>null</td><td>null</td><td>null</td><td>2</td><td>3</td><td>&quot;Top&quot;</td><td>&hellip;</td><td>&quot;4-Seam Fastball&quot;</td><td>1</td><td>1</td><td>1</td><td>1</td><td>1</td><td>1</td><td>1</td><td>1</td><td>&quot;Standard&quot;</td><td>&quot;Standard&quot;</td><td>null</td><td>-0.015</td><td>0.269</td><td>null</td><td>null</td><td>null</td><td>-0.269</td><td>null</td><td>0</td><td>0</td><td>0.543</td><td>0.457</td><td>24</td><td>29</td><td>25</td><td>30</td><td>1</td><td>1</td><td>null</td><td>null</td><td>null</td><td>null</td><td>1.28</td><td>0.78</td><td>0.78</td><td>null</td></tr><tr><td>&quot;SI&quot;</td><td>&quot;2015-07-14&quot;</td><td>97.2</td><td>-2.45</td><td>5.8</td><td>&quot;Cole, Gerrit&quot;</td><td>518626</td><td>543037</td><td>null</td><td>&quot;ball&quot;</td><td>null</td><td>null</td><td>null</td><td>null</td><td>11</td><td>&quot;Josh Donaldson walks.&quot;</td><td>&quot;A&quot;</td><td>&quot;R&quot;</td><td>&quot;R&quot;</td><td>&quot;NL&quot;</td><td>&quot;AL&quot;</td><td>&quot;B&quot;</td><td>null</td><td>null</td><td>2</td><td>2</td><td>2015</td><td>-0.9</td><td>0.75</td><td>-0.52</td><td>4.7</td><td>null</td><td>null</td><td>null</td><td>2</td><td>3</td><td>&quot;Top&quot;</td><td>&hellip;</td><td>&quot;Sinker&quot;</td><td>1</td><td>1</td><td>1</td><td>1</td><td>1</td><td>1</td><td>1</td><td>1</td><td>&quot;Standard&quot;</td><td>&quot;Standard&quot;</td><td>null</td><td>0.0</td><td>0.098</td><td>null</td><td>null</td><td>null</td><td>-0.098</td><td>null</td><td>0</td><td>0</td><td>0.543</td><td>0.457</td><td>24</td><td>29</td><td>25</td><td>30</td><td>1</td><td>1</td><td>null</td><td>null</td><td>null</td><td>null</td><td>1.68</td><td>0.9</td><td>0.9</td><td>null</td></tr><tr><td>&quot;SI&quot;</td><td>&quot;2015-07-14&quot;</td><td>96.9</td><td>-2.48</td><td>5.65</td><td>&quot;Cole, Gerrit&quot;</td><td>518626</td><td>543037</td><td>null</td><td>&quot;ball&quot;</td><td>null</td><td>null</td><td>null</td><td>null</td><td>13</td><td>&quot;Josh Donaldson walks.&quot;</td><td>&quot;A&quot;</td><td>&quot;R&quot;</td><td>&quot;R&quot;</td><td>&quot;NL&quot;</td><td>&quot;AL&quot;</td><td>&quot;B&quot;</td><td>null</td><td>null</td><td>1</td><td>2</td><td>2015</td><td>-0.72</td><td>0.59</td><td>-1.93</td><td>1.91</td><td>null</td><td>null</td><td>null</td><td>2</td><td>3</td><td>&quot;Top&quot;</td><td>&hellip;</td><td>&quot;Sinker&quot;</td><td>1</td><td>1</td><td>1</td><td>1</td><td>1</td><td>1</td><td>1</td><td>1</td><td>&quot;Standard&quot;</td><td>&quot;Standard&quot;</td><td>null</td><td>0.0</td><td>0.035</td><td>null</td><td>null</td><td>null</td><td>-0.035</td><td>null</td><td>0</td><td>0</td><td>0.543</td><td>0.457</td><td>24</td><td>29</td><td>25</td><td>30</td><td>1</td><td>1</td><td>null</td><td>null</td><td>null</td><td>null</td><td>1.86</td><td>0.72</td><td>0.72</td><td>null</td></tr><tr><td>&hellip;</td><td>&hellip;</td><td>&hellip;</td><td>&hellip;</td><td>&hellip;</td><td>&hellip;</td><td>&hellip;</td><td>&hellip;</td><td>&hellip;</td><td>&hellip;</td><td>&hellip;</td><td>&hellip;</td><td>&hellip;</td><td>&hellip;</td><td>&hellip;</td><td>&hellip;</td><td>&hellip;</td><td>&hellip;</td><td>&hellip;</td><td>&hellip;</td><td>&hellip;</td><td>&hellip;</td><td>&hellip;</td><td>&hellip;</td><td>&hellip;</td><td>&hellip;</td><td>&hellip;</td><td>&hellip;</td><td>&hellip;</td><td>&hellip;</td><td>&hellip;</td><td>&hellip;</td><td>&hellip;</td><td>&hellip;</td><td>&hellip;</td><td>&hellip;</td><td>&hellip;</td><td>&hellip;</td><td>&hellip;</td><td>&hellip;</td><td>&hellip;</td><td>&hellip;</td><td>&hellip;</td><td>&hellip;</td><td>&hellip;</td><td>&hellip;</td><td>&hellip;</td><td>&hellip;</td><td>&hellip;</td><td>&hellip;</td><td>&hellip;</td><td>&hellip;</td><td>&hellip;</td><td>&hellip;</td><td>&hellip;</td><td>&hellip;</td><td>&hellip;</td><td>&hellip;</td><td>&hellip;</td><td>&hellip;</td><td>&hellip;</td><td>&hellip;</td><td>&hellip;</td><td>&hellip;</td><td>&hellip;</td><td>&hellip;</td><td>&hellip;</td><td>&hellip;</td><td>&hellip;</td><td>&hellip;</td><td>&hellip;</td><td>&hellip;</td><td>&hellip;</td><td>&hellip;</td><td>&hellip;</td></tr><tr><td>&quot;FC&quot;</td><td>&quot;2024-10-05&quot;</td><td>92.1</td><td>-2.34</td><td>6.16</td><td>&quot;Cole, Gerrit&quot;</td><td>686469</td><td>543037</td><td>null</td><td>&quot;called_strike&quot;</td><td>null</td><td>null</td><td>null</td><td>null</td><td>5</td><td>&quot;Vinnie Pasquantino lines out s…</td><td>&quot;D&quot;</td><td>&quot;L&quot;</td><td>&quot;R&quot;</td><td>&quot;NYY&quot;</td><td>&quot;KC&quot;</td><td>&quot;S&quot;</td><td>null</td><td>null</td><td>0</td><td>0</td><td>2024</td><td>0.26</td><td>0.71</td><td>0.13</td><td>2.52</td><td>null</td><td>null</td><td>null</td><td>2</td><td>1</td><td>&quot;Top&quot;</td><td>&hellip;</td><td>&quot;Cutter&quot;</td><td>0</td><td>0</td><td>0</td><td>0</td><td>0</td><td>0</td><td>0</td><td>0</td><td>&quot;Infield shade&quot;</td><td>&quot;Standard&quot;</td><td>&quot;172&quot;</td><td>0.0</td><td>-0.041</td><td>null</td><td>null</td><td>null</td><td>0.041</td><td>null</td><td>0</td><td>0</td><td>0.537</td><td>0.463</td><td>33</td><td>26</td><td>34</td><td>27</td><td>1</td><td>0</td><td>9</td><td>3</td><td>5</td><td>2</td><td>2.01</td><td>-0.26</td><td>0.26</td><td>&quot;42.6&quot;</td></tr><tr><td>&quot;FF&quot;</td><td>&quot;2024-10-05&quot;</td><td>95.1</td><td>-2.11</td><td>6.2</td><td>&quot;Cole, Gerrit&quot;</td><td>677951</td><td>543037</td><td>&quot;field_out&quot;</td><td>&quot;hit_into_play&quot;</td><td>null</td><td>null</td><td>null</td><td>null</td><td>2</td><td>&quot;Bobby Witt Jr. flies out sharp…</td><td>&quot;D&quot;</td><td>&quot;R&quot;</td><td>&quot;R&quot;</td><td>&quot;NYY&quot;</td><td>&quot;KC&quot;</td><td>&quot;X&quot;</td><td>8</td><td>&quot;fly_ball&quot;</td><td>1</td><td>1</td><td>2024</td><td>-0.36</td><td>1.41</td><td>0.11</td><td>3.52</td><td>null</td><td>null</td><td>null</td><td>1</td><td>1</td><td>&quot;Top&quot;</td><td>&hellip;</td><td>&quot;4-Seam Fastball&quot;</td><td>0</td><td>0</td><td>0</td><td>0</td><td>0</td><td>0</td><td>0</td><td>0</td><td>&quot;Standard&quot;</td><td>&quot;Standard&quot;</td><td>&quot;208&quot;</td><td>0.015</td><td>-0.243</td><td>null</td><td>null</td><td>3.046</td><td>0.243</td><td>108.4</td><td>0</td><td>0</td><td>0.522</td><td>0.478</td><td>33</td><td>24</td><td>34</td><td>24</td><td>1</td><td>0</td><td>9</td><td>3</td><td>5</td><td>2</td><td>1.14</td><td>0.36</td><td>0.36</td><td>&quot;44.5&quot;</td></tr><tr><td>&quot;KC&quot;</td><td>&quot;2024-10-05&quot;</td><td>82.1</td><td>-2.06</td><td>6.19</td><td>&quot;Cole, Gerrit&quot;</td><td>677951</td><td>543037</td><td>null</td><td>&quot;ball&quot;</td><td>null</td><td>null</td><td>null</td><td>null</td><td>14</td><td>&quot;Bobby Witt Jr. flies out sharp…</td><td>&quot;D&quot;</td><td>&quot;R&quot;</td><td>&quot;R&quot;</td><td>&quot;NYY&quot;</td><td>&quot;KC&quot;</td><td>&quot;B&quot;</td><td>null</td><td>null</td><td>0</td><td>1</td><td>2024</td><td>0.63</td><td>-1.47</td><td>0.06</td><td>0.49</td><td>null</td><td>null</td><td>null</td><td>1</td><td>1</td><td>&quot;Top&quot;</td><td>&hellip;</td><td>&quot;Knuckle Curve&quot;</td><td>0</td><td>0</td><td>0</td><td>0</td><td>0</td><td>0</td><td>0</td><td>0</td><td>&quot;Standard&quot;</td><td>&quot;Standard&quot;</td><td>&quot;33&quot;</td><td>0.0</td><td>0.024</td><td>null</td><td>null</td><td>null</td><td>-0.024</td><td>null</td><td>0</td><td>0</td><td>0.522</td><td>0.478</td><td>33</td><td>24</td><td>34</td><td>24</td><td>1</td><td>0</td><td>9</td><td>3</td><td>5</td><td>2</td><td>4.91</td><td>-0.63</td><td>-0.63</td><td>&quot;49.7&quot;</td></tr><tr><td>&quot;SL&quot;</td><td>&quot;2024-10-05&quot;</td><td>88.9</td><td>-2.29</td><td>6.19</td><td>&quot;Cole, Gerrit&quot;</td><td>677951</td><td>543037</td><td>null</td><td>&quot;called_strike&quot;</td><td>null</td><td>null</td><td>null</td><td>null</td><td>4</td><td>&quot;Bobby Witt Jr. flies out sharp…</td><td>&quot;D&quot;</td><td>&quot;R&quot;</td><td>&quot;R&quot;</td><td>&quot;NYY&quot;</td><td>&quot;KC&quot;</td><td>&quot;S&quot;</td><td>null</td><td>null</td><td>0</td><td>0</td><td>2024</td><td>0.55</td><td>0.24</td><td>-0.35</td><td>2.23</td><td>null</td><td>null</td><td>null</td><td>1</td><td>1</td><td>&quot;Top&quot;</td><td>&hellip;</td><td>&quot;Slider&quot;</td><td>0</td><td>0</td><td>0</td><td>0</td><td>0</td><td>0</td><td>0</td><td>0</td><td>&quot;Standard&quot;</td><td>&quot;Standard&quot;</td><td>&quot;134&quot;</td><td>0.0</td><td>-0.037</td><td>null</td><td>null</td><td>null</td><td>0.037</td><td>null</td><td>0</td><td>0</td><td>0.522</td><td>0.478</td><td>33</td><td>24</td><td>34</td><td>24</td><td>1</td><td>0</td><td>9</td><td>3</td><td>5</td><td>2</td><td>2.63</td><td>-0.55</td><td>-0.55</td><td>&quot;44.5&quot;</td></tr><tr><td>&quot;FF&quot;</td><td>&quot;2024-10-05&quot;</td><td>96.2</td><td>-2.16</td><td>6.19</td><td>&quot;Cole, Gerrit&quot;</td><td>686681</td><td>543037</td><td>&quot;field_out&quot;</td><td>&quot;hit_into_play&quot;</td><td>null</td><td>null</td><td>null</td><td>null</td><td>6</td><td>&quot;Michael Massey flies out to ri…</td><td>&quot;D&quot;</td><td>&quot;L&quot;</td><td>&quot;R&quot;</td><td>&quot;NYY&quot;</td><td>&quot;KC&quot;</td><td>&quot;X&quot;</td><td>9</td><td>&quot;fly_ball&quot;</td><td>0</td><td>0</td><td>2024</td><td>-0.36</td><td>1.38</td><td>0.35</td><td>2.51</td><td>null</td><td>null</td><td>null</td><td>0</td><td>1</td><td>&quot;Top&quot;</td><td>&hellip;</td><td>&quot;4-Seam Fastball&quot;</td><td>0</td><td>0</td><td>0</td><td>0</td><td>0</td><td>0</td><td>0</td><td>0</td><td>&quot;Infield shade&quot;</td><td>&quot;Standard&quot;</td><td>&quot;203&quot;</td><td>0.022</td><td>-0.254</td><td>&quot;72.7&quot;</td><td>&quot;7.1&quot;</td><td>0.741</td><td>0.254</td><td>102.5</td><td>0</td><td>0</td><td>0.5</td><td>0.5</td><td>33</td><td>26</td><td>34</td><td>26</td><td>1</td><td>0</td><td>9</td><td>3</td><td>5</td><td>2</td><td>1.1</td><td>0.36</td><td>-0.36</td><td>&quot;46.9&quot;</td></tr></tbody></table></div>"
      ],
      "text/plain": [
       "shape: (29_736, 113)\n",
       "┌───────────┬───────────┬───────────┬───────────┬───┬───────────┬───────────┬───────────┬──────────┐\n",
       "│ pitch_typ ┆ game_date ┆ release_s ┆ release_p ┆ … ┆ api_break ┆ api_break ┆ api_break ┆ arm_angl │\n",
       "│ e         ┆ ---       ┆ peed      ┆ os_x      ┆   ┆ _z_with_g ┆ _x_arm    ┆ _x_batter ┆ e        │\n",
       "│ ---       ┆ str       ┆ ---       ┆ ---       ┆   ┆ ravity    ┆ ---       ┆ _in       ┆ ---      │\n",
       "│ str       ┆           ┆ f64       ┆ f64       ┆   ┆ ---       ┆ f64       ┆ ---       ┆ str      │\n",
       "│           ┆           ┆           ┆           ┆   ┆ f64       ┆           ┆ f64       ┆          │\n",
       "╞═══════════╪═══════════╪═══════════╪═══════════╪═══╪═══════════╪═══════════╪═══════════╪══════════╡\n",
       "│ FF        ┆ 2015-07-1 ┆ 95.7      ┆ -2.42     ┆ … ┆ 1.36      ┆ 0.79      ┆ 0.79      ┆ null     │\n",
       "│           ┆ 4         ┆           ┆           ┆   ┆           ┆           ┆           ┆          │\n",
       "│ FF        ┆ 2015-07-1 ┆ 95.7      ┆ -2.48     ┆ … ┆ 1.61      ┆ 0.78      ┆ 0.78      ┆ null     │\n",
       "│           ┆ 4         ┆           ┆           ┆   ┆           ┆           ┆           ┆          │\n",
       "│ FF        ┆ 2015-07-1 ┆ 96.2      ┆ -2.39     ┆ … ┆ 1.28      ┆ 0.78      ┆ 0.78      ┆ null     │\n",
       "│           ┆ 4         ┆           ┆           ┆   ┆           ┆           ┆           ┆          │\n",
       "│ SI        ┆ 2015-07-1 ┆ 97.2      ┆ -2.45     ┆ … ┆ 1.68      ┆ 0.9       ┆ 0.9       ┆ null     │\n",
       "│           ┆ 4         ┆           ┆           ┆   ┆           ┆           ┆           ┆          │\n",
       "│ SI        ┆ 2015-07-1 ┆ 96.9      ┆ -2.48     ┆ … ┆ 1.86      ┆ 0.72      ┆ 0.72      ┆ null     │\n",
       "│           ┆ 4         ┆           ┆           ┆   ┆           ┆           ┆           ┆          │\n",
       "│ …         ┆ …         ┆ …         ┆ …         ┆ … ┆ …         ┆ …         ┆ …         ┆ …        │\n",
       "│ FC        ┆ 2024-10-0 ┆ 92.1      ┆ -2.34     ┆ … ┆ 2.01      ┆ -0.26     ┆ 0.26      ┆ 42.6     │\n",
       "│           ┆ 5         ┆           ┆           ┆   ┆           ┆           ┆           ┆          │\n",
       "│ FF        ┆ 2024-10-0 ┆ 95.1      ┆ -2.11     ┆ … ┆ 1.14      ┆ 0.36      ┆ 0.36      ┆ 44.5     │\n",
       "│           ┆ 5         ┆           ┆           ┆   ┆           ┆           ┆           ┆          │\n",
       "│ KC        ┆ 2024-10-0 ┆ 82.1      ┆ -2.06     ┆ … ┆ 4.91      ┆ -0.63     ┆ -0.63     ┆ 49.7     │\n",
       "│           ┆ 5         ┆           ┆           ┆   ┆           ┆           ┆           ┆          │\n",
       "│ SL        ┆ 2024-10-0 ┆ 88.9      ┆ -2.29     ┆ … ┆ 2.63      ┆ -0.55     ┆ -0.55     ┆ 44.5     │\n",
       "│           ┆ 5         ┆           ┆           ┆   ┆           ┆           ┆           ┆          │\n",
       "│ FF        ┆ 2024-10-0 ┆ 96.2      ┆ -2.16     ┆ … ┆ 1.1       ┆ 0.36      ┆ -0.36     ┆ 46.9     │\n",
       "│           ┆ 5         ┆           ┆           ┆   ┆           ┆           ┆           ┆          │\n",
       "└───────────┴───────────┴───────────┴───────────┴───┴───────────┴───────────┴───────────┴──────────┘"
      ]
     },
     "execution_count": 4,
     "metadata": {},
     "output_type": "execute_result"
    }
   ],
   "source": [
    "df"
   ]
  },
  {
   "cell_type": "markdown",
   "id": "5f4a98e3",
   "metadata": {},
   "source": [
    "## column inspection"
   ]
  },
  {
   "cell_type": "markdown",
   "id": "288c7df1",
   "metadata": {},
   "source": [
    "- pitch_type, Type: String (encoded as string), need to drop nulls, and convert to codes for model\n",
    "- game_date, Type: String (encoded as string), need to convert to datetime\n",
    "- release_speed, Type: Float64 (need)\n",
    "- release_pos_x, Type: Float64 (need)\n",
    "- release_pos_z, Type: Float64 (need)\n",
    "- player_name, Type: String (need, but not feature)\n",
    "- batter, Type: Int64 (don't need right now, maybe later on)\n",
    "- pitcher, Type: Int64 (need, but not feature)\n",
    "- events, Type: String (could be used for feature engineering, not a feature)\n",
    "- description, Type: String (drop)\n",
    "- spin_dir, Type: String (all nulls, drop)\n",
    "- spin_rate_deprecated, Type: String (all nulls, drop)\n",
    "- break_angle_deprecated, Type: String (all nulls, drop)\n",
    "- break_length_deprecated, Type: String (all nulls, drop)\n",
    "- zone, Type: Int64 (need)\n",
    "- des, Type: String (drop)\n",
    "- game_type, Type: String (drop probably)\n",
    "- stand, Type: String (need, convert to codes)\n",
    "- p_throws, Type: String (need, convert to codes)\n",
    "- home_team, Type: String (drop)\n",
    "- away_team, Type: String (drop)\n",
    "- type, Type: String (Short hand of pitch result. B = ball, S = strike, X = in play.) (need, convert to codes)\n",
    "- hit_location, Type: Int64 (need, fill nulls with 0)\n",
    "- bb_type, Type: String (need, convert to codes, fill null with \"unknown\" first)\n",
    "- balls, Type: Int64 (need)\n",
    "- strikes, Type: Int64 (need)\n",
    "- game_year, Type: Int64 (drop)\n",
    "- pfx_x, Type: Float64 (need)\n",
    "- pfx_z, Type: Float64 (need)\n",
    "- plate_x, Type: Float64 (need)\n",
    "- plate_z, Type: Float64 (need)\n",
    "- on_3b, Type: String (need, convert to bool)\n",
    "- on_2b, Type: Int64 (need, convert to bool)\n",
    "- on_1b, Type: Int64 (need, convert to bool)\n",
    "- outs_when_up, Type: Int64 (need)\n",
    "- inning, Type: Int64 (need)\n",
    "- inning_topbot, Type: String (maybe)\n",
    "- hc_x, Type: Float64 (maybe?)\n",
    "- hc_y, Type: Float64 (maybe?)\n",
    "- tfs_deprecated, Type: String (drop)\n",
    "- tfs_zulu_deprecated, Type: String (drop)\n",
    "- umpire, Type: String (drop)\n",
    "- sv_id, Type: String (drop)\n",
    "- vx0, Type: Float64 (need)\n",
    "- vy0, Type: Float64 (need)\n",
    "- vz0, Type: Float64 (need)\n",
    "- ax, Type: Float64 (need)\n",
    "- ay, Type: Float64 (need)\n",
    "- az, Type: Float64 (need)\n",
    "- sz_top, Type: Float64 (need)\n",
    "- sz_bot, Type: Float64 (need)\n",
    "- hit_distance_sc, Type: Int64 (need)\n",
    "- launch_speed, Type: Float64 (need)\n",
    "- launch_angle, Type: Int64 (need)\n",
    "- effective_speed, Type: Float64 (need)\n",
    "- release_spin_rate, Type: Int64 (need)\n",
    "- release_extension, Type: Float64 (need)\n",
    "- game_pk, Type: Int64 (drop)\n",
    "- fielder_2, Type: Int64 (drop)\n",
    "- fielder_3, Type: Int64 (drop)\n",
    "- fielder_4, Type: Int64 (drop)\n",
    "- fielder_5, Type: Int64 (drop)\n",
    "- fielder_6, Type: Int64 (drop)\n",
    "- fielder_7, Type: Int64 (drop)\n",
    "- fielder_8, Type: Int64 (drop)\n",
    "- fielder_9, Type: Int64 (drop)\n",
    "- release_pos_y, Type: Float64 (need)\n",
    "- estimated_ba_using_speedangle, Type: Float64 (maybe)\n",
    "- estimated_woba_using_speedangle, Type: Float64 (maybe)\n",
    "- woba_value, Type: Float64 (maybe)\n",
    "- woba_denom, Type: Int64 (maybe)\n",
    "- babip_value, Type: Int64 (maybe)\n",
    "- iso_value, Type: Int64 (maybe)\n",
    "- launch_speed_angle, Type: Int64 (maybe)\n",
    "- at_bat_number, Type: Int64 (need)\n",
    "- pitch_number, Type: Int64 (need)\n",
    "- pitch_name, Type: String (drop)\n",
    "- home_score, Type: Int64 (drop)\n",
    "- away_score, Type: Int64 (drop)\n",
    "- bat_score, Type: Int64 (need)\n",
    "- fld_score, Type: Int64 (need)\n",
    "- post_away_score, Type: Int64 (drop)\n",
    "- post_home_score, Type: Int64 (drop)\n",
    "- post_bat_score, Type: Int64 (maybe)\n",
    "- post_fld_score, Type: Int64 (maybe)\n",
    "- if_fielding_alignment, Type: String (maybe)\n",
    "- of_fielding_alignment, Type: String (maybe)\n",
    "- spin_axis, Type: String (need, convert to int)\n",
    "- delta_home_win_exp, Type: Float64 (drop)\n",
    "- delta_run_exp, Type: Float64 (drop)\n",
    "- bat_speed, Type: String (drop)\n",
    "- swing_length, Type: String (drop)\n",
    "- estimated_slg_using_speedangle, Type: Float64 (drop)\n",
    "- delta_pitcher_run_exp, Type: Float64 (drop)\n",
    "- hyper_speed, Type: Float64 (drop)\n",
    "- home_score_diff, Type: Int64 (drop)\n",
    "- bat_score_diff, Type: Int64 (drop)\n",
    "- home_win_exp, Type: Float64 (drop)\n",
    "- bat_win_exp, Type: Float64 (maybe)\n",
    "- age_pit_legacy, Type: Int64 (drop)\n",
    "- age_bat_legacy, Type: Int64 (drop)\n",
    "- age_pit, Type: Int64 (drop)\n",
    "- age_bat, Type: Int64 (drop)\n",
    "- n_thruorder_pitcher, Type: Int64 (need)\n",
    "- n_priorpa_thisgame_player_at_bat, Type: Int64 (need)\n",
    "- pitcher_days_since_prev_game, Type: Int64 (need)\n",
    "- batter_days_since_prev_game, Type: Int64 (drop)\n",
    "- pitcher_days_until_next_game, Type: Int64 (drop)\n",
    "- batter_days_until_next_game, Type: Int64 (drop)\n",
    "- api_break_z_with_gravity, Type: Float64 (need)\n",
    "- api_break_x_arm, Type: Float64 (need)\n",
    "- api_break_x_batter_in, Type: Float64 (need)\n",
    "- arm_angle, Type: String (drop, too many nulls)"
   ]
  },
  {
   "cell_type": "code",
   "execution_count": 5,
   "id": "208a80b6",
   "metadata": {},
   "outputs": [],
   "source": [
    "KEEP_COLS = [\n",
    "    \"pitch_type\",\n",
    "    \"game_date\",\n",
    "    \"release_speed\",\n",
    "    \"release_pos_x\",\n",
    "    \"release_pos_y\",\n",
    "    \"release_pos_z\",\n",
    "    \"player_name\",\n",
    "    \"events\",\n",
    "    \"zone\",\n",
    "    \"stand\",\n",
    "    \"p_throws\",\n",
    "    \"type\",\n",
    "    \"hit_location\",\n",
    "    \"bb_type\",\n",
    "    \"balls\",\n",
    "    \"strikes\",\n",
    "    \"pfx_x\",\n",
    "    \"pfx_z\",\n",
    "    \"plate_x\",\n",
    "    \"plate_z\",\n",
    "    \"on_3b\",\n",
    "    \"on_2b\",\n",
    "    \"on_1b\",\n",
    "    \"outs_when_up\",\n",
    "    \"inning\",\n",
    "    \"vx0\",\n",
    "    \"vy0\",\n",
    "    \"vz0\",\n",
    "    \"ax\",\n",
    "    \"ay\",\n",
    "    \"az\",\n",
    "    \"sz_top\",\n",
    "    \"sz_bot\",\n",
    "    \"hit_distance_sc\",\n",
    "    \"launch_speed\",\n",
    "    \"launch_angle\",\n",
    "    \"effective_speed\",\n",
    "    \"release_spin_rate\",\n",
    "    \"release_extension\",\n",
    "    \"at_bat_number\",\n",
    "    \"pitch_number\",\n",
    "    \"bat_score\",\n",
    "    \"fld_score\",\n",
    "    \"spin_axis\",\n",
    "    \"n_thruorder_pitcher\",\n",
    "    \"n_priorpa_thisgame_player_at_bat\",\n",
    "    \"pitcher_days_since_prev_game\",\n",
    "    \"api_break_z_with_gravity\",\n",
    "    \"api_break_x_arm\",\n",
    "    \"api_break_x_batter_in\",\n",
    "]"
   ]
  },
  {
   "cell_type": "code",
   "execution_count": 6,
   "id": "4e2f574b",
   "metadata": {},
   "outputs": [],
   "source": [
    "df = df.select(KEEP_COLS)"
   ]
  },
  {
   "cell_type": "code",
   "execution_count": 7,
   "id": "0319405a",
   "metadata": {},
   "outputs": [
    {
     "data": {
      "text/html": [
       "<div><style>\n",
       ".dataframe > thead > tr,\n",
       ".dataframe > tbody > tr {\n",
       "  text-align: right;\n",
       "  white-space: pre-wrap;\n",
       "}\n",
       "</style>\n",
       "<small>shape: (9, 2)</small><table border=\"1\" class=\"dataframe\"><thead><tr><th>statistic</th><th>pitch_type</th></tr><tr><td>str</td><td>str</td></tr></thead><tbody><tr><td>&quot;count&quot;</td><td>&quot;29673&quot;</td></tr><tr><td>&quot;null_count&quot;</td><td>&quot;63&quot;</td></tr><tr><td>&quot;mean&quot;</td><td>null</td></tr><tr><td>&quot;std&quot;</td><td>null</td></tr><tr><td>&quot;min&quot;</td><td>&quot;CH&quot;</td></tr><tr><td>&quot;25%&quot;</td><td>null</td></tr><tr><td>&quot;50%&quot;</td><td>null</td></tr><tr><td>&quot;75%&quot;</td><td>null</td></tr><tr><td>&quot;max&quot;</td><td>&quot;SL&quot;</td></tr></tbody></table></div>"
      ],
      "text/plain": [
       "shape: (9, 2)\n",
       "┌────────────┬────────────┐\n",
       "│ statistic  ┆ pitch_type │\n",
       "│ ---        ┆ ---        │\n",
       "│ str        ┆ str        │\n",
       "╞════════════╪════════════╡\n",
       "│ count      ┆ 29673      │\n",
       "│ null_count ┆ 63         │\n",
       "│ mean       ┆ null       │\n",
       "│ std        ┆ null       │\n",
       "│ min        ┆ CH         │\n",
       "│ 25%        ┆ null       │\n",
       "│ 50%        ┆ null       │\n",
       "│ 75%        ┆ null       │\n",
       "│ max        ┆ SL         │\n",
       "└────────────┴────────────┘"
      ]
     },
     "execution_count": 7,
     "metadata": {},
     "output_type": "execute_result"
    }
   ],
   "source": [
    "df.select(pl.col(\"pitch_type\")).describe()"
   ]
  },
  {
   "cell_type": "code",
   "execution_count": 8,
   "id": "77f8cf46",
   "metadata": {},
   "outputs": [],
   "source": [
    "df = df.drop_nulls(subset=[\"pitch_type\"])"
   ]
  },
  {
   "cell_type": "code",
   "execution_count": 9,
   "id": "5f1c95b6",
   "metadata": {},
   "outputs": [
    {
     "data": {
      "text/html": [
       "<div><style>\n",
       ".dataframe > thead > tr,\n",
       ".dataframe > tbody > tr {\n",
       "  text-align: right;\n",
       "  white-space: pre-wrap;\n",
       "}\n",
       "</style>\n",
       "<small>shape: (29_673, 50)</small><table border=\"1\" class=\"dataframe\"><thead><tr><th>pitch_type</th><th>game_date</th><th>release_speed</th><th>release_pos_x</th><th>release_pos_y</th><th>release_pos_z</th><th>player_name</th><th>events</th><th>zone</th><th>stand</th><th>p_throws</th><th>type</th><th>hit_location</th><th>bb_type</th><th>balls</th><th>strikes</th><th>pfx_x</th><th>pfx_z</th><th>plate_x</th><th>plate_z</th><th>on_3b</th><th>on_2b</th><th>on_1b</th><th>outs_when_up</th><th>inning</th><th>vx0</th><th>vy0</th><th>vz0</th><th>ax</th><th>ay</th><th>az</th><th>sz_top</th><th>sz_bot</th><th>hit_distance_sc</th><th>launch_speed</th><th>launch_angle</th><th>effective_speed</th><th>release_spin_rate</th><th>release_extension</th><th>at_bat_number</th><th>pitch_number</th><th>bat_score</th><th>fld_score</th><th>spin_axis</th><th>n_thruorder_pitcher</th><th>n_priorpa_thisgame_player_at_bat</th><th>pitcher_days_since_prev_game</th><th>api_break_z_with_gravity</th><th>api_break_x_arm</th><th>api_break_x_batter_in</th></tr><tr><td>str</td><td>str</td><td>f64</td><td>f64</td><td>f64</td><td>f64</td><td>str</td><td>str</td><td>i64</td><td>str</td><td>str</td><td>str</td><td>i64</td><td>str</td><td>i64</td><td>i64</td><td>f64</td><td>f64</td><td>f64</td><td>f64</td><td>str</td><td>i64</td><td>i64</td><td>i64</td><td>i64</td><td>f64</td><td>f64</td><td>f64</td><td>f64</td><td>f64</td><td>f64</td><td>f64</td><td>f64</td><td>i64</td><td>f64</td><td>i64</td><td>f64</td><td>i64</td><td>f64</td><td>i64</td><td>i64</td><td>i64</td><td>i64</td><td>str</td><td>i64</td><td>i64</td><td>i64</td><td>f64</td><td>f64</td><td>f64</td></tr></thead><tbody><tr><td>&quot;FF&quot;</td><td>&quot;2015-07-14&quot;</td><td>95.7</td><td>-2.42</td><td>54.5</td><td>5.75</td><td>&quot;Cole, Gerrit&quot;</td><td>&quot;field_out&quot;</td><td>4</td><td>&quot;R&quot;</td><td>&quot;R&quot;</td><td>&quot;X&quot;</td><td>8</td><td>&quot;line_drive&quot;</td><td>1</td><td>0</td><td>-0.79</td><td>1.17</td><td>-0.31</td><td>2.29</td><td>null</td><td>null</td><td>518626</td><td>2</td><td>3</td><td>7.662212</td><td>-140.056879</td><td>-5.546647</td><td>-11.76</td><td>31.287</td><td>-16.106</td><td>3.37</td><td>1.59</td><td>340</td><td>106.0</td><td>16</td><td>95.7</td><td>2183</td><td>6.5</td><td>20</td><td>2</td><td>1</td><td>1</td><td>null</td><td>1</td><td>1</td><td>null</td><td>1.36</td><td>0.79</td><td>0.79</td></tr><tr><td>&quot;FF&quot;</td><td>&quot;2015-07-14&quot;</td><td>95.7</td><td>-2.48</td><td>54.5</td><td>5.69</td><td>&quot;Cole, Gerrit&quot;</td><td>null</td><td>12</td><td>&quot;R&quot;</td><td>&quot;R&quot;</td><td>&quot;B&quot;</td><td>null</td><td>null</td><td>0</td><td>0</td><td>-0.78</td><td>0.91</td><td>1.06</td><td>3.34</td><td>null</td><td>null</td><td>518626</td><td>2</td><td>3</td><td>11.354314</td><td>-139.769222</td><td>-1.942855</td><td>-12.238</td><td>28.457</td><td>-20.127</td><td>3.37</td><td>1.59</td><td>null</td><td>null</td><td>null</td><td>96.7</td><td>1956</td><td>7.0</td><td>20</td><td>1</td><td>1</td><td>1</td><td>null</td><td>1</td><td>1</td><td>null</td><td>1.61</td><td>0.78</td><td>0.78</td></tr><tr><td>&quot;FF&quot;</td><td>&quot;2015-07-14&quot;</td><td>96.2</td><td>-2.39</td><td>54.5</td><td>5.72</td><td>&quot;Cole, Gerrit&quot;</td><td>&quot;walk&quot;</td><td>14</td><td>&quot;R&quot;</td><td>&quot;R&quot;</td><td>&quot;B&quot;</td><td>null</td><td>null</td><td>3</td><td>2</td><td>-0.78</td><td>1.22</td><td>1.56</td><td>1.76</td><td>null</td><td>null</td><td>null</td><td>2</td><td>3</td><td>12.504157</td><td>-140.245457</td><td>-7.085497</td><td>-12.524</td><td>28.19</td><td>-15.051</td><td>3.48</td><td>1.59</td><td>null</td><td>null</td><td>null</td><td>97.1</td><td>2194</td><td>6.9</td><td>19</td><td>6</td><td>1</td><td>1</td><td>null</td><td>1</td><td>1</td><td>null</td><td>1.28</td><td>0.78</td><td>0.78</td></tr><tr><td>&quot;SI&quot;</td><td>&quot;2015-07-14&quot;</td><td>97.2</td><td>-2.45</td><td>54.5</td><td>5.8</td><td>&quot;Cole, Gerrit&quot;</td><td>null</td><td>11</td><td>&quot;R&quot;</td><td>&quot;R&quot;</td><td>&quot;B&quot;</td><td>null</td><td>null</td><td>2</td><td>2</td><td>-0.9</td><td>0.75</td><td>-0.52</td><td>4.7</td><td>null</td><td>null</td><td>null</td><td>2</td><td>3</td><td>7.570725</td><td>-142.250686</td><td>1.559001</td><td>-13.446</td><td>28.79</td><td>-22.561</td><td>3.48</td><td>1.59</td><td>null</td><td>null</td><td>null</td><td>98.5</td><td>2059</td><td>6.8</td><td>19</td><td>5</td><td>1</td><td>1</td><td>null</td><td>1</td><td>1</td><td>null</td><td>1.68</td><td>0.9</td><td>0.9</td></tr><tr><td>&quot;SI&quot;</td><td>&quot;2015-07-14&quot;</td><td>96.9</td><td>-2.48</td><td>54.5</td><td>5.65</td><td>&quot;Cole, Gerrit&quot;</td><td>null</td><td>13</td><td>&quot;R&quot;</td><td>&quot;R&quot;</td><td>&quot;B&quot;</td><td>null</td><td>null</td><td>1</td><td>2</td><td>-0.72</td><td>0.59</td><td>-1.93</td><td>1.91</td><td>null</td><td>null</td><td>null</td><td>2</td><td>3</td><td>3.403575</td><td>-141.949472</td><td>-5.008095</td><td>-10.171</td><td>31.448</td><td>-23.289</td><td>3.48</td><td>1.59</td><td>null</td><td>null</td><td>null</td><td>97.0</td><td>2168</td><td>6.4</td><td>19</td><td>4</td><td>1</td><td>1</td><td>null</td><td>1</td><td>1</td><td>null</td><td>1.86</td><td>0.72</td><td>0.72</td></tr><tr><td>&hellip;</td><td>&hellip;</td><td>&hellip;</td><td>&hellip;</td><td>&hellip;</td><td>&hellip;</td><td>&hellip;</td><td>&hellip;</td><td>&hellip;</td><td>&hellip;</td><td>&hellip;</td><td>&hellip;</td><td>&hellip;</td><td>&hellip;</td><td>&hellip;</td><td>&hellip;</td><td>&hellip;</td><td>&hellip;</td><td>&hellip;</td><td>&hellip;</td><td>&hellip;</td><td>&hellip;</td><td>&hellip;</td><td>&hellip;</td><td>&hellip;</td><td>&hellip;</td><td>&hellip;</td><td>&hellip;</td><td>&hellip;</td><td>&hellip;</td><td>&hellip;</td><td>&hellip;</td><td>&hellip;</td><td>&hellip;</td><td>&hellip;</td><td>&hellip;</td><td>&hellip;</td><td>&hellip;</td><td>&hellip;</td><td>&hellip;</td><td>&hellip;</td><td>&hellip;</td><td>&hellip;</td><td>&hellip;</td><td>&hellip;</td><td>&hellip;</td><td>&hellip;</td><td>&hellip;</td><td>&hellip;</td><td>&hellip;</td></tr><tr><td>&quot;FC&quot;</td><td>&quot;2024-10-05&quot;</td><td>92.1</td><td>-2.34</td><td>54.48</td><td>6.16</td><td>&quot;Cole, Gerrit&quot;</td><td>null</td><td>5</td><td>&quot;L&quot;</td><td>&quot;R&quot;</td><td>&quot;S&quot;</td><td>null</td><td>null</td><td>0</td><td>0</td><td>0.26</td><td>0.71</td><td>0.13</td><td>2.52</td><td>null</td><td>null</td><td>null</td><td>2</td><td>1</td><td>5.672301</td><td>-133.950565</td><td>-4.870681</td><td>1.740305</td><td>32.370217</td><td>-22.748953</td><td>3.35</td><td>1.71</td><td>null</td><td>null</td><td>null</td><td>91.2</td><td>2685</td><td>6.0</td><td>3</td><td>1</td><td>0</td><td>0</td><td>&quot;172&quot;</td><td>1</td><td>0</td><td>9</td><td>2.01</td><td>-0.26</td><td>0.26</td></tr><tr><td>&quot;FF&quot;</td><td>&quot;2024-10-05&quot;</td><td>95.1</td><td>-2.11</td><td>54.41</td><td>6.2</td><td>&quot;Cole, Gerrit&quot;</td><td>&quot;field_out&quot;</td><td>2</td><td>&quot;R&quot;</td><td>&quot;R&quot;</td><td>&quot;X&quot;</td><td>8</td><td>&quot;fly_ball&quot;</td><td>1</td><td>1</td><td>-0.36</td><td>1.41</td><td>0.11</td><td>3.52</td><td>null</td><td>null</td><td>null</td><td>1</td><td>1</td><td>6.618599</td><td>-138.273188</td><td>-4.454399</td><td>-6.235999</td><td>34.232539</td><td>-13.326961</td><td>3.51</td><td>1.63</td><td>396</td><td>108.4</td><td>22</td><td>94.3</td><td>2310</td><td>6.1</td><td>2</td><td>3</td><td>0</td><td>0</td><td>&quot;208&quot;</td><td>1</td><td>0</td><td>9</td><td>1.14</td><td>0.36</td><td>0.36</td></tr><tr><td>&quot;KC&quot;</td><td>&quot;2024-10-05&quot;</td><td>82.1</td><td>-2.06</td><td>54.49</td><td>6.19</td><td>&quot;Cole, Gerrit&quot;</td><td>null</td><td>14</td><td>&quot;R&quot;</td><td>&quot;R&quot;</td><td>&quot;B&quot;</td><td>null</td><td>null</td><td>0</td><td>1</td><td>0.63</td><td>-1.47</td><td>0.06</td><td>0.49</td><td>null</td><td>null</td><td>null</td><td>1</td><td>1</td><td>3.534958</td><td>-119.413956</td><td>-3.345334</td><td>5.143649</td><td>28.071677</td><td>-45.440479</td><td>3.43</td><td>1.63</td><td>null</td><td>null</td><td>null</td><td>80.9</td><td>2771</td><td>6.0</td><td>2</td><td>2</td><td>0</td><td>0</td><td>&quot;33&quot;</td><td>1</td><td>0</td><td>9</td><td>4.91</td><td>-0.63</td><td>-0.63</td></tr><tr><td>&quot;SL&quot;</td><td>&quot;2024-10-05&quot;</td><td>88.9</td><td>-2.29</td><td>54.52</td><td>6.19</td><td>&quot;Cole, Gerrit&quot;</td><td>null</td><td>4</td><td>&quot;R&quot;</td><td>&quot;R&quot;</td><td>&quot;S&quot;</td><td>null</td><td>null</td><td>0</td><td>0</td><td>0.55</td><td>0.24</td><td>-0.35</td><td>2.23</td><td>null</td><td>null</td><td>null</td><td>1</td><td>1</td><td>3.591849</td><td>-129.552365</td><td>-4.184211</td><td>5.480068</td><td>25.738812</td><td>-28.859728</td><td>3.46</td><td>1.61</td><td>null</td><td>null</td><td>null</td><td>88.7</td><td>2623</td><td>6.0</td><td>2</td><td>1</td><td>0</td><td>0</td><td>&quot;134&quot;</td><td>1</td><td>0</td><td>9</td><td>2.63</td><td>-0.55</td><td>-0.55</td></tr><tr><td>&quot;FF&quot;</td><td>&quot;2024-10-05&quot;</td><td>96.2</td><td>-2.16</td><td>54.51</td><td>6.19</td><td>&quot;Cole, Gerrit&quot;</td><td>&quot;field_out&quot;</td><td>6</td><td>&quot;L&quot;</td><td>&quot;R&quot;</td><td>&quot;X&quot;</td><td>9</td><td>&quot;fly_ball&quot;</td><td>0</td><td>0</td><td>-0.36</td><td>1.38</td><td>0.35</td><td>2.51</td><td>null</td><td>null</td><td>null</td><td>0</td><td>1</td><td>7.442987</td><td>-139.754958</td><td>-7.215709</td><td>-6.492477</td><td>33.349223</td><td>-12.608229</td><td>3.35</td><td>1.57</td><td>351</td><td>102.5</td><td>42</td><td>95.3</td><td>2476</td><td>6.0</td><td>1</td><td>1</td><td>0</td><td>0</td><td>&quot;203&quot;</td><td>1</td><td>0</td><td>9</td><td>1.1</td><td>0.36</td><td>-0.36</td></tr></tbody></table></div>"
      ],
      "text/plain": [
       "shape: (29_673, 50)\n",
       "┌───────────┬───────────┬───────────┬───────────┬───┬───────────┬───────────┬───────────┬──────────┐\n",
       "│ pitch_typ ┆ game_date ┆ release_s ┆ release_p ┆ … ┆ pitcher_d ┆ api_break ┆ api_break ┆ api_brea │\n",
       "│ e         ┆ ---       ┆ peed      ┆ os_x      ┆   ┆ ays_since ┆ _z_with_g ┆ _x_arm    ┆ k_x_batt │\n",
       "│ ---       ┆ str       ┆ ---       ┆ ---       ┆   ┆ _prev_gam ┆ ravity    ┆ ---       ┆ er_in    │\n",
       "│ str       ┆           ┆ f64       ┆ f64       ┆   ┆ e         ┆ ---       ┆ f64       ┆ ---      │\n",
       "│           ┆           ┆           ┆           ┆   ┆ ---       ┆ f64       ┆           ┆ f64      │\n",
       "│           ┆           ┆           ┆           ┆   ┆ i64       ┆           ┆           ┆          │\n",
       "╞═══════════╪═══════════╪═══════════╪═══════════╪═══╪═══════════╪═══════════╪═══════════╪══════════╡\n",
       "│ FF        ┆ 2015-07-1 ┆ 95.7      ┆ -2.42     ┆ … ┆ null      ┆ 1.36      ┆ 0.79      ┆ 0.79     │\n",
       "│           ┆ 4         ┆           ┆           ┆   ┆           ┆           ┆           ┆          │\n",
       "│ FF        ┆ 2015-07-1 ┆ 95.7      ┆ -2.48     ┆ … ┆ null      ┆ 1.61      ┆ 0.78      ┆ 0.78     │\n",
       "│           ┆ 4         ┆           ┆           ┆   ┆           ┆           ┆           ┆          │\n",
       "│ FF        ┆ 2015-07-1 ┆ 96.2      ┆ -2.39     ┆ … ┆ null      ┆ 1.28      ┆ 0.78      ┆ 0.78     │\n",
       "│           ┆ 4         ┆           ┆           ┆   ┆           ┆           ┆           ┆          │\n",
       "│ SI        ┆ 2015-07-1 ┆ 97.2      ┆ -2.45     ┆ … ┆ null      ┆ 1.68      ┆ 0.9       ┆ 0.9      │\n",
       "│           ┆ 4         ┆           ┆           ┆   ┆           ┆           ┆           ┆          │\n",
       "│ SI        ┆ 2015-07-1 ┆ 96.9      ┆ -2.48     ┆ … ┆ null      ┆ 1.86      ┆ 0.72      ┆ 0.72     │\n",
       "│           ┆ 4         ┆           ┆           ┆   ┆           ┆           ┆           ┆          │\n",
       "│ …         ┆ …         ┆ …         ┆ …         ┆ … ┆ …         ┆ …         ┆ …         ┆ …        │\n",
       "│ FC        ┆ 2024-10-0 ┆ 92.1      ┆ -2.34     ┆ … ┆ 9         ┆ 2.01      ┆ -0.26     ┆ 0.26     │\n",
       "│           ┆ 5         ┆           ┆           ┆   ┆           ┆           ┆           ┆          │\n",
       "│ FF        ┆ 2024-10-0 ┆ 95.1      ┆ -2.11     ┆ … ┆ 9         ┆ 1.14      ┆ 0.36      ┆ 0.36     │\n",
       "│           ┆ 5         ┆           ┆           ┆   ┆           ┆           ┆           ┆          │\n",
       "│ KC        ┆ 2024-10-0 ┆ 82.1      ┆ -2.06     ┆ … ┆ 9         ┆ 4.91      ┆ -0.63     ┆ -0.63    │\n",
       "│           ┆ 5         ┆           ┆           ┆   ┆           ┆           ┆           ┆          │\n",
       "│ SL        ┆ 2024-10-0 ┆ 88.9      ┆ -2.29     ┆ … ┆ 9         ┆ 2.63      ┆ -0.55     ┆ -0.55    │\n",
       "│           ┆ 5         ┆           ┆           ┆   ┆           ┆           ┆           ┆          │\n",
       "│ FF        ┆ 2024-10-0 ┆ 96.2      ┆ -2.16     ┆ … ┆ 9         ┆ 1.1       ┆ 0.36      ┆ -0.36    │\n",
       "│           ┆ 5         ┆           ┆           ┆   ┆           ┆           ┆           ┆          │\n",
       "└───────────┴───────────┴───────────┴───────────┴───┴───────────┴───────────┴───────────┴──────────┘"
      ]
     },
     "execution_count": 9,
     "metadata": {},
     "output_type": "execute_result"
    }
   ],
   "source": [
    "df"
   ]
  },
  {
   "cell_type": "markdown",
   "id": "ac71631f",
   "metadata": {},
   "source": [
    "create a mapping between the pitch code and the pitch name"
   ]
  },
  {
   "cell_type": "code",
   "execution_count": 10,
   "id": "43b641f6",
   "metadata": {},
   "outputs": [],
   "source": [
    "# convert rarest classes to \"other\"\n",
    "rare_pitch_types = (\n",
    "    df.select(pl.col(\"pitch_type\").value_counts(normalize=True))\n",
    "    .unnest(columns=[\"pitch_type\"])\n",
    "    .filter(pl.col(\"proportion\") < 0.03)\n",
    "    .select(pl.col(\"pitch_type\"))\n",
    "    .to_series()\n",
    "    .to_list()\n",
    ")\n",
    "df = df.with_columns(\n",
    "    pl.when(pl.col(\"pitch_type\").is_in(rare_pitch_types))\n",
    "    .then(pl.lit(\"other\"))\n",
    "    .otherwise(pl.col(\"pitch_type\"))\n",
    "    .alias(\"pitch_type\")\n",
    ")"
   ]
  },
  {
   "cell_type": "code",
   "execution_count": 11,
   "id": "98f8280b",
   "metadata": {},
   "outputs": [
    {
     "name": "stdout",
     "output_type": "stream",
     "text": [
      "Pitch type mapping:\n",
      "CH: 0\n",
      "FF: 1\n",
      "KC: 2\n",
      "SI: 3\n",
      "SL: 4\n",
      "other: 5\n"
     ]
    }
   ],
   "source": [
    "# Get unique pitch types and create a mapping dictionary\n",
    "unique_pitches = df.select(pl.col(\"pitch_type\")).unique().to_series().sort()\n",
    "pitch_to_int = {pitch: i for i, pitch in enumerate(unique_pitches)}\n",
    "int_to_pitch = {i: pitch for pitch, i in pitch_to_int.items()}\n",
    "\n",
    "# Print the mapping for reference\n",
    "print(\"Pitch type mapping:\")\n",
    "for pitch, code in pitch_to_int.items():\n",
    "    print(f\"{pitch}: {code}\")\n",
    "\n",
    "# Create a new column with integer codes\n",
    "df = df.with_columns(\n",
    "    pl.col(\"pitch_type\").replace_strict(pitch_to_int).alias(\"pitch_type_code\")\n",
    ")\n",
    "\n",
    "# Show the result\n",
    "df.select([\"pitch_type\", \"pitch_type_code\"]).head()\n",
    "df = df.drop(\"pitch_type\")"
   ]
  },
  {
   "cell_type": "code",
   "execution_count": 12,
   "id": "c801e9d7",
   "metadata": {},
   "outputs": [
    {
     "data": {
      "text/html": [
       "<div><style>\n",
       ".dataframe > thead > tr,\n",
       ".dataframe > tbody > tr {\n",
       "  text-align: right;\n",
       "  white-space: pre-wrap;\n",
       "}\n",
       "</style>\n",
       "<small>shape: (29_673, 50)</small><table border=\"1\" class=\"dataframe\"><thead><tr><th>game_date</th><th>release_speed</th><th>release_pos_x</th><th>release_pos_y</th><th>release_pos_z</th><th>player_name</th><th>events</th><th>zone</th><th>stand</th><th>p_throws</th><th>type</th><th>hit_location</th><th>bb_type</th><th>balls</th><th>strikes</th><th>pfx_x</th><th>pfx_z</th><th>plate_x</th><th>plate_z</th><th>on_3b</th><th>on_2b</th><th>on_1b</th><th>outs_when_up</th><th>inning</th><th>vx0</th><th>vy0</th><th>vz0</th><th>ax</th><th>ay</th><th>az</th><th>sz_top</th><th>sz_bot</th><th>hit_distance_sc</th><th>launch_speed</th><th>launch_angle</th><th>effective_speed</th><th>release_spin_rate</th><th>release_extension</th><th>at_bat_number</th><th>pitch_number</th><th>bat_score</th><th>fld_score</th><th>spin_axis</th><th>n_thruorder_pitcher</th><th>n_priorpa_thisgame_player_at_bat</th><th>pitcher_days_since_prev_game</th><th>api_break_z_with_gravity</th><th>api_break_x_arm</th><th>api_break_x_batter_in</th><th>pitch_type_code</th></tr><tr><td>str</td><td>f64</td><td>f64</td><td>f64</td><td>f64</td><td>str</td><td>str</td><td>i64</td><td>str</td><td>str</td><td>str</td><td>i64</td><td>str</td><td>i64</td><td>i64</td><td>f64</td><td>f64</td><td>f64</td><td>f64</td><td>str</td><td>i64</td><td>i64</td><td>i64</td><td>i64</td><td>f64</td><td>f64</td><td>f64</td><td>f64</td><td>f64</td><td>f64</td><td>f64</td><td>f64</td><td>i64</td><td>f64</td><td>i64</td><td>f64</td><td>i64</td><td>f64</td><td>i64</td><td>i64</td><td>i64</td><td>i64</td><td>str</td><td>i64</td><td>i64</td><td>i64</td><td>f64</td><td>f64</td><td>f64</td><td>i64</td></tr></thead><tbody><tr><td>&quot;2015-07-14&quot;</td><td>95.7</td><td>-2.42</td><td>54.5</td><td>5.75</td><td>&quot;Cole, Gerrit&quot;</td><td>&quot;field_out&quot;</td><td>4</td><td>&quot;R&quot;</td><td>&quot;R&quot;</td><td>&quot;X&quot;</td><td>8</td><td>&quot;line_drive&quot;</td><td>1</td><td>0</td><td>-0.79</td><td>1.17</td><td>-0.31</td><td>2.29</td><td>null</td><td>null</td><td>518626</td><td>2</td><td>3</td><td>7.662212</td><td>-140.056879</td><td>-5.546647</td><td>-11.76</td><td>31.287</td><td>-16.106</td><td>3.37</td><td>1.59</td><td>340</td><td>106.0</td><td>16</td><td>95.7</td><td>2183</td><td>6.5</td><td>20</td><td>2</td><td>1</td><td>1</td><td>null</td><td>1</td><td>1</td><td>null</td><td>1.36</td><td>0.79</td><td>0.79</td><td>1</td></tr><tr><td>&quot;2015-07-14&quot;</td><td>95.7</td><td>-2.48</td><td>54.5</td><td>5.69</td><td>&quot;Cole, Gerrit&quot;</td><td>null</td><td>12</td><td>&quot;R&quot;</td><td>&quot;R&quot;</td><td>&quot;B&quot;</td><td>null</td><td>null</td><td>0</td><td>0</td><td>-0.78</td><td>0.91</td><td>1.06</td><td>3.34</td><td>null</td><td>null</td><td>518626</td><td>2</td><td>3</td><td>11.354314</td><td>-139.769222</td><td>-1.942855</td><td>-12.238</td><td>28.457</td><td>-20.127</td><td>3.37</td><td>1.59</td><td>null</td><td>null</td><td>null</td><td>96.7</td><td>1956</td><td>7.0</td><td>20</td><td>1</td><td>1</td><td>1</td><td>null</td><td>1</td><td>1</td><td>null</td><td>1.61</td><td>0.78</td><td>0.78</td><td>1</td></tr><tr><td>&quot;2015-07-14&quot;</td><td>96.2</td><td>-2.39</td><td>54.5</td><td>5.72</td><td>&quot;Cole, Gerrit&quot;</td><td>&quot;walk&quot;</td><td>14</td><td>&quot;R&quot;</td><td>&quot;R&quot;</td><td>&quot;B&quot;</td><td>null</td><td>null</td><td>3</td><td>2</td><td>-0.78</td><td>1.22</td><td>1.56</td><td>1.76</td><td>null</td><td>null</td><td>null</td><td>2</td><td>3</td><td>12.504157</td><td>-140.245457</td><td>-7.085497</td><td>-12.524</td><td>28.19</td><td>-15.051</td><td>3.48</td><td>1.59</td><td>null</td><td>null</td><td>null</td><td>97.1</td><td>2194</td><td>6.9</td><td>19</td><td>6</td><td>1</td><td>1</td><td>null</td><td>1</td><td>1</td><td>null</td><td>1.28</td><td>0.78</td><td>0.78</td><td>1</td></tr><tr><td>&quot;2015-07-14&quot;</td><td>97.2</td><td>-2.45</td><td>54.5</td><td>5.8</td><td>&quot;Cole, Gerrit&quot;</td><td>null</td><td>11</td><td>&quot;R&quot;</td><td>&quot;R&quot;</td><td>&quot;B&quot;</td><td>null</td><td>null</td><td>2</td><td>2</td><td>-0.9</td><td>0.75</td><td>-0.52</td><td>4.7</td><td>null</td><td>null</td><td>null</td><td>2</td><td>3</td><td>7.570725</td><td>-142.250686</td><td>1.559001</td><td>-13.446</td><td>28.79</td><td>-22.561</td><td>3.48</td><td>1.59</td><td>null</td><td>null</td><td>null</td><td>98.5</td><td>2059</td><td>6.8</td><td>19</td><td>5</td><td>1</td><td>1</td><td>null</td><td>1</td><td>1</td><td>null</td><td>1.68</td><td>0.9</td><td>0.9</td><td>3</td></tr><tr><td>&quot;2015-07-14&quot;</td><td>96.9</td><td>-2.48</td><td>54.5</td><td>5.65</td><td>&quot;Cole, Gerrit&quot;</td><td>null</td><td>13</td><td>&quot;R&quot;</td><td>&quot;R&quot;</td><td>&quot;B&quot;</td><td>null</td><td>null</td><td>1</td><td>2</td><td>-0.72</td><td>0.59</td><td>-1.93</td><td>1.91</td><td>null</td><td>null</td><td>null</td><td>2</td><td>3</td><td>3.403575</td><td>-141.949472</td><td>-5.008095</td><td>-10.171</td><td>31.448</td><td>-23.289</td><td>3.48</td><td>1.59</td><td>null</td><td>null</td><td>null</td><td>97.0</td><td>2168</td><td>6.4</td><td>19</td><td>4</td><td>1</td><td>1</td><td>null</td><td>1</td><td>1</td><td>null</td><td>1.86</td><td>0.72</td><td>0.72</td><td>3</td></tr><tr><td>&hellip;</td><td>&hellip;</td><td>&hellip;</td><td>&hellip;</td><td>&hellip;</td><td>&hellip;</td><td>&hellip;</td><td>&hellip;</td><td>&hellip;</td><td>&hellip;</td><td>&hellip;</td><td>&hellip;</td><td>&hellip;</td><td>&hellip;</td><td>&hellip;</td><td>&hellip;</td><td>&hellip;</td><td>&hellip;</td><td>&hellip;</td><td>&hellip;</td><td>&hellip;</td><td>&hellip;</td><td>&hellip;</td><td>&hellip;</td><td>&hellip;</td><td>&hellip;</td><td>&hellip;</td><td>&hellip;</td><td>&hellip;</td><td>&hellip;</td><td>&hellip;</td><td>&hellip;</td><td>&hellip;</td><td>&hellip;</td><td>&hellip;</td><td>&hellip;</td><td>&hellip;</td><td>&hellip;</td><td>&hellip;</td><td>&hellip;</td><td>&hellip;</td><td>&hellip;</td><td>&hellip;</td><td>&hellip;</td><td>&hellip;</td><td>&hellip;</td><td>&hellip;</td><td>&hellip;</td><td>&hellip;</td><td>&hellip;</td></tr><tr><td>&quot;2024-10-05&quot;</td><td>92.1</td><td>-2.34</td><td>54.48</td><td>6.16</td><td>&quot;Cole, Gerrit&quot;</td><td>null</td><td>5</td><td>&quot;L&quot;</td><td>&quot;R&quot;</td><td>&quot;S&quot;</td><td>null</td><td>null</td><td>0</td><td>0</td><td>0.26</td><td>0.71</td><td>0.13</td><td>2.52</td><td>null</td><td>null</td><td>null</td><td>2</td><td>1</td><td>5.672301</td><td>-133.950565</td><td>-4.870681</td><td>1.740305</td><td>32.370217</td><td>-22.748953</td><td>3.35</td><td>1.71</td><td>null</td><td>null</td><td>null</td><td>91.2</td><td>2685</td><td>6.0</td><td>3</td><td>1</td><td>0</td><td>0</td><td>&quot;172&quot;</td><td>1</td><td>0</td><td>9</td><td>2.01</td><td>-0.26</td><td>0.26</td><td>5</td></tr><tr><td>&quot;2024-10-05&quot;</td><td>95.1</td><td>-2.11</td><td>54.41</td><td>6.2</td><td>&quot;Cole, Gerrit&quot;</td><td>&quot;field_out&quot;</td><td>2</td><td>&quot;R&quot;</td><td>&quot;R&quot;</td><td>&quot;X&quot;</td><td>8</td><td>&quot;fly_ball&quot;</td><td>1</td><td>1</td><td>-0.36</td><td>1.41</td><td>0.11</td><td>3.52</td><td>null</td><td>null</td><td>null</td><td>1</td><td>1</td><td>6.618599</td><td>-138.273188</td><td>-4.454399</td><td>-6.235999</td><td>34.232539</td><td>-13.326961</td><td>3.51</td><td>1.63</td><td>396</td><td>108.4</td><td>22</td><td>94.3</td><td>2310</td><td>6.1</td><td>2</td><td>3</td><td>0</td><td>0</td><td>&quot;208&quot;</td><td>1</td><td>0</td><td>9</td><td>1.14</td><td>0.36</td><td>0.36</td><td>1</td></tr><tr><td>&quot;2024-10-05&quot;</td><td>82.1</td><td>-2.06</td><td>54.49</td><td>6.19</td><td>&quot;Cole, Gerrit&quot;</td><td>null</td><td>14</td><td>&quot;R&quot;</td><td>&quot;R&quot;</td><td>&quot;B&quot;</td><td>null</td><td>null</td><td>0</td><td>1</td><td>0.63</td><td>-1.47</td><td>0.06</td><td>0.49</td><td>null</td><td>null</td><td>null</td><td>1</td><td>1</td><td>3.534958</td><td>-119.413956</td><td>-3.345334</td><td>5.143649</td><td>28.071677</td><td>-45.440479</td><td>3.43</td><td>1.63</td><td>null</td><td>null</td><td>null</td><td>80.9</td><td>2771</td><td>6.0</td><td>2</td><td>2</td><td>0</td><td>0</td><td>&quot;33&quot;</td><td>1</td><td>0</td><td>9</td><td>4.91</td><td>-0.63</td><td>-0.63</td><td>2</td></tr><tr><td>&quot;2024-10-05&quot;</td><td>88.9</td><td>-2.29</td><td>54.52</td><td>6.19</td><td>&quot;Cole, Gerrit&quot;</td><td>null</td><td>4</td><td>&quot;R&quot;</td><td>&quot;R&quot;</td><td>&quot;S&quot;</td><td>null</td><td>null</td><td>0</td><td>0</td><td>0.55</td><td>0.24</td><td>-0.35</td><td>2.23</td><td>null</td><td>null</td><td>null</td><td>1</td><td>1</td><td>3.591849</td><td>-129.552365</td><td>-4.184211</td><td>5.480068</td><td>25.738812</td><td>-28.859728</td><td>3.46</td><td>1.61</td><td>null</td><td>null</td><td>null</td><td>88.7</td><td>2623</td><td>6.0</td><td>2</td><td>1</td><td>0</td><td>0</td><td>&quot;134&quot;</td><td>1</td><td>0</td><td>9</td><td>2.63</td><td>-0.55</td><td>-0.55</td><td>4</td></tr><tr><td>&quot;2024-10-05&quot;</td><td>96.2</td><td>-2.16</td><td>54.51</td><td>6.19</td><td>&quot;Cole, Gerrit&quot;</td><td>&quot;field_out&quot;</td><td>6</td><td>&quot;L&quot;</td><td>&quot;R&quot;</td><td>&quot;X&quot;</td><td>9</td><td>&quot;fly_ball&quot;</td><td>0</td><td>0</td><td>-0.36</td><td>1.38</td><td>0.35</td><td>2.51</td><td>null</td><td>null</td><td>null</td><td>0</td><td>1</td><td>7.442987</td><td>-139.754958</td><td>-7.215709</td><td>-6.492477</td><td>33.349223</td><td>-12.608229</td><td>3.35</td><td>1.57</td><td>351</td><td>102.5</td><td>42</td><td>95.3</td><td>2476</td><td>6.0</td><td>1</td><td>1</td><td>0</td><td>0</td><td>&quot;203&quot;</td><td>1</td><td>0</td><td>9</td><td>1.1</td><td>0.36</td><td>-0.36</td><td>1</td></tr></tbody></table></div>"
      ],
      "text/plain": [
       "shape: (29_673, 50)\n",
       "┌───────────┬───────────┬───────────┬───────────┬───┬───────────┬───────────┬───────────┬──────────┐\n",
       "│ game_date ┆ release_s ┆ release_p ┆ release_p ┆ … ┆ api_break ┆ api_break ┆ api_break ┆ pitch_ty │\n",
       "│ ---       ┆ peed      ┆ os_x      ┆ os_y      ┆   ┆ _z_with_g ┆ _x_arm    ┆ _x_batter ┆ pe_code  │\n",
       "│ str       ┆ ---       ┆ ---       ┆ ---       ┆   ┆ ravity    ┆ ---       ┆ _in       ┆ ---      │\n",
       "│           ┆ f64       ┆ f64       ┆ f64       ┆   ┆ ---       ┆ f64       ┆ ---       ┆ i64      │\n",
       "│           ┆           ┆           ┆           ┆   ┆ f64       ┆           ┆ f64       ┆          │\n",
       "╞═══════════╪═══════════╪═══════════╪═══════════╪═══╪═══════════╪═══════════╪═══════════╪══════════╡\n",
       "│ 2015-07-1 ┆ 95.7      ┆ -2.42     ┆ 54.5      ┆ … ┆ 1.36      ┆ 0.79      ┆ 0.79      ┆ 1        │\n",
       "│ 4         ┆           ┆           ┆           ┆   ┆           ┆           ┆           ┆          │\n",
       "│ 2015-07-1 ┆ 95.7      ┆ -2.48     ┆ 54.5      ┆ … ┆ 1.61      ┆ 0.78      ┆ 0.78      ┆ 1        │\n",
       "│ 4         ┆           ┆           ┆           ┆   ┆           ┆           ┆           ┆          │\n",
       "│ 2015-07-1 ┆ 96.2      ┆ -2.39     ┆ 54.5      ┆ … ┆ 1.28      ┆ 0.78      ┆ 0.78      ┆ 1        │\n",
       "│ 4         ┆           ┆           ┆           ┆   ┆           ┆           ┆           ┆          │\n",
       "│ 2015-07-1 ┆ 97.2      ┆ -2.45     ┆ 54.5      ┆ … ┆ 1.68      ┆ 0.9       ┆ 0.9       ┆ 3        │\n",
       "│ 4         ┆           ┆           ┆           ┆   ┆           ┆           ┆           ┆          │\n",
       "│ 2015-07-1 ┆ 96.9      ┆ -2.48     ┆ 54.5      ┆ … ┆ 1.86      ┆ 0.72      ┆ 0.72      ┆ 3        │\n",
       "│ 4         ┆           ┆           ┆           ┆   ┆           ┆           ┆           ┆          │\n",
       "│ …         ┆ …         ┆ …         ┆ …         ┆ … ┆ …         ┆ …         ┆ …         ┆ …        │\n",
       "│ 2024-10-0 ┆ 92.1      ┆ -2.34     ┆ 54.48     ┆ … ┆ 2.01      ┆ -0.26     ┆ 0.26      ┆ 5        │\n",
       "│ 5         ┆           ┆           ┆           ┆   ┆           ┆           ┆           ┆          │\n",
       "│ 2024-10-0 ┆ 95.1      ┆ -2.11     ┆ 54.41     ┆ … ┆ 1.14      ┆ 0.36      ┆ 0.36      ┆ 1        │\n",
       "│ 5         ┆           ┆           ┆           ┆   ┆           ┆           ┆           ┆          │\n",
       "│ 2024-10-0 ┆ 82.1      ┆ -2.06     ┆ 54.49     ┆ … ┆ 4.91      ┆ -0.63     ┆ -0.63     ┆ 2        │\n",
       "│ 5         ┆           ┆           ┆           ┆   ┆           ┆           ┆           ┆          │\n",
       "│ 2024-10-0 ┆ 88.9      ┆ -2.29     ┆ 54.52     ┆ … ┆ 2.63      ┆ -0.55     ┆ -0.55     ┆ 4        │\n",
       "│ 5         ┆           ┆           ┆           ┆   ┆           ┆           ┆           ┆          │\n",
       "│ 2024-10-0 ┆ 96.2      ┆ -2.16     ┆ 54.51     ┆ … ┆ 1.1       ┆ 0.36      ┆ -0.36     ┆ 1        │\n",
       "│ 5         ┆           ┆           ┆           ┆   ┆           ┆           ┆           ┆          │\n",
       "└───────────┴───────────┴───────────┴───────────┴───┴───────────┴───────────┴───────────┴──────────┘"
      ]
     },
     "execution_count": 12,
     "metadata": {},
     "output_type": "execute_result"
    }
   ],
   "source": [
    "df"
   ]
  },
  {
   "cell_type": "markdown",
   "id": "5962ed0f",
   "metadata": {},
   "source": [
    "convert game_date to datetime"
   ]
  },
  {
   "cell_type": "code",
   "execution_count": 13,
   "id": "c0f94403",
   "metadata": {},
   "outputs": [],
   "source": [
    "df = df.with_columns(\n",
    "    pl.col(\"game_date\").str.to_date(format=\"%Y-%m-%d\").alias(\"game_date\"),\n",
    ")"
   ]
  },
  {
   "cell_type": "code",
   "execution_count": 14,
   "id": "07d179f0",
   "metadata": {},
   "outputs": [
    {
     "data": {
      "text/html": [
       "<div><style>\n",
       ".dataframe > thead > tr,\n",
       ".dataframe > tbody > tr {\n",
       "  text-align: right;\n",
       "  white-space: pre-wrap;\n",
       "}\n",
       "</style>\n",
       "<small>shape: (29_673, 50)</small><table border=\"1\" class=\"dataframe\"><thead><tr><th>game_date</th><th>release_speed</th><th>release_pos_x</th><th>release_pos_y</th><th>release_pos_z</th><th>player_name</th><th>events</th><th>zone</th><th>stand</th><th>p_throws</th><th>type</th><th>hit_location</th><th>bb_type</th><th>balls</th><th>strikes</th><th>pfx_x</th><th>pfx_z</th><th>plate_x</th><th>plate_z</th><th>on_3b</th><th>on_2b</th><th>on_1b</th><th>outs_when_up</th><th>inning</th><th>vx0</th><th>vy0</th><th>vz0</th><th>ax</th><th>ay</th><th>az</th><th>sz_top</th><th>sz_bot</th><th>hit_distance_sc</th><th>launch_speed</th><th>launch_angle</th><th>effective_speed</th><th>release_spin_rate</th><th>release_extension</th><th>at_bat_number</th><th>pitch_number</th><th>bat_score</th><th>fld_score</th><th>spin_axis</th><th>n_thruorder_pitcher</th><th>n_priorpa_thisgame_player_at_bat</th><th>pitcher_days_since_prev_game</th><th>api_break_z_with_gravity</th><th>api_break_x_arm</th><th>api_break_x_batter_in</th><th>pitch_type_code</th></tr><tr><td>date</td><td>f64</td><td>f64</td><td>f64</td><td>f64</td><td>str</td><td>str</td><td>i64</td><td>str</td><td>str</td><td>str</td><td>i64</td><td>str</td><td>i64</td><td>i64</td><td>f64</td><td>f64</td><td>f64</td><td>f64</td><td>str</td><td>i64</td><td>i64</td><td>i64</td><td>i64</td><td>f64</td><td>f64</td><td>f64</td><td>f64</td><td>f64</td><td>f64</td><td>f64</td><td>f64</td><td>i64</td><td>f64</td><td>i64</td><td>f64</td><td>i64</td><td>f64</td><td>i64</td><td>i64</td><td>i64</td><td>i64</td><td>str</td><td>i64</td><td>i64</td><td>i64</td><td>f64</td><td>f64</td><td>f64</td><td>i64</td></tr></thead><tbody><tr><td>2015-07-14</td><td>95.7</td><td>-2.42</td><td>54.5</td><td>5.75</td><td>&quot;Cole, Gerrit&quot;</td><td>&quot;field_out&quot;</td><td>4</td><td>&quot;R&quot;</td><td>&quot;R&quot;</td><td>&quot;X&quot;</td><td>8</td><td>&quot;line_drive&quot;</td><td>1</td><td>0</td><td>-0.79</td><td>1.17</td><td>-0.31</td><td>2.29</td><td>null</td><td>null</td><td>518626</td><td>2</td><td>3</td><td>7.662212</td><td>-140.056879</td><td>-5.546647</td><td>-11.76</td><td>31.287</td><td>-16.106</td><td>3.37</td><td>1.59</td><td>340</td><td>106.0</td><td>16</td><td>95.7</td><td>2183</td><td>6.5</td><td>20</td><td>2</td><td>1</td><td>1</td><td>null</td><td>1</td><td>1</td><td>null</td><td>1.36</td><td>0.79</td><td>0.79</td><td>1</td></tr><tr><td>2015-07-14</td><td>95.7</td><td>-2.48</td><td>54.5</td><td>5.69</td><td>&quot;Cole, Gerrit&quot;</td><td>null</td><td>12</td><td>&quot;R&quot;</td><td>&quot;R&quot;</td><td>&quot;B&quot;</td><td>null</td><td>null</td><td>0</td><td>0</td><td>-0.78</td><td>0.91</td><td>1.06</td><td>3.34</td><td>null</td><td>null</td><td>518626</td><td>2</td><td>3</td><td>11.354314</td><td>-139.769222</td><td>-1.942855</td><td>-12.238</td><td>28.457</td><td>-20.127</td><td>3.37</td><td>1.59</td><td>null</td><td>null</td><td>null</td><td>96.7</td><td>1956</td><td>7.0</td><td>20</td><td>1</td><td>1</td><td>1</td><td>null</td><td>1</td><td>1</td><td>null</td><td>1.61</td><td>0.78</td><td>0.78</td><td>1</td></tr><tr><td>2015-07-14</td><td>96.2</td><td>-2.39</td><td>54.5</td><td>5.72</td><td>&quot;Cole, Gerrit&quot;</td><td>&quot;walk&quot;</td><td>14</td><td>&quot;R&quot;</td><td>&quot;R&quot;</td><td>&quot;B&quot;</td><td>null</td><td>null</td><td>3</td><td>2</td><td>-0.78</td><td>1.22</td><td>1.56</td><td>1.76</td><td>null</td><td>null</td><td>null</td><td>2</td><td>3</td><td>12.504157</td><td>-140.245457</td><td>-7.085497</td><td>-12.524</td><td>28.19</td><td>-15.051</td><td>3.48</td><td>1.59</td><td>null</td><td>null</td><td>null</td><td>97.1</td><td>2194</td><td>6.9</td><td>19</td><td>6</td><td>1</td><td>1</td><td>null</td><td>1</td><td>1</td><td>null</td><td>1.28</td><td>0.78</td><td>0.78</td><td>1</td></tr><tr><td>2015-07-14</td><td>97.2</td><td>-2.45</td><td>54.5</td><td>5.8</td><td>&quot;Cole, Gerrit&quot;</td><td>null</td><td>11</td><td>&quot;R&quot;</td><td>&quot;R&quot;</td><td>&quot;B&quot;</td><td>null</td><td>null</td><td>2</td><td>2</td><td>-0.9</td><td>0.75</td><td>-0.52</td><td>4.7</td><td>null</td><td>null</td><td>null</td><td>2</td><td>3</td><td>7.570725</td><td>-142.250686</td><td>1.559001</td><td>-13.446</td><td>28.79</td><td>-22.561</td><td>3.48</td><td>1.59</td><td>null</td><td>null</td><td>null</td><td>98.5</td><td>2059</td><td>6.8</td><td>19</td><td>5</td><td>1</td><td>1</td><td>null</td><td>1</td><td>1</td><td>null</td><td>1.68</td><td>0.9</td><td>0.9</td><td>3</td></tr><tr><td>2015-07-14</td><td>96.9</td><td>-2.48</td><td>54.5</td><td>5.65</td><td>&quot;Cole, Gerrit&quot;</td><td>null</td><td>13</td><td>&quot;R&quot;</td><td>&quot;R&quot;</td><td>&quot;B&quot;</td><td>null</td><td>null</td><td>1</td><td>2</td><td>-0.72</td><td>0.59</td><td>-1.93</td><td>1.91</td><td>null</td><td>null</td><td>null</td><td>2</td><td>3</td><td>3.403575</td><td>-141.949472</td><td>-5.008095</td><td>-10.171</td><td>31.448</td><td>-23.289</td><td>3.48</td><td>1.59</td><td>null</td><td>null</td><td>null</td><td>97.0</td><td>2168</td><td>6.4</td><td>19</td><td>4</td><td>1</td><td>1</td><td>null</td><td>1</td><td>1</td><td>null</td><td>1.86</td><td>0.72</td><td>0.72</td><td>3</td></tr><tr><td>&hellip;</td><td>&hellip;</td><td>&hellip;</td><td>&hellip;</td><td>&hellip;</td><td>&hellip;</td><td>&hellip;</td><td>&hellip;</td><td>&hellip;</td><td>&hellip;</td><td>&hellip;</td><td>&hellip;</td><td>&hellip;</td><td>&hellip;</td><td>&hellip;</td><td>&hellip;</td><td>&hellip;</td><td>&hellip;</td><td>&hellip;</td><td>&hellip;</td><td>&hellip;</td><td>&hellip;</td><td>&hellip;</td><td>&hellip;</td><td>&hellip;</td><td>&hellip;</td><td>&hellip;</td><td>&hellip;</td><td>&hellip;</td><td>&hellip;</td><td>&hellip;</td><td>&hellip;</td><td>&hellip;</td><td>&hellip;</td><td>&hellip;</td><td>&hellip;</td><td>&hellip;</td><td>&hellip;</td><td>&hellip;</td><td>&hellip;</td><td>&hellip;</td><td>&hellip;</td><td>&hellip;</td><td>&hellip;</td><td>&hellip;</td><td>&hellip;</td><td>&hellip;</td><td>&hellip;</td><td>&hellip;</td><td>&hellip;</td></tr><tr><td>2024-10-05</td><td>92.1</td><td>-2.34</td><td>54.48</td><td>6.16</td><td>&quot;Cole, Gerrit&quot;</td><td>null</td><td>5</td><td>&quot;L&quot;</td><td>&quot;R&quot;</td><td>&quot;S&quot;</td><td>null</td><td>null</td><td>0</td><td>0</td><td>0.26</td><td>0.71</td><td>0.13</td><td>2.52</td><td>null</td><td>null</td><td>null</td><td>2</td><td>1</td><td>5.672301</td><td>-133.950565</td><td>-4.870681</td><td>1.740305</td><td>32.370217</td><td>-22.748953</td><td>3.35</td><td>1.71</td><td>null</td><td>null</td><td>null</td><td>91.2</td><td>2685</td><td>6.0</td><td>3</td><td>1</td><td>0</td><td>0</td><td>&quot;172&quot;</td><td>1</td><td>0</td><td>9</td><td>2.01</td><td>-0.26</td><td>0.26</td><td>5</td></tr><tr><td>2024-10-05</td><td>95.1</td><td>-2.11</td><td>54.41</td><td>6.2</td><td>&quot;Cole, Gerrit&quot;</td><td>&quot;field_out&quot;</td><td>2</td><td>&quot;R&quot;</td><td>&quot;R&quot;</td><td>&quot;X&quot;</td><td>8</td><td>&quot;fly_ball&quot;</td><td>1</td><td>1</td><td>-0.36</td><td>1.41</td><td>0.11</td><td>3.52</td><td>null</td><td>null</td><td>null</td><td>1</td><td>1</td><td>6.618599</td><td>-138.273188</td><td>-4.454399</td><td>-6.235999</td><td>34.232539</td><td>-13.326961</td><td>3.51</td><td>1.63</td><td>396</td><td>108.4</td><td>22</td><td>94.3</td><td>2310</td><td>6.1</td><td>2</td><td>3</td><td>0</td><td>0</td><td>&quot;208&quot;</td><td>1</td><td>0</td><td>9</td><td>1.14</td><td>0.36</td><td>0.36</td><td>1</td></tr><tr><td>2024-10-05</td><td>82.1</td><td>-2.06</td><td>54.49</td><td>6.19</td><td>&quot;Cole, Gerrit&quot;</td><td>null</td><td>14</td><td>&quot;R&quot;</td><td>&quot;R&quot;</td><td>&quot;B&quot;</td><td>null</td><td>null</td><td>0</td><td>1</td><td>0.63</td><td>-1.47</td><td>0.06</td><td>0.49</td><td>null</td><td>null</td><td>null</td><td>1</td><td>1</td><td>3.534958</td><td>-119.413956</td><td>-3.345334</td><td>5.143649</td><td>28.071677</td><td>-45.440479</td><td>3.43</td><td>1.63</td><td>null</td><td>null</td><td>null</td><td>80.9</td><td>2771</td><td>6.0</td><td>2</td><td>2</td><td>0</td><td>0</td><td>&quot;33&quot;</td><td>1</td><td>0</td><td>9</td><td>4.91</td><td>-0.63</td><td>-0.63</td><td>2</td></tr><tr><td>2024-10-05</td><td>88.9</td><td>-2.29</td><td>54.52</td><td>6.19</td><td>&quot;Cole, Gerrit&quot;</td><td>null</td><td>4</td><td>&quot;R&quot;</td><td>&quot;R&quot;</td><td>&quot;S&quot;</td><td>null</td><td>null</td><td>0</td><td>0</td><td>0.55</td><td>0.24</td><td>-0.35</td><td>2.23</td><td>null</td><td>null</td><td>null</td><td>1</td><td>1</td><td>3.591849</td><td>-129.552365</td><td>-4.184211</td><td>5.480068</td><td>25.738812</td><td>-28.859728</td><td>3.46</td><td>1.61</td><td>null</td><td>null</td><td>null</td><td>88.7</td><td>2623</td><td>6.0</td><td>2</td><td>1</td><td>0</td><td>0</td><td>&quot;134&quot;</td><td>1</td><td>0</td><td>9</td><td>2.63</td><td>-0.55</td><td>-0.55</td><td>4</td></tr><tr><td>2024-10-05</td><td>96.2</td><td>-2.16</td><td>54.51</td><td>6.19</td><td>&quot;Cole, Gerrit&quot;</td><td>&quot;field_out&quot;</td><td>6</td><td>&quot;L&quot;</td><td>&quot;R&quot;</td><td>&quot;X&quot;</td><td>9</td><td>&quot;fly_ball&quot;</td><td>0</td><td>0</td><td>-0.36</td><td>1.38</td><td>0.35</td><td>2.51</td><td>null</td><td>null</td><td>null</td><td>0</td><td>1</td><td>7.442987</td><td>-139.754958</td><td>-7.215709</td><td>-6.492477</td><td>33.349223</td><td>-12.608229</td><td>3.35</td><td>1.57</td><td>351</td><td>102.5</td><td>42</td><td>95.3</td><td>2476</td><td>6.0</td><td>1</td><td>1</td><td>0</td><td>0</td><td>&quot;203&quot;</td><td>1</td><td>0</td><td>9</td><td>1.1</td><td>0.36</td><td>-0.36</td><td>1</td></tr></tbody></table></div>"
      ],
      "text/plain": [
       "shape: (29_673, 50)\n",
       "┌───────────┬───────────┬───────────┬───────────┬───┬───────────┬───────────┬───────────┬──────────┐\n",
       "│ game_date ┆ release_s ┆ release_p ┆ release_p ┆ … ┆ api_break ┆ api_break ┆ api_break ┆ pitch_ty │\n",
       "│ ---       ┆ peed      ┆ os_x      ┆ os_y      ┆   ┆ _z_with_g ┆ _x_arm    ┆ _x_batter ┆ pe_code  │\n",
       "│ date      ┆ ---       ┆ ---       ┆ ---       ┆   ┆ ravity    ┆ ---       ┆ _in       ┆ ---      │\n",
       "│           ┆ f64       ┆ f64       ┆ f64       ┆   ┆ ---       ┆ f64       ┆ ---       ┆ i64      │\n",
       "│           ┆           ┆           ┆           ┆   ┆ f64       ┆           ┆ f64       ┆          │\n",
       "╞═══════════╪═══════════╪═══════════╪═══════════╪═══╪═══════════╪═══════════╪═══════════╪══════════╡\n",
       "│ 2015-07-1 ┆ 95.7      ┆ -2.42     ┆ 54.5      ┆ … ┆ 1.36      ┆ 0.79      ┆ 0.79      ┆ 1        │\n",
       "│ 4         ┆           ┆           ┆           ┆   ┆           ┆           ┆           ┆          │\n",
       "│ 2015-07-1 ┆ 95.7      ┆ -2.48     ┆ 54.5      ┆ … ┆ 1.61      ┆ 0.78      ┆ 0.78      ┆ 1        │\n",
       "│ 4         ┆           ┆           ┆           ┆   ┆           ┆           ┆           ┆          │\n",
       "│ 2015-07-1 ┆ 96.2      ┆ -2.39     ┆ 54.5      ┆ … ┆ 1.28      ┆ 0.78      ┆ 0.78      ┆ 1        │\n",
       "│ 4         ┆           ┆           ┆           ┆   ┆           ┆           ┆           ┆          │\n",
       "│ 2015-07-1 ┆ 97.2      ┆ -2.45     ┆ 54.5      ┆ … ┆ 1.68      ┆ 0.9       ┆ 0.9       ┆ 3        │\n",
       "│ 4         ┆           ┆           ┆           ┆   ┆           ┆           ┆           ┆          │\n",
       "│ 2015-07-1 ┆ 96.9      ┆ -2.48     ┆ 54.5      ┆ … ┆ 1.86      ┆ 0.72      ┆ 0.72      ┆ 3        │\n",
       "│ 4         ┆           ┆           ┆           ┆   ┆           ┆           ┆           ┆          │\n",
       "│ …         ┆ …         ┆ …         ┆ …         ┆ … ┆ …         ┆ …         ┆ …         ┆ …        │\n",
       "│ 2024-10-0 ┆ 92.1      ┆ -2.34     ┆ 54.48     ┆ … ┆ 2.01      ┆ -0.26     ┆ 0.26      ┆ 5        │\n",
       "│ 5         ┆           ┆           ┆           ┆   ┆           ┆           ┆           ┆          │\n",
       "│ 2024-10-0 ┆ 95.1      ┆ -2.11     ┆ 54.41     ┆ … ┆ 1.14      ┆ 0.36      ┆ 0.36      ┆ 1        │\n",
       "│ 5         ┆           ┆           ┆           ┆   ┆           ┆           ┆           ┆          │\n",
       "│ 2024-10-0 ┆ 82.1      ┆ -2.06     ┆ 54.49     ┆ … ┆ 4.91      ┆ -0.63     ┆ -0.63     ┆ 2        │\n",
       "│ 5         ┆           ┆           ┆           ┆   ┆           ┆           ┆           ┆          │\n",
       "│ 2024-10-0 ┆ 88.9      ┆ -2.29     ┆ 54.52     ┆ … ┆ 2.63      ┆ -0.55     ┆ -0.55     ┆ 4        │\n",
       "│ 5         ┆           ┆           ┆           ┆   ┆           ┆           ┆           ┆          │\n",
       "│ 2024-10-0 ┆ 96.2      ┆ -2.16     ┆ 54.51     ┆ … ┆ 1.1       ┆ 0.36      ┆ -0.36     ┆ 1        │\n",
       "│ 5         ┆           ┆           ┆           ┆   ┆           ┆           ┆           ┆          │\n",
       "└───────────┴───────────┴───────────┴───────────┴───┴───────────┴───────────┴───────────┴──────────┘"
      ]
     },
     "execution_count": 14,
     "metadata": {},
     "output_type": "execute_result"
    }
   ],
   "source": [
    "df"
   ]
  },
  {
   "cell_type": "markdown",
   "id": "e48fc926",
   "metadata": {},
   "source": [
    "replace nulls in event column with \"unknown\""
   ]
  },
  {
   "cell_type": "code",
   "execution_count": 15,
   "id": "e5dee368",
   "metadata": {},
   "outputs": [],
   "source": [
    "df = df.with_columns(\n",
    "    pl.col(\"events\").fill_null(\"N/A\").cast(pl.Categorical).to_physical()\n",
    ")"
   ]
  },
  {
   "cell_type": "code",
   "execution_count": 16,
   "id": "0d8ba47d",
   "metadata": {},
   "outputs": [
    {
     "data": {
      "text/html": [
       "<div><style>\n",
       ".dataframe > thead > tr,\n",
       ".dataframe > tbody > tr {\n",
       "  text-align: right;\n",
       "  white-space: pre-wrap;\n",
       "}\n",
       "</style>\n",
       "<small>shape: (29_673, 50)</small><table border=\"1\" class=\"dataframe\"><thead><tr><th>game_date</th><th>release_speed</th><th>release_pos_x</th><th>release_pos_y</th><th>release_pos_z</th><th>player_name</th><th>events</th><th>zone</th><th>stand</th><th>p_throws</th><th>type</th><th>hit_location</th><th>bb_type</th><th>balls</th><th>strikes</th><th>pfx_x</th><th>pfx_z</th><th>plate_x</th><th>plate_z</th><th>on_3b</th><th>on_2b</th><th>on_1b</th><th>outs_when_up</th><th>inning</th><th>vx0</th><th>vy0</th><th>vz0</th><th>ax</th><th>ay</th><th>az</th><th>sz_top</th><th>sz_bot</th><th>hit_distance_sc</th><th>launch_speed</th><th>launch_angle</th><th>effective_speed</th><th>release_spin_rate</th><th>release_extension</th><th>at_bat_number</th><th>pitch_number</th><th>bat_score</th><th>fld_score</th><th>spin_axis</th><th>n_thruorder_pitcher</th><th>n_priorpa_thisgame_player_at_bat</th><th>pitcher_days_since_prev_game</th><th>api_break_z_with_gravity</th><th>api_break_x_arm</th><th>api_break_x_batter_in</th><th>pitch_type_code</th></tr><tr><td>date</td><td>f64</td><td>f64</td><td>f64</td><td>f64</td><td>str</td><td>u32</td><td>i64</td><td>str</td><td>str</td><td>str</td><td>i64</td><td>str</td><td>i64</td><td>i64</td><td>f64</td><td>f64</td><td>f64</td><td>f64</td><td>str</td><td>i64</td><td>i64</td><td>i64</td><td>i64</td><td>f64</td><td>f64</td><td>f64</td><td>f64</td><td>f64</td><td>f64</td><td>f64</td><td>f64</td><td>i64</td><td>f64</td><td>i64</td><td>f64</td><td>i64</td><td>f64</td><td>i64</td><td>i64</td><td>i64</td><td>i64</td><td>str</td><td>i64</td><td>i64</td><td>i64</td><td>f64</td><td>f64</td><td>f64</td><td>i64</td></tr></thead><tbody><tr><td>2015-07-14</td><td>95.7</td><td>-2.42</td><td>54.5</td><td>5.75</td><td>&quot;Cole, Gerrit&quot;</td><td>0</td><td>4</td><td>&quot;R&quot;</td><td>&quot;R&quot;</td><td>&quot;X&quot;</td><td>8</td><td>&quot;line_drive&quot;</td><td>1</td><td>0</td><td>-0.79</td><td>1.17</td><td>-0.31</td><td>2.29</td><td>null</td><td>null</td><td>518626</td><td>2</td><td>3</td><td>7.662212</td><td>-140.056879</td><td>-5.546647</td><td>-11.76</td><td>31.287</td><td>-16.106</td><td>3.37</td><td>1.59</td><td>340</td><td>106.0</td><td>16</td><td>95.7</td><td>2183</td><td>6.5</td><td>20</td><td>2</td><td>1</td><td>1</td><td>null</td><td>1</td><td>1</td><td>null</td><td>1.36</td><td>0.79</td><td>0.79</td><td>1</td></tr><tr><td>2015-07-14</td><td>95.7</td><td>-2.48</td><td>54.5</td><td>5.69</td><td>&quot;Cole, Gerrit&quot;</td><td>1</td><td>12</td><td>&quot;R&quot;</td><td>&quot;R&quot;</td><td>&quot;B&quot;</td><td>null</td><td>null</td><td>0</td><td>0</td><td>-0.78</td><td>0.91</td><td>1.06</td><td>3.34</td><td>null</td><td>null</td><td>518626</td><td>2</td><td>3</td><td>11.354314</td><td>-139.769222</td><td>-1.942855</td><td>-12.238</td><td>28.457</td><td>-20.127</td><td>3.37</td><td>1.59</td><td>null</td><td>null</td><td>null</td><td>96.7</td><td>1956</td><td>7.0</td><td>20</td><td>1</td><td>1</td><td>1</td><td>null</td><td>1</td><td>1</td><td>null</td><td>1.61</td><td>0.78</td><td>0.78</td><td>1</td></tr><tr><td>2015-07-14</td><td>96.2</td><td>-2.39</td><td>54.5</td><td>5.72</td><td>&quot;Cole, Gerrit&quot;</td><td>2</td><td>14</td><td>&quot;R&quot;</td><td>&quot;R&quot;</td><td>&quot;B&quot;</td><td>null</td><td>null</td><td>3</td><td>2</td><td>-0.78</td><td>1.22</td><td>1.56</td><td>1.76</td><td>null</td><td>null</td><td>null</td><td>2</td><td>3</td><td>12.504157</td><td>-140.245457</td><td>-7.085497</td><td>-12.524</td><td>28.19</td><td>-15.051</td><td>3.48</td><td>1.59</td><td>null</td><td>null</td><td>null</td><td>97.1</td><td>2194</td><td>6.9</td><td>19</td><td>6</td><td>1</td><td>1</td><td>null</td><td>1</td><td>1</td><td>null</td><td>1.28</td><td>0.78</td><td>0.78</td><td>1</td></tr><tr><td>2015-07-14</td><td>97.2</td><td>-2.45</td><td>54.5</td><td>5.8</td><td>&quot;Cole, Gerrit&quot;</td><td>1</td><td>11</td><td>&quot;R&quot;</td><td>&quot;R&quot;</td><td>&quot;B&quot;</td><td>null</td><td>null</td><td>2</td><td>2</td><td>-0.9</td><td>0.75</td><td>-0.52</td><td>4.7</td><td>null</td><td>null</td><td>null</td><td>2</td><td>3</td><td>7.570725</td><td>-142.250686</td><td>1.559001</td><td>-13.446</td><td>28.79</td><td>-22.561</td><td>3.48</td><td>1.59</td><td>null</td><td>null</td><td>null</td><td>98.5</td><td>2059</td><td>6.8</td><td>19</td><td>5</td><td>1</td><td>1</td><td>null</td><td>1</td><td>1</td><td>null</td><td>1.68</td><td>0.9</td><td>0.9</td><td>3</td></tr><tr><td>2015-07-14</td><td>96.9</td><td>-2.48</td><td>54.5</td><td>5.65</td><td>&quot;Cole, Gerrit&quot;</td><td>1</td><td>13</td><td>&quot;R&quot;</td><td>&quot;R&quot;</td><td>&quot;B&quot;</td><td>null</td><td>null</td><td>1</td><td>2</td><td>-0.72</td><td>0.59</td><td>-1.93</td><td>1.91</td><td>null</td><td>null</td><td>null</td><td>2</td><td>3</td><td>3.403575</td><td>-141.949472</td><td>-5.008095</td><td>-10.171</td><td>31.448</td><td>-23.289</td><td>3.48</td><td>1.59</td><td>null</td><td>null</td><td>null</td><td>97.0</td><td>2168</td><td>6.4</td><td>19</td><td>4</td><td>1</td><td>1</td><td>null</td><td>1</td><td>1</td><td>null</td><td>1.86</td><td>0.72</td><td>0.72</td><td>3</td></tr><tr><td>&hellip;</td><td>&hellip;</td><td>&hellip;</td><td>&hellip;</td><td>&hellip;</td><td>&hellip;</td><td>&hellip;</td><td>&hellip;</td><td>&hellip;</td><td>&hellip;</td><td>&hellip;</td><td>&hellip;</td><td>&hellip;</td><td>&hellip;</td><td>&hellip;</td><td>&hellip;</td><td>&hellip;</td><td>&hellip;</td><td>&hellip;</td><td>&hellip;</td><td>&hellip;</td><td>&hellip;</td><td>&hellip;</td><td>&hellip;</td><td>&hellip;</td><td>&hellip;</td><td>&hellip;</td><td>&hellip;</td><td>&hellip;</td><td>&hellip;</td><td>&hellip;</td><td>&hellip;</td><td>&hellip;</td><td>&hellip;</td><td>&hellip;</td><td>&hellip;</td><td>&hellip;</td><td>&hellip;</td><td>&hellip;</td><td>&hellip;</td><td>&hellip;</td><td>&hellip;</td><td>&hellip;</td><td>&hellip;</td><td>&hellip;</td><td>&hellip;</td><td>&hellip;</td><td>&hellip;</td><td>&hellip;</td><td>&hellip;</td></tr><tr><td>2024-10-05</td><td>92.1</td><td>-2.34</td><td>54.48</td><td>6.16</td><td>&quot;Cole, Gerrit&quot;</td><td>1</td><td>5</td><td>&quot;L&quot;</td><td>&quot;R&quot;</td><td>&quot;S&quot;</td><td>null</td><td>null</td><td>0</td><td>0</td><td>0.26</td><td>0.71</td><td>0.13</td><td>2.52</td><td>null</td><td>null</td><td>null</td><td>2</td><td>1</td><td>5.672301</td><td>-133.950565</td><td>-4.870681</td><td>1.740305</td><td>32.370217</td><td>-22.748953</td><td>3.35</td><td>1.71</td><td>null</td><td>null</td><td>null</td><td>91.2</td><td>2685</td><td>6.0</td><td>3</td><td>1</td><td>0</td><td>0</td><td>&quot;172&quot;</td><td>1</td><td>0</td><td>9</td><td>2.01</td><td>-0.26</td><td>0.26</td><td>5</td></tr><tr><td>2024-10-05</td><td>95.1</td><td>-2.11</td><td>54.41</td><td>6.2</td><td>&quot;Cole, Gerrit&quot;</td><td>0</td><td>2</td><td>&quot;R&quot;</td><td>&quot;R&quot;</td><td>&quot;X&quot;</td><td>8</td><td>&quot;fly_ball&quot;</td><td>1</td><td>1</td><td>-0.36</td><td>1.41</td><td>0.11</td><td>3.52</td><td>null</td><td>null</td><td>null</td><td>1</td><td>1</td><td>6.618599</td><td>-138.273188</td><td>-4.454399</td><td>-6.235999</td><td>34.232539</td><td>-13.326961</td><td>3.51</td><td>1.63</td><td>396</td><td>108.4</td><td>22</td><td>94.3</td><td>2310</td><td>6.1</td><td>2</td><td>3</td><td>0</td><td>0</td><td>&quot;208&quot;</td><td>1</td><td>0</td><td>9</td><td>1.14</td><td>0.36</td><td>0.36</td><td>1</td></tr><tr><td>2024-10-05</td><td>82.1</td><td>-2.06</td><td>54.49</td><td>6.19</td><td>&quot;Cole, Gerrit&quot;</td><td>1</td><td>14</td><td>&quot;R&quot;</td><td>&quot;R&quot;</td><td>&quot;B&quot;</td><td>null</td><td>null</td><td>0</td><td>1</td><td>0.63</td><td>-1.47</td><td>0.06</td><td>0.49</td><td>null</td><td>null</td><td>null</td><td>1</td><td>1</td><td>3.534958</td><td>-119.413956</td><td>-3.345334</td><td>5.143649</td><td>28.071677</td><td>-45.440479</td><td>3.43</td><td>1.63</td><td>null</td><td>null</td><td>null</td><td>80.9</td><td>2771</td><td>6.0</td><td>2</td><td>2</td><td>0</td><td>0</td><td>&quot;33&quot;</td><td>1</td><td>0</td><td>9</td><td>4.91</td><td>-0.63</td><td>-0.63</td><td>2</td></tr><tr><td>2024-10-05</td><td>88.9</td><td>-2.29</td><td>54.52</td><td>6.19</td><td>&quot;Cole, Gerrit&quot;</td><td>1</td><td>4</td><td>&quot;R&quot;</td><td>&quot;R&quot;</td><td>&quot;S&quot;</td><td>null</td><td>null</td><td>0</td><td>0</td><td>0.55</td><td>0.24</td><td>-0.35</td><td>2.23</td><td>null</td><td>null</td><td>null</td><td>1</td><td>1</td><td>3.591849</td><td>-129.552365</td><td>-4.184211</td><td>5.480068</td><td>25.738812</td><td>-28.859728</td><td>3.46</td><td>1.61</td><td>null</td><td>null</td><td>null</td><td>88.7</td><td>2623</td><td>6.0</td><td>2</td><td>1</td><td>0</td><td>0</td><td>&quot;134&quot;</td><td>1</td><td>0</td><td>9</td><td>2.63</td><td>-0.55</td><td>-0.55</td><td>4</td></tr><tr><td>2024-10-05</td><td>96.2</td><td>-2.16</td><td>54.51</td><td>6.19</td><td>&quot;Cole, Gerrit&quot;</td><td>0</td><td>6</td><td>&quot;L&quot;</td><td>&quot;R&quot;</td><td>&quot;X&quot;</td><td>9</td><td>&quot;fly_ball&quot;</td><td>0</td><td>0</td><td>-0.36</td><td>1.38</td><td>0.35</td><td>2.51</td><td>null</td><td>null</td><td>null</td><td>0</td><td>1</td><td>7.442987</td><td>-139.754958</td><td>-7.215709</td><td>-6.492477</td><td>33.349223</td><td>-12.608229</td><td>3.35</td><td>1.57</td><td>351</td><td>102.5</td><td>42</td><td>95.3</td><td>2476</td><td>6.0</td><td>1</td><td>1</td><td>0</td><td>0</td><td>&quot;203&quot;</td><td>1</td><td>0</td><td>9</td><td>1.1</td><td>0.36</td><td>-0.36</td><td>1</td></tr></tbody></table></div>"
      ],
      "text/plain": [
       "shape: (29_673, 50)\n",
       "┌───────────┬───────────┬───────────┬───────────┬───┬───────────┬───────────┬───────────┬──────────┐\n",
       "│ game_date ┆ release_s ┆ release_p ┆ release_p ┆ … ┆ api_break ┆ api_break ┆ api_break ┆ pitch_ty │\n",
       "│ ---       ┆ peed      ┆ os_x      ┆ os_y      ┆   ┆ _z_with_g ┆ _x_arm    ┆ _x_batter ┆ pe_code  │\n",
       "│ date      ┆ ---       ┆ ---       ┆ ---       ┆   ┆ ravity    ┆ ---       ┆ _in       ┆ ---      │\n",
       "│           ┆ f64       ┆ f64       ┆ f64       ┆   ┆ ---       ┆ f64       ┆ ---       ┆ i64      │\n",
       "│           ┆           ┆           ┆           ┆   ┆ f64       ┆           ┆ f64       ┆          │\n",
       "╞═══════════╪═══════════╪═══════════╪═══════════╪═══╪═══════════╪═══════════╪═══════════╪══════════╡\n",
       "│ 2015-07-1 ┆ 95.7      ┆ -2.42     ┆ 54.5      ┆ … ┆ 1.36      ┆ 0.79      ┆ 0.79      ┆ 1        │\n",
       "│ 4         ┆           ┆           ┆           ┆   ┆           ┆           ┆           ┆          │\n",
       "│ 2015-07-1 ┆ 95.7      ┆ -2.48     ┆ 54.5      ┆ … ┆ 1.61      ┆ 0.78      ┆ 0.78      ┆ 1        │\n",
       "│ 4         ┆           ┆           ┆           ┆   ┆           ┆           ┆           ┆          │\n",
       "│ 2015-07-1 ┆ 96.2      ┆ -2.39     ┆ 54.5      ┆ … ┆ 1.28      ┆ 0.78      ┆ 0.78      ┆ 1        │\n",
       "│ 4         ┆           ┆           ┆           ┆   ┆           ┆           ┆           ┆          │\n",
       "│ 2015-07-1 ┆ 97.2      ┆ -2.45     ┆ 54.5      ┆ … ┆ 1.68      ┆ 0.9       ┆ 0.9       ┆ 3        │\n",
       "│ 4         ┆           ┆           ┆           ┆   ┆           ┆           ┆           ┆          │\n",
       "│ 2015-07-1 ┆ 96.9      ┆ -2.48     ┆ 54.5      ┆ … ┆ 1.86      ┆ 0.72      ┆ 0.72      ┆ 3        │\n",
       "│ 4         ┆           ┆           ┆           ┆   ┆           ┆           ┆           ┆          │\n",
       "│ …         ┆ …         ┆ …         ┆ …         ┆ … ┆ …         ┆ …         ┆ …         ┆ …        │\n",
       "│ 2024-10-0 ┆ 92.1      ┆ -2.34     ┆ 54.48     ┆ … ┆ 2.01      ┆ -0.26     ┆ 0.26      ┆ 5        │\n",
       "│ 5         ┆           ┆           ┆           ┆   ┆           ┆           ┆           ┆          │\n",
       "│ 2024-10-0 ┆ 95.1      ┆ -2.11     ┆ 54.41     ┆ … ┆ 1.14      ┆ 0.36      ┆ 0.36      ┆ 1        │\n",
       "│ 5         ┆           ┆           ┆           ┆   ┆           ┆           ┆           ┆          │\n",
       "│ 2024-10-0 ┆ 82.1      ┆ -2.06     ┆ 54.49     ┆ … ┆ 4.91      ┆ -0.63     ┆ -0.63     ┆ 2        │\n",
       "│ 5         ┆           ┆           ┆           ┆   ┆           ┆           ┆           ┆          │\n",
       "│ 2024-10-0 ┆ 88.9      ┆ -2.29     ┆ 54.52     ┆ … ┆ 2.63      ┆ -0.55     ┆ -0.55     ┆ 4        │\n",
       "│ 5         ┆           ┆           ┆           ┆   ┆           ┆           ┆           ┆          │\n",
       "│ 2024-10-0 ┆ 96.2      ┆ -2.16     ┆ 54.51     ┆ … ┆ 1.1       ┆ 0.36      ┆ -0.36     ┆ 1        │\n",
       "│ 5         ┆           ┆           ┆           ┆   ┆           ┆           ┆           ┆          │\n",
       "└───────────┴───────────┴───────────┴───────────┴───┴───────────┴───────────┴───────────┴──────────┘"
      ]
     },
     "execution_count": 16,
     "metadata": {},
     "output_type": "execute_result"
    }
   ],
   "source": [
    "df"
   ]
  },
  {
   "cell_type": "code",
   "execution_count": 17,
   "id": "a779c8d6",
   "metadata": {},
   "outputs": [],
   "source": [
    "hand_to_int = {\"R\": 0, \"L\": 1}\n",
    "int_to_hand = {0: \"R\", 1: \"L\"}\n",
    "df = df.with_columns(\n",
    "    [\n",
    "        pl.col(\"stand\").replace_strict(hand_to_int).alias(\"stand\"),\n",
    "        pl.col(\"p_throws\").replace_strict(hand_to_int).alias(\"p_throws\"),\n",
    "    ]\n",
    ")"
   ]
  },
  {
   "cell_type": "code",
   "execution_count": 18,
   "id": "783f4bf3",
   "metadata": {},
   "outputs": [
    {
     "data": {
      "text/html": [
       "<div><style>\n",
       ".dataframe > thead > tr,\n",
       ".dataframe > tbody > tr {\n",
       "  text-align: right;\n",
       "  white-space: pre-wrap;\n",
       "}\n",
       "</style>\n",
       "<small>shape: (29_673, 2)</small><table border=\"1\" class=\"dataframe\"><thead><tr><th>stand</th><th>p_throws</th></tr><tr><td>i64</td><td>i64</td></tr></thead><tbody><tr><td>0</td><td>0</td></tr><tr><td>0</td><td>0</td></tr><tr><td>0</td><td>0</td></tr><tr><td>0</td><td>0</td></tr><tr><td>0</td><td>0</td></tr><tr><td>&hellip;</td><td>&hellip;</td></tr><tr><td>1</td><td>0</td></tr><tr><td>0</td><td>0</td></tr><tr><td>0</td><td>0</td></tr><tr><td>0</td><td>0</td></tr><tr><td>1</td><td>0</td></tr></tbody></table></div>"
      ],
      "text/plain": [
       "shape: (29_673, 2)\n",
       "┌───────┬──────────┐\n",
       "│ stand ┆ p_throws │\n",
       "│ ---   ┆ ---      │\n",
       "│ i64   ┆ i64      │\n",
       "╞═══════╪══════════╡\n",
       "│ 0     ┆ 0        │\n",
       "│ 0     ┆ 0        │\n",
       "│ 0     ┆ 0        │\n",
       "│ 0     ┆ 0        │\n",
       "│ 0     ┆ 0        │\n",
       "│ …     ┆ …        │\n",
       "│ 1     ┆ 0        │\n",
       "│ 0     ┆ 0        │\n",
       "│ 0     ┆ 0        │\n",
       "│ 0     ┆ 0        │\n",
       "│ 1     ┆ 0        │\n",
       "└───────┴──────────┘"
      ]
     },
     "execution_count": 18,
     "metadata": {},
     "output_type": "execute_result"
    }
   ],
   "source": [
    "df.select(pl.col([\"stand\", \"p_throws\"]))"
   ]
  },
  {
   "cell_type": "code",
   "execution_count": 19,
   "id": "89d92b53",
   "metadata": {},
   "outputs": [],
   "source": [
    "df = df.rename({\"type\": \"pitch_result\"})"
   ]
  },
  {
   "cell_type": "code",
   "execution_count": 20,
   "id": "fb72200a",
   "metadata": {},
   "outputs": [
    {
     "data": {
      "text/html": [
       "<div><style>\n",
       ".dataframe > thead > tr,\n",
       ".dataframe > tbody > tr {\n",
       "  text-align: right;\n",
       "  white-space: pre-wrap;\n",
       "}\n",
       "</style>\n",
       "<small>shape: (29_673, 50)</small><table border=\"1\" class=\"dataframe\"><thead><tr><th>game_date</th><th>release_speed</th><th>release_pos_x</th><th>release_pos_y</th><th>release_pos_z</th><th>player_name</th><th>events</th><th>zone</th><th>stand</th><th>p_throws</th><th>pitch_result</th><th>hit_location</th><th>bb_type</th><th>balls</th><th>strikes</th><th>pfx_x</th><th>pfx_z</th><th>plate_x</th><th>plate_z</th><th>on_3b</th><th>on_2b</th><th>on_1b</th><th>outs_when_up</th><th>inning</th><th>vx0</th><th>vy0</th><th>vz0</th><th>ax</th><th>ay</th><th>az</th><th>sz_top</th><th>sz_bot</th><th>hit_distance_sc</th><th>launch_speed</th><th>launch_angle</th><th>effective_speed</th><th>release_spin_rate</th><th>release_extension</th><th>at_bat_number</th><th>pitch_number</th><th>bat_score</th><th>fld_score</th><th>spin_axis</th><th>n_thruorder_pitcher</th><th>n_priorpa_thisgame_player_at_bat</th><th>pitcher_days_since_prev_game</th><th>api_break_z_with_gravity</th><th>api_break_x_arm</th><th>api_break_x_batter_in</th><th>pitch_type_code</th></tr><tr><td>date</td><td>f64</td><td>f64</td><td>f64</td><td>f64</td><td>str</td><td>u32</td><td>i64</td><td>i64</td><td>i64</td><td>u32</td><td>i64</td><td>str</td><td>i64</td><td>i64</td><td>f64</td><td>f64</td><td>f64</td><td>f64</td><td>str</td><td>i64</td><td>i64</td><td>i64</td><td>i64</td><td>f64</td><td>f64</td><td>f64</td><td>f64</td><td>f64</td><td>f64</td><td>f64</td><td>f64</td><td>i64</td><td>f64</td><td>i64</td><td>f64</td><td>i64</td><td>f64</td><td>i64</td><td>i64</td><td>i64</td><td>i64</td><td>str</td><td>i64</td><td>i64</td><td>i64</td><td>f64</td><td>f64</td><td>f64</td><td>i64</td></tr></thead><tbody><tr><td>2015-07-14</td><td>95.7</td><td>-2.42</td><td>54.5</td><td>5.75</td><td>&quot;Cole, Gerrit&quot;</td><td>0</td><td>4</td><td>0</td><td>0</td><td>0</td><td>8</td><td>&quot;line_drive&quot;</td><td>1</td><td>0</td><td>-0.79</td><td>1.17</td><td>-0.31</td><td>2.29</td><td>null</td><td>null</td><td>518626</td><td>2</td><td>3</td><td>7.662212</td><td>-140.056879</td><td>-5.546647</td><td>-11.76</td><td>31.287</td><td>-16.106</td><td>3.37</td><td>1.59</td><td>340</td><td>106.0</td><td>16</td><td>95.7</td><td>2183</td><td>6.5</td><td>20</td><td>2</td><td>1</td><td>1</td><td>null</td><td>1</td><td>1</td><td>null</td><td>1.36</td><td>0.79</td><td>0.79</td><td>1</td></tr><tr><td>2015-07-14</td><td>95.7</td><td>-2.48</td><td>54.5</td><td>5.69</td><td>&quot;Cole, Gerrit&quot;</td><td>1</td><td>12</td><td>0</td><td>0</td><td>1</td><td>null</td><td>null</td><td>0</td><td>0</td><td>-0.78</td><td>0.91</td><td>1.06</td><td>3.34</td><td>null</td><td>null</td><td>518626</td><td>2</td><td>3</td><td>11.354314</td><td>-139.769222</td><td>-1.942855</td><td>-12.238</td><td>28.457</td><td>-20.127</td><td>3.37</td><td>1.59</td><td>null</td><td>null</td><td>null</td><td>96.7</td><td>1956</td><td>7.0</td><td>20</td><td>1</td><td>1</td><td>1</td><td>null</td><td>1</td><td>1</td><td>null</td><td>1.61</td><td>0.78</td><td>0.78</td><td>1</td></tr><tr><td>2015-07-14</td><td>96.2</td><td>-2.39</td><td>54.5</td><td>5.72</td><td>&quot;Cole, Gerrit&quot;</td><td>2</td><td>14</td><td>0</td><td>0</td><td>1</td><td>null</td><td>null</td><td>3</td><td>2</td><td>-0.78</td><td>1.22</td><td>1.56</td><td>1.76</td><td>null</td><td>null</td><td>null</td><td>2</td><td>3</td><td>12.504157</td><td>-140.245457</td><td>-7.085497</td><td>-12.524</td><td>28.19</td><td>-15.051</td><td>3.48</td><td>1.59</td><td>null</td><td>null</td><td>null</td><td>97.1</td><td>2194</td><td>6.9</td><td>19</td><td>6</td><td>1</td><td>1</td><td>null</td><td>1</td><td>1</td><td>null</td><td>1.28</td><td>0.78</td><td>0.78</td><td>1</td></tr><tr><td>2015-07-14</td><td>97.2</td><td>-2.45</td><td>54.5</td><td>5.8</td><td>&quot;Cole, Gerrit&quot;</td><td>1</td><td>11</td><td>0</td><td>0</td><td>1</td><td>null</td><td>null</td><td>2</td><td>2</td><td>-0.9</td><td>0.75</td><td>-0.52</td><td>4.7</td><td>null</td><td>null</td><td>null</td><td>2</td><td>3</td><td>7.570725</td><td>-142.250686</td><td>1.559001</td><td>-13.446</td><td>28.79</td><td>-22.561</td><td>3.48</td><td>1.59</td><td>null</td><td>null</td><td>null</td><td>98.5</td><td>2059</td><td>6.8</td><td>19</td><td>5</td><td>1</td><td>1</td><td>null</td><td>1</td><td>1</td><td>null</td><td>1.68</td><td>0.9</td><td>0.9</td><td>3</td></tr><tr><td>2015-07-14</td><td>96.9</td><td>-2.48</td><td>54.5</td><td>5.65</td><td>&quot;Cole, Gerrit&quot;</td><td>1</td><td>13</td><td>0</td><td>0</td><td>1</td><td>null</td><td>null</td><td>1</td><td>2</td><td>-0.72</td><td>0.59</td><td>-1.93</td><td>1.91</td><td>null</td><td>null</td><td>null</td><td>2</td><td>3</td><td>3.403575</td><td>-141.949472</td><td>-5.008095</td><td>-10.171</td><td>31.448</td><td>-23.289</td><td>3.48</td><td>1.59</td><td>null</td><td>null</td><td>null</td><td>97.0</td><td>2168</td><td>6.4</td><td>19</td><td>4</td><td>1</td><td>1</td><td>null</td><td>1</td><td>1</td><td>null</td><td>1.86</td><td>0.72</td><td>0.72</td><td>3</td></tr><tr><td>&hellip;</td><td>&hellip;</td><td>&hellip;</td><td>&hellip;</td><td>&hellip;</td><td>&hellip;</td><td>&hellip;</td><td>&hellip;</td><td>&hellip;</td><td>&hellip;</td><td>&hellip;</td><td>&hellip;</td><td>&hellip;</td><td>&hellip;</td><td>&hellip;</td><td>&hellip;</td><td>&hellip;</td><td>&hellip;</td><td>&hellip;</td><td>&hellip;</td><td>&hellip;</td><td>&hellip;</td><td>&hellip;</td><td>&hellip;</td><td>&hellip;</td><td>&hellip;</td><td>&hellip;</td><td>&hellip;</td><td>&hellip;</td><td>&hellip;</td><td>&hellip;</td><td>&hellip;</td><td>&hellip;</td><td>&hellip;</td><td>&hellip;</td><td>&hellip;</td><td>&hellip;</td><td>&hellip;</td><td>&hellip;</td><td>&hellip;</td><td>&hellip;</td><td>&hellip;</td><td>&hellip;</td><td>&hellip;</td><td>&hellip;</td><td>&hellip;</td><td>&hellip;</td><td>&hellip;</td><td>&hellip;</td><td>&hellip;</td></tr><tr><td>2024-10-05</td><td>92.1</td><td>-2.34</td><td>54.48</td><td>6.16</td><td>&quot;Cole, Gerrit&quot;</td><td>1</td><td>5</td><td>1</td><td>0</td><td>2</td><td>null</td><td>null</td><td>0</td><td>0</td><td>0.26</td><td>0.71</td><td>0.13</td><td>2.52</td><td>null</td><td>null</td><td>null</td><td>2</td><td>1</td><td>5.672301</td><td>-133.950565</td><td>-4.870681</td><td>1.740305</td><td>32.370217</td><td>-22.748953</td><td>3.35</td><td>1.71</td><td>null</td><td>null</td><td>null</td><td>91.2</td><td>2685</td><td>6.0</td><td>3</td><td>1</td><td>0</td><td>0</td><td>&quot;172&quot;</td><td>1</td><td>0</td><td>9</td><td>2.01</td><td>-0.26</td><td>0.26</td><td>5</td></tr><tr><td>2024-10-05</td><td>95.1</td><td>-2.11</td><td>54.41</td><td>6.2</td><td>&quot;Cole, Gerrit&quot;</td><td>0</td><td>2</td><td>0</td><td>0</td><td>0</td><td>8</td><td>&quot;fly_ball&quot;</td><td>1</td><td>1</td><td>-0.36</td><td>1.41</td><td>0.11</td><td>3.52</td><td>null</td><td>null</td><td>null</td><td>1</td><td>1</td><td>6.618599</td><td>-138.273188</td><td>-4.454399</td><td>-6.235999</td><td>34.232539</td><td>-13.326961</td><td>3.51</td><td>1.63</td><td>396</td><td>108.4</td><td>22</td><td>94.3</td><td>2310</td><td>6.1</td><td>2</td><td>3</td><td>0</td><td>0</td><td>&quot;208&quot;</td><td>1</td><td>0</td><td>9</td><td>1.14</td><td>0.36</td><td>0.36</td><td>1</td></tr><tr><td>2024-10-05</td><td>82.1</td><td>-2.06</td><td>54.49</td><td>6.19</td><td>&quot;Cole, Gerrit&quot;</td><td>1</td><td>14</td><td>0</td><td>0</td><td>1</td><td>null</td><td>null</td><td>0</td><td>1</td><td>0.63</td><td>-1.47</td><td>0.06</td><td>0.49</td><td>null</td><td>null</td><td>null</td><td>1</td><td>1</td><td>3.534958</td><td>-119.413956</td><td>-3.345334</td><td>5.143649</td><td>28.071677</td><td>-45.440479</td><td>3.43</td><td>1.63</td><td>null</td><td>null</td><td>null</td><td>80.9</td><td>2771</td><td>6.0</td><td>2</td><td>2</td><td>0</td><td>0</td><td>&quot;33&quot;</td><td>1</td><td>0</td><td>9</td><td>4.91</td><td>-0.63</td><td>-0.63</td><td>2</td></tr><tr><td>2024-10-05</td><td>88.9</td><td>-2.29</td><td>54.52</td><td>6.19</td><td>&quot;Cole, Gerrit&quot;</td><td>1</td><td>4</td><td>0</td><td>0</td><td>2</td><td>null</td><td>null</td><td>0</td><td>0</td><td>0.55</td><td>0.24</td><td>-0.35</td><td>2.23</td><td>null</td><td>null</td><td>null</td><td>1</td><td>1</td><td>3.591849</td><td>-129.552365</td><td>-4.184211</td><td>5.480068</td><td>25.738812</td><td>-28.859728</td><td>3.46</td><td>1.61</td><td>null</td><td>null</td><td>null</td><td>88.7</td><td>2623</td><td>6.0</td><td>2</td><td>1</td><td>0</td><td>0</td><td>&quot;134&quot;</td><td>1</td><td>0</td><td>9</td><td>2.63</td><td>-0.55</td><td>-0.55</td><td>4</td></tr><tr><td>2024-10-05</td><td>96.2</td><td>-2.16</td><td>54.51</td><td>6.19</td><td>&quot;Cole, Gerrit&quot;</td><td>0</td><td>6</td><td>1</td><td>0</td><td>0</td><td>9</td><td>&quot;fly_ball&quot;</td><td>0</td><td>0</td><td>-0.36</td><td>1.38</td><td>0.35</td><td>2.51</td><td>null</td><td>null</td><td>null</td><td>0</td><td>1</td><td>7.442987</td><td>-139.754958</td><td>-7.215709</td><td>-6.492477</td><td>33.349223</td><td>-12.608229</td><td>3.35</td><td>1.57</td><td>351</td><td>102.5</td><td>42</td><td>95.3</td><td>2476</td><td>6.0</td><td>1</td><td>1</td><td>0</td><td>0</td><td>&quot;203&quot;</td><td>1</td><td>0</td><td>9</td><td>1.1</td><td>0.36</td><td>-0.36</td><td>1</td></tr></tbody></table></div>"
      ],
      "text/plain": [
       "shape: (29_673, 50)\n",
       "┌───────────┬───────────┬───────────┬───────────┬───┬───────────┬───────────┬───────────┬──────────┐\n",
       "│ game_date ┆ release_s ┆ release_p ┆ release_p ┆ … ┆ api_break ┆ api_break ┆ api_break ┆ pitch_ty │\n",
       "│ ---       ┆ peed      ┆ os_x      ┆ os_y      ┆   ┆ _z_with_g ┆ _x_arm    ┆ _x_batter ┆ pe_code  │\n",
       "│ date      ┆ ---       ┆ ---       ┆ ---       ┆   ┆ ravity    ┆ ---       ┆ _in       ┆ ---      │\n",
       "│           ┆ f64       ┆ f64       ┆ f64       ┆   ┆ ---       ┆ f64       ┆ ---       ┆ i64      │\n",
       "│           ┆           ┆           ┆           ┆   ┆ f64       ┆           ┆ f64       ┆          │\n",
       "╞═══════════╪═══════════╪═══════════╪═══════════╪═══╪═══════════╪═══════════╪═══════════╪══════════╡\n",
       "│ 2015-07-1 ┆ 95.7      ┆ -2.42     ┆ 54.5      ┆ … ┆ 1.36      ┆ 0.79      ┆ 0.79      ┆ 1        │\n",
       "│ 4         ┆           ┆           ┆           ┆   ┆           ┆           ┆           ┆          │\n",
       "│ 2015-07-1 ┆ 95.7      ┆ -2.48     ┆ 54.5      ┆ … ┆ 1.61      ┆ 0.78      ┆ 0.78      ┆ 1        │\n",
       "│ 4         ┆           ┆           ┆           ┆   ┆           ┆           ┆           ┆          │\n",
       "│ 2015-07-1 ┆ 96.2      ┆ -2.39     ┆ 54.5      ┆ … ┆ 1.28      ┆ 0.78      ┆ 0.78      ┆ 1        │\n",
       "│ 4         ┆           ┆           ┆           ┆   ┆           ┆           ┆           ┆          │\n",
       "│ 2015-07-1 ┆ 97.2      ┆ -2.45     ┆ 54.5      ┆ … ┆ 1.68      ┆ 0.9       ┆ 0.9       ┆ 3        │\n",
       "│ 4         ┆           ┆           ┆           ┆   ┆           ┆           ┆           ┆          │\n",
       "│ 2015-07-1 ┆ 96.9      ┆ -2.48     ┆ 54.5      ┆ … ┆ 1.86      ┆ 0.72      ┆ 0.72      ┆ 3        │\n",
       "│ 4         ┆           ┆           ┆           ┆   ┆           ┆           ┆           ┆          │\n",
       "│ …         ┆ …         ┆ …         ┆ …         ┆ … ┆ …         ┆ …         ┆ …         ┆ …        │\n",
       "│ 2024-10-0 ┆ 92.1      ┆ -2.34     ┆ 54.48     ┆ … ┆ 2.01      ┆ -0.26     ┆ 0.26      ┆ 5        │\n",
       "│ 5         ┆           ┆           ┆           ┆   ┆           ┆           ┆           ┆          │\n",
       "│ 2024-10-0 ┆ 95.1      ┆ -2.11     ┆ 54.41     ┆ … ┆ 1.14      ┆ 0.36      ┆ 0.36      ┆ 1        │\n",
       "│ 5         ┆           ┆           ┆           ┆   ┆           ┆           ┆           ┆          │\n",
       "│ 2024-10-0 ┆ 82.1      ┆ -2.06     ┆ 54.49     ┆ … ┆ 4.91      ┆ -0.63     ┆ -0.63     ┆ 2        │\n",
       "│ 5         ┆           ┆           ┆           ┆   ┆           ┆           ┆           ┆          │\n",
       "│ 2024-10-0 ┆ 88.9      ┆ -2.29     ┆ 54.52     ┆ … ┆ 2.63      ┆ -0.55     ┆ -0.55     ┆ 4        │\n",
       "│ 5         ┆           ┆           ┆           ┆   ┆           ┆           ┆           ┆          │\n",
       "│ 2024-10-0 ┆ 96.2      ┆ -2.16     ┆ 54.51     ┆ … ┆ 1.1       ┆ 0.36      ┆ -0.36     ┆ 1        │\n",
       "│ 5         ┆           ┆           ┆           ┆   ┆           ┆           ┆           ┆          │\n",
       "└───────────┴───────────┴───────────┴───────────┴───┴───────────┴───────────┴───────────┴──────────┘"
      ]
     },
     "execution_count": 20,
     "metadata": {},
     "output_type": "execute_result"
    }
   ],
   "source": [
    "df = df.with_columns(\n",
    "    pl.col(\"pitch_result\").fill_null(\"N/A\").cast(pl.Categorical).to_physical(),\n",
    ")\n",
    "df"
   ]
  },
  {
   "cell_type": "code",
   "execution_count": 21,
   "id": "bbf4dfc0",
   "metadata": {},
   "outputs": [
    {
     "data": {
      "text/html": [
       "<div><style>\n",
       ".dataframe > thead > tr,\n",
       ".dataframe > tbody > tr {\n",
       "  text-align: right;\n",
       "  white-space: pre-wrap;\n",
       "}\n",
       "</style>\n",
       "<small>shape: (29_673, 50)</small><table border=\"1\" class=\"dataframe\"><thead><tr><th>game_date</th><th>release_speed</th><th>release_pos_x</th><th>release_pos_y</th><th>release_pos_z</th><th>player_name</th><th>events</th><th>zone</th><th>stand</th><th>p_throws</th><th>pitch_result</th><th>hit_location</th><th>bb_type</th><th>balls</th><th>strikes</th><th>pfx_x</th><th>pfx_z</th><th>plate_x</th><th>plate_z</th><th>on_3b</th><th>on_2b</th><th>on_1b</th><th>outs_when_up</th><th>inning</th><th>vx0</th><th>vy0</th><th>vz0</th><th>ax</th><th>ay</th><th>az</th><th>sz_top</th><th>sz_bot</th><th>hit_distance_sc</th><th>launch_speed</th><th>launch_angle</th><th>effective_speed</th><th>release_spin_rate</th><th>release_extension</th><th>at_bat_number</th><th>pitch_number</th><th>bat_score</th><th>fld_score</th><th>spin_axis</th><th>n_thruorder_pitcher</th><th>n_priorpa_thisgame_player_at_bat</th><th>pitcher_days_since_prev_game</th><th>api_break_z_with_gravity</th><th>api_break_x_arm</th><th>api_break_x_batter_in</th><th>pitch_type_code</th></tr><tr><td>date</td><td>f64</td><td>f64</td><td>f64</td><td>f64</td><td>str</td><td>u32</td><td>i64</td><td>i64</td><td>i64</td><td>u32</td><td>i8</td><td>str</td><td>i64</td><td>i64</td><td>f64</td><td>f64</td><td>f64</td><td>f64</td><td>str</td><td>i64</td><td>i64</td><td>i64</td><td>i64</td><td>f64</td><td>f64</td><td>f64</td><td>f64</td><td>f64</td><td>f64</td><td>f64</td><td>f64</td><td>i64</td><td>f64</td><td>i64</td><td>f64</td><td>i64</td><td>f64</td><td>i64</td><td>i64</td><td>i64</td><td>i64</td><td>str</td><td>i64</td><td>i64</td><td>i64</td><td>f64</td><td>f64</td><td>f64</td><td>i64</td></tr></thead><tbody><tr><td>2015-07-14</td><td>95.7</td><td>-2.42</td><td>54.5</td><td>5.75</td><td>&quot;Cole, Gerrit&quot;</td><td>0</td><td>4</td><td>0</td><td>0</td><td>0</td><td>8</td><td>&quot;line_drive&quot;</td><td>1</td><td>0</td><td>-0.79</td><td>1.17</td><td>-0.31</td><td>2.29</td><td>null</td><td>null</td><td>518626</td><td>2</td><td>3</td><td>7.662212</td><td>-140.056879</td><td>-5.546647</td><td>-11.76</td><td>31.287</td><td>-16.106</td><td>3.37</td><td>1.59</td><td>340</td><td>106.0</td><td>16</td><td>95.7</td><td>2183</td><td>6.5</td><td>20</td><td>2</td><td>1</td><td>1</td><td>null</td><td>1</td><td>1</td><td>null</td><td>1.36</td><td>0.79</td><td>0.79</td><td>1</td></tr><tr><td>2015-07-14</td><td>95.7</td><td>-2.48</td><td>54.5</td><td>5.69</td><td>&quot;Cole, Gerrit&quot;</td><td>1</td><td>12</td><td>0</td><td>0</td><td>1</td><td>0</td><td>null</td><td>0</td><td>0</td><td>-0.78</td><td>0.91</td><td>1.06</td><td>3.34</td><td>null</td><td>null</td><td>518626</td><td>2</td><td>3</td><td>11.354314</td><td>-139.769222</td><td>-1.942855</td><td>-12.238</td><td>28.457</td><td>-20.127</td><td>3.37</td><td>1.59</td><td>null</td><td>null</td><td>null</td><td>96.7</td><td>1956</td><td>7.0</td><td>20</td><td>1</td><td>1</td><td>1</td><td>null</td><td>1</td><td>1</td><td>null</td><td>1.61</td><td>0.78</td><td>0.78</td><td>1</td></tr><tr><td>2015-07-14</td><td>96.2</td><td>-2.39</td><td>54.5</td><td>5.72</td><td>&quot;Cole, Gerrit&quot;</td><td>2</td><td>14</td><td>0</td><td>0</td><td>1</td><td>0</td><td>null</td><td>3</td><td>2</td><td>-0.78</td><td>1.22</td><td>1.56</td><td>1.76</td><td>null</td><td>null</td><td>null</td><td>2</td><td>3</td><td>12.504157</td><td>-140.245457</td><td>-7.085497</td><td>-12.524</td><td>28.19</td><td>-15.051</td><td>3.48</td><td>1.59</td><td>null</td><td>null</td><td>null</td><td>97.1</td><td>2194</td><td>6.9</td><td>19</td><td>6</td><td>1</td><td>1</td><td>null</td><td>1</td><td>1</td><td>null</td><td>1.28</td><td>0.78</td><td>0.78</td><td>1</td></tr><tr><td>2015-07-14</td><td>97.2</td><td>-2.45</td><td>54.5</td><td>5.8</td><td>&quot;Cole, Gerrit&quot;</td><td>1</td><td>11</td><td>0</td><td>0</td><td>1</td><td>0</td><td>null</td><td>2</td><td>2</td><td>-0.9</td><td>0.75</td><td>-0.52</td><td>4.7</td><td>null</td><td>null</td><td>null</td><td>2</td><td>3</td><td>7.570725</td><td>-142.250686</td><td>1.559001</td><td>-13.446</td><td>28.79</td><td>-22.561</td><td>3.48</td><td>1.59</td><td>null</td><td>null</td><td>null</td><td>98.5</td><td>2059</td><td>6.8</td><td>19</td><td>5</td><td>1</td><td>1</td><td>null</td><td>1</td><td>1</td><td>null</td><td>1.68</td><td>0.9</td><td>0.9</td><td>3</td></tr><tr><td>2015-07-14</td><td>96.9</td><td>-2.48</td><td>54.5</td><td>5.65</td><td>&quot;Cole, Gerrit&quot;</td><td>1</td><td>13</td><td>0</td><td>0</td><td>1</td><td>0</td><td>null</td><td>1</td><td>2</td><td>-0.72</td><td>0.59</td><td>-1.93</td><td>1.91</td><td>null</td><td>null</td><td>null</td><td>2</td><td>3</td><td>3.403575</td><td>-141.949472</td><td>-5.008095</td><td>-10.171</td><td>31.448</td><td>-23.289</td><td>3.48</td><td>1.59</td><td>null</td><td>null</td><td>null</td><td>97.0</td><td>2168</td><td>6.4</td><td>19</td><td>4</td><td>1</td><td>1</td><td>null</td><td>1</td><td>1</td><td>null</td><td>1.86</td><td>0.72</td><td>0.72</td><td>3</td></tr><tr><td>&hellip;</td><td>&hellip;</td><td>&hellip;</td><td>&hellip;</td><td>&hellip;</td><td>&hellip;</td><td>&hellip;</td><td>&hellip;</td><td>&hellip;</td><td>&hellip;</td><td>&hellip;</td><td>&hellip;</td><td>&hellip;</td><td>&hellip;</td><td>&hellip;</td><td>&hellip;</td><td>&hellip;</td><td>&hellip;</td><td>&hellip;</td><td>&hellip;</td><td>&hellip;</td><td>&hellip;</td><td>&hellip;</td><td>&hellip;</td><td>&hellip;</td><td>&hellip;</td><td>&hellip;</td><td>&hellip;</td><td>&hellip;</td><td>&hellip;</td><td>&hellip;</td><td>&hellip;</td><td>&hellip;</td><td>&hellip;</td><td>&hellip;</td><td>&hellip;</td><td>&hellip;</td><td>&hellip;</td><td>&hellip;</td><td>&hellip;</td><td>&hellip;</td><td>&hellip;</td><td>&hellip;</td><td>&hellip;</td><td>&hellip;</td><td>&hellip;</td><td>&hellip;</td><td>&hellip;</td><td>&hellip;</td><td>&hellip;</td></tr><tr><td>2024-10-05</td><td>92.1</td><td>-2.34</td><td>54.48</td><td>6.16</td><td>&quot;Cole, Gerrit&quot;</td><td>1</td><td>5</td><td>1</td><td>0</td><td>2</td><td>0</td><td>null</td><td>0</td><td>0</td><td>0.26</td><td>0.71</td><td>0.13</td><td>2.52</td><td>null</td><td>null</td><td>null</td><td>2</td><td>1</td><td>5.672301</td><td>-133.950565</td><td>-4.870681</td><td>1.740305</td><td>32.370217</td><td>-22.748953</td><td>3.35</td><td>1.71</td><td>null</td><td>null</td><td>null</td><td>91.2</td><td>2685</td><td>6.0</td><td>3</td><td>1</td><td>0</td><td>0</td><td>&quot;172&quot;</td><td>1</td><td>0</td><td>9</td><td>2.01</td><td>-0.26</td><td>0.26</td><td>5</td></tr><tr><td>2024-10-05</td><td>95.1</td><td>-2.11</td><td>54.41</td><td>6.2</td><td>&quot;Cole, Gerrit&quot;</td><td>0</td><td>2</td><td>0</td><td>0</td><td>0</td><td>8</td><td>&quot;fly_ball&quot;</td><td>1</td><td>1</td><td>-0.36</td><td>1.41</td><td>0.11</td><td>3.52</td><td>null</td><td>null</td><td>null</td><td>1</td><td>1</td><td>6.618599</td><td>-138.273188</td><td>-4.454399</td><td>-6.235999</td><td>34.232539</td><td>-13.326961</td><td>3.51</td><td>1.63</td><td>396</td><td>108.4</td><td>22</td><td>94.3</td><td>2310</td><td>6.1</td><td>2</td><td>3</td><td>0</td><td>0</td><td>&quot;208&quot;</td><td>1</td><td>0</td><td>9</td><td>1.14</td><td>0.36</td><td>0.36</td><td>1</td></tr><tr><td>2024-10-05</td><td>82.1</td><td>-2.06</td><td>54.49</td><td>6.19</td><td>&quot;Cole, Gerrit&quot;</td><td>1</td><td>14</td><td>0</td><td>0</td><td>1</td><td>0</td><td>null</td><td>0</td><td>1</td><td>0.63</td><td>-1.47</td><td>0.06</td><td>0.49</td><td>null</td><td>null</td><td>null</td><td>1</td><td>1</td><td>3.534958</td><td>-119.413956</td><td>-3.345334</td><td>5.143649</td><td>28.071677</td><td>-45.440479</td><td>3.43</td><td>1.63</td><td>null</td><td>null</td><td>null</td><td>80.9</td><td>2771</td><td>6.0</td><td>2</td><td>2</td><td>0</td><td>0</td><td>&quot;33&quot;</td><td>1</td><td>0</td><td>9</td><td>4.91</td><td>-0.63</td><td>-0.63</td><td>2</td></tr><tr><td>2024-10-05</td><td>88.9</td><td>-2.29</td><td>54.52</td><td>6.19</td><td>&quot;Cole, Gerrit&quot;</td><td>1</td><td>4</td><td>0</td><td>0</td><td>2</td><td>0</td><td>null</td><td>0</td><td>0</td><td>0.55</td><td>0.24</td><td>-0.35</td><td>2.23</td><td>null</td><td>null</td><td>null</td><td>1</td><td>1</td><td>3.591849</td><td>-129.552365</td><td>-4.184211</td><td>5.480068</td><td>25.738812</td><td>-28.859728</td><td>3.46</td><td>1.61</td><td>null</td><td>null</td><td>null</td><td>88.7</td><td>2623</td><td>6.0</td><td>2</td><td>1</td><td>0</td><td>0</td><td>&quot;134&quot;</td><td>1</td><td>0</td><td>9</td><td>2.63</td><td>-0.55</td><td>-0.55</td><td>4</td></tr><tr><td>2024-10-05</td><td>96.2</td><td>-2.16</td><td>54.51</td><td>6.19</td><td>&quot;Cole, Gerrit&quot;</td><td>0</td><td>6</td><td>1</td><td>0</td><td>0</td><td>9</td><td>&quot;fly_ball&quot;</td><td>0</td><td>0</td><td>-0.36</td><td>1.38</td><td>0.35</td><td>2.51</td><td>null</td><td>null</td><td>null</td><td>0</td><td>1</td><td>7.442987</td><td>-139.754958</td><td>-7.215709</td><td>-6.492477</td><td>33.349223</td><td>-12.608229</td><td>3.35</td><td>1.57</td><td>351</td><td>102.5</td><td>42</td><td>95.3</td><td>2476</td><td>6.0</td><td>1</td><td>1</td><td>0</td><td>0</td><td>&quot;203&quot;</td><td>1</td><td>0</td><td>9</td><td>1.1</td><td>0.36</td><td>-0.36</td><td>1</td></tr></tbody></table></div>"
      ],
      "text/plain": [
       "shape: (29_673, 50)\n",
       "┌───────────┬───────────┬───────────┬───────────┬───┬───────────┬───────────┬───────────┬──────────┐\n",
       "│ game_date ┆ release_s ┆ release_p ┆ release_p ┆ … ┆ api_break ┆ api_break ┆ api_break ┆ pitch_ty │\n",
       "│ ---       ┆ peed      ┆ os_x      ┆ os_y      ┆   ┆ _z_with_g ┆ _x_arm    ┆ _x_batter ┆ pe_code  │\n",
       "│ date      ┆ ---       ┆ ---       ┆ ---       ┆   ┆ ravity    ┆ ---       ┆ _in       ┆ ---      │\n",
       "│           ┆ f64       ┆ f64       ┆ f64       ┆   ┆ ---       ┆ f64       ┆ ---       ┆ i64      │\n",
       "│           ┆           ┆           ┆           ┆   ┆ f64       ┆           ┆ f64       ┆          │\n",
       "╞═══════════╪═══════════╪═══════════╪═══════════╪═══╪═══════════╪═══════════╪═══════════╪══════════╡\n",
       "│ 2015-07-1 ┆ 95.7      ┆ -2.42     ┆ 54.5      ┆ … ┆ 1.36      ┆ 0.79      ┆ 0.79      ┆ 1        │\n",
       "│ 4         ┆           ┆           ┆           ┆   ┆           ┆           ┆           ┆          │\n",
       "│ 2015-07-1 ┆ 95.7      ┆ -2.48     ┆ 54.5      ┆ … ┆ 1.61      ┆ 0.78      ┆ 0.78      ┆ 1        │\n",
       "│ 4         ┆           ┆           ┆           ┆   ┆           ┆           ┆           ┆          │\n",
       "│ 2015-07-1 ┆ 96.2      ┆ -2.39     ┆ 54.5      ┆ … ┆ 1.28      ┆ 0.78      ┆ 0.78      ┆ 1        │\n",
       "│ 4         ┆           ┆           ┆           ┆   ┆           ┆           ┆           ┆          │\n",
       "│ 2015-07-1 ┆ 97.2      ┆ -2.45     ┆ 54.5      ┆ … ┆ 1.68      ┆ 0.9       ┆ 0.9       ┆ 3        │\n",
       "│ 4         ┆           ┆           ┆           ┆   ┆           ┆           ┆           ┆          │\n",
       "│ 2015-07-1 ┆ 96.9      ┆ -2.48     ┆ 54.5      ┆ … ┆ 1.86      ┆ 0.72      ┆ 0.72      ┆ 3        │\n",
       "│ 4         ┆           ┆           ┆           ┆   ┆           ┆           ┆           ┆          │\n",
       "│ …         ┆ …         ┆ …         ┆ …         ┆ … ┆ …         ┆ …         ┆ …         ┆ …        │\n",
       "│ 2024-10-0 ┆ 92.1      ┆ -2.34     ┆ 54.48     ┆ … ┆ 2.01      ┆ -0.26     ┆ 0.26      ┆ 5        │\n",
       "│ 5         ┆           ┆           ┆           ┆   ┆           ┆           ┆           ┆          │\n",
       "│ 2024-10-0 ┆ 95.1      ┆ -2.11     ┆ 54.41     ┆ … ┆ 1.14      ┆ 0.36      ┆ 0.36      ┆ 1        │\n",
       "│ 5         ┆           ┆           ┆           ┆   ┆           ┆           ┆           ┆          │\n",
       "│ 2024-10-0 ┆ 82.1      ┆ -2.06     ┆ 54.49     ┆ … ┆ 4.91      ┆ -0.63     ┆ -0.63     ┆ 2        │\n",
       "│ 5         ┆           ┆           ┆           ┆   ┆           ┆           ┆           ┆          │\n",
       "│ 2024-10-0 ┆ 88.9      ┆ -2.29     ┆ 54.52     ┆ … ┆ 2.63      ┆ -0.55     ┆ -0.55     ┆ 4        │\n",
       "│ 5         ┆           ┆           ┆           ┆   ┆           ┆           ┆           ┆          │\n",
       "│ 2024-10-0 ┆ 96.2      ┆ -2.16     ┆ 54.51     ┆ … ┆ 1.1       ┆ 0.36      ┆ -0.36     ┆ 1        │\n",
       "│ 5         ┆           ┆           ┆           ┆   ┆           ┆           ┆           ┆          │\n",
       "└───────────┴───────────┴───────────┴───────────┴───┴───────────┴───────────┴───────────┴──────────┘"
      ]
     },
     "execution_count": 21,
     "metadata": {},
     "output_type": "execute_result"
    }
   ],
   "source": [
    "df = df.with_columns(\n",
    "    pl.col(\"hit_location\").fill_null(0).cast(pl.Int8).alias(\"hit_location\"),\n",
    ")\n",
    "df"
   ]
  },
  {
   "cell_type": "code",
   "execution_count": 22,
   "id": "ea7a82a1",
   "metadata": {},
   "outputs": [
    {
     "data": {
      "text/html": [
       "<div><style>\n",
       ".dataframe > thead > tr,\n",
       ".dataframe > tbody > tr {\n",
       "  text-align: right;\n",
       "  white-space: pre-wrap;\n",
       "}\n",
       "</style>\n",
       "<small>shape: (29_673, 50)</small><table border=\"1\" class=\"dataframe\"><thead><tr><th>game_date</th><th>release_speed</th><th>release_pos_x</th><th>release_pos_y</th><th>release_pos_z</th><th>player_name</th><th>events</th><th>zone</th><th>stand</th><th>p_throws</th><th>pitch_result</th><th>hit_location</th><th>bb_type</th><th>balls</th><th>strikes</th><th>pfx_x</th><th>pfx_z</th><th>plate_x</th><th>plate_z</th><th>on_3b</th><th>on_2b</th><th>on_1b</th><th>outs_when_up</th><th>inning</th><th>vx0</th><th>vy0</th><th>vz0</th><th>ax</th><th>ay</th><th>az</th><th>sz_top</th><th>sz_bot</th><th>hit_distance_sc</th><th>launch_speed</th><th>launch_angle</th><th>effective_speed</th><th>release_spin_rate</th><th>release_extension</th><th>at_bat_number</th><th>pitch_number</th><th>bat_score</th><th>fld_score</th><th>spin_axis</th><th>n_thruorder_pitcher</th><th>n_priorpa_thisgame_player_at_bat</th><th>pitcher_days_since_prev_game</th><th>api_break_z_with_gravity</th><th>api_break_x_arm</th><th>api_break_x_batter_in</th><th>pitch_type_code</th></tr><tr><td>date</td><td>f64</td><td>f64</td><td>f64</td><td>f64</td><td>str</td><td>u32</td><td>i64</td><td>i64</td><td>i64</td><td>u32</td><td>i8</td><td>u32</td><td>i64</td><td>i64</td><td>f64</td><td>f64</td><td>f64</td><td>f64</td><td>str</td><td>i64</td><td>i64</td><td>i64</td><td>i64</td><td>f64</td><td>f64</td><td>f64</td><td>f64</td><td>f64</td><td>f64</td><td>f64</td><td>f64</td><td>i64</td><td>f64</td><td>i64</td><td>f64</td><td>i64</td><td>f64</td><td>i64</td><td>i64</td><td>i64</td><td>i64</td><td>str</td><td>i64</td><td>i64</td><td>i64</td><td>f64</td><td>f64</td><td>f64</td><td>i64</td></tr></thead><tbody><tr><td>2015-07-14</td><td>95.7</td><td>-2.42</td><td>54.5</td><td>5.75</td><td>&quot;Cole, Gerrit&quot;</td><td>0</td><td>4</td><td>0</td><td>0</td><td>0</td><td>8</td><td>0</td><td>1</td><td>0</td><td>-0.79</td><td>1.17</td><td>-0.31</td><td>2.29</td><td>null</td><td>null</td><td>518626</td><td>2</td><td>3</td><td>7.662212</td><td>-140.056879</td><td>-5.546647</td><td>-11.76</td><td>31.287</td><td>-16.106</td><td>3.37</td><td>1.59</td><td>340</td><td>106.0</td><td>16</td><td>95.7</td><td>2183</td><td>6.5</td><td>20</td><td>2</td><td>1</td><td>1</td><td>null</td><td>1</td><td>1</td><td>null</td><td>1.36</td><td>0.79</td><td>0.79</td><td>1</td></tr><tr><td>2015-07-14</td><td>95.7</td><td>-2.48</td><td>54.5</td><td>5.69</td><td>&quot;Cole, Gerrit&quot;</td><td>1</td><td>12</td><td>0</td><td>0</td><td>1</td><td>0</td><td>1</td><td>0</td><td>0</td><td>-0.78</td><td>0.91</td><td>1.06</td><td>3.34</td><td>null</td><td>null</td><td>518626</td><td>2</td><td>3</td><td>11.354314</td><td>-139.769222</td><td>-1.942855</td><td>-12.238</td><td>28.457</td><td>-20.127</td><td>3.37</td><td>1.59</td><td>null</td><td>null</td><td>null</td><td>96.7</td><td>1956</td><td>7.0</td><td>20</td><td>1</td><td>1</td><td>1</td><td>null</td><td>1</td><td>1</td><td>null</td><td>1.61</td><td>0.78</td><td>0.78</td><td>1</td></tr><tr><td>2015-07-14</td><td>96.2</td><td>-2.39</td><td>54.5</td><td>5.72</td><td>&quot;Cole, Gerrit&quot;</td><td>2</td><td>14</td><td>0</td><td>0</td><td>1</td><td>0</td><td>1</td><td>3</td><td>2</td><td>-0.78</td><td>1.22</td><td>1.56</td><td>1.76</td><td>null</td><td>null</td><td>null</td><td>2</td><td>3</td><td>12.504157</td><td>-140.245457</td><td>-7.085497</td><td>-12.524</td><td>28.19</td><td>-15.051</td><td>3.48</td><td>1.59</td><td>null</td><td>null</td><td>null</td><td>97.1</td><td>2194</td><td>6.9</td><td>19</td><td>6</td><td>1</td><td>1</td><td>null</td><td>1</td><td>1</td><td>null</td><td>1.28</td><td>0.78</td><td>0.78</td><td>1</td></tr><tr><td>2015-07-14</td><td>97.2</td><td>-2.45</td><td>54.5</td><td>5.8</td><td>&quot;Cole, Gerrit&quot;</td><td>1</td><td>11</td><td>0</td><td>0</td><td>1</td><td>0</td><td>1</td><td>2</td><td>2</td><td>-0.9</td><td>0.75</td><td>-0.52</td><td>4.7</td><td>null</td><td>null</td><td>null</td><td>2</td><td>3</td><td>7.570725</td><td>-142.250686</td><td>1.559001</td><td>-13.446</td><td>28.79</td><td>-22.561</td><td>3.48</td><td>1.59</td><td>null</td><td>null</td><td>null</td><td>98.5</td><td>2059</td><td>6.8</td><td>19</td><td>5</td><td>1</td><td>1</td><td>null</td><td>1</td><td>1</td><td>null</td><td>1.68</td><td>0.9</td><td>0.9</td><td>3</td></tr><tr><td>2015-07-14</td><td>96.9</td><td>-2.48</td><td>54.5</td><td>5.65</td><td>&quot;Cole, Gerrit&quot;</td><td>1</td><td>13</td><td>0</td><td>0</td><td>1</td><td>0</td><td>1</td><td>1</td><td>2</td><td>-0.72</td><td>0.59</td><td>-1.93</td><td>1.91</td><td>null</td><td>null</td><td>null</td><td>2</td><td>3</td><td>3.403575</td><td>-141.949472</td><td>-5.008095</td><td>-10.171</td><td>31.448</td><td>-23.289</td><td>3.48</td><td>1.59</td><td>null</td><td>null</td><td>null</td><td>97.0</td><td>2168</td><td>6.4</td><td>19</td><td>4</td><td>1</td><td>1</td><td>null</td><td>1</td><td>1</td><td>null</td><td>1.86</td><td>0.72</td><td>0.72</td><td>3</td></tr><tr><td>&hellip;</td><td>&hellip;</td><td>&hellip;</td><td>&hellip;</td><td>&hellip;</td><td>&hellip;</td><td>&hellip;</td><td>&hellip;</td><td>&hellip;</td><td>&hellip;</td><td>&hellip;</td><td>&hellip;</td><td>&hellip;</td><td>&hellip;</td><td>&hellip;</td><td>&hellip;</td><td>&hellip;</td><td>&hellip;</td><td>&hellip;</td><td>&hellip;</td><td>&hellip;</td><td>&hellip;</td><td>&hellip;</td><td>&hellip;</td><td>&hellip;</td><td>&hellip;</td><td>&hellip;</td><td>&hellip;</td><td>&hellip;</td><td>&hellip;</td><td>&hellip;</td><td>&hellip;</td><td>&hellip;</td><td>&hellip;</td><td>&hellip;</td><td>&hellip;</td><td>&hellip;</td><td>&hellip;</td><td>&hellip;</td><td>&hellip;</td><td>&hellip;</td><td>&hellip;</td><td>&hellip;</td><td>&hellip;</td><td>&hellip;</td><td>&hellip;</td><td>&hellip;</td><td>&hellip;</td><td>&hellip;</td><td>&hellip;</td></tr><tr><td>2024-10-05</td><td>92.1</td><td>-2.34</td><td>54.48</td><td>6.16</td><td>&quot;Cole, Gerrit&quot;</td><td>1</td><td>5</td><td>1</td><td>0</td><td>2</td><td>0</td><td>1</td><td>0</td><td>0</td><td>0.26</td><td>0.71</td><td>0.13</td><td>2.52</td><td>null</td><td>null</td><td>null</td><td>2</td><td>1</td><td>5.672301</td><td>-133.950565</td><td>-4.870681</td><td>1.740305</td><td>32.370217</td><td>-22.748953</td><td>3.35</td><td>1.71</td><td>null</td><td>null</td><td>null</td><td>91.2</td><td>2685</td><td>6.0</td><td>3</td><td>1</td><td>0</td><td>0</td><td>&quot;172&quot;</td><td>1</td><td>0</td><td>9</td><td>2.01</td><td>-0.26</td><td>0.26</td><td>5</td></tr><tr><td>2024-10-05</td><td>95.1</td><td>-2.11</td><td>54.41</td><td>6.2</td><td>&quot;Cole, Gerrit&quot;</td><td>0</td><td>2</td><td>0</td><td>0</td><td>0</td><td>8</td><td>2</td><td>1</td><td>1</td><td>-0.36</td><td>1.41</td><td>0.11</td><td>3.52</td><td>null</td><td>null</td><td>null</td><td>1</td><td>1</td><td>6.618599</td><td>-138.273188</td><td>-4.454399</td><td>-6.235999</td><td>34.232539</td><td>-13.326961</td><td>3.51</td><td>1.63</td><td>396</td><td>108.4</td><td>22</td><td>94.3</td><td>2310</td><td>6.1</td><td>2</td><td>3</td><td>0</td><td>0</td><td>&quot;208&quot;</td><td>1</td><td>0</td><td>9</td><td>1.14</td><td>0.36</td><td>0.36</td><td>1</td></tr><tr><td>2024-10-05</td><td>82.1</td><td>-2.06</td><td>54.49</td><td>6.19</td><td>&quot;Cole, Gerrit&quot;</td><td>1</td><td>14</td><td>0</td><td>0</td><td>1</td><td>0</td><td>1</td><td>0</td><td>1</td><td>0.63</td><td>-1.47</td><td>0.06</td><td>0.49</td><td>null</td><td>null</td><td>null</td><td>1</td><td>1</td><td>3.534958</td><td>-119.413956</td><td>-3.345334</td><td>5.143649</td><td>28.071677</td><td>-45.440479</td><td>3.43</td><td>1.63</td><td>null</td><td>null</td><td>null</td><td>80.9</td><td>2771</td><td>6.0</td><td>2</td><td>2</td><td>0</td><td>0</td><td>&quot;33&quot;</td><td>1</td><td>0</td><td>9</td><td>4.91</td><td>-0.63</td><td>-0.63</td><td>2</td></tr><tr><td>2024-10-05</td><td>88.9</td><td>-2.29</td><td>54.52</td><td>6.19</td><td>&quot;Cole, Gerrit&quot;</td><td>1</td><td>4</td><td>0</td><td>0</td><td>2</td><td>0</td><td>1</td><td>0</td><td>0</td><td>0.55</td><td>0.24</td><td>-0.35</td><td>2.23</td><td>null</td><td>null</td><td>null</td><td>1</td><td>1</td><td>3.591849</td><td>-129.552365</td><td>-4.184211</td><td>5.480068</td><td>25.738812</td><td>-28.859728</td><td>3.46</td><td>1.61</td><td>null</td><td>null</td><td>null</td><td>88.7</td><td>2623</td><td>6.0</td><td>2</td><td>1</td><td>0</td><td>0</td><td>&quot;134&quot;</td><td>1</td><td>0</td><td>9</td><td>2.63</td><td>-0.55</td><td>-0.55</td><td>4</td></tr><tr><td>2024-10-05</td><td>96.2</td><td>-2.16</td><td>54.51</td><td>6.19</td><td>&quot;Cole, Gerrit&quot;</td><td>0</td><td>6</td><td>1</td><td>0</td><td>0</td><td>9</td><td>2</td><td>0</td><td>0</td><td>-0.36</td><td>1.38</td><td>0.35</td><td>2.51</td><td>null</td><td>null</td><td>null</td><td>0</td><td>1</td><td>7.442987</td><td>-139.754958</td><td>-7.215709</td><td>-6.492477</td><td>33.349223</td><td>-12.608229</td><td>3.35</td><td>1.57</td><td>351</td><td>102.5</td><td>42</td><td>95.3</td><td>2476</td><td>6.0</td><td>1</td><td>1</td><td>0</td><td>0</td><td>&quot;203&quot;</td><td>1</td><td>0</td><td>9</td><td>1.1</td><td>0.36</td><td>-0.36</td><td>1</td></tr></tbody></table></div>"
      ],
      "text/plain": [
       "shape: (29_673, 50)\n",
       "┌───────────┬───────────┬───────────┬───────────┬───┬───────────┬───────────┬───────────┬──────────┐\n",
       "│ game_date ┆ release_s ┆ release_p ┆ release_p ┆ … ┆ api_break ┆ api_break ┆ api_break ┆ pitch_ty │\n",
       "│ ---       ┆ peed      ┆ os_x      ┆ os_y      ┆   ┆ _z_with_g ┆ _x_arm    ┆ _x_batter ┆ pe_code  │\n",
       "│ date      ┆ ---       ┆ ---       ┆ ---       ┆   ┆ ravity    ┆ ---       ┆ _in       ┆ ---      │\n",
       "│           ┆ f64       ┆ f64       ┆ f64       ┆   ┆ ---       ┆ f64       ┆ ---       ┆ i64      │\n",
       "│           ┆           ┆           ┆           ┆   ┆ f64       ┆           ┆ f64       ┆          │\n",
       "╞═══════════╪═══════════╪═══════════╪═══════════╪═══╪═══════════╪═══════════╪═══════════╪══════════╡\n",
       "│ 2015-07-1 ┆ 95.7      ┆ -2.42     ┆ 54.5      ┆ … ┆ 1.36      ┆ 0.79      ┆ 0.79      ┆ 1        │\n",
       "│ 4         ┆           ┆           ┆           ┆   ┆           ┆           ┆           ┆          │\n",
       "│ 2015-07-1 ┆ 95.7      ┆ -2.48     ┆ 54.5      ┆ … ┆ 1.61      ┆ 0.78      ┆ 0.78      ┆ 1        │\n",
       "│ 4         ┆           ┆           ┆           ┆   ┆           ┆           ┆           ┆          │\n",
       "│ 2015-07-1 ┆ 96.2      ┆ -2.39     ┆ 54.5      ┆ … ┆ 1.28      ┆ 0.78      ┆ 0.78      ┆ 1        │\n",
       "│ 4         ┆           ┆           ┆           ┆   ┆           ┆           ┆           ┆          │\n",
       "│ 2015-07-1 ┆ 97.2      ┆ -2.45     ┆ 54.5      ┆ … ┆ 1.68      ┆ 0.9       ┆ 0.9       ┆ 3        │\n",
       "│ 4         ┆           ┆           ┆           ┆   ┆           ┆           ┆           ┆          │\n",
       "│ 2015-07-1 ┆ 96.9      ┆ -2.48     ┆ 54.5      ┆ … ┆ 1.86      ┆ 0.72      ┆ 0.72      ┆ 3        │\n",
       "│ 4         ┆           ┆           ┆           ┆   ┆           ┆           ┆           ┆          │\n",
       "│ …         ┆ …         ┆ …         ┆ …         ┆ … ┆ …         ┆ …         ┆ …         ┆ …        │\n",
       "│ 2024-10-0 ┆ 92.1      ┆ -2.34     ┆ 54.48     ┆ … ┆ 2.01      ┆ -0.26     ┆ 0.26      ┆ 5        │\n",
       "│ 5         ┆           ┆           ┆           ┆   ┆           ┆           ┆           ┆          │\n",
       "│ 2024-10-0 ┆ 95.1      ┆ -2.11     ┆ 54.41     ┆ … ┆ 1.14      ┆ 0.36      ┆ 0.36      ┆ 1        │\n",
       "│ 5         ┆           ┆           ┆           ┆   ┆           ┆           ┆           ┆          │\n",
       "│ 2024-10-0 ┆ 82.1      ┆ -2.06     ┆ 54.49     ┆ … ┆ 4.91      ┆ -0.63     ┆ -0.63     ┆ 2        │\n",
       "│ 5         ┆           ┆           ┆           ┆   ┆           ┆           ┆           ┆          │\n",
       "│ 2024-10-0 ┆ 88.9      ┆ -2.29     ┆ 54.52     ┆ … ┆ 2.63      ┆ -0.55     ┆ -0.55     ┆ 4        │\n",
       "│ 5         ┆           ┆           ┆           ┆   ┆           ┆           ┆           ┆          │\n",
       "│ 2024-10-0 ┆ 96.2      ┆ -2.16     ┆ 54.51     ┆ … ┆ 1.1       ┆ 0.36      ┆ -0.36     ┆ 1        │\n",
       "│ 5         ┆           ┆           ┆           ┆   ┆           ┆           ┆           ┆          │\n",
       "└───────────┴───────────┴───────────┴───────────┴───┴───────────┴───────────┴───────────┴──────────┘"
      ]
     },
     "execution_count": 22,
     "metadata": {},
     "output_type": "execute_result"
    }
   ],
   "source": [
    "df = df.with_columns(\n",
    "    pl.col(\"bb_type\").fill_null(\"N/A\").cast(pl.Categorical).to_physical(),\n",
    ")\n",
    "df"
   ]
  },
  {
   "cell_type": "code",
   "execution_count": 23,
   "id": "88038774",
   "metadata": {},
   "outputs": [],
   "source": [
    "df = df.with_columns(\n",
    "    (pl.col(\"balls\").cast(pl.String) + \"-\" + pl.col(\"strikes\").cast(pl.String))\n",
    "    .cast(pl.Categorical)\n",
    "    .to_physical()\n",
    "    .alias(\"balls_strikes\"),\n",
    ").drop([\"balls\", \"strikes\"])"
   ]
  },
  {
   "cell_type": "code",
   "execution_count": 24,
   "id": "c3e06f0f",
   "metadata": {},
   "outputs": [
    {
     "data": {
      "text/html": [
       "<div><style>\n",
       ".dataframe > thead > tr,\n",
       ".dataframe > tbody > tr {\n",
       "  text-align: right;\n",
       "  white-space: pre-wrap;\n",
       "}\n",
       "</style>\n",
       "<small>shape: (29_673, 49)</small><table border=\"1\" class=\"dataframe\"><thead><tr><th>game_date</th><th>release_speed</th><th>release_pos_x</th><th>release_pos_y</th><th>release_pos_z</th><th>player_name</th><th>events</th><th>zone</th><th>stand</th><th>p_throws</th><th>pitch_result</th><th>hit_location</th><th>bb_type</th><th>pfx_x</th><th>pfx_z</th><th>plate_x</th><th>plate_z</th><th>on_3b</th><th>on_2b</th><th>on_1b</th><th>outs_when_up</th><th>inning</th><th>vx0</th><th>vy0</th><th>vz0</th><th>ax</th><th>ay</th><th>az</th><th>sz_top</th><th>sz_bot</th><th>hit_distance_sc</th><th>launch_speed</th><th>launch_angle</th><th>effective_speed</th><th>release_spin_rate</th><th>release_extension</th><th>at_bat_number</th><th>pitch_number</th><th>bat_score</th><th>fld_score</th><th>spin_axis</th><th>n_thruorder_pitcher</th><th>n_priorpa_thisgame_player_at_bat</th><th>pitcher_days_since_prev_game</th><th>api_break_z_with_gravity</th><th>api_break_x_arm</th><th>api_break_x_batter_in</th><th>pitch_type_code</th><th>balls_strikes</th></tr><tr><td>date</td><td>f64</td><td>f64</td><td>f64</td><td>f64</td><td>str</td><td>u32</td><td>i64</td><td>i64</td><td>i64</td><td>u32</td><td>i8</td><td>u32</td><td>f64</td><td>f64</td><td>f64</td><td>f64</td><td>i32</td><td>i32</td><td>i32</td><td>i64</td><td>i64</td><td>f64</td><td>f64</td><td>f64</td><td>f64</td><td>f64</td><td>f64</td><td>f64</td><td>f64</td><td>i64</td><td>f64</td><td>i64</td><td>f64</td><td>i64</td><td>f64</td><td>i64</td><td>i64</td><td>i64</td><td>i64</td><td>str</td><td>i64</td><td>i64</td><td>i64</td><td>f64</td><td>f64</td><td>f64</td><td>i64</td><td>u32</td></tr></thead><tbody><tr><td>2015-07-14</td><td>95.7</td><td>-2.42</td><td>54.5</td><td>5.75</td><td>&quot;Cole, Gerrit&quot;</td><td>0</td><td>4</td><td>0</td><td>0</td><td>0</td><td>8</td><td>0</td><td>-0.79</td><td>1.17</td><td>-0.31</td><td>2.29</td><td>0</td><td>0</td><td>1</td><td>2</td><td>3</td><td>7.662212</td><td>-140.056879</td><td>-5.546647</td><td>-11.76</td><td>31.287</td><td>-16.106</td><td>3.37</td><td>1.59</td><td>340</td><td>106.0</td><td>16</td><td>95.7</td><td>2183</td><td>6.5</td><td>20</td><td>2</td><td>1</td><td>1</td><td>null</td><td>1</td><td>1</td><td>null</td><td>1.36</td><td>0.79</td><td>0.79</td><td>1</td><td>0</td></tr><tr><td>2015-07-14</td><td>95.7</td><td>-2.48</td><td>54.5</td><td>5.69</td><td>&quot;Cole, Gerrit&quot;</td><td>1</td><td>12</td><td>0</td><td>0</td><td>1</td><td>0</td><td>1</td><td>-0.78</td><td>0.91</td><td>1.06</td><td>3.34</td><td>0</td><td>0</td><td>1</td><td>2</td><td>3</td><td>11.354314</td><td>-139.769222</td><td>-1.942855</td><td>-12.238</td><td>28.457</td><td>-20.127</td><td>3.37</td><td>1.59</td><td>null</td><td>null</td><td>null</td><td>96.7</td><td>1956</td><td>7.0</td><td>20</td><td>1</td><td>1</td><td>1</td><td>null</td><td>1</td><td>1</td><td>null</td><td>1.61</td><td>0.78</td><td>0.78</td><td>1</td><td>1</td></tr><tr><td>2015-07-14</td><td>96.2</td><td>-2.39</td><td>54.5</td><td>5.72</td><td>&quot;Cole, Gerrit&quot;</td><td>2</td><td>14</td><td>0</td><td>0</td><td>1</td><td>0</td><td>1</td><td>-0.78</td><td>1.22</td><td>1.56</td><td>1.76</td><td>0</td><td>0</td><td>0</td><td>2</td><td>3</td><td>12.504157</td><td>-140.245457</td><td>-7.085497</td><td>-12.524</td><td>28.19</td><td>-15.051</td><td>3.48</td><td>1.59</td><td>null</td><td>null</td><td>null</td><td>97.1</td><td>2194</td><td>6.9</td><td>19</td><td>6</td><td>1</td><td>1</td><td>null</td><td>1</td><td>1</td><td>null</td><td>1.28</td><td>0.78</td><td>0.78</td><td>1</td><td>2</td></tr><tr><td>2015-07-14</td><td>97.2</td><td>-2.45</td><td>54.5</td><td>5.8</td><td>&quot;Cole, Gerrit&quot;</td><td>1</td><td>11</td><td>0</td><td>0</td><td>1</td><td>0</td><td>1</td><td>-0.9</td><td>0.75</td><td>-0.52</td><td>4.7</td><td>0</td><td>0</td><td>0</td><td>2</td><td>3</td><td>7.570725</td><td>-142.250686</td><td>1.559001</td><td>-13.446</td><td>28.79</td><td>-22.561</td><td>3.48</td><td>1.59</td><td>null</td><td>null</td><td>null</td><td>98.5</td><td>2059</td><td>6.8</td><td>19</td><td>5</td><td>1</td><td>1</td><td>null</td><td>1</td><td>1</td><td>null</td><td>1.68</td><td>0.9</td><td>0.9</td><td>3</td><td>3</td></tr><tr><td>2015-07-14</td><td>96.9</td><td>-2.48</td><td>54.5</td><td>5.65</td><td>&quot;Cole, Gerrit&quot;</td><td>1</td><td>13</td><td>0</td><td>0</td><td>1</td><td>0</td><td>1</td><td>-0.72</td><td>0.59</td><td>-1.93</td><td>1.91</td><td>0</td><td>0</td><td>0</td><td>2</td><td>3</td><td>3.403575</td><td>-141.949472</td><td>-5.008095</td><td>-10.171</td><td>31.448</td><td>-23.289</td><td>3.48</td><td>1.59</td><td>null</td><td>null</td><td>null</td><td>97.0</td><td>2168</td><td>6.4</td><td>19</td><td>4</td><td>1</td><td>1</td><td>null</td><td>1</td><td>1</td><td>null</td><td>1.86</td><td>0.72</td><td>0.72</td><td>3</td><td>4</td></tr><tr><td>&hellip;</td><td>&hellip;</td><td>&hellip;</td><td>&hellip;</td><td>&hellip;</td><td>&hellip;</td><td>&hellip;</td><td>&hellip;</td><td>&hellip;</td><td>&hellip;</td><td>&hellip;</td><td>&hellip;</td><td>&hellip;</td><td>&hellip;</td><td>&hellip;</td><td>&hellip;</td><td>&hellip;</td><td>&hellip;</td><td>&hellip;</td><td>&hellip;</td><td>&hellip;</td><td>&hellip;</td><td>&hellip;</td><td>&hellip;</td><td>&hellip;</td><td>&hellip;</td><td>&hellip;</td><td>&hellip;</td><td>&hellip;</td><td>&hellip;</td><td>&hellip;</td><td>&hellip;</td><td>&hellip;</td><td>&hellip;</td><td>&hellip;</td><td>&hellip;</td><td>&hellip;</td><td>&hellip;</td><td>&hellip;</td><td>&hellip;</td><td>&hellip;</td><td>&hellip;</td><td>&hellip;</td><td>&hellip;</td><td>&hellip;</td><td>&hellip;</td><td>&hellip;</td><td>&hellip;</td><td>&hellip;</td></tr><tr><td>2024-10-05</td><td>92.1</td><td>-2.34</td><td>54.48</td><td>6.16</td><td>&quot;Cole, Gerrit&quot;</td><td>1</td><td>5</td><td>1</td><td>0</td><td>2</td><td>0</td><td>1</td><td>0.26</td><td>0.71</td><td>0.13</td><td>2.52</td><td>0</td><td>0</td><td>0</td><td>2</td><td>1</td><td>5.672301</td><td>-133.950565</td><td>-4.870681</td><td>1.740305</td><td>32.370217</td><td>-22.748953</td><td>3.35</td><td>1.71</td><td>null</td><td>null</td><td>null</td><td>91.2</td><td>2685</td><td>6.0</td><td>3</td><td>1</td><td>0</td><td>0</td><td>&quot;172&quot;</td><td>1</td><td>0</td><td>9</td><td>2.01</td><td>-0.26</td><td>0.26</td><td>5</td><td>1</td></tr><tr><td>2024-10-05</td><td>95.1</td><td>-2.11</td><td>54.41</td><td>6.2</td><td>&quot;Cole, Gerrit&quot;</td><td>0</td><td>2</td><td>0</td><td>0</td><td>0</td><td>8</td><td>2</td><td>-0.36</td><td>1.41</td><td>0.11</td><td>3.52</td><td>0</td><td>0</td><td>0</td><td>1</td><td>1</td><td>6.618599</td><td>-138.273188</td><td>-4.454399</td><td>-6.235999</td><td>34.232539</td><td>-13.326961</td><td>3.51</td><td>1.63</td><td>396</td><td>108.4</td><td>22</td><td>94.3</td><td>2310</td><td>6.1</td><td>2</td><td>3</td><td>0</td><td>0</td><td>&quot;208&quot;</td><td>1</td><td>0</td><td>9</td><td>1.14</td><td>0.36</td><td>0.36</td><td>1</td><td>5</td></tr><tr><td>2024-10-05</td><td>82.1</td><td>-2.06</td><td>54.49</td><td>6.19</td><td>&quot;Cole, Gerrit&quot;</td><td>1</td><td>14</td><td>0</td><td>0</td><td>1</td><td>0</td><td>1</td><td>0.63</td><td>-1.47</td><td>0.06</td><td>0.49</td><td>0</td><td>0</td><td>0</td><td>1</td><td>1</td><td>3.534958</td><td>-119.413956</td><td>-3.345334</td><td>5.143649</td><td>28.071677</td><td>-45.440479</td><td>3.43</td><td>1.63</td><td>null</td><td>null</td><td>null</td><td>80.9</td><td>2771</td><td>6.0</td><td>2</td><td>2</td><td>0</td><td>0</td><td>&quot;33&quot;</td><td>1</td><td>0</td><td>9</td><td>4.91</td><td>-0.63</td><td>-0.63</td><td>2</td><td>7</td></tr><tr><td>2024-10-05</td><td>88.9</td><td>-2.29</td><td>54.52</td><td>6.19</td><td>&quot;Cole, Gerrit&quot;</td><td>1</td><td>4</td><td>0</td><td>0</td><td>2</td><td>0</td><td>1</td><td>0.55</td><td>0.24</td><td>-0.35</td><td>2.23</td><td>0</td><td>0</td><td>0</td><td>1</td><td>1</td><td>3.591849</td><td>-129.552365</td><td>-4.184211</td><td>5.480068</td><td>25.738812</td><td>-28.859728</td><td>3.46</td><td>1.61</td><td>null</td><td>null</td><td>null</td><td>88.7</td><td>2623</td><td>6.0</td><td>2</td><td>1</td><td>0</td><td>0</td><td>&quot;134&quot;</td><td>1</td><td>0</td><td>9</td><td>2.63</td><td>-0.55</td><td>-0.55</td><td>4</td><td>1</td></tr><tr><td>2024-10-05</td><td>96.2</td><td>-2.16</td><td>54.51</td><td>6.19</td><td>&quot;Cole, Gerrit&quot;</td><td>0</td><td>6</td><td>1</td><td>0</td><td>0</td><td>9</td><td>2</td><td>-0.36</td><td>1.38</td><td>0.35</td><td>2.51</td><td>0</td><td>0</td><td>0</td><td>0</td><td>1</td><td>7.442987</td><td>-139.754958</td><td>-7.215709</td><td>-6.492477</td><td>33.349223</td><td>-12.608229</td><td>3.35</td><td>1.57</td><td>351</td><td>102.5</td><td>42</td><td>95.3</td><td>2476</td><td>6.0</td><td>1</td><td>1</td><td>0</td><td>0</td><td>&quot;203&quot;</td><td>1</td><td>0</td><td>9</td><td>1.1</td><td>0.36</td><td>-0.36</td><td>1</td><td>1</td></tr></tbody></table></div>"
      ],
      "text/plain": [
       "shape: (29_673, 49)\n",
       "┌───────────┬───────────┬───────────┬───────────┬───┬───────────┬───────────┬───────────┬──────────┐\n",
       "│ game_date ┆ release_s ┆ release_p ┆ release_p ┆ … ┆ api_break ┆ api_break ┆ pitch_typ ┆ balls_st │\n",
       "│ ---       ┆ peed      ┆ os_x      ┆ os_y      ┆   ┆ _x_arm    ┆ _x_batter ┆ e_code    ┆ rikes    │\n",
       "│ date      ┆ ---       ┆ ---       ┆ ---       ┆   ┆ ---       ┆ _in       ┆ ---       ┆ ---      │\n",
       "│           ┆ f64       ┆ f64       ┆ f64       ┆   ┆ f64       ┆ ---       ┆ i64       ┆ u32      │\n",
       "│           ┆           ┆           ┆           ┆   ┆           ┆ f64       ┆           ┆          │\n",
       "╞═══════════╪═══════════╪═══════════╪═══════════╪═══╪═══════════╪═══════════╪═══════════╪══════════╡\n",
       "│ 2015-07-1 ┆ 95.7      ┆ -2.42     ┆ 54.5      ┆ … ┆ 0.79      ┆ 0.79      ┆ 1         ┆ 0        │\n",
       "│ 4         ┆           ┆           ┆           ┆   ┆           ┆           ┆           ┆          │\n",
       "│ 2015-07-1 ┆ 95.7      ┆ -2.48     ┆ 54.5      ┆ … ┆ 0.78      ┆ 0.78      ┆ 1         ┆ 1        │\n",
       "│ 4         ┆           ┆           ┆           ┆   ┆           ┆           ┆           ┆          │\n",
       "│ 2015-07-1 ┆ 96.2      ┆ -2.39     ┆ 54.5      ┆ … ┆ 0.78      ┆ 0.78      ┆ 1         ┆ 2        │\n",
       "│ 4         ┆           ┆           ┆           ┆   ┆           ┆           ┆           ┆          │\n",
       "│ 2015-07-1 ┆ 97.2      ┆ -2.45     ┆ 54.5      ┆ … ┆ 0.9       ┆ 0.9       ┆ 3         ┆ 3        │\n",
       "│ 4         ┆           ┆           ┆           ┆   ┆           ┆           ┆           ┆          │\n",
       "│ 2015-07-1 ┆ 96.9      ┆ -2.48     ┆ 54.5      ┆ … ┆ 0.72      ┆ 0.72      ┆ 3         ┆ 4        │\n",
       "│ 4         ┆           ┆           ┆           ┆   ┆           ┆           ┆           ┆          │\n",
       "│ …         ┆ …         ┆ …         ┆ …         ┆ … ┆ …         ┆ …         ┆ …         ┆ …        │\n",
       "│ 2024-10-0 ┆ 92.1      ┆ -2.34     ┆ 54.48     ┆ … ┆ -0.26     ┆ 0.26      ┆ 5         ┆ 1        │\n",
       "│ 5         ┆           ┆           ┆           ┆   ┆           ┆           ┆           ┆          │\n",
       "│ 2024-10-0 ┆ 95.1      ┆ -2.11     ┆ 54.41     ┆ … ┆ 0.36      ┆ 0.36      ┆ 1         ┆ 5        │\n",
       "│ 5         ┆           ┆           ┆           ┆   ┆           ┆           ┆           ┆          │\n",
       "│ 2024-10-0 ┆ 82.1      ┆ -2.06     ┆ 54.49     ┆ … ┆ -0.63     ┆ -0.63     ┆ 2         ┆ 7        │\n",
       "│ 5         ┆           ┆           ┆           ┆   ┆           ┆           ┆           ┆          │\n",
       "│ 2024-10-0 ┆ 88.9      ┆ -2.29     ┆ 54.52     ┆ … ┆ -0.55     ┆ -0.55     ┆ 4         ┆ 1        │\n",
       "│ 5         ┆           ┆           ┆           ┆   ┆           ┆           ┆           ┆          │\n",
       "│ 2024-10-0 ┆ 96.2      ┆ -2.16     ┆ 54.51     ┆ … ┆ 0.36      ┆ -0.36     ┆ 1         ┆ 1        │\n",
       "│ 5         ┆           ┆           ┆           ┆   ┆           ┆           ┆           ┆          │\n",
       "└───────────┴───────────┴───────────┴───────────┴───┴───────────┴───────────┴───────────┴──────────┘"
      ]
     },
     "execution_count": 24,
     "metadata": {},
     "output_type": "execute_result"
    }
   ],
   "source": [
    "df = df.with_columns(\n",
    "    pl.when(pl.col(\"on_3b\").is_null()).then(0).otherwise(1).alias(\"on_3b\"),\n",
    "    pl.when(pl.col(\"on_2b\").is_null()).then(0).otherwise(1).alias(\"on_2b\"),\n",
    "    pl.when(pl.col(\"on_1b\").is_null()).then(0).otherwise(1).alias(\"on_1b\"),\n",
    ")\n",
    "df"
   ]
  },
  {
   "cell_type": "code",
   "execution_count": 25,
   "id": "cf5b52a2",
   "metadata": {},
   "outputs": [
    {
     "data": {
      "text/html": [
       "<div><style>\n",
       ".dataframe > thead > tr,\n",
       ".dataframe > tbody > tr {\n",
       "  text-align: right;\n",
       "  white-space: pre-wrap;\n",
       "}\n",
       "</style>\n",
       "<small>shape: (29_673, 49)</small><table border=\"1\" class=\"dataframe\"><thead><tr><th>game_date</th><th>release_speed</th><th>release_pos_x</th><th>release_pos_y</th><th>release_pos_z</th><th>player_name</th><th>events</th><th>zone</th><th>stand</th><th>p_throws</th><th>pitch_result</th><th>hit_location</th><th>bb_type</th><th>pfx_x</th><th>pfx_z</th><th>plate_x</th><th>plate_z</th><th>on_3b</th><th>on_2b</th><th>on_1b</th><th>outs_when_up</th><th>inning</th><th>vx0</th><th>vy0</th><th>vz0</th><th>ax</th><th>ay</th><th>az</th><th>sz_top</th><th>sz_bot</th><th>hit_distance_sc</th><th>launch_speed</th><th>launch_angle</th><th>effective_speed</th><th>release_spin_rate</th><th>release_extension</th><th>at_bat_number</th><th>pitch_number</th><th>bat_score</th><th>fld_score</th><th>spin_axis</th><th>n_thruorder_pitcher</th><th>n_priorpa_thisgame_player_at_bat</th><th>pitcher_days_since_prev_game</th><th>api_break_z_with_gravity</th><th>api_break_x_arm</th><th>api_break_x_batter_in</th><th>pitch_type_code</th><th>balls_strikes</th></tr><tr><td>date</td><td>f64</td><td>f64</td><td>f64</td><td>f64</td><td>str</td><td>u32</td><td>i64</td><td>i64</td><td>i64</td><td>u32</td><td>i8</td><td>u32</td><td>f64</td><td>f64</td><td>f64</td><td>f64</td><td>i32</td><td>i32</td><td>i32</td><td>i64</td><td>i64</td><td>f64</td><td>f64</td><td>f64</td><td>f64</td><td>f64</td><td>f64</td><td>f64</td><td>f64</td><td>i64</td><td>f64</td><td>i64</td><td>f64</td><td>i64</td><td>f64</td><td>i64</td><td>i64</td><td>i64</td><td>i64</td><td>i16</td><td>i64</td><td>i64</td><td>i64</td><td>f64</td><td>f64</td><td>f64</td><td>i64</td><td>u32</td></tr></thead><tbody><tr><td>2015-07-14</td><td>95.7</td><td>-2.42</td><td>54.5</td><td>5.75</td><td>&quot;Cole, Gerrit&quot;</td><td>0</td><td>4</td><td>0</td><td>0</td><td>0</td><td>8</td><td>0</td><td>-0.79</td><td>1.17</td><td>-0.31</td><td>2.29</td><td>0</td><td>0</td><td>1</td><td>2</td><td>3</td><td>7.662212</td><td>-140.056879</td><td>-5.546647</td><td>-11.76</td><td>31.287</td><td>-16.106</td><td>3.37</td><td>1.59</td><td>340</td><td>106.0</td><td>16</td><td>95.7</td><td>2183</td><td>6.5</td><td>20</td><td>2</td><td>1</td><td>1</td><td>-1</td><td>1</td><td>1</td><td>null</td><td>1.36</td><td>0.79</td><td>0.79</td><td>1</td><td>0</td></tr><tr><td>2015-07-14</td><td>95.7</td><td>-2.48</td><td>54.5</td><td>5.69</td><td>&quot;Cole, Gerrit&quot;</td><td>1</td><td>12</td><td>0</td><td>0</td><td>1</td><td>0</td><td>1</td><td>-0.78</td><td>0.91</td><td>1.06</td><td>3.34</td><td>0</td><td>0</td><td>1</td><td>2</td><td>3</td><td>11.354314</td><td>-139.769222</td><td>-1.942855</td><td>-12.238</td><td>28.457</td><td>-20.127</td><td>3.37</td><td>1.59</td><td>null</td><td>null</td><td>null</td><td>96.7</td><td>1956</td><td>7.0</td><td>20</td><td>1</td><td>1</td><td>1</td><td>-1</td><td>1</td><td>1</td><td>null</td><td>1.61</td><td>0.78</td><td>0.78</td><td>1</td><td>1</td></tr><tr><td>2015-07-14</td><td>96.2</td><td>-2.39</td><td>54.5</td><td>5.72</td><td>&quot;Cole, Gerrit&quot;</td><td>2</td><td>14</td><td>0</td><td>0</td><td>1</td><td>0</td><td>1</td><td>-0.78</td><td>1.22</td><td>1.56</td><td>1.76</td><td>0</td><td>0</td><td>0</td><td>2</td><td>3</td><td>12.504157</td><td>-140.245457</td><td>-7.085497</td><td>-12.524</td><td>28.19</td><td>-15.051</td><td>3.48</td><td>1.59</td><td>null</td><td>null</td><td>null</td><td>97.1</td><td>2194</td><td>6.9</td><td>19</td><td>6</td><td>1</td><td>1</td><td>-1</td><td>1</td><td>1</td><td>null</td><td>1.28</td><td>0.78</td><td>0.78</td><td>1</td><td>2</td></tr><tr><td>2015-07-14</td><td>97.2</td><td>-2.45</td><td>54.5</td><td>5.8</td><td>&quot;Cole, Gerrit&quot;</td><td>1</td><td>11</td><td>0</td><td>0</td><td>1</td><td>0</td><td>1</td><td>-0.9</td><td>0.75</td><td>-0.52</td><td>4.7</td><td>0</td><td>0</td><td>0</td><td>2</td><td>3</td><td>7.570725</td><td>-142.250686</td><td>1.559001</td><td>-13.446</td><td>28.79</td><td>-22.561</td><td>3.48</td><td>1.59</td><td>null</td><td>null</td><td>null</td><td>98.5</td><td>2059</td><td>6.8</td><td>19</td><td>5</td><td>1</td><td>1</td><td>-1</td><td>1</td><td>1</td><td>null</td><td>1.68</td><td>0.9</td><td>0.9</td><td>3</td><td>3</td></tr><tr><td>2015-07-14</td><td>96.9</td><td>-2.48</td><td>54.5</td><td>5.65</td><td>&quot;Cole, Gerrit&quot;</td><td>1</td><td>13</td><td>0</td><td>0</td><td>1</td><td>0</td><td>1</td><td>-0.72</td><td>0.59</td><td>-1.93</td><td>1.91</td><td>0</td><td>0</td><td>0</td><td>2</td><td>3</td><td>3.403575</td><td>-141.949472</td><td>-5.008095</td><td>-10.171</td><td>31.448</td><td>-23.289</td><td>3.48</td><td>1.59</td><td>null</td><td>null</td><td>null</td><td>97.0</td><td>2168</td><td>6.4</td><td>19</td><td>4</td><td>1</td><td>1</td><td>-1</td><td>1</td><td>1</td><td>null</td><td>1.86</td><td>0.72</td><td>0.72</td><td>3</td><td>4</td></tr><tr><td>&hellip;</td><td>&hellip;</td><td>&hellip;</td><td>&hellip;</td><td>&hellip;</td><td>&hellip;</td><td>&hellip;</td><td>&hellip;</td><td>&hellip;</td><td>&hellip;</td><td>&hellip;</td><td>&hellip;</td><td>&hellip;</td><td>&hellip;</td><td>&hellip;</td><td>&hellip;</td><td>&hellip;</td><td>&hellip;</td><td>&hellip;</td><td>&hellip;</td><td>&hellip;</td><td>&hellip;</td><td>&hellip;</td><td>&hellip;</td><td>&hellip;</td><td>&hellip;</td><td>&hellip;</td><td>&hellip;</td><td>&hellip;</td><td>&hellip;</td><td>&hellip;</td><td>&hellip;</td><td>&hellip;</td><td>&hellip;</td><td>&hellip;</td><td>&hellip;</td><td>&hellip;</td><td>&hellip;</td><td>&hellip;</td><td>&hellip;</td><td>&hellip;</td><td>&hellip;</td><td>&hellip;</td><td>&hellip;</td><td>&hellip;</td><td>&hellip;</td><td>&hellip;</td><td>&hellip;</td><td>&hellip;</td></tr><tr><td>2024-10-05</td><td>92.1</td><td>-2.34</td><td>54.48</td><td>6.16</td><td>&quot;Cole, Gerrit&quot;</td><td>1</td><td>5</td><td>1</td><td>0</td><td>2</td><td>0</td><td>1</td><td>0.26</td><td>0.71</td><td>0.13</td><td>2.52</td><td>0</td><td>0</td><td>0</td><td>2</td><td>1</td><td>5.672301</td><td>-133.950565</td><td>-4.870681</td><td>1.740305</td><td>32.370217</td><td>-22.748953</td><td>3.35</td><td>1.71</td><td>null</td><td>null</td><td>null</td><td>91.2</td><td>2685</td><td>6.0</td><td>3</td><td>1</td><td>0</td><td>0</td><td>172</td><td>1</td><td>0</td><td>9</td><td>2.01</td><td>-0.26</td><td>0.26</td><td>5</td><td>1</td></tr><tr><td>2024-10-05</td><td>95.1</td><td>-2.11</td><td>54.41</td><td>6.2</td><td>&quot;Cole, Gerrit&quot;</td><td>0</td><td>2</td><td>0</td><td>0</td><td>0</td><td>8</td><td>2</td><td>-0.36</td><td>1.41</td><td>0.11</td><td>3.52</td><td>0</td><td>0</td><td>0</td><td>1</td><td>1</td><td>6.618599</td><td>-138.273188</td><td>-4.454399</td><td>-6.235999</td><td>34.232539</td><td>-13.326961</td><td>3.51</td><td>1.63</td><td>396</td><td>108.4</td><td>22</td><td>94.3</td><td>2310</td><td>6.1</td><td>2</td><td>3</td><td>0</td><td>0</td><td>208</td><td>1</td><td>0</td><td>9</td><td>1.14</td><td>0.36</td><td>0.36</td><td>1</td><td>5</td></tr><tr><td>2024-10-05</td><td>82.1</td><td>-2.06</td><td>54.49</td><td>6.19</td><td>&quot;Cole, Gerrit&quot;</td><td>1</td><td>14</td><td>0</td><td>0</td><td>1</td><td>0</td><td>1</td><td>0.63</td><td>-1.47</td><td>0.06</td><td>0.49</td><td>0</td><td>0</td><td>0</td><td>1</td><td>1</td><td>3.534958</td><td>-119.413956</td><td>-3.345334</td><td>5.143649</td><td>28.071677</td><td>-45.440479</td><td>3.43</td><td>1.63</td><td>null</td><td>null</td><td>null</td><td>80.9</td><td>2771</td><td>6.0</td><td>2</td><td>2</td><td>0</td><td>0</td><td>33</td><td>1</td><td>0</td><td>9</td><td>4.91</td><td>-0.63</td><td>-0.63</td><td>2</td><td>7</td></tr><tr><td>2024-10-05</td><td>88.9</td><td>-2.29</td><td>54.52</td><td>6.19</td><td>&quot;Cole, Gerrit&quot;</td><td>1</td><td>4</td><td>0</td><td>0</td><td>2</td><td>0</td><td>1</td><td>0.55</td><td>0.24</td><td>-0.35</td><td>2.23</td><td>0</td><td>0</td><td>0</td><td>1</td><td>1</td><td>3.591849</td><td>-129.552365</td><td>-4.184211</td><td>5.480068</td><td>25.738812</td><td>-28.859728</td><td>3.46</td><td>1.61</td><td>null</td><td>null</td><td>null</td><td>88.7</td><td>2623</td><td>6.0</td><td>2</td><td>1</td><td>0</td><td>0</td><td>134</td><td>1</td><td>0</td><td>9</td><td>2.63</td><td>-0.55</td><td>-0.55</td><td>4</td><td>1</td></tr><tr><td>2024-10-05</td><td>96.2</td><td>-2.16</td><td>54.51</td><td>6.19</td><td>&quot;Cole, Gerrit&quot;</td><td>0</td><td>6</td><td>1</td><td>0</td><td>0</td><td>9</td><td>2</td><td>-0.36</td><td>1.38</td><td>0.35</td><td>2.51</td><td>0</td><td>0</td><td>0</td><td>0</td><td>1</td><td>7.442987</td><td>-139.754958</td><td>-7.215709</td><td>-6.492477</td><td>33.349223</td><td>-12.608229</td><td>3.35</td><td>1.57</td><td>351</td><td>102.5</td><td>42</td><td>95.3</td><td>2476</td><td>6.0</td><td>1</td><td>1</td><td>0</td><td>0</td><td>203</td><td>1</td><td>0</td><td>9</td><td>1.1</td><td>0.36</td><td>-0.36</td><td>1</td><td>1</td></tr></tbody></table></div>"
      ],
      "text/plain": [
       "shape: (29_673, 49)\n",
       "┌───────────┬───────────┬───────────┬───────────┬───┬───────────┬───────────┬───────────┬──────────┐\n",
       "│ game_date ┆ release_s ┆ release_p ┆ release_p ┆ … ┆ api_break ┆ api_break ┆ pitch_typ ┆ balls_st │\n",
       "│ ---       ┆ peed      ┆ os_x      ┆ os_y      ┆   ┆ _x_arm    ┆ _x_batter ┆ e_code    ┆ rikes    │\n",
       "│ date      ┆ ---       ┆ ---       ┆ ---       ┆   ┆ ---       ┆ _in       ┆ ---       ┆ ---      │\n",
       "│           ┆ f64       ┆ f64       ┆ f64       ┆   ┆ f64       ┆ ---       ┆ i64       ┆ u32      │\n",
       "│           ┆           ┆           ┆           ┆   ┆           ┆ f64       ┆           ┆          │\n",
       "╞═══════════╪═══════════╪═══════════╪═══════════╪═══╪═══════════╪═══════════╪═══════════╪══════════╡\n",
       "│ 2015-07-1 ┆ 95.7      ┆ -2.42     ┆ 54.5      ┆ … ┆ 0.79      ┆ 0.79      ┆ 1         ┆ 0        │\n",
       "│ 4         ┆           ┆           ┆           ┆   ┆           ┆           ┆           ┆          │\n",
       "│ 2015-07-1 ┆ 95.7      ┆ -2.48     ┆ 54.5      ┆ … ┆ 0.78      ┆ 0.78      ┆ 1         ┆ 1        │\n",
       "│ 4         ┆           ┆           ┆           ┆   ┆           ┆           ┆           ┆          │\n",
       "│ 2015-07-1 ┆ 96.2      ┆ -2.39     ┆ 54.5      ┆ … ┆ 0.78      ┆ 0.78      ┆ 1         ┆ 2        │\n",
       "│ 4         ┆           ┆           ┆           ┆   ┆           ┆           ┆           ┆          │\n",
       "│ 2015-07-1 ┆ 97.2      ┆ -2.45     ┆ 54.5      ┆ … ┆ 0.9       ┆ 0.9       ┆ 3         ┆ 3        │\n",
       "│ 4         ┆           ┆           ┆           ┆   ┆           ┆           ┆           ┆          │\n",
       "│ 2015-07-1 ┆ 96.9      ┆ -2.48     ┆ 54.5      ┆ … ┆ 0.72      ┆ 0.72      ┆ 3         ┆ 4        │\n",
       "│ 4         ┆           ┆           ┆           ┆   ┆           ┆           ┆           ┆          │\n",
       "│ …         ┆ …         ┆ …         ┆ …         ┆ … ┆ …         ┆ …         ┆ …         ┆ …        │\n",
       "│ 2024-10-0 ┆ 92.1      ┆ -2.34     ┆ 54.48     ┆ … ┆ -0.26     ┆ 0.26      ┆ 5         ┆ 1        │\n",
       "│ 5         ┆           ┆           ┆           ┆   ┆           ┆           ┆           ┆          │\n",
       "│ 2024-10-0 ┆ 95.1      ┆ -2.11     ┆ 54.41     ┆ … ┆ 0.36      ┆ 0.36      ┆ 1         ┆ 5        │\n",
       "│ 5         ┆           ┆           ┆           ┆   ┆           ┆           ┆           ┆          │\n",
       "│ 2024-10-0 ┆ 82.1      ┆ -2.06     ┆ 54.49     ┆ … ┆ -0.63     ┆ -0.63     ┆ 2         ┆ 7        │\n",
       "│ 5         ┆           ┆           ┆           ┆   ┆           ┆           ┆           ┆          │\n",
       "│ 2024-10-0 ┆ 88.9      ┆ -2.29     ┆ 54.52     ┆ … ┆ -0.55     ┆ -0.55     ┆ 4         ┆ 1        │\n",
       "│ 5         ┆           ┆           ┆           ┆   ┆           ┆           ┆           ┆          │\n",
       "│ 2024-10-0 ┆ 96.2      ┆ -2.16     ┆ 54.51     ┆ … ┆ 0.36      ┆ -0.36     ┆ 1         ┆ 1        │\n",
       "│ 5         ┆           ┆           ┆           ┆   ┆           ┆           ┆           ┆          │\n",
       "└───────────┴───────────┴───────────┴───────────┴───┴───────────┴───────────┴───────────┴──────────┘"
      ]
     },
     "execution_count": 25,
     "metadata": {},
     "output_type": "execute_result"
    }
   ],
   "source": [
    "df = df.with_columns(\n",
    "    pl.col(\"spin_axis\").fill_null(-1).cast(pl.Int16).alias(\"spin_axis\"),\n",
    ")\n",
    "df"
   ]
  },
  {
   "cell_type": "code",
   "execution_count": 26,
   "id": "940121ca",
   "metadata": {},
   "outputs": [
    {
     "data": {
      "text/html": [
       "<div><style>\n",
       ".dataframe > thead > tr,\n",
       ".dataframe > tbody > tr {\n",
       "  text-align: right;\n",
       "  white-space: pre-wrap;\n",
       "}\n",
       "</style>\n",
       "<small>shape: (1, 49)</small><table border=\"1\" class=\"dataframe\"><thead><tr><th>game_date</th><th>release_speed</th><th>release_pos_x</th><th>release_pos_y</th><th>release_pos_z</th><th>player_name</th><th>events</th><th>zone</th><th>stand</th><th>p_throws</th><th>pitch_result</th><th>hit_location</th><th>bb_type</th><th>pfx_x</th><th>pfx_z</th><th>plate_x</th><th>plate_z</th><th>on_3b</th><th>on_2b</th><th>on_1b</th><th>outs_when_up</th><th>inning</th><th>vx0</th><th>vy0</th><th>vz0</th><th>ax</th><th>ay</th><th>az</th><th>sz_top</th><th>sz_bot</th><th>hit_distance_sc</th><th>launch_speed</th><th>launch_angle</th><th>effective_speed</th><th>release_spin_rate</th><th>release_extension</th><th>at_bat_number</th><th>pitch_number</th><th>bat_score</th><th>fld_score</th><th>spin_axis</th><th>n_thruorder_pitcher</th><th>n_priorpa_thisgame_player_at_bat</th><th>pitcher_days_since_prev_game</th><th>api_break_z_with_gravity</th><th>api_break_x_arm</th><th>api_break_x_batter_in</th><th>pitch_type_code</th><th>balls_strikes</th></tr><tr><td>u32</td><td>u32</td><td>u32</td><td>u32</td><td>u32</td><td>u32</td><td>u32</td><td>u32</td><td>u32</td><td>u32</td><td>u32</td><td>u32</td><td>u32</td><td>u32</td><td>u32</td><td>u32</td><td>u32</td><td>u32</td><td>u32</td><td>u32</td><td>u32</td><td>u32</td><td>u32</td><td>u32</td><td>u32</td><td>u32</td><td>u32</td><td>u32</td><td>u32</td><td>u32</td><td>u32</td><td>u32</td><td>u32</td><td>u32</td><td>u32</td><td>u32</td><td>u32</td><td>u32</td><td>u32</td><td>u32</td><td>u32</td><td>u32</td><td>u32</td><td>u32</td><td>u32</td><td>u32</td><td>u32</td><td>u32</td><td>u32</td></tr></thead><tbody><tr><td>0</td><td>0</td><td>0</td><td>0</td><td>0</td><td>0</td><td>0</td><td>0</td><td>0</td><td>0</td><td>0</td><td>0</td><td>0</td><td>0</td><td>0</td><td>0</td><td>0</td><td>0</td><td>0</td><td>0</td><td>0</td><td>0</td><td>0</td><td>0</td><td>0</td><td>0</td><td>0</td><td>0</td><td>0</td><td>0</td><td>21472</td><td>21272</td><td>21267</td><td>61</td><td>714</td><td>45</td><td>0</td><td>0</td><td>0</td><td>0</td><td>0</td><td>0</td><td>0</td><td>1390</td><td>0</td><td>0</td><td>0</td><td>0</td><td>0</td></tr></tbody></table></div>"
      ],
      "text/plain": [
       "shape: (1, 49)\n",
       "┌───────────┬───────────┬───────────┬───────────┬───┬───────────┬───────────┬───────────┬──────────┐\n",
       "│ game_date ┆ release_s ┆ release_p ┆ release_p ┆ … ┆ api_break ┆ api_break ┆ pitch_typ ┆ balls_st │\n",
       "│ ---       ┆ peed      ┆ os_x      ┆ os_y      ┆   ┆ _x_arm    ┆ _x_batter ┆ e_code    ┆ rikes    │\n",
       "│ u32       ┆ ---       ┆ ---       ┆ ---       ┆   ┆ ---       ┆ _in       ┆ ---       ┆ ---      │\n",
       "│           ┆ u32       ┆ u32       ┆ u32       ┆   ┆ u32       ┆ ---       ┆ u32       ┆ u32      │\n",
       "│           ┆           ┆           ┆           ┆   ┆           ┆ u32       ┆           ┆          │\n",
       "╞═══════════╪═══════════╪═══════════╪═══════════╪═══╪═══════════╪═══════════╪═══════════╪══════════╡\n",
       "│ 0         ┆ 0         ┆ 0         ┆ 0         ┆ … ┆ 0         ┆ 0         ┆ 0         ┆ 0        │\n",
       "└───────────┴───────────┴───────────┴───────────┴───┴───────────┴───────────┴───────────┴──────────┘"
      ]
     },
     "execution_count": 26,
     "metadata": {},
     "output_type": "execute_result"
    }
   ],
   "source": [
    "df.null_count()"
   ]
  },
  {
   "cell_type": "code",
   "execution_count": 27,
   "id": "b7e8d0e1",
   "metadata": {},
   "outputs": [],
   "source": [
    "df = df.with_columns(\n",
    "    pl.col(\n",
    "        [\n",
    "            \"hit_distance_sc\",\n",
    "            \"launch_angle\",\n",
    "            \"release_spin_rate\",\n",
    "            \"pitcher_days_since_prev_game\",\n",
    "        ]\n",
    "    ).fill_null(-1),\n",
    "    pl.col([\"launch_speed\", \"effective_speed\", \"release_extension\"]).fill_null(-1.0),\n",
    ")"
   ]
  },
  {
   "cell_type": "code",
   "execution_count": 28,
   "id": "df8ce51c",
   "metadata": {},
   "outputs": [
    {
     "data": {
      "text/html": [
       "<div><style>\n",
       ".dataframe > thead > tr,\n",
       ".dataframe > tbody > tr {\n",
       "  text-align: right;\n",
       "  white-space: pre-wrap;\n",
       "}\n",
       "</style>\n",
       "<small>shape: (1, 49)</small><table border=\"1\" class=\"dataframe\"><thead><tr><th>game_date</th><th>release_speed</th><th>release_pos_x</th><th>release_pos_y</th><th>release_pos_z</th><th>player_name</th><th>events</th><th>zone</th><th>stand</th><th>p_throws</th><th>pitch_result</th><th>hit_location</th><th>bb_type</th><th>pfx_x</th><th>pfx_z</th><th>plate_x</th><th>plate_z</th><th>on_3b</th><th>on_2b</th><th>on_1b</th><th>outs_when_up</th><th>inning</th><th>vx0</th><th>vy0</th><th>vz0</th><th>ax</th><th>ay</th><th>az</th><th>sz_top</th><th>sz_bot</th><th>hit_distance_sc</th><th>launch_speed</th><th>launch_angle</th><th>effective_speed</th><th>release_spin_rate</th><th>release_extension</th><th>at_bat_number</th><th>pitch_number</th><th>bat_score</th><th>fld_score</th><th>spin_axis</th><th>n_thruorder_pitcher</th><th>n_priorpa_thisgame_player_at_bat</th><th>pitcher_days_since_prev_game</th><th>api_break_z_with_gravity</th><th>api_break_x_arm</th><th>api_break_x_batter_in</th><th>pitch_type_code</th><th>balls_strikes</th></tr><tr><td>u32</td><td>u32</td><td>u32</td><td>u32</td><td>u32</td><td>u32</td><td>u32</td><td>u32</td><td>u32</td><td>u32</td><td>u32</td><td>u32</td><td>u32</td><td>u32</td><td>u32</td><td>u32</td><td>u32</td><td>u32</td><td>u32</td><td>u32</td><td>u32</td><td>u32</td><td>u32</td><td>u32</td><td>u32</td><td>u32</td><td>u32</td><td>u32</td><td>u32</td><td>u32</td><td>u32</td><td>u32</td><td>u32</td><td>u32</td><td>u32</td><td>u32</td><td>u32</td><td>u32</td><td>u32</td><td>u32</td><td>u32</td><td>u32</td><td>u32</td><td>u32</td><td>u32</td><td>u32</td><td>u32</td><td>u32</td><td>u32</td></tr></thead><tbody><tr><td>0</td><td>0</td><td>0</td><td>0</td><td>0</td><td>0</td><td>0</td><td>0</td><td>0</td><td>0</td><td>0</td><td>0</td><td>0</td><td>0</td><td>0</td><td>0</td><td>0</td><td>0</td><td>0</td><td>0</td><td>0</td><td>0</td><td>0</td><td>0</td><td>0</td><td>0</td><td>0</td><td>0</td><td>0</td><td>0</td><td>0</td><td>0</td><td>0</td><td>0</td><td>0</td><td>0</td><td>0</td><td>0</td><td>0</td><td>0</td><td>0</td><td>0</td><td>0</td><td>0</td><td>0</td><td>0</td><td>0</td><td>0</td><td>0</td></tr></tbody></table></div>"
      ],
      "text/plain": [
       "shape: (1, 49)\n",
       "┌───────────┬───────────┬───────────┬───────────┬───┬───────────┬───────────┬───────────┬──────────┐\n",
       "│ game_date ┆ release_s ┆ release_p ┆ release_p ┆ … ┆ api_break ┆ api_break ┆ pitch_typ ┆ balls_st │\n",
       "│ ---       ┆ peed      ┆ os_x      ┆ os_y      ┆   ┆ _x_arm    ┆ _x_batter ┆ e_code    ┆ rikes    │\n",
       "│ u32       ┆ ---       ┆ ---       ┆ ---       ┆   ┆ ---       ┆ _in       ┆ ---       ┆ ---      │\n",
       "│           ┆ u32       ┆ u32       ┆ u32       ┆   ┆ u32       ┆ ---       ┆ u32       ┆ u32      │\n",
       "│           ┆           ┆           ┆           ┆   ┆           ┆ u32       ┆           ┆          │\n",
       "╞═══════════╪═══════════╪═══════════╪═══════════╪═══╪═══════════╪═══════════╪═══════════╪══════════╡\n",
       "│ 0         ┆ 0         ┆ 0         ┆ 0         ┆ … ┆ 0         ┆ 0         ┆ 0         ┆ 0        │\n",
       "└───────────┴───────────┴───────────┴───────────┴───┴───────────┴───────────┴───────────┴──────────┘"
      ]
     },
     "execution_count": 28,
     "metadata": {},
     "output_type": "execute_result"
    }
   ],
   "source": [
    "df.null_count()"
   ]
  },
  {
   "cell_type": "markdown",
   "id": "4eb3cc03",
   "metadata": {},
   "source": [
    "# Feature Engineering"
   ]
  },
  {
   "cell_type": "markdown",
   "id": "47d3f44d",
   "metadata": {},
   "source": [
    "create target"
   ]
  },
  {
   "cell_type": "code",
   "execution_count": 29,
   "id": "9ffc7698",
   "metadata": {},
   "outputs": [],
   "source": [
    "df = df.sort(by=[\"game_date\", \"at_bat_number\", \"pitch_number\"])"
   ]
  },
  {
   "cell_type": "code",
   "execution_count": 30,
   "id": "47add3d3",
   "metadata": {},
   "outputs": [],
   "source": [
    "df = df.with_columns(\n",
    "    pl.col(\"pitch_type_code\").shift(-1).over(\"game_date\").alias(\"next_pitch_type_code\"),\n",
    ")\n",
    "df = df.drop_nulls(subset=[\"next_pitch_type_code\", \"pitch_type_code\"])"
   ]
  },
  {
   "cell_type": "code",
   "execution_count": 31,
   "id": "73766d3a",
   "metadata": {},
   "outputs": [
    {
     "data": {
      "text/plain": [
       "['game_date',\n",
       " 'release_speed',\n",
       " 'release_pos_x',\n",
       " 'release_pos_y',\n",
       " 'release_pos_z',\n",
       " 'player_name',\n",
       " 'events',\n",
       " 'zone',\n",
       " 'stand',\n",
       " 'p_throws',\n",
       " 'pitch_result',\n",
       " 'hit_location',\n",
       " 'bb_type',\n",
       " 'pfx_x',\n",
       " 'pfx_z',\n",
       " 'plate_x',\n",
       " 'plate_z',\n",
       " 'on_3b',\n",
       " 'on_2b',\n",
       " 'on_1b',\n",
       " 'outs_when_up',\n",
       " 'inning',\n",
       " 'vx0',\n",
       " 'vy0',\n",
       " 'vz0',\n",
       " 'ax',\n",
       " 'ay',\n",
       " 'az',\n",
       " 'sz_top',\n",
       " 'sz_bot',\n",
       " 'hit_distance_sc',\n",
       " 'launch_speed',\n",
       " 'launch_angle',\n",
       " 'effective_speed',\n",
       " 'release_spin_rate',\n",
       " 'release_extension',\n",
       " 'at_bat_number',\n",
       " 'pitch_number',\n",
       " 'bat_score',\n",
       " 'fld_score',\n",
       " 'spin_axis',\n",
       " 'n_thruorder_pitcher',\n",
       " 'n_priorpa_thisgame_player_at_bat',\n",
       " 'pitcher_days_since_prev_game',\n",
       " 'api_break_z_with_gravity',\n",
       " 'api_break_x_arm',\n",
       " 'api_break_x_batter_in',\n",
       " 'pitch_type_code',\n",
       " 'balls_strikes',\n",
       " 'next_pitch_type_code']"
      ]
     },
     "execution_count": 31,
     "metadata": {},
     "output_type": "execute_result"
    }
   ],
   "source": [
    "df.columns"
   ]
  },
  {
   "cell_type": "markdown",
   "id": "d71671f9",
   "metadata": {},
   "source": [
    "rolling features"
   ]
  },
  {
   "cell_type": "code",
   "execution_count": 32,
   "id": "acc6af05",
   "metadata": {},
   "outputs": [],
   "source": [
    "rolling_cols = [\n",
    "    \"release_speed\",\n",
    "    \"release_pos_x\",\n",
    "    \"release_pos_y\",\n",
    "    \"release_pos_z\",\n",
    "    \"plate_x\",\n",
    "    \"plate_z\",\n",
    "    \"vx0\",\n",
    "    \"vy0\",\n",
    "    \"vz0\",\n",
    "    \"ax\",\n",
    "    \"ay\",\n",
    "    \"az\",\n",
    "    \"spin_axis\",\n",
    "    \"bb_type\",\n",
    "]\n",
    "rolling_window = 5\n",
    "df = df.with_columns(\n",
    "    [\n",
    "        pl.col(col)\n",
    "        .rolling_mean(window_size=rolling_window, min_samples=1)\n",
    "        .alias(f\"{col}_rolling_mean\")\n",
    "        for col in rolling_cols\n",
    "    ]\n",
    ")"
   ]
  },
  {
   "cell_type": "code",
   "execution_count": 33,
   "id": "33a262fa",
   "metadata": {},
   "outputs": [],
   "source": [
    "# last result in this current count\n",
    "df = df.with_columns(\n",
    "    pl.col(\"pitch_result\")\n",
    "    .backward_fill()\n",
    "    .over([\"balls_strikes\", \"on_3b\", \"on_2b\", \"on_1b\"])\n",
    "    .alias(\"last_pitch_result\"),\n",
    ")"
   ]
  },
  {
   "cell_type": "code",
   "execution_count": 34,
   "id": "3281a195",
   "metadata": {},
   "outputs": [],
   "source": [
    "from sklearn.preprocessing import MinMaxScaler"
   ]
  },
  {
   "cell_type": "code",
   "execution_count": 35,
   "id": "f0bb9f2b",
   "metadata": {},
   "outputs": [
    {
     "data": {
      "text/html": [
       "<div><style>\n",
       ".dataframe > thead > tr,\n",
       ".dataframe > tbody > tr {\n",
       "  text-align: right;\n",
       "  white-space: pre-wrap;\n",
       "}\n",
       "</style>\n",
       "<small>shape: (29_369, 65)</small><table border=\"1\" class=\"dataframe\"><thead><tr><th>game_date</th><th>release_speed</th><th>release_pos_x</th><th>release_pos_y</th><th>release_pos_z</th><th>player_name</th><th>events</th><th>zone</th><th>stand</th><th>p_throws</th><th>pitch_result</th><th>hit_location</th><th>bb_type</th><th>pfx_x</th><th>pfx_z</th><th>plate_x</th><th>plate_z</th><th>on_3b</th><th>on_2b</th><th>on_1b</th><th>outs_when_up</th><th>inning</th><th>vx0</th><th>vy0</th><th>vz0</th><th>ax</th><th>ay</th><th>az</th><th>sz_top</th><th>sz_bot</th><th>hit_distance_sc</th><th>launch_speed</th><th>launch_angle</th><th>effective_speed</th><th>release_spin_rate</th><th>release_extension</th><th>at_bat_number</th><th>pitch_number</th><th>bat_score</th><th>fld_score</th><th>spin_axis</th><th>n_thruorder_pitcher</th><th>n_priorpa_thisgame_player_at_bat</th><th>pitcher_days_since_prev_game</th><th>api_break_z_with_gravity</th><th>api_break_x_arm</th><th>api_break_x_batter_in</th><th>pitch_type_code</th><th>balls_strikes</th><th>next_pitch_type_code</th><th>release_speed_rolling_mean</th><th>release_pos_x_rolling_mean</th><th>release_pos_y_rolling_mean</th><th>release_pos_z_rolling_mean</th><th>plate_x_rolling_mean</th><th>plate_z_rolling_mean</th><th>vx0_rolling_mean</th><th>vy0_rolling_mean</th><th>vz0_rolling_mean</th><th>ax_rolling_mean</th><th>ay_rolling_mean</th><th>az_rolling_mean</th><th>spin_axis_rolling_mean</th><th>bb_type_rolling_mean</th><th>last_pitch_result</th></tr><tr><td>date</td><td>f64</td><td>f64</td><td>f64</td><td>f64</td><td>str</td><td>u32</td><td>f64</td><td>f64</td><td>f64</td><td>f64</td><td>f64</td><td>f64</td><td>f64</td><td>f64</td><td>f64</td><td>f64</td><td>f64</td><td>f64</td><td>f64</td><td>f64</td><td>f64</td><td>f64</td><td>f64</td><td>f64</td><td>f64</td><td>f64</td><td>f64</td><td>f64</td><td>f64</td><td>f64</td><td>f64</td><td>f64</td><td>f64</td><td>f64</td><td>f64</td><td>f64</td><td>f64</td><td>f64</td><td>f64</td><td>f64</td><td>f64</td><td>f64</td><td>f64</td><td>f64</td><td>f64</td><td>f64</td><td>i64</td><td>f64</td><td>i64</td><td>f64</td><td>f64</td><td>f64</td><td>f64</td><td>f64</td><td>f64</td><td>f64</td><td>f64</td><td>f64</td><td>f64</td><td>f64</td><td>f64</td><td>f64</td><td>f64</td><td>f64</td></tr></thead><tbody><tr><td>2015-04-08</td><td>0.825436</td><td>0.200873</td><td>0.394737</td><td>0.473913</td><td>&quot;Cole, Gerrit&quot;</td><td>1</td><td>0.846154</td><td>1.0</td><td>0.0</td><td>0.5</td><td>0.0</td><td>0.25</td><td>0.323596</td><td>0.784119</td><td>0.646508</td><td>0.377287</td><td>0.0</td><td>0.0</td><td>0.0</td><td>0.0</td><td>0.0</td><td>0.779395</td><td>0.161365</td><td>0.359565</td><td>0.37182</td><td>0.704022</td><td>0.759517</td><td>0.583333</td><td>0.557143</td><td>0.0</td><td>0.0</td><td>0.488636</td><td>0.920466</td><td>0.594451</td><td>0.845238</td><td>0.04</td><td>0.0</td><td>0.0</td><td>0.0</td><td>0.0</td><td>0.0</td><td>0.0</td><td>0.0</td><td>0.172662</td><td>0.676404</td><td>0.330337</td><td>1</td><td>0.090909</td><td>1</td><td>0.808696</td><td>0.158305</td><td>0.703063</td><td>0.507264</td><td>0.677476</td><td>0.552213</td><td>0.917605</td><td>0.171239</td><td>0.38089</td><td>0.356505</td><td>0.766068</td><td>0.847508</td><td>0.0</td><td>0.272727</td><td>0.5</td></tr><tr><td>2015-04-08</td><td>0.758105</td><td>0.170306</td><td>0.394737</td><td>0.43913</td><td>&quot;Cole, Gerrit&quot;</td><td>1</td><td>0.461538</td><td>1.0</td><td>0.0</td><td>1.0</td><td>0.0</td><td>0.25</td><td>0.283146</td><td>0.746898</td><td>0.528961</td><td>0.295732</td><td>0.0</td><td>0.0</td><td>0.0</td><td>0.0</td><td>0.0</td><td>0.638095</td><td>0.226694</td><td>0.307603</td><td>0.358444</td><td>0.605382</td><td>0.70839</td><td>0.511905</td><td>0.557143</td><td>0.0</td><td>0.0</td><td>0.488636</td><td>0.904947</td><td>0.571429</td><td>0.904762</td><td>0.04</td><td>0.090909</td><td>0.0</td><td>0.0</td><td>0.0</td><td>0.0</td><td>0.0</td><td>0.0</td><td>0.223022</td><td>0.716854</td><td>0.289888</td><td>1</td><td>0.0</td><td>0</td><td>0.759783</td><td>0.138796</td><td>0.703063</td><td>0.483051</td><td>0.576687</td><td>0.437258</td><td>0.789984</td><td>0.218929</td><td>0.312229</td><td>0.347852</td><td>0.697438</td><td>0.812613</td><td>0.0</td><td>0.272727</td><td>1.0</td></tr><tr><td>2015-04-08</td><td>0.650873</td><td>0.157205</td><td>0.394737</td><td>0.378261</td><td>&quot;Cole, Gerrit&quot;</td><td>0</td><td>0.923077</td><td>1.0</td><td>0.0</td><td>0.0</td><td>0.333333</td><td>0.75</td><td>0.251685</td><td>0.496278</td><td>0.487223</td><td>0.29497</td><td>0.0</td><td>0.0</td><td>0.0</td><td>0.0</td><td>0.0</td><td>0.586152</td><td>0.33248</td><td>0.424957</td><td>0.354729</td><td>0.493987</td><td>0.425314</td><td>0.511905</td><td>0.557143</td><td>0.0</td><td>0.72079</td><td>0.375</td><td>0.865179</td><td>0.531287</td><td>0.892857</td><td>0.04</td><td>0.181818</td><td>0.0</td><td>0.0</td><td>0.0</td><td>0.0</td><td>0.0</td><td>0.0</td><td>0.453237</td><td>0.748315</td><td>0.258427</td><td>0</td><td>0.454545</td><td>1</td><td>0.691546</td><td>0.126719</td><td>0.703063</td><td>0.446731</td><td>0.519233</td><td>0.398224</td><td>0.716168</td><td>0.286307</td><td>0.392721</td><td>0.343364</td><td>0.622892</td><td>0.672182</td><td>0.0</td><td>0.575758</td><td>0.0</td></tr><tr><td>2015-04-08</td><td>0.820449</td><td>0.122271</td><td>0.394737</td><td>0.456522</td><td>&quot;Cole, Gerrit&quot;</td><td>1</td><td>0.923077</td><td>1.0</td><td>0.0</td><td>0.5</td><td>0.0</td><td>0.25</td><td>0.258427</td><td>0.794045</td><td>0.468484</td><td>0.290396</td><td>0.0</td><td>0.0</td><td>0.0</td><td>0.5</td><td>0.0</td><td>0.593706</td><td>0.162929</td><td>0.266149</td><td>0.321836</td><td>0.738232</td><td>0.785081</td><td>0.625</td><td>0.621429</td><td>0.0</td><td>0.0</td><td>0.488636</td><td>0.919496</td><td>0.629575</td><td>0.869048</td><td>0.053333</td><td>0.0</td><td>0.0</td><td>0.0</td><td>0.0</td><td>0.0</td><td>0.0</td><td>0.0</td><td>0.167266</td><td>0.741573</td><td>0.265169</td><td>1</td><td>0.090909</td><td>1</td><td>0.719022</td><td>0.109532</td><td>0.703063</td><td>0.455811</td><td>0.482472</td><td>0.375483</td><td>0.682671</td><td>0.258111</td><td>0.328044</td><td>0.330481</td><td>0.670587</td><td>0.724737</td><td>0.0</td><td>0.5</td><td>0.5</td></tr><tr><td>2015-04-08</td><td>0.795511</td><td>0.174672</td><td>0.394737</td><td>0.434783</td><td>&quot;Cole, Gerrit&quot;</td><td>1</td><td>0.538462</td><td>1.0</td><td>0.0</td><td>1.0</td><td>0.0</td><td>0.25</td><td>0.278652</td><td>0.679901</td><td>0.579216</td><td>0.32622</td><td>0.0</td><td>0.0</td><td>0.0</td><td>0.5</td><td>0.0</td><td>0.71171</td><td>0.191903</td><td>0.35274</td><td>0.338986</td><td>0.620712</td><td>0.642144</td><td>0.613095</td><td>0.621429</td><td>0.0</td><td>0.0</td><td>0.488636</td><td>0.918526</td><td>0.608323</td><td>0.904762</td><td>0.053333</td><td>0.090909</td><td>0.0</td><td>0.0</td><td>0.0</td><td>0.0</td><td>0.0</td><td>0.0</td><td>0.257194</td><td>0.721348</td><td>0.285393</td><td>1</td><td>0.0</td><td>4</td><td>0.728261</td><td>0.112598</td><td>0.703063</td><td>0.455206</td><td>0.498393</td><td>0.382037</td><td>0.705205</td><td>0.249654</td><td>0.335006</td><td>0.327189</td><td>0.666497</td><td>0.717248</td><td>0.0</td><td>0.454545</td><td>1.0</td></tr><tr><td>&hellip;</td><td>&hellip;</td><td>&hellip;</td><td>&hellip;</td><td>&hellip;</td><td>&hellip;</td><td>&hellip;</td><td>&hellip;</td><td>&hellip;</td><td>&hellip;</td><td>&hellip;</td><td>&hellip;</td><td>&hellip;</td><td>&hellip;</td><td>&hellip;</td><td>&hellip;</td><td>&hellip;</td><td>&hellip;</td><td>&hellip;</td><td>&hellip;</td><td>&hellip;</td><td>&hellip;</td><td>&hellip;</td><td>&hellip;</td><td>&hellip;</td><td>&hellip;</td><td>&hellip;</td><td>&hellip;</td><td>&hellip;</td><td>&hellip;</td><td>&hellip;</td><td>&hellip;</td><td>&hellip;</td><td>&hellip;</td><td>&hellip;</td><td>&hellip;</td><td>&hellip;</td><td>&hellip;</td><td>&hellip;</td><td>&hellip;</td><td>&hellip;</td><td>&hellip;</td><td>&hellip;</td><td>&hellip;</td><td>&hellip;</td><td>&hellip;</td><td>&hellip;</td><td>&hellip;</td><td>&hellip;</td><td>&hellip;</td><td>&hellip;</td><td>&hellip;</td><td>&hellip;</td><td>&hellip;</td><td>&hellip;</td><td>&hellip;</td><td>&hellip;</td><td>&hellip;</td><td>&hellip;</td><td>&hellip;</td><td>&hellip;</td><td>&hellip;</td><td>&hellip;</td><td>&hellip;</td><td>&hellip;</td></tr><tr><td>2024-10-25</td><td>0.668329</td><td>0.406114</td><td>0.345029</td><td>0.513043</td><td>&quot;Cole, Gerrit&quot;</td><td>1</td><td>1.0</td><td>0.0</td><td>0.0</td><td>0.5</td><td>0.0</td><td>0.25</td><td>0.620225</td><td>0.434243</td><td>0.695911</td><td>0.240854</td><td>0.0</td><td>0.0</td><td>0.0</td><td>0.0</td><td>0.75</td><td>0.620542</td><td>0.332971</td><td>0.326255</td><td>0.70302</td><td>0.471583</td><td>0.377605</td><td>0.5</td><td>0.65</td><td>0.0</td><td>0.0</td><td>0.488636</td><td>0.867119</td><td>0.782468</td><td>0.857143</td><td>0.693333</td><td>0.181818</td><td>0.142857</td><td>0.095238</td><td>0.412742</td><td>0.666667</td><td>0.666667</td><td>0.297297</td><td>0.482014</td><td>0.379775</td><td>0.379775</td><td>4</td><td>0.545455</td><td>4</td><td>0.654348</td><td>0.362319</td><td>0.633822</td><td>0.548426</td><td>0.623138</td><td>0.415986</td><td>0.531675</td><td>0.344189</td><td>0.459602</td><td>0.696759</td><td>0.53979</td><td>0.420351</td><td>0.519203</td><td>0.363636</td><td>0.5</td></tr><tr><td>2024-10-25</td><td>0.700748</td><td>0.371179</td><td>0.289474</td><td>0.456522</td><td>&quot;Cole, Gerrit&quot;</td><td>1</td><td>1.0</td><td>0.0</td><td>0.0</td><td>0.5</td><td>0.0</td><td>0.25</td><td>0.588764</td><td>0.451613</td><td>0.698467</td><td>0.145579</td><td>0.0</td><td>0.0</td><td>0.0</td><td>0.0</td><td>0.75</td><td>0.652715</td><td>0.304534</td><td>0.225388</td><td>0.669557</td><td>0.525269</td><td>0.413441</td><td>0.5</td><td>0.614286</td><td>0.0</td><td>0.0</td><td>0.488636</td><td>0.879728</td><td>0.777745</td><td>0.880952</td><td>0.693333</td><td>0.272727</td><td>0.142857</td><td>0.095238</td><td>0.465374</td><td>0.666667</td><td>0.666667</td><td>0.297297</td><td>0.456835</td><td>0.411236</td><td>0.411236</td><td>4</td><td>0.363636</td><td>1</td><td>0.596377</td><td>0.39019</td><td>0.616511</td><td>0.549637</td><td>0.671049</td><td>0.271594</td><td>0.541611</td><td>0.403994</td><td>0.384781</td><td>0.760957</td><td>0.48167</td><td>0.327941</td><td>0.487198</td><td>0.363636</td><td>0.5</td></tr><tr><td>2024-10-25</td><td>0.892768</td><td>0.436681</td><td>0.318713</td><td>0.5</td><td>&quot;Cole, Gerrit&quot;</td><td>1</td><td>0.846154</td><td>0.0</td><td>0.0</td><td>1.0</td><td>0.0</td><td>0.25</td><td>0.373034</td><td>0.764268</td><td>0.680579</td><td>0.362805</td><td>0.0</td><td>0.0</td><td>0.0</td><td>0.0</td><td>0.75</td><td>0.740457</td><td>0.111258</td><td>0.312207</td><td>0.419637</td><td>0.731915</td><td>0.775553</td><td>0.517857</td><td>0.592857</td><td>0.021097</td><td>0.647766</td><td>0.409091</td><td>0.950533</td><td>0.718123</td><td>0.869048</td><td>0.693333</td><td>0.363636</td><td>0.142857</td><td>0.095238</td><td>0.576177</td><td>0.666667</td><td>0.666667</td><td>0.297297</td><td>0.154676</td><td>0.626966</td><td>0.626966</td><td>1</td><td>0.272727</td><td>4</td><td>0.652899</td><td>0.396878</td><td>0.577896</td><td>0.544794</td><td>0.704353</td><td>0.265578</td><td>0.630015</td><td>0.349503</td><td>0.314698</td><td>0.692953</td><td>0.54374</td><td>0.432077</td><td>0.564723</td><td>0.272727</td><td>1.0</td></tr><tr><td>2024-10-25</td><td>0.695761</td><td>0.39738</td><td>0.339181</td><td>0.469565</td><td>&quot;Cole, Gerrit&quot;</td><td>1</td><td>1.0</td><td>0.0</td><td>0.0</td><td>1.0</td><td>0.0</td><td>0.25</td><td>0.635955</td><td>0.426799</td><td>0.662692</td><td>0.311738</td><td>0.0</td><td>0.0</td><td>0.0</td><td>0.0</td><td>0.75</td><td>0.580945</td><td>0.302237</td><td>0.402062</td><td>0.721184</td><td>0.540412</td><td>0.362319</td><td>0.517857</td><td>0.592857</td><td>0.010549</td><td>0.641753</td><td>0.346591</td><td>0.876819</td><td>0.764758</td><td>0.857143</td><td>0.693333</td><td>0.454545</td><td>0.142857</td><td>0.095238</td><td>0.354571</td><td>0.666667</td><td>0.666667</td><td>0.297297</td><td>0.473022</td><td>0.364045</td><td>0.364045</td><td>4</td><td>0.272727</td><td>1</td><td>0.657246</td><td>0.410256</td><td>0.565912</td><td>0.532688</td><td>0.740578</td><td>0.266867</td><td>0.66804</td><td>0.345153</td><td>0.309885</td><td>0.702137</td><td>0.545842</td><td>0.44858</td><td>0.572546</td><td>0.272727</td><td>1.0</td></tr><tr><td>2024-10-25</td><td>0.885287</td><td>0.353712</td><td>0.312865</td><td>0.482609</td><td>&quot;Cole, Gerrit&quot;</td><td>1</td><td>0.769231</td><td>0.0</td><td>0.0</td><td>0.5</td><td>0.0</td><td>0.25</td><td>0.41573</td><td>0.764268</td><td>0.464225</td><td>0.487043</td><td>0.0</td><td>0.0</td><td>0.0</td><td>0.0</td><td>0.75</td><td>0.446221</td><td>0.110831</td><td>0.454688</td><td>0.499748</td><td>0.698582</td><td>0.748849</td><td>0.517857</td><td>0.628571</td><td>0.0</td><td>0.0</td><td>0.488636</td><td>0.952473</td><td>0.683294</td><td>0.869048</td><td>0.693333</td><td>0.545455</td><td>0.142857</td><td>0.095238</td><td>0.576177</td><td>0.666667</td><td>0.666667</td><td>0.297297</td><td>0.154676</td><td>0.58427</td><td>0.58427</td><td>1</td><td>0.272727</td><td>1</td><td>0.726087</td><td>0.403567</td><td>0.535286</td><td>0.521792</td><td>0.666959</td><td>0.36141</td><td>0.608319</td><td>0.2749</td><td>0.340073</td><td>0.655158</td><td>0.612346</td><td>0.541796</td><td>0.612376</td><td>0.272727</td><td>0.5</td></tr></tbody></table></div>"
      ],
      "text/plain": [
       "shape: (29_369, 65)\n",
       "┌───────────┬───────────┬───────────┬───────────┬───┬───────────┬───────────┬───────────┬──────────┐\n",
       "│ game_date ┆ release_s ┆ release_p ┆ release_p ┆ … ┆ az_rollin ┆ spin_axis ┆ bb_type_r ┆ last_pit │\n",
       "│ ---       ┆ peed      ┆ os_x      ┆ os_y      ┆   ┆ g_mean    ┆ _rolling_ ┆ olling_me ┆ ch_resul │\n",
       "│ date      ┆ ---       ┆ ---       ┆ ---       ┆   ┆ ---       ┆ mean      ┆ an        ┆ t        │\n",
       "│           ┆ f64       ┆ f64       ┆ f64       ┆   ┆ f64       ┆ ---       ┆ ---       ┆ ---      │\n",
       "│           ┆           ┆           ┆           ┆   ┆           ┆ f64       ┆ f64       ┆ f64      │\n",
       "╞═══════════╪═══════════╪═══════════╪═══════════╪═══╪═══════════╪═══════════╪═══════════╪══════════╡\n",
       "│ 2015-04-0 ┆ 0.825436  ┆ 0.200873  ┆ 0.394737  ┆ … ┆ 0.847508  ┆ 0.0       ┆ 0.272727  ┆ 0.5      │\n",
       "│ 8         ┆           ┆           ┆           ┆   ┆           ┆           ┆           ┆          │\n",
       "│ 2015-04-0 ┆ 0.758105  ┆ 0.170306  ┆ 0.394737  ┆ … ┆ 0.812613  ┆ 0.0       ┆ 0.272727  ┆ 1.0      │\n",
       "│ 8         ┆           ┆           ┆           ┆   ┆           ┆           ┆           ┆          │\n",
       "│ 2015-04-0 ┆ 0.650873  ┆ 0.157205  ┆ 0.394737  ┆ … ┆ 0.672182  ┆ 0.0       ┆ 0.575758  ┆ 0.0      │\n",
       "│ 8         ┆           ┆           ┆           ┆   ┆           ┆           ┆           ┆          │\n",
       "│ 2015-04-0 ┆ 0.820449  ┆ 0.122271  ┆ 0.394737  ┆ … ┆ 0.724737  ┆ 0.0       ┆ 0.5       ┆ 0.5      │\n",
       "│ 8         ┆           ┆           ┆           ┆   ┆           ┆           ┆           ┆          │\n",
       "│ 2015-04-0 ┆ 0.795511  ┆ 0.174672  ┆ 0.394737  ┆ … ┆ 0.717248  ┆ 0.0       ┆ 0.454545  ┆ 1.0      │\n",
       "│ 8         ┆           ┆           ┆           ┆   ┆           ┆           ┆           ┆          │\n",
       "│ …         ┆ …         ┆ …         ┆ …         ┆ … ┆ …         ┆ …         ┆ …         ┆ …        │\n",
       "│ 2024-10-2 ┆ 0.668329  ┆ 0.406114  ┆ 0.345029  ┆ … ┆ 0.420351  ┆ 0.519203  ┆ 0.363636  ┆ 0.5      │\n",
       "│ 5         ┆           ┆           ┆           ┆   ┆           ┆           ┆           ┆          │\n",
       "│ 2024-10-2 ┆ 0.700748  ┆ 0.371179  ┆ 0.289474  ┆ … ┆ 0.327941  ┆ 0.487198  ┆ 0.363636  ┆ 0.5      │\n",
       "│ 5         ┆           ┆           ┆           ┆   ┆           ┆           ┆           ┆          │\n",
       "│ 2024-10-2 ┆ 0.892768  ┆ 0.436681  ┆ 0.318713  ┆ … ┆ 0.432077  ┆ 0.564723  ┆ 0.272727  ┆ 1.0      │\n",
       "│ 5         ┆           ┆           ┆           ┆   ┆           ┆           ┆           ┆          │\n",
       "│ 2024-10-2 ┆ 0.695761  ┆ 0.39738   ┆ 0.339181  ┆ … ┆ 0.44858   ┆ 0.572546  ┆ 0.272727  ┆ 1.0      │\n",
       "│ 5         ┆           ┆           ┆           ┆   ┆           ┆           ┆           ┆          │\n",
       "│ 2024-10-2 ┆ 0.885287  ┆ 0.353712  ┆ 0.312865  ┆ … ┆ 0.541796  ┆ 0.612376  ┆ 0.272727  ┆ 0.5      │\n",
       "│ 5         ┆           ┆           ┆           ┆   ┆           ┆           ┆           ┆          │\n",
       "└───────────┴───────────┴───────────┴───────────┴───┴───────────┴───────────┴───────────┴──────────┘"
      ]
     },
     "execution_count": 35,
     "metadata": {},
     "output_type": "execute_result"
    }
   ],
   "source": [
    "mms = MinMaxScaler()\n",
    "\n",
    "\n",
    "def scale_columns(df, columns):\n",
    "    df[columns] = mms.fit_transform(df[columns])\n",
    "    return df\n",
    "\n",
    "\n",
    "cols_to_scale = list(df.columns)\n",
    "cols_to_scale.remove(\"game_date\")\n",
    "cols_to_scale.remove(\"player_name\")\n",
    "cols_to_scale.remove(\"pitch_type_code\")\n",
    "cols_to_scale.remove(\"next_pitch_type_code\")\n",
    "cols_to_scale.remove(\"events\")\n",
    "scale_columns(df, cols_to_scale)"
   ]
  },
  {
   "cell_type": "markdown",
   "id": "3d3221f5",
   "metadata": {},
   "source": [
    "# Training"
   ]
  },
  {
   "cell_type": "code",
   "execution_count": 36,
   "id": "014fcbdc",
   "metadata": {},
   "outputs": [],
   "source": [
    "import numpy as np\n",
    "import torch\n",
    "import torch.nn as nn\n",
    "from torch.autograd import Variable"
   ]
  },
  {
   "cell_type": "code",
   "execution_count": 37,
   "id": "256393d7",
   "metadata": {},
   "outputs": [],
   "source": [
    "num_epochs = 100\n",
    "learning_rate = 0.001\n",
    "\n",
    "input_size = len(cols_to_scale)\n",
    "hidden_size = 32\n",
    "num_layers = 2\n",
    "\n",
    "num_classes = len(pitch_to_int)\n",
    "seq_len = 10"
   ]
  },
  {
   "cell_type": "code",
   "execution_count": 38,
   "id": "33ee778b",
   "metadata": {},
   "outputs": [],
   "source": [
    "class LSTM(nn.Module):\n",
    "    def __init__(self, num_classes, input_size, hidden_size, num_layers):\n",
    "        super(LSTM, self).__init__()\n",
    "\n",
    "        self.num_classes = num_classes\n",
    "        self.num_layers = num_layers\n",
    "        self.input_size = input_size\n",
    "        self.hidden_size = hidden_size\n",
    "        self.seq_len = seq_len\n",
    "\n",
    "        self.lstm = nn.LSTM(\n",
    "            input_size=input_size,\n",
    "            hidden_size=hidden_size,\n",
    "            num_layers=num_layers,\n",
    "            batch_first=True,\n",
    "        )\n",
    "\n",
    "        self.fc = nn.Linear(hidden_size, num_classes)\n",
    "\n",
    "    def forward(self, x):\n",
    "        device = x.device\n",
    "        h_0 = torch.zeros(self.num_layers, x.size(0), self.hidden_size, device=device)\n",
    "        c_0 = torch.zeros(self.num_layers, x.size(0), self.hidden_size, device=device)\n",
    "\n",
    "        # Propagate input through LSTM\n",
    "        out, (h_out, _) = self.lstm(x, (h_0, c_0))\n",
    "\n",
    "        # Either use the last hidden state from the last layer:\n",
    "        h_out = h_out[-1]  # shape: [batch_size, hidden_size]\n",
    "\n",
    "        # OR use the last time step output (usually better for sequence prediction):\n",
    "        # out = out[:, -1, :]  # shape: [batch_size, hidden_size]\n",
    "\n",
    "        out = self.fc(h_out)\n",
    "\n",
    "        return out"
   ]
  },
  {
   "cell_type": "code",
   "execution_count": 39,
   "id": "4bb7477b",
   "metadata": {},
   "outputs": [],
   "source": [
    "class BalancedLSTM(nn.Module):\n",
    "    def __init__(self, num_classes, input_size, hidden_size, num_layers):\n",
    "        super(BalancedLSTM, self).__init__()\n",
    "        self.num_classes = num_classes\n",
    "        self.num_layers = num_layers\n",
    "        self.input_size = input_size\n",
    "        self.hidden_size = hidden_size\n",
    "        self.seq_len = seq_len\n",
    "        self.lstm = nn.LSTM(input_size, hidden_size, num_layers, batch_first=True)\n",
    "\n",
    "        # Add a deeper classification head\n",
    "        self.classifier = nn.Sequential(\n",
    "            nn.Linear(hidden_size, hidden_size * 2),\n",
    "            nn.ReLU(),\n",
    "            nn.BatchNorm1d(hidden_size * 2),\n",
    "            nn.Dropout(0.5),  # Increase from 0.3 to 0.5\n",
    "            nn.Linear(hidden_size * 2, hidden_size),\n",
    "            nn.ReLU(),\n",
    "            nn.BatchNorm1d(hidden_size),\n",
    "            nn.Dropout(0.4),  # Add dropout here too\n",
    "            nn.Linear(hidden_size, num_classes),\n",
    "        )\n",
    "\n",
    "    def forward(self, x):\n",
    "        device = x.device\n",
    "        h0 = torch.zeros(self.num_layers, x.size(0), self.hidden_size).to(device)\n",
    "        c0 = torch.zeros(self.num_layers, x.size(0), self.hidden_size).to(device)\n",
    "\n",
    "        out, (hn, _) = self.lstm(x, (h0, c0))\n",
    "        out = self.classifier(hn[-1])\n",
    "        return out"
   ]
  },
  {
   "cell_type": "code",
   "execution_count": 40,
   "id": "22c01f96",
   "metadata": {},
   "outputs": [],
   "source": [
    "class SimplerLSTM(nn.Module):\n",
    "    def __init__(self, num_classes, input_size, hidden_size, num_layers):\n",
    "        super(SimplerLSTM, self).__init__()\n",
    "        self.num_classes = num_classes\n",
    "        self.num_layers = num_layers\n",
    "        self.input_size = input_size\n",
    "        self.hidden_size = hidden_size\n",
    "        self.seq_len = seq_len\n",
    "        self.lstm = nn.LSTM(input_size, hidden_size, num_layers, batch_first=True)\n",
    "        self.fc = nn.Linear(hidden_size, num_classes)\n",
    "\n",
    "    def forward(self, x):\n",
    "        device = x.device\n",
    "        h0 = torch.zeros(self.num_layers, x.size(0), self.hidden_size).to(device)\n",
    "        c0 = torch.zeros(self.num_layers, x.size(0), self.hidden_size).to(device)\n",
    "\n",
    "        _, (hn, _) = self.lstm(x, (h0, c0))\n",
    "        out = self.fc(hn[-1])\n",
    "        return out"
   ]
  },
  {
   "cell_type": "code",
   "execution_count": 41,
   "id": "bf4319c9",
   "metadata": {},
   "outputs": [],
   "source": [
    "from torch.utils.data import Dataset, DataLoader\n",
    "\n",
    "\n",
    "# Define a custom dataset class for pitch sequences\n",
    "class PitchSequenceDataset(Dataset):\n",
    "    def __init__(self, features, targets):\n",
    "        self.features = features\n",
    "        self.targets = targets\n",
    "\n",
    "    def __len__(self):\n",
    "        return len(self.features)\n",
    "\n",
    "    def __getitem__(self, idx):\n",
    "        return self.features[idx], self.targets[idx]\n",
    "\n",
    "\n",
    "# Create sequences\n",
    "seq_len = 10\n",
    "X = df.select(cols_to_scale).to_numpy()\n",
    "y = df.select(\"next_pitch_type_code\").to_numpy().flatten()  # Flatten to 1D\n",
    "\n",
    "# Create sliding window sequences\n",
    "Xs, ys = [], []\n",
    "for i in range(len(X) - seq_len):\n",
    "    Xs.append(X[i : i + seq_len])\n",
    "    ys.append(y[i + seq_len])\n",
    "\n",
    "# Convert to PyTorch tensors directly (no need for Variable wrapper)\n",
    "X_tensor = torch.tensor(np.array(Xs), dtype=torch.float32)\n",
    "y_tensor = torch.tensor(np.array(ys), dtype=torch.long)  # Use long for classification\n",
    "\n",
    "sorted_indices = np.argsort([i for i in range(len(X_tensor))])\n",
    "train_indices = sorted_indices[: int(0.8 * len(sorted_indices))]\n",
    "test_indices = sorted_indices[int(0.8 * len(sorted_indices)) :]\n",
    "\n",
    "train_dataset = PitchSequenceDataset(X_tensor[train_indices], y_tensor[train_indices])\n",
    "test_dataset = PitchSequenceDataset(X_tensor[test_indices], y_tensor[test_indices])\n",
    "\n",
    "# Create data loaders\n",
    "batch_size = 32\n",
    "train_loader = DataLoader(train_dataset, batch_size=batch_size, shuffle=True)\n",
    "test_loader = DataLoader(test_dataset, batch_size=batch_size)\n",
    "\n",
    "# Set device\n",
    "device = torch.device(\"cuda\" if torch.cuda.is_available() else \"cpu\")\n"
   ]
  },
  {
   "cell_type": "code",
   "execution_count": 42,
   "id": "293921f8",
   "metadata": {},
   "outputs": [],
   "source": [
    "from sklearn.metrics import (\n",
    "    confusion_matrix,\n",
    "    classification_report,\n",
    "    accuracy_score,\n",
    "    precision_recall_fscore_support,\n",
    ")"
   ]
  },
  {
   "cell_type": "code",
   "execution_count": 43,
   "id": "a30c1299",
   "metadata": {},
   "outputs": [],
   "source": [
    "def evaluate_model(model, data_loader, criterion, device):\n",
    "    model.eval()\n",
    "    all_preds = []\n",
    "    all_targets = []\n",
    "    total_loss = 0\n",
    "\n",
    "    with torch.no_grad():\n",
    "        for inputs, targets in data_loader:\n",
    "            inputs, targets = inputs.to(device), targets.to(device)\n",
    "            outputs = model(inputs)\n",
    "            loss = criterion(outputs, targets)\n",
    "            total_loss += loss.item()\n",
    "\n",
    "            _, preds = torch.max(outputs, 1)\n",
    "            all_preds.extend(preds.cpu().numpy())\n",
    "            all_targets.extend(targets.cpu().numpy())\n",
    "\n",
    "    avg_loss = total_loss / len(data_loader)\n",
    "    return avg_loss, np.array(all_preds), np.array(all_targets)\n"
   ]
  },
  {
   "cell_type": "code",
   "execution_count": 44,
   "id": "2f958aaf",
   "metadata": {},
   "outputs": [],
   "source": [
    "# Get counts for each pitch type\n",
    "pitch_counts = df.select(pl.col(\"next_pitch_type_code\").value_counts()).unnest(\n",
    "    columns=[\"next_pitch_type_code\"]\n",
    ")\n",
    "# Extract the count values and convert to a regular list\n",
    "counts = pitch_counts.to_pandas()[\"count\"].tolist()\n",
    "# # Create class weights tensor\n",
    "class_weights = 1.0 / torch.tensor(counts, dtype=torch.float)\n",
    "class_weights = class_weights / class_weights.sum() * len(counts)  # Normalize\n"
   ]
  },
  {
   "cell_type": "code",
   "execution_count": 45,
   "id": "6c1793cb",
   "metadata": {},
   "outputs": [],
   "source": [
    "class FocalLoss(nn.Module):\n",
    "    def __init__(self, alpha=None, gamma=2.0, reduction=\"mean\"):\n",
    "        super(FocalLoss, self).__init__()\n",
    "        self.alpha = alpha  # Class weights\n",
    "        self.gamma = gamma  # Focusing parameter\n",
    "        self.reduction = reduction\n",
    "\n",
    "    def forward(self, inputs, targets):\n",
    "        CE_loss = nn.CrossEntropyLoss(weight=self.alpha, reduction=\"none\")(\n",
    "            inputs, targets\n",
    "        )\n",
    "        pt = torch.exp(-CE_loss)\n",
    "        F_loss = (1 - pt) ** self.gamma * CE_loss\n",
    "\n",
    "        if self.reduction == \"mean\":\n",
    "            return F_loss.mean()\n",
    "        elif self.reduction == \"sum\":\n",
    "            return F_loss.sum()\n",
    "        else:\n",
    "            return F_loss\n"
   ]
  },
  {
   "cell_type": "code",
   "execution_count": null,
   "id": "b680246e",
   "metadata": {},
   "outputs": [
    {
     "name": "stdout",
     "output_type": "stream",
     "text": [
      "Epoch: 0, Train Loss: 1.13063, Train Acc: 49.22%, Val Loss: 1.16084, Val Acc: 49.27%\n",
      "Epoch: 10, Train Loss: 0.98688, Train Acc: 48.56%, Val Loss: 1.07229, Val Acc: 49.27%\n"
     ]
    }
   ],
   "source": [
    "lstm = SimplerLSTM(num_classes, input_size, hidden_size, num_layers)\n",
    "\n",
    "# Training loop\n",
    "criterion = nn.CrossEntropyLoss(weight=class_weights.to(device))\n",
    "# criterion = FocalLoss(alpha=class_weights.to(device), gamma=2.0)\n",
    "optimizer = torch.optim.Adam(lstm.parameters(), lr=learning_rate, weight_decay=1e-5)\n",
    "train_losses = []\n",
    "val_losses = []\n",
    "train_accuracies = []\n",
    "val_accuracies = []\n",
    "for epoch in range(num_epochs):\n",
    "    # Training\n",
    "    lstm.train()\n",
    "    train_loss = 0\n",
    "    correct = 0\n",
    "    total = 0\n",
    "\n",
    "    for batch_X, batch_y in train_loader:\n",
    "        batch_X, batch_y = batch_X.to(device), batch_y.to(device)\n",
    "\n",
    "        # Forward pass\n",
    "        outputs = lstm(batch_X)\n",
    "        loss = criterion(outputs, batch_y)\n",
    "\n",
    "        # Backward and optimize\n",
    "        optimizer.zero_grad()\n",
    "        loss.backward()\n",
    "        optimizer.step()\n",
    "\n",
    "        train_loss += loss.item()\n",
    "        _, predicted = torch.max(outputs.data, 1)\n",
    "        total += batch_y.size(0)\n",
    "        correct += (predicted == batch_y).sum().item()\n",
    "\n",
    "    # Calculate average training metrics\n",
    "    avg_train_loss = train_loss / len(train_loader)\n",
    "    train_accuracy = 100 * correct / total\n",
    "    train_losses.append(avg_train_loss)\n",
    "    train_accuracies.append(train_accuracy)\n",
    "\n",
    "    # Validation\n",
    "    val_loss, val_preds, val_targets = evaluate_model(\n",
    "        lstm, test_loader, criterion, device\n",
    "    )\n",
    "    val_accuracy = 100 * accuracy_score(val_targets, val_preds)\n",
    "    val_losses.append(val_loss)\n",
    "    val_accuracies.append(val_accuracy)\n",
    "\n",
    "    if epoch % 10 == 0:\n",
    "        print(\n",
    "            f\"Epoch: {epoch}, Train Loss: {avg_train_loss:.5f}, Train Acc: {train_accuracy:.2f}%, Val Loss: {val_loss:.5f}, Val Acc: {val_accuracy:.2f}%\"\n",
    "        )\n"
   ]
  },
  {
   "cell_type": "code",
   "execution_count": null,
   "id": "7e6c27e7",
   "metadata": {},
   "outputs": [],
   "source": [
    "import matplotlib.pyplot as plt\n",
    "import seaborn as sns\n",
    "from sklearn.metrics import confusion_matrix, accuracy_score"
   ]
  },
  {
   "cell_type": "code",
   "execution_count": null,
   "id": "2d73449a",
   "metadata": {},
   "outputs": [],
   "source": [
    "test_loss, test_preds, test_targets = evaluate_model(\n",
    "    lstm, test_loader, criterion, device\n",
    ")"
   ]
  },
  {
   "cell_type": "code",
   "execution_count": null,
   "id": "72985e6f",
   "metadata": {},
   "outputs": [],
   "source": [
    "# 1. Learning curves\n",
    "from sklearn.metrics import classification_report\n",
    "import pandas as pd\n",
    "\n",
    "plt.figure(figsize=(12, 5))\n",
    "\n",
    "# Plot loss curves\n",
    "plt.subplot(1, 2, 1)\n",
    "plt.plot(train_losses, label=\"Training Loss\")\n",
    "plt.plot(val_losses, label=\"Validation Loss\")\n",
    "plt.xlabel(\"Epochs\")\n",
    "plt.ylabel(\"Loss\")\n",
    "plt.title(\"Learning Curves: Loss\")\n",
    "plt.legend()\n",
    "\n",
    "# Plot accuracy curves\n",
    "plt.subplot(1, 2, 2)\n",
    "plt.plot(train_accuracies, label=\"Training Accuracy\")\n",
    "plt.plot(val_accuracies, label=\"Validation Accuracy\")\n",
    "plt.xlabel(\"Epochs\")\n",
    "plt.ylabel(\"Accuracy (%)\")\n",
    "plt.title(\"Learning Curves: Accuracy\")\n",
    "plt.legend()\n",
    "\n",
    "plt.tight_layout()\n",
    "plt.savefig(\"learning_curves.png\")\n",
    "plt.show()\n",
    "\n",
    "# 2. Confusion Matrix\n",
    "# Confusion matrix normalized by class support\n",
    "plt.figure(figsize=(10, 8))\n",
    "cm = confusion_matrix(test_targets, test_preds)\n",
    "row_sums = cm.sum(axis=1)[:, np.newaxis]\n",
    "cm_normalized = np.divide(cm, row_sums, where=row_sums != 0)\n",
    "\n",
    "sns.heatmap(\n",
    "    cm_normalized,\n",
    "    annot=True,\n",
    "    fmt=\".2f\",\n",
    "    cmap=\"Blues\",\n",
    "    xticklabels=list(int_to_pitch.values()),\n",
    "    yticklabels=list(int_to_pitch.values()),\n",
    ")\n",
    "plt.xlabel(\"Predicted Pitch\")\n",
    "plt.ylabel(\"True Pitch\")\n",
    "plt.title(\"Confusion Matrix (Normalized by Class)\")\n",
    "plt.show()\n",
    "# 3. Classification Report\n",
    "report = classification_report(\n",
    "    test_targets, test_preds, target_names=list(int_to_pitch.values()), output_dict=True\n",
    ")\n",
    "report_df = pd.DataFrame(report).transpose()\n",
    "print(\"Classification Report:\")\n",
    "print(report_df)\n",
    "\n",
    "# 4. Per-pitch accuracy\n",
    "plt.figure(figsize=(12, 6))\n",
    "pitch_accuracy = report_df.iloc[:-3][\"precision\"].sort_values(ascending=False)\n",
    "sns.barplot(x=pitch_accuracy.index, y=pitch_accuracy.values)\n",
    "plt.xticks(rotation=45, ha=\"right\")\n",
    "plt.xlabel(\"Pitch Type\")\n",
    "plt.ylabel(\"Prediction Accuracy\")\n",
    "plt.title(\"Model Accuracy by Pitch Type\")\n",
    "plt.tight_layout()\n",
    "plt.savefig(\"pitch_accuracy.png\")\n",
    "plt.show()"
   ]
  },
  {
   "cell_type": "code",
   "execution_count": null,
   "id": "6082d305",
   "metadata": {},
   "outputs": [],
   "source": [
    "# Get prediction probabilities (confidence)\n",
    "def get_prediction_confidence(model, data_loader, device):\n",
    "    model.eval()\n",
    "    all_probs = []\n",
    "    all_preds = []\n",
    "    all_targets = []\n",
    "\n",
    "    with torch.no_grad():\n",
    "        for inputs, targets in data_loader:\n",
    "            inputs, targets = inputs.to(device), targets.to(device)\n",
    "            outputs = model(inputs)\n",
    "            probs = torch.nn.functional.softmax(outputs, dim=1)\n",
    "            _, preds = torch.max(probs, 1)\n",
    "\n",
    "            all_probs.extend(probs.cpu().numpy())\n",
    "            all_preds.extend(preds.cpu().numpy())\n",
    "            all_targets.extend(targets.cpu().numpy())\n",
    "\n",
    "    return np.array(all_probs), np.array(all_preds), np.array(all_targets)\n",
    "\n",
    "\n",
    "probs, preds, targets = get_prediction_confidence(lstm, test_loader, device)\n",
    "\n",
    "# Plot confidence distribution for correct vs incorrect predictions\n",
    "correct_mask = preds == targets\n",
    "correct_confidence = np.max(probs[correct_mask], axis=1)\n",
    "incorrect_confidence = np.max(probs[~correct_mask], axis=1)\n",
    "\n",
    "plt.figure(figsize=(10, 6))\n",
    "plt.hist(correct_confidence, bins=20, alpha=0.5, label=\"Correct Predictions\")\n",
    "plt.hist(incorrect_confidence, bins=20, alpha=0.5, label=\"Incorrect Predictions\")\n",
    "plt.xlabel(\"Prediction Confidence\")\n",
    "plt.ylabel(\"Count\")\n",
    "plt.title(\"Model Confidence Distribution\")\n",
    "plt.legend()\n",
    "plt.tight_layout()\n",
    "plt.savefig(\"confidence_distribution.png\")\n",
    "plt.show()"
   ]
  },
  {
   "cell_type": "code",
   "execution_count": null,
   "id": "f29c1aae",
   "metadata": {},
   "outputs": [],
   "source": [
    "def analyze_feature_importance(model, test_loader, device, feature_names):\n",
    "    # Get correctly classified samples\n",
    "    all_grads = []\n",
    "    all_targets = []\n",
    "\n",
    "    for inputs, targets in test_loader:\n",
    "        inputs = inputs.to(device)\n",
    "        inputs.requires_grad = True\n",
    "        model.zero_grad()\n",
    "        outputs = model(inputs)\n",
    "\n",
    "        for i, target in enumerate(targets):\n",
    "            model.zero_grad()\n",
    "            outputs[i, target].backward(retain_graph=True)\n",
    "            grads = inputs.grad[i].abs().mean(dim=0).cpu().detach().numpy()\n",
    "            all_grads.append(grads)\n",
    "            all_targets.append(target.item())\n",
    "\n",
    "    # Average gradient magnitude by pitch type\n",
    "    all_grads = np.array(all_grads)\n",
    "    all_targets = np.array(all_targets)\n",
    "\n",
    "    # For each pitch type, find top features\n",
    "    for pitch_id in np.unique(all_targets):\n",
    "        pitch_name = int_to_pitch[pitch_id]\n",
    "        pitch_grads = all_grads[all_targets == pitch_id].mean(axis=0)\n",
    "\n",
    "        # Get top 10 features\n",
    "        top_indices = np.argsort(pitch_grads)[-10:][::-1]\n",
    "\n",
    "        plt.figure(figsize=(12, 5))\n",
    "        plt.barh([feature_names[i] for i in top_indices], pitch_grads[top_indices])\n",
    "        plt.xlabel(\"Feature Importance (gradient magnitude)\")\n",
    "        plt.title(f\"Top 10 Predictors for {pitch_name}\")\n",
    "        plt.tight_layout()\n",
    "        plt.savefig(f\"feature_importance_{pitch_name}.png\")\n",
    "        plt.show()\n",
    "\n",
    "\n",
    "# Run feature importance analysis\n",
    "feature_names = cols_to_scale\n",
    "analyze_feature_importance(lstm, test_loader, device, feature_names)"
   ]
  }
 ],
 "metadata": {
  "kernelspec": {
   "display_name": ".venv",
   "language": "python",
   "name": "python3"
  },
  "language_info": {
   "codemirror_mode": {
    "name": "ipython",
    "version": 3
   },
   "file_extension": ".py",
   "mimetype": "text/x-python",
   "name": "python",
   "nbconvert_exporter": "python",
   "pygments_lexer": "ipython3",
   "version": "3.12.7"
  }
 },
 "nbformat": 4,
 "nbformat_minor": 5
}
