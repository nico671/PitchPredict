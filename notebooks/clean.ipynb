{
 "cells": [
  {
   "cell_type": "markdown",
   "metadata": {},
   "source": [
    "1. remove useless columns\n",
    "2. filters from params.yaml"
   ]
  },
  {
   "cell_type": "code",
   "execution_count": 34,
   "metadata": {},
   "outputs": [],
   "source": [
    "import logging\n",
    "import sys\n",
    "import time\n",
    "\n",
    "import polars as pl\n",
    "import yaml\n",
    "\n",
    "logger = logging.getLogger(\"mr. cleannnnn\")\n",
    "logger.setLevel(logging.INFO)\n",
    "handler = logging.StreamHandler()\n",
    "handler.setFormatter(\n",
    "    logging.Formatter(\"%(asctime)s - %(name)s - %(levelname)s - %(message)s\")\n",
    ")\n",
    "logger.addHandler(handler)\n",
    "\n",
    "with open(\"../params.yaml\", \"r\") as file:\n",
    "    params = yaml.safe_load(file)"
   ]
  },
  {
   "cell_type": "code",
   "execution_count": 35,
   "metadata": {},
   "outputs": [],
   "source": [
    "input_file_path = params[\"clean\"][\"input_data_path\"]\n",
    "\n",
    "# read in the complete data frame, this one is read as a LazyFrame since it is the largest, around 3.5GB\n",
    "df = pl.scan_parquet(\"../\" + input_file_path)"
   ]
  },
  {
   "cell_type": "code",
   "execution_count": 36,
   "metadata": {},
   "outputs": [],
   "source": [
    "# drop columns that will never be used\n",
    "df = df.drop(\n",
    "    [\n",
    "        \"Unnamed: 0\",\n",
    "        \"events\",\n",
    "        \"spin_dir\",\n",
    "        \"spin_rate_deprecated\",\n",
    "        \"break_angle_deprecated\",\n",
    "        \"break_length_deprecated\",\n",
    "        \"game_type\",\n",
    "        \"home_team\",\n",
    "        \"away_team\",\n",
    "        \"des\",\n",
    "        \"description\",\n",
    "        \"game_year\",\n",
    "        \"tfs_deprecated\",\n",
    "        \"tfs_zulu_deprecated\",\n",
    "        \"home_score\",\n",
    "        \"away_score\",\n",
    "        \"fielder_2\",\n",
    "        \"umpire\",\n",
    "        \"sv_id\",\n",
    "        \"pitcher.1\",\n",
    "        \"fielder_2.1\",\n",
    "        \"fielder_3\",\n",
    "        \"fielder_4\",\n",
    "        \"fielder_5\",\n",
    "        \"fielder_6\",\n",
    "        \"fielder_7\",\n",
    "        \"fielder_8\",\n",
    "        \"fielder_9\",\n",
    "        \"pitch_name\",\n",
    "        \"p_throws\",\n",
    "        \"zone\",\n",
    "        \"if_fielding_alignment\",\n",
    "        \"of_fielding_alignment\",\n",
    "        \"inning_topbot\",\n",
    "        \"vx0\",\n",
    "        \"vy0\",\n",
    "        \"vz0\",\n",
    "        \"sz_top\",\n",
    "        \"sz_bot\",\n",
    "        \"effective_speed\",\n",
    "        \"pfx_x\",\n",
    "        \"pfx_z\",\n",
    "        \"plate_x\",\n",
    "        \"plate_z\",\n",
    "        \"type\",\n",
    "    ]\n",
    ")"
   ]
  },
  {
   "cell_type": "code",
   "execution_count": 37,
   "metadata": {},
   "outputs": [],
   "source": [
    "df = df.with_columns(pl.col(\"game_date\").str.to_datetime())\n",
    "df = df.filter(pl.col(\"game_date\").dt.year() >= params[\"clean\"][\"start_year\"])"
   ]
  },
  {
   "cell_type": "code",
   "execution_count": 38,
   "metadata": {},
   "outputs": [
    {
     "data": {
      "text/html": [
       "<div><style>\n",
       ".dataframe > thead > tr,\n",
       ".dataframe > tbody > tr {\n",
       "  text-align: right;\n",
       "  white-space: pre-wrap;\n",
       "}\n",
       "</style>\n",
       "<small>shape: (9, 51)</small><table border=\"1\" class=\"dataframe\"><thead><tr><th>statistic</th><th>pitch_type</th><th>game_date</th><th>release_speed</th><th>release_pos_x</th><th>release_pos_z</th><th>player_name</th><th>batter</th><th>pitcher</th><th>stand</th><th>hit_location</th><th>bb_type</th><th>balls</th><th>strikes</th><th>on_3b</th><th>on_2b</th><th>on_1b</th><th>outs_when_up</th><th>inning</th><th>hc_x</th><th>hc_y</th><th>ax</th><th>ay</th><th>az</th><th>hit_distance_sc</th><th>launch_speed</th><th>launch_angle</th><th>release_spin_rate</th><th>release_extension</th><th>game_pk</th><th>release_pos_y</th><th>estimated_ba_using_speedangle</th><th>estimated_woba_using_speedangle</th><th>woba_value</th><th>woba_denom</th><th>babip_value</th><th>iso_value</th><th>launch_speed_angle</th><th>at_bat_number</th><th>pitch_number</th><th>bat_score</th><th>fld_score</th><th>post_away_score</th><th>post_home_score</th><th>post_bat_score</th><th>post_fld_score</th><th>spin_axis</th><th>delta_home_win_exp</th><th>delta_run_exp</th><th>bat_speed</th><th>swing_length</th></tr><tr><td>str</td><td>str</td><td>str</td><td>f64</td><td>f64</td><td>f64</td><td>str</td><td>f64</td><td>f64</td><td>str</td><td>f64</td><td>str</td><td>f64</td><td>f64</td><td>f64</td><td>f64</td><td>f64</td><td>f64</td><td>f64</td><td>f64</td><td>f64</td><td>f64</td><td>f64</td><td>f64</td><td>f64</td><td>f64</td><td>f64</td><td>f64</td><td>f64</td><td>f64</td><td>f64</td><td>f64</td><td>f64</td><td>f64</td><td>f64</td><td>f64</td><td>f64</td><td>f64</td><td>f64</td><td>f64</td><td>f64</td><td>f64</td><td>f64</td><td>f64</td><td>f64</td><td>f64</td><td>f64</td><td>f64</td><td>f64</td><td>f64</td><td>f64</td></tr></thead><tbody><tr><td>&quot;count&quot;</td><td>&quot;4015327&quot;</td><td>&quot;4104468&quot;</td><td>4.014156e6</td><td>4.013927e6</td><td>4.013927e6</td><td>&quot;4104468&quot;</td><td>4.104468e6</td><td>4.104468e6</td><td>&quot;4104468&quot;</td><td>933002.0</td><td>&quot;722211&quot;</td><td>4.104468e6</td><td>4.104468e6</td><td>384963.0</td><td>769830.0</td><td>1.258451e6</td><td>4.104468e6</td><td>4.104468e6</td><td>721538.0</td><td>721538.0</td><td>4.014137e6</td><td>4.014137e6</td><td>4.014137e6</td><td>1.274528e6</td><td>1.276975e6</td><td>1.278019e6</td><td>3.985171e6</td><td>4.007504e6</td><td>4.104468e6</td><td>4.013927e6</td><td>689911.0</td><td>991961.0</td><td>1.070414e6</td><td>996250.0</td><td>1.070414e6</td><td>1.070414e6</td><td>689911.0</td><td>4.104468e6</td><td>4.104468e6</td><td>4.104468e6</td><td>4.104468e6</td><td>4.104468e6</td><td>4.104468e6</td><td>4.104468e6</td><td>4.104468e6</td><td>3.998112e6</td><td>4.104436e6</td><td>3.914658e6</td><td>321999.0</td><td>321999.0</td></tr><tr><td>&quot;null_count&quot;</td><td>&quot;89141&quot;</td><td>&quot;0&quot;</td><td>90312.0</td><td>90541.0</td><td>90541.0</td><td>&quot;0&quot;</td><td>0.0</td><td>0.0</td><td>&quot;0&quot;</td><td>3.171466e6</td><td>&quot;3382257&quot;</td><td>0.0</td><td>0.0</td><td>3.719505e6</td><td>3.334638e6</td><td>2.846017e6</td><td>0.0</td><td>0.0</td><td>3.38293e6</td><td>3.38293e6</td><td>90331.0</td><td>90331.0</td><td>90331.0</td><td>2.82994e6</td><td>2.827493e6</td><td>2.826449e6</td><td>119297.0</td><td>96964.0</td><td>0.0</td><td>90541.0</td><td>3.414557e6</td><td>3.112507e6</td><td>3.034054e6</td><td>3.108218e6</td><td>3.034054e6</td><td>3.034054e6</td><td>3.414557e6</td><td>0.0</td><td>0.0</td><td>0.0</td><td>0.0</td><td>0.0</td><td>0.0</td><td>0.0</td><td>0.0</td><td>106356.0</td><td>32.0</td><td>189810.0</td><td>3.782469e6</td><td>3.782469e6</td></tr><tr><td>&quot;mean&quot;</td><td>null</td><td>&quot;2022-03-07 01:15:27.357406&quot;</td><td>88.893968</td><td>-0.792029</td><td>5.819772</td><td>null</td><td>610559.127989</td><td>608783.5297</td><td>null</td><td>5.084658</td><td>null</td><td>0.871729</td><td>0.891882</td><td>612336.842839</td><td>612199.766586</td><td>610504.72305</td><td>0.981007</td><td>4.951493</td><td>126.205676</td><td>122.08389</td><td>-2.248643</td><td>26.627403</td><td>-23.737127</td><td>156.301589</td><td>82.685152</td><td>16.90322</td><td>2249.502047</td><td>6.303656</td><td>664007.006621</td><td>54.196259</td><td>0.325589</td><td>0.316473</td><td>0.326857</td><td>0.996127</td><td>0.18842</td><td>0.148394</td><td>3.197546</td><td>38.625654</td><td>2.896572</td><td>2.270819</td><td>2.314129</td><td>2.386855</td><td>2.22963</td><td>2.302356</td><td>2.314129</td><td>176.295041</td><td>0.000112</td><td>0.000003</td><td>69.480058</td><td>7.216324</td></tr><tr><td>&quot;std&quot;</td><td>null</td><td>null</td><td>6.048116</td><td>1.878</td><td>0.535392</td><td>null</td><td>65037.336598</td><td>65426.071778</td><td>null</td><td>2.632107</td><td>null</td><td>0.967662</td><td>0.828766</td><td>64210.062319</td><td>64476.277576</td><td>65175.23253</td><td>0.817915</td><td>2.607592</td><td>40.736932</td><td>42.02047</td><td>10.649416</td><td>4.000878</td><td>8.859137</td><td>121.274144</td><td>15.132133</td><td>32.316204</td><td>340.361395</td><td>0.490186</td><td>61979.644168</td><td>0.488984</td><td>0.291522</td><td>0.377516</td><td>0.517845</td><td>0.062109</td><td>0.391047</td><td>0.57191</td><td>1.281545</td><td>22.649587</td><td>1.734488</td><td>2.584717</td><td>2.680943</td><td>2.692018</td><td>2.584527</td><td>2.59838</td><td>2.680943</td><td>71.556028</td><td>0.028415</td><td>0.244075</td><td>8.889669</td><td>0.994875</td></tr><tr><td>&quot;min&quot;</td><td>&quot;CH&quot;</td><td>&quot;2019-03-20 00:00:00&quot;</td><td>30.1</td><td>-5.38</td><td>-0.13</td><td>&quot;Abad, Fernando&quot;</td><td>282332.0</td><td>282332.0</td><td>&quot;L&quot;</td><td>1.0</td><td>&quot;fly_ball&quot;</td><td>0.0</td><td>0.0</td><td>405395.0</td><td>400085.0</td><td>400085.0</td><td>0.0</td><td>1.0</td><td>2.0</td><td>2.13</td><td>-193.953173</td><td>-337.555603</td><td>-124.677778</td><td>0.0</td><td>2.0</td><td>-90.0</td><td>4.0</td><td>0.6</td><td>564731.0</td><td>47.32</td><td>0.0</td><td>0.0</td><td>0.0</td><td>0.0</td><td>0.0</td><td>0.0</td><td>1.0</td><td>1.0</td><td>1.0</td><td>0.0</td><td>0.0</td><td>0.0</td><td>0.0</td><td>0.0</td><td>0.0</td><td>0.0</td><td>-0.776</td><td>-1.661</td><td>0.85121</td><td>0.30587</td></tr><tr><td>&quot;25%&quot;</td><td>null</td><td>&quot;2020-09-30 00:00:00&quot;</td><td>84.6</td><td>-2.12</td><td>5.55</td><td>null</td><td>572228.0</td><td>572971.0</td><td>null</td><td>2.0</td><td>null</td><td>0.0</td><td>0.0</td><td>572816.0</td><td>572816.0</td><td>572191.0</td><td>0.0</td><td>3.0</td><td>101.13</td><td>89.37</td><td>-11.264601</td><td>23.656047</td><td>-30.07374</td><td>20.0</td><td>72.9</td><td>-5.0</td><td>2095.0</td><td>6.0</td><td>632192.0</td><td>53.87</td><td>0.074</td><td>0.003</td><td>0.0</td><td>1.0</td><td>0.0</td><td>0.0</td><td>2.0</td><td>19.0</td><td>1.0</td><td>0.0</td><td>0.0</td><td>0.0</td><td>0.0</td><td>0.0</td><td>0.0</td><td>132.0</td><td>0.0</td><td>-0.067</td><td>66.97528</td><td>6.644</td></tr><tr><td>&quot;50%&quot;</td><td>null</td><td>&quot;2022-05-27 00:00:00&quot;</td><td>89.8</td><td>-1.5</td><td>5.86</td><td>null</td><td>624413.0</td><td>621381.0</td><td>null</td><td>5.0</td><td>null</td><td>1.0</td><td>1.0</td><td>624512.0</td><td>624512.0</td><td>624413.0</td><td>1.0</td><td>5.0</td><td>125.1</td><td>125.01</td><td>-2.29824</td><td>26.52945</td><td>-23.548278</td><td>166.0</td><td>82.4</td><td>19.0</td><td>2275.0</td><td>6.3</td><td>661880.0</td><td>54.18</td><td>0.231</td><td>0.162</td><td>0.0</td><td>1.0</td><td>0.0</td><td>0.0</td><td>3.0</td><td>38.0</td><td>3.0</td><td>1.0</td><td>1.0</td><td>2.0</td><td>1.0</td><td>2.0</td><td>1.0</td><td>198.0</td><td>0.0</td><td>-0.018</td><td>70.91612</td><td>7.27356</td></tr><tr><td>&quot;75%&quot;</td><td>null</td><td>&quot;2023-07-29 00:00:00&quot;</td><td>93.7</td><td>0.99</td><td>6.15</td><td>null</td><td>664058.0</td><td>663556.0</td><td>null</td><td>8.0</td><td>null</td><td>1.0</td><td>2.0</td><td>664728.0</td><td>664728.0</td><td>664058.0</td><td>2.0</td><td>7.0</td><td>153.69</td><td>156.61</td><td>5.948818</td><td>29.562672</td><td>-16.015329</td><td>245.0</td><td>94.6</td><td>40.0</td><td>2448.0</td><td>6.6</td><td>718048.0</td><td>54.52</td><td>0.537</td><td>0.588</td><td>0.7</td><td>1.0</td><td>0.0</td><td>0.0</td><td>4.0</td><td>57.0</td><td>4.0</td><td>4.0</td><td>4.0</td><td>4.0</td><td>3.0</td><td>4.0</td><td>4.0</td><td>223.0</td><td>0.0</td><td>0.037</td><td>74.25337</td><td>7.88496</td></tr><tr><td>&quot;max&quot;</td><td>&quot;SV&quot;</td><td>&quot;2024-10-25 00:00:00&quot;</td><td>105.5</td><td>18.0</td><td>10.54</td><td>&quot;Álvarez, Daniel&quot;</td><td>815888.0</td><td>815084.0</td><td>&quot;R&quot;</td><td>9.0</td><td>&quot;popup&quot;</td><td>4.0</td><td>3.0</td><td>814307.0</td><td>815888.0</td><td>815888.0</td><td>2.0</td><td>19.0</td><td>246.91</td><td>246.54</td><td>31.73382</td><td>100.050198</td><td>43.70545</td><td>543.0</td><td>122.4</td><td>90.0</td><td>3741.0</td><td>12.1</td><td>775345.0</td><td>59.94</td><td>1.0</td><td>2.064</td><td>2.0</td><td>1.0</td><td>1.0</td><td>3.0</td><td>6.0</td><td>148.0</td><td>19.0</td><td>29.0</td><td>29.0</td><td>29.0</td><td>29.0</td><td>29.0</td><td>29.0</td><td>360.0</td><td>0.91</td><td>3.702</td><td>87.99199</td><td>12.00067</td></tr></tbody></table></div>"
      ],
      "text/plain": [
       "shape: (9, 51)\n",
       "┌───────────┬───────────┬───────────┬───────────┬───┬───────────┬───────────┬───────────┬──────────┐\n",
       "│ statistic ┆ pitch_typ ┆ game_date ┆ release_s ┆ … ┆ delta_hom ┆ delta_run ┆ bat_speed ┆ swing_le │\n",
       "│ ---       ┆ e         ┆ ---       ┆ peed      ┆   ┆ e_win_exp ┆ _exp      ┆ ---       ┆ ngth     │\n",
       "│ str       ┆ ---       ┆ str       ┆ ---       ┆   ┆ ---       ┆ ---       ┆ f64       ┆ ---      │\n",
       "│           ┆ str       ┆           ┆ f64       ┆   ┆ f64       ┆ f64       ┆           ┆ f64      │\n",
       "╞═══════════╪═══════════╪═══════════╪═══════════╪═══╪═══════════╪═══════════╪═══════════╪══════════╡\n",
       "│ count     ┆ 4015327   ┆ 4104468   ┆ 4.014156e ┆ … ┆ 4.104436e ┆ 3.914658e ┆ 321999.0  ┆ 321999.0 │\n",
       "│           ┆           ┆           ┆ 6         ┆   ┆ 6         ┆ 6         ┆           ┆          │\n",
       "│ null_coun ┆ 89141     ┆ 0         ┆ 90312.0   ┆ … ┆ 32.0      ┆ 189810.0  ┆ 3.782469e ┆ 3.782469 │\n",
       "│ t         ┆           ┆           ┆           ┆   ┆           ┆           ┆ 6         ┆ e6       │\n",
       "│ mean      ┆ null      ┆ 2022-03-0 ┆ 88.893968 ┆ … ┆ 0.000112  ┆ 0.000003  ┆ 69.480058 ┆ 7.216324 │\n",
       "│           ┆           ┆ 7 01:15:2 ┆           ┆   ┆           ┆           ┆           ┆          │\n",
       "│           ┆           ┆ 7.357406  ┆           ┆   ┆           ┆           ┆           ┆          │\n",
       "│ std       ┆ null      ┆ null      ┆ 6.048116  ┆ … ┆ 0.028415  ┆ 0.244075  ┆ 8.889669  ┆ 0.994875 │\n",
       "│ min       ┆ CH        ┆ 2019-03-2 ┆ 30.1      ┆ … ┆ -0.776    ┆ -1.661    ┆ 0.85121   ┆ 0.30587  │\n",
       "│           ┆           ┆ 0         ┆           ┆   ┆           ┆           ┆           ┆          │\n",
       "│           ┆           ┆ 00:00:00  ┆           ┆   ┆           ┆           ┆           ┆          │\n",
       "│ 25%       ┆ null      ┆ 2020-09-3 ┆ 84.6      ┆ … ┆ 0.0       ┆ -0.067    ┆ 66.97528  ┆ 6.644    │\n",
       "│           ┆           ┆ 0         ┆           ┆   ┆           ┆           ┆           ┆          │\n",
       "│           ┆           ┆ 00:00:00  ┆           ┆   ┆           ┆           ┆           ┆          │\n",
       "│ 50%       ┆ null      ┆ 2022-05-2 ┆ 89.8      ┆ … ┆ 0.0       ┆ -0.018    ┆ 70.91612  ┆ 7.27356  │\n",
       "│           ┆           ┆ 7         ┆           ┆   ┆           ┆           ┆           ┆          │\n",
       "│           ┆           ┆ 00:00:00  ┆           ┆   ┆           ┆           ┆           ┆          │\n",
       "│ 75%       ┆ null      ┆ 2023-07-2 ┆ 93.7      ┆ … ┆ 0.0       ┆ 0.037     ┆ 74.25337  ┆ 7.88496  │\n",
       "│           ┆           ┆ 9         ┆           ┆   ┆           ┆           ┆           ┆          │\n",
       "│           ┆           ┆ 00:00:00  ┆           ┆   ┆           ┆           ┆           ┆          │\n",
       "│ max       ┆ SV        ┆ 2024-10-2 ┆ 105.5     ┆ … ┆ 0.91      ┆ 3.702     ┆ 87.99199  ┆ 12.00067 │\n",
       "│           ┆           ┆ 5         ┆           ┆   ┆           ┆           ┆           ┆          │\n",
       "│           ┆           ┆ 00:00:00  ┆           ┆   ┆           ┆           ┆           ┆          │\n",
       "└───────────┴───────────┴───────────┴───────────┴───┴───────────┴───────────┴───────────┴──────────┘"
      ]
     },
     "execution_count": 38,
     "metadata": {},
     "output_type": "execute_result"
    }
   ],
   "source": [
    "df.collect().describe()\n"
   ]
  },
  {
   "cell_type": "code",
   "execution_count": 39,
   "metadata": {},
   "outputs": [
    {
     "name": "stdout",
     "output_type": "stream",
     "text": [
      "4104468\n",
      "4015327\n"
     ]
    }
   ],
   "source": [
    "print(df.collect().height)\n",
    "\n",
    "\n",
    "# drop rows with null values in the columns 'pitch_type' and 'pitcher', as they cant be used for training\n",
    "df = df.drop_nulls(subset=[\"pitch_type\", \"pitcher\"]).collect()\n",
    "\n",
    "print(df.height)"
   ]
  }
 ],
 "metadata": {
  "kernelspec": {
   "display_name": "pitch_predict",
   "language": "python",
   "name": "python3"
  },
  "language_info": {
   "codemirror_mode": {
    "name": "ipython",
    "version": 3
   },
   "file_extension": ".py",
   "mimetype": "text/x-python",
   "name": "python",
   "nbconvert_exporter": "python",
   "pygments_lexer": "ipython3",
   "version": "3.12.7"
  }
 },
 "nbformat": 4,
 "nbformat_minor": 2
}
