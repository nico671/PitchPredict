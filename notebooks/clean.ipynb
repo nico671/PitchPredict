{
 "cells": [
  {
   "cell_type": "markdown",
   "metadata": {},
   "source": [
    "1. remove useless columns\n",
    "2. filters from params.yaml"
   ]
  },
  {
   "cell_type": "code",
   "execution_count": 90,
   "metadata": {},
   "outputs": [],
   "source": [
    "import polars as pl\n",
    "import yaml\n"
   ]
  },
  {
   "cell_type": "code",
   "execution_count": null,
   "metadata": {},
   "outputs": [
    {
     "data": {
      "text/html": [
       "<i>naive plan: (run <b>LazyFrame.explain(optimized=True)</b> to see the optimized plan)</i>\n",
       "    <p></p>\n",
       "    <div>FILTER col(\"pitcher\").is_not_null() FROM<p></p>  FILTER [(col(\"game_date\").dt.year()) >= (2024)] FROM<p></p>     WITH_COLUMNS:<p></p>     [col(\"game_date\").str.strptime([String(raise)])] <p></p>      Parquet SCAN [../data/raw/2015_2024_statcast.parquet]<p></p>      PROJECT */95 COLUMNS</div>"
      ],
      "text/plain": [
       "<LazyFrame at 0x3019EBA40>"
      ]
     },
     "execution_count": 91,
     "metadata": {},
     "output_type": "execute_result"
    }
   ],
   "source": [
    "with open(\"../params.yaml\", \"r\") as file:\n",
    "    params = yaml.safe_load(file)\n",
    "input_file_path = params[\"clean\"][\"input_data_path\"]\n",
    "\n",
    "# read in the complete data frame\n",
    "df = pl.scan_parquet(\"../\" + input_file_path)\n",
    "\n",
    "df = df.with_columns(pl.col(\"game_date\").str.to_datetime())\n",
    "df = df.filter(pl.col(\"game_date\").dt.year() >= params[\"clean\"][\"start_year\"])"
   ]
  },
  {
   "cell_type": "code",
   "execution_count": 92,
   "metadata": {},
   "outputs": [],
   "source": [
    "# df = df.with_columns(\n",
    "#     df.select(pl.col(\"pitch_type\").cast(pl.Categorical)),\n",
    "# )\n",
    "# df.head()\n",
    "\n",
    "\n",
    "df = df.drop(\n",
    "    [\n",
    "        \"Unnamed: 0\",\n",
    "        \"spin_dir\",\n",
    "        \"spin_rate_deprecated\",\n",
    "        \"break_angle_deprecated\",\n",
    "        \"break_length_deprecated\",\n",
    "        \"game_type\",\n",
    "        \"home_team\",\n",
    "        \"away_team\",\n",
    "        \"des\",\n",
    "        \"description\",\n",
    "        \"game_year\",\n",
    "        \"tfs_deprecated\",\n",
    "        \"tfs_zulu_deprecated\",\n",
    "        \"fielder_2\",\n",
    "        \"umpire\",\n",
    "        \"sv_id\",\n",
    "        \"pitcher.1\",\n",
    "        \"fielder_2.1\",\n",
    "        \"fielder_3\",\n",
    "        \"fielder_4\",\n",
    "        \"fielder_5\",\n",
    "        \"fielder_6\",\n",
    "        \"fielder_7\",\n",
    "        \"fielder_8\",\n",
    "        \"fielder_9\",\n",
    "        \"pitch_name\",\n",
    "        \"home_score\",\n",
    "        \"away_score\",\n",
    "        \"post_away_score\",\n",
    "        \"post_home_score\",\n",
    "        \"post_bat_score\",\n",
    "        \"post_fld_score\",\n",
    "        \"delta_home_win_exp\",\n",
    "        \"delta_run_exp\",\n",
    "    ]\n",
    ")\n"
   ]
  },
  {
   "cell_type": "code",
   "execution_count": 99,
   "metadata": {},
   "outputs": [],
   "source": [
    "df = df.filter(pl.col(\"game_date\").dt.year() >= params[\"clean\"][\"start_year\"])\n",
    "\n",
    "df.filter(pl.col(\"pitcher\").is_not_null())\n",
    "df.filter(pl.col(\"pitch_type\").is_not_null())\n",
    "\n",
    "# get top k pitchers (decided by number of pitches and num_pitchers from params.yaml)\n",
    "pitcher_counts = df.group_by(\"pitcher\").len().sort(\"len\", descending=True)\n",
    "top_k_pitchers = pitcher_counts.head(params[\"clean\"][\"num_pitchers\"]).select(\"pitcher\")\n",
    "\n",
    "# Collect the 'pitcher' column into a list\n",
    "top_k_pitchers_list = top_k_pitchers.collect().get_column(\"pitcher\").to_list()\n",
    "\n",
    "# Now 'is_in' can use the list\n",
    "df = df.filter(pl.col(\"pitcher\").is_in(top_k_pitchers_list))"
   ]
  },
  {
   "cell_type": "code",
   "execution_count": 100,
   "metadata": {},
   "outputs": [],
   "source": [
    "def display_df(df):\n",
    "    with pl.Config() as cfg:\n",
    "        cfg.set_tbl_cols(df.width)\n",
    "        display(df)"
   ]
  },
  {
   "cell_type": "code",
   "execution_count": 104,
   "metadata": {},
   "outputs": [
    {
     "data": {
      "text/html": [
       "<div><style>\n",
       ".dataframe > thead > tr,\n",
       ".dataframe > tbody > tr {\n",
       "  text-align: right;\n",
       "  white-space: pre-wrap;\n",
       "}\n",
       "</style>\n",
       "<small>shape: (33_648, 61)</small><table border=\"1\" class=\"dataframe\"><thead><tr><th>pitch_type</th><th>game_date</th><th>release_speed</th><th>release_pos_x</th><th>release_pos_z</th><th>player_name</th><th>batter</th><th>pitcher</th><th>events</th><th>zone</th><th>stand</th><th>p_throws</th><th>type</th><th>hit_location</th><th>bb_type</th><th>balls</th><th>strikes</th><th>pfx_x</th><th>pfx_z</th><th>plate_x</th><th>plate_z</th><th>on_3b</th><th>on_2b</th><th>on_1b</th><th>outs_when_up</th><th>inning</th><th>inning_topbot</th><th>hc_x</th><th>hc_y</th><th>vx0</th><th>vy0</th><th>vz0</th><th>ax</th><th>ay</th><th>az</th><th>sz_top</th><th>sz_bot</th><th>hit_distance_sc</th><th>launch_speed</th><th>launch_angle</th><th>effective_speed</th><th>release_spin_rate</th><th>release_extension</th><th>game_pk</th><th>release_pos_y</th><th>estimated_ba_using_speedangle</th><th>estimated_woba_using_speedangle</th><th>woba_value</th><th>woba_denom</th><th>babip_value</th><th>iso_value</th><th>launch_speed_angle</th><th>at_bat_number</th><th>pitch_number</th><th>bat_score</th><th>fld_score</th><th>if_fielding_alignment</th><th>of_fielding_alignment</th><th>spin_axis</th><th>bat_speed</th><th>swing_length</th></tr><tr><td>str</td><td>datetime[μs]</td><td>f64</td><td>f64</td><td>f64</td><td>str</td><td>i64</td><td>i64</td><td>str</td><td>f64</td><td>str</td><td>str</td><td>str</td><td>f64</td><td>str</td><td>i64</td><td>i64</td><td>f64</td><td>f64</td><td>f64</td><td>f64</td><td>f64</td><td>f64</td><td>f64</td><td>i64</td><td>i64</td><td>str</td><td>f64</td><td>f64</td><td>f64</td><td>f64</td><td>f64</td><td>f64</td><td>f64</td><td>f64</td><td>f64</td><td>f64</td><td>f64</td><td>f64</td><td>f64</td><td>f64</td><td>f64</td><td>f64</td><td>i64</td><td>f64</td><td>f64</td><td>f64</td><td>f64</td><td>f64</td><td>f64</td><td>f64</td><td>f64</td><td>i64</td><td>i64</td><td>i64</td><td>i64</td><td>str</td><td>str</td><td>f64</td><td>f64</td><td>f64</td></tr></thead><tbody><tr><td>&quot;ST&quot;</td><td>2024-10-20 00:00:00</td><td>78.8</td><td>4.1</td><td>5.27</td><td>&quot;Manaea, Sean&quot;</td><td>571970</td><td>640455</td><td>&quot;walk&quot;</td><td>14.0</td><td>&quot;L&quot;</td><td>&quot;L&quot;</td><td>&quot;B&quot;</td><td>null</td><td>null</td><td>3</td><td>1</td><td>-1.04</td><td>0.07</td><td>1.44</td><td>1.65</td><td>null</td><td>null</td><td>null</td><td>0</td><td>3</td><td>&quot;Bot&quot;</td><td>null</td><td>null</td><td>-3.876776</td><td>-114.790473</td><td>-1.213129</td><td>-8.519711</td><td>20.865706</td><td>-31.531093</td><td>2.99</td><td>1.5</td><td>null</td><td>null</td><td>null</td><td>79.7</td><td>2141.0</td><td>6.8</td><td>775302</td><td>53.72</td><td>null</td><td>0.689131</td><td>0.7</td><td>1.0</td><td>0.0</td><td>0.0</td><td>null</td><td>31</td><td>5</td><td>4</td><td>1</td><td>&quot;Infield shade&quot;</td><td>&quot;Standard&quot;</td><td>294.0</td><td>null</td><td>null</td></tr><tr><td>&quot;CH&quot;</td><td>2024-10-20 00:00:00</td><td>83.9</td><td>4.16</td><td>5.13</td><td>&quot;Manaea, Sean&quot;</td><td>571970</td><td>640455</td><td>null</td><td>13.0</td><td>&quot;L&quot;</td><td>&quot;L&quot;</td><td>&quot;B&quot;</td><td>null</td><td>null</td><td>2</td><td>1</td><td>1.28</td><td>-0.01</td><td>-1.13</td><td>1.32</td><td>null</td><td>null</td><td>null</td><td>0</td><td>3</td><td>&quot;Bot&quot;</td><td>null</td><td>null</td><td>-14.910726</td><td>-121.300964</td><td>-2.306161</td><td>15.532788</td><td>23.944392</td><td>-32.030777</td><td>2.99</td><td>1.4</td><td>null</td><td>null</td><td>null</td><td>84.7</td><td>1835.0</td><td>7.2</td><td>775302</td><td>53.31</td><td>null</td><td>null</td><td>null</td><td>null</td><td>null</td><td>null</td><td>null</td><td>31</td><td>4</td><td>4</td><td>1</td><td>&quot;Infield shade&quot;</td><td>&quot;Standard&quot;</td><td>106.0</td><td>null</td><td>null</td></tr><tr><td>&quot;SI&quot;</td><td>2024-10-20 00:00:00</td><td>91.9</td><td>4.03</td><td>4.97</td><td>&quot;Manaea, Sean&quot;</td><td>571970</td><td>640455</td><td>null</td><td>13.0</td><td>&quot;L&quot;</td><td>&quot;L&quot;</td><td>&quot;B&quot;</td><td>null</td><td>null</td><td>1</td><td>1</td><td>1.16</td><td>0.76</td><td>-0.93</td><td>2.17</td><td>null</td><td>null</td><td>null</td><td>0</td><td>3</td><td>&quot;Bot&quot;</td><td>null</td><td>null</td><td>-15.210428</td><td>-132.944842</td><td>-2.837582</td><td>16.955867</td><td>27.981449</td><td>-22.734943</td><td>2.99</td><td>1.53</td><td>null</td><td>null</td><td>null</td><td>92.7</td><td>2131.0</td><td>7.0</td><td>775302</td><td>53.48</td><td>null</td><td>null</td><td>null</td><td>null</td><td>null</td><td>null</td><td>null</td><td>31</td><td>3</td><td>4</td><td>1</td><td>&quot;Infield shade&quot;</td><td>&quot;Standard&quot;</td><td>113.0</td><td>null</td><td>null</td></tr><tr><td>&quot;ST&quot;</td><td>2024-10-20 00:00:00</td><td>80.2</td><td>3.84</td><td>5.31</td><td>&quot;Manaea, Sean&quot;</td><td>571970</td><td>640455</td><td>null</td><td>13.0</td><td>&quot;L&quot;</td><td>&quot;L&quot;</td><td>&quot;B&quot;</td><td>null</td><td>null</td><td>0</td><td>1</td><td>-1.34</td><td>0.15</td><td>-0.86</td><td>1.28</td><td>null</td><td>null</td><td>null</td><td>0</td><td>3</td><td>&quot;Bot&quot;</td><td>null</td><td>null</td><td>-7.987162</td><td>-116.480556</td><td>-2.438514</td><td>-10.452965</td><td>23.959752</td><td>-30.532682</td><td>2.99</td><td>1.35</td><td>null</td><td>null</td><td>null</td><td>81.3</td><td>2117.0</td><td>7.4</td><td>775302</td><td>53.14</td><td>null</td><td>null</td><td>null</td><td>null</td><td>null</td><td>null</td><td>null</td><td>31</td><td>2</td><td>4</td><td>1</td><td>&quot;Infield shade&quot;</td><td>&quot;Standard&quot;</td><td>284.0</td><td>null</td><td>null</td></tr><tr><td>&quot;ST&quot;</td><td>2024-10-20 00:00:00</td><td>78.9</td><td>3.89</td><td>5.26</td><td>&quot;Manaea, Sean&quot;</td><td>571970</td><td>640455</td><td>null</td><td>8.0</td><td>&quot;L&quot;</td><td>&quot;L&quot;</td><td>&quot;S&quot;</td><td>null</td><td>null</td><td>0</td><td>0</td><td>-1.57</td><td>0.19</td><td>-0.23</td><td>1.53</td><td>null</td><td>null</td><td>null</td><td>0</td><td>3</td><td>&quot;Bot&quot;</td><td>null</td><td>null</td><td>-6.125394</td><td>-114.782271</td><td>-1.669025</td><td>-12.671426</td><td>21.628193</td><td>-30.380521</td><td>2.99</td><td>1.48</td><td>null</td><td>null</td><td>null</td><td>79.9</td><td>2152.0</td><td>7.0</td><td>775302</td><td>53.45</td><td>null</td><td>null</td><td>null</td><td>null</td><td>null</td><td>null</td><td>null</td><td>31</td><td>1</td><td>4</td><td>1</td><td>&quot;Infield shade&quot;</td><td>&quot;Standard&quot;</td><td>283.0</td><td>null</td><td>null</td></tr><tr><td>&hellip;</td><td>&hellip;</td><td>&hellip;</td><td>&hellip;</td><td>&hellip;</td><td>&hellip;</td><td>&hellip;</td><td>&hellip;</td><td>&hellip;</td><td>&hellip;</td><td>&hellip;</td><td>&hellip;</td><td>&hellip;</td><td>&hellip;</td><td>&hellip;</td><td>&hellip;</td><td>&hellip;</td><td>&hellip;</td><td>&hellip;</td><td>&hellip;</td><td>&hellip;</td><td>&hellip;</td><td>&hellip;</td><td>&hellip;</td><td>&hellip;</td><td>&hellip;</td><td>&hellip;</td><td>&hellip;</td><td>&hellip;</td><td>&hellip;</td><td>&hellip;</td><td>&hellip;</td><td>&hellip;</td><td>&hellip;</td><td>&hellip;</td><td>&hellip;</td><td>&hellip;</td><td>&hellip;</td><td>&hellip;</td><td>&hellip;</td><td>&hellip;</td><td>&hellip;</td><td>&hellip;</td><td>&hellip;</td><td>&hellip;</td><td>&hellip;</td><td>&hellip;</td><td>&hellip;</td><td>&hellip;</td><td>&hellip;</td><td>&hellip;</td><td>&hellip;</td><td>&hellip;</td><td>&hellip;</td><td>&hellip;</td><td>&hellip;</td><td>&hellip;</td><td>&hellip;</td><td>&hellip;</td><td>&hellip;</td><td>&hellip;</td></tr><tr><td>null</td><td>2024-03-16 00:00:00</td><td>null</td><td>null</td><td>null</td><td>&quot;Peralta, Freddy&quot;</td><td>665750</td><td>642547</td><td>&quot;field_out&quot;</td><td>null</td><td>&quot;L&quot;</td><td>&quot;R&quot;</td><td>&quot;X&quot;</td><td>6.0</td><td>&quot;ground_ball&quot;</td><td>1</td><td>2</td><td>null</td><td>null</td><td>null</td><td>null</td><td>null</td><td>null</td><td>null</td><td>0</td><td>1</td><td>&quot;Top&quot;</td><td>117.74</td><td>155.77</td><td>null</td><td>null</td><td>null</td><td>null</td><td>null</td><td>null</td><td>null</td><td>null</td><td>null</td><td>null</td><td>null</td><td>null</td><td>null</td><td>null</td><td>747933</td><td>null</td><td>null</td><td>null</td><td>0.0</td><td>null</td><td>0.0</td><td>0.0</td><td>null</td><td>1</td><td>5</td><td>0</td><td>0</td><td>null</td><td>null</td><td>null</td><td>null</td><td>null</td></tr><tr><td>null</td><td>2024-03-16 00:00:00</td><td>null</td><td>null</td><td>null</td><td>&quot;Peralta, Freddy&quot;</td><td>665750</td><td>642547</td><td>null</td><td>null</td><td>&quot;L&quot;</td><td>&quot;R&quot;</td><td>&quot;S&quot;</td><td>null</td><td>null</td><td>1</td><td>2</td><td>null</td><td>null</td><td>null</td><td>null</td><td>null</td><td>null</td><td>null</td><td>0</td><td>1</td><td>&quot;Top&quot;</td><td>null</td><td>null</td><td>null</td><td>null</td><td>null</td><td>null</td><td>null</td><td>null</td><td>null</td><td>null</td><td>null</td><td>null</td><td>null</td><td>null</td><td>null</td><td>null</td><td>747933</td><td>null</td><td>null</td><td>null</td><td>null</td><td>null</td><td>null</td><td>null</td><td>null</td><td>1</td><td>4</td><td>0</td><td>0</td><td>null</td><td>null</td><td>null</td><td>null</td><td>null</td></tr><tr><td>null</td><td>2024-03-16 00:00:00</td><td>null</td><td>null</td><td>null</td><td>&quot;Peralta, Freddy&quot;</td><td>665750</td><td>642547</td><td>null</td><td>null</td><td>&quot;L&quot;</td><td>&quot;R&quot;</td><td>&quot;B&quot;</td><td>null</td><td>null</td><td>0</td><td>2</td><td>null</td><td>null</td><td>null</td><td>null</td><td>null</td><td>null</td><td>null</td><td>0</td><td>1</td><td>&quot;Top&quot;</td><td>null</td><td>null</td><td>null</td><td>null</td><td>null</td><td>null</td><td>null</td><td>null</td><td>null</td><td>null</td><td>null</td><td>null</td><td>null</td><td>null</td><td>null</td><td>null</td><td>747933</td><td>null</td><td>null</td><td>null</td><td>null</td><td>null</td><td>null</td><td>null</td><td>null</td><td>1</td><td>3</td><td>0</td><td>0</td><td>null</td><td>null</td><td>null</td><td>null</td><td>null</td></tr><tr><td>null</td><td>2024-03-16 00:00:00</td><td>null</td><td>null</td><td>null</td><td>&quot;Peralta, Freddy&quot;</td><td>665750</td><td>642547</td><td>null</td><td>null</td><td>&quot;L&quot;</td><td>&quot;R&quot;</td><td>&quot;S&quot;</td><td>null</td><td>null</td><td>0</td><td>1</td><td>null</td><td>null</td><td>null</td><td>null</td><td>null</td><td>null</td><td>null</td><td>0</td><td>1</td><td>&quot;Top&quot;</td><td>null</td><td>null</td><td>null</td><td>null</td><td>null</td><td>null</td><td>null</td><td>null</td><td>null</td><td>null</td><td>null</td><td>null</td><td>null</td><td>null</td><td>null</td><td>null</td><td>747933</td><td>null</td><td>null</td><td>null</td><td>null</td><td>null</td><td>null</td><td>null</td><td>null</td><td>1</td><td>2</td><td>0</td><td>0</td><td>null</td><td>null</td><td>null</td><td>null</td><td>null</td></tr><tr><td>null</td><td>2024-03-16 00:00:00</td><td>null</td><td>null</td><td>null</td><td>&quot;Peralta, Freddy&quot;</td><td>665750</td><td>642547</td><td>null</td><td>null</td><td>&quot;L&quot;</td><td>&quot;R&quot;</td><td>&quot;S&quot;</td><td>null</td><td>null</td><td>0</td><td>0</td><td>null</td><td>null</td><td>null</td><td>null</td><td>null</td><td>null</td><td>null</td><td>0</td><td>1</td><td>&quot;Top&quot;</td><td>null</td><td>null</td><td>null</td><td>null</td><td>null</td><td>null</td><td>null</td><td>null</td><td>null</td><td>null</td><td>null</td><td>null</td><td>null</td><td>null</td><td>null</td><td>null</td><td>747933</td><td>null</td><td>null</td><td>null</td><td>null</td><td>null</td><td>null</td><td>null</td><td>null</td><td>1</td><td>1</td><td>0</td><td>0</td><td>null</td><td>null</td><td>null</td><td>null</td><td>null</td></tr></tbody></table></div>"
      ],
      "text/plain": [
       "shape: (33_648, 61)\n",
       "┌─────┬─────┬─────┬─────┬─────┬─────┬─────┬─────┬─────┬─────┬─────┬─────┬─────┬─────┬─────┬─────┬─────┬─────┬─────┬─────┬─────┬─────┬─────┬─────┬─────┬─────┬─────┬─────┬─────┬─────┬─────┬─────┬─────┬─────┬─────┬─────┬─────┬─────┬─────┬─────┬─────┬─────┬─────┬─────┬─────┬─────┬─────┬─────┬─────┬─────┬─────┬─────┬─────┬─────┬─────┬─────┬─────┬─────┬─────┬─────┬─────┐\n",
       "│ pit ┆ gam ┆ rel ┆ rel ┆ rel ┆ pla ┆ bat ┆ pit ┆ eve ┆ zon ┆ sta ┆ p_t ┆ typ ┆ hit ┆ bb_ ┆ bal ┆ str ┆ pfx ┆ pfx ┆ pla ┆ pla ┆ on_ ┆ on_ ┆ on_ ┆ out ┆ inn ┆ inn ┆ hc_ ┆ hc_ ┆ vx0 ┆ vy0 ┆ vz0 ┆ ax  ┆ ay  ┆ az  ┆ sz_ ┆ sz_ ┆ hit ┆ lau ┆ lau ┆ eff ┆ rel ┆ rel ┆ gam ┆ rel ┆ est ┆ est ┆ wob ┆ wob ┆ bab ┆ iso ┆ lau ┆ at_ ┆ pit ┆ bat ┆ fld ┆ if_ ┆ of_ ┆ spi ┆ bat ┆ swi │\n",
       "│ ch_ ┆ e_d ┆ eas ┆ eas ┆ eas ┆ yer ┆ ter ┆ che ┆ nts ┆ e   ┆ nd  ┆ hro ┆ e   ┆ _lo ┆ typ ┆ ls  ┆ ike ┆ _x  ┆ _z  ┆ te_ ┆ te_ ┆ 3b  ┆ 2b  ┆ 1b  ┆ s_w ┆ ing ┆ ing ┆ x   ┆ y   ┆ --- ┆ --- ┆ --- ┆ --- ┆ --- ┆ --- ┆ top ┆ bot ┆ _di ┆ nch ┆ nch ┆ ect ┆ eas ┆ eas ┆ e_p ┆ eas ┆ ima ┆ ima ┆ a_v ┆ a_d ┆ ip_ ┆ _va ┆ nch ┆ bat ┆ ch_ ┆ _sc ┆ _sc ┆ fie ┆ fie ┆ n_a ┆ _sp ┆ ng_ │\n",
       "│ typ ┆ ate ┆ e_s ┆ e_p ┆ e_p ┆ _na ┆ --- ┆ r   ┆ --- ┆ --- ┆ --- ┆ ws  ┆ --- ┆ cat ┆ e   ┆ --- ┆ s   ┆ --- ┆ --- ┆ x   ┆ z   ┆ --- ┆ --- ┆ --- ┆ hen ┆ --- ┆ _to ┆ --- ┆ --- ┆ f64 ┆ f64 ┆ f64 ┆ f64 ┆ f64 ┆ f64 ┆ --- ┆ --- ┆ sta ┆ _sp ┆ _an ┆ ive ┆ e_s ┆ e_e ┆ k   ┆ e_p ┆ ted ┆ ted ┆ alu ┆ eno ┆ val ┆ lue ┆ _sp ┆ _nu ┆ num ┆ ore ┆ ore ┆ ldi ┆ ldi ┆ xis ┆ eed ┆ len │\n",
       "│ e   ┆ --- ┆ pee ┆ os_ ┆ os_ ┆ me  ┆ i64 ┆ --- ┆ str ┆ f64 ┆ str ┆ --- ┆ str ┆ ion ┆ --- ┆ i64 ┆ --- ┆ f64 ┆ f64 ┆ --- ┆ --- ┆ f64 ┆ f64 ┆ f64 ┆ _up ┆ i64 ┆ pbo ┆ f64 ┆ f64 ┆     ┆     ┆     ┆     ┆     ┆     ┆ f64 ┆ f64 ┆ nce ┆ eed ┆ gle ┆ _sp ┆ pin ┆ xte ┆ --- ┆ os_ ┆ _ba ┆ _wo ┆ e   ┆ m   ┆ ue  ┆ --- ┆ eed ┆ mbe ┆ ber ┆ --- ┆ --- ┆ ng_ ┆ ng_ ┆ --- ┆ --- ┆ gth │\n",
       "│ --- ┆ dat ┆ d   ┆ x   ┆ z   ┆ --- ┆     ┆ i64 ┆     ┆     ┆     ┆ str ┆     ┆ --- ┆ str ┆     ┆ i64 ┆     ┆     ┆ f64 ┆ f64 ┆     ┆     ┆     ┆ --- ┆     ┆ t   ┆     ┆     ┆     ┆     ┆     ┆     ┆     ┆     ┆     ┆     ┆ _sc ┆ --- ┆ --- ┆ eed ┆ _ra ┆ nsi ┆ i64 ┆ y   ┆ _us ┆ ba_ ┆ --- ┆ --- ┆ --- ┆ f64 ┆ _an ┆ r   ┆ --- ┆ i64 ┆ i64 ┆ ali ┆ ali ┆ f64 ┆ f64 ┆ --- │\n",
       "│ str ┆ eti ┆ --- ┆ --- ┆ --- ┆ str ┆     ┆     ┆     ┆     ┆     ┆     ┆     ┆ f64 ┆     ┆     ┆     ┆     ┆     ┆     ┆     ┆     ┆     ┆     ┆ i64 ┆     ┆ --- ┆     ┆     ┆     ┆     ┆     ┆     ┆     ┆     ┆     ┆     ┆ --- ┆ f64 ┆ f64 ┆ --- ┆ te  ┆ on  ┆     ┆ --- ┆ ing ┆ usi ┆ f64 ┆ f64 ┆ f64 ┆     ┆ gle ┆ --- ┆ i64 ┆     ┆     ┆ gnm ┆ gnm ┆     ┆     ┆ f64 │\n",
       "│     ┆ me[ ┆ f64 ┆ f64 ┆ f64 ┆     ┆     ┆     ┆     ┆     ┆     ┆     ┆     ┆     ┆     ┆     ┆     ┆     ┆     ┆     ┆     ┆     ┆     ┆     ┆     ┆     ┆ str ┆     ┆     ┆     ┆     ┆     ┆     ┆     ┆     ┆     ┆     ┆ f64 ┆     ┆     ┆ f64 ┆ --- ┆ --- ┆     ┆ f64 ┆ _sp ┆ ng_ ┆     ┆     ┆     ┆     ┆ --- ┆ i64 ┆     ┆     ┆     ┆ ent ┆ ent ┆     ┆     ┆     │\n",
       "│     ┆ μs] ┆     ┆     ┆     ┆     ┆     ┆     ┆     ┆     ┆     ┆     ┆     ┆     ┆     ┆     ┆     ┆     ┆     ┆     ┆     ┆     ┆     ┆     ┆     ┆     ┆     ┆     ┆     ┆     ┆     ┆     ┆     ┆     ┆     ┆     ┆     ┆     ┆     ┆     ┆     ┆ f64 ┆ f64 ┆     ┆     ┆ eed ┆ spe ┆     ┆     ┆     ┆     ┆ f64 ┆     ┆     ┆     ┆     ┆ --- ┆ --- ┆     ┆     ┆     │\n",
       "│     ┆     ┆     ┆     ┆     ┆     ┆     ┆     ┆     ┆     ┆     ┆     ┆     ┆     ┆     ┆     ┆     ┆     ┆     ┆     ┆     ┆     ┆     ┆     ┆     ┆     ┆     ┆     ┆     ┆     ┆     ┆     ┆     ┆     ┆     ┆     ┆     ┆     ┆     ┆     ┆     ┆     ┆     ┆     ┆     ┆ ang ┆ eda ┆     ┆     ┆     ┆     ┆     ┆     ┆     ┆     ┆     ┆ str ┆ str ┆     ┆     ┆     │\n",
       "│     ┆     ┆     ┆     ┆     ┆     ┆     ┆     ┆     ┆     ┆     ┆     ┆     ┆     ┆     ┆     ┆     ┆     ┆     ┆     ┆     ┆     ┆     ┆     ┆     ┆     ┆     ┆     ┆     ┆     ┆     ┆     ┆     ┆     ┆     ┆     ┆     ┆     ┆     ┆     ┆     ┆     ┆     ┆     ┆     ┆ le  ┆ ngl ┆     ┆     ┆     ┆     ┆     ┆     ┆     ┆     ┆     ┆     ┆     ┆     ┆     ┆     │\n",
       "│     ┆     ┆     ┆     ┆     ┆     ┆     ┆     ┆     ┆     ┆     ┆     ┆     ┆     ┆     ┆     ┆     ┆     ┆     ┆     ┆     ┆     ┆     ┆     ┆     ┆     ┆     ┆     ┆     ┆     ┆     ┆     ┆     ┆     ┆     ┆     ┆     ┆     ┆     ┆     ┆     ┆     ┆     ┆     ┆     ┆ --- ┆ …   ┆     ┆     ┆     ┆     ┆     ┆     ┆     ┆     ┆     ┆     ┆     ┆     ┆     ┆     │\n",
       "│     ┆     ┆     ┆     ┆     ┆     ┆     ┆     ┆     ┆     ┆     ┆     ┆     ┆     ┆     ┆     ┆     ┆     ┆     ┆     ┆     ┆     ┆     ┆     ┆     ┆     ┆     ┆     ┆     ┆     ┆     ┆     ┆     ┆     ┆     ┆     ┆     ┆     ┆     ┆     ┆     ┆     ┆     ┆     ┆     ┆ f64 ┆ --- ┆     ┆     ┆     ┆     ┆     ┆     ┆     ┆     ┆     ┆     ┆     ┆     ┆     ┆     │\n",
       "│     ┆     ┆     ┆     ┆     ┆     ┆     ┆     ┆     ┆     ┆     ┆     ┆     ┆     ┆     ┆     ┆     ┆     ┆     ┆     ┆     ┆     ┆     ┆     ┆     ┆     ┆     ┆     ┆     ┆     ┆     ┆     ┆     ┆     ┆     ┆     ┆     ┆     ┆     ┆     ┆     ┆     ┆     ┆     ┆     ┆     ┆ f64 ┆     ┆     ┆     ┆     ┆     ┆     ┆     ┆     ┆     ┆     ┆     ┆     ┆     ┆     │\n",
       "╞═════╪═════╪═════╪═════╪═════╪═════╪═════╪═════╪═════╪═════╪═════╪═════╪═════╪═════╪═════╪═════╪═════╪═════╪═════╪═════╪═════╪═════╪═════╪═════╪═════╪═════╪═════╪═════╪═════╪═════╪═════╪═════╪═════╪═════╪═════╪═════╪═════╪═════╪═════╪═════╪═════╪═════╪═════╪═════╪═════╪═════╪═════╪═════╪═════╪═════╪═════╪═════╪═════╪═════╪═════╪═════╪═════╪═════╪═════╪═════╪═════╡\n",
       "│ ST  ┆ 202 ┆ 78. ┆ 4.1 ┆ 5.2 ┆ Man ┆ 571 ┆ 640 ┆ wal ┆ 14. ┆ L   ┆ L   ┆ B   ┆ nul ┆ nul ┆ 3   ┆ 1   ┆ -1. ┆ 0.0 ┆ 1.4 ┆ 1.6 ┆ nul ┆ nul ┆ nul ┆ 0   ┆ 3   ┆ Bot ┆ nul ┆ nul ┆ -3. ┆ -11 ┆ -1. ┆ -8. ┆ 20. ┆ -31 ┆ 2.9 ┆ 1.5 ┆ nul ┆ nul ┆ nul ┆ 79. ┆ 214 ┆ 6.8 ┆ 775 ┆ 53. ┆ nul ┆ 0.6 ┆ 0.7 ┆ 1.0 ┆ 0.0 ┆ 0.0 ┆ nul ┆ 31  ┆ 5   ┆ 4   ┆ 1   ┆ Inf ┆ Sta ┆ 294 ┆ nul ┆ nul │\n",
       "│     ┆ 4-1 ┆ 8   ┆     ┆ 7   ┆ aea ┆ 970 ┆ 455 ┆ k   ┆ 0   ┆     ┆     ┆     ┆ l   ┆ l   ┆     ┆     ┆ 04  ┆ 7   ┆ 4   ┆ 5   ┆ l   ┆ l   ┆ l   ┆     ┆     ┆     ┆ l   ┆ l   ┆ 876 ┆ 4.7 ┆ 213 ┆ 519 ┆ 865 ┆ .53 ┆ 9   ┆     ┆ l   ┆ l   ┆ l   ┆ 7   ┆ 1.0 ┆     ┆ 302 ┆ 72  ┆ l   ┆ 891 ┆     ┆     ┆     ┆     ┆ l   ┆     ┆     ┆     ┆     ┆ iel ┆ nda ┆ .0  ┆ l   ┆ l   │\n",
       "│     ┆ 0-2 ┆     ┆     ┆     ┆ ,   ┆     ┆     ┆     ┆     ┆     ┆     ┆     ┆     ┆     ┆     ┆     ┆     ┆     ┆     ┆     ┆     ┆     ┆     ┆     ┆     ┆     ┆     ┆     ┆ 776 ┆ 904 ┆ 129 ┆ 711 ┆ 706 ┆ 109 ┆     ┆     ┆     ┆     ┆     ┆     ┆     ┆     ┆     ┆     ┆     ┆ 31  ┆     ┆     ┆     ┆     ┆     ┆     ┆     ┆     ┆     ┆ d   ┆ rd  ┆     ┆     ┆     │\n",
       "│     ┆ 0   ┆     ┆     ┆     ┆ Sea ┆     ┆     ┆     ┆     ┆     ┆     ┆     ┆     ┆     ┆     ┆     ┆     ┆     ┆     ┆     ┆     ┆     ┆     ┆     ┆     ┆     ┆     ┆     ┆     ┆ 73  ┆     ┆     ┆     ┆ 3   ┆     ┆     ┆     ┆     ┆     ┆     ┆     ┆     ┆     ┆     ┆     ┆     ┆     ┆     ┆     ┆     ┆     ┆     ┆     ┆     ┆     ┆ sha ┆     ┆     ┆     ┆     │\n",
       "│     ┆ 00: ┆     ┆     ┆     ┆ n   ┆     ┆     ┆     ┆     ┆     ┆     ┆     ┆     ┆     ┆     ┆     ┆     ┆     ┆     ┆     ┆     ┆     ┆     ┆     ┆     ┆     ┆     ┆     ┆     ┆     ┆     ┆     ┆     ┆     ┆     ┆     ┆     ┆     ┆     ┆     ┆     ┆     ┆     ┆     ┆     ┆     ┆     ┆     ┆     ┆     ┆     ┆     ┆     ┆     ┆     ┆ de  ┆     ┆     ┆     ┆     │\n",
       "│     ┆ 00: ┆     ┆     ┆     ┆     ┆     ┆     ┆     ┆     ┆     ┆     ┆     ┆     ┆     ┆     ┆     ┆     ┆     ┆     ┆     ┆     ┆     ┆     ┆     ┆     ┆     ┆     ┆     ┆     ┆     ┆     ┆     ┆     ┆     ┆     ┆     ┆     ┆     ┆     ┆     ┆     ┆     ┆     ┆     ┆     ┆     ┆     ┆     ┆     ┆     ┆     ┆     ┆     ┆     ┆     ┆     ┆     ┆     ┆     ┆     │\n",
       "│     ┆ 00  ┆     ┆     ┆     ┆     ┆     ┆     ┆     ┆     ┆     ┆     ┆     ┆     ┆     ┆     ┆     ┆     ┆     ┆     ┆     ┆     ┆     ┆     ┆     ┆     ┆     ┆     ┆     ┆     ┆     ┆     ┆     ┆     ┆     ┆     ┆     ┆     ┆     ┆     ┆     ┆     ┆     ┆     ┆     ┆     ┆     ┆     ┆     ┆     ┆     ┆     ┆     ┆     ┆     ┆     ┆     ┆     ┆     ┆     ┆     │\n",
       "│ CH  ┆ 202 ┆ 83. ┆ 4.1 ┆ 5.1 ┆ Man ┆ 571 ┆ 640 ┆ nul ┆ 13. ┆ L   ┆ L   ┆ B   ┆ nul ┆ nul ┆ 2   ┆ 1   ┆ 1.2 ┆ -0. ┆ -1. ┆ 1.3 ┆ nul ┆ nul ┆ nul ┆ 0   ┆ 3   ┆ Bot ┆ nul ┆ nul ┆ -14 ┆ -12 ┆ -2. ┆ 15. ┆ 23. ┆ -32 ┆ 2.9 ┆ 1.4 ┆ nul ┆ nul ┆ nul ┆ 84. ┆ 183 ┆ 7.2 ┆ 775 ┆ 53. ┆ nul ┆ nul ┆ nul ┆ nul ┆ nul ┆ nul ┆ nul ┆ 31  ┆ 4   ┆ 4   ┆ 1   ┆ Inf ┆ Sta ┆ 106 ┆ nul ┆ nul │\n",
       "│     ┆ 4-1 ┆ 9   ┆ 6   ┆ 3   ┆ aea ┆ 970 ┆ 455 ┆ l   ┆ 0   ┆     ┆     ┆     ┆ l   ┆ l   ┆     ┆     ┆ 8   ┆ 01  ┆ 13  ┆ 2   ┆ l   ┆ l   ┆ l   ┆     ┆     ┆     ┆ l   ┆ l   ┆ .91 ┆ 1.3 ┆ 306 ┆ 532 ┆ 944 ┆ .03 ┆ 9   ┆     ┆ l   ┆ l   ┆ l   ┆ 7   ┆ 5.0 ┆     ┆ 302 ┆ 31  ┆ l   ┆ l   ┆ l   ┆ l   ┆ l   ┆ l   ┆ l   ┆     ┆     ┆     ┆     ┆ iel ┆ nda ┆ .0  ┆ l   ┆ l   │\n",
       "│     ┆ 0-2 ┆     ┆     ┆     ┆ ,   ┆     ┆     ┆     ┆     ┆     ┆     ┆     ┆     ┆     ┆     ┆     ┆     ┆     ┆     ┆     ┆     ┆     ┆     ┆     ┆     ┆     ┆     ┆     ┆ 072 ┆ 009 ┆ 161 ┆ 788 ┆ 392 ┆ 077 ┆     ┆     ┆     ┆     ┆     ┆     ┆     ┆     ┆     ┆     ┆     ┆     ┆     ┆     ┆     ┆     ┆     ┆     ┆     ┆     ┆     ┆ d   ┆ rd  ┆     ┆     ┆     │\n",
       "│     ┆ 0   ┆     ┆     ┆     ┆ Sea ┆     ┆     ┆     ┆     ┆     ┆     ┆     ┆     ┆     ┆     ┆     ┆     ┆     ┆     ┆     ┆     ┆     ┆     ┆     ┆     ┆     ┆     ┆     ┆ 6   ┆ 64  ┆     ┆     ┆     ┆ 7   ┆     ┆     ┆     ┆     ┆     ┆     ┆     ┆     ┆     ┆     ┆     ┆     ┆     ┆     ┆     ┆     ┆     ┆     ┆     ┆     ┆     ┆ sha ┆     ┆     ┆     ┆     │\n",
       "│     ┆ 00: ┆     ┆     ┆     ┆ n   ┆     ┆     ┆     ┆     ┆     ┆     ┆     ┆     ┆     ┆     ┆     ┆     ┆     ┆     ┆     ┆     ┆     ┆     ┆     ┆     ┆     ┆     ┆     ┆     ┆     ┆     ┆     ┆     ┆     ┆     ┆     ┆     ┆     ┆     ┆     ┆     ┆     ┆     ┆     ┆     ┆     ┆     ┆     ┆     ┆     ┆     ┆     ┆     ┆     ┆     ┆ de  ┆     ┆     ┆     ┆     │\n",
       "│     ┆ 00: ┆     ┆     ┆     ┆     ┆     ┆     ┆     ┆     ┆     ┆     ┆     ┆     ┆     ┆     ┆     ┆     ┆     ┆     ┆     ┆     ┆     ┆     ┆     ┆     ┆     ┆     ┆     ┆     ┆     ┆     ┆     ┆     ┆     ┆     ┆     ┆     ┆     ┆     ┆     ┆     ┆     ┆     ┆     ┆     ┆     ┆     ┆     ┆     ┆     ┆     ┆     ┆     ┆     ┆     ┆     ┆     ┆     ┆     ┆     │\n",
       "│     ┆ 00  ┆     ┆     ┆     ┆     ┆     ┆     ┆     ┆     ┆     ┆     ┆     ┆     ┆     ┆     ┆     ┆     ┆     ┆     ┆     ┆     ┆     ┆     ┆     ┆     ┆     ┆     ┆     ┆     ┆     ┆     ┆     ┆     ┆     ┆     ┆     ┆     ┆     ┆     ┆     ┆     ┆     ┆     ┆     ┆     ┆     ┆     ┆     ┆     ┆     ┆     ┆     ┆     ┆     ┆     ┆     ┆     ┆     ┆     ┆     │\n",
       "│ SI  ┆ 202 ┆ 91. ┆ 4.0 ┆ 4.9 ┆ Man ┆ 571 ┆ 640 ┆ nul ┆ 13. ┆ L   ┆ L   ┆ B   ┆ nul ┆ nul ┆ 1   ┆ 1   ┆ 1.1 ┆ 0.7 ┆ -0. ┆ 2.1 ┆ nul ┆ nul ┆ nul ┆ 0   ┆ 3   ┆ Bot ┆ nul ┆ nul ┆ -15 ┆ -13 ┆ -2. ┆ 16. ┆ 27. ┆ -22 ┆ 2.9 ┆ 1.5 ┆ nul ┆ nul ┆ nul ┆ 92. ┆ 213 ┆ 7.0 ┆ 775 ┆ 53. ┆ nul ┆ nul ┆ nul ┆ nul ┆ nul ┆ nul ┆ nul ┆ 31  ┆ 3   ┆ 4   ┆ 1   ┆ Inf ┆ Sta ┆ 113 ┆ nul ┆ nul │\n",
       "│     ┆ 4-1 ┆ 9   ┆ 3   ┆ 7   ┆ aea ┆ 970 ┆ 455 ┆ l   ┆ 0   ┆     ┆     ┆     ┆ l   ┆ l   ┆     ┆     ┆ 6   ┆ 6   ┆ 93  ┆ 7   ┆ l   ┆ l   ┆ l   ┆     ┆     ┆     ┆ l   ┆ l   ┆ .21 ┆ 2.9 ┆ 837 ┆ 955 ┆ 981 ┆ .73 ┆ 9   ┆ 3   ┆ l   ┆ l   ┆ l   ┆ 7   ┆ 1.0 ┆     ┆ 302 ┆ 48  ┆ l   ┆ l   ┆ l   ┆ l   ┆ l   ┆ l   ┆ l   ┆     ┆     ┆     ┆     ┆ iel ┆ nda ┆ .0  ┆ l   ┆ l   │\n",
       "│     ┆ 0-2 ┆     ┆     ┆     ┆ ,   ┆     ┆     ┆     ┆     ┆     ┆     ┆     ┆     ┆     ┆     ┆     ┆     ┆     ┆     ┆     ┆     ┆     ┆     ┆     ┆     ┆     ┆     ┆     ┆ 042 ┆ 448 ┆ 582 ┆ 867 ┆ 449 ┆ 494 ┆     ┆     ┆     ┆     ┆     ┆     ┆     ┆     ┆     ┆     ┆     ┆     ┆     ┆     ┆     ┆     ┆     ┆     ┆     ┆     ┆     ┆ d   ┆ rd  ┆     ┆     ┆     │\n",
       "│     ┆ 0   ┆     ┆     ┆     ┆ Sea ┆     ┆     ┆     ┆     ┆     ┆     ┆     ┆     ┆     ┆     ┆     ┆     ┆     ┆     ┆     ┆     ┆     ┆     ┆     ┆     ┆     ┆     ┆     ┆ 8   ┆ 42  ┆     ┆     ┆     ┆ 3   ┆     ┆     ┆     ┆     ┆     ┆     ┆     ┆     ┆     ┆     ┆     ┆     ┆     ┆     ┆     ┆     ┆     ┆     ┆     ┆     ┆     ┆ sha ┆     ┆     ┆     ┆     │\n",
       "│     ┆ 00: ┆     ┆     ┆     ┆ n   ┆     ┆     ┆     ┆     ┆     ┆     ┆     ┆     ┆     ┆     ┆     ┆     ┆     ┆     ┆     ┆     ┆     ┆     ┆     ┆     ┆     ┆     ┆     ┆     ┆     ┆     ┆     ┆     ┆     ┆     ┆     ┆     ┆     ┆     ┆     ┆     ┆     ┆     ┆     ┆     ┆     ┆     ┆     ┆     ┆     ┆     ┆     ┆     ┆     ┆     ┆ de  ┆     ┆     ┆     ┆     │\n",
       "│     ┆ 00: ┆     ┆     ┆     ┆     ┆     ┆     ┆     ┆     ┆     ┆     ┆     ┆     ┆     ┆     ┆     ┆     ┆     ┆     ┆     ┆     ┆     ┆     ┆     ┆     ┆     ┆     ┆     ┆     ┆     ┆     ┆     ┆     ┆     ┆     ┆     ┆     ┆     ┆     ┆     ┆     ┆     ┆     ┆     ┆     ┆     ┆     ┆     ┆     ┆     ┆     ┆     ┆     ┆     ┆     ┆     ┆     ┆     ┆     ┆     │\n",
       "│     ┆ 00  ┆     ┆     ┆     ┆     ┆     ┆     ┆     ┆     ┆     ┆     ┆     ┆     ┆     ┆     ┆     ┆     ┆     ┆     ┆     ┆     ┆     ┆     ┆     ┆     ┆     ┆     ┆     ┆     ┆     ┆     ┆     ┆     ┆     ┆     ┆     ┆     ┆     ┆     ┆     ┆     ┆     ┆     ┆     ┆     ┆     ┆     ┆     ┆     ┆     ┆     ┆     ┆     ┆     ┆     ┆     ┆     ┆     ┆     ┆     │\n",
       "│ ST  ┆ 202 ┆ 80. ┆ 3.8 ┆ 5.3 ┆ Man ┆ 571 ┆ 640 ┆ nul ┆ 13. ┆ L   ┆ L   ┆ B   ┆ nul ┆ nul ┆ 0   ┆ 1   ┆ -1. ┆ 0.1 ┆ -0. ┆ 1.2 ┆ nul ┆ nul ┆ nul ┆ 0   ┆ 3   ┆ Bot ┆ nul ┆ nul ┆ -7. ┆ -11 ┆ -2. ┆ -10 ┆ 23. ┆ -30 ┆ 2.9 ┆ 1.3 ┆ nul ┆ nul ┆ nul ┆ 81. ┆ 211 ┆ 7.4 ┆ 775 ┆ 53. ┆ nul ┆ nul ┆ nul ┆ nul ┆ nul ┆ nul ┆ nul ┆ 31  ┆ 2   ┆ 4   ┆ 1   ┆ Inf ┆ Sta ┆ 284 ┆ nul ┆ nul │\n",
       "│     ┆ 4-1 ┆ 2   ┆ 4   ┆ 1   ┆ aea ┆ 970 ┆ 455 ┆ l   ┆ 0   ┆     ┆     ┆     ┆ l   ┆ l   ┆     ┆     ┆ 34  ┆ 5   ┆ 86  ┆ 8   ┆ l   ┆ l   ┆ l   ┆     ┆     ┆     ┆ l   ┆ l   ┆ 987 ┆ 6.4 ┆ 438 ┆ .45 ┆ 959 ┆ .53 ┆ 9   ┆ 5   ┆ l   ┆ l   ┆ l   ┆ 3   ┆ 7.0 ┆     ┆ 302 ┆ 14  ┆ l   ┆ l   ┆ l   ┆ l   ┆ l   ┆ l   ┆ l   ┆     ┆     ┆     ┆     ┆ iel ┆ nda ┆ .0  ┆ l   ┆ l   │\n",
       "│     ┆ 0-2 ┆     ┆     ┆     ┆ ,   ┆     ┆     ┆     ┆     ┆     ┆     ┆     ┆     ┆     ┆     ┆     ┆     ┆     ┆     ┆     ┆     ┆     ┆     ┆     ┆     ┆     ┆     ┆     ┆ 162 ┆ 805 ┆ 514 ┆ 296 ┆ 752 ┆ 268 ┆     ┆     ┆     ┆     ┆     ┆     ┆     ┆     ┆     ┆     ┆     ┆     ┆     ┆     ┆     ┆     ┆     ┆     ┆     ┆     ┆     ┆ d   ┆ rd  ┆     ┆     ┆     │\n",
       "│     ┆ 0   ┆     ┆     ┆     ┆ Sea ┆     ┆     ┆     ┆     ┆     ┆     ┆     ┆     ┆     ┆     ┆     ┆     ┆     ┆     ┆     ┆     ┆     ┆     ┆     ┆     ┆     ┆     ┆     ┆     ┆ 56  ┆     ┆ 5   ┆     ┆ 2   ┆     ┆     ┆     ┆     ┆     ┆     ┆     ┆     ┆     ┆     ┆     ┆     ┆     ┆     ┆     ┆     ┆     ┆     ┆     ┆     ┆     ┆ sha ┆     ┆     ┆     ┆     │\n",
       "│     ┆ 00: ┆     ┆     ┆     ┆ n   ┆     ┆     ┆     ┆     ┆     ┆     ┆     ┆     ┆     ┆     ┆     ┆     ┆     ┆     ┆     ┆     ┆     ┆     ┆     ┆     ┆     ┆     ┆     ┆     ┆     ┆     ┆     ┆     ┆     ┆     ┆     ┆     ┆     ┆     ┆     ┆     ┆     ┆     ┆     ┆     ┆     ┆     ┆     ┆     ┆     ┆     ┆     ┆     ┆     ┆     ┆ de  ┆     ┆     ┆     ┆     │\n",
       "│     ┆ 00: ┆     ┆     ┆     ┆     ┆     ┆     ┆     ┆     ┆     ┆     ┆     ┆     ┆     ┆     ┆     ┆     ┆     ┆     ┆     ┆     ┆     ┆     ┆     ┆     ┆     ┆     ┆     ┆     ┆     ┆     ┆     ┆     ┆     ┆     ┆     ┆     ┆     ┆     ┆     ┆     ┆     ┆     ┆     ┆     ┆     ┆     ┆     ┆     ┆     ┆     ┆     ┆     ┆     ┆     ┆     ┆     ┆     ┆     ┆     │\n",
       "│     ┆ 00  ┆     ┆     ┆     ┆     ┆     ┆     ┆     ┆     ┆     ┆     ┆     ┆     ┆     ┆     ┆     ┆     ┆     ┆     ┆     ┆     ┆     ┆     ┆     ┆     ┆     ┆     ┆     ┆     ┆     ┆     ┆     ┆     ┆     ┆     ┆     ┆     ┆     ┆     ┆     ┆     ┆     ┆     ┆     ┆     ┆     ┆     ┆     ┆     ┆     ┆     ┆     ┆     ┆     ┆     ┆     ┆     ┆     ┆     ┆     │\n",
       "│ ST  ┆ 202 ┆ 78. ┆ 3.8 ┆ 5.2 ┆ Man ┆ 571 ┆ 640 ┆ nul ┆ 8.0 ┆ L   ┆ L   ┆ S   ┆ nul ┆ nul ┆ 0   ┆ 0   ┆ -1. ┆ 0.1 ┆ -0. ┆ 1.5 ┆ nul ┆ nul ┆ nul ┆ 0   ┆ 3   ┆ Bot ┆ nul ┆ nul ┆ -6. ┆ -11 ┆ -1. ┆ -12 ┆ 21. ┆ -30 ┆ 2.9 ┆ 1.4 ┆ nul ┆ nul ┆ nul ┆ 79. ┆ 215 ┆ 7.0 ┆ 775 ┆ 53. ┆ nul ┆ nul ┆ nul ┆ nul ┆ nul ┆ nul ┆ nul ┆ 31  ┆ 1   ┆ 4   ┆ 1   ┆ Inf ┆ Sta ┆ 283 ┆ nul ┆ nul │\n",
       "│     ┆ 4-1 ┆ 9   ┆ 9   ┆ 6   ┆ aea ┆ 970 ┆ 455 ┆ l   ┆     ┆     ┆     ┆     ┆ l   ┆ l   ┆     ┆     ┆ 57  ┆ 9   ┆ 23  ┆ 3   ┆ l   ┆ l   ┆ l   ┆     ┆     ┆     ┆ l   ┆ l   ┆ 125 ┆ 4.7 ┆ 669 ┆ .67 ┆ 628 ┆ .38 ┆ 9   ┆ 8   ┆ l   ┆ l   ┆ l   ┆ 9   ┆ 2.0 ┆     ┆ 302 ┆ 45  ┆ l   ┆ l   ┆ l   ┆ l   ┆ l   ┆ l   ┆ l   ┆     ┆     ┆     ┆     ┆ iel ┆ nda ┆ .0  ┆ l   ┆ l   │\n",
       "│     ┆ 0-2 ┆     ┆     ┆     ┆ ,   ┆     ┆     ┆     ┆     ┆     ┆     ┆     ┆     ┆     ┆     ┆     ┆     ┆     ┆     ┆     ┆     ┆     ┆     ┆     ┆     ┆     ┆     ┆     ┆ 394 ┆ 822 ┆ 025 ┆ 142 ┆ 193 ┆ 052 ┆     ┆     ┆     ┆     ┆     ┆     ┆     ┆     ┆     ┆     ┆     ┆     ┆     ┆     ┆     ┆     ┆     ┆     ┆     ┆     ┆     ┆ d   ┆ rd  ┆     ┆     ┆     │\n",
       "│     ┆ 0   ┆     ┆     ┆     ┆ Sea ┆     ┆     ┆     ┆     ┆     ┆     ┆     ┆     ┆     ┆     ┆     ┆     ┆     ┆     ┆     ┆     ┆     ┆     ┆     ┆     ┆     ┆     ┆     ┆     ┆ 71  ┆     ┆ 6   ┆     ┆ 1   ┆     ┆     ┆     ┆     ┆     ┆     ┆     ┆     ┆     ┆     ┆     ┆     ┆     ┆     ┆     ┆     ┆     ┆     ┆     ┆     ┆     ┆ sha ┆     ┆     ┆     ┆     │\n",
       "│     ┆ 00: ┆     ┆     ┆     ┆ n   ┆     ┆     ┆     ┆     ┆     ┆     ┆     ┆     ┆     ┆     ┆     ┆     ┆     ┆     ┆     ┆     ┆     ┆     ┆     ┆     ┆     ┆     ┆     ┆     ┆     ┆     ┆     ┆     ┆     ┆     ┆     ┆     ┆     ┆     ┆     ┆     ┆     ┆     ┆     ┆     ┆     ┆     ┆     ┆     ┆     ┆     ┆     ┆     ┆     ┆     ┆ de  ┆     ┆     ┆     ┆     │\n",
       "│     ┆ 00: ┆     ┆     ┆     ┆     ┆     ┆     ┆     ┆     ┆     ┆     ┆     ┆     ┆     ┆     ┆     ┆     ┆     ┆     ┆     ┆     ┆     ┆     ┆     ┆     ┆     ┆     ┆     ┆     ┆     ┆     ┆     ┆     ┆     ┆     ┆     ┆     ┆     ┆     ┆     ┆     ┆     ┆     ┆     ┆     ┆     ┆     ┆     ┆     ┆     ┆     ┆     ┆     ┆     ┆     ┆     ┆     ┆     ┆     ┆     │\n",
       "│     ┆ 00  ┆     ┆     ┆     ┆     ┆     ┆     ┆     ┆     ┆     ┆     ┆     ┆     ┆     ┆     ┆     ┆     ┆     ┆     ┆     ┆     ┆     ┆     ┆     ┆     ┆     ┆     ┆     ┆     ┆     ┆     ┆     ┆     ┆     ┆     ┆     ┆     ┆     ┆     ┆     ┆     ┆     ┆     ┆     ┆     ┆     ┆     ┆     ┆     ┆     ┆     ┆     ┆     ┆     ┆     ┆     ┆     ┆     ┆     ┆     │\n",
       "│ …   ┆ …   ┆ …   ┆ …   ┆ …   ┆ …   ┆ …   ┆ …   ┆ …   ┆ …   ┆ …   ┆ …   ┆ …   ┆ …   ┆ …   ┆ …   ┆ …   ┆ …   ┆ …   ┆ …   ┆ …   ┆ …   ┆ …   ┆ …   ┆ …   ┆ …   ┆ …   ┆ …   ┆ …   ┆ …   ┆ …   ┆ …   ┆ …   ┆ …   ┆ …   ┆ …   ┆ …   ┆ …   ┆ …   ┆ …   ┆ …   ┆ …   ┆ …   ┆ …   ┆ …   ┆ …   ┆ …   ┆ …   ┆ …   ┆ …   ┆ …   ┆ …   ┆ …   ┆ …   ┆ …   ┆ …   ┆ …   ┆ …   ┆ …   ┆ …   ┆ …   │\n",
       "│ nul ┆ 202 ┆ nul ┆ nul ┆ nul ┆ Per ┆ 665 ┆ 642 ┆ fie ┆ nul ┆ L   ┆ R   ┆ X   ┆ 6.0 ┆ gro ┆ 1   ┆ 2   ┆ nul ┆ nul ┆ nul ┆ nul ┆ nul ┆ nul ┆ nul ┆ 0   ┆ 1   ┆ Top ┆ 117 ┆ 155 ┆ nul ┆ nul ┆ nul ┆ nul ┆ nul ┆ nul ┆ nul ┆ nul ┆ nul ┆ nul ┆ nul ┆ nul ┆ nul ┆ nul ┆ 747 ┆ nul ┆ nul ┆ nul ┆ 0.0 ┆ nul ┆ 0.0 ┆ 0.0 ┆ nul ┆ 1   ┆ 5   ┆ 0   ┆ 0   ┆ nul ┆ nul ┆ nul ┆ nul ┆ nul │\n",
       "│ l   ┆ 4-0 ┆ l   ┆ l   ┆ l   ┆ alt ┆ 750 ┆ 547 ┆ ld_ ┆ l   ┆     ┆     ┆     ┆     ┆ und ┆     ┆     ┆ l   ┆ l   ┆ l   ┆ l   ┆ l   ┆ l   ┆ l   ┆     ┆     ┆     ┆ .74 ┆ .77 ┆ l   ┆ l   ┆ l   ┆ l   ┆ l   ┆ l   ┆ l   ┆ l   ┆ l   ┆ l   ┆ l   ┆ l   ┆ l   ┆ l   ┆ 933 ┆ l   ┆ l   ┆ l   ┆     ┆ l   ┆     ┆     ┆ l   ┆     ┆     ┆     ┆     ┆ l   ┆ l   ┆ l   ┆ l   ┆ l   │\n",
       "│     ┆ 3-1 ┆     ┆     ┆     ┆ a,  ┆     ┆     ┆ out ┆     ┆     ┆     ┆     ┆     ┆ _ba ┆     ┆     ┆     ┆     ┆     ┆     ┆     ┆     ┆     ┆     ┆     ┆     ┆     ┆     ┆     ┆     ┆     ┆     ┆     ┆     ┆     ┆     ┆     ┆     ┆     ┆     ┆     ┆     ┆     ┆     ┆     ┆     ┆     ┆     ┆     ┆     ┆     ┆     ┆     ┆     ┆     ┆     ┆     ┆     ┆     ┆     │\n",
       "│     ┆ 6   ┆     ┆     ┆     ┆ Fre ┆     ┆     ┆     ┆     ┆     ┆     ┆     ┆     ┆ ll  ┆     ┆     ┆     ┆     ┆     ┆     ┆     ┆     ┆     ┆     ┆     ┆     ┆     ┆     ┆     ┆     ┆     ┆     ┆     ┆     ┆     ┆     ┆     ┆     ┆     ┆     ┆     ┆     ┆     ┆     ┆     ┆     ┆     ┆     ┆     ┆     ┆     ┆     ┆     ┆     ┆     ┆     ┆     ┆     ┆     ┆     │\n",
       "│     ┆ 00: ┆     ┆     ┆     ┆ ddy ┆     ┆     ┆     ┆     ┆     ┆     ┆     ┆     ┆     ┆     ┆     ┆     ┆     ┆     ┆     ┆     ┆     ┆     ┆     ┆     ┆     ┆     ┆     ┆     ┆     ┆     ┆     ┆     ┆     ┆     ┆     ┆     ┆     ┆     ┆     ┆     ┆     ┆     ┆     ┆     ┆     ┆     ┆     ┆     ┆     ┆     ┆     ┆     ┆     ┆     ┆     ┆     ┆     ┆     ┆     │\n",
       "│     ┆ 00: ┆     ┆     ┆     ┆     ┆     ┆     ┆     ┆     ┆     ┆     ┆     ┆     ┆     ┆     ┆     ┆     ┆     ┆     ┆     ┆     ┆     ┆     ┆     ┆     ┆     ┆     ┆     ┆     ┆     ┆     ┆     ┆     ┆     ┆     ┆     ┆     ┆     ┆     ┆     ┆     ┆     ┆     ┆     ┆     ┆     ┆     ┆     ┆     ┆     ┆     ┆     ┆     ┆     ┆     ┆     ┆     ┆     ┆     ┆     │\n",
       "│     ┆ 00  ┆     ┆     ┆     ┆     ┆     ┆     ┆     ┆     ┆     ┆     ┆     ┆     ┆     ┆     ┆     ┆     ┆     ┆     ┆     ┆     ┆     ┆     ┆     ┆     ┆     ┆     ┆     ┆     ┆     ┆     ┆     ┆     ┆     ┆     ┆     ┆     ┆     ┆     ┆     ┆     ┆     ┆     ┆     ┆     ┆     ┆     ┆     ┆     ┆     ┆     ┆     ┆     ┆     ┆     ┆     ┆     ┆     ┆     ┆     │\n",
       "│ nul ┆ 202 ┆ nul ┆ nul ┆ nul ┆ Per ┆ 665 ┆ 642 ┆ nul ┆ nul ┆ L   ┆ R   ┆ S   ┆ nul ┆ nul ┆ 1   ┆ 2   ┆ nul ┆ nul ┆ nul ┆ nul ┆ nul ┆ nul ┆ nul ┆ 0   ┆ 1   ┆ Top ┆ nul ┆ nul ┆ nul ┆ nul ┆ nul ┆ nul ┆ nul ┆ nul ┆ nul ┆ nul ┆ nul ┆ nul ┆ nul ┆ nul ┆ nul ┆ nul ┆ 747 ┆ nul ┆ nul ┆ nul ┆ nul ┆ nul ┆ nul ┆ nul ┆ nul ┆ 1   ┆ 4   ┆ 0   ┆ 0   ┆ nul ┆ nul ┆ nul ┆ nul ┆ nul │\n",
       "│ l   ┆ 4-0 ┆ l   ┆ l   ┆ l   ┆ alt ┆ 750 ┆ 547 ┆ l   ┆ l   ┆     ┆     ┆     ┆ l   ┆ l   ┆     ┆     ┆ l   ┆ l   ┆ l   ┆ l   ┆ l   ┆ l   ┆ l   ┆     ┆     ┆     ┆ l   ┆ l   ┆ l   ┆ l   ┆ l   ┆ l   ┆ l   ┆ l   ┆ l   ┆ l   ┆ l   ┆ l   ┆ l   ┆ l   ┆ l   ┆ l   ┆ 933 ┆ l   ┆ l   ┆ l   ┆ l   ┆ l   ┆ l   ┆ l   ┆ l   ┆     ┆     ┆     ┆     ┆ l   ┆ l   ┆ l   ┆ l   ┆ l   │\n",
       "│     ┆ 3-1 ┆     ┆     ┆     ┆ a,  ┆     ┆     ┆     ┆     ┆     ┆     ┆     ┆     ┆     ┆     ┆     ┆     ┆     ┆     ┆     ┆     ┆     ┆     ┆     ┆     ┆     ┆     ┆     ┆     ┆     ┆     ┆     ┆     ┆     ┆     ┆     ┆     ┆     ┆     ┆     ┆     ┆     ┆     ┆     ┆     ┆     ┆     ┆     ┆     ┆     ┆     ┆     ┆     ┆     ┆     ┆     ┆     ┆     ┆     ┆     │\n",
       "│     ┆ 6   ┆     ┆     ┆     ┆ Fre ┆     ┆     ┆     ┆     ┆     ┆     ┆     ┆     ┆     ┆     ┆     ┆     ┆     ┆     ┆     ┆     ┆     ┆     ┆     ┆     ┆     ┆     ┆     ┆     ┆     ┆     ┆     ┆     ┆     ┆     ┆     ┆     ┆     ┆     ┆     ┆     ┆     ┆     ┆     ┆     ┆     ┆     ┆     ┆     ┆     ┆     ┆     ┆     ┆     ┆     ┆     ┆     ┆     ┆     ┆     │\n",
       "│     ┆ 00: ┆     ┆     ┆     ┆ ddy ┆     ┆     ┆     ┆     ┆     ┆     ┆     ┆     ┆     ┆     ┆     ┆     ┆     ┆     ┆     ┆     ┆     ┆     ┆     ┆     ┆     ┆     ┆     ┆     ┆     ┆     ┆     ┆     ┆     ┆     ┆     ┆     ┆     ┆     ┆     ┆     ┆     ┆     ┆     ┆     ┆     ┆     ┆     ┆     ┆     ┆     ┆     ┆     ┆     ┆     ┆     ┆     ┆     ┆     ┆     │\n",
       "│     ┆ 00: ┆     ┆     ┆     ┆     ┆     ┆     ┆     ┆     ┆     ┆     ┆     ┆     ┆     ┆     ┆     ┆     ┆     ┆     ┆     ┆     ┆     ┆     ┆     ┆     ┆     ┆     ┆     ┆     ┆     ┆     ┆     ┆     ┆     ┆     ┆     ┆     ┆     ┆     ┆     ┆     ┆     ┆     ┆     ┆     ┆     ┆     ┆     ┆     ┆     ┆     ┆     ┆     ┆     ┆     ┆     ┆     ┆     ┆     ┆     │\n",
       "│     ┆ 00  ┆     ┆     ┆     ┆     ┆     ┆     ┆     ┆     ┆     ┆     ┆     ┆     ┆     ┆     ┆     ┆     ┆     ┆     ┆     ┆     ┆     ┆     ┆     ┆     ┆     ┆     ┆     ┆     ┆     ┆     ┆     ┆     ┆     ┆     ┆     ┆     ┆     ┆     ┆     ┆     ┆     ┆     ┆     ┆     ┆     ┆     ┆     ┆     ┆     ┆     ┆     ┆     ┆     ┆     ┆     ┆     ┆     ┆     ┆     │\n",
       "│ nul ┆ 202 ┆ nul ┆ nul ┆ nul ┆ Per ┆ 665 ┆ 642 ┆ nul ┆ nul ┆ L   ┆ R   ┆ B   ┆ nul ┆ nul ┆ 0   ┆ 2   ┆ nul ┆ nul ┆ nul ┆ nul ┆ nul ┆ nul ┆ nul ┆ 0   ┆ 1   ┆ Top ┆ nul ┆ nul ┆ nul ┆ nul ┆ nul ┆ nul ┆ nul ┆ nul ┆ nul ┆ nul ┆ nul ┆ nul ┆ nul ┆ nul ┆ nul ┆ nul ┆ 747 ┆ nul ┆ nul ┆ nul ┆ nul ┆ nul ┆ nul ┆ nul ┆ nul ┆ 1   ┆ 3   ┆ 0   ┆ 0   ┆ nul ┆ nul ┆ nul ┆ nul ┆ nul │\n",
       "│ l   ┆ 4-0 ┆ l   ┆ l   ┆ l   ┆ alt ┆ 750 ┆ 547 ┆ l   ┆ l   ┆     ┆     ┆     ┆ l   ┆ l   ┆     ┆     ┆ l   ┆ l   ┆ l   ┆ l   ┆ l   ┆ l   ┆ l   ┆     ┆     ┆     ┆ l   ┆ l   ┆ l   ┆ l   ┆ l   ┆ l   ┆ l   ┆ l   ┆ l   ┆ l   ┆ l   ┆ l   ┆ l   ┆ l   ┆ l   ┆ l   ┆ 933 ┆ l   ┆ l   ┆ l   ┆ l   ┆ l   ┆ l   ┆ l   ┆ l   ┆     ┆     ┆     ┆     ┆ l   ┆ l   ┆ l   ┆ l   ┆ l   │\n",
       "│     ┆ 3-1 ┆     ┆     ┆     ┆ a,  ┆     ┆     ┆     ┆     ┆     ┆     ┆     ┆     ┆     ┆     ┆     ┆     ┆     ┆     ┆     ┆     ┆     ┆     ┆     ┆     ┆     ┆     ┆     ┆     ┆     ┆     ┆     ┆     ┆     ┆     ┆     ┆     ┆     ┆     ┆     ┆     ┆     ┆     ┆     ┆     ┆     ┆     ┆     ┆     ┆     ┆     ┆     ┆     ┆     ┆     ┆     ┆     ┆     ┆     ┆     │\n",
       "│     ┆ 6   ┆     ┆     ┆     ┆ Fre ┆     ┆     ┆     ┆     ┆     ┆     ┆     ┆     ┆     ┆     ┆     ┆     ┆     ┆     ┆     ┆     ┆     ┆     ┆     ┆     ┆     ┆     ┆     ┆     ┆     ┆     ┆     ┆     ┆     ┆     ┆     ┆     ┆     ┆     ┆     ┆     ┆     ┆     ┆     ┆     ┆     ┆     ┆     ┆     ┆     ┆     ┆     ┆     ┆     ┆     ┆     ┆     ┆     ┆     ┆     │\n",
       "│     ┆ 00: ┆     ┆     ┆     ┆ ddy ┆     ┆     ┆     ┆     ┆     ┆     ┆     ┆     ┆     ┆     ┆     ┆     ┆     ┆     ┆     ┆     ┆     ┆     ┆     ┆     ┆     ┆     ┆     ┆     ┆     ┆     ┆     ┆     ┆     ┆     ┆     ┆     ┆     ┆     ┆     ┆     ┆     ┆     ┆     ┆     ┆     ┆     ┆     ┆     ┆     ┆     ┆     ┆     ┆     ┆     ┆     ┆     ┆     ┆     ┆     │\n",
       "│     ┆ 00: ┆     ┆     ┆     ┆     ┆     ┆     ┆     ┆     ┆     ┆     ┆     ┆     ┆     ┆     ┆     ┆     ┆     ┆     ┆     ┆     ┆     ┆     ┆     ┆     ┆     ┆     ┆     ┆     ┆     ┆     ┆     ┆     ┆     ┆     ┆     ┆     ┆     ┆     ┆     ┆     ┆     ┆     ┆     ┆     ┆     ┆     ┆     ┆     ┆     ┆     ┆     ┆     ┆     ┆     ┆     ┆     ┆     ┆     ┆     │\n",
       "│     ┆ 00  ┆     ┆     ┆     ┆     ┆     ┆     ┆     ┆     ┆     ┆     ┆     ┆     ┆     ┆     ┆     ┆     ┆     ┆     ┆     ┆     ┆     ┆     ┆     ┆     ┆     ┆     ┆     ┆     ┆     ┆     ┆     ┆     ┆     ┆     ┆     ┆     ┆     ┆     ┆     ┆     ┆     ┆     ┆     ┆     ┆     ┆     ┆     ┆     ┆     ┆     ┆     ┆     ┆     ┆     ┆     ┆     ┆     ┆     ┆     │\n",
       "│ nul ┆ 202 ┆ nul ┆ nul ┆ nul ┆ Per ┆ 665 ┆ 642 ┆ nul ┆ nul ┆ L   ┆ R   ┆ S   ┆ nul ┆ nul ┆ 0   ┆ 1   ┆ nul ┆ nul ┆ nul ┆ nul ┆ nul ┆ nul ┆ nul ┆ 0   ┆ 1   ┆ Top ┆ nul ┆ nul ┆ nul ┆ nul ┆ nul ┆ nul ┆ nul ┆ nul ┆ nul ┆ nul ┆ nul ┆ nul ┆ nul ┆ nul ┆ nul ┆ nul ┆ 747 ┆ nul ┆ nul ┆ nul ┆ nul ┆ nul ┆ nul ┆ nul ┆ nul ┆ 1   ┆ 2   ┆ 0   ┆ 0   ┆ nul ┆ nul ┆ nul ┆ nul ┆ nul │\n",
       "│ l   ┆ 4-0 ┆ l   ┆ l   ┆ l   ┆ alt ┆ 750 ┆ 547 ┆ l   ┆ l   ┆     ┆     ┆     ┆ l   ┆ l   ┆     ┆     ┆ l   ┆ l   ┆ l   ┆ l   ┆ l   ┆ l   ┆ l   ┆     ┆     ┆     ┆ l   ┆ l   ┆ l   ┆ l   ┆ l   ┆ l   ┆ l   ┆ l   ┆ l   ┆ l   ┆ l   ┆ l   ┆ l   ┆ l   ┆ l   ┆ l   ┆ 933 ┆ l   ┆ l   ┆ l   ┆ l   ┆ l   ┆ l   ┆ l   ┆ l   ┆     ┆     ┆     ┆     ┆ l   ┆ l   ┆ l   ┆ l   ┆ l   │\n",
       "│     ┆ 3-1 ┆     ┆     ┆     ┆ a,  ┆     ┆     ┆     ┆     ┆     ┆     ┆     ┆     ┆     ┆     ┆     ┆     ┆     ┆     ┆     ┆     ┆     ┆     ┆     ┆     ┆     ┆     ┆     ┆     ┆     ┆     ┆     ┆     ┆     ┆     ┆     ┆     ┆     ┆     ┆     ┆     ┆     ┆     ┆     ┆     ┆     ┆     ┆     ┆     ┆     ┆     ┆     ┆     ┆     ┆     ┆     ┆     ┆     ┆     ┆     │\n",
       "│     ┆ 6   ┆     ┆     ┆     ┆ Fre ┆     ┆     ┆     ┆     ┆     ┆     ┆     ┆     ┆     ┆     ┆     ┆     ┆     ┆     ┆     ┆     ┆     ┆     ┆     ┆     ┆     ┆     ┆     ┆     ┆     ┆     ┆     ┆     ┆     ┆     ┆     ┆     ┆     ┆     ┆     ┆     ┆     ┆     ┆     ┆     ┆     ┆     ┆     ┆     ┆     ┆     ┆     ┆     ┆     ┆     ┆     ┆     ┆     ┆     ┆     │\n",
       "│     ┆ 00: ┆     ┆     ┆     ┆ ddy ┆     ┆     ┆     ┆     ┆     ┆     ┆     ┆     ┆     ┆     ┆     ┆     ┆     ┆     ┆     ┆     ┆     ┆     ┆     ┆     ┆     ┆     ┆     ┆     ┆     ┆     ┆     ┆     ┆     ┆     ┆     ┆     ┆     ┆     ┆     ┆     ┆     ┆     ┆     ┆     ┆     ┆     ┆     ┆     ┆     ┆     ┆     ┆     ┆     ┆     ┆     ┆     ┆     ┆     ┆     │\n",
       "│     ┆ 00: ┆     ┆     ┆     ┆     ┆     ┆     ┆     ┆     ┆     ┆     ┆     ┆     ┆     ┆     ┆     ┆     ┆     ┆     ┆     ┆     ┆     ┆     ┆     ┆     ┆     ┆     ┆     ┆     ┆     ┆     ┆     ┆     ┆     ┆     ┆     ┆     ┆     ┆     ┆     ┆     ┆     ┆     ┆     ┆     ┆     ┆     ┆     ┆     ┆     ┆     ┆     ┆     ┆     ┆     ┆     ┆     ┆     ┆     ┆     │\n",
       "│     ┆ 00  ┆     ┆     ┆     ┆     ┆     ┆     ┆     ┆     ┆     ┆     ┆     ┆     ┆     ┆     ┆     ┆     ┆     ┆     ┆     ┆     ┆     ┆     ┆     ┆     ┆     ┆     ┆     ┆     ┆     ┆     ┆     ┆     ┆     ┆     ┆     ┆     ┆     ┆     ┆     ┆     ┆     ┆     ┆     ┆     ┆     ┆     ┆     ┆     ┆     ┆     ┆     ┆     ┆     ┆     ┆     ┆     ┆     ┆     ┆     │\n",
       "│ nul ┆ 202 ┆ nul ┆ nul ┆ nul ┆ Per ┆ 665 ┆ 642 ┆ nul ┆ nul ┆ L   ┆ R   ┆ S   ┆ nul ┆ nul ┆ 0   ┆ 0   ┆ nul ┆ nul ┆ nul ┆ nul ┆ nul ┆ nul ┆ nul ┆ 0   ┆ 1   ┆ Top ┆ nul ┆ nul ┆ nul ┆ nul ┆ nul ┆ nul ┆ nul ┆ nul ┆ nul ┆ nul ┆ nul ┆ nul ┆ nul ┆ nul ┆ nul ┆ nul ┆ 747 ┆ nul ┆ nul ┆ nul ┆ nul ┆ nul ┆ nul ┆ nul ┆ nul ┆ 1   ┆ 1   ┆ 0   ┆ 0   ┆ nul ┆ nul ┆ nul ┆ nul ┆ nul │\n",
       "│ l   ┆ 4-0 ┆ l   ┆ l   ┆ l   ┆ alt ┆ 750 ┆ 547 ┆ l   ┆ l   ┆     ┆     ┆     ┆ l   ┆ l   ┆     ┆     ┆ l   ┆ l   ┆ l   ┆ l   ┆ l   ┆ l   ┆ l   ┆     ┆     ┆     ┆ l   ┆ l   ┆ l   ┆ l   ┆ l   ┆ l   ┆ l   ┆ l   ┆ l   ┆ l   ┆ l   ┆ l   ┆ l   ┆ l   ┆ l   ┆ l   ┆ 933 ┆ l   ┆ l   ┆ l   ┆ l   ┆ l   ┆ l   ┆ l   ┆ l   ┆     ┆     ┆     ┆     ┆ l   ┆ l   ┆ l   ┆ l   ┆ l   │\n",
       "│     ┆ 3-1 ┆     ┆     ┆     ┆ a,  ┆     ┆     ┆     ┆     ┆     ┆     ┆     ┆     ┆     ┆     ┆     ┆     ┆     ┆     ┆     ┆     ┆     ┆     ┆     ┆     ┆     ┆     ┆     ┆     ┆     ┆     ┆     ┆     ┆     ┆     ┆     ┆     ┆     ┆     ┆     ┆     ┆     ┆     ┆     ┆     ┆     ┆     ┆     ┆     ┆     ┆     ┆     ┆     ┆     ┆     ┆     ┆     ┆     ┆     ┆     │\n",
       "│     ┆ 6   ┆     ┆     ┆     ┆ Fre ┆     ┆     ┆     ┆     ┆     ┆     ┆     ┆     ┆     ┆     ┆     ┆     ┆     ┆     ┆     ┆     ┆     ┆     ┆     ┆     ┆     ┆     ┆     ┆     ┆     ┆     ┆     ┆     ┆     ┆     ┆     ┆     ┆     ┆     ┆     ┆     ┆     ┆     ┆     ┆     ┆     ┆     ┆     ┆     ┆     ┆     ┆     ┆     ┆     ┆     ┆     ┆     ┆     ┆     ┆     │\n",
       "│     ┆ 00: ┆     ┆     ┆     ┆ ddy ┆     ┆     ┆     ┆     ┆     ┆     ┆     ┆     ┆     ┆     ┆     ┆     ┆     ┆     ┆     ┆     ┆     ┆     ┆     ┆     ┆     ┆     ┆     ┆     ┆     ┆     ┆     ┆     ┆     ┆     ┆     ┆     ┆     ┆     ┆     ┆     ┆     ┆     ┆     ┆     ┆     ┆     ┆     ┆     ┆     ┆     ┆     ┆     ┆     ┆     ┆     ┆     ┆     ┆     ┆     │\n",
       "│     ┆ 00: ┆     ┆     ┆     ┆     ┆     ┆     ┆     ┆     ┆     ┆     ┆     ┆     ┆     ┆     ┆     ┆     ┆     ┆     ┆     ┆     ┆     ┆     ┆     ┆     ┆     ┆     ┆     ┆     ┆     ┆     ┆     ┆     ┆     ┆     ┆     ┆     ┆     ┆     ┆     ┆     ┆     ┆     ┆     ┆     ┆     ┆     ┆     ┆     ┆     ┆     ┆     ┆     ┆     ┆     ┆     ┆     ┆     ┆     ┆     │\n",
       "│     ┆ 00  ┆     ┆     ┆     ┆     ┆     ┆     ┆     ┆     ┆     ┆     ┆     ┆     ┆     ┆     ┆     ┆     ┆     ┆     ┆     ┆     ┆     ┆     ┆     ┆     ┆     ┆     ┆     ┆     ┆     ┆     ┆     ┆     ┆     ┆     ┆     ┆     ┆     ┆     ┆     ┆     ┆     ┆     ┆     ┆     ┆     ┆     ┆     ┆     ┆     ┆     ┆     ┆     ┆     ┆     ┆     ┆     ┆     ┆     ┆     │\n",
       "└─────┴─────┴─────┴─────┴─────┴─────┴─────┴─────┴─────┴─────┴─────┴─────┴─────┴─────┴─────┴─────┴─────┴─────┴─────┴─────┴─────┴─────┴─────┴─────┴─────┴─────┴─────┴─────┴─────┴─────┴─────┴─────┴─────┴─────┴─────┴─────┴─────┴─────┴─────┴─────┴─────┴─────┴─────┴─────┴─────┴─────┴─────┴─────┴─────┴─────┴─────┴─────┴─────┴─────┴─────┴─────┴─────┴─────┴─────┴─────┴─────┘"
      ]
     },
     "metadata": {},
     "output_type": "display_data"
    }
   ],
   "source": [
    "display_df(df.collect())"
   ]
  }
 ],
 "metadata": {
  "kernelspec": {
   "display_name": "pitch_predict",
   "language": "python",
   "name": "python3"
  },
  "language_info": {
   "codemirror_mode": {
    "name": "ipython",
    "version": 3
   },
   "file_extension": ".py",
   "mimetype": "text/x-python",
   "name": "python",
   "nbconvert_exporter": "python",
   "pygments_lexer": "ipython3",
   "version": "3.12.7"
  }
 },
 "nbformat": 4,
 "nbformat_minor": 2
}
