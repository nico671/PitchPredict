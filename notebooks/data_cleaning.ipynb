{
 "cells": [
  {
   "cell_type": "markdown",
   "id": "1326d9f4",
   "metadata": {},
   "source": [
    "# Data Cleaning"
   ]
  },
  {
   "cell_type": "code",
   "execution_count": 22,
   "id": "647c939a",
   "metadata": {},
   "outputs": [],
   "source": [
    "import polars as pl\n"
   ]
  },
  {
   "cell_type": "markdown",
   "id": "34b50bcf",
   "metadata": {},
   "source": [
    "## Load and Inspect Data"
   ]
  },
  {
   "cell_type": "code",
   "execution_count": 23,
   "id": "dcd5ee31",
   "metadata": {},
   "outputs": [],
   "source": [
    "df = pl.read_parquet(\"../data/raw_statcast_data.parquet\")"
   ]
  },
  {
   "cell_type": "code",
   "execution_count": 24,
   "id": "9523aacc",
   "metadata": {},
   "outputs": [
    {
     "data": {
      "text/html": [
       "<div><style>\n",
       ".dataframe > thead > tr,\n",
       ".dataframe > tbody > tr {\n",
       "  text-align: right;\n",
       "  white-space: pre-wrap;\n",
       "}\n",
       "</style>\n",
       "<small>shape: (7_175_689, 113)</small><table border=\"1\" class=\"dataframe\"><thead><tr><th>pitch_type</th><th>game_date</th><th>release_speed</th><th>release_pos_x</th><th>release_pos_z</th><th>player_name</th><th>batter</th><th>pitcher</th><th>events</th><th>description</th><th>spin_dir</th><th>spin_rate_deprecated</th><th>break_angle_deprecated</th><th>break_length_deprecated</th><th>zone</th><th>des</th><th>game_type</th><th>stand</th><th>p_throws</th><th>home_team</th><th>away_team</th><th>type</th><th>hit_location</th><th>bb_type</th><th>balls</th><th>strikes</th><th>game_year</th><th>pfx_x</th><th>pfx_z</th><th>plate_x</th><th>plate_z</th><th>on_3b</th><th>on_2b</th><th>on_1b</th><th>outs_when_up</th><th>inning</th><th>inning_topbot</th><th>&hellip;</th><th>pitch_name</th><th>home_score</th><th>away_score</th><th>bat_score</th><th>fld_score</th><th>post_away_score</th><th>post_home_score</th><th>post_bat_score</th><th>post_fld_score</th><th>if_fielding_alignment</th><th>of_fielding_alignment</th><th>spin_axis</th><th>delta_home_win_exp</th><th>delta_run_exp</th><th>bat_speed</th><th>swing_length</th><th>estimated_slg_using_speedangle</th><th>delta_pitcher_run_exp</th><th>hyper_speed</th><th>home_score_diff</th><th>bat_score_diff</th><th>home_win_exp</th><th>bat_win_exp</th><th>age_pit_legacy</th><th>age_bat_legacy</th><th>age_pit</th><th>age_bat</th><th>n_thruorder_pitcher</th><th>n_priorpa_thisgame_player_at_bat</th><th>pitcher_days_since_prev_game</th><th>batter_days_since_prev_game</th><th>pitcher_days_until_next_game</th><th>batter_days_until_next_game</th><th>api_break_z_with_gravity</th><th>api_break_x_arm</th><th>api_break_x_batter_in</th><th>arm_angle</th></tr><tr><td>str</td><td>str</td><td>f64</td><td>f64</td><td>f64</td><td>str</td><td>i64</td><td>i64</td><td>str</td><td>str</td><td>str</td><td>str</td><td>str</td><td>str</td><td>i64</td><td>str</td><td>str</td><td>str</td><td>str</td><td>str</td><td>str</td><td>str</td><td>i64</td><td>str</td><td>i64</td><td>i64</td><td>i64</td><td>f64</td><td>f64</td><td>f64</td><td>f64</td><td>str</td><td>i64</td><td>i64</td><td>i64</td><td>i64</td><td>str</td><td>&hellip;</td><td>str</td><td>i64</td><td>i64</td><td>i64</td><td>i64</td><td>i64</td><td>i64</td><td>i64</td><td>i64</td><td>str</td><td>str</td><td>str</td><td>f64</td><td>f64</td><td>str</td><td>str</td><td>f64</td><td>f64</td><td>f64</td><td>i64</td><td>i64</td><td>f64</td><td>f64</td><td>i64</td><td>i64</td><td>i64</td><td>i64</td><td>i64</td><td>i64</td><td>i64</td><td>i64</td><td>i64</td><td>i64</td><td>f64</td><td>f64</td><td>f64</td><td>str</td></tr></thead><tbody><tr><td>&quot;FC&quot;</td><td>&quot;2015-10-23&quot;</td><td>89.2</td><td>3.35</td><td>5.81</td><td>&quot;Price, David&quot;</td><td>460086</td><td>456034</td><td>&quot;field_out&quot;</td><td>&quot;hit_into_play&quot;</td><td>null</td><td>null</td><td>null</td><td>null</td><td>4</td><td>&quot;Alex Gordon grounds out, secon…</td><td>&quot;L&quot;</td><td>&quot;L&quot;</td><td>&quot;L&quot;</td><td>&quot;KC&quot;</td><td>&quot;TOR&quot;</td><td>&quot;X&quot;</td><td>4</td><td>&quot;ground_ball&quot;</td><td>2</td><td>1</td><td>2015</td><td>0.03</td><td>0.65</td><td>-0.34</td><td>2.39</td><td>null</td><td>null</td><td>519058</td><td>1</td><td>7</td><td>&quot;Bot&quot;</td><td>&hellip;</td><td>&quot;Cutter&quot;</td><td>2</td><td>1</td><td>2</td><td>1</td><td>1</td><td>2</td><td>2</td><td>1</td><td>&quot;Standard&quot;</td><td>&quot;Standard&quot;</td><td>null</td><td>-0.012</td><td>-0.341</td><td>null</td><td>null</td><td>0.299</td><td>0.341</td><td>95.1</td><td>1</td><td>1</td><td>0.796</td><td>0.796</td><td>29</td><td>31</td><td>30</td><td>31</td><td>3</td><td>2</td><td>6</td><td>2</td><td>null</td><td>4</td><td>2.26</td><td>0.03</td><td>0.03</td><td>null</td></tr><tr><td>&quot;FC&quot;</td><td>&quot;2015-10-23&quot;</td><td>89.1</td><td>3.33</td><td>5.82</td><td>&quot;Price, David&quot;</td><td>460086</td><td>456034</td><td>null</td><td>&quot;called_strike&quot;</td><td>null</td><td>null</td><td>null</td><td>null</td><td>4</td><td>&quot;Alex Gordon grounds out, secon…</td><td>&quot;L&quot;</td><td>&quot;L&quot;</td><td>&quot;L&quot;</td><td>&quot;KC&quot;</td><td>&quot;TOR&quot;</td><td>&quot;S&quot;</td><td>null</td><td>null</td><td>2</td><td>0</td><td>2015</td><td>0.03</td><td>0.62</td><td>-0.47</td><td>2.36</td><td>null</td><td>null</td><td>519058</td><td>1</td><td>7</td><td>&quot;Bot&quot;</td><td>&hellip;</td><td>&quot;Cutter&quot;</td><td>2</td><td>1</td><td>2</td><td>1</td><td>1</td><td>2</td><td>2</td><td>1</td><td>&quot;Standard&quot;</td><td>&quot;Standard&quot;</td><td>null</td><td>0.0</td><td>-0.059</td><td>null</td><td>null</td><td>null</td><td>0.059</td><td>null</td><td>1</td><td>1</td><td>0.796</td><td>0.796</td><td>29</td><td>31</td><td>30</td><td>31</td><td>3</td><td>2</td><td>6</td><td>2</td><td>null</td><td>4</td><td>2.3</td><td>0.03</td><td>0.03</td><td>null</td></tr><tr><td>&quot;FF&quot;</td><td>&quot;2015-10-23&quot;</td><td>95.3</td><td>3.2</td><td>5.97</td><td>&quot;Price, David&quot;</td><td>460086</td><td>456034</td><td>null</td><td>&quot;ball&quot;</td><td>null</td><td>null</td><td>null</td><td>null</td><td>12</td><td>&quot;Alex Gordon grounds out, secon…</td><td>&quot;L&quot;</td><td>&quot;L&quot;</td><td>&quot;L&quot;</td><td>&quot;KC&quot;</td><td>&quot;TOR&quot;</td><td>&quot;B&quot;</td><td>null</td><td>null</td><td>1</td><td>0</td><td>2015</td><td>1.09</td><td>1.3</td><td>1.46</td><td>3.15</td><td>null</td><td>null</td><td>519058</td><td>1</td><td>7</td><td>&quot;Bot&quot;</td><td>&hellip;</td><td>&quot;4-Seam Fastball&quot;</td><td>2</td><td>1</td><td>2</td><td>1</td><td>1</td><td>2</td><td>2</td><td>1</td><td>&quot;Standard&quot;</td><td>&quot;Standard&quot;</td><td>null</td><td>0.0</td><td>0.058</td><td>null</td><td>null</td><td>null</td><td>-0.058</td><td>null</td><td>1</td><td>1</td><td>0.796</td><td>0.796</td><td>29</td><td>31</td><td>30</td><td>31</td><td>3</td><td>2</td><td>6</td><td>2</td><td>null</td><td>4</td><td>1.28</td><td>1.09</td><td>1.09</td><td>null</td></tr><tr><td>&quot;FF&quot;</td><td>&quot;2015-10-23&quot;</td><td>94.3</td><td>3.06</td><td>6.06</td><td>&quot;Price, David&quot;</td><td>460086</td><td>456034</td><td>null</td><td>&quot;ball&quot;</td><td>null</td><td>null</td><td>null</td><td>null</td><td>13</td><td>&quot;Alex Gordon grounds out, secon…</td><td>&quot;L&quot;</td><td>&quot;L&quot;</td><td>&quot;L&quot;</td><td>&quot;KC&quot;</td><td>&quot;TOR&quot;</td><td>&quot;B&quot;</td><td>null</td><td>null</td><td>0</td><td>0</td><td>2015</td><td>0.84</td><td>1.47</td><td>-0.98</td><td>1.27</td><td>null</td><td>null</td><td>519058</td><td>1</td><td>7</td><td>&quot;Bot&quot;</td><td>&hellip;</td><td>&quot;4-Seam Fastball&quot;</td><td>2</td><td>1</td><td>2</td><td>1</td><td>1</td><td>2</td><td>2</td><td>1</td><td>&quot;Standard&quot;</td><td>&quot;Standard&quot;</td><td>null</td><td>0.0</td><td>0.027</td><td>null</td><td>null</td><td>null</td><td>-0.027</td><td>null</td><td>1</td><td>1</td><td>0.796</td><td>0.796</td><td>29</td><td>31</td><td>30</td><td>31</td><td>3</td><td>2</td><td>6</td><td>2</td><td>null</td><td>4</td><td>1.2</td><td>0.84</td><td>0.84</td><td>null</td></tr><tr><td>&quot;CH&quot;</td><td>&quot;2015-10-23&quot;</td><td>87.4</td><td>3.34</td><td>6.2</td><td>&quot;Price, David&quot;</td><td>521692</td><td>456034</td><td>&quot;field_out&quot;</td><td>&quot;hit_into_play&quot;</td><td>null</td><td>null</td><td>null</td><td>null</td><td>14</td><td>&quot;Salvador Perez flies out to le…</td><td>&quot;L&quot;</td><td>&quot;R&quot;</td><td>&quot;L&quot;</td><td>&quot;KC&quot;</td><td>&quot;TOR&quot;</td><td>&quot;X&quot;</td><td>7</td><td>&quot;fly_ball&quot;</td><td>1</td><td>2</td><td>2015</td><td>1.58</td><td>0.74</td><td>1.0</td><td>2.36</td><td>null</td><td>null</td><td>519058</td><td>0</td><td>7</td><td>&quot;Bot&quot;</td><td>&hellip;</td><td>&quot;Changeup&quot;</td><td>2</td><td>1</td><td>2</td><td>1</td><td>1</td><td>2</td><td>2</td><td>1</td><td>&quot;Standard&quot;</td><td>&quot;Standard&quot;</td><td>null</td><td>-0.026</td><td>-0.174</td><td>null</td><td>null</td><td>1.415</td><td>0.174</td><td>97.6</td><td>1</td><td>1</td><td>0.822</td><td>0.822</td><td>29</td><td>25</td><td>30</td><td>25</td><td>3</td><td>2</td><td>6</td><td>2</td><td>null</td><td>4</td><td>2.32</td><td>1.58</td><td>-1.58</td><td>null</td></tr><tr><td>&hellip;</td><td>&hellip;</td><td>&hellip;</td><td>&hellip;</td><td>&hellip;</td><td>&hellip;</td><td>&hellip;</td><td>&hellip;</td><td>&hellip;</td><td>&hellip;</td><td>&hellip;</td><td>&hellip;</td><td>&hellip;</td><td>&hellip;</td><td>&hellip;</td><td>&hellip;</td><td>&hellip;</td><td>&hellip;</td><td>&hellip;</td><td>&hellip;</td><td>&hellip;</td><td>&hellip;</td><td>&hellip;</td><td>&hellip;</td><td>&hellip;</td><td>&hellip;</td><td>&hellip;</td><td>&hellip;</td><td>&hellip;</td><td>&hellip;</td><td>&hellip;</td><td>&hellip;</td><td>&hellip;</td><td>&hellip;</td><td>&hellip;</td><td>&hellip;</td><td>&hellip;</td><td>&hellip;</td><td>&hellip;</td><td>&hellip;</td><td>&hellip;</td><td>&hellip;</td><td>&hellip;</td><td>&hellip;</td><td>&hellip;</td><td>&hellip;</td><td>&hellip;</td><td>&hellip;</td><td>&hellip;</td><td>&hellip;</td><td>&hellip;</td><td>&hellip;</td><td>&hellip;</td><td>&hellip;</td><td>&hellip;</td><td>&hellip;</td><td>&hellip;</td><td>&hellip;</td><td>&hellip;</td><td>&hellip;</td><td>&hellip;</td><td>&hellip;</td><td>&hellip;</td><td>&hellip;</td><td>&hellip;</td><td>&hellip;</td><td>&hellip;</td><td>&hellip;</td><td>&hellip;</td><td>&hellip;</td><td>&hellip;</td><td>&hellip;</td><td>&hellip;</td><td>&hellip;</td><td>&hellip;</td></tr><tr><td>&quot;FS&quot;</td><td>&quot;2024-04-29&quot;</td><td>84.4</td><td>-1.69</td><td>6.03</td><td>&quot;McGough, Scott&quot;</td><td>571970</td><td>543518</td><td>null</td><td>&quot;ball&quot;</td><td>null</td><td>null</td><td>null</td><td>null</td><td>11</td><td>&quot;Max Muncy grounds out, first b…</td><td>&quot;R&quot;</td><td>&quot;L&quot;</td><td>&quot;R&quot;</td><td>&quot;AZ&quot;</td><td>&quot;LAD&quot;</td><td>&quot;B&quot;</td><td>null</td><td>null</td><td>0</td><td>0</td><td>2024</td><td>-0.77</td><td>0.74</td><td>-1.27</td><td>3.91</td><td>&quot;669257&quot;</td><td>606192</td><td>null</td><td>1</td><td>5</td><td>&quot;Top&quot;</td><td>&hellip;</td><td>&quot;Split-Finger&quot;</td><td>1</td><td>4</td><td>4</td><td>1</td><td>4</td><td>1</td><td>4</td><td>1</td><td>null</td><td>null</td><td>&quot;217&quot;</td><td>0.0</td><td>0.025</td><td>null</td><td>null</td><td>null</td><td>-0.025</td><td>null</td><td>-3</td><td>3</td><td>0.109</td><td>0.891</td><td>34</td><td>33</td><td>35</td><td>34</td><td>1</td><td>2</td><td>3</td><td>1</td><td>1</td><td>1</td><td>2.43</td><td>0.77</td><td>-0.77</td><td>&quot;49.5&quot;</td></tr><tr><td>&quot;ST&quot;</td><td>&quot;2024-04-29&quot;</td><td>85.9</td><td>-2.61</td><td>5.19</td><td>&quot;Phillips, Evan&quot;</td><td>592626</td><td>623465</td><td>null</td><td>&quot;ball&quot;</td><td>null</td><td>null</td><td>null</td><td>null</td><td>13</td><td>&quot;Joc Pederson strikes out on a …</td><td>&quot;R&quot;</td><td>&quot;L&quot;</td><td>&quot;R&quot;</td><td>&quot;AZ&quot;</td><td>&quot;LAD&quot;</td><td>&quot;B&quot;</td><td>null</td><td>null</td><td>0</td><td>0</td><td>2024</td><td>1.17</td><td>-0.12</td><td>-1.62</td><td>2.26</td><td>null</td><td>null</td><td>null</td><td>0</td><td>9</td><td>&quot;Bot&quot;</td><td>&hellip;</td><td>&quot;Sweeper&quot;</td><td>4</td><td>8</td><td>4</td><td>8</td><td>8</td><td>4</td><td>4</td><td>8</td><td>&quot;Infield shade&quot;</td><td>&quot;Standard&quot;</td><td>&quot;70&quot;</td><td>0.0</td><td>0.038</td><td>null</td><td>null</td><td>null</td><td>-0.038</td><td>null</td><td>-4</td><td>-4</td><td>0.016</td><td>0.016</td><td>29</td><td>32</td><td>30</td><td>32</td><td>1</td><td>0</td><td>2</td><td>1</td><td>4</td><td>1</td><td>3.2</td><td>-1.17</td><td>1.17</td><td>&quot;22.3&quot;</td></tr><tr><td>&quot;SI&quot;</td><td>&quot;2024-04-29&quot;</td><td>97.5</td><td>-1.94</td><td>5.55</td><td>&quot;Stewart, Brock&quot;</td><td>664901</td><td>592779</td><td>null</td><td>&quot;foul&quot;</td><td>null</td><td>null</td><td>null</td><td>null</td><td>11</td><td>&quot;Danny Mendick strikes out swin…</td><td>&quot;R&quot;</td><td>&quot;R&quot;</td><td>&quot;R&quot;</td><td>&quot;CWS&quot;</td><td>&quot;MIN&quot;</td><td>&quot;S&quot;</td><td>null</td><td>null</td><td>0</td><td>0</td><td>2024</td><td>-1.27</td><td>0.47</td><td>-0.96</td><td>2.99</td><td>null</td><td>null</td><td>null</td><td>0</td><td>7</td><td>&quot;Bot&quot;</td><td>&hellip;</td><td>&quot;Sinker&quot;</td><td>2</td><td>2</td><td>2</td><td>2</td><td>2</td><td>2</td><td>2</td><td>2</td><td>&quot;Standard&quot;</td><td>&quot;Standard&quot;</td><td>&quot;226&quot;</td><td>0.0</td><td>-0.037</td><td>&quot;62.8&quot;</td><td>&quot;6.0&quot;</td><td>null</td><td>0.037</td><td>88.0</td><td>0</td><td>0</td><td>0.586</td><td>0.586</td><td>32</td><td>30</td><td>33</td><td>31</td><td>1</td><td>2</td><td>4</td><td>1</td><td>2</td><td>1</td><td>1.9</td><td>1.27</td><td>1.27</td><td>&quot;26.5&quot;</td></tr><tr><td>&quot;SI&quot;</td><td>&quot;2024-04-29&quot;</td><td>96.3</td><td>-1.09</td><td>6.55</td><td>&quot;Holmes, Clay&quot;</td><td>623993</td><td>605280</td><td>null</td><td>&quot;ball&quot;</td><td>null</td><td>null</td><td>null</td><td>null</td><td>11</td><td>&quot;Anthony Santander reaches on a…</td><td>&quot;R&quot;</td><td>&quot;L&quot;</td><td>&quot;R&quot;</td><td>&quot;BAL&quot;</td><td>&quot;NYY&quot;</td><td>&quot;B&quot;</td><td>null</td><td>null</td><td>0</td><td>0</td><td>2024</td><td>-1.06</td><td>-0.01</td><td>-1.08</td><td>2.91</td><td>&quot;683002&quot;</td><td>null</td><td>668939</td><td>2</td><td>8</td><td>&quot;Bot&quot;</td><td>&hellip;</td><td>&quot;Sinker&quot;</td><td>1</td><td>0</td><td>1</td><td>0</td><td>0</td><td>1</td><td>1</td><td>0</td><td>&quot;Standard&quot;</td><td>&quot;Standard&quot;</td><td>&quot;230&quot;</td><td>0.0</td><td>0.03</td><td>null</td><td>null</td><td>null</td><td>-0.03</td><td>null</td><td>1</td><td>1</td><td>0.871</td><td>0.871</td><td>31</td><td>29</td><td>31</td><td>30</td><td>1</td><td>3</td><td>3</td><td>1</td><td>2</td><td>1</td><td>2.47</td><td>1.06</td><td>-1.06</td><td>&quot;45.5&quot;</td></tr><tr><td>&quot;FF&quot;</td><td>&quot;2024-04-29&quot;</td><td>91.4</td><td>2.04</td><td>6.47</td><td>&quot;Paxton, James&quot;</td><td>677942</td><td>572020</td><td>null</td><td>&quot;ball&quot;</td><td>null</td><td>null</td><td>null</td><td>null</td><td>11</td><td>&quot;Blaze Alexander walks.&quot;</td><td>&quot;R&quot;</td><td>&quot;R&quot;</td><td>&quot;L&quot;</td><td>&quot;AZ&quot;</td><td>&quot;LAD&quot;</td><td>&quot;B&quot;</td><td>null</td><td>null</td><td>0</td><td>0</td><td>2024</td><td>0.54</td><td>1.45</td><td>-0.13</td><td>3.75</td><td>null</td><td>null</td><td>null</td><td>0</td><td>1</td><td>&quot;Bot&quot;</td><td>&hellip;</td><td>&quot;4-Seam Fastball&quot;</td><td>0</td><td>0</td><td>0</td><td>0</td><td>0</td><td>0</td><td>0</td><td>0</td><td>&quot;Standard&quot;</td><td>&quot;Standard&quot;</td><td>&quot;147&quot;</td><td>0.0</td><td>0.038</td><td>null</td><td>null</td><td>null</td><td>-0.038</td><td>null</td><td>0</td><td>0</td><td>0.547</td><td>0.547</td><td>35</td><td>25</td><td>36</td><td>25</td><td>1</td><td>0</td><td>6</td><td>2</td><td>6</td><td>1</td><td>1.26</td><td>0.54</td><td>-0.54</td><td>&quot;50.3&quot;</td></tr></tbody></table></div>"
      ],
      "text/plain": [
       "shape: (7_175_689, 113)\n",
       "┌───────────┬───────────┬───────────┬───────────┬───┬───────────┬───────────┬───────────┬──────────┐\n",
       "│ pitch_typ ┆ game_date ┆ release_s ┆ release_p ┆ … ┆ api_break ┆ api_break ┆ api_break ┆ arm_angl │\n",
       "│ e         ┆ ---       ┆ peed      ┆ os_x      ┆   ┆ _z_with_g ┆ _x_arm    ┆ _x_batter ┆ e        │\n",
       "│ ---       ┆ str       ┆ ---       ┆ ---       ┆   ┆ ravity    ┆ ---       ┆ _in       ┆ ---      │\n",
       "│ str       ┆           ┆ f64       ┆ f64       ┆   ┆ ---       ┆ f64       ┆ ---       ┆ str      │\n",
       "│           ┆           ┆           ┆           ┆   ┆ f64       ┆           ┆ f64       ┆          │\n",
       "╞═══════════╪═══════════╪═══════════╪═══════════╪═══╪═══════════╪═══════════╪═══════════╪══════════╡\n",
       "│ FC        ┆ 2015-10-2 ┆ 89.2      ┆ 3.35      ┆ … ┆ 2.26      ┆ 0.03      ┆ 0.03      ┆ null     │\n",
       "│           ┆ 3         ┆           ┆           ┆   ┆           ┆           ┆           ┆          │\n",
       "│ FC        ┆ 2015-10-2 ┆ 89.1      ┆ 3.33      ┆ … ┆ 2.3       ┆ 0.03      ┆ 0.03      ┆ null     │\n",
       "│           ┆ 3         ┆           ┆           ┆   ┆           ┆           ┆           ┆          │\n",
       "│ FF        ┆ 2015-10-2 ┆ 95.3      ┆ 3.2       ┆ … ┆ 1.28      ┆ 1.09      ┆ 1.09      ┆ null     │\n",
       "│           ┆ 3         ┆           ┆           ┆   ┆           ┆           ┆           ┆          │\n",
       "│ FF        ┆ 2015-10-2 ┆ 94.3      ┆ 3.06      ┆ … ┆ 1.2       ┆ 0.84      ┆ 0.84      ┆ null     │\n",
       "│           ┆ 3         ┆           ┆           ┆   ┆           ┆           ┆           ┆          │\n",
       "│ CH        ┆ 2015-10-2 ┆ 87.4      ┆ 3.34      ┆ … ┆ 2.32      ┆ 1.58      ┆ -1.58     ┆ null     │\n",
       "│           ┆ 3         ┆           ┆           ┆   ┆           ┆           ┆           ┆          │\n",
       "│ …         ┆ …         ┆ …         ┆ …         ┆ … ┆ …         ┆ …         ┆ …         ┆ …        │\n",
       "│ FS        ┆ 2024-04-2 ┆ 84.4      ┆ -1.69     ┆ … ┆ 2.43      ┆ 0.77      ┆ -0.77     ┆ 49.5     │\n",
       "│           ┆ 9         ┆           ┆           ┆   ┆           ┆           ┆           ┆          │\n",
       "│ ST        ┆ 2024-04-2 ┆ 85.9      ┆ -2.61     ┆ … ┆ 3.2       ┆ -1.17     ┆ 1.17      ┆ 22.3     │\n",
       "│           ┆ 9         ┆           ┆           ┆   ┆           ┆           ┆           ┆          │\n",
       "│ SI        ┆ 2024-04-2 ┆ 97.5      ┆ -1.94     ┆ … ┆ 1.9       ┆ 1.27      ┆ 1.27      ┆ 26.5     │\n",
       "│           ┆ 9         ┆           ┆           ┆   ┆           ┆           ┆           ┆          │\n",
       "│ SI        ┆ 2024-04-2 ┆ 96.3      ┆ -1.09     ┆ … ┆ 2.47      ┆ 1.06      ┆ -1.06     ┆ 45.5     │\n",
       "│           ┆ 9         ┆           ┆           ┆   ┆           ┆           ┆           ┆          │\n",
       "│ FF        ┆ 2024-04-2 ┆ 91.4      ┆ 2.04      ┆ … ┆ 1.26      ┆ 0.54      ┆ -0.54     ┆ 50.3     │\n",
       "│           ┆ 9         ┆           ┆           ┆   ┆           ┆           ┆           ┆          │\n",
       "└───────────┴───────────┴───────────┴───────────┴───┴───────────┴───────────┴───────────┴──────────┘"
      ]
     },
     "execution_count": 24,
     "metadata": {},
     "output_type": "execute_result"
    }
   ],
   "source": [
    "df"
   ]
  },
  {
   "cell_type": "code",
   "execution_count": 25,
   "id": "f44d1a77",
   "metadata": {},
   "outputs": [
    {
     "data": {
      "text/html": [
       "<div><style>\n",
       ".dataframe > thead > tr,\n",
       ".dataframe > tbody > tr {\n",
       "  text-align: right;\n",
       "  white-space: pre-wrap;\n",
       "}\n",
       "</style>\n",
       "<small>shape: (9, 114)</small><table border=\"1\" class=\"dataframe\"><thead><tr><th>statistic</th><th>pitch_type</th><th>game_date</th><th>release_speed</th><th>release_pos_x</th><th>release_pos_z</th><th>player_name</th><th>batter</th><th>pitcher</th><th>events</th><th>description</th><th>spin_dir</th><th>spin_rate_deprecated</th><th>break_angle_deprecated</th><th>break_length_deprecated</th><th>zone</th><th>des</th><th>game_type</th><th>stand</th><th>p_throws</th><th>home_team</th><th>away_team</th><th>type</th><th>hit_location</th><th>bb_type</th><th>balls</th><th>strikes</th><th>game_year</th><th>pfx_x</th><th>pfx_z</th><th>plate_x</th><th>plate_z</th><th>on_3b</th><th>on_2b</th><th>on_1b</th><th>outs_when_up</th><th>inning</th><th>&hellip;</th><th>pitch_name</th><th>home_score</th><th>away_score</th><th>bat_score</th><th>fld_score</th><th>post_away_score</th><th>post_home_score</th><th>post_bat_score</th><th>post_fld_score</th><th>if_fielding_alignment</th><th>of_fielding_alignment</th><th>spin_axis</th><th>delta_home_win_exp</th><th>delta_run_exp</th><th>bat_speed</th><th>swing_length</th><th>estimated_slg_using_speedangle</th><th>delta_pitcher_run_exp</th><th>hyper_speed</th><th>home_score_diff</th><th>bat_score_diff</th><th>home_win_exp</th><th>bat_win_exp</th><th>age_pit_legacy</th><th>age_bat_legacy</th><th>age_pit</th><th>age_bat</th><th>n_thruorder_pitcher</th><th>n_priorpa_thisgame_player_at_bat</th><th>pitcher_days_since_prev_game</th><th>batter_days_since_prev_game</th><th>pitcher_days_until_next_game</th><th>batter_days_until_next_game</th><th>api_break_z_with_gravity</th><th>api_break_x_arm</th><th>api_break_x_batter_in</th><th>arm_angle</th></tr><tr><td>str</td><td>str</td><td>str</td><td>f64</td><td>f64</td><td>f64</td><td>str</td><td>f64</td><td>f64</td><td>str</td><td>str</td><td>str</td><td>str</td><td>str</td><td>str</td><td>f64</td><td>str</td><td>str</td><td>str</td><td>str</td><td>str</td><td>str</td><td>str</td><td>f64</td><td>str</td><td>f64</td><td>f64</td><td>f64</td><td>f64</td><td>f64</td><td>f64</td><td>f64</td><td>str</td><td>f64</td><td>f64</td><td>f64</td><td>f64</td><td>&hellip;</td><td>str</td><td>f64</td><td>f64</td><td>f64</td><td>f64</td><td>f64</td><td>f64</td><td>f64</td><td>f64</td><td>str</td><td>str</td><td>str</td><td>f64</td><td>f64</td><td>str</td><td>str</td><td>f64</td><td>f64</td><td>f64</td><td>f64</td><td>f64</td><td>f64</td><td>f64</td><td>f64</td><td>f64</td><td>f64</td><td>f64</td><td>f64</td><td>f64</td><td>f64</td><td>f64</td><td>f64</td><td>f64</td><td>f64</td><td>f64</td><td>f64</td><td>str</td></tr></thead><tbody><tr><td>&quot;count&quot;</td><td>&quot;7066774&quot;</td><td>&quot;7175689&quot;</td><td>7.067625e6</td><td>7.066736e6</td><td>7.066736e6</td><td>&quot;7175689&quot;</td><td>7.175689e6</td><td>7.175689e6</td><td>&quot;1862527&quot;</td><td>&quot;7175689&quot;</td><td>&quot;0&quot;</td><td>&quot;0&quot;</td><td>&quot;0&quot;</td><td>&quot;0&quot;</td><td>7.066951e6</td><td>&quot;7175676&quot;</td><td>&quot;7175689&quot;</td><td>&quot;7175689&quot;</td><td>&quot;7175689&quot;</td><td>&quot;7175689&quot;</td><td>&quot;7175689&quot;</td><td>&quot;7175689&quot;</td><td>1.627911e6</td><td>&quot;1271724&quot;</td><td>7.175689e6</td><td>7.175689e6</td><td>7.175689e6</td><td>7.066539e6</td><td>7.066881e6</td><td>7.066951e6</td><td>7.066951e6</td><td>&quot;676600&quot;</td><td>1.337688e6</td><td>2.188376e6</td><td>7.175689e6</td><td>7.175689e6</td><td>&hellip;</td><td>&quot;7066774&quot;</td><td>7.175689e6</td><td>7.175689e6</td><td>7.175689e6</td><td>7.175689e6</td><td>7.175689e6</td><td>7.175689e6</td><td>7.175689e6</td><td>7.175689e6</td><td>&quot;6980225&quot;</td><td>&quot;6980225&quot;</td><td>&quot;6327525&quot;</td><td>7.175657e6</td><td>7.167953e6</td><td>&quot;536060&quot;</td><td>&quot;535243&quot;</td><td>1.224993e6</td><td>7.167953e6</td><td>2.094433e6</td><td>7.175689e6</td><td>7.175689e6</td><td>7.175659e6</td><td>7.175659e6</td><td>7.175689e6</td><td>7.175689e6</td><td>7.175689e6</td><td>7.175689e6</td><td>7.175689e6</td><td>7.175689e6</td><td>6.59851e6</td><td>6.842596e6</td><td>6.624481e6</td><td>6.849022e6</td><td>7.066867e6</td><td>7.066539e6</td><td>7.066539e6</td><td>&quot;3208953&quot;</td></tr><tr><td>&quot;null_count&quot;</td><td>&quot;108915&quot;</td><td>&quot;0&quot;</td><td>108064.0</td><td>108953.0</td><td>108953.0</td><td>&quot;0&quot;</td><td>0.0</td><td>0.0</td><td>&quot;5313162&quot;</td><td>&quot;0&quot;</td><td>&quot;7175689&quot;</td><td>&quot;7175689&quot;</td><td>&quot;7175689&quot;</td><td>&quot;7175689&quot;</td><td>108738.0</td><td>&quot;13&quot;</td><td>&quot;0&quot;</td><td>&quot;0&quot;</td><td>&quot;0&quot;</td><td>&quot;0&quot;</td><td>&quot;0&quot;</td><td>&quot;0&quot;</td><td>5.547778e6</td><td>&quot;5903965&quot;</td><td>0.0</td><td>0.0</td><td>0.0</td><td>109150.0</td><td>108808.0</td><td>108738.0</td><td>108738.0</td><td>&quot;6499089&quot;</td><td>5.838001e6</td><td>4.987313e6</td><td>0.0</td><td>0.0</td><td>&hellip;</td><td>&quot;108915&quot;</td><td>0.0</td><td>0.0</td><td>0.0</td><td>0.0</td><td>0.0</td><td>0.0</td><td>0.0</td><td>0.0</td><td>&quot;195464&quot;</td><td>&quot;195464&quot;</td><td>&quot;848164&quot;</td><td>32.0</td><td>7736.0</td><td>&quot;6639629&quot;</td><td>&quot;6640446&quot;</td><td>5.950696e6</td><td>7736.0</td><td>5.081256e6</td><td>0.0</td><td>0.0</td><td>30.0</td><td>30.0</td><td>0.0</td><td>0.0</td><td>0.0</td><td>0.0</td><td>0.0</td><td>0.0</td><td>577179.0</td><td>333093.0</td><td>551208.0</td><td>326667.0</td><td>108822.0</td><td>109150.0</td><td>109150.0</td><td>&quot;3966736&quot;</td></tr><tr><td>&quot;mean&quot;</td><td>null</td><td>null</td><td>88.818611</td><td>-0.794072</td><td>5.87089</td><td>null</td><td>574976.493265</td><td>576669.223553</td><td>null</td><td>null</td><td>null</td><td>null</td><td>null</td><td>null</td><td>9.135354</td><td>null</td><td>null</td><td>null</td><td>null</td><td>null</td><td>null</td><td>null</td><td>5.099403</td><td>null</td><td>0.875685</td><td>0.888428</td><td>2019.662273</td><td>-0.1256</td><td>0.659957</td><td>0.028184</td><td>2.268722</td><td>null</td><td>576965.490444</td><td>575030.310035</td><td>0.980981</td><td>4.972649</td><td>&hellip;</td><td>null</td><td>2.217821</td><td>2.345243</td><td>2.260605</td><td>2.30246</td><td>2.360545</td><td>2.233472</td><td>2.291558</td><td>2.30246</td><td>null</td><td>null</td><td>null</td><td>0.000119</td><td>0.000153</td><td>null</td><td>null</td><td>0.538301</td><td>-0.000153</td><td>91.871477</td><td>-0.127421</td><td>-0.041855</td><td>0.507397</td><td>0.512792</td><td>28.465462</td><td>28.156035</td><td>28.987337</td><td>28.686384</td><td>1.501293</td><td>1.511376</td><td>5.78556</td><td>1.760745</td><td>5.894725</td><td>1.751865</td><td>2.297374</td><td>0.37995</td><td>-0.114555</td><td>null</td></tr><tr><td>&quot;std&quot;</td><td>null</td><td>null</td><td>6.045516</td><td>1.895088</td><td>0.521777</td><td>null</td><td>85045.963225</td><td>81530.29897</td><td>null</td><td>null</td><td>null</td><td>null</td><td>null</td><td>null</td><td>4.200453</td><td>null</td><td>null</td><td>null</td><td>null</td><td>null</td><td>null</td><td>null</td><td>2.629854</td><td>null</td><td>0.966907</td><td>0.827298</td><td>3.030657</td><td>0.885069</td><td>0.744212</td><td>0.864016</td><td>0.96176</td><td>null</td><td>84393.062952</td><td>85087.343621</td><td>0.817775</td><td>2.632589</td><td>&hellip;</td><td>null</td><td>2.585731</td><td>2.641706</td><td>2.568755</td><td>2.659578</td><td>2.647744</td><td>2.592628</td><td>2.582039</td><td>2.659578</td><td>null</td><td>null</td><td>null</td><td>0.02818</td><td>0.227944</td><td>null</td><td>null</td><td>0.694873</td><td>0.227944</td><td>6.119469</td><td>3.194062</td><td>3.196329</td><td>0.297828</td><td>0.297645</td><td>3.728267</td><td>3.74076</td><td>3.737024</td><td>3.760626</td><td>0.729595</td><td>1.271999</td><td>7.433152</td><td>4.02215</td><td>7.764328</td><td>4.021524</td><td>1.112524</td><td>0.809173</td><td>0.886566</td><td>null</td></tr><tr><td>&quot;min&quot;</td><td>&quot;AB&quot;</td><td>&quot;2015-04-05&quot;</td><td>30.1</td><td>-10.4</td><td>-3.19</td><td>&quot;Aardsma, David&quot;</td><td>112526.0</td><td>112526.0</td><td>&quot;catcher_interf&quot;</td><td>&quot;ball&quot;</td><td>null</td><td>null</td><td>null</td><td>null</td><td>1.0</td><td>&quot;A Diaz reaches, reaches 1st on…</td><td>&quot;A&quot;</td><td>&quot;L&quot;</td><td>&quot;L&quot;</td><td>&quot;ABQ&quot;</td><td>&quot;AL&quot;</td><td>&quot;B&quot;</td><td>1.0</td><td>&quot;fly_ball&quot;</td><td>0.0</td><td>0.0</td><td>2015.0</td><td>-3.0</td><td>-2.79</td><td>-65.16</td><td>-45.11</td><td>&quot;112526&quot;</td><td>112526.0</td><td>112526.0</td><td>0.0</td><td>1.0</td><td>&hellip;</td><td>&quot;2-Seam Fastball&quot;</td><td>0.0</td><td>0.0</td><td>0.0</td><td>0.0</td><td>0.0</td><td>0.0</td><td>0.0</td><td>0.0</td><td>&quot;Infield shade&quot;</td><td>&quot;4th outfielder&quot;</td><td>&quot;0&quot;</td><td>-0.776</td><td>-0.646</td><td>&quot;0.9&quot;</td><td>&quot;0.3&quot;</td><td>0.0</td><td>-2.712</td><td>88.0</td><td>-25.0</td><td>-25.0</td><td>0.0</td><td>0.0</td><td>17.0</td><td>17.0</td><td>17.0</td><td>18.0</td><td>1.0</td><td>0.0</td><td>0.0</td><td>0.0</td><td>0.0</td><td>0.0</td><td>-0.62</td><td>-2.95</td><td>-3.0</td><td>&quot;-0.1&quot;</td></tr><tr><td>&quot;25%&quot;</td><td>null</td><td>null</td><td>84.6</td><td>-2.14</td><td>5.6</td><td>null</td><td>518692.0</td><td>518886.0</td><td>null</td><td>null</td><td>null</td><td>null</td><td>null</td><td>null</td><td>5.0</td><td>null</td><td>null</td><td>null</td><td>null</td><td>null</td><td>null</td><td>null</td><td>2.0</td><td>null</td><td>0.0</td><td>0.0</td><td>2017.0</td><td>-0.88</td><td>0.21</td><td>-0.55</td><td>1.65</td><td>null</td><td>518792.0</td><td>518649.0</td><td>0.0</td><td>3.0</td><td>&hellip;</td><td>null</td><td>0.0</td><td>0.0</td><td>0.0</td><td>0.0</td><td>0.0</td><td>0.0</td><td>0.0</td><td>0.0</td><td>null</td><td>null</td><td>null</td><td>0.0</td><td>-0.064</td><td>null</td><td>null</td><td>0.091</td><td>-0.04</td><td>88.0</td><td>-2.0</td><td>-2.0</td><td>0.273</td><td>0.279</td><td>26.0</td><td>25.0</td><td>26.0</td><td>26.0</td><td>1.0</td><td>0.0</td><td>3.0</td><td>1.0</td><td>3.0</td><td>1.0</td><td>1.39</td><td>-0.26</td><td>-0.86</td><td>null</td></tr><tr><td>&quot;50%&quot;</td><td>null</td><td>null</td><td>89.9</td><td>-1.5</td><td>5.91</td><td>null</td><td>593428.0</td><td>594798.0</td><td>null</td><td>null</td><td>null</td><td>null</td><td>null</td><td>null</td><td>11.0</td><td>null</td><td>null</td><td>null</td><td>null</td><td>null</td><td>null</td><td>null</td><td>5.0</td><td>null</td><td>1.0</td><td>1.0</td><td>2019.0</td><td>-0.21</td><td>0.77</td><td>0.03</td><td>2.27</td><td>null</td><td>594694.0</td><td>593428.0</td><td>1.0</td><td>5.0</td><td>&hellip;</td><td>null</td><td>1.0</td><td>2.0</td><td>1.0</td><td>1.0</td><td>2.0</td><td>1.0</td><td>2.0</td><td>1.0</td><td>null</td><td>null</td><td>null</td><td>0.0</td><td>-0.036</td><td>null</td><td>null</td><td>0.294</td><td>0.036</td><td>88.0</td><td>0.0</td><td>0.0</td><td>0.522</td><td>0.513</td><td>28.0</td><td>28.0</td><td>28.0</td><td>28.0</td><td>1.0</td><td>1.0</td><td>5.0</td><td>1.0</td><td>5.0</td><td>1.0</td><td>2.08</td><td>0.54</td><td>-0.21</td><td>null</td></tr><tr><td>&quot;75%&quot;</td><td>null</td><td>null</td><td>93.6</td><td>0.96</td><td>6.2</td><td>null</td><td>645277.0</td><td>642545.0</td><td>null</td><td>null</td><td>null</td><td>null</td><td>null</td><td>null</td><td>13.0</td><td>null</td><td>null</td><td>null</td><td>null</td><td>null</td><td>null</td><td>null</td><td>8.0</td><td>null</td><td>1.0</td><td>2.0</td><td>2022.0</td><td>0.59</td><td>1.26</td><td>0.61</td><td>2.9</td><td>null</td><td>649557.0</td><td>646240.0</td><td>2.0</td><td>7.0</td><td>&hellip;</td><td>null</td><td>3.0</td><td>4.0</td><td>3.0</td><td>4.0</td><td>4.0</td><td>3.0</td><td>4.0</td><td>4.0</td><td>null</td><td>null</td><td>null</td><td>0.0</td><td>0.04</td><td>null</td><td>null</td><td>0.732</td><td>0.064</td><td>94.9</td><td>1.0</td><td>1.0</td><td>0.745</td><td>0.748</td><td>31.0</td><td>31.0</td><td>31.0</td><td>31.0</td><td>2.0</td><td>3.0</td><td>6.0</td><td>2.0</td><td>6.0</td><td>2.0</td><td>2.95</td><td>1.04</td><td>0.63</td><td>null</td></tr><tr><td>&quot;max&quot;</td><td>&quot;SV&quot;</td><td>&quot;2025-04-29&quot;</td><td>105.7</td><td>18.0</td><td>10.54</td><td>&quot;Álvarez, Dario&quot;</td><td>828599.0</td><td>829272.0</td><td>&quot;walk&quot;</td><td>&quot;swinging_strike_blocked&quot;</td><td>null</td><td>null</td><td>null</td><td>null</td><td>14.0</td><td>&quot;Óscar Mercado walks. Dante Nor…</td><td>&quot;W&quot;</td><td>&quot;R&quot;</td><td>&quot;R&quot;</td><td>&quot;WSH&quot;</td><td>&quot;WSH&quot;</td><td>&quot;X&quot;</td><td>9.0</td><td>&quot;popup&quot;</td><td>4.0</td><td>3.0</td><td>2025.0</td><td>2.93</td><td>2.99</td><td>11.3</td><td>13.58</td><td>&quot;828335&quot;</td><td>828599.0</td><td>828599.0</td><td>2.0</td><td>19.0</td><td>&hellip;</td><td>&quot;Sweeper&quot;</td><td>29.0</td><td>29.0</td><td>29.0</td><td>29.0</td><td>29.0</td><td>29.0</td><td>29.0</td><td>29.0</td><td>&quot;Strategic&quot;</td><td>&quot;Strategic&quot;</td><td>&quot;99&quot;</td><td>0.911</td><td>2.712</td><td>&quot;9.9&quot;</td><td>&quot;9.9&quot;</td><td>4.0</td><td>0.646</td><td>263.1</td><td>24.0</td><td>25.0</td><td>1.0</td><td>1.0</td><td>45.0</td><td>45.0</td><td>45.0</td><td>46.0</td><td>4.0</td><td>9.0</td><td>180.0</td><td>201.0</td><td>180.0</td><td>201.0</td><td>27.68</td><td>3.0</td><td>2.98</td><td>&quot;92.2&quot;</td></tr></tbody></table></div>"
      ],
      "text/plain": [
       "shape: (9, 114)\n",
       "┌───────────┬───────────┬───────────┬───────────┬───┬───────────┬───────────┬───────────┬──────────┐\n",
       "│ statistic ┆ pitch_typ ┆ game_date ┆ release_s ┆ … ┆ api_break ┆ api_break ┆ api_break ┆ arm_angl │\n",
       "│ ---       ┆ e         ┆ ---       ┆ peed      ┆   ┆ _z_with_g ┆ _x_arm    ┆ _x_batter ┆ e        │\n",
       "│ str       ┆ ---       ┆ str       ┆ ---       ┆   ┆ ravity    ┆ ---       ┆ _in       ┆ ---      │\n",
       "│           ┆ str       ┆           ┆ f64       ┆   ┆ ---       ┆ f64       ┆ ---       ┆ str      │\n",
       "│           ┆           ┆           ┆           ┆   ┆ f64       ┆           ┆ f64       ┆          │\n",
       "╞═══════════╪═══════════╪═══════════╪═══════════╪═══╪═══════════╪═══════════╪═══════════╪══════════╡\n",
       "│ count     ┆ 7066774   ┆ 7175689   ┆ 7.067625e ┆ … ┆ 7.066867e ┆ 7.066539e ┆ 7.066539e ┆ 3208953  │\n",
       "│           ┆           ┆           ┆ 6         ┆   ┆ 6         ┆ 6         ┆ 6         ┆          │\n",
       "│ null_coun ┆ 108915    ┆ 0         ┆ 108064.0  ┆ … ┆ 108822.0  ┆ 109150.0  ┆ 109150.0  ┆ 3966736  │\n",
       "│ t         ┆           ┆           ┆           ┆   ┆           ┆           ┆           ┆          │\n",
       "│ mean      ┆ null      ┆ null      ┆ 88.818611 ┆ … ┆ 2.297374  ┆ 0.37995   ┆ -0.114555 ┆ null     │\n",
       "│ std       ┆ null      ┆ null      ┆ 6.045516  ┆ … ┆ 1.112524  ┆ 0.809173  ┆ 0.886566  ┆ null     │\n",
       "│ min       ┆ AB        ┆ 2015-04-0 ┆ 30.1      ┆ … ┆ -0.62     ┆ -2.95     ┆ -3.0      ┆ -0.1     │\n",
       "│           ┆           ┆ 5         ┆           ┆   ┆           ┆           ┆           ┆          │\n",
       "│ 25%       ┆ null      ┆ null      ┆ 84.6      ┆ … ┆ 1.39      ┆ -0.26     ┆ -0.86     ┆ null     │\n",
       "│ 50%       ┆ null      ┆ null      ┆ 89.9      ┆ … ┆ 2.08      ┆ 0.54      ┆ -0.21     ┆ null     │\n",
       "│ 75%       ┆ null      ┆ null      ┆ 93.6      ┆ … ┆ 2.95      ┆ 1.04      ┆ 0.63      ┆ null     │\n",
       "│ max       ┆ SV        ┆ 2025-04-2 ┆ 105.7     ┆ … ┆ 27.68     ┆ 3.0       ┆ 2.98      ┆ 92.2     │\n",
       "│           ┆           ┆ 9         ┆           ┆   ┆           ┆           ┆           ┆          │\n",
       "└───────────┴───────────┴───────────┴───────────┴───┴───────────┴───────────┴───────────┴──────────┘"
      ]
     },
     "execution_count": 25,
     "metadata": {},
     "output_type": "execute_result"
    }
   ],
   "source": [
    "df.describe()"
   ]
  },
  {
   "cell_type": "markdown",
   "id": "5769c70d",
   "metadata": {},
   "source": [
    "## Drop Irrelevant Columns"
   ]
  },
  {
   "cell_type": "code",
   "execution_count": 26,
   "id": "f00044e7",
   "metadata": {},
   "outputs": [],
   "source": [
    "feature_cols = [\n",
    "    \"pitch_type\",\n",
    "    \"game_date\",\n",
    "    \"release_speed\",\n",
    "    \"release_pos_x\",\n",
    "    \"release_pos_z\",\n",
    "    \"zone\",\n",
    "    \"stand\",\n",
    "    \"p_throws\",\n",
    "    \"balls\",\n",
    "    \"strikes\",\n",
    "    \"pfx_x\",\n",
    "    \"pfx_z\",\n",
    "    \"plate_x\",\n",
    "    \"plate_z\",\n",
    "    \"on_3b\",\n",
    "    \"pitcher\",\n",
    "    \"on_2b\",\n",
    "    \"on_1b\",\n",
    "    \"outs_when_up\",\n",
    "    \"inning\",\n",
    "    \"inning_topbot\",\n",
    "    \"vx0\",\n",
    "    \"vy0\",\n",
    "    \"vz0\",\n",
    "    \"ax\",\n",
    "    \"ay\",\n",
    "    \"az\",\n",
    "    \"sz_top\",\n",
    "    \"sz_bot\",\n",
    "    \"release_spin_rate\",\n",
    "    \"release_extension\",\n",
    "    \"release_pos_y\",\n",
    "    \"at_bat_number\",\n",
    "    \"pitch_number\",\n",
    "    \"bat_score\",\n",
    "    \"fld_score\",\n",
    "    \"if_fielding_alignment\",\n",
    "    \"of_fielding_alignment\",\n",
    "    \"spin_axis\",\n",
    "    \"n_thruorder_pitcher\",\n",
    "    \"n_priorpa_thisgame_player_at_bat\",\n",
    "    \"api_break_z_with_gravity\",\n",
    "    \"api_break_x_arm\",\n",
    "    \"api_break_x_batter_in\",\n",
    "]"
   ]
  },
  {
   "cell_type": "code",
   "execution_count": 27,
   "id": "c3be0a60",
   "metadata": {},
   "outputs": [],
   "source": [
    "df = df.select(feature_cols)"
   ]
  },
  {
   "cell_type": "code",
   "execution_count": 28,
   "id": "67dda74e",
   "metadata": {},
   "outputs": [
    {
     "data": {
      "text/html": [
       "<div><style>\n",
       ".dataframe > thead > tr,\n",
       ".dataframe > tbody > tr {\n",
       "  text-align: right;\n",
       "  white-space: pre-wrap;\n",
       "}\n",
       "</style>\n",
       "<small>shape: (7_175_689, 44)</small><table border=\"1\" class=\"dataframe\"><thead><tr><th>pitch_type</th><th>game_date</th><th>release_speed</th><th>release_pos_x</th><th>release_pos_z</th><th>zone</th><th>stand</th><th>p_throws</th><th>balls</th><th>strikes</th><th>pfx_x</th><th>pfx_z</th><th>plate_x</th><th>plate_z</th><th>on_3b</th><th>pitcher</th><th>on_2b</th><th>on_1b</th><th>outs_when_up</th><th>inning</th><th>inning_topbot</th><th>vx0</th><th>vy0</th><th>vz0</th><th>ax</th><th>ay</th><th>az</th><th>sz_top</th><th>sz_bot</th><th>release_spin_rate</th><th>release_extension</th><th>release_pos_y</th><th>at_bat_number</th><th>pitch_number</th><th>bat_score</th><th>fld_score</th><th>if_fielding_alignment</th><th>of_fielding_alignment</th><th>spin_axis</th><th>n_thruorder_pitcher</th><th>n_priorpa_thisgame_player_at_bat</th><th>api_break_z_with_gravity</th><th>api_break_x_arm</th><th>api_break_x_batter_in</th></tr><tr><td>str</td><td>str</td><td>f64</td><td>f64</td><td>f64</td><td>i64</td><td>str</td><td>str</td><td>i64</td><td>i64</td><td>f64</td><td>f64</td><td>f64</td><td>f64</td><td>str</td><td>i64</td><td>i64</td><td>i64</td><td>i64</td><td>i64</td><td>str</td><td>f64</td><td>f64</td><td>f64</td><td>f64</td><td>f64</td><td>f64</td><td>f64</td><td>f64</td><td>i64</td><td>f64</td><td>f64</td><td>i64</td><td>i64</td><td>i64</td><td>i64</td><td>str</td><td>str</td><td>str</td><td>i64</td><td>i64</td><td>f64</td><td>f64</td><td>f64</td></tr></thead><tbody><tr><td>&quot;FC&quot;</td><td>&quot;2015-10-23&quot;</td><td>89.2</td><td>3.35</td><td>5.81</td><td>4</td><td>&quot;L&quot;</td><td>&quot;L&quot;</td><td>2</td><td>1</td><td>0.03</td><td>0.65</td><td>-0.34</td><td>2.39</td><td>null</td><td>456034</td><td>null</td><td>519058</td><td>1</td><td>7</td><td>&quot;Bot&quot;</td><td>-9.129562</td><td>-130.450214</td><td>-2.866036</td><td>2.154</td><td>26.035</td><td>-24.41</td><td>3.32</td><td>1.55</td><td>2156</td><td>5.6</td><td>54.5</td><td>53</td><td>4</td><td>2</td><td>1</td><td>&quot;Standard&quot;</td><td>&quot;Standard&quot;</td><td>null</td><td>3</td><td>2</td><td>2.26</td><td>0.03</td><td>0.03</td></tr><tr><td>&quot;FC&quot;</td><td>&quot;2015-10-23&quot;</td><td>89.1</td><td>3.33</td><td>5.82</td><td>4</td><td>&quot;L&quot;</td><td>&quot;L&quot;</td><td>2</td><td>0</td><td>0.03</td><td>0.62</td><td>-0.47</td><td>2.36</td><td>null</td><td>456034</td><td>null</td><td>519058</td><td>1</td><td>7</td><td>&quot;Bot&quot;</td><td>-9.416346</td><td>-130.381559</td><td>-2.848387</td><td>2.377</td><td>28.016</td><td>-24.698</td><td>3.27</td><td>1.45</td><td>2177</td><td>5.6</td><td>54.5</td><td>53</td><td>3</td><td>2</td><td>1</td><td>&quot;Standard&quot;</td><td>&quot;Standard&quot;</td><td>null</td><td>3</td><td>2</td><td>2.3</td><td>0.03</td><td>0.03</td></tr><tr><td>&quot;FF&quot;</td><td>&quot;2015-10-23&quot;</td><td>95.3</td><td>3.2</td><td>5.97</td><td>12</td><td>&quot;L&quot;</td><td>&quot;L&quot;</td><td>1</td><td>0</td><td>1.09</td><td>1.3</td><td>1.46</td><td>3.15</td><td>null</td><td>456034</td><td>null</td><td>519058</td><td>1</td><td>7</td><td>&quot;Bot&quot;</td><td>-7.448159</td><td>-139.711351</td><td>-4.041018</td><td>15.464</td><td>35.845</td><td>-14.902</td><td>3.28</td><td>1.55</td><td>2144</td><td>5.6</td><td>54.5</td><td>53</td><td>2</td><td>2</td><td>1</td><td>&quot;Standard&quot;</td><td>&quot;Standard&quot;</td><td>null</td><td>3</td><td>2</td><td>1.28</td><td>1.09</td><td>1.09</td></tr><tr><td>&quot;FF&quot;</td><td>&quot;2015-10-23&quot;</td><td>94.3</td><td>3.06</td><td>6.06</td><td>13</td><td>&quot;L&quot;</td><td>&quot;L&quot;</td><td>0</td><td>0</td><td>0.84</td><td>1.47</td><td>-0.98</td><td>1.27</td><td>null</td><td>456034</td><td>null</td><td>519058</td><td>1</td><td>7</td><td>&quot;Bot&quot;</td><td>-12.614534</td><td>-137.527173</td><td>-9.313284</td><td>13.345</td><td>35.792</td><td>-12.042</td><td>3.25</td><td>1.4</td><td>2324</td><td>5.9</td><td>54.5</td><td>53</td><td>1</td><td>2</td><td>1</td><td>&quot;Standard&quot;</td><td>&quot;Standard&quot;</td><td>null</td><td>3</td><td>2</td><td>1.2</td><td>0.84</td><td>0.84</td></tr><tr><td>&quot;CH&quot;</td><td>&quot;2015-10-23&quot;</td><td>87.4</td><td>3.34</td><td>6.2</td><td>14</td><td>&quot;R&quot;</td><td>&quot;L&quot;</td><td>1</td><td>2</td><td>1.58</td><td>0.74</td><td>1.0</td><td>2.36</td><td>null</td><td>456034</td><td>null</td><td>519058</td><td>0</td><td>7</td><td>&quot;Bot&quot;</td><td>-9.455658</td><td>-127.939985</td><td>-3.675342</td><td>18.738</td><td>28.376</td><td>-23.609</td><td>3.6</td><td>1.56</td><td>2005</td><td>5.4</td><td>54.5</td><td>52</td><td>5</td><td>2</td><td>1</td><td>&quot;Standard&quot;</td><td>&quot;Standard&quot;</td><td>null</td><td>3</td><td>2</td><td>2.32</td><td>1.58</td><td>-1.58</td></tr><tr><td>&hellip;</td><td>&hellip;</td><td>&hellip;</td><td>&hellip;</td><td>&hellip;</td><td>&hellip;</td><td>&hellip;</td><td>&hellip;</td><td>&hellip;</td><td>&hellip;</td><td>&hellip;</td><td>&hellip;</td><td>&hellip;</td><td>&hellip;</td><td>&hellip;</td><td>&hellip;</td><td>&hellip;</td><td>&hellip;</td><td>&hellip;</td><td>&hellip;</td><td>&hellip;</td><td>&hellip;</td><td>&hellip;</td><td>&hellip;</td><td>&hellip;</td><td>&hellip;</td><td>&hellip;</td><td>&hellip;</td><td>&hellip;</td><td>&hellip;</td><td>&hellip;</td><td>&hellip;</td><td>&hellip;</td><td>&hellip;</td><td>&hellip;</td><td>&hellip;</td><td>&hellip;</td><td>&hellip;</td><td>&hellip;</td><td>&hellip;</td><td>&hellip;</td><td>&hellip;</td><td>&hellip;</td><td>&hellip;</td></tr><tr><td>&quot;FS&quot;</td><td>&quot;2024-04-29&quot;</td><td>84.4</td><td>-1.69</td><td>6.03</td><td>11</td><td>&quot;L&quot;</td><td>&quot;R&quot;</td><td>0</td><td>0</td><td>-0.77</td><td>0.74</td><td>-1.27</td><td>3.91</td><td>&quot;669257&quot;</td><td>543518</td><td>606192</td><td>null</td><td>1</td><td>5</td><td>&quot;Top&quot;</td><td>2.48099</td><td>-123.016579</td><td>-0.109693</td><td>-8.356577</td><td>22.561251</td><td>-24.819565</td><td>3.07</td><td>1.57</td><td>1024</td><td>5.7</td><td>54.78</td><td>42</td><td>1</td><td>4</td><td>1</td><td>null</td><td>null</td><td>&quot;217&quot;</td><td>1</td><td>2</td><td>2.43</td><td>0.77</td><td>-0.77</td></tr><tr><td>&quot;ST&quot;</td><td>&quot;2024-04-29&quot;</td><td>85.9</td><td>-2.61</td><td>5.19</td><td>13</td><td>&quot;L&quot;</td><td>&quot;R&quot;</td><td>0</td><td>0</td><td>1.17</td><td>-0.12</td><td>-1.62</td><td>2.26</td><td>null</td><td>623465</td><td>null</td><td>null</td><td>0</td><td>9</td><td>&quot;Bot&quot;</td><td>0.00179</td><td>-125.197305</td><td>-0.480131</td><td>12.263628</td><td>25.217824</td><td>-33.551627</td><td>3.43</td><td>1.71</td><td>2672</td><td>6.1</td><td>54.38</td><td>81</td><td>1</td><td>4</td><td>8</td><td>&quot;Infield shade&quot;</td><td>&quot;Standard&quot;</td><td>&quot;70&quot;</td><td>1</td><td>0</td><td>3.2</td><td>-1.17</td><td>1.17</td></tr><tr><td>&quot;SI&quot;</td><td>&quot;2024-04-29&quot;</td><td>97.5</td><td>-1.94</td><td>5.55</td><td>11</td><td>&quot;R&quot;</td><td>&quot;R&quot;</td><td>0</td><td>0</td><td>-1.27</td><td>0.47</td><td>-0.96</td><td>2.99</td><td>null</td><td>592779</td><td>null</td><td>null</td><td>0</td><td>7</td><td>&quot;Bot&quot;</td><td>5.53901</td><td>-141.976211</td><td>-2.527562</td><td>-18.41251</td><td>29.601761</td><td>-25.387535</td><td>3.38</td><td>1.6</td><td>2340</td><td>6.4</td><td>54.13</td><td>51</td><td>1</td><td>2</td><td>2</td><td>&quot;Standard&quot;</td><td>&quot;Standard&quot;</td><td>&quot;226&quot;</td><td>1</td><td>2</td><td>1.9</td><td>1.27</td><td>1.27</td></tr><tr><td>&quot;SI&quot;</td><td>&quot;2024-04-29&quot;</td><td>96.3</td><td>-1.09</td><td>6.55</td><td>11</td><td>&quot;L&quot;</td><td>&quot;R&quot;</td><td>0</td><td>0</td><td>-1.06</td><td>-0.01</td><td>-1.08</td><td>2.91</td><td>&quot;683002&quot;</td><td>605280</td><td>null</td><td>668939</td><td>2</td><td>8</td><td>&quot;Bot&quot;</td><td>2.40406</td><td>-140.169958</td><td>-4.047463</td><td>-14.483114</td><td>32.245564</td><td>-31.550711</td><td>3.38</td><td>1.58</td><td>2079</td><td>5.8</td><td>54.69</td><td>64</td><td>1</td><td>1</td><td>0</td><td>&quot;Standard&quot;</td><td>&quot;Standard&quot;</td><td>&quot;230&quot;</td><td>1</td><td>3</td><td>2.47</td><td>1.06</td><td>-1.06</td></tr><tr><td>&quot;FF&quot;</td><td>&quot;2024-04-29&quot;</td><td>91.4</td><td>2.04</td><td>6.47</td><td>11</td><td>&quot;R&quot;</td><td>&quot;L&quot;</td><td>0</td><td>0</td><td>0.54</td><td>1.45</td><td>-0.13</td><td>3.75</td><td>null</td><td>572020</td><td>null</td><td>null</td><td>0</td><td>1</td><td>&quot;Bot&quot;</td><td>-6.612276</td><td>-132.968522</td><td>-4.126302</td><td>7.762719</td><td>26.267953</td><td>-14.225449</td><td>3.14</td><td>1.53</td><td>2025</td><td>6.2</td><td>54.32</td><td>5</td><td>1</td><td>0</td><td>0</td><td>&quot;Standard&quot;</td><td>&quot;Standard&quot;</td><td>&quot;147&quot;</td><td>1</td><td>0</td><td>1.26</td><td>0.54</td><td>-0.54</td></tr></tbody></table></div>"
      ],
      "text/plain": [
       "shape: (7_175_689, 44)\n",
       "┌───────────┬───────────┬───────────┬───────────┬───┬───────────┬───────────┬───────────┬──────────┐\n",
       "│ pitch_typ ┆ game_date ┆ release_s ┆ release_p ┆ … ┆ n_priorpa ┆ api_break ┆ api_break ┆ api_brea │\n",
       "│ e         ┆ ---       ┆ peed      ┆ os_x      ┆   ┆ _thisgame ┆ _z_with_g ┆ _x_arm    ┆ k_x_batt │\n",
       "│ ---       ┆ str       ┆ ---       ┆ ---       ┆   ┆ _player_a ┆ ravity    ┆ ---       ┆ er_in    │\n",
       "│ str       ┆           ┆ f64       ┆ f64       ┆   ┆ t_b…      ┆ ---       ┆ f64       ┆ ---      │\n",
       "│           ┆           ┆           ┆           ┆   ┆ ---       ┆ f64       ┆           ┆ f64      │\n",
       "│           ┆           ┆           ┆           ┆   ┆ i64       ┆           ┆           ┆          │\n",
       "╞═══════════╪═══════════╪═══════════╪═══════════╪═══╪═══════════╪═══════════╪═══════════╪══════════╡\n",
       "│ FC        ┆ 2015-10-2 ┆ 89.2      ┆ 3.35      ┆ … ┆ 2         ┆ 2.26      ┆ 0.03      ┆ 0.03     │\n",
       "│           ┆ 3         ┆           ┆           ┆   ┆           ┆           ┆           ┆          │\n",
       "│ FC        ┆ 2015-10-2 ┆ 89.1      ┆ 3.33      ┆ … ┆ 2         ┆ 2.3       ┆ 0.03      ┆ 0.03     │\n",
       "│           ┆ 3         ┆           ┆           ┆   ┆           ┆           ┆           ┆          │\n",
       "│ FF        ┆ 2015-10-2 ┆ 95.3      ┆ 3.2       ┆ … ┆ 2         ┆ 1.28      ┆ 1.09      ┆ 1.09     │\n",
       "│           ┆ 3         ┆           ┆           ┆   ┆           ┆           ┆           ┆          │\n",
       "│ FF        ┆ 2015-10-2 ┆ 94.3      ┆ 3.06      ┆ … ┆ 2         ┆ 1.2       ┆ 0.84      ┆ 0.84     │\n",
       "│           ┆ 3         ┆           ┆           ┆   ┆           ┆           ┆           ┆          │\n",
       "│ CH        ┆ 2015-10-2 ┆ 87.4      ┆ 3.34      ┆ … ┆ 2         ┆ 2.32      ┆ 1.58      ┆ -1.58    │\n",
       "│           ┆ 3         ┆           ┆           ┆   ┆           ┆           ┆           ┆          │\n",
       "│ …         ┆ …         ┆ …         ┆ …         ┆ … ┆ …         ┆ …         ┆ …         ┆ …        │\n",
       "│ FS        ┆ 2024-04-2 ┆ 84.4      ┆ -1.69     ┆ … ┆ 2         ┆ 2.43      ┆ 0.77      ┆ -0.77    │\n",
       "│           ┆ 9         ┆           ┆           ┆   ┆           ┆           ┆           ┆          │\n",
       "│ ST        ┆ 2024-04-2 ┆ 85.9      ┆ -2.61     ┆ … ┆ 0         ┆ 3.2       ┆ -1.17     ┆ 1.17     │\n",
       "│           ┆ 9         ┆           ┆           ┆   ┆           ┆           ┆           ┆          │\n",
       "│ SI        ┆ 2024-04-2 ┆ 97.5      ┆ -1.94     ┆ … ┆ 2         ┆ 1.9       ┆ 1.27      ┆ 1.27     │\n",
       "│           ┆ 9         ┆           ┆           ┆   ┆           ┆           ┆           ┆          │\n",
       "│ SI        ┆ 2024-04-2 ┆ 96.3      ┆ -1.09     ┆ … ┆ 3         ┆ 2.47      ┆ 1.06      ┆ -1.06    │\n",
       "│           ┆ 9         ┆           ┆           ┆   ┆           ┆           ┆           ┆          │\n",
       "│ FF        ┆ 2024-04-2 ┆ 91.4      ┆ 2.04      ┆ … ┆ 0         ┆ 1.26      ┆ 0.54      ┆ -0.54    │\n",
       "│           ┆ 9         ┆           ┆           ┆   ┆           ┆           ┆           ┆          │\n",
       "└───────────┴───────────┴───────────┴───────────┴───┴───────────┴───────────┴───────────┴──────────┘"
      ]
     },
     "execution_count": 28,
     "metadata": {},
     "output_type": "execute_result"
    }
   ],
   "source": [
    "df"
   ]
  },
  {
   "cell_type": "code",
   "execution_count": 29,
   "id": "f9a39227",
   "metadata": {},
   "outputs": [
    {
     "data": {
      "text/html": [
       "<div><style>\n",
       ".dataframe > thead > tr,\n",
       ".dataframe > tbody > tr {\n",
       "  text-align: right;\n",
       "  white-space: pre-wrap;\n",
       "}\n",
       "</style>\n",
       "<small>shape: (9, 45)</small><table border=\"1\" class=\"dataframe\"><thead><tr><th>statistic</th><th>pitch_type</th><th>game_date</th><th>release_speed</th><th>release_pos_x</th><th>release_pos_z</th><th>zone</th><th>stand</th><th>p_throws</th><th>balls</th><th>strikes</th><th>pfx_x</th><th>pfx_z</th><th>plate_x</th><th>plate_z</th><th>on_3b</th><th>pitcher</th><th>on_2b</th><th>on_1b</th><th>outs_when_up</th><th>inning</th><th>inning_topbot</th><th>vx0</th><th>vy0</th><th>vz0</th><th>ax</th><th>ay</th><th>az</th><th>sz_top</th><th>sz_bot</th><th>release_spin_rate</th><th>release_extension</th><th>release_pos_y</th><th>at_bat_number</th><th>pitch_number</th><th>bat_score</th><th>fld_score</th><th>if_fielding_alignment</th><th>of_fielding_alignment</th><th>spin_axis</th><th>n_thruorder_pitcher</th><th>n_priorpa_thisgame_player_at_bat</th><th>api_break_z_with_gravity</th><th>api_break_x_arm</th><th>api_break_x_batter_in</th></tr><tr><td>str</td><td>str</td><td>str</td><td>f64</td><td>f64</td><td>f64</td><td>f64</td><td>str</td><td>str</td><td>f64</td><td>f64</td><td>f64</td><td>f64</td><td>f64</td><td>f64</td><td>str</td><td>f64</td><td>f64</td><td>f64</td><td>f64</td><td>f64</td><td>str</td><td>f64</td><td>f64</td><td>f64</td><td>f64</td><td>f64</td><td>f64</td><td>f64</td><td>f64</td><td>f64</td><td>f64</td><td>f64</td><td>f64</td><td>f64</td><td>f64</td><td>f64</td><td>str</td><td>str</td><td>str</td><td>f64</td><td>f64</td><td>f64</td><td>f64</td><td>f64</td></tr></thead><tbody><tr><td>&quot;count&quot;</td><td>&quot;7066774&quot;</td><td>&quot;7175689&quot;</td><td>7.067625e6</td><td>7.066736e6</td><td>7.066736e6</td><td>7.066951e6</td><td>&quot;7175689&quot;</td><td>&quot;7175689&quot;</td><td>7.175689e6</td><td>7.175689e6</td><td>7.066539e6</td><td>7.066881e6</td><td>7.066951e6</td><td>7.066951e6</td><td>&quot;676600&quot;</td><td>7.175689e6</td><td>1.337688e6</td><td>2.188376e6</td><td>7.175689e6</td><td>7.175689e6</td><td>&quot;7175689&quot;</td><td>7.066946e6</td><td>7.066946e6</td><td>7.066946e6</td><td>7.066951e6</td><td>7.066951e6</td><td>7.066951e6</td><td>7.066951e6</td><td>7.066951e6</td><td>6.905162e6</td><td>7.035211e6</td><td>7.066736e6</td><td>7.175689e6</td><td>7.175689e6</td><td>7.175689e6</td><td>7.175689e6</td><td>&quot;6980225&quot;</td><td>&quot;6980225&quot;</td><td>&quot;6327525&quot;</td><td>7.175689e6</td><td>7.175689e6</td><td>7.066867e6</td><td>7.066539e6</td><td>7.066539e6</td></tr><tr><td>&quot;null_count&quot;</td><td>&quot;108915&quot;</td><td>&quot;0&quot;</td><td>108064.0</td><td>108953.0</td><td>108953.0</td><td>108738.0</td><td>&quot;0&quot;</td><td>&quot;0&quot;</td><td>0.0</td><td>0.0</td><td>109150.0</td><td>108808.0</td><td>108738.0</td><td>108738.0</td><td>&quot;6499089&quot;</td><td>0.0</td><td>5.838001e6</td><td>4.987313e6</td><td>0.0</td><td>0.0</td><td>&quot;0&quot;</td><td>108743.0</td><td>108743.0</td><td>108743.0</td><td>108738.0</td><td>108738.0</td><td>108738.0</td><td>108738.0</td><td>108738.0</td><td>270527.0</td><td>140478.0</td><td>108953.0</td><td>0.0</td><td>0.0</td><td>0.0</td><td>0.0</td><td>&quot;195464&quot;</td><td>&quot;195464&quot;</td><td>&quot;848164&quot;</td><td>0.0</td><td>0.0</td><td>108822.0</td><td>109150.0</td><td>109150.0</td></tr><tr><td>&quot;mean&quot;</td><td>null</td><td>null</td><td>88.818611</td><td>-0.794072</td><td>5.87089</td><td>9.135354</td><td>null</td><td>null</td><td>0.875685</td><td>0.888428</td><td>-0.1256</td><td>0.659957</td><td>0.028184</td><td>2.268722</td><td>null</td><td>576669.223553</td><td>576965.490444</td><td>575030.310035</td><td>0.980981</td><td>4.972649</td><td>null</td><td>2.33975</td><td>-129.311709</td><td>-3.970717</td><td>-2.273868</td><td>26.607499</td><td>-23.351711</td><td>3.408227</td><td>1.585037</td><td>2227.788892</td><td>6.191608</td><td>54.31627</td><td>38.802387</td><td>2.89636</td><td>2.260605</td><td>2.30246</td><td>null</td><td>null</td><td>null</td><td>1.501293</td><td>1.511376</td><td>2.297374</td><td>0.37995</td><td>-0.114555</td></tr><tr><td>&quot;std&quot;</td><td>null</td><td>null</td><td>6.045516</td><td>1.895088</td><td>0.521777</td><td>4.200453</td><td>null</td><td>null</td><td>0.966907</td><td>0.827298</td><td>0.885069</td><td>0.744212</td><td>0.864016</td><td>0.96176</td><td>null</td><td>81530.29897</td><td>84393.062952</td><td>85087.343621</td><td>0.817775</td><td>2.632589</td><td>null</td><td>5.957128</td><td>8.767377</td><td>3.11357</td><td>10.699621</td><td>4.071957</td><td>8.880551</td><td>0.20112</td><td>0.122799</td><td>339.173909</td><td>0.519426</td><td>0.465051</td><td>22.828985</td><td>1.731852</td><td>2.568755</td><td>2.659578</td><td>null</td><td>null</td><td>null</td><td>0.729595</td><td>1.271999</td><td>1.112524</td><td>0.809173</td><td>0.886566</td></tr><tr><td>&quot;min&quot;</td><td>&quot;AB&quot;</td><td>&quot;2015-04-05&quot;</td><td>30.1</td><td>-10.4</td><td>-3.19</td><td>1.0</td><td>&quot;L&quot;</td><td>&quot;L&quot;</td><td>0.0</td><td>0.0</td><td>-3.0</td><td>-2.79</td><td>-65.16</td><td>-45.11</td><td>&quot;112526&quot;</td><td>112526.0</td><td>112526.0</td><td>112526.0</td><td>0.0</td><td>1.0</td><td>&quot;Bot&quot;</td><td>-94.025157</td><td>-154.519209</td><td>-70.284635</td><td>-193.953173</td><td>-337.555603</td><td>-124.677778</td><td>2.5</td><td>0.75</td><td>2.0</td><td>-0.2</td><td>28.58</td><td>1.0</td><td>1.0</td><td>0.0</td><td>0.0</td><td>&quot;Infield shade&quot;</td><td>&quot;4th outfielder&quot;</td><td>&quot;0&quot;</td><td>1.0</td><td>0.0</td><td>-0.62</td><td>-2.95</td><td>-3.0</td></tr><tr><td>&quot;25%&quot;</td><td>null</td><td>null</td><td>84.6</td><td>-2.14</td><td>5.6</td><td>5.0</td><td>null</td><td>null</td><td>0.0</td><td>0.0</td><td>-0.88</td><td>0.21</td><td>-0.55</td><td>1.65</td><td>null</td><td>518886.0</td><td>518792.0</td><td>518649.0</td><td>0.0</td><td>3.0</td><td>null</td><td>-2.125868</td><td>-136.192123</td><td>-6.082576</td><td>-11.287</td><td>23.608588</td><td>-29.614546</td><td>3.28</td><td>1.51</td><td>2079.0</td><td>5.9</td><td>54.01</td><td>19.0</td><td>1.0</td><td>0.0</td><td>0.0</td><td>null</td><td>null</td><td>null</td><td>1.0</td><td>0.0</td><td>1.39</td><td>-0.26</td><td>-0.86</td></tr><tr><td>&quot;50%&quot;</td><td>null</td><td>null</td><td>89.9</td><td>-1.5</td><td>5.91</td><td>11.0</td><td>null</td><td>null</td><td>1.0</td><td>1.0</td><td>-0.21</td><td>0.77</td><td>0.03</td><td>2.27</td><td>null</td><td>594798.0</td><td>594694.0</td><td>593428.0</td><td>1.0</td><td>5.0</td><td>null</td><td>4.037758</td><td>-130.957888</td><td>-4.123383</td><td>-2.648876</td><td>26.53827</td><td>-22.741579</td><td>3.41</td><td>1.59</td><td>2257.0</td><td>6.2</td><td>54.42</td><td>38.0</td><td>3.0</td><td>1.0</td><td>1.0</td><td>null</td><td>null</td><td>null</td><td>1.0</td><td>1.0</td><td>2.08</td><td>0.54</td><td>-0.21</td></tr><tr><td>&quot;75%&quot;</td><td>null</td><td>null</td><td>93.6</td><td>0.96</td><td>6.2</td><td>13.0</td><td>null</td><td>null</td><td>1.0</td><td>2.0</td><td>0.59</td><td>1.26</td><td>0.61</td><td>2.9</td><td>null</td><td>642545.0</td><td>649557.0</td><td>646240.0</td><td>2.0</td><td>7.0</td><td>null</td><td>6.667063</td><td>-123.216916</td><td>-2.017794</td><td>5.978027</td><td>29.529336</td><td>-15.888339</td><td>3.54</td><td>1.66</td><td>2425.0</td><td>6.5</td><td>54.5</td><td>57.0</td><td>4.0</td><td>3.0</td><td>4.0</td><td>null</td><td>null</td><td>null</td><td>2.0</td><td>3.0</td><td>2.95</td><td>1.04</td><td>0.63</td></tr><tr><td>&quot;max&quot;</td><td>&quot;SV&quot;</td><td>&quot;2025-04-29&quot;</td><td>105.7</td><td>18.0</td><td>10.54</td><td>14.0</td><td>&quot;R&quot;</td><td>&quot;R&quot;</td><td>4.0</td><td>3.0</td><td>2.93</td><td>2.99</td><td>11.3</td><td>13.58</td><td>&quot;828335&quot;</td><td>829272.0</td><td>828599.0</td><td>828599.0</td><td>2.0</td><td>19.0</td><td>&quot;Top&quot;</td><td>25.626168</td><td>-40.422498</td><td>27.162277</td><td>40.978</td><td>100.050198</td><td>30.394558</td><td>4.5</td><td>2.5</td><td>3741.0</td><td>12.1</td><td>59.94</td><td>158.0</td><td>21.0</td><td>29.0</td><td>29.0</td><td>&quot;Strategic&quot;</td><td>&quot;Strategic&quot;</td><td>&quot;99&quot;</td><td>4.0</td><td>9.0</td><td>27.68</td><td>3.0</td><td>2.98</td></tr></tbody></table></div>"
      ],
      "text/plain": [
       "shape: (9, 45)\n",
       "┌───────────┬───────────┬───────────┬───────────┬───┬───────────┬───────────┬───────────┬──────────┐\n",
       "│ statistic ┆ pitch_typ ┆ game_date ┆ release_s ┆ … ┆ n_priorpa ┆ api_break ┆ api_break ┆ api_brea │\n",
       "│ ---       ┆ e         ┆ ---       ┆ peed      ┆   ┆ _thisgame ┆ _z_with_g ┆ _x_arm    ┆ k_x_batt │\n",
       "│ str       ┆ ---       ┆ str       ┆ ---       ┆   ┆ _player_a ┆ ravity    ┆ ---       ┆ er_in    │\n",
       "│           ┆ str       ┆           ┆ f64       ┆   ┆ t_b…      ┆ ---       ┆ f64       ┆ ---      │\n",
       "│           ┆           ┆           ┆           ┆   ┆ ---       ┆ f64       ┆           ┆ f64      │\n",
       "│           ┆           ┆           ┆           ┆   ┆ f64       ┆           ┆           ┆          │\n",
       "╞═══════════╪═══════════╪═══════════╪═══════════╪═══╪═══════════╪═══════════╪═══════════╪══════════╡\n",
       "│ count     ┆ 7066774   ┆ 7175689   ┆ 7.067625e ┆ … ┆ 7.175689e ┆ 7.066867e ┆ 7.066539e ┆ 7.066539 │\n",
       "│           ┆           ┆           ┆ 6         ┆   ┆ 6         ┆ 6         ┆ 6         ┆ e6       │\n",
       "│ null_coun ┆ 108915    ┆ 0         ┆ 108064.0  ┆ … ┆ 0.0       ┆ 108822.0  ┆ 109150.0  ┆ 109150.0 │\n",
       "│ t         ┆           ┆           ┆           ┆   ┆           ┆           ┆           ┆          │\n",
       "│ mean      ┆ null      ┆ null      ┆ 88.818611 ┆ … ┆ 1.511376  ┆ 2.297374  ┆ 0.37995   ┆ -0.11455 │\n",
       "│           ┆           ┆           ┆           ┆   ┆           ┆           ┆           ┆ 5        │\n",
       "│ std       ┆ null      ┆ null      ┆ 6.045516  ┆ … ┆ 1.271999  ┆ 1.112524  ┆ 0.809173  ┆ 0.886566 │\n",
       "│ min       ┆ AB        ┆ 2015-04-0 ┆ 30.1      ┆ … ┆ 0.0       ┆ -0.62     ┆ -2.95     ┆ -3.0     │\n",
       "│           ┆           ┆ 5         ┆           ┆   ┆           ┆           ┆           ┆          │\n",
       "│ 25%       ┆ null      ┆ null      ┆ 84.6      ┆ … ┆ 0.0       ┆ 1.39      ┆ -0.26     ┆ -0.86    │\n",
       "│ 50%       ┆ null      ┆ null      ┆ 89.9      ┆ … ┆ 1.0       ┆ 2.08      ┆ 0.54      ┆ -0.21    │\n",
       "│ 75%       ┆ null      ┆ null      ┆ 93.6      ┆ … ┆ 3.0       ┆ 2.95      ┆ 1.04      ┆ 0.63     │\n",
       "│ max       ┆ SV        ┆ 2025-04-2 ┆ 105.7     ┆ … ┆ 9.0       ┆ 27.68     ┆ 3.0       ┆ 2.98     │\n",
       "│           ┆           ┆ 9         ┆           ┆   ┆           ┆           ┆           ┆          │\n",
       "└───────────┴───────────┴───────────┴───────────┴───┴───────────┴───────────┴───────────┴──────────┘"
      ]
     },
     "execution_count": 29,
     "metadata": {},
     "output_type": "execute_result"
    }
   ],
   "source": [
    "df.describe()"
   ]
  },
  {
   "cell_type": "code",
   "execution_count": 30,
   "id": "b3f27a9e",
   "metadata": {},
   "outputs": [
    {
     "data": {
      "text/html": [
       "<div><style>\n",
       ".dataframe > thead > tr,\n",
       ".dataframe > tbody > tr {\n",
       "  text-align: right;\n",
       "  white-space: pre-wrap;\n",
       "}\n",
       "</style>\n",
       "<small>shape: (1, 44)</small><table border=\"1\" class=\"dataframe\"><thead><tr><th>pitch_type</th><th>game_date</th><th>release_speed</th><th>release_pos_x</th><th>release_pos_z</th><th>zone</th><th>stand</th><th>p_throws</th><th>balls</th><th>strikes</th><th>pfx_x</th><th>pfx_z</th><th>plate_x</th><th>plate_z</th><th>on_3b</th><th>pitcher</th><th>on_2b</th><th>on_1b</th><th>outs_when_up</th><th>inning</th><th>inning_topbot</th><th>vx0</th><th>vy0</th><th>vz0</th><th>ax</th><th>ay</th><th>az</th><th>sz_top</th><th>sz_bot</th><th>release_spin_rate</th><th>release_extension</th><th>release_pos_y</th><th>at_bat_number</th><th>pitch_number</th><th>bat_score</th><th>fld_score</th><th>if_fielding_alignment</th><th>of_fielding_alignment</th><th>spin_axis</th><th>n_thruorder_pitcher</th><th>n_priorpa_thisgame_player_at_bat</th><th>api_break_z_with_gravity</th><th>api_break_x_arm</th><th>api_break_x_batter_in</th></tr><tr><td>u32</td><td>u32</td><td>u32</td><td>u32</td><td>u32</td><td>u32</td><td>u32</td><td>u32</td><td>u32</td><td>u32</td><td>u32</td><td>u32</td><td>u32</td><td>u32</td><td>u32</td><td>u32</td><td>u32</td><td>u32</td><td>u32</td><td>u32</td><td>u32</td><td>u32</td><td>u32</td><td>u32</td><td>u32</td><td>u32</td><td>u32</td><td>u32</td><td>u32</td><td>u32</td><td>u32</td><td>u32</td><td>u32</td><td>u32</td><td>u32</td><td>u32</td><td>u32</td><td>u32</td><td>u32</td><td>u32</td><td>u32</td><td>u32</td><td>u32</td><td>u32</td></tr></thead><tbody><tr><td>108915</td><td>0</td><td>108064</td><td>108953</td><td>108953</td><td>108738</td><td>0</td><td>0</td><td>0</td><td>0</td><td>109150</td><td>108808</td><td>108738</td><td>108738</td><td>6499089</td><td>0</td><td>5838001</td><td>4987313</td><td>0</td><td>0</td><td>0</td><td>108743</td><td>108743</td><td>108743</td><td>108738</td><td>108738</td><td>108738</td><td>108738</td><td>108738</td><td>270527</td><td>140478</td><td>108953</td><td>0</td><td>0</td><td>0</td><td>0</td><td>195464</td><td>195464</td><td>848164</td><td>0</td><td>0</td><td>108822</td><td>109150</td><td>109150</td></tr></tbody></table></div>"
      ],
      "text/plain": [
       "shape: (1, 44)\n",
       "┌───────────┬───────────┬───────────┬───────────┬───┬───────────┬───────────┬───────────┬──────────┐\n",
       "│ pitch_typ ┆ game_date ┆ release_s ┆ release_p ┆ … ┆ n_priorpa ┆ api_break ┆ api_break ┆ api_brea │\n",
       "│ e         ┆ ---       ┆ peed      ┆ os_x      ┆   ┆ _thisgame ┆ _z_with_g ┆ _x_arm    ┆ k_x_batt │\n",
       "│ ---       ┆ u32       ┆ ---       ┆ ---       ┆   ┆ _player_a ┆ ravity    ┆ ---       ┆ er_in    │\n",
       "│ u32       ┆           ┆ u32       ┆ u32       ┆   ┆ t_b…      ┆ ---       ┆ u32       ┆ ---      │\n",
       "│           ┆           ┆           ┆           ┆   ┆ ---       ┆ u32       ┆           ┆ u32      │\n",
       "│           ┆           ┆           ┆           ┆   ┆ u32       ┆           ┆           ┆          │\n",
       "╞═══════════╪═══════════╪═══════════╪═══════════╪═══╪═══════════╪═══════════╪═══════════╪══════════╡\n",
       "│ 108915    ┆ 0         ┆ 108064    ┆ 108953    ┆ … ┆ 0         ┆ 108822    ┆ 109150    ┆ 109150   │\n",
       "└───────────┴───────────┴───────────┴───────────┴───┴───────────┴───────────┴───────────┴──────────┘"
      ]
     },
     "execution_count": 30,
     "metadata": {},
     "output_type": "execute_result"
    }
   ],
   "source": [
    "df.null_count()"
   ]
  },
  {
   "cell_type": "code",
   "execution_count": null,
   "id": "c1884d1c",
   "metadata": {},
   "outputs": [],
   "source": [
    "# only keep top 5 pitchers with most pitches\n",
    "top_k_pitcher_codes = (\n",
    "    df.group_by(\"pitcher\")\n",
    "    .agg(pl.col(\"pitch_type\").count().alias(\"pitch_count\"))\n",
    "    .sort(\"pitch_count\", descending=True)\n",
    "    .head(5)\n",
    "    .select(pl.col(\"pitcher\"))\n",
    "    .to_series()\n",
    "    .to_list()\n",
    ")\n",
    "df = df.filter(pl.col(\"pitcher\").is_in(top_k_pitcher_codes))"
   ]
  },
  {
   "cell_type": "code",
   "execution_count": 32,
   "id": "273c6935",
   "metadata": {},
   "outputs": [],
   "source": [
    "df = df.drop_nulls(\n",
    "    [\n",
    "        \"pitch_type\",\n",
    "        \"release_speed\",\n",
    "    ]\n",
    ")"
   ]
  },
  {
   "cell_type": "code",
   "execution_count": 33,
   "id": "1837d2c1",
   "metadata": {},
   "outputs": [
    {
     "ename": "ComputeError",
     "evalue": "cannot compare string with numeric type (i32)",
     "output_type": "error",
     "traceback": [
      "\u001b[31m---------------------------------------------------------------------------\u001b[39m",
      "\u001b[31mComputeError\u001b[39m                              Traceback (most recent call last)",
      "\u001b[36mCell\u001b[39m\u001b[36m \u001b[39m\u001b[32mIn[33]\u001b[39m\u001b[32m, line 8\u001b[39m\n\u001b[32m      1\u001b[39m df = df.with_columns(\n\u001b[32m      2\u001b[39m     pl.col(\u001b[33m\"\u001b[39m\u001b[33mon_3b\u001b[39m\u001b[33m\"\u001b[39m).fill_null(\u001b[32m0\u001b[39m),\n\u001b[32m      3\u001b[39m     pl.col(\u001b[33m\"\u001b[39m\u001b[33mon_2b\u001b[39m\u001b[33m\"\u001b[39m).fill_null(\u001b[32m0\u001b[39m),\n\u001b[32m   (...)\u001b[39m\u001b[32m      6\u001b[39m     pl.col(\u001b[33m\"\u001b[39m\u001b[33mof_fielding_alignment\u001b[39m\u001b[33m\"\u001b[39m).fill_null(\u001b[33m\"\u001b[39m\u001b[33m\"\u001b[39m),\n\u001b[32m      7\u001b[39m )\n\u001b[32m----> \u001b[39m\u001b[32m8\u001b[39m df = \u001b[43mdf\u001b[49m\u001b[43m.\u001b[49m\u001b[43mwith_columns\u001b[49m\u001b[43m(\u001b[49m\n\u001b[32m      9\u001b[39m \u001b[43m    \u001b[49m\u001b[43mpl\u001b[49m\u001b[43m.\u001b[49m\u001b[43mwhen\u001b[49m\u001b[43m(\u001b[49m\u001b[43mpl\u001b[49m\u001b[43m.\u001b[49m\u001b[43mcol\u001b[49m\u001b[43m(\u001b[49m\u001b[33;43m\"\u001b[39;49m\u001b[33;43mon_3b\u001b[39;49m\u001b[33;43m\"\u001b[39;49m\u001b[43m)\u001b[49m\u001b[43m \u001b[49m\u001b[43m==\u001b[49m\u001b[43m \u001b[49m\u001b[32;43m0\u001b[39;49m\u001b[43m)\u001b[49m\u001b[43m.\u001b[49m\u001b[43mthen\u001b[49m\u001b[43m(\u001b[49m\u001b[32;43m0\u001b[39;49m\u001b[43m)\u001b[49m\u001b[43m.\u001b[49m\u001b[43motherwise\u001b[49m\u001b[43m(\u001b[49m\u001b[32;43m1\u001b[39;49m\u001b[43m)\u001b[49m\u001b[43m.\u001b[49m\u001b[43malias\u001b[49m\u001b[43m(\u001b[49m\u001b[33;43m\"\u001b[39;49m\u001b[33;43mon_3b\u001b[39;49m\u001b[33;43m\"\u001b[39;49m\u001b[43m)\u001b[49m\u001b[43m,\u001b[49m\n\u001b[32m     10\u001b[39m \u001b[43m    \u001b[49m\u001b[43mpl\u001b[49m\u001b[43m.\u001b[49m\u001b[43mwhen\u001b[49m\u001b[43m(\u001b[49m\u001b[43mpl\u001b[49m\u001b[43m.\u001b[49m\u001b[43mcol\u001b[49m\u001b[43m(\u001b[49m\u001b[33;43m\"\u001b[39;49m\u001b[33;43mon_2b\u001b[39;49m\u001b[33;43m\"\u001b[39;49m\u001b[43m)\u001b[49m\u001b[43m \u001b[49m\u001b[43m==\u001b[49m\u001b[43m \u001b[49m\u001b[32;43m0\u001b[39;49m\u001b[43m)\u001b[49m\u001b[43m.\u001b[49m\u001b[43mthen\u001b[49m\u001b[43m(\u001b[49m\u001b[32;43m0\u001b[39;49m\u001b[43m)\u001b[49m\u001b[43m.\u001b[49m\u001b[43motherwise\u001b[49m\u001b[43m(\u001b[49m\u001b[32;43m1\u001b[39;49m\u001b[43m)\u001b[49m\u001b[43m.\u001b[49m\u001b[43malias\u001b[49m\u001b[43m(\u001b[49m\u001b[33;43m\"\u001b[39;49m\u001b[33;43mon_2b\u001b[39;49m\u001b[33;43m\"\u001b[39;49m\u001b[43m)\u001b[49m\u001b[43m,\u001b[49m\n\u001b[32m     11\u001b[39m \u001b[43m    \u001b[49m\u001b[43mpl\u001b[49m\u001b[43m.\u001b[49m\u001b[43mwhen\u001b[49m\u001b[43m(\u001b[49m\u001b[43mpl\u001b[49m\u001b[43m.\u001b[49m\u001b[43mcol\u001b[49m\u001b[43m(\u001b[49m\u001b[33;43m\"\u001b[39;49m\u001b[33;43mon_1b\u001b[39;49m\u001b[33;43m\"\u001b[39;49m\u001b[43m)\u001b[49m\u001b[43m \u001b[49m\u001b[43m==\u001b[49m\u001b[43m \u001b[49m\u001b[32;43m0\u001b[39;49m\u001b[43m)\u001b[49m\u001b[43m.\u001b[49m\u001b[43mthen\u001b[49m\u001b[43m(\u001b[49m\u001b[32;43m0\u001b[39;49m\u001b[43m)\u001b[49m\u001b[43m.\u001b[49m\u001b[43motherwise\u001b[49m\u001b[43m(\u001b[49m\u001b[32;43m1\u001b[39;49m\u001b[43m)\u001b[49m\u001b[43m.\u001b[49m\u001b[43malias\u001b[49m\u001b[43m(\u001b[49m\u001b[33;43m\"\u001b[39;49m\u001b[33;43mon_1b\u001b[39;49m\u001b[33;43m\"\u001b[39;49m\u001b[43m)\u001b[49m\u001b[43m,\u001b[49m\n\u001b[32m     12\u001b[39m \u001b[43m)\u001b[49m\n",
      "\u001b[36mFile \u001b[39m\u001b[32m~/Documents/dev/PitchPredict/.venv/lib/python3.12/site-packages/polars/dataframe/frame.py:9819\u001b[39m, in \u001b[36mDataFrame.with_columns\u001b[39m\u001b[34m(self, *exprs, **named_exprs)\u001b[39m\n\u001b[32m   9673\u001b[39m \u001b[38;5;28;01mdef\u001b[39;00m\u001b[38;5;250m \u001b[39m\u001b[34mwith_columns\u001b[39m(\n\u001b[32m   9674\u001b[39m     \u001b[38;5;28mself\u001b[39m,\n\u001b[32m   9675\u001b[39m     *exprs: IntoExpr | Iterable[IntoExpr],\n\u001b[32m   9676\u001b[39m     **named_exprs: IntoExpr,\n\u001b[32m   9677\u001b[39m ) -> DataFrame:\n\u001b[32m   9678\u001b[39m \u001b[38;5;250m    \u001b[39m\u001b[33;03m\"\"\"\u001b[39;00m\n\u001b[32m   9679\u001b[39m \u001b[33;03m    Add columns to this DataFrame.\u001b[39;00m\n\u001b[32m   9680\u001b[39m \n\u001b[32m   (...)\u001b[39m\u001b[32m   9817\u001b[39m \u001b[33;03m    └─────┴──────┴─────────────┘\u001b[39;00m\n\u001b[32m   9818\u001b[39m \u001b[33;03m    \"\"\"\u001b[39;00m\n\u001b[32m-> \u001b[39m\u001b[32m9819\u001b[39m     \u001b[38;5;28;01mreturn\u001b[39;00m \u001b[38;5;28;43mself\u001b[39;49m\u001b[43m.\u001b[49m\u001b[43mlazy\u001b[49m\u001b[43m(\u001b[49m\u001b[43m)\u001b[49m\u001b[43m.\u001b[49m\u001b[43mwith_columns\u001b[49m\u001b[43m(\u001b[49m\u001b[43m*\u001b[49m\u001b[43mexprs\u001b[49m\u001b[43m,\u001b[49m\u001b[43m \u001b[49m\u001b[43m*\u001b[49m\u001b[43m*\u001b[49m\u001b[43mnamed_exprs\u001b[49m\u001b[43m)\u001b[49m\u001b[43m.\u001b[49m\u001b[43mcollect\u001b[49m\u001b[43m(\u001b[49m\u001b[43m_eager\u001b[49m\u001b[43m=\u001b[49m\u001b[38;5;28;43;01mTrue\u001b[39;49;00m\u001b[43m)\u001b[49m\n",
      "\u001b[36mFile \u001b[39m\u001b[32m~/Documents/dev/PitchPredict/.venv/lib/python3.12/site-packages/polars/_utils/deprecation.py:93\u001b[39m, in \u001b[36mdeprecate_streaming_parameter.<locals>.decorate.<locals>.wrapper\u001b[39m\u001b[34m(*args, **kwargs)\u001b[39m\n\u001b[32m     89\u001b[39m         kwargs[\u001b[33m\"\u001b[39m\u001b[33mengine\u001b[39m\u001b[33m\"\u001b[39m] = \u001b[33m\"\u001b[39m\u001b[33min-memory\u001b[39m\u001b[33m\"\u001b[39m\n\u001b[32m     91\u001b[39m     \u001b[38;5;28;01mdel\u001b[39;00m kwargs[\u001b[33m\"\u001b[39m\u001b[33mstreaming\u001b[39m\u001b[33m\"\u001b[39m]\n\u001b[32m---> \u001b[39m\u001b[32m93\u001b[39m \u001b[38;5;28;01mreturn\u001b[39;00m \u001b[43mfunction\u001b[49m\u001b[43m(\u001b[49m\u001b[43m*\u001b[49m\u001b[43margs\u001b[49m\u001b[43m,\u001b[49m\u001b[43m \u001b[49m\u001b[43m*\u001b[49m\u001b[43m*\u001b[49m\u001b[43mkwargs\u001b[49m\u001b[43m)\u001b[49m\n",
      "\u001b[36mFile \u001b[39m\u001b[32m~/Documents/dev/PitchPredict/.venv/lib/python3.12/site-packages/polars/lazyframe/frame.py:2207\u001b[39m, in \u001b[36mLazyFrame.collect\u001b[39m\u001b[34m(self, type_coercion, _type_check, predicate_pushdown, projection_pushdown, simplify_expression, slice_pushdown, comm_subplan_elim, comm_subexpr_elim, cluster_with_columns, collapse_joins, no_optimization, engine, background, _check_order, _eager, **_kwargs)\u001b[39m\n\u001b[32m   2205\u001b[39m \u001b[38;5;66;03m# Only for testing purposes\u001b[39;00m\n\u001b[32m   2206\u001b[39m callback = _kwargs.get(\u001b[33m\"\u001b[39m\u001b[33mpost_opt_callback\u001b[39m\u001b[33m\"\u001b[39m, callback)\n\u001b[32m-> \u001b[39m\u001b[32m2207\u001b[39m \u001b[38;5;28;01mreturn\u001b[39;00m wrap_df(\u001b[43mldf\u001b[49m\u001b[43m.\u001b[49m\u001b[43mcollect\u001b[49m\u001b[43m(\u001b[49m\u001b[43mengine\u001b[49m\u001b[43m,\u001b[49m\u001b[43m \u001b[49m\u001b[43mcallback\u001b[49m\u001b[43m)\u001b[49m)\n",
      "\u001b[31mComputeError\u001b[39m: cannot compare string with numeric type (i32)"
     ]
    }
   ],
   "source": [
    "df = df.with_columns(\n",
    "    pl.col(\"on_3b\").fill_null(0),\n",
    "    pl.col(\"on_2b\").fill_null(0),\n",
    "    pl.col(\"on_1b\").fill_null(0),\n",
    "    pl.col(\"if_fielding_alignment\").fill_null(\"\"),\n",
    "    pl.col(\"of_fielding_alignment\").fill_null(\"\"),\n",
    ")\n",
    "df = df.with_columns(\n",
    "    pl.when(pl.col(\"on_3b\") == 0).then(0).otherwise(1).alias(\"on_3b\"),\n",
    "    pl.when(pl.col(\"on_2b\") == 0).then(0).otherwise(1).alias(\"on_2b\"),\n",
    "    pl.when(pl.col(\"on_1b\") == 0).then(0).otherwise(1).alias(\"on_1b\"),\n",
    ")"
   ]
  },
  {
   "cell_type": "code",
   "execution_count": null,
   "id": "aa518b88",
   "metadata": {},
   "outputs": [],
   "source": [
    "df = df.fill_null(-1)\n",
    "df = df.fill_nan(-1)"
   ]
  },
  {
   "cell_type": "code",
   "execution_count": null,
   "id": "83910e1a",
   "metadata": {},
   "outputs": [
    {
     "data": {
      "text/html": [
       "<div><style>\n",
       ".dataframe > thead > tr,\n",
       ".dataframe > tbody > tr {\n",
       "  text-align: right;\n",
       "  white-space: pre-wrap;\n",
       "}\n",
       "</style>\n",
       "<small>shape: (1, 43)</small><table border=\"1\" class=\"dataframe\"><thead><tr><th>pitch_type</th><th>game_date</th><th>release_speed</th><th>release_pos_x</th><th>release_pos_z</th><th>zone</th><th>stand</th><th>p_throws</th><th>balls</th><th>strikes</th><th>pfx_x</th><th>pfx_z</th><th>plate_x</th><th>plate_z</th><th>on_3b</th><th>on_2b</th><th>on_1b</th><th>outs_when_up</th><th>inning</th><th>inning_topbot</th><th>vx0</th><th>vy0</th><th>vz0</th><th>ax</th><th>ay</th><th>az</th><th>sz_top</th><th>sz_bot</th><th>release_spin_rate</th><th>release_extension</th><th>release_pos_y</th><th>at_bat_number</th><th>pitch_number</th><th>bat_score</th><th>fld_score</th><th>if_fielding_alignment</th><th>of_fielding_alignment</th><th>spin_axis</th><th>n_thruorder_pitcher</th><th>n_priorpa_thisgame_player_at_bat</th><th>api_break_z_with_gravity</th><th>api_break_x_arm</th><th>api_break_x_batter_in</th></tr><tr><td>u32</td><td>u32</td><td>u32</td><td>u32</td><td>u32</td><td>u32</td><td>u32</td><td>u32</td><td>u32</td><td>u32</td><td>u32</td><td>u32</td><td>u32</td><td>u32</td><td>u32</td><td>u32</td><td>u32</td><td>u32</td><td>u32</td><td>u32</td><td>u32</td><td>u32</td><td>u32</td><td>u32</td><td>u32</td><td>u32</td><td>u32</td><td>u32</td><td>u32</td><td>u32</td><td>u32</td><td>u32</td><td>u32</td><td>u32</td><td>u32</td><td>u32</td><td>u32</td><td>u32</td><td>u32</td><td>u32</td><td>u32</td><td>u32</td><td>u32</td></tr></thead><tbody><tr><td>0</td><td>0</td><td>0</td><td>0</td><td>0</td><td>0</td><td>0</td><td>0</td><td>0</td><td>0</td><td>0</td><td>0</td><td>0</td><td>0</td><td>0</td><td>0</td><td>0</td><td>0</td><td>0</td><td>0</td><td>0</td><td>0</td><td>0</td><td>0</td><td>0</td><td>0</td><td>0</td><td>0</td><td>4604</td><td>4004</td><td>0</td><td>0</td><td>0</td><td>0</td><td>0</td><td>0</td><td>0</td><td>7308</td><td>0</td><td>0</td><td>0</td><td>0</td><td>0</td></tr></tbody></table></div>"
      ],
      "text/plain": [
       "shape: (1, 43)\n",
       "┌───────────┬───────────┬───────────┬───────────┬───┬───────────┬───────────┬───────────┬──────────┐\n",
       "│ pitch_typ ┆ game_date ┆ release_s ┆ release_p ┆ … ┆ n_priorpa ┆ api_break ┆ api_break ┆ api_brea │\n",
       "│ e         ┆ ---       ┆ peed      ┆ os_x      ┆   ┆ _thisgame ┆ _z_with_g ┆ _x_arm    ┆ k_x_batt │\n",
       "│ ---       ┆ u32       ┆ ---       ┆ ---       ┆   ┆ _player_a ┆ ravity    ┆ ---       ┆ er_in    │\n",
       "│ u32       ┆           ┆ u32       ┆ u32       ┆   ┆ t_b…      ┆ ---       ┆ u32       ┆ ---      │\n",
       "│           ┆           ┆           ┆           ┆   ┆ ---       ┆ u32       ┆           ┆ u32      │\n",
       "│           ┆           ┆           ┆           ┆   ┆ u32       ┆           ┆           ┆          │\n",
       "╞═══════════╪═══════════╪═══════════╪═══════════╪═══╪═══════════╪═══════════╪═══════════╪══════════╡\n",
       "│ 0         ┆ 0         ┆ 0         ┆ 0         ┆ … ┆ 0         ┆ 0         ┆ 0         ┆ 0        │\n",
       "└───────────┴───────────┴───────────┴───────────┴───┴───────────┴───────────┴───────────┴──────────┘"
      ]
     },
     "execution_count": 115,
     "metadata": {},
     "output_type": "execute_result"
    }
   ],
   "source": [
    "df.null_count()"
   ]
  },
  {
   "cell_type": "code",
   "execution_count": null,
   "id": "0d65489d",
   "metadata": {},
   "outputs": [],
   "source": [
    "cont_cols = [\"release_spin_rate\", \"release_extension\", \"spin_axis\"]\n",
    "\n",
    "df = df.with_columns([pl.col(col).fill_null(0).cast(pl.Float32) for col in cont_cols])\n",
    "df = df.with_columns(\n",
    "    [\n",
    "        (\n",
    "            pl.when(pl.col(col).is_null())  # if value is null\n",
    "            .then(pl.col(col).median().over(\"pitch_type\"))  # use group median\n",
    "            .otherwise(pl.col(col))  # else keep original\n",
    "        ).alias(col)\n",
    "        for col in cont_cols\n",
    "    ]\n",
    ")"
   ]
  }
 ],
 "metadata": {
  "kernelspec": {
   "display_name": ".venv",
   "language": "python",
   "name": "python3"
  },
  "language_info": {
   "codemirror_mode": {
    "name": "ipython",
    "version": 3
   },
   "file_extension": ".py",
   "mimetype": "text/x-python",
   "name": "python",
   "nbconvert_exporter": "python",
   "pygments_lexer": "ipython3",
   "version": "3.12.7"
  }
 },
 "nbformat": 4,
 "nbformat_minor": 5
}
