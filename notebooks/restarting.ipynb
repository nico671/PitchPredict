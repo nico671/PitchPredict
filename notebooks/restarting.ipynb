{
 "cells": [
  {
   "cell_type": "markdown",
   "id": "7d26c5e1",
   "metadata": {},
   "source": [
    "# Pitch Predict"
   ]
  },
  {
   "cell_type": "markdown",
   "id": "9a9d738c",
   "metadata": {},
   "source": [
    "## Data Acquisition"
   ]
  },
  {
   "cell_type": "code",
   "execution_count": 146,
   "id": "ce07daed",
   "metadata": {},
   "outputs": [],
   "source": [
    "import pybaseballstats as pyb\n",
    "import polars as pl"
   ]
  },
  {
   "cell_type": "markdown",
   "id": "21ba4bfe",
   "metadata": {},
   "source": [
    "For this test we will only be looking at Max Scherzer's data so find his player id and use that to filter the data. \n"
   ]
  },
  {
   "cell_type": "code",
   "execution_count": 147,
   "id": "f658af5e",
   "metadata": {},
   "outputs": [],
   "source": [
    "# pyb.retrosheet.player_lookup(first_name=\"Max\", last_name=\"Scherzer\")"
   ]
  },
  {
   "cell_type": "markdown",
   "id": "9843a876",
   "metadata": {},
   "source": [
    "Get all available pitch by pitch data"
   ]
  },
  {
   "cell_type": "code",
   "execution_count": null,
   "id": "54ad0eb4",
   "metadata": {},
   "outputs": [],
   "source": []
  },
  {
   "cell_type": "code",
   "execution_count": 149,
   "id": "f3f581da",
   "metadata": {},
   "outputs": [],
   "source": [
    "# df = df.filter(pl.col(\"pitcher\") == 453286)"
   ]
  },
  {
   "cell_type": "code",
   "execution_count": 150,
   "id": "b9262d68",
   "metadata": {},
   "outputs": [],
   "source": [
    "# print(df.columns)"
   ]
  },
  {
   "cell_type": "code",
   "execution_count": 151,
   "id": "1c4d6ef1",
   "metadata": {},
   "outputs": [],
   "source": [
    "# df.sink_parquet(\"scherzer.parquet\")"
   ]
  },
  {
   "cell_type": "code",
   "execution_count": 217,
   "id": "c38e223a",
   "metadata": {},
   "outputs": [],
   "source": [
    "df = pl.read_parquet(\"scherzer.parquet\")"
   ]
  },
  {
   "cell_type": "code",
   "execution_count": 218,
   "id": "23d22749",
   "metadata": {},
   "outputs": [],
   "source": [
    "feature_cols = [\n",
    "    \"pitch_type\",\n",
    "    \"game_date\",\n",
    "    \"release_speed\",\n",
    "    \"release_pos_x\",\n",
    "    \"release_pos_z\",\n",
    "    \"zone\",\n",
    "    \"stand\",\n",
    "    \"p_throws\",\n",
    "    \"balls\",\n",
    "    \"strikes\",\n",
    "    \"pfx_x\",\n",
    "    \"pfx_z\",\n",
    "    \"plate_x\",\n",
    "    \"plate_z\",\n",
    "    \"on_3b\",\n",
    "    \"on_2b\",\n",
    "    \"on_1b\",\n",
    "    \"outs_when_up\",\n",
    "    \"inning\",\n",
    "    \"inning_topbot\",\n",
    "    \"hc_x\",\n",
    "    \"hc_y\",\n",
    "    \"vx0\",\n",
    "    \"vy0\",\n",
    "    \"vz0\",\n",
    "    \"ax\",\n",
    "    \"ay\",\n",
    "    \"az\",\n",
    "    \"sz_top\",\n",
    "    \"sz_bot\",\n",
    "    \"effective_speed\",\n",
    "    \"release_spin_rate\",\n",
    "    \"release_extension\",\n",
    "    \"release_pos_y\",\n",
    "    \"at_bat_number\",\n",
    "    \"pitch_number\",\n",
    "    \"bat_score\",\n",
    "    \"fld_score\",\n",
    "    \"if_fielding_alignment\",\n",
    "    \"of_fielding_alignment\",\n",
    "    \"spin_axis\",\n",
    "    \"n_thruorder_pitcher\",\n",
    "    \"n_priorpa_thisgame_player_at_bat\",\n",
    "    \"pitcher_days_since_prev_game\",\n",
    "    \"api_break_z_with_gravity\",\n",
    "    \"api_break_x_arm\",\n",
    "    \"api_break_x_batter_in\",\n",
    "]"
   ]
  },
  {
   "cell_type": "code",
   "execution_count": 219,
   "id": "aa50896e",
   "metadata": {},
   "outputs": [],
   "source": [
    "df = df.select(feature_cols)"
   ]
  },
  {
   "cell_type": "code",
   "execution_count": 220,
   "id": "631ddf7a",
   "metadata": {},
   "outputs": [
    {
     "data": {
      "text/plain": [
       "(31531, 47)"
      ]
     },
     "execution_count": 220,
     "metadata": {},
     "output_type": "execute_result"
    }
   ],
   "source": [
    "df.shape"
   ]
  },
  {
   "cell_type": "code",
   "execution_count": 221,
   "id": "17c34386",
   "metadata": {},
   "outputs": [
    {
     "data": {
      "text/html": [
       "<div><style>\n",
       ".dataframe > thead > tr,\n",
       ".dataframe > tbody > tr {\n",
       "  text-align: right;\n",
       "  white-space: pre-wrap;\n",
       "}\n",
       "</style>\n",
       "<small>shape: (9, 48)</small><table border=\"1\" class=\"dataframe\"><thead><tr><th>statistic</th><th>pitch_type</th><th>game_date</th><th>release_speed</th><th>release_pos_x</th><th>release_pos_z</th><th>zone</th><th>stand</th><th>p_throws</th><th>balls</th><th>strikes</th><th>pfx_x</th><th>pfx_z</th><th>plate_x</th><th>plate_z</th><th>on_3b</th><th>on_2b</th><th>on_1b</th><th>outs_when_up</th><th>inning</th><th>inning_topbot</th><th>hc_x</th><th>hc_y</th><th>vx0</th><th>vy0</th><th>vz0</th><th>ax</th><th>ay</th><th>az</th><th>sz_top</th><th>sz_bot</th><th>effective_speed</th><th>release_spin_rate</th><th>release_extension</th><th>release_pos_y</th><th>at_bat_number</th><th>pitch_number</th><th>bat_score</th><th>fld_score</th><th>if_fielding_alignment</th><th>of_fielding_alignment</th><th>spin_axis</th><th>n_thruorder_pitcher</th><th>n_priorpa_thisgame_player_at_bat</th><th>pitcher_days_since_prev_game</th><th>api_break_z_with_gravity</th><th>api_break_x_arm</th><th>api_break_x_batter_in</th></tr><tr><td>str</td><td>str</td><td>str</td><td>f64</td><td>f64</td><td>f64</td><td>f64</td><td>str</td><td>str</td><td>f64</td><td>f64</td><td>f64</td><td>f64</td><td>f64</td><td>f64</td><td>f64</td><td>f64</td><td>f64</td><td>f64</td><td>f64</td><td>str</td><td>f64</td><td>f64</td><td>f64</td><td>f64</td><td>f64</td><td>f64</td><td>f64</td><td>f64</td><td>f64</td><td>f64</td><td>str</td><td>str</td><td>str</td><td>f64</td><td>f64</td><td>f64</td><td>f64</td><td>f64</td><td>str</td><td>str</td><td>str</td><td>f64</td><td>f64</td><td>str</td><td>f64</td><td>f64</td><td>f64</td></tr></thead><tbody><tr><td>&quot;count&quot;</td><td>&quot;31190&quot;</td><td>&quot;31531&quot;</td><td>31181.0</td><td>31176.0</td><td>31176.0</td><td>31176.0</td><td>&quot;31531&quot;</td><td>&quot;31531&quot;</td><td>31531.0</td><td>31531.0</td><td>31176.0</td><td>31176.0</td><td>31176.0</td><td>31176.0</td><td>1951.0</td><td>4417.0</td><td>7952.0</td><td>31531.0</td><td>31531.0</td><td>&quot;31531&quot;</td><td>4864.0</td><td>4864.0</td><td>31176.0</td><td>31176.0</td><td>31176.0</td><td>31176.0</td><td>31176.0</td><td>31176.0</td><td>31176.0</td><td>31176.0</td><td>&quot;27165&quot;</td><td>&quot;26577&quot;</td><td>&quot;27177&quot;</td><td>31176.0</td><td>31531.0</td><td>31531.0</td><td>31531.0</td><td>31531.0</td><td>&quot;26955&quot;</td><td>&quot;26955&quot;</td><td>&quot;23868&quot;</td><td>31531.0</td><td>31531.0</td><td>&quot;29682&quot;</td><td>31176.0</td><td>31176.0</td><td>31176.0</td></tr><tr><td>&quot;null_count&quot;</td><td>&quot;341&quot;</td><td>&quot;0&quot;</td><td>350.0</td><td>355.0</td><td>355.0</td><td>355.0</td><td>&quot;0&quot;</td><td>&quot;0&quot;</td><td>0.0</td><td>0.0</td><td>355.0</td><td>355.0</td><td>355.0</td><td>355.0</td><td>29580.0</td><td>27114.0</td><td>23579.0</td><td>0.0</td><td>0.0</td><td>&quot;0&quot;</td><td>26667.0</td><td>26667.0</td><td>355.0</td><td>355.0</td><td>355.0</td><td>355.0</td><td>355.0</td><td>355.0</td><td>355.0</td><td>355.0</td><td>&quot;4366&quot;</td><td>&quot;4954&quot;</td><td>&quot;4354&quot;</td><td>355.0</td><td>0.0</td><td>0.0</td><td>0.0</td><td>0.0</td><td>&quot;4576&quot;</td><td>&quot;4576&quot;</td><td>&quot;7663&quot;</td><td>0.0</td><td>0.0</td><td>&quot;1849&quot;</td><td>355.0</td><td>355.0</td><td>355.0</td></tr><tr><td>&quot;mean&quot;</td><td>null</td><td>null</td><td>89.318101</td><td>-3.357038</td><td>5.389245</td><td>8.840454</td><td>null</td><td>null</td><td>0.804732</td><td>0.963909</td><td>-0.52092</td><td>0.693382</td><td>0.003706</td><td>2.285297</td><td>547072.17837</td><td>548624.566901</td><td>546664.174673</td><td>0.989122</td><td>3.779582</td><td>null</td><td>127.324722</td><td>121.270446</td><td>9.486847</td><td>-130.007011</td><td>-2.755124</td><td>-8.474538</td><td>26.662472</td><td>-23.095872</td><td>3.414538</td><td>1.580566</td><td>null</td><td>null</td><td>null</td><td>54.422887</td><td>27.471029</td><td>2.927849</td><td>0.933082</td><td>1.767974</td><td>null</td><td>null</td><td>null</td><td>1.947385</td><td>0.914402</td><td>null</td><td>2.237408</td><td>0.52092</td><td>-0.122859</td></tr><tr><td>&quot;std&quot;</td><td>null</td><td>null</td><td>5.875498</td><td>0.21505</td><td>0.246697</td><td>4.266978</td><td>null</td><td>null</td><td>0.933989</td><td>0.838817</td><td>0.757316</td><td>0.65843</td><td>0.86956</td><td>0.882787</td><td>85334.652769</td><td>83418.363899</td><td>85281.102081</td><td>0.811651</td><td>2.007045</td><td>null</td><td>41.721228</td><td>42.900778</td><td>2.719638</td><td>8.479718</td><td>2.484475</td><td>8.523227</td><td>4.234665</td><td>8.140726</td><td>0.20589</td><td>0.128306</td><td>null</td><td>null</td><td>null</td><td>0.219058</td><td>16.433192</td><td>1.760428</td><td>1.271124</td><td>2.161322</td><td>null</td><td>null</td><td>null</td><td>0.841248</td><td>0.842157</td><td>null</td><td>1.044563</td><td>0.757316</td><td>0.910933</td></tr><tr><td>&quot;min&quot;</td><td>&quot;CH&quot;</td><td>&quot;2014-03-15&quot;</td><td>37.9</td><td>-4.1</td><td>4.45</td><td>1.0</td><td>&quot;L&quot;</td><td>&quot;R&quot;</td><td>0.0</td><td>0.0</td><td>-2.81</td><td>-1.89</td><td>-6.5</td><td>-1.58</td><td>116539.0</td><td>114739.0</td><td>114739.0</td><td>0.0</td><td>1.0</td><td>&quot;Bot&quot;</td><td>9.99</td><td>9.4</td><td>-3.119842</td><td>-145.637471</td><td>-12.320552</td><td>-27.676654</td><td>3.078948</td><td>-50.650566</td><td>2.57</td><td>0.97</td><td>&quot;34.4&quot;</td><td>&quot;1002&quot;</td><td>&quot;4&quot;</td><td>52.12</td><td>1.0</td><td>1.0</td><td>0.0</td><td>0.0</td><td>&quot;Infield shade&quot;</td><td>&quot;Standard&quot;</td><td>&quot;0&quot;</td><td>1.0</td><td>0.0</td><td>&quot;10&quot;</td><td>0.02</td><td>-2.12</td><td>-2.42</td></tr><tr><td>&quot;25%&quot;</td><td>null</td><td>null</td><td>85.0</td><td>-3.51</td><td>5.22</td><td>5.0</td><td>null</td><td>null</td><td>0.0</td><td>0.0</td><td>-1.1</td><td>0.2</td><td>-0.57</td><td>1.72</td><td>489232.0</td><td>493351.0</td><td>474233.0</td><td>0.0</td><td>2.0</td><td>null</td><td>100.68</td><td>88.67</td><td>7.897356</td><td>-137.23199</td><td>-4.466242</td><td>-14.99</td><td>23.249251</td><td>-29.914</td><td>3.28</td><td>1.5</td><td>null</td><td>null</td><td>null</td><td>54.29</td><td>13.0</td><td>1.0</td><td>0.0</td><td>0.0</td><td>null</td><td>null</td><td>null</td><td>1.0</td><td>0.0</td><td>null</td><td>1.34</td><td>-0.17</td><td>-0.96</td></tr><tr><td>&quot;50%&quot;</td><td>null</td><td>null</td><td>91.2</td><td>-3.35</td><td>5.39</td><td>9.0</td><td>null</td><td>null</td><td>1.0</td><td>1.0</td><td>-0.83</td><td>0.87</td><td>0.02</td><td>2.33</td><td>546318.0</td><td>543768.0</td><td>546318.0</td><td>1.0</td><td>4.0</td><td>null</td><td>127.21</td><td>121.49</td><td>9.690216</td><td>-132.818927</td><td>-2.877776</td><td>-12.1927</td><td>26.695039</td><td>-21.371</td><td>3.41</td><td>1.58</td><td>null</td><td>null</td><td>null</td><td>54.5</td><td>27.0</td><td>3.0</td><td>0.0</td><td>1.0</td><td>null</td><td>null</td><td>null</td><td>2.0</td><td>1.0</td><td>null</td><td>1.83</td><td>0.83</td><td>-0.26</td></tr><tr><td>&quot;75%&quot;</td><td>null</td><td>null</td><td>94.4</td><td>-3.2</td><td>5.56</td><td>13.0</td><td>null</td><td>null</td><td>1.0</td><td>2.0</td><td>0.17</td><td>1.26</td><td>0.6</td><td>2.89</td><td>607054.0</td><td>607732.0</td><td>607054.0</td><td>2.0</td><td>5.0</td><td>null</td><td>155.44</td><td>157.24</td><td>11.35668</td><td>-123.668889</td><td>-1.150975</td><td>0.06583</td><td>29.988419</td><td>-15.842864</td><td>3.54</td><td>1.66</td><td>null</td><td>null</td><td>null</td><td>54.5</td><td>40.0</td><td>4.0</td><td>1.0</td><td>3.0</td><td>null</td><td>null</td><td>null</td><td>3.0</td><td>2.0</td><td>null</td><td>2.98</td><td>1.1</td><td>0.81</td></tr><tr><td>&quot;max&quot;</td><td>&quot;SL&quot;</td><td>&quot;2025-03-29&quot;</td><td>99.4</td><td>-1.91</td><td>6.9</td><td>14.0</td><td>&quot;R&quot;</td><td>&quot;R&quot;</td><td>3.0</td><td>2.0</td><td>2.12</td><td>2.64</td><td>3.99</td><td>6.7</td><td>694384.0</td><td>807799.0</td><td>807799.0</td><td>2.0</td><td>9.0</td><td>&quot;Top&quot;</td><td>246.71</td><td>224.11</td><td>18.699557</td><td>-73.599</td><td>7.843897</td><td>17.001735</td><td>43.224</td><td>1.103051</td><td>4.5</td><td>2.22</td><td>&quot;99&quot;</td><td>&quot;993&quot;</td><td>&quot;8.4&quot;</td><td>56.45</td><td>77.0</td><td>13.0</td><td>7.0</td><td>15.0</td><td>&quot;Strategic&quot;</td><td>&quot;Strategic&quot;</td><td>&quot;99&quot;</td><td>4.0</td><td>3.0</td><td>&quot;9&quot;</td><td>7.8</td><td>2.81</td><td>2.81</td></tr></tbody></table></div>"
      ],
      "text/plain": [
       "shape: (9, 48)\n",
       "┌───────────┬───────────┬───────────┬───────────┬───┬───────────┬───────────┬───────────┬──────────┐\n",
       "│ statistic ┆ pitch_typ ┆ game_date ┆ release_s ┆ … ┆ pitcher_d ┆ api_break ┆ api_break ┆ api_brea │\n",
       "│ ---       ┆ e         ┆ ---       ┆ peed      ┆   ┆ ays_since ┆ _z_with_g ┆ _x_arm    ┆ k_x_batt │\n",
       "│ str       ┆ ---       ┆ str       ┆ ---       ┆   ┆ _prev_gam ┆ ravity    ┆ ---       ┆ er_in    │\n",
       "│           ┆ str       ┆           ┆ f64       ┆   ┆ e         ┆ ---       ┆ f64       ┆ ---      │\n",
       "│           ┆           ┆           ┆           ┆   ┆ ---       ┆ f64       ┆           ┆ f64      │\n",
       "│           ┆           ┆           ┆           ┆   ┆ str       ┆           ┆           ┆          │\n",
       "╞═══════════╪═══════════╪═══════════╪═══════════╪═══╪═══════════╪═══════════╪═══════════╪══════════╡\n",
       "│ count     ┆ 31190     ┆ 31531     ┆ 31181.0   ┆ … ┆ 29682     ┆ 31176.0   ┆ 31176.0   ┆ 31176.0  │\n",
       "│ null_coun ┆ 341       ┆ 0         ┆ 350.0     ┆ … ┆ 1849      ┆ 355.0     ┆ 355.0     ┆ 355.0    │\n",
       "│ t         ┆           ┆           ┆           ┆   ┆           ┆           ┆           ┆          │\n",
       "│ mean      ┆ null      ┆ null      ┆ 89.318101 ┆ … ┆ null      ┆ 2.237408  ┆ 0.52092   ┆ -0.12285 │\n",
       "│           ┆           ┆           ┆           ┆   ┆           ┆           ┆           ┆ 9        │\n",
       "│ std       ┆ null      ┆ null      ┆ 5.875498  ┆ … ┆ null      ┆ 1.044563  ┆ 0.757316  ┆ 0.910933 │\n",
       "│ min       ┆ CH        ┆ 2014-03-1 ┆ 37.9      ┆ … ┆ 10        ┆ 0.02      ┆ -2.12     ┆ -2.42    │\n",
       "│           ┆           ┆ 5         ┆           ┆   ┆           ┆           ┆           ┆          │\n",
       "│ 25%       ┆ null      ┆ null      ┆ 85.0      ┆ … ┆ null      ┆ 1.34      ┆ -0.17     ┆ -0.96    │\n",
       "│ 50%       ┆ null      ┆ null      ┆ 91.2      ┆ … ┆ null      ┆ 1.83      ┆ 0.83      ┆ -0.26    │\n",
       "│ 75%       ┆ null      ┆ null      ┆ 94.4      ┆ … ┆ null      ┆ 2.98      ┆ 1.1       ┆ 0.81     │\n",
       "│ max       ┆ SL        ┆ 2025-03-2 ┆ 99.4      ┆ … ┆ 9         ┆ 7.8       ┆ 2.81      ┆ 2.81     │\n",
       "│           ┆           ┆ 9         ┆           ┆   ┆           ┆           ┆           ┆          │\n",
       "└───────────┴───────────┴───────────┴───────────┴───┴───────────┴───────────┴───────────┴──────────┘"
      ]
     },
     "execution_count": 221,
     "metadata": {},
     "output_type": "execute_result"
    }
   ],
   "source": [
    "df.describe()"
   ]
  },
  {
   "cell_type": "code",
   "execution_count": 222,
   "id": "8f862659",
   "metadata": {},
   "outputs": [],
   "source": [
    "df = df.drop_nulls(\"pitch_type\")"
   ]
  },
  {
   "cell_type": "code",
   "execution_count": 223,
   "id": "f3184a8f",
   "metadata": {},
   "outputs": [],
   "source": [
    "df = df.sort([\"game_date\", \"at_bat_number\", \"pitch_number\"])"
   ]
  },
  {
   "cell_type": "code",
   "execution_count": null,
   "id": "719846cd",
   "metadata": {},
   "outputs": [],
   "source": [
    "keep_pitch_types = (\n",
    "    df.select(pl.col(\"pitch_type\").value_counts(normalize=True))\n",
    "    .unnest(\"pitch_type\")\n",
    "    .filter(pl.col(\"proportion\") > 0.01)\n",
    "    .select(pl.col(\"pitch_type\").unique())\n",
    "    .to_series()\n",
    "    .to_list()\n",
    ")\n",
    "df = df.with_columns(\n",
    "    pl.when(pl.col(\"pitch_type\").is_in(keep_pitch_types))\n",
    "    .then(pl.col(\"pitch_type\"))\n",
    "    .otherwise(pl.lit(\"other\"))\n",
    "    .alias(\"pitch_type\"),\n",
    ")"
   ]
  },
  {
   "cell_type": "code",
   "execution_count": 226,
   "id": "19e57851",
   "metadata": {},
   "outputs": [],
   "source": [
    "df = df.with_columns(\n",
    "    pl.col(\"pitch_type\").shift(-1).alias(\"next_pitch_type (target)\"),\n",
    ")"
   ]
  },
  {
   "cell_type": "code",
   "execution_count": 227,
   "id": "0df3f59c",
   "metadata": {},
   "outputs": [],
   "source": [
    "df = df.drop_nulls([\"pitch_type\", \"next_pitch_type (target)\"])"
   ]
  },
  {
   "cell_type": "code",
   "execution_count": 228,
   "id": "fcb9d1a9",
   "metadata": {},
   "outputs": [
    {
     "data": {
      "text/html": [
       "<div><style>\n",
       ".dataframe > thead > tr,\n",
       ".dataframe > tbody > tr {\n",
       "  text-align: right;\n",
       "  white-space: pre-wrap;\n",
       "}\n",
       "</style>\n",
       "<small>shape: (10, 2)</small><table border=\"1\" class=\"dataframe\"><thead><tr><th>pitch_type</th><th>next_pitch_type (target)</th></tr><tr><td>str</td><td>str</td></tr></thead><tbody><tr><td>&quot;FF&quot;</td><td>&quot;FF&quot;</td></tr><tr><td>&quot;FF&quot;</td><td>&quot;FF&quot;</td></tr><tr><td>&quot;FF&quot;</td><td>&quot;FF&quot;</td></tr><tr><td>&quot;FF&quot;</td><td>&quot;FF&quot;</td></tr><tr><td>&quot;FF&quot;</td><td>&quot;SL&quot;</td></tr><tr><td>&quot;SL&quot;</td><td>&quot;FF&quot;</td></tr><tr><td>&quot;FF&quot;</td><td>&quot;FF&quot;</td></tr><tr><td>&quot;FF&quot;</td><td>&quot;FF&quot;</td></tr><tr><td>&quot;FF&quot;</td><td>&quot;CH&quot;</td></tr><tr><td>&quot;CH&quot;</td><td>&quot;FF&quot;</td></tr></tbody></table></div>"
      ],
      "text/plain": [
       "shape: (10, 2)\n",
       "┌────────────┬──────────────────────────┐\n",
       "│ pitch_type ┆ next_pitch_type (target) │\n",
       "│ ---        ┆ ---                      │\n",
       "│ str        ┆ str                      │\n",
       "╞════════════╪══════════════════════════╡\n",
       "│ FF         ┆ FF                       │\n",
       "│ FF         ┆ FF                       │\n",
       "│ FF         ┆ FF                       │\n",
       "│ FF         ┆ FF                       │\n",
       "│ FF         ┆ SL                       │\n",
       "│ SL         ┆ FF                       │\n",
       "│ FF         ┆ FF                       │\n",
       "│ FF         ┆ FF                       │\n",
       "│ FF         ┆ CH                       │\n",
       "│ CH         ┆ FF                       │\n",
       "└────────────┴──────────────────────────┘"
      ]
     },
     "execution_count": 228,
     "metadata": {},
     "output_type": "execute_result"
    }
   ],
   "source": [
    "df.select(pl.col([\"pitch_type\", \"next_pitch_type (target)\"])).head(10)"
   ]
  },
  {
   "cell_type": "markdown",
   "id": "db9268a6",
   "metadata": {},
   "source": [
    "## featurization"
   ]
  },
  {
   "cell_type": "code",
   "execution_count": 229,
   "id": "011dec23",
   "metadata": {},
   "outputs": [
    {
     "data": {
      "text/html": [
       "<div><style>\n",
       ".dataframe > thead > tr,\n",
       ".dataframe > tbody > tr {\n",
       "  text-align: right;\n",
       "  white-space: pre-wrap;\n",
       "}\n",
       "</style>\n",
       "<small>shape: (9, 49)</small><table border=\"1\" class=\"dataframe\"><thead><tr><th>statistic</th><th>pitch_type</th><th>game_date</th><th>release_speed</th><th>release_pos_x</th><th>release_pos_z</th><th>zone</th><th>stand</th><th>p_throws</th><th>balls</th><th>strikes</th><th>pfx_x</th><th>pfx_z</th><th>plate_x</th><th>plate_z</th><th>on_3b</th><th>on_2b</th><th>on_1b</th><th>outs_when_up</th><th>inning</th><th>inning_topbot</th><th>hc_x</th><th>hc_y</th><th>vx0</th><th>vy0</th><th>vz0</th><th>ax</th><th>ay</th><th>az</th><th>sz_top</th><th>sz_bot</th><th>effective_speed</th><th>release_spin_rate</th><th>release_extension</th><th>release_pos_y</th><th>at_bat_number</th><th>pitch_number</th><th>bat_score</th><th>fld_score</th><th>if_fielding_alignment</th><th>of_fielding_alignment</th><th>spin_axis</th><th>n_thruorder_pitcher</th><th>n_priorpa_thisgame_player_at_bat</th><th>pitcher_days_since_prev_game</th><th>api_break_z_with_gravity</th><th>api_break_x_arm</th><th>api_break_x_batter_in</th><th>next_pitch_type (target)</th></tr><tr><td>str</td><td>str</td><td>str</td><td>f64</td><td>f64</td><td>f64</td><td>f64</td><td>str</td><td>str</td><td>f64</td><td>f64</td><td>f64</td><td>f64</td><td>f64</td><td>f64</td><td>f64</td><td>f64</td><td>f64</td><td>f64</td><td>f64</td><td>str</td><td>f64</td><td>f64</td><td>f64</td><td>f64</td><td>f64</td><td>f64</td><td>f64</td><td>f64</td><td>f64</td><td>f64</td><td>str</td><td>str</td><td>str</td><td>f64</td><td>f64</td><td>f64</td><td>f64</td><td>f64</td><td>str</td><td>str</td><td>str</td><td>f64</td><td>f64</td><td>str</td><td>f64</td><td>f64</td><td>f64</td><td>str</td></tr></thead><tbody><tr><td>&quot;count&quot;</td><td>&quot;31189&quot;</td><td>&quot;31189&quot;</td><td>31171.0</td><td>31171.0</td><td>31171.0</td><td>31171.0</td><td>&quot;31189&quot;</td><td>&quot;31189&quot;</td><td>31189.0</td><td>31189.0</td><td>31171.0</td><td>31171.0</td><td>31171.0</td><td>31171.0</td><td>1917.0</td><td>4347.0</td><td>7872.0</td><td>31189.0</td><td>31189.0</td><td>&quot;31189&quot;</td><td>4759.0</td><td>4759.0</td><td>31171.0</td><td>31171.0</td><td>31171.0</td><td>31171.0</td><td>31171.0</td><td>31171.0</td><td>31171.0</td><td>31171.0</td><td>&quot;27155&quot;</td><td>&quot;26567&quot;</td><td>&quot;27167&quot;</td><td>31171.0</td><td>31189.0</td><td>31189.0</td><td>31189.0</td><td>31189.0</td><td>&quot;26929&quot;</td><td>&quot;26929&quot;</td><td>&quot;23863&quot;</td><td>31189.0</td><td>31189.0</td><td>&quot;29633&quot;</td><td>31171.0</td><td>31171.0</td><td>31171.0</td><td>&quot;31189&quot;</td></tr><tr><td>&quot;null_count&quot;</td><td>&quot;0&quot;</td><td>&quot;0&quot;</td><td>18.0</td><td>18.0</td><td>18.0</td><td>18.0</td><td>&quot;0&quot;</td><td>&quot;0&quot;</td><td>0.0</td><td>0.0</td><td>18.0</td><td>18.0</td><td>18.0</td><td>18.0</td><td>29272.0</td><td>26842.0</td><td>23317.0</td><td>0.0</td><td>0.0</td><td>&quot;0&quot;</td><td>26430.0</td><td>26430.0</td><td>18.0</td><td>18.0</td><td>18.0</td><td>18.0</td><td>18.0</td><td>18.0</td><td>18.0</td><td>18.0</td><td>&quot;4034&quot;</td><td>&quot;4622&quot;</td><td>&quot;4022&quot;</td><td>18.0</td><td>0.0</td><td>0.0</td><td>0.0</td><td>0.0</td><td>&quot;4260&quot;</td><td>&quot;4260&quot;</td><td>&quot;7326&quot;</td><td>0.0</td><td>0.0</td><td>&quot;1556&quot;</td><td>18.0</td><td>18.0</td><td>18.0</td><td>&quot;0&quot;</td></tr><tr><td>&quot;mean&quot;</td><td>null</td><td>null</td><td>89.329813</td><td>-3.357032</td><td>5.389088</td><td>8.840332</td><td>null</td><td>null</td><td>0.809548</td><td>0.967745</td><td>-0.520915</td><td>0.693283</td><td>0.004325</td><td>2.285</td><td>547613.706312</td><td>548699.980906</td><td>546597.255716</td><td>0.988906</td><td>3.780339</td><td>null</td><td>127.259746</td><td>121.370712</td><td>9.488209</td><td>-130.012623</td><td>-2.755978</td><td>-8.475455</td><td>26.664165</td><td>-23.095389</td><td>3.414518</td><td>1.580542</td><td>null</td><td>null</td><td>null</td><td>54.422707</td><td>27.466062</td><td>2.937959</td><td>0.931963</td><td>1.765943</td><td>null</td><td>null</td><td>null</td><td>1.947033</td><td>0.915579</td><td>null</td><td>2.236901</td><td>0.520915</td><td>-0.122838</td><td>null</td></tr><tr><td>&quot;std&quot;</td><td>null</td><td>null</td><td>5.831489</td><td>0.215043</td><td>0.246292</td><td>4.266937</td><td>null</td><td>null</td><td>0.934681</td><td>0.83842</td><td>0.757298</td><td>0.658272</td><td>0.867455</td><td>0.882223</td><td>85391.467308</td><td>82973.062719</td><td>85372.77858</td><td>0.811734</td><td>2.008623</td><td>null</td><td>41.757673</td><td>42.875064</td><td>2.717139</td><td>8.463066</td><td>2.483218</td><td>8.523251</td><td>4.231466</td><td>8.140605</td><td>0.205894</td><td>0.128295</td><td>null</td><td>null</td><td>null</td><td>0.218317</td><td>16.438522</td><td>1.762867</td><td>1.270965</td><td>2.155785</td><td>null</td><td>null</td><td>null</td><td>0.840997</td><td>0.842524</td><td>null</td><td>1.043475</td><td>0.757298</td><td>0.910918</td><td>null</td></tr><tr><td>&quot;min&quot;</td><td>&quot;CH&quot;</td><td>&quot;2014-04-02&quot;</td><td>71.1</td><td>-4.1</td><td>4.45</td><td>1.0</td><td>&quot;L&quot;</td><td>&quot;R&quot;</td><td>0.0</td><td>0.0</td><td>-2.81</td><td>-1.89</td><td>-4.99</td><td>-1.58</td><td>116539.0</td><td>114739.0</td><td>114739.0</td><td>0.0</td><td>1.0</td><td>&quot;Bot&quot;</td><td>9.99</td><td>9.4</td><td>-1.88492</td><td>-145.637471</td><td>-12.320552</td><td>-27.676654</td><td>3.078948</td><td>-50.650566</td><td>2.57</td><td>0.97</td><td>&quot;70.6&quot;</td><td>&quot;1002&quot;</td><td>&quot;4.4&quot;</td><td>52.12</td><td>1.0</td><td>1.0</td><td>0.0</td><td>0.0</td><td>&quot;Infield shade&quot;</td><td>&quot;Standard&quot;</td><td>&quot;0&quot;</td><td>1.0</td><td>0.0</td><td>&quot;10&quot;</td><td>0.02</td><td>-2.12</td><td>-2.42</td><td>&quot;CH&quot;</td></tr><tr><td>&quot;25%&quot;</td><td>null</td><td>null</td><td>85.0</td><td>-3.51</td><td>5.22</td><td>5.0</td><td>null</td><td>null</td><td>0.0</td><td>0.0</td><td>-1.1</td><td>0.2</td><td>-0.57</td><td>1.72</td><td>489232.0</td><td>493351.0</td><td>473724.0</td><td>0.0</td><td>2.0</td><td>null</td><td>100.67</td><td>88.7</td><td>7.897695</td><td>-137.23199</td><td>-4.466309</td><td>-14.99</td><td>23.25</td><td>-29.914</td><td>3.28</td><td>1.5</td><td>null</td><td>null</td><td>null</td><td>54.29</td><td>13.0</td><td>1.0</td><td>0.0</td><td>0.0</td><td>null</td><td>null</td><td>null</td><td>1.0</td><td>0.0</td><td>null</td><td>1.34</td><td>-0.17</td><td>-0.96</td><td>null</td></tr><tr><td>&quot;50%&quot;</td><td>null</td><td>null</td><td>91.2</td><td>-3.35</td><td>5.39</td><td>9.0</td><td>null</td><td>null</td><td>1.0</td><td>1.0</td><td>-0.83</td><td>0.87</td><td>0.02</td><td>2.33</td><td>546318.0</td><td>543776.0</td><td>546318.0</td><td>1.0</td><td>4.0</td><td>null</td><td>127.21</td><td>121.58</td><td>9.690306</td><td>-132.820339</td><td>-2.87933</td><td>-12.194</td><td>26.695128</td><td>-21.369</td><td>3.41</td><td>1.58</td><td>null</td><td>null</td><td>null</td><td>54.5</td><td>27.0</td><td>3.0</td><td>0.0</td><td>1.0</td><td>null</td><td>null</td><td>null</td><td>2.0</td><td>1.0</td><td>null</td><td>1.83</td><td>0.83</td><td>-0.26</td><td>null</td></tr><tr><td>&quot;75%&quot;</td><td>null</td><td>null</td><td>94.4</td><td>-3.2</td><td>5.56</td><td>13.0</td><td>null</td><td>null</td><td>1.0</td><td>2.0</td><td>0.17</td><td>1.26</td><td>0.6</td><td>2.89</td><td>607054.0</td><td>607461.0</td><td>607054.0</td><td>2.0</td><td>5.0</td><td>null</td><td>155.44</td><td>157.3</td><td>11.356905</td><td>-123.670222</td><td>-1.151062</td><td>0.066069</td><td>29.989</td><td>-15.842772</td><td>3.54</td><td>1.66</td><td>null</td><td>null</td><td>null</td><td>54.5</td><td>40.0</td><td>4.0</td><td>1.0</td><td>3.0</td><td>null</td><td>null</td><td>null</td><td>3.0</td><td>2.0</td><td>null</td><td>2.98</td><td>1.1</td><td>0.81</td><td>null</td></tr><tr><td>&quot;max&quot;</td><td>&quot;other&quot;</td><td>&quot;2025-03-29&quot;</td><td>99.4</td><td>-1.91</td><td>6.65</td><td>14.0</td><td>&quot;R&quot;</td><td>&quot;R&quot;</td><td>3.0</td><td>2.0</td><td>2.12</td><td>2.64</td><td>3.99</td><td>5.96</td><td>694384.0</td><td>807799.0</td><td>807799.0</td><td>2.0</td><td>9.0</td><td>&quot;Top&quot;</td><td>246.71</td><td>224.11</td><td>18.699557</td><td>-103.45619</td><td>7.843897</td><td>17.001735</td><td>43.224</td><td>1.103051</td><td>4.5</td><td>2.22</td><td>&quot;99&quot;</td><td>&quot;982&quot;</td><td>&quot;8.4&quot;</td><td>56.11</td><td>77.0</td><td>13.0</td><td>7.0</td><td>15.0</td><td>&quot;Strategic&quot;</td><td>&quot;Strategic&quot;</td><td>&quot;99&quot;</td><td>4.0</td><td>3.0</td><td>&quot;9&quot;</td><td>5.83</td><td>2.81</td><td>2.81</td><td>&quot;other&quot;</td></tr></tbody></table></div>"
      ],
      "text/plain": [
       "shape: (9, 49)\n",
       "┌───────────┬───────────┬───────────┬───────────┬───┬───────────┬───────────┬───────────┬──────────┐\n",
       "│ statistic ┆ pitch_typ ┆ game_date ┆ release_s ┆ … ┆ api_break ┆ api_break ┆ api_break ┆ next_pit │\n",
       "│ ---       ┆ e         ┆ ---       ┆ peed      ┆   ┆ _z_with_g ┆ _x_arm    ┆ _x_batter ┆ ch_type  │\n",
       "│ str       ┆ ---       ┆ str       ┆ ---       ┆   ┆ ravity    ┆ ---       ┆ _in       ┆ (target) │\n",
       "│           ┆ str       ┆           ┆ f64       ┆   ┆ ---       ┆ f64       ┆ ---       ┆ ---      │\n",
       "│           ┆           ┆           ┆           ┆   ┆ f64       ┆           ┆ f64       ┆ str      │\n",
       "╞═══════════╪═══════════╪═══════════╪═══════════╪═══╪═══════════╪═══════════╪═══════════╪══════════╡\n",
       "│ count     ┆ 31189     ┆ 31189     ┆ 31171.0   ┆ … ┆ 31171.0   ┆ 31171.0   ┆ 31171.0   ┆ 31189    │\n",
       "│ null_coun ┆ 0         ┆ 0         ┆ 18.0      ┆ … ┆ 18.0      ┆ 18.0      ┆ 18.0      ┆ 0        │\n",
       "│ t         ┆           ┆           ┆           ┆   ┆           ┆           ┆           ┆          │\n",
       "│ mean      ┆ null      ┆ null      ┆ 89.329813 ┆ … ┆ 2.236901  ┆ 0.520915  ┆ -0.122838 ┆ null     │\n",
       "│ std       ┆ null      ┆ null      ┆ 5.831489  ┆ … ┆ 1.043475  ┆ 0.757298  ┆ 0.910918  ┆ null     │\n",
       "│ min       ┆ CH        ┆ 2014-04-0 ┆ 71.1      ┆ … ┆ 0.02      ┆ -2.12     ┆ -2.42     ┆ CH       │\n",
       "│           ┆           ┆ 2         ┆           ┆   ┆           ┆           ┆           ┆          │\n",
       "│ 25%       ┆ null      ┆ null      ┆ 85.0      ┆ … ┆ 1.34      ┆ -0.17     ┆ -0.96     ┆ null     │\n",
       "│ 50%       ┆ null      ┆ null      ┆ 91.2      ┆ … ┆ 1.83      ┆ 0.83      ┆ -0.26     ┆ null     │\n",
       "│ 75%       ┆ null      ┆ null      ┆ 94.4      ┆ … ┆ 2.98      ┆ 1.1       ┆ 0.81      ┆ null     │\n",
       "│ max       ┆ other     ┆ 2025-03-2 ┆ 99.4      ┆ … ┆ 5.83      ┆ 2.81      ┆ 2.81      ┆ other    │\n",
       "│           ┆           ┆ 9         ┆           ┆   ┆           ┆           ┆           ┆          │\n",
       "└───────────┴───────────┴───────────┴───────────┴───┴───────────┴───────────┴───────────┴──────────┘"
      ]
     },
     "execution_count": 229,
     "metadata": {},
     "output_type": "execute_result"
    }
   ],
   "source": [
    "df.describe()"
   ]
  },
  {
   "cell_type": "code",
   "execution_count": 230,
   "id": "81e1dfe2",
   "metadata": {},
   "outputs": [],
   "source": [
    "df = df.with_columns(\n",
    "    pl.col(\"stand\").cast(pl.Categorical).to_physical().alias(\"stand\"),\n",
    "    pl.col(\"p_throws\").cast(pl.Categorical).to_physical().alias(\"p_throws\"),\n",
    "    pl.col(\"inning_topbot\").cast(pl.Categorical).to_physical().alias(\"inning_topbot\"),\n",
    "    pl.col(\"effective_speed\").cast(pl.Float32).alias(\"effective_speed\"),\n",
    "    pl.col(\"release_spin_rate\").cast(pl.Float32).alias(\"release_spin_rate\"),\n",
    "    pl.col(\"release_extension\").cast(pl.Float32).alias(\"release_extension\"),\n",
    "    pl.col(\"if_fielding_alignment\")\n",
    "    .cast(pl.Categorical)\n",
    "    .to_physical()\n",
    "    .alias(\"if_fielding_alignment\"),\n",
    "    pl.col(\"of_fielding_alignment\")\n",
    "    .cast(pl.Categorical)\n",
    "    .to_physical()\n",
    "    .alias(\"of_fielding_alignment\"),\n",
    "    pl.col(\"spin_axis\").cast(pl.Float32).alias(\"spin_axis\"),\n",
    "    pl.col(\"pitcher_days_since_prev_game\")\n",
    "    .cast(pl.Float32)\n",
    "    .alias(\"pitcher_days_since_prev_game\"),\n",
    ")\n",
    "df = df.with_columns(\n",
    "    pl.col(\"pitch_type\").cast(pl.Categorical).to_physical().alias(\"pitch_type\"),\n",
    ")"
   ]
  },
  {
   "cell_type": "code",
   "execution_count": 231,
   "id": "740159c1",
   "metadata": {},
   "outputs": [],
   "source": [
    "df = df.fill_null(-1)"
   ]
  },
  {
   "cell_type": "code",
   "execution_count": 232,
   "id": "b919c8d8",
   "metadata": {},
   "outputs": [
    {
     "data": {
      "text/html": [
       "<div><style>\n",
       ".dataframe > thead > tr,\n",
       ".dataframe > tbody > tr {\n",
       "  text-align: right;\n",
       "  white-space: pre-wrap;\n",
       "}\n",
       "</style>\n",
       "<small>shape: (9, 49)</small><table border=\"1\" class=\"dataframe\"><thead><tr><th>statistic</th><th>pitch_type</th><th>game_date</th><th>release_speed</th><th>release_pos_x</th><th>release_pos_z</th><th>zone</th><th>stand</th><th>p_throws</th><th>balls</th><th>strikes</th><th>pfx_x</th><th>pfx_z</th><th>plate_x</th><th>plate_z</th><th>on_3b</th><th>on_2b</th><th>on_1b</th><th>outs_when_up</th><th>inning</th><th>inning_topbot</th><th>hc_x</th><th>hc_y</th><th>vx0</th><th>vy0</th><th>vz0</th><th>ax</th><th>ay</th><th>az</th><th>sz_top</th><th>sz_bot</th><th>effective_speed</th><th>release_spin_rate</th><th>release_extension</th><th>release_pos_y</th><th>at_bat_number</th><th>pitch_number</th><th>bat_score</th><th>fld_score</th><th>if_fielding_alignment</th><th>of_fielding_alignment</th><th>spin_axis</th><th>n_thruorder_pitcher</th><th>n_priorpa_thisgame_player_at_bat</th><th>pitcher_days_since_prev_game</th><th>api_break_z_with_gravity</th><th>api_break_x_arm</th><th>api_break_x_batter_in</th><th>next_pitch_type (target)</th></tr><tr><td>str</td><td>f64</td><td>str</td><td>f64</td><td>f64</td><td>f64</td><td>f64</td><td>f64</td><td>f64</td><td>f64</td><td>f64</td><td>f64</td><td>f64</td><td>f64</td><td>f64</td><td>f64</td><td>f64</td><td>f64</td><td>f64</td><td>f64</td><td>f64</td><td>f64</td><td>f64</td><td>f64</td><td>f64</td><td>f64</td><td>f64</td><td>f64</td><td>f64</td><td>f64</td><td>f64</td><td>f64</td><td>f64</td><td>f64</td><td>f64</td><td>f64</td><td>f64</td><td>f64</td><td>f64</td><td>f64</td><td>f64</td><td>f64</td><td>f64</td><td>f64</td><td>f64</td><td>f64</td><td>f64</td><td>f64</td><td>str</td></tr></thead><tbody><tr><td>&quot;count&quot;</td><td>31189.0</td><td>&quot;31189&quot;</td><td>31189.0</td><td>31189.0</td><td>31189.0</td><td>31189.0</td><td>31189.0</td><td>31189.0</td><td>31189.0</td><td>31189.0</td><td>31189.0</td><td>31189.0</td><td>31189.0</td><td>31189.0</td><td>31189.0</td><td>31189.0</td><td>31189.0</td><td>31189.0</td><td>31189.0</td><td>31189.0</td><td>31189.0</td><td>31189.0</td><td>31189.0</td><td>31189.0</td><td>31189.0</td><td>31189.0</td><td>31189.0</td><td>31189.0</td><td>31189.0</td><td>31189.0</td><td>31189.0</td><td>31189.0</td><td>31189.0</td><td>31189.0</td><td>31189.0</td><td>31189.0</td><td>31189.0</td><td>31189.0</td><td>31189.0</td><td>31189.0</td><td>31189.0</td><td>31189.0</td><td>31189.0</td><td>31189.0</td><td>31189.0</td><td>31189.0</td><td>31189.0</td><td>&quot;31189&quot;</td></tr><tr><td>&quot;null_count&quot;</td><td>0.0</td><td>&quot;0&quot;</td><td>0.0</td><td>0.0</td><td>0.0</td><td>0.0</td><td>0.0</td><td>0.0</td><td>0.0</td><td>0.0</td><td>0.0</td><td>0.0</td><td>0.0</td><td>0.0</td><td>0.0</td><td>0.0</td><td>0.0</td><td>0.0</td><td>0.0</td><td>0.0</td><td>0.0</td><td>0.0</td><td>0.0</td><td>0.0</td><td>0.0</td><td>0.0</td><td>0.0</td><td>0.0</td><td>0.0</td><td>0.0</td><td>0.0</td><td>0.0</td><td>0.0</td><td>0.0</td><td>0.0</td><td>0.0</td><td>0.0</td><td>0.0</td><td>0.0</td><td>0.0</td><td>0.0</td><td>0.0</td><td>0.0</td><td>0.0</td><td>0.0</td><td>0.0</td><td>0.0</td><td>&quot;0&quot;</td></tr><tr><td>&quot;mean&quot;</td><td>1.091795</td><td>null</td><td>89.277681</td><td>-3.355672</td><td>5.385401</td><td>8.834653</td><td>0.472506</td><td>0.0</td><td>0.809548</td><td>0.967745</td><td>-0.521192</td><td>0.692306</td><td>0.003745</td><td>2.283104</td><td>33657.578088</td><td>76474.781974</td><td>137958.584116</td><td>0.988906</td><td>3.780339</td><td>0.519414</td><td>18.570622</td><td>17.672039</td><td>9.482156</td><td>-129.938166</td><td>-2.754964</td><td>-8.471141</td><td>26.648199</td><td>-23.082637</td><td>3.411971</td><td>1.579053</td><td>77.283592</td><td>1967.38208</td><td>5.162012</td><td>54.390721</td><td>27.466062</td><td>2.937959</td><td>0.931963</td><td>1.765943</td><td>0.98352</td><td>-0.069736</td><td>146.267593</td><td>1.947033</td><td>0.915579</td><td>5.754465</td><td>2.235033</td><td>0.520038</td><td>-0.123344</td><td>null</td></tr><tr><td>&quot;std&quot;</td><td>1.430469</td><td>null</td><td>6.220379</td><td>0.222309</td><td>0.290121</td><td>4.272247</td><td>0.499252</td><td>0.0</td><td>0.934681</td><td>0.83842</td><td>0.757167</td><td>0.659338</td><td>0.86754</td><td>0.88549</td><td>133219.911307</td><td>192546.871901</td><td>241281.682126</td><td>0.811734</td><td>2.008623</td><td>0.499631</td><td>48.920333</td><td>47.082608</td><td>2.728009</td><td>9.010147</td><td>2.482859</td><td>8.522683</td><td>4.282103</td><td>8.155539</td><td>0.231536</td><td>0.142448</td><td>30.651947</td><td>898.30719</td><td>2.384835</td><td>1.348857</td><td>16.438522</td><td>1.762867</td><td>1.270965</td><td>2.155785</td><td>1.012008</td><td>0.445624</td><td>97.378212</td><td>0.840997</td><td>0.842524</td><td>3.971658</td><td>1.046066</td><td>0.75796</td><td>0.910899</td><td>null</td></tr><tr><td>&quot;min&quot;</td><td>0.0</td><td>&quot;2014-04-02&quot;</td><td>-1.0</td><td>-4.1</td><td>-1.0</td><td>-1.0</td><td>0.0</td><td>0.0</td><td>0.0</td><td>0.0</td><td>-2.81</td><td>-1.89</td><td>-4.99</td><td>-1.58</td><td>-1.0</td><td>-1.0</td><td>-1.0</td><td>0.0</td><td>1.0</td><td>0.0</td><td>-1.0</td><td>-1.0</td><td>-1.88492</td><td>-145.637471</td><td>-12.320552</td><td>-27.676654</td><td>-1.0</td><td>-50.650566</td><td>-1.0</td><td>-1.0</td><td>-1.0</td><td>-1.0</td><td>-1.0</td><td>-1.0</td><td>1.0</td><td>1.0</td><td>0.0</td><td>0.0</td><td>-1.0</td><td>-1.0</td><td>-1.0</td><td>1.0</td><td>0.0</td><td>-1.0</td><td>-1.0</td><td>-2.12</td><td>-2.42</td><td>&quot;CH&quot;</td></tr><tr><td>&quot;25%&quot;</td><td>0.0</td><td>null</td><td>85.0</td><td>-3.51</td><td>5.22</td><td>5.0</td><td>0.0</td><td>0.0</td><td>0.0</td><td>0.0</td><td>-1.1</td><td>0.2</td><td>-0.57</td><td>1.72</td><td>-1.0</td><td>-1.0</td><td>-1.0</td><td>0.0</td><td>2.0</td><td>0.0</td><td>-1.0</td><td>-1.0</td><td>7.89466</td><td>-137.230765</td><td>-4.465492</td><td>-14.9893</td><td>23.244028</td><td>-29.91084</td><td>3.28</td><td>1.5</td><td>83.300003</td><td>1561.0</td><td>5.8</td><td>54.29</td><td>13.0</td><td>1.0</td><td>0.0</td><td>0.0</td><td>1.0</td><td>0.0</td><td>50.0</td><td>1.0</td><td>0.0</td><td>5.0</td><td>1.34</td><td>-0.17</td><td>-0.96</td><td>null</td></tr><tr><td>&quot;50%&quot;</td><td>0.0</td><td>null</td><td>91.2</td><td>-3.35</td><td>5.39</td><td>9.0</td><td>0.0</td><td>0.0</td><td>1.0</td><td>1.0</td><td>-0.83</td><td>0.87</td><td>0.02</td><td>2.33</td><td>-1.0</td><td>-1.0</td><td>-1.0</td><td>1.0</td><td>4.0</td><td>1.0</td><td>-1.0</td><td>-1.0</td><td>9.689051</td><td>-132.805468</td><td>-2.875943</td><td>-12.19</td><td>26.692</td><td>-21.359647</td><td>3.41</td><td>1.58</td><td>87.5</td><td>2394.0</td><td>6.0</td><td>54.5</td><td>27.0</td><td>3.0</td><td>0.0</td><td>1.0</td><td>1.0</td><td>0.0</td><td>203.0</td><td>2.0</td><td>1.0</td><td>5.0</td><td>1.83</td><td>0.83</td><td>-0.26</td><td>null</td></tr><tr><td>&quot;75%&quot;</td><td>2.0</td><td>null</td><td>94.4</td><td>-3.2</td><td>5.56</td><td>13.0</td><td>1.0</td><td>0.0</td><td>1.0</td><td>2.0</td><td>0.17</td><td>1.26</td><td>0.6</td><td>2.89</td><td>-1.0</td><td>-1.0</td><td>346795.0</td><td>2.0</td><td>5.0</td><td>1.0</td><td>-1.0</td><td>-1.0</td><td>11.355857</td><td>-123.665162</td><td>-1.149172</td><td>0.064485</td><td>29.984284</td><td>-15.84</td><td>3.54</td><td>1.66</td><td>93.5</td><td>2513.0</td><td>6.2</td><td>54.5</td><td>40.0</td><td>4.0</td><td>1.0</td><td>3.0</td><td>1.0</td><td>0.0</td><td>223.0</td><td>3.0</td><td>2.0</td><td>6.0</td><td>2.98</td><td>1.1</td><td>0.81</td><td>null</td></tr><tr><td>&quot;max&quot;</td><td>5.0</td><td>&quot;2025-03-29&quot;</td><td>99.4</td><td>-1.0</td><td>6.65</td><td>14.0</td><td>1.0</td><td>0.0</td><td>3.0</td><td>2.0</td><td>2.12</td><td>2.64</td><td>3.99</td><td>5.96</td><td>694384.0</td><td>807799.0</td><td>807799.0</td><td>2.0</td><td>9.0</td><td>1.0</td><td>246.71</td><td>224.11</td><td>18.699557</td><td>-1.0</td><td>7.843897</td><td>17.001735</td><td>43.224</td><td>1.103051</td><td>4.5</td><td>2.22</td><td>99.0</td><td>3590.0</td><td>8.4</td><td>56.11</td><td>77.0</td><td>13.0</td><td>7.0</td><td>15.0</td><td>3.0</td><td>1.0</td><td>359.0</td><td>4.0</td><td>3.0</td><td>48.0</td><td>5.83</td><td>2.81</td><td>2.81</td><td>&quot;other&quot;</td></tr></tbody></table></div>"
      ],
      "text/plain": [
       "shape: (9, 49)\n",
       "┌───────────┬───────────┬───────────┬───────────┬───┬───────────┬───────────┬───────────┬──────────┐\n",
       "│ statistic ┆ pitch_typ ┆ game_date ┆ release_s ┆ … ┆ api_break ┆ api_break ┆ api_break ┆ next_pit │\n",
       "│ ---       ┆ e         ┆ ---       ┆ peed      ┆   ┆ _z_with_g ┆ _x_arm    ┆ _x_batter ┆ ch_type  │\n",
       "│ str       ┆ ---       ┆ str       ┆ ---       ┆   ┆ ravity    ┆ ---       ┆ _in       ┆ (target) │\n",
       "│           ┆ f64       ┆           ┆ f64       ┆   ┆ ---       ┆ f64       ┆ ---       ┆ ---      │\n",
       "│           ┆           ┆           ┆           ┆   ┆ f64       ┆           ┆ f64       ┆ str      │\n",
       "╞═══════════╪═══════════╪═══════════╪═══════════╪═══╪═══════════╪═══════════╪═══════════╪══════════╡\n",
       "│ count     ┆ 31189.0   ┆ 31189     ┆ 31189.0   ┆ … ┆ 31189.0   ┆ 31189.0   ┆ 31189.0   ┆ 31189    │\n",
       "│ null_coun ┆ 0.0       ┆ 0         ┆ 0.0       ┆ … ┆ 0.0       ┆ 0.0       ┆ 0.0       ┆ 0        │\n",
       "│ t         ┆           ┆           ┆           ┆   ┆           ┆           ┆           ┆          │\n",
       "│ mean      ┆ 1.091795  ┆ null      ┆ 89.277681 ┆ … ┆ 2.235033  ┆ 0.520038  ┆ -0.123344 ┆ null     │\n",
       "│ std       ┆ 1.430469  ┆ null      ┆ 6.220379  ┆ … ┆ 1.046066  ┆ 0.75796   ┆ 0.910899  ┆ null     │\n",
       "│ min       ┆ 0.0       ┆ 2014-04-0 ┆ -1.0      ┆ … ┆ -1.0      ┆ -2.12     ┆ -2.42     ┆ CH       │\n",
       "│           ┆           ┆ 2         ┆           ┆   ┆           ┆           ┆           ┆          │\n",
       "│ 25%       ┆ 0.0       ┆ null      ┆ 85.0      ┆ … ┆ 1.34      ┆ -0.17     ┆ -0.96     ┆ null     │\n",
       "│ 50%       ┆ 0.0       ┆ null      ┆ 91.2      ┆ … ┆ 1.83      ┆ 0.83      ┆ -0.26     ┆ null     │\n",
       "│ 75%       ┆ 2.0       ┆ null      ┆ 94.4      ┆ … ┆ 2.98      ┆ 1.1       ┆ 0.81      ┆ null     │\n",
       "│ max       ┆ 5.0       ┆ 2025-03-2 ┆ 99.4      ┆ … ┆ 5.83      ┆ 2.81      ┆ 2.81      ┆ other    │\n",
       "│           ┆           ┆ 9         ┆           ┆   ┆           ┆           ┆           ┆          │\n",
       "└───────────┴───────────┴───────────┴───────────┴───┴───────────┴───────────┴───────────┴──────────┘"
      ]
     },
     "execution_count": 232,
     "metadata": {},
     "output_type": "execute_result"
    }
   ],
   "source": [
    "df.describe()"
   ]
  },
  {
   "cell_type": "markdown",
   "id": "57680c18",
   "metadata": {},
   "source": [
    "## creating sequences"
   ]
  },
  {
   "cell_type": "code",
   "execution_count": 233,
   "id": "f01769fe",
   "metadata": {},
   "outputs": [],
   "source": [
    "import numpy as np"
   ]
  },
  {
   "cell_type": "code",
   "execution_count": 234,
   "id": "00d8b8c3",
   "metadata": {},
   "outputs": [],
   "source": [
    "SEQ_LEN = 10\n",
    "feature_cols.remove(\"game_date\")\n",
    "features = df[feature_cols].to_numpy()\n",
    "labels = df[\"next_pitch_type (target)\"].to_numpy()"
   ]
  },
  {
   "cell_type": "code",
   "execution_count": 235,
   "id": "150f142e",
   "metadata": {},
   "outputs": [],
   "source": [
    "X, y = [], []\n",
    "for i in range(SEQ_LEN, len(df)):\n",
    "    X.append(features[i - SEQ_LEN : i])\n",
    "    y.append(labels[i])\n",
    "X = np.array(X)\n",
    "y = np.array(y)"
   ]
  },
  {
   "cell_type": "code",
   "execution_count": 236,
   "id": "cb5f262b",
   "metadata": {},
   "outputs": [
    {
     "name": "stdout",
     "output_type": "stream",
     "text": [
      "[np.str_('CH'), np.str_('CU'), np.str_('FC'), np.str_('FF'), np.str_('SL'), np.str_('other')]\n"
     ]
    }
   ],
   "source": [
    "from sklearn.preprocessing import LabelEncoder\n",
    "\n",
    "le = LabelEncoder()\n",
    "y = le.fit_transform(y)\n",
    "class_names = list(le.classes_)\n",
    "print(class_names)"
   ]
  },
  {
   "cell_type": "markdown",
   "id": "4b9b94a6",
   "metadata": {},
   "source": [
    "## model"
   ]
  },
  {
   "cell_type": "code",
   "execution_count": 238,
   "id": "0cb98747",
   "metadata": {},
   "outputs": [
    {
     "name": "stdout",
     "output_type": "stream",
     "text": [
      "Epoch 1/30\n",
      "\u001b[1m683/683\u001b[0m \u001b[32m━━━━━━━━━━━━━━━━━━━━\u001b[0m\u001b[37m\u001b[0m \u001b[1m2s\u001b[0m 2ms/step - accuracy: 0.1174 - loss: 1.6722 - val_accuracy: 0.0466 - val_loss: 1.8685\n",
      "Epoch 2/30\n",
      "\u001b[1m683/683\u001b[0m \u001b[32m━━━━━━━━━━━━━━━━━━━━\u001b[0m\u001b[37m\u001b[0m \u001b[1m1s\u001b[0m 1ms/step - accuracy: 0.1184 - loss: 1.6472 - val_accuracy: 0.0453 - val_loss: 1.8443\n",
      "Epoch 3/30\n",
      "\u001b[1m683/683\u001b[0m \u001b[32m━━━━━━━━━━━━━━━━━━━━\u001b[0m\u001b[37m\u001b[0m \u001b[1m1s\u001b[0m 1ms/step - accuracy: 0.1256 - loss: 1.6163 - val_accuracy: 0.0984 - val_loss: 1.8091\n",
      "Epoch 4/30\n",
      "\u001b[1m683/683\u001b[0m \u001b[32m━━━━━━━━━━━━━━━━━━━━\u001b[0m\u001b[37m\u001b[0m \u001b[1m1s\u001b[0m 2ms/step - accuracy: 0.1633 - loss: 1.6267 - val_accuracy: 0.0992 - val_loss: 1.8054\n",
      "Epoch 5/30\n",
      "\u001b[1m683/683\u001b[0m \u001b[32m━━━━━━━━━━━━━━━━━━━━\u001b[0m\u001b[37m\u001b[0m \u001b[1m1s\u001b[0m 1ms/step - accuracy: 0.2405 - loss: 1.6304 - val_accuracy: 0.2232 - val_loss: 1.7608\n",
      "Epoch 6/30\n",
      "\u001b[1m683/683\u001b[0m \u001b[32m━━━━━━━━━━━━━━━━━━━━\u001b[0m\u001b[37m\u001b[0m \u001b[1m1s\u001b[0m 1ms/step - accuracy: 0.2637 - loss: 1.6143 - val_accuracy: 0.2230 - val_loss: 1.7682\n",
      "Epoch 7/30\n",
      "\u001b[1m683/683\u001b[0m \u001b[32m━━━━━━━━━━━━━━━━━━━━\u001b[0m\u001b[37m\u001b[0m \u001b[1m1s\u001b[0m 1ms/step - accuracy: 0.2695 - loss: 1.6344 - val_accuracy: 0.2219 - val_loss: 1.7723\n",
      "Epoch 8/30\n",
      "\u001b[1m683/683\u001b[0m \u001b[32m━━━━━━━━━━━━━━━━━━━━\u001b[0m\u001b[37m\u001b[0m \u001b[1m1s\u001b[0m 1ms/step - accuracy: 0.2649 - loss: 1.5895 - val_accuracy: 0.2132 - val_loss: 1.7752\n",
      "Epoch 9/30\n",
      "\u001b[1m683/683\u001b[0m \u001b[32m━━━━━━━━━━━━━━━━━━━━\u001b[0m\u001b[37m\u001b[0m \u001b[1m1s\u001b[0m 1ms/step - accuracy: 0.2518 - loss: 1.6010 - val_accuracy: 0.2104 - val_loss: 1.7764\n",
      "Epoch 10/30\n",
      "\u001b[1m683/683\u001b[0m \u001b[32m━━━━━━━━━━━━━━━━━━━━\u001b[0m\u001b[37m\u001b[0m \u001b[1m1s\u001b[0m 1ms/step - accuracy: 0.2534 - loss: 1.6199 - val_accuracy: 0.2132 - val_loss: 1.7750\n",
      "\u001b[1m147/147\u001b[0m \u001b[32m━━━━━━━━━━━━━━━━━━━━\u001b[0m\u001b[37m\u001b[0m \u001b[1m0s\u001b[0m 540us/step - accuracy: 0.1963 - loss: 1.7816\n",
      "Test  Loss: 1.7770\n",
      "Test Accuracy: 0.2044\n"
     ]
    }
   ],
   "source": [
    "import numpy as np\n",
    "import tensorflow as tf\n",
    "from sklearn.model_selection import train_test_split\n",
    "from sklearn.utils.class_weight import compute_class_weight\n",
    "\n",
    "# --- 1) Split your data (no shuffle) ---\n",
    "X_train, X_temp, y_train, y_temp = train_test_split(X, y, test_size=0.3, shuffle=False)\n",
    "X_val, X_test, y_val, y_test = train_test_split(\n",
    "    X_temp, y_temp, test_size=0.5, shuffle=False\n",
    ")\n",
    "\n",
    "# --- 2) One‐hot encode your labels ---\n",
    "num_classes = len(np.unique(y_train))\n",
    "y_train_oh = tf.keras.utils.to_categorical(y_train, num_classes)\n",
    "y_val_oh = tf.keras.utils.to_categorical(y_val, num_classes)\n",
    "y_test_oh = tf.keras.utils.to_categorical(y_test, num_classes)\n",
    "\n",
    "# --- 3) Compute class‐weights ---\n",
    "#    so that minority classes get proportionally larger loss weights\n",
    "integer_train_labels = np.argmax(y_train_oh, axis=1)\n",
    "class_weights_array = compute_class_weight(\n",
    "    class_weight=\"balanced\", classes=np.arange(num_classes), y=integer_train_labels\n",
    ")\n",
    "class_weight_dict = dict(enumerate(class_weights_array))\n",
    "\n",
    "# --- 4) Build tf.data pipelines (optional but efficient) ---\n",
    "batch_size = 32\n",
    "train_ds = (\n",
    "    tf.data.Dataset.from_tensor_slices((X_train, y_train_oh))\n",
    "    .shuffle(5000)\n",
    "    .batch(batch_size)\n",
    "    .prefetch(tf.data.AUTOTUNE)\n",
    ")\n",
    "val_ds = (\n",
    "    tf.data.Dataset.from_tensor_slices((X_val, y_val_oh))\n",
    "    .batch(batch_size)\n",
    "    .prefetch(tf.data.AUTOTUNE)\n",
    ")\n",
    "test_ds = (\n",
    "    tf.data.Dataset.from_tensor_slices((X_test, y_test_oh))\n",
    "    .batch(batch_size)\n",
    "    .prefetch(tf.data.AUTOTUNE)\n",
    ")\n",
    "\n",
    "# --- 5) Revised Model: Bidirectional, Stacked LSTM ---\n",
    "seq_len, num_feats = X_train.shape[1], X_train.shape[2]\n",
    "\n",
    "model = tf.keras.Sequential(\n",
    "    [\n",
    "        tf.keras.layers.Input(shape=(seq_len, num_feats)),\n",
    "        tf.keras.layers.LSTM(16),\n",
    "        tf.keras.layers.Dense(num_classes, activation=\"softmax\"),\n",
    "    ]\n",
    ")\n",
    "\n",
    "# --- 6) Compile with gradient clipping ---\n",
    "opt = tf.keras.optimizers.Adam(learning_rate=1e-4, clipnorm=1.0)\n",
    "model.compile(loss=\"categorical_crossentropy\", optimizer=opt, metrics=[\"accuracy\"])\n",
    "\n",
    "# model.summary()\n",
    "\n",
    "# --- 7) Train with early stopping and class‐weights ---\n",
    "es = tf.keras.callbacks.EarlyStopping(\n",
    "    monitor=\"val_loss\", patience=5, restore_best_weights=True\n",
    ")\n",
    "\n",
    "history = model.fit(\n",
    "    train_ds,\n",
    "    validation_data=val_ds,\n",
    "    epochs=30,\n",
    "    class_weight=class_weight_dict,\n",
    "    callbacks=[es],\n",
    ")\n",
    "\n",
    "# --- 8) Final evaluation on test data ---\n",
    "test_loss, test_acc = model.evaluate(test_ds, verbose=1)\n",
    "print(f\"Test  Loss: {test_loss:.4f}\")\n",
    "print(f\"Test Accuracy: {test_acc:.4f}\")\n"
   ]
  },
  {
   "cell_type": "code",
   "execution_count": 239,
   "id": "e5947c43",
   "metadata": {},
   "outputs": [
    {
     "name": "stdout",
     "output_type": "stream",
     "text": [
      "=== Validation Classification Report ===\n",
      "              precision    recall  f1-score   support\n",
      "\n",
      "          CH       0.14      0.12      0.13       676\n",
      "          CU       0.13      0.05      0.07       447\n",
      "          FC       0.10      0.52      0.17       460\n",
      "          FF       0.47      0.31      0.37      2154\n",
      "          SL       0.22      0.05      0.08       940\n",
      "       other       0.00      0.00      0.00         0\n",
      "\n",
      "    accuracy                           0.22      4677\n",
      "   macro avg       0.18      0.17      0.14      4677\n",
      "weighted avg       0.30      0.22      0.23      4677\n",
      "\n",
      "Confusion matrix:\n",
      " [[  81   24  307  225   33    6]\n",
      " [  40   23  240  120   24    0]\n",
      " [  51   16  238  136   17    2]\n",
      " [ 272   85 1036  658   79   24]\n",
      " [ 122   35  451  275   44   13]\n",
      " [   0    0    0    0    0    0]]\n",
      "Top-2 Accuracy: 0.3729\n"
     ]
    },
    {
     "name": "stderr",
     "output_type": "stream",
     "text": [
      "/Users/nicocarbone/Documents/dev/PitchPredict/.venv/lib/python3.12/site-packages/sklearn/metrics/_classification.py:1565: UndefinedMetricWarning: Recall is ill-defined and being set to 0.0 in labels with no true samples. Use `zero_division` parameter to control this behavior.\n",
      "  _warn_prf(average, modifier, f\"{metric.capitalize()} is\", len(result))\n",
      "/Users/nicocarbone/Documents/dev/PitchPredict/.venv/lib/python3.12/site-packages/sklearn/metrics/_classification.py:1565: UndefinedMetricWarning: Recall is ill-defined and being set to 0.0 in labels with no true samples. Use `zero_division` parameter to control this behavior.\n",
      "  _warn_prf(average, modifier, f\"{metric.capitalize()} is\", len(result))\n",
      "/Users/nicocarbone/Documents/dev/PitchPredict/.venv/lib/python3.12/site-packages/sklearn/metrics/_classification.py:1565: UndefinedMetricWarning: Recall is ill-defined and being set to 0.0 in labels with no true samples. Use `zero_division` parameter to control this behavior.\n",
      "  _warn_prf(average, modifier, f\"{metric.capitalize()} is\", len(result))\n"
     ]
    },
    {
     "name": "stdout",
     "output_type": "stream",
     "text": [
      "\n",
      "=== Test Classification Report ===\n",
      "              precision    recall  f1-score   support\n",
      "\n",
      "          CH       0.12      0.10      0.11       622\n",
      "          CU       0.09      0.03      0.04       561\n",
      "          FC       0.10      0.52      0.16       441\n",
      "          FF       0.46      0.28      0.35      2142\n",
      "          SL       0.18      0.06      0.09       911\n",
      "       other       0.00      0.00      0.00         0\n",
      "\n",
      "    accuracy                           0.20      4677\n",
      "   macro avg       0.16      0.16      0.12      4677\n",
      "weighted avg       0.28      0.20      0.21      4677\n",
      "\n",
      "Test Accuracy: 0.20440453282018387\n",
      "Test Confusion matrix:\n",
      " [[  60   19  309  189   36    9]\n",
      " [  59   16  281  153   43    9]\n",
      " [  40   21  228  118   26    8]\n",
      " [ 238   87 1060  601  123   33]\n",
      " [  88   42  459  249   51   22]\n",
      " [   0    0    0    0    0    0]]\n",
      "Test Top-2 Accuracy: 0.3592\n"
     ]
    },
    {
     "name": "stderr",
     "output_type": "stream",
     "text": [
      "/Users/nicocarbone/Documents/dev/PitchPredict/.venv/lib/python3.12/site-packages/sklearn/metrics/_classification.py:1565: UndefinedMetricWarning: Recall is ill-defined and being set to 0.0 in labels with no true samples. Use `zero_division` parameter to control this behavior.\n",
      "  _warn_prf(average, modifier, f\"{metric.capitalize()} is\", len(result))\n",
      "/Users/nicocarbone/Documents/dev/PitchPredict/.venv/lib/python3.12/site-packages/sklearn/metrics/_classification.py:1565: UndefinedMetricWarning: Recall is ill-defined and being set to 0.0 in labels with no true samples. Use `zero_division` parameter to control this behavior.\n",
      "  _warn_prf(average, modifier, f\"{metric.capitalize()} is\", len(result))\n",
      "/Users/nicocarbone/Documents/dev/PitchPredict/.venv/lib/python3.12/site-packages/sklearn/metrics/_classification.py:1565: UndefinedMetricWarning: Recall is ill-defined and being set to 0.0 in labels with no true samples. Use `zero_division` parameter to control this behavior.\n",
      "  _warn_prf(average, modifier, f\"{metric.capitalize()} is\", len(result))\n"
     ]
    }
   ],
   "source": [
    "import numpy as np\n",
    "from sklearn.metrics import (\n",
    "    confusion_matrix,\n",
    "    classification_report,\n",
    "    accuracy_score,\n",
    ")\n",
    "\n",
    "\n",
    "# 1) Gather true labels and preds from a tf.data.Dataset\n",
    "def dataset_to_arrays(ds):\n",
    "    \"\"\"Extract (X_batch, y_batch) from a batched tf.data.Dataset of (X, one-hot y).\"\"\"\n",
    "    ys_true = []\n",
    "    ys_pred = []\n",
    "    for Xb, yb in ds:\n",
    "        # model.predict returns (batch, num_classes) probs\n",
    "        probs = model.predict(Xb, verbose=0)\n",
    "        ys_true.append(np.argmax(yb.numpy(), axis=1))\n",
    "        ys_pred.append(np.argmax(probs, axis=1))\n",
    "    return (\n",
    "        np.concatenate(ys_true),\n",
    "        np.concatenate(ys_pred),\n",
    "        np.concatenate([model.predict(Xb, verbose=0) for Xb, _ in ds]),\n",
    "    )\n",
    "\n",
    "\n",
    "# Validation\n",
    "y_val_true, y_val_pred, y_val_probs = dataset_to_arrays(val_ds)\n",
    "\n",
    "from sklearn.metrics import classification_report, confusion_matrix\n",
    "\n",
    "# Suppose your classes are 0,1,2,3,4  (i.e. le.classes_.shape == 5)\n",
    "labels = list(range(len(class_names)))  # [0,1,2,3,4]\n",
    "\n",
    "print(\"=== Validation Classification Report ===\")\n",
    "print(\n",
    "    classification_report(\n",
    "        y_val_true, y_val_pred, labels=labels, target_names=class_names\n",
    "    )\n",
    ")\n",
    "\n",
    "cm = confusion_matrix(y_val_true, y_val_pred, labels=labels)\n",
    "print(\"Confusion matrix:\\n\", cm)\n",
    "\n",
    "\n",
    "# Top-2 accuracy\n",
    "top2_preds = np.argsort(y_val_probs, axis=1)[:, -2:]\n",
    "top2_acc = np.mean([y_val_true[i] in top2_preds[i] for i in range(len(y_val_true))])\n",
    "print(f\"Top-2 Accuracy: {top2_acc:.4f}\")\n",
    "\n",
    "# 2) Repeat on Test set\n",
    "y_test_true, y_test_pred, y_test_probs = dataset_to_arrays(test_ds)\n",
    "\n",
    "print(\"\\n=== Test Classification Report ===\")\n",
    "print(\n",
    "    classification_report(\n",
    "        y_test_true, y_test_pred, labels=labels, target_names=class_names\n",
    "    )\n",
    ")\n",
    "print(\"Test Accuracy:\", accuracy_score(y_test_true, y_test_pred))\n",
    "\n",
    "cm_test = confusion_matrix(y_test_true, y_test_pred)\n",
    "print(\"Test Confusion matrix:\\n\", cm_test)\n",
    "\n",
    "top2_test = np.argsort(y_test_probs, axis=1)[:, -2:]\n",
    "top2_test_acc = np.mean(\n",
    "    [y_test_true[i] in top2_test[i] for i in range(len(y_test_true))]\n",
    ")\n",
    "print(f\"Test Top-2 Accuracy: {top2_test_acc:.4f}\")\n"
   ]
  }
 ],
 "metadata": {
  "kernelspec": {
   "display_name": ".venv",
   "language": "python",
   "name": "python3"
  },
  "language_info": {
   "codemirror_mode": {
    "name": "ipython",
    "version": 3
   },
   "file_extension": ".py",
   "mimetype": "text/x-python",
   "name": "python",
   "nbconvert_exporter": "python",
   "pygments_lexer": "ipython3",
   "version": "3.12.7"
  }
 },
 "nbformat": 4,
 "nbformat_minor": 5
}
